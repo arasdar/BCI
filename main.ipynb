{
 "cells": [
  {
   "cell_type": "markdown",
   "metadata": {},
   "source": [
    "# HAR (human activity recognition) using DNN/DL on fNIRS data"
   ]
  },
  {
   "cell_type": "code",
   "execution_count": 1,
   "metadata": {},
   "outputs": [
    {
     "name": "stdout",
     "output_type": "stream",
     "text": [
      "\u001b[0m\u001b[01;34mP11-4-17-2018\u001b[0m/  \u001b[01;34mP13-4-17-2018\u001b[0m/  \u001b[01;34mP15-4-18-2018\u001b[0m/  \u001b[01;34mP17-4-18-2018\u001b[0m/  \u001b[01;34mP19-4-19-2018\u001b[0m/\r\n",
      "\u001b[01;34mP12-4-17-2018\u001b[0m/  \u001b[01;34mP14-4-18-2018\u001b[0m/  \u001b[01;34mP16-4-18-2018\u001b[0m/  \u001b[01;34mP18-4-19-2018\u001b[0m/  \u001b[01;34mP20-4-19-2018\u001b[0m/\r\n"
     ]
    }
   ],
   "source": [
    "% ls ./data/"
   ]
  },
  {
   "cell_type": "code",
   "execution_count": 2,
   "metadata": {},
   "outputs": [
    {
     "name": "stdout",
     "output_type": "stream",
     "text": [
      "\u001b[0m\u001b[01;34m1. Right Hand\u001b[0m/  \u001b[01;34m2. Both Hands\u001b[0m/  \u001b[01;34m3. Left Hand\u001b[0m/  \u001b[01;34m4. Right Leg\u001b[0m/  \u001b[01;34m5. Left Leg\u001b[0m/\r\n"
     ]
    }
   ],
   "source": [
    "% ls ./data/P12-4-17-2018/"
   ]
  },
  {
   "cell_type": "code",
   "execution_count": 3,
   "metadata": {},
   "outputs": [
    {
     "name": "stdout",
     "output_type": "stream",
     "text": [
      "fNIR_data.txt\r\n",
      "head20180417-145130.txt\r\n",
      "NIRS-2018-04-17_006_deoxyhb_T141to2511_C1to20.txt\r\n",
      "NIRS-2018-04-17_006_oxyhb_T141to2511_C1to20.txt\r\n",
      "r_hand20180417-145128.txt\r\n",
      "r_lower_arm20180417-145129.txt\r\n",
      "r_upper_arm20180417-145129.txt\r\n"
     ]
    }
   ],
   "source": [
    "% ls ./data/P12-4-17-2018/1.\\ Right\\ Hand"
   ]
  },
  {
   "cell_type": "code",
   "execution_count": 4,
   "metadata": {},
   "outputs": [
    {
     "data": {
      "text/plain": [
       "(['./data/P11-4-17-2018/1. Right Hand/fNIR_data.txt',\n",
       "  './data/P11-4-17-2018/2. Both Hands/fNIR_data.txt',\n",
       "  './data/P11-4-17-2018/3. Left hand/fNIR_data.txt',\n",
       "  './data/P11-4-17-2018/5. Left Leg/fNIR_data.txt',\n",
       "  './data/P12-4-17-2018/1. Right Hand/fNIR_data.txt',\n",
       "  './data/P12-4-17-2018/2. Both Hands/fNIR_data.txt',\n",
       "  './data/P12-4-17-2018/3. Left Hand/fNIR_data.txt',\n",
       "  './data/P12-4-17-2018/4. Right Leg/fNIR_data.txt',\n",
       "  './data/P12-4-17-2018/5. Left Leg/fNIR_data.txt',\n",
       "  './data/P13-4-17-2018/1. Right Hand/fNIR_data.txt',\n",
       "  './data/P13-4-17-2018/2. Both Hands/fNIR_data.txt',\n",
       "  './data/P13-4-17-2018/3. Left Hand/fNIR_data.txt',\n",
       "  './data/P13-4-17-2018/4. Right Leg/fNIR_data.txt',\n",
       "  './data/P13-4-17-2018/5. Left Leg/fNIR_data.txt',\n",
       "  './data/P14-4-18-2018/1. Right Hand/fNIR_data.txt',\n",
       "  './data/P14-4-18-2018/2. Both Hands/fNIR_data.txt',\n",
       "  './data/P14-4-18-2018/3. Left Hand/fNIR_data.txt',\n",
       "  './data/P14-4-18-2018/4. Right Leg/fNIR_data.txt',\n",
       "  './data/P14-4-18-2018/5. Left Leg/fNIR_data.txt',\n",
       "  './data/P15-4-18-2018/1. Right Hand/fNIR_data.txt',\n",
       "  './data/P15-4-18-2018/2. Both Hands/fNIR_data.txt',\n",
       "  './data/P15-4-18-2018/3. Left Hand/fNIR_data.txt',\n",
       "  './data/P15-4-18-2018/4. Right Leg/fNIR_data.txt',\n",
       "  './data/P15-4-18-2018/5. Left Leg/fNIR_data.txt',\n",
       "  './data/P16-4-18-2018/1. Right Hand/fNIR_data.txt',\n",
       "  './data/P16-4-18-2018/2. Both Hands/fNIR_data.txt',\n",
       "  './data/P16-4-18-2018/3. Left Hand/fNIR_data.txt',\n",
       "  './data/P16-4-18-2018/4. Right Leg/fNIR_data.txt',\n",
       "  './data/P16-4-18-2018/5. Left Leg/fNIR_data.txt',\n",
       "  './data/P17-4-18-2018/1. Right Hand/fNIR_data.txt',\n",
       "  './data/P17-4-18-2018/2. Both Hands/fNIR_data.txt',\n",
       "  './data/P17-4-18-2018/3. Left Hand/fNIR_data.txt',\n",
       "  './data/P17-4-18-2018/4. Right Leg/fNIR_data.txt',\n",
       "  './data/P17-4-18-2018/5. Left Leg/fNIR_data.txt',\n",
       "  './data/P18-4-19-2018/1. Right Hand/fNIR_data.txt',\n",
       "  './data/P18-4-19-2018/2. Both Hands/fNIR_data.txt',\n",
       "  './data/P18-4-19-2018/3. Left Hand/fNIR_data.txt',\n",
       "  './data/P18-4-19-2018/4. Right Leg/fNIR_data.txt',\n",
       "  './data/P18-4-19-2018/5. Left Leg/fNIR_data.txt',\n",
       "  './data/P19-4-19-2018/1. Right Hand/fNIR_data.txt',\n",
       "  './data/P19-4-19-2018/2. Both Hands/fNIR_data.txt',\n",
       "  './data/P19-4-19-2018/3. Left Hand/fNIR_data.txt',\n",
       "  './data/P19-4-19-2018/4. Right Leg/fNIR_data.txt',\n",
       "  './data/P19-4-19-2018/5. Left Leg/fNIR_data.txt',\n",
       "  './data/P20-4-19-2018/1. Right Hand/fNIR_data.txt',\n",
       "  './data/P20-4-19-2018/2. Both Hands/fNIR_data.txt',\n",
       "  './data/P20-4-19-2018/3. Left Hand/fNIR_data.txt',\n",
       "  './data/P20-4-19-2018/5. Left Leg/fNIR_data.txt'],\n",
       " 48)"
      ]
     },
     "execution_count": 4,
     "metadata": {},
     "output_type": "execute_result"
    }
   ],
   "source": [
    "import numpy as np\n",
    "import os\n",
    "import pandas as pd\n",
    "\n",
    "# % find ../../datasets/fNIRs_data/ | grep fNIR_data # NOT WORKING!!\n",
    "def find_all(name, path):\n",
    "    result = []\n",
    "    for root, dirs, files in os.walk(path):\n",
    "        if name in files:\n",
    "            result.append(os.path.join(root, name))\n",
    "    return result\n",
    "\n",
    "allpaths = find_all(name='fNIR_data.txt', path='./data/')\n",
    "allpaths = sorted(allpaths, reverse=False)\n",
    "# print(allpaths, len(allpaths))\n",
    "allpaths, len(allpaths)"
   ]
  },
  {
   "cell_type": "code",
   "execution_count": 5,
   "metadata": {},
   "outputs": [
    {
     "name": "stderr",
     "output_type": "stream",
     "text": [
      "/home/arasdar/anaconda3/envs/env/lib/python3.6/site-packages/pandas/io/parsers.py:678: UserWarning: Duplicate names specified. This will raise an error in the future.\n",
      "  return _read(filepath_or_buffer, kwds)\n"
     ]
    },
    {
     "name": "stdout",
     "output_type": "stream",
     "text": [
      "(2388, 42) ./data/P11-4-17-2018/1. Right Hand/fNIR_data.txt\n",
      "(1244, 42) ./data/P11-4-17-2018/2. Both Hands/fNIR_data.txt\n",
      "(2389, 42) ./data/P11-4-17-2018/3. Left hand/fNIR_data.txt\n",
      "(1201, 42) ./data/P11-4-17-2018/5. Left Leg/fNIR_data.txt\n",
      "(2372, 42) ./data/P12-4-17-2018/1. Right Hand/fNIR_data.txt\n",
      "(1210, 42) ./data/P12-4-17-2018/2. Both Hands/fNIR_data.txt\n",
      "(2378, 42) ./data/P12-4-17-2018/3. Left Hand/fNIR_data.txt\n",
      "(1202, 42) ./data/P12-4-17-2018/4. Right Leg/fNIR_data.txt\n",
      "(1222, 42) ./data/P12-4-17-2018/5. Left Leg/fNIR_data.txt\n",
      "(2405, 42) ./data/P13-4-17-2018/1. Right Hand/fNIR_data.txt\n",
      "(1196, 42) ./data/P13-4-17-2018/2. Both Hands/fNIR_data.txt\n",
      "(2380, 42) ./data/P13-4-17-2018/3. Left Hand/fNIR_data.txt\n",
      "(1203, 42) ./data/P13-4-17-2018/4. Right Leg/fNIR_data.txt\n",
      "(1242, 42) ./data/P13-4-17-2018/5. Left Leg/fNIR_data.txt\n",
      "(2373, 42) ./data/P14-4-18-2018/1. Right Hand/fNIR_data.txt\n",
      "(1202, 42) ./data/P14-4-18-2018/2. Both Hands/fNIR_data.txt\n",
      "(2386, 42) ./data/P14-4-18-2018/3. Left Hand/fNIR_data.txt\n",
      "(1196, 42) ./data/P14-4-18-2018/4. Right Leg/fNIR_data.txt\n",
      "(1229, 42) ./data/P14-4-18-2018/5. Left Leg/fNIR_data.txt\n",
      "(2387, 42) ./data/P15-4-18-2018/1. Right Hand/fNIR_data.txt\n",
      "(1224, 42) ./data/P15-4-18-2018/2. Both Hands/fNIR_data.txt\n",
      "(2379, 42) ./data/P15-4-18-2018/3. Left Hand/fNIR_data.txt\n",
      "(1230, 42) ./data/P15-4-18-2018/4. Right Leg/fNIR_data.txt\n",
      "(1227, 42) ./data/P15-4-18-2018/5. Left Leg/fNIR_data.txt\n",
      "(2384, 42) ./data/P16-4-18-2018/1. Right Hand/fNIR_data.txt\n",
      "(1230, 42) ./data/P16-4-18-2018/2. Both Hands/fNIR_data.txt\n",
      "(2375, 42) ./data/P16-4-18-2018/3. Left Hand/fNIR_data.txt\n",
      "(1196, 42) ./data/P16-4-18-2018/4. Right Leg/fNIR_data.txt\n",
      "(1197, 42) ./data/P16-4-18-2018/5. Left Leg/fNIR_data.txt\n",
      "(2373, 42) ./data/P17-4-18-2018/1. Right Hand/fNIR_data.txt\n",
      "(1220, 42) ./data/P17-4-18-2018/2. Both Hands/fNIR_data.txt\n",
      "(2372, 42) ./data/P17-4-18-2018/3. Left Hand/fNIR_data.txt\n",
      "(1223, 42) ./data/P17-4-18-2018/4. Right Leg/fNIR_data.txt\n",
      "(1222, 42) ./data/P17-4-18-2018/5. Left Leg/fNIR_data.txt\n",
      "(2395, 42) ./data/P18-4-19-2018/1. Right Hand/fNIR_data.txt\n",
      "(1201, 42) ./data/P18-4-19-2018/2. Both Hands/fNIR_data.txt\n",
      "(2379, 42) ./data/P18-4-19-2018/3. Left Hand/fNIR_data.txt\n",
      "(1197, 42) ./data/P18-4-19-2018/4. Right Leg/fNIR_data.txt\n",
      "(1196, 42) ./data/P18-4-19-2018/5. Left Leg/fNIR_data.txt\n",
      "(2372, 42) ./data/P19-4-19-2018/1. Right Hand/fNIR_data.txt\n",
      "(1194, 42) ./data/P19-4-19-2018/2. Both Hands/fNIR_data.txt\n",
      "(2383, 42) ./data/P19-4-19-2018/3. Left Hand/fNIR_data.txt\n",
      "(1196, 42) ./data/P19-4-19-2018/4. Right Leg/fNIR_data.txt\n",
      "(1227, 42) ./data/P19-4-19-2018/5. Left Leg/fNIR_data.txt\n",
      "(2381, 42) ./data/P20-4-19-2018/1. Right Hand/fNIR_data.txt\n",
      "(1198, 42) ./data/P20-4-19-2018/2. Both Hands/fNIR_data.txt\n",
      "(2431, 42) ./data/P20-4-19-2018/3. Left Hand/fNIR_data.txt\n",
      "(1208, 42) ./data/P20-4-19-2018/5. Left Leg/fNIR_data.txt\n",
      "Number of input files: 48\n"
     ]
    }
   ],
   "source": [
    "# df: data frame object\n",
    "df = []\n",
    "for each_idx in range(len(allpaths)):\n",
    "    file = pd.read_csv(filepath_or_buffer=allpaths[each_idx], names=['time', 'sample', \n",
    "                       'channel', 'channel', 'channel', 'channel', 'channel',\n",
    "                       'channel', 'channel', 'channel', 'channel', 'channel',\n",
    "                       'channel', 'channel', 'channel', 'channel', 'channel',\n",
    "                       'channel', 'channel', 'channel', 'channel', 'channel',\n",
    "                       'channel', 'channel', 'channel', 'channel', 'channel',\n",
    "                       'channel', 'channel', 'channel', 'channel', 'channel',\n",
    "                       'channel', 'channel', 'channel', 'channel', 'channel',\n",
    "                       'channel', 'channel', 'channel', 'channel', 'channel'],\n",
    "                         header=None)\n",
    "    df.append(file)\n",
    "    \n",
    "for each in range(len(df)):\n",
    "    print(df[each].shape, allpaths[each])\n",
    "    df[each]=df[each].drop(axis=1, columns=None, index=None, labels=['time', 'sample'])\n",
    "    df[each] = df[each].dropna()\n",
    "    df[each]['channel.39'] = df[each]['channel.39'].astype(str).str[1:-1].astype(float)\n",
    "print('Number of input files:', len(df))"
   ]
  },
  {
   "cell_type": "code",
   "execution_count": 6,
   "metadata": {},
   "outputs": [
    {
     "name": "stdout",
     "output_type": "stream",
     "text": [
      "data: float64 (2387, 40) ./data/P11-4-17-2018/1. Right Hand/fNIR_data.txt\n",
      "label: 1 ./data/P11-4-17-2018/1. Right Hand/fNIR_data.txt\n",
      "data: float64 (1243, 40) ./data/P11-4-17-2018/2. Both Hands/fNIR_data.txt\n",
      "label: 2 ./data/P11-4-17-2018/2. Both Hands/fNIR_data.txt\n",
      "data: float64 (2388, 40) ./data/P11-4-17-2018/3. Left hand/fNIR_data.txt\n",
      "label: 3 ./data/P11-4-17-2018/3. Left hand/fNIR_data.txt\n",
      "data: float64 (1200, 40) ./data/P11-4-17-2018/5. Left Leg/fNIR_data.txt\n",
      "label: 5 ./data/P11-4-17-2018/5. Left Leg/fNIR_data.txt\n",
      "data: float64 (2371, 40) ./data/P12-4-17-2018/1. Right Hand/fNIR_data.txt\n",
      "label: 1 ./data/P12-4-17-2018/1. Right Hand/fNIR_data.txt\n",
      "data: float64 (1209, 40) ./data/P12-4-17-2018/2. Both Hands/fNIR_data.txt\n",
      "label: 2 ./data/P12-4-17-2018/2. Both Hands/fNIR_data.txt\n",
      "data: float64 (2377, 40) ./data/P12-4-17-2018/3. Left Hand/fNIR_data.txt\n",
      "label: 3 ./data/P12-4-17-2018/3. Left Hand/fNIR_data.txt\n",
      "data: float64 (1201, 40) ./data/P12-4-17-2018/4. Right Leg/fNIR_data.txt\n",
      "label: 4 ./data/P12-4-17-2018/4. Right Leg/fNIR_data.txt\n",
      "data: float64 (1221, 40) ./data/P12-4-17-2018/5. Left Leg/fNIR_data.txt\n",
      "label: 5 ./data/P12-4-17-2018/5. Left Leg/fNIR_data.txt\n",
      "data: float64 (2404, 40) ./data/P13-4-17-2018/1. Right Hand/fNIR_data.txt\n",
      "label: 1 ./data/P13-4-17-2018/1. Right Hand/fNIR_data.txt\n",
      "data: float64 (1195, 40) ./data/P13-4-17-2018/2. Both Hands/fNIR_data.txt\n",
      "label: 2 ./data/P13-4-17-2018/2. Both Hands/fNIR_data.txt\n",
      "data: float64 (2379, 40) ./data/P13-4-17-2018/3. Left Hand/fNIR_data.txt\n",
      "label: 3 ./data/P13-4-17-2018/3. Left Hand/fNIR_data.txt\n",
      "data: float64 (1202, 40) ./data/P13-4-17-2018/4. Right Leg/fNIR_data.txt\n",
      "label: 4 ./data/P13-4-17-2018/4. Right Leg/fNIR_data.txt\n",
      "data: float64 (1241, 40) ./data/P13-4-17-2018/5. Left Leg/fNIR_data.txt\n",
      "label: 5 ./data/P13-4-17-2018/5. Left Leg/fNIR_data.txt\n",
      "data: float64 (2372, 40) ./data/P14-4-18-2018/1. Right Hand/fNIR_data.txt\n",
      "label: 1 ./data/P14-4-18-2018/1. Right Hand/fNIR_data.txt\n",
      "data: float64 (1201, 40) ./data/P14-4-18-2018/2. Both Hands/fNIR_data.txt\n",
      "label: 2 ./data/P14-4-18-2018/2. Both Hands/fNIR_data.txt\n",
      "data: float64 (2385, 40) ./data/P14-4-18-2018/3. Left Hand/fNIR_data.txt\n",
      "label: 3 ./data/P14-4-18-2018/3. Left Hand/fNIR_data.txt\n",
      "data: float64 (1195, 40) ./data/P14-4-18-2018/4. Right Leg/fNIR_data.txt\n",
      "label: 4 ./data/P14-4-18-2018/4. Right Leg/fNIR_data.txt\n",
      "data: float64 (1228, 40) ./data/P14-4-18-2018/5. Left Leg/fNIR_data.txt\n",
      "label: 5 ./data/P14-4-18-2018/5. Left Leg/fNIR_data.txt\n",
      "data: float64 (2386, 40) ./data/P15-4-18-2018/1. Right Hand/fNIR_data.txt\n",
      "label: 1 ./data/P15-4-18-2018/1. Right Hand/fNIR_data.txt\n",
      "data: float64 (1223, 40) ./data/P15-4-18-2018/2. Both Hands/fNIR_data.txt\n",
      "label: 2 ./data/P15-4-18-2018/2. Both Hands/fNIR_data.txt\n",
      "data: float64 (2378, 40) ./data/P15-4-18-2018/3. Left Hand/fNIR_data.txt\n",
      "label: 3 ./data/P15-4-18-2018/3. Left Hand/fNIR_data.txt\n",
      "data: float64 (1229, 40) ./data/P15-4-18-2018/4. Right Leg/fNIR_data.txt\n",
      "label: 4 ./data/P15-4-18-2018/4. Right Leg/fNIR_data.txt\n",
      "data: float64 (1226, 40) ./data/P15-4-18-2018/5. Left Leg/fNIR_data.txt\n",
      "label: 5 ./data/P15-4-18-2018/5. Left Leg/fNIR_data.txt\n",
      "data: float64 (2383, 40) ./data/P16-4-18-2018/1. Right Hand/fNIR_data.txt\n",
      "label: 1 ./data/P16-4-18-2018/1. Right Hand/fNIR_data.txt\n",
      "data: float64 (1229, 40) ./data/P16-4-18-2018/2. Both Hands/fNIR_data.txt\n",
      "label: 2 ./data/P16-4-18-2018/2. Both Hands/fNIR_data.txt\n",
      "data: float64 (2374, 40) ./data/P16-4-18-2018/3. Left Hand/fNIR_data.txt\n",
      "label: 3 ./data/P16-4-18-2018/3. Left Hand/fNIR_data.txt\n",
      "data: float64 (1195, 40) ./data/P16-4-18-2018/4. Right Leg/fNIR_data.txt\n",
      "label: 4 ./data/P16-4-18-2018/4. Right Leg/fNIR_data.txt\n",
      "data: float64 (1196, 40) ./data/P16-4-18-2018/5. Left Leg/fNIR_data.txt\n",
      "label: 5 ./data/P16-4-18-2018/5. Left Leg/fNIR_data.txt\n",
      "data: float64 (2372, 40) ./data/P17-4-18-2018/1. Right Hand/fNIR_data.txt\n",
      "label: 1 ./data/P17-4-18-2018/1. Right Hand/fNIR_data.txt\n",
      "data: float64 (1219, 40) ./data/P17-4-18-2018/2. Both Hands/fNIR_data.txt\n",
      "label: 2 ./data/P17-4-18-2018/2. Both Hands/fNIR_data.txt\n",
      "data: float64 (2371, 40) ./data/P17-4-18-2018/3. Left Hand/fNIR_data.txt\n",
      "label: 3 ./data/P17-4-18-2018/3. Left Hand/fNIR_data.txt\n",
      "data: float64 (1222, 40) ./data/P17-4-18-2018/4. Right Leg/fNIR_data.txt\n",
      "label: 4 ./data/P17-4-18-2018/4. Right Leg/fNIR_data.txt\n",
      "data: float64 (1221, 40) ./data/P17-4-18-2018/5. Left Leg/fNIR_data.txt\n",
      "label: 5 ./data/P17-4-18-2018/5. Left Leg/fNIR_data.txt\n",
      "data: float64 (2394, 40) ./data/P18-4-19-2018/1. Right Hand/fNIR_data.txt\n",
      "label: 1 ./data/P18-4-19-2018/1. Right Hand/fNIR_data.txt\n",
      "data: float64 (1200, 40) ./data/P18-4-19-2018/2. Both Hands/fNIR_data.txt\n",
      "label: 2 ./data/P18-4-19-2018/2. Both Hands/fNIR_data.txt\n",
      "data: float64 (2378, 40) ./data/P18-4-19-2018/3. Left Hand/fNIR_data.txt\n",
      "label: 3 ./data/P18-4-19-2018/3. Left Hand/fNIR_data.txt\n",
      "data: float64 (1196, 40) ./data/P18-4-19-2018/4. Right Leg/fNIR_data.txt\n",
      "label: 4 ./data/P18-4-19-2018/4. Right Leg/fNIR_data.txt\n",
      "data: float64 (1195, 40) ./data/P18-4-19-2018/5. Left Leg/fNIR_data.txt\n",
      "label: 5 ./data/P18-4-19-2018/5. Left Leg/fNIR_data.txt\n",
      "data: float64 (2371, 40) ./data/P19-4-19-2018/1. Right Hand/fNIR_data.txt\n",
      "label: 1 ./data/P19-4-19-2018/1. Right Hand/fNIR_data.txt\n",
      "data: float64 (1193, 40) ./data/P19-4-19-2018/2. Both Hands/fNIR_data.txt\n",
      "label: 2 ./data/P19-4-19-2018/2. Both Hands/fNIR_data.txt\n",
      "data: float64 (2382, 40) ./data/P19-4-19-2018/3. Left Hand/fNIR_data.txt\n",
      "label: 3 ./data/P19-4-19-2018/3. Left Hand/fNIR_data.txt\n",
      "data: float64 (1195, 40) ./data/P19-4-19-2018/4. Right Leg/fNIR_data.txt\n",
      "label: 4 ./data/P19-4-19-2018/4. Right Leg/fNIR_data.txt\n",
      "data: float64 (1226, 40) ./data/P19-4-19-2018/5. Left Leg/fNIR_data.txt\n",
      "label: 5 ./data/P19-4-19-2018/5. Left Leg/fNIR_data.txt\n",
      "data: float64 (2380, 40) ./data/P20-4-19-2018/1. Right Hand/fNIR_data.txt\n",
      "label: 1 ./data/P20-4-19-2018/1. Right Hand/fNIR_data.txt\n",
      "data: float64 (1197, 40) ./data/P20-4-19-2018/2. Both Hands/fNIR_data.txt\n",
      "label: 2 ./data/P20-4-19-2018/2. Both Hands/fNIR_data.txt\n",
      "data: float64 (2430, 40) ./data/P20-4-19-2018/3. Left Hand/fNIR_data.txt\n",
      "label: 3 ./data/P20-4-19-2018/3. Left Hand/fNIR_data.txt\n",
      "data: float64 (1207, 40) ./data/P20-4-19-2018/5. Left Leg/fNIR_data.txt\n",
      "label: 5 ./data/P20-4-19-2018/5. Left Leg/fNIR_data.txt\n",
      "Number of inputs and labels: 48 48\n"
     ]
    },
    {
     "name": "stderr",
     "output_type": "stream",
     "text": [
      "/home/arasdar/anaconda3/envs/env/lib/python3.6/site-packages/ipykernel_launcher.py:4: FutureWarning: Method .as_matrix will be removed in a future version. Use .values instead.\n",
      "  after removing the cwd from sys.path.\n"
     ]
    }
   ],
   "source": [
    "data, labels = [], []\n",
    "for each in range(0, len(df), 1):\n",
    "    # Input data\n",
    "    dfmat = df[each].as_matrix()\n",
    "    print('data:', dfmat.dtype, dfmat.shape, allpaths[each])\n",
    "    data.append(dfmat)\n",
    "    # Labels: WARNING: be very careful about [21:22] if you change the path this might change too!\n",
    "    label = allpaths[each][21:22]\n",
    "    print('label:', label, allpaths[each])\n",
    "    labels.append(label)\n",
    "print('Number of inputs and labels:', len(data), len(labels))"
   ]
  },
  {
   "cell_type": "code",
   "execution_count": 7,
   "metadata": {},
   "outputs": [],
   "source": [
    "# This is very much like a convolution for extracting the windows\n",
    "# size/width, stride/overlap, padding, dilation, num filters/out channel\n",
    "def minibatching(X, Y, stride, width):\n",
    "    Xmb, Ymb = [], []\n",
    "    print(len(X), len(Y))\n",
    "    # 1st and 1st\n",
    "    for eachX in range(len(X)):\n",
    "        num_mb = ((X[eachX].shape[0]-width)//stride)+1\n",
    "        for each in range(num_mb):\n",
    "            # The max is (num_mb-1)*stride+width==X[idx].shape[0]\n",
    "            # The last each is (num_mb-1)\n",
    "            # each = ((each-1)*stride)+width\n",
    "            each *= stride\n",
    "            Xmb.append(X[eachX][each:each+width])\n",
    "            # There is only one label for one image signal or signal window or temporal window\n",
    "            #Ymb.append(Y[eachX][each:each+1])\n",
    "            Ymb.append(Y[eachX])\n",
    "    return Xmb, Ymb"
   ]
  },
  {
   "cell_type": "code",
   "execution_count": 8,
   "metadata": {},
   "outputs": [
    {
     "name": "stdout",
     "output_type": "stream",
     "text": [
      "48 48\n",
      "69615 69615\n",
      "(250, 40) float64\n",
      "1\n"
     ]
    }
   ],
   "source": [
    "# Width is based on the sampling rate which is roughly about 233 points per window\n",
    "# for 10sec rest and 20 sec activity\n",
    "width = 250\n",
    "Xmb, Ymb = minibatching(X=data, Y=labels, stride=1, width=width)\n",
    "# for eachX, eachY in zip(Xmb, Ymb):\n",
    "#     print(eachX.shape, eachY)\n",
    "print(len(Xmb), len(Ymb))\n",
    "print(Xmb[0].shape, Xmb[0].dtype)\n",
    "print(Ymb[0])"
   ]
  },
  {
   "cell_type": "code",
   "execution_count": 9,
   "metadata": {},
   "outputs": [
    {
     "name": "stdout",
     "output_type": "stream",
     "text": [
      "(69615, 250, 40) float64 (69615,) int64\n"
     ]
    }
   ],
   "source": [
    "# Conversion from python list to numpy array\n",
    "X, Y=np.array(object=Xmb, dtype=float), np.array(object=Ymb, dtype=int)\n",
    "print(X.shape, X.dtype, Y.shape, Y.dtype)"
   ]
  },
  {
   "cell_type": "code",
   "execution_count": 10,
   "metadata": {},
   "outputs": [
    {
     "name": "stdout",
     "output_type": "stream",
     "text": [
      "(48730, 250, 40) (20885, 250, 40) (48730,) (20885,)\n",
      "float64 float64 int64 int64\n"
     ]
    }
   ],
   "source": [
    "# Now I should devide the data into train and test\n",
    "# Train and valid split\n",
    "from sklearn.model_selection import train_test_split\n",
    "\n",
    "# 30% of the training data/ entire training data is assigned to validation.\n",
    "Xtrain, Xtest, Ytrain, Ytest = train_test_split(X, Y, test_size=0.30)\n",
    "print(Xtrain.shape, Xtest.shape, Ytrain.shape, Ytest.shape)\n",
    "print(Xtrain.dtype, Xtest.dtype, Ytrain.dtype, Ytest.dtype)"
   ]
  },
  {
   "cell_type": "code",
   "execution_count": 11,
   "metadata": {},
   "outputs": [],
   "source": [
    "# # # standardizing/normalizing the train and test data\n",
    "# # def standardize(train, test):\n",
    "# # \"\"\" Standardize data \"\"\"\n",
    "# # # Standardize train and test\n",
    "# # X_train = (train - np.mean(train, axis=0)[None,:,:]) / np.std(train, axis=0)[None,:,:]\n",
    "# # X_test = (test - np.mean(test, axis=0)[None,:,:]) / np.std(test, axis=0)[None,:,:]\n",
    "# # return X_train, X_test\n",
    "\n",
    "# Xtrain = (Xtrain - Xtrain.mean(axis=0))/ Xtrain.std(axis=0)\n",
    "# Xtest = (Xtest - Xtest.mean(axis=0))/ Xtest.std(axis=0)\n",
    "# print(Xtrain.shape, Xtrain.dtype)\n",
    "# print(Xtest.shape, Xtest.dtype)"
   ]
  },
  {
   "cell_type": "code",
   "execution_count": 12,
   "metadata": {},
   "outputs": [],
   "source": [
    "# print(Xtrain.mean(axis=0), Xtrain.std(axis=0))"
   ]
  },
  {
   "cell_type": "code",
   "execution_count": 13,
   "metadata": {},
   "outputs": [],
   "source": [
    "# print(Xtest.mean(axis=0), Xtest.std(axis=0))"
   ]
  },
  {
   "cell_type": "code",
   "execution_count": 14,
   "metadata": {},
   "outputs": [
    {
     "name": "stdout",
     "output_type": "stream",
     "text": [
      "(34111, 250, 40) (14619, 250, 40) (20885, 250, 40) float64 float64 float64\n",
      "(34111,) (14619,) (20885,) int64 int64 int64\n"
     ]
    }
   ],
   "source": [
    "# Now separating train and validation set\n",
    "# 30% of the training data/ entire training data is assigned to validation.\n",
    "Xtrain, Xvalid, Ytrain, Yvalid = train_test_split(Xtrain, Ytrain, test_size=0.30)\n",
    "print(Xtrain.shape, Xvalid.shape, Xtest.shape, Xtrain.dtype, Xvalid.dtype, Xtest.dtype)\n",
    "print(Ytrain.shape, Yvalid.shape, Ytest.shape, Ytrain.dtype, Yvalid.dtype, Ytest.dtype)"
   ]
  },
  {
   "cell_type": "code",
   "execution_count": 15,
   "metadata": {},
   "outputs": [
    {
     "name": "stdout",
     "output_type": "stream",
     "text": [
      "TensorFlow Version: 1.8.0\n",
      "Default GPU Device: /device:GPU:0\n"
     ]
    }
   ],
   "source": [
    "# In this one we should define and detect GPUs for tensorflow\n",
    "# GPUs or CPU\n",
    "import tensorflow as tf\n",
    "\n",
    "# Check TensorFlow Version\n",
    "print('TensorFlow Version: {}'.format(tf.__version__))\n",
    "\n",
    "# Check for a GPU\n",
    "print('Default GPU Device: {}'.format(tf.test.gpu_device_name()))"
   ]
  },
  {
   "cell_type": "code",
   "execution_count": 16,
   "metadata": {},
   "outputs": [],
   "source": [
    "def model_input(input_size, output_size):\n",
    "    #     N, W, Cin = Xvalid.shape[0], Xvalid.shape[1], Xvalid.shape[2]\n",
    "    Xinputs = tf.placeholder(dtype=tf.float32, shape=[None, *input_size], name='Xinputs')\n",
    "    \n",
    "    #     N, Cout = Yvalid.shape[0], Yvalid.shape[1]\n",
    "    Yindices = tf.placeholder(dtype=tf.int32, shape=[None], name='Yindices')\n",
    "    \n",
    "    # # Batchnorm mode: training and inference/testing/validation\n",
    "    # #is_bn_training = tf.placeholder(dtype=tf.bool, shape=[], name='is_bn_training')\n",
    "    # training = tf.placeholder(dtype=tf.bool, shape=[], name='training')\n",
    "\n",
    "    # returning input data/sequences, output labels/classes\n",
    "    return Xinputs, Yindices"
   ]
  },
  {
   "cell_type": "code",
   "execution_count": 17,
   "metadata": {},
   "outputs": [],
   "source": [
    "# Discriminator/ classifier/ recognizer\n",
    "def discriminator(Xinputs, input_size, output_size, hidden_size, reuse=False, alpha=0.1, training=True):\n",
    "    with tf.variable_scope('discriminator', reuse=reuse):\n",
    "        \n",
    "        # Flatten/Vectorize the input data tensor for FC/fully connected layer/Dense Layer\n",
    "        Xinputs_vec = tf.reshape(tensor=Xinputs, shape=[-1, input_size[0]*input_size[1]])\n",
    "        \n",
    "        # First fully connected layer\n",
    "        h1 = tf.layers.dense(inputs=Xinputs_vec, units=hidden_size)\n",
    "        bn1 = tf.layers.batch_normalization(h1, training=training)\n",
    "        nl1 = tf.maximum(alpha * bn1, bn1)\n",
    "        \n",
    "        # Second fully connected layer\n",
    "        h2 = tf.layers.dense(inputs=nl1, units=hidden_size)\n",
    "        bn2 = tf.layers.batch_normalization(h2, training=training)\n",
    "        nl2 = tf.maximum(alpha * bn2, bn2)\n",
    "        \n",
    "        # Output layer\n",
    "        logits = tf.layers.dense(inputs=nl2, units=output_size)   \n",
    "        #predictions = tf.nn.softmax(logits)\n",
    "        \n",
    "        # return output logits for loss and accuracy\n",
    "        return logits"
   ]
  },
  {
   "cell_type": "code",
   "execution_count": 18,
   "metadata": {},
   "outputs": [],
   "source": [
    "# This is the forward propagation of the model to calculate the loss.\n",
    "def model_loss(Xinputs, Yindices, input_size, output_size, hidden_size):\n",
    "    \n",
    "    # Creating logits and labels\n",
    "    Ylogits = discriminator(Xinputs=Xinputs, input_size=input_size, output_size=output_size, \n",
    "                            hidden_size=hidden_size)\n",
    "    Ylabels = tf.one_hot(indices=Yindices, depth=output_size, dtype=Ylogits.dtype)\n",
    "    \n",
    "    # Loss using logits and labels\n",
    "    loss = tf.reduce_mean(tf.nn.softmax_cross_entropy_with_logits_v2(logits=Ylogits, labels=Ylabels))\n",
    "    \n",
    "    # Accuracy using logits and labels\n",
    "    acc_tensor = tf.equal(x=tf.argmax(axis=1, input=Ylogits), y=tf.argmax(axis=1, input=Ylabels))\n",
    "    acc = tf.reduce_mean(axis=0, input_tensor=tf.cast(dtype=tf.float32, x=acc_tensor))\n",
    "\n",
    "    # returning loss and accuracy\n",
    "    return loss, acc"
   ]
  },
  {
   "cell_type": "code",
   "execution_count": 19,
   "metadata": {},
   "outputs": [],
   "source": [
    "class MLP:\n",
    "    def __init__(self, input_size, output_size, hidden_size, learning_rate):\n",
    "\n",
    "        # Data of the Model: make the data available inside the framework\n",
    "        self.Xinputs, self.Yindices = model_input(input_size=input_size, output_size=output_size)\n",
    "\n",
    "        # Create the Model: calculating the loss and forwad pass\n",
    "        self.loss, self.acc = model_loss(Xinputs=self.Xinputs, Yindices=self.Yindices,\n",
    "                                         input_size=input_size, output_size=output_size, hidden_size=hidden_size)\n",
    "\n",
    "        # Update the model: backward pass and backprop\n",
    "        #self.opt = model_opt(loss=self.loss, learning_rate=learning_rate)\n",
    "        self.opt = tf.train.AdamOptimizer(learning_rate).minimize(self.loss)"
   ]
  },
  {
   "cell_type": "code",
   "execution_count": 20,
   "metadata": {},
   "outputs": [],
   "source": [
    "def get_batches(X, Y, batch_size):\n",
    "    \"\"\" Return a generator for batches \"\"\"\n",
    "    n_batches = len(X) // batch_size\n",
    "    X, Y = X[:n_batches*batch_size], Y[:n_batches*batch_size]\n",
    "\n",
    "    # Loop over batches and yield\n",
    "    for b in range(0, len(X), batch_size):\n",
    "        yield X[b:b+batch_size], Y[b:b+batch_size]"
   ]
  },
  {
   "cell_type": "code",
   "execution_count": 21,
   "metadata": {},
   "outputs": [],
   "source": [
    "# Network Hyper-parameters\n",
    "\n",
    "# Number of classes Output layer or target labels\n",
    "assert Ytrain.max()==Ytest.max()==Yvalid.max(), 'Number of output classes is the same in training, validation and testing data.'\n",
    "\n",
    "# Hidden layer\n",
    "input_size = [Xvalid.shape[1], Xvalid.shape[2]]\n",
    "hidden_size = Xvalid.shape[1]* Xvalid.shape[2]\n",
    "output_size = Yvalid.max()\n",
    "\n",
    "# learning parameters\n",
    "batch_size = Xvalid.shape[0]//1  # experience mini-batch size\n",
    "train_epochs = 1000              # max number of training episodes/epochs\n",
    "learning_rate = 0.001            # learning rate for training/optimization/adam"
   ]
  },
  {
   "cell_type": "code",
   "execution_count": 22,
   "metadata": {},
   "outputs": [
    {
     "name": "stdout",
     "output_type": "stream",
     "text": [
      "Yvalid.max(), Yvalid.min(): 5 1\n",
      "Yvalid.shape: (14619,)\n",
      "Xvalid.shape: (14619, 250, 40)\n"
     ]
    }
   ],
   "source": [
    "print('Yvalid.max(), Yvalid.min():', Yvalid.max(), Yvalid.min())\n",
    "print('Yvalid.shape:', Yvalid.shape)\n",
    "print('Xvalid.shape:', Xvalid.shape)"
   ]
  },
  {
   "cell_type": "code",
   "execution_count": 23,
   "metadata": {},
   "outputs": [],
   "source": [
    "tf.reset_default_graph()\n",
    "\n",
    "model = MLP(input_size=input_size, hidden_size=hidden_size, output_size=output_size, learning_rate=learning_rate)"
   ]
  },
  {
   "cell_type": "code",
   "execution_count": null,
   "metadata": {},
   "outputs": [
    {
     "name": "stdout",
     "output_type": "stream",
     "text": [
      "epoch: 1 train_loss: 7.688725 train_acc: 0.2269991\n",
      "epoch: 1 valid_loss: 16.188286 valid_acc: 0.23715712\n",
      "epoch: 2 train_loss: 12.676353 train_acc: 0.2563445\n",
      "epoch: 2 valid_loss: 8.694114 valid_acc: 0.31411177\n",
      "epoch: 3 train_loss: 7.5286446 train_acc: 0.33651412\n",
      "epoch: 3 valid_loss: 5.4588995 valid_acc: 0.28032014\n",
      "epoch: 4 train_loss: 4.7111692 train_acc: 0.29109377\n",
      "epoch: 4 valid_loss: 3.5290227 valid_acc: 0.3791641\n",
      "epoch: 5 train_loss: 3.034183 train_acc: 0.4003352\n",
      "epoch: 5 valid_loss: 1.8962796 valid_acc: 0.3557699\n"
     ]
    }
   ],
   "source": [
    "# We should save the after training and validation\n",
    "saver = tf.train.Saver() \n",
    "\n",
    "# Loss and accuracy of the model for training and validation\n",
    "train_loss_mean, valid_loss_mean = [], []\n",
    "train_acc_mean, valid_acc_mean = [], []\n",
    "\n",
    "# now that we can calculate loss and optimize, we can start a session for calculating the error.\n",
    "with tf.Session() as sess:\n",
    "    \n",
    "    # Initialize all the model parameters/variables\n",
    "    sess.run(fetches=tf.global_variables_initializer())\n",
    "    \n",
    "    #     # Restoring/loading/uploading the trained and validated model\n",
    "    #     saver.restore(sess,'checkpoints/mlp-fnirs-har.ckpt')\n",
    "    \n",
    "    # for every epoch start feeding the arrays into the tensors in the model\n",
    "    for epoch in range(train_epochs):\n",
    "        train_loss, valid_loss = [], []\n",
    "        train_acc, valid_acc = [], []\n",
    "        \n",
    "        # Training\n",
    "        for Xinputs, Yindices in get_batches(X=Xtrain, Y=Ytrain, batch_size=batch_size):\n",
    "            feed_dict = {model.Xinputs: Xinputs, model.Yindices: Yindices}\n",
    "            loss, acc, _ = sess.run(fetches=[model.loss, model.acc, model.opt], feed_dict=feed_dict)\n",
    "            train_loss.append(loss)\n",
    "            train_acc.append(acc)\n",
    "            \n",
    "        # printing out train and validation loss\n",
    "        print('epoch:', epoch+1, 'train_loss:', np.mean(train_loss), 'train_acc:', np.mean(train_acc))\n",
    "        \n",
    "        # Saving the losses for plotting\n",
    "        train_loss_mean.append(np.mean(train_loss))\n",
    "        train_acc_mean.append(np.mean(train_acc))\n",
    "        \n",
    "        # Validation\n",
    "        for Xinputs, Yindices in get_batches(X=Xvalid, Y=Yvalid, batch_size=batch_size):\n",
    "            feed_dict = {model.Xinputs: Xinputs, model.Yindices: Yindices}\n",
    "            loss, acc = sess.run(fetches=[model.loss, model.acc], feed_dict=feed_dict)\n",
    "            valid_loss.append(loss)\n",
    "            valid_acc.append(acc)\n",
    "        \n",
    "        # printing out train and validation loss\n",
    "        print('epoch:', epoch+1, 'valid_loss:', np.mean(valid_loss), 'valid_acc:', np.mean(valid_acc))\n",
    "\n",
    "        # Saving the losses for plotting\n",
    "        valid_loss_mean.append(np.mean(valid_loss))\n",
    "        valid_acc_mean.append(np.mean(valid_acc))        \n",
    "    \n",
    "    # Saving the trained and validated model\n",
    "    saver.save(sess,'checkpoints/model.ckpt')"
   ]
  },
  {
   "cell_type": "code",
   "execution_count": null,
   "metadata": {},
   "outputs": [],
   "source": [
    "import matplotlib.pyplot as mplot\n",
    "%matplotlib inline\n",
    "\n",
    "mplot.plot(train_loss_mean, label='train_loss_mean')\n",
    "mplot.plot(valid_loss_mean, label='valid_loss_mean')\n",
    "mplot.legend()"
   ]
  },
  {
   "cell_type": "code",
   "execution_count": null,
   "metadata": {},
   "outputs": [],
   "source": [
    "mplot.plot(train_acc_mean, label='train_acc_mean')\n",
    "mplot.plot(valid_acc_mean, label='valid_acc_mean')\n",
    "mplot.legend()"
   ]
  },
  {
   "cell_type": "code",
   "execution_count": null,
   "metadata": {},
   "outputs": [],
   "source": [
    "with tf.Session() as sess:\n",
    "    #sess.run(fetches=tf.global_variables_initializer())\n",
    "    \n",
    "    # Restoring/loading/uploading the trained and validated model\n",
    "    saver.restore(sess,'checkpoints/model.ckpt')\n",
    "    \n",
    "    # Saving the test loss for every batch/minibtch\n",
    "    test_loss, test_acc = [], []\n",
    "    \n",
    "    # Testing\n",
    "    for Xinputs, Yindices in get_batches(X=Xtest, Y=Ytest, batch_size=batch_size):\n",
    "        feed_dict = {model.Xinputs: Xinputs, model.Yindices: Yindices}\n",
    "        loss, acc = sess.run(fetches=[model.loss, model.acc], feed_dict=feed_dict)\n",
    "        test_loss.append(loss)\n",
    "        test_acc.append(acc)\n",
    "        \n",
    "    # Printing the test loss\n",
    "    print('test_loss:', np.mean(test_loss), 'test acc', np.mean(test_acc))"
   ]
  },
  {
   "cell_type": "code",
   "execution_count": null,
   "metadata": {},
   "outputs": [],
   "source": [
    "# INFO:tensorflow:Restoring parameters from checkpoints/mlp-fnirs-har.ckpt\n",
    "# test_loss: 0.16514638 test acc 0.807716"
   ]
  }
 ],
 "metadata": {
  "kernelspec": {
   "display_name": "Python 3",
   "language": "python",
   "name": "python3"
  },
  "language_info": {
   "codemirror_mode": {
    "name": "ipython",
    "version": 3
   },
   "file_extension": ".py",
   "mimetype": "text/x-python",
   "name": "python",
   "nbconvert_exporter": "python",
   "pygments_lexer": "ipython3",
   "version": "3.6.5"
  }
 },
 "nbformat": 4,
 "nbformat_minor": 2
}
