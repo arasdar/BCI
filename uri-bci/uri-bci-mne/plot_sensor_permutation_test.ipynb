{
 "cells": [
  {
   "cell_type": "code",
   "execution_count": null,
   "metadata": {},
   "outputs": [],
   "source": [
    "%matplotlib inline"
   ]
  },
  {
   "cell_type": "markdown",
   "metadata": {},
   "source": [
    "\n",
    "# Permutation T-test on sensor data\n",
    "\n",
    "\n",
    "One tests if the signal significantly deviates from 0\n",
    "during a fixed time window of interest. Here computation\n",
    "is performed on MNE sample dataset between 40 and 60 ms.\n",
    "\n",
    "\n"
   ]
  },
  {
   "cell_type": "code",
   "execution_count": null,
   "metadata": {},
   "outputs": [],
   "source": [
    "# Authors: Alexandre Gramfort <alexandre.gramfort@telecom-paristech.fr>\n",
    "#\n",
    "# License: BSD (3-clause)\n",
    "\n",
    "import numpy as np\n",
    "\n",
    "import mne\n",
    "from mne import io\n",
    "from mne.stats import permutation_t_test\n",
    "from mne.datasets import sample\n",
    "\n",
    "print(__doc__)"
   ]
  },
  {
   "cell_type": "markdown",
   "metadata": {},
   "source": [
    "Set parameters\n",
    "\n"
   ]
  },
  {
   "cell_type": "code",
   "execution_count": null,
   "metadata": {},
   "outputs": [],
   "source": [
    "data_path = sample.data_path()\n",
    "raw_fname = data_path + '/MEG/sample/sample_audvis_filt-0-40_raw.fif'\n",
    "event_fname = data_path + '/MEG/sample/sample_audvis_filt-0-40_raw-eve.fif'\n",
    "event_id = 1\n",
    "tmin = -0.2\n",
    "tmax = 0.5\n",
    "\n",
    "#   Setup for reading the raw data\n",
    "raw = io.read_raw_fif(raw_fname)\n",
    "events = mne.read_events(event_fname)\n",
    "\n",
    "#   Set up pick list: MEG + STI 014 - bad channels (modify to your needs)\n",
    "include = []  # or stim channel ['STI 014']\n",
    "raw.info['bads'] += ['MEG 2443', 'EEG 053']  # bads + 2 more\n",
    "\n",
    "# pick MEG Gradiometers\n",
    "picks = mne.pick_types(raw.info, meg='grad', eeg=False, stim=False, eog=True,\n",
    "                       include=include, exclude='bads')\n",
    "epochs = mne.Epochs(raw, events, event_id, tmin, tmax, picks=picks,\n",
    "                    baseline=(None, 0), reject=dict(grad=4000e-13, eog=150e-6))\n",
    "data = epochs.get_data()\n",
    "times = epochs.times\n",
    "\n",
    "temporal_mask = np.logical_and(0.04 <= times, times <= 0.06)\n",
    "data = np.mean(data[:, :, temporal_mask], axis=2)\n",
    "\n",
    "n_permutations = 50000\n",
    "T0, p_values, H0 = permutation_t_test(data, n_permutations, n_jobs=1)\n",
    "\n",
    "significant_sensors = picks[p_values <= 0.05]\n",
    "significant_sensors_names = [raw.ch_names[k] for k in significant_sensors]\n",
    "\n",
    "print(\"Number of significant sensors : %d\" % len(significant_sensors))\n",
    "print(\"Sensors names : %s\" % significant_sensors_names)"
   ]
  },
  {
   "cell_type": "markdown",
   "metadata": {},
   "source": [
    "View location of significantly active sensors\n",
    "\n"
   ]
  },
  {
   "cell_type": "code",
   "execution_count": null,
   "metadata": {},
   "outputs": [],
   "source": [
    "evoked = mne.EvokedArray(-np.log10(p_values)[:, np.newaxis],\n",
    "                         epochs.info, tmin=0.)\n",
    "\n",
    "# Extract mask and indices of active sensors in layout\n",
    "stats_picks = mne.pick_channels(evoked.ch_names, significant_sensors_names)\n",
    "mask = p_values[:, np.newaxis] <= 0.05\n",
    "\n",
    "evoked.plot_topomap(ch_type='grad', times=[0], scale=1,\n",
    "                    time_format=None, cmap='Reds', vmin=0., vmax=np.max,\n",
    "                    unit='-log10(p)', cbar_fmt='-%0.1f', mask=mask,\n",
    "                    size=3, show_names=lambda x: x[4:] + ' ' * 20)"
   ]
  }
 ],
 "metadata": {
  "kernelspec": {
   "display_name": "Python 3",
   "language": "python",
   "name": "python3"
  },
  "language_info": {
   "codemirror_mode": {
    "name": "ipython",
    "version": 3
   },
   "file_extension": ".py",
   "mimetype": "text/x-python",
   "name": "python",
   "nbconvert_exporter": "python",
   "pygments_lexer": "ipython3",
   "version": "3.5.1"
  }
 },
 "nbformat": 4,
 "nbformat_minor": 1
}
