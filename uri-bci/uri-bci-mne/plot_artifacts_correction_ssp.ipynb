{
  "nbformat_minor": 0, 
  "nbformat": 4, 
  "cells": [
    {
      "execution_count": null, 
      "cell_type": "code", 
      "source": [
        "%matplotlib inline"
      ], 
      "outputs": [], 
      "metadata": {
        "collapsed": false
      }
    }, 
    {
      "source": [
        "\n\n\nArtifact Correction with SSP\n============================\n\n\n"
      ], 
      "cell_type": "markdown", 
      "metadata": {}
    }, 
    {
      "execution_count": null, 
      "cell_type": "code", 
      "source": [
        "import numpy as np\n\nimport mne\nfrom mne.datasets import sample\nfrom mne.preprocessing import compute_proj_ecg, compute_proj_eog\n\n# getting some data ready\ndata_path = sample.data_path()\nraw_fname = data_path + '/MEG/sample/sample_audvis_filt-0-40_raw.fif'\n\nraw = mne.io.read_raw_fif(raw_fname, preload=True)"
      ], 
      "outputs": [], 
      "metadata": {
        "collapsed": false
      }
    }, 
    {
      "source": [
        "Compute SSP projections\n-----------------------\n\nFirst let's do ECG.\n\n"
      ], 
      "cell_type": "markdown", 
      "metadata": {}
    }, 
    {
      "execution_count": null, 
      "cell_type": "code", 
      "source": [
        "projs, events = compute_proj_ecg(raw, n_grad=1, n_mag=1, n_eeg=0, average=True)\nprint(projs)\n\necg_projs = projs[-2:]\nmne.viz.plot_projs_topomap(ecg_projs)"
      ], 
      "outputs": [], 
      "metadata": {
        "collapsed": false
      }
    }, 
    {
      "source": [
        "Now let's do EOG. Here we compute an EEG projector, and need to pass\nthe measurement info so the topomap coordinates can be created.\n\n"
      ], 
      "cell_type": "markdown", 
      "metadata": {}
    }, 
    {
      "execution_count": null, 
      "cell_type": "code", 
      "source": [
        "projs, events = compute_proj_eog(raw, n_grad=1, n_mag=1, n_eeg=1, average=True)\nprint(projs)\n\neog_projs = projs[-3:]\nmne.viz.plot_projs_topomap(eog_projs, info=raw.info)"
      ], 
      "outputs": [], 
      "metadata": {
        "collapsed": false
      }
    }, 
    {
      "source": [
        "Apply SSP projections\n---------------------\n\nMNE is handling projections at the level of the info,\nso to register them populate the list that you find in the 'proj' field\n\n"
      ], 
      "cell_type": "markdown", 
      "metadata": {}
    }, 
    {
      "execution_count": null, 
      "cell_type": "code", 
      "source": [
        "raw.info['projs'] += eog_projs + ecg_projs"
      ], 
      "outputs": [], 
      "metadata": {
        "collapsed": false
      }
    }, 
    {
      "source": [
        "Yes this was it. Now MNE will apply the projs on demand at any later stage,\nso watch out for proj parmeters in functions or to it explicitly\nwith the ``.apply_proj`` method\n\n"
      ], 
      "cell_type": "markdown", 
      "metadata": {}
    }, 
    {
      "source": [
        "Demonstrate SSP cleaning on some evoked data\n--------------------------------------------\n\n"
      ], 
      "cell_type": "markdown", 
      "metadata": {}
    }, 
    {
      "execution_count": null, 
      "cell_type": "code", 
      "source": [
        "events = mne.find_events(raw, stim_channel='STI 014')\nreject = dict(grad=4000e-13, mag=4e-12, eog=150e-6)\n# this can be highly data dependent\nevent_id = {'auditory/left': 1}\n\nepochs_no_proj = mne.Epochs(raw, events, event_id, tmin=-0.2, tmax=0.5,\n                            proj=False, baseline=(None, 0), reject=reject)\nepochs_no_proj.average().plot(spatial_colors=True)\n\n\nepochs_proj = mne.Epochs(raw, events, event_id, tmin=-0.2, tmax=0.5, proj=True,\n                         baseline=(None, 0), reject=reject)\nepochs_proj.average().plot(spatial_colors=True)"
      ], 
      "outputs": [], 
      "metadata": {
        "collapsed": false
      }
    }, 
    {
      "source": [
        "Looks cool right? It is however often not clear how many components you\nshould take and unfortunately this can have bad consequences as can be seen\ninteractively using the delayed SSP mode:\n\n"
      ], 
      "cell_type": "markdown", 
      "metadata": {}
    }, 
    {
      "execution_count": null, 
      "cell_type": "code", 
      "source": [
        "evoked = mne.Epochs(raw, events, event_id, tmin=-0.2, tmax=0.5,\n                    proj='delayed', baseline=(None, 0),\n                    reject=reject).average()\n\n# set time instants in seconds (from 50 to 150ms in a step of 10ms)\ntimes = np.arange(0.05, 0.15, 0.01)\n\nfig = evoked.plot_topomap(times, proj='interactive')"
      ], 
      "outputs": [], 
      "metadata": {
        "collapsed": false
      }
    }, 
    {
      "source": [
        "now you should see checkboxes. Remove a few SSP and see how the auditory\npattern suddenly drops off\n\n"
      ], 
      "cell_type": "markdown", 
      "metadata": {}
    }
  ], 
  "metadata": {
    "kernelspec": {
      "display_name": "Python 2", 
      "name": "python2", 
      "language": "python"
    }, 
    "language_info": {
      "mimetype": "text/x-python", 
      "nbconvert_exporter": "python", 
      "name": "python", 
      "file_extension": ".py", 
      "version": "2.7.13", 
      "pygments_lexer": "ipython2", 
      "codemirror_mode": {
        "version": 2, 
        "name": "ipython"
      }
    }
  }
}