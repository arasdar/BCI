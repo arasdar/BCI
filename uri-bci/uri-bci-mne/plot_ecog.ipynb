{
 "cells": [
  {
   "cell_type": "code",
   "execution_count": 2,
   "metadata": {
    "collapsed": true
   },
   "outputs": [],
   "source": [
    "%matplotlib inline"
   ]
  },
  {
   "cell_type": "markdown",
   "metadata": {},
   "source": [
    "\n",
    "# Working with ECoG data\n",
    "\n",
    "\n",
    "MNE supports working with more than just MEG and EEG data. Here we show some\n",
    "of the functions that can be used to facilitate working with\n",
    "electrocorticography (ECoG) data.\n",
    "\n"
   ]
  },
  {
   "cell_type": "code",
   "execution_count": 4,
   "metadata": {},
   "outputs": [
    {
     "name": "stdout",
     "output_type": "stream",
     "text": [
      "Automatically created module for IPython interactive environment\n"
     ]
    }
   ],
   "source": [
    "# Authors: Eric Larson <larson.eric.d@gmail.com>\n",
    "#          Chris Holdgraf <choldgraf@gmail.com>\n",
    "#\n",
    "# License: BSD (3-clause)\n",
    "\n",
    "import numpy as np\n",
    "import matplotlib.pyplot as plt\n",
    "from scipy.io import loadmat\n",
    "# from mayavi import mlab\n",
    "\n",
    "import mne\n",
    "from mne.viz import plot_trans, snapshot_brain_montage\n",
    "\n",
    "print(__doc__)"
   ]
  },
  {
   "cell_type": "markdown",
   "metadata": {},
   "source": [
    "Let's load some ECoG electrode locations and names, and turn them into\n",
    "a :class:`mne.channels.DigMontage` class.\n",
    "\n"
   ]
  },
  {
   "cell_type": "code",
   "execution_count": 5,
   "metadata": {},
   "outputs": [
    {
     "name": "stdout",
     "output_type": "stream",
     "text": [
      "Using default location ~/mne_data for misc...\n",
      "Downloading or reinstalling data archive mne-misc-data-0.3.tar.gz at location /home/arasdar/mne_data\n",
      "Downloading data from https://codeload.github.com/mne-tools/mne-misc-data/tar.gz/0.3 (1 byte)\n",
      "\n",
      "[........................................] 100.00000 \\ (20.6 MB / 1 byte)   \n",
      "Verifying download hash.\n",
      "Decompressing the archive: /home/arasdar/mne_data/mne-misc-data-0.3.tar.gz\n",
      "(please be patient, this can take some time)\n",
      "Created 64 channel positions\n"
     ]
    }
   ],
   "source": [
    "mat = loadmat(mne.datasets.misc.data_path() + '/ecog/sample_ecog.mat')\n",
    "ch_names = mat['ch_names'].tolist()\n",
    "elec = mat['elec']\n",
    "dig_ch_pos = dict(zip(ch_names, elec))\n",
    "mon = mne.channels.DigMontage(dig_ch_pos=dig_ch_pos)\n",
    "print('Created %s channel positions' % len(ch_names))"
   ]
  },
  {
   "cell_type": "code",
   "execution_count": 13,
   "metadata": {},
   "outputs": [
    {
     "data": {
      "text/plain": [
       "((64, 3),\n",
       " 64,\n",
       " <DigMontage | 0 extras (headshape), 0 HPIs, 0 fiducials, 64 channels>)"
      ]
     },
     "execution_count": 13,
     "metadata": {},
     "output_type": "execute_result"
    }
   ],
   "source": [
    "mon, dig_ch_pos\n",
    "elec.shape, len(dig_ch_pos), mon"
   ]
  },
  {
   "cell_type": "markdown",
   "metadata": {},
   "source": [
    "Now that we have our electrode positions in MRI coordinates, we can create\n",
    "our measurement info structure.\n",
    "\n"
   ]
  },
  {
   "cell_type": "code",
   "execution_count": null,
   "metadata": {
    "collapsed": true
   },
   "outputs": [],
   "source": [
    "info = mne.create_info(ch_names, 1000., 'ecog', montage=mon)"
   ]
  },
  {
   "cell_type": "markdown",
   "metadata": {},
   "source": [
    "We can then plot the locations of our electrodes on our subject's brain.\n",
    "\n",
    "<div class=\"alert alert-info\"><h4>Note</h4><p>These are not real electrodes for this subject, so they\n",
    "          do not align to the cortical surface perfectly.</p></div>\n",
    "\n"
   ]
  },
  {
   "cell_type": "code",
   "execution_count": null,
   "metadata": {
    "collapsed": true
   },
   "outputs": [],
   "source": [
    "subjects_dir = mne.datasets.sample.data_path() + '/subjects'\n",
    "fig = plot_trans(info, trans=None, subject='sample', subjects_dir=subjects_dir)\n",
    "mlab.view(200, 70)"
   ]
  },
  {
   "cell_type": "markdown",
   "metadata": {},
   "source": [
    "Sometimes it is useful to make a scatterplot for the current figure view.\n",
    "This is best accomplished with matplotlib. We can capture an image of the\n",
    "current mayavi view, along with the xy position of each electrode, with the\n",
    "`snapshot_brain_montage` function.\n",
    "\n"
   ]
  },
  {
   "cell_type": "code",
   "execution_count": null,
   "metadata": {
    "collapsed": true
   },
   "outputs": [],
   "source": [
    "# We'll once again plot the surface, then take a snapshot.\n",
    "fig = plot_trans(info, trans=None, subject='sample', subjects_dir=subjects_dir)\n",
    "mlab.view(200, 70)\n",
    "xy, im = snapshot_brain_montage(fig, mon)\n",
    "\n",
    "# Convert from a dictionary to array to plot\n",
    "xy_pts = np.vstack(xy[ch] for ch in info['ch_names'])\n",
    "\n",
    "# Define an arbitrary \"activity\" pattern for viz\n",
    "activity = np.linspace(100, 200, xy_pts.shape[0])\n",
    "\n",
    "# This allows us to use matplotlib to create arbitrary 2d scatterplots\n",
    "_, ax = plt.subplots(figsize=(10, 10))\n",
    "ax.imshow(im)\n",
    "ax.scatter(*xy_pts.T, c=activity, s=200, cmap='coolwarm')\n",
    "ax.set_axis_off()\n",
    "plt.show()"
   ]
  }
 ],
 "metadata": {
  "kernelspec": {
   "display_name": "Python 3",
   "language": "python",
   "name": "python3"
  },
  "language_info": {
   "codemirror_mode": {
    "name": "ipython",
    "version": 3
   },
   "file_extension": ".py",
   "mimetype": "text/x-python",
   "name": "python",
   "nbconvert_exporter": "python",
   "pygments_lexer": "ipython3",
   "version": "3.5.1"
  }
 },
 "nbformat": 4,
 "nbformat_minor": 1
}
