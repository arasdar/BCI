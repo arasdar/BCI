{
 "cells": [
  {
   "cell_type": "code",
   "execution_count": 1,
   "metadata": {
    "collapsed": true
   },
   "outputs": [],
   "source": [
    "%matplotlib inline"
   ]
  },
  {
   "cell_type": "markdown",
   "metadata": {},
   "source": [
    "\n",
    "\n",
    "# Reading an event file\n",
    "\n",
    "\n",
    "Read events from a file. For a more detailed guide on how to read events\n",
    "using MNE-Python, see `tut_epoching_and_averaging`.\n",
    "\n"
   ]
  },
  {
   "cell_type": "code",
   "execution_count": 4,
   "metadata": {},
   "outputs": [
    {
     "name": "stdout",
     "output_type": "stream",
     "text": [
      "Automatically created module for IPython interactive environment\n"
     ]
    }
   ],
   "source": [
    "# Authors: Alexandre Gramfort <alexandre.gramfort@telecom-paristech.fr>\n",
    "#          Chris Holdgraf <choldgraf@berkeley.edu>\n",
    "#\n",
    "# License: BSD (3-clause)\n",
    "\n",
    "import matplotlib.pyplot as plt\n",
    "import mne\n",
    "from mne.datasets import sample\n",
    "\n",
    "print(__doc__)\n",
    "\n",
    "data_path = sample.data_path()\n",
    "fname = data_path + '/MEG/sample/sample_audvis_raw-eve.fif'"
   ]
  },
  {
   "cell_type": "markdown",
   "metadata": {},
   "source": [
    "Reading events\n",
    "--------------\n",
    "\n",
    "Below we'll read in an events file. We suggest that this file end in\n",
    "``-eve.fif``. Note that we can read in the entire events file, or only\n",
    "events corresponding to particular event types with the ``include`` and\n",
    "``exclude`` parameters.\n",
    "\n"
   ]
  },
  {
   "cell_type": "code",
   "execution_count": 5,
   "metadata": {},
   "outputs": [
    {
     "ename": "FileNotFoundError",
     "evalue": "[Errno 2] No such file or directory: '/Users/arasdar/mne_data/MNE-sample-data/MEG/sample/sample_audvis_raw-eve.fif'",
     "output_type": "error",
     "traceback": [
      "\u001b[0;31m---------------------------------------------------------------------------\u001b[0m",
      "\u001b[0;31mFileNotFoundError\u001b[0m                         Traceback (most recent call last)",
      "\u001b[0;32m<ipython-input-5-d64353b2d58e>\u001b[0m in \u001b[0;36m<module>\u001b[0;34m()\u001b[0m\n\u001b[0;32m----> 1\u001b[0;31m \u001b[0mevents_1\u001b[0m \u001b[0;34m=\u001b[0m \u001b[0mmne\u001b[0m\u001b[0;34m.\u001b[0m\u001b[0mread_events\u001b[0m\u001b[0;34m(\u001b[0m\u001b[0mfname\u001b[0m\u001b[0;34m,\u001b[0m \u001b[0minclude\u001b[0m\u001b[0;34m=\u001b[0m\u001b[0;36m1\u001b[0m\u001b[0;34m)\u001b[0m\u001b[0;34m\u001b[0m\u001b[0m\n\u001b[0m\u001b[1;32m      2\u001b[0m \u001b[0mevents_1_2\u001b[0m \u001b[0;34m=\u001b[0m \u001b[0mmne\u001b[0m\u001b[0;34m.\u001b[0m\u001b[0mread_events\u001b[0m\u001b[0;34m(\u001b[0m\u001b[0mfname\u001b[0m\u001b[0;34m,\u001b[0m \u001b[0minclude\u001b[0m\u001b[0;34m=\u001b[0m\u001b[0;34m[\u001b[0m\u001b[0;36m1\u001b[0m\u001b[0;34m,\u001b[0m \u001b[0;36m2\u001b[0m\u001b[0;34m]\u001b[0m\u001b[0;34m)\u001b[0m\u001b[0;34m\u001b[0m\u001b[0m\n\u001b[1;32m      3\u001b[0m \u001b[0mevents_not_4_32\u001b[0m \u001b[0;34m=\u001b[0m \u001b[0mmne\u001b[0m\u001b[0;34m.\u001b[0m\u001b[0mread_events\u001b[0m\u001b[0;34m(\u001b[0m\u001b[0mfname\u001b[0m\u001b[0;34m,\u001b[0m \u001b[0mexclude\u001b[0m\u001b[0;34m=\u001b[0m\u001b[0;34m[\u001b[0m\u001b[0;36m4\u001b[0m\u001b[0;34m,\u001b[0m \u001b[0;36m32\u001b[0m\u001b[0;34m]\u001b[0m\u001b[0;34m)\u001b[0m\u001b[0;34m\u001b[0m\u001b[0m\n",
      "\u001b[0;32m~/anaconda3/envs/arasdar-DL-env/lib/python3.5/site-packages/mne/event.py\u001b[0m in \u001b[0;36mread_events\u001b[0;34m(filename, include, exclude, mask, mask_type)\u001b[0m\n\u001b[1;32m    240\u001b[0m     \u001b[0mext\u001b[0m \u001b[0;34m=\u001b[0m \u001b[0msplitext\u001b[0m\u001b[0;34m(\u001b[0m\u001b[0mfilename\u001b[0m\u001b[0;34m)\u001b[0m\u001b[0;34m[\u001b[0m\u001b[0;36m1\u001b[0m\u001b[0;34m]\u001b[0m\u001b[0;34m.\u001b[0m\u001b[0mlower\u001b[0m\u001b[0;34m(\u001b[0m\u001b[0;34m)\u001b[0m\u001b[0;34m\u001b[0m\u001b[0m\n\u001b[1;32m    241\u001b[0m     \u001b[0;32mif\u001b[0m \u001b[0mext\u001b[0m \u001b[0;34m==\u001b[0m \u001b[0;34m'.fif'\u001b[0m \u001b[0;32mor\u001b[0m \u001b[0mext\u001b[0m \u001b[0;34m==\u001b[0m \u001b[0;34m'.gz'\u001b[0m\u001b[0;34m:\u001b[0m\u001b[0;34m\u001b[0m\u001b[0m\n\u001b[0;32m--> 242\u001b[0;31m         \u001b[0mfid\u001b[0m\u001b[0;34m,\u001b[0m \u001b[0mtree\u001b[0m\u001b[0;34m,\u001b[0m \u001b[0m_\u001b[0m \u001b[0;34m=\u001b[0m \u001b[0mfiff_open\u001b[0m\u001b[0;34m(\u001b[0m\u001b[0mfilename\u001b[0m\u001b[0;34m)\u001b[0m\u001b[0;34m\u001b[0m\u001b[0m\n\u001b[0m\u001b[1;32m    243\u001b[0m         \u001b[0;32mtry\u001b[0m\u001b[0;34m:\u001b[0m\u001b[0;34m\u001b[0m\u001b[0m\n\u001b[1;32m    244\u001b[0m             \u001b[0mevent_list\u001b[0m\u001b[0;34m,\u001b[0m \u001b[0m_\u001b[0m \u001b[0;34m=\u001b[0m \u001b[0m_read_events_fif\u001b[0m\u001b[0;34m(\u001b[0m\u001b[0mfid\u001b[0m\u001b[0;34m,\u001b[0m \u001b[0mtree\u001b[0m\u001b[0;34m)\u001b[0m\u001b[0;34m\u001b[0m\u001b[0m\n",
      "\u001b[0;32m~/anaconda3/envs/arasdar-DL-env/lib/python3.5/site-packages/mne/io/open.py\u001b[0m in \u001b[0;36mfiff_open\u001b[0;34m(fname, preload, verbose)\u001b[0m\n",
      "\u001b[0;32m~/anaconda3/envs/arasdar-DL-env/lib/python3.5/site-packages/mne/utils.py\u001b[0m in \u001b[0;36mverbose\u001b[0;34m(function, *args, **kwargs)\u001b[0m\n\u001b[1;32m    705\u001b[0m         \u001b[0;32mwith\u001b[0m \u001b[0muse_log_level\u001b[0m\u001b[0;34m(\u001b[0m\u001b[0mverbose_level\u001b[0m\u001b[0;34m)\u001b[0m\u001b[0;34m:\u001b[0m\u001b[0;34m\u001b[0m\u001b[0m\n\u001b[1;32m    706\u001b[0m             \u001b[0;32mreturn\u001b[0m \u001b[0mfunction\u001b[0m\u001b[0;34m(\u001b[0m\u001b[0;34m*\u001b[0m\u001b[0margs\u001b[0m\u001b[0;34m,\u001b[0m \u001b[0;34m**\u001b[0m\u001b[0mkwargs\u001b[0m\u001b[0;34m)\u001b[0m\u001b[0;34m\u001b[0m\u001b[0m\n\u001b[0;32m--> 707\u001b[0;31m     \u001b[0;32mreturn\u001b[0m \u001b[0mfunction\u001b[0m\u001b[0;34m(\u001b[0m\u001b[0;34m*\u001b[0m\u001b[0margs\u001b[0m\u001b[0;34m,\u001b[0m \u001b[0;34m**\u001b[0m\u001b[0mkwargs\u001b[0m\u001b[0;34m)\u001b[0m\u001b[0;34m\u001b[0m\u001b[0m\n\u001b[0m\u001b[1;32m    708\u001b[0m \u001b[0;34m\u001b[0m\u001b[0m\n\u001b[1;32m    709\u001b[0m \u001b[0;34m\u001b[0m\u001b[0m\n",
      "\u001b[0;32m~/anaconda3/envs/arasdar-DL-env/lib/python3.5/site-packages/mne/io/open.py\u001b[0m in \u001b[0;36mfiff_open\u001b[0;34m(fname, preload, verbose)\u001b[0m\n\u001b[1;32m    100\u001b[0m         \u001b[0mA\u001b[0m \u001b[0mlist\u001b[0m \u001b[0mof\u001b[0m \u001b[0mtags\u001b[0m\u001b[0;34m.\u001b[0m\u001b[0;34m\u001b[0m\u001b[0m\n\u001b[1;32m    101\u001b[0m     \"\"\"\n\u001b[0;32m--> 102\u001b[0;31m     \u001b[0mfid\u001b[0m \u001b[0;34m=\u001b[0m \u001b[0m_fiff_get_fid\u001b[0m\u001b[0;34m(\u001b[0m\u001b[0mfname\u001b[0m\u001b[0;34m)\u001b[0m\u001b[0;34m\u001b[0m\u001b[0m\n\u001b[0m\u001b[1;32m    103\u001b[0m     \u001b[0;31m# do preloading of entire file\u001b[0m\u001b[0;34m\u001b[0m\u001b[0;34m\u001b[0m\u001b[0m\n\u001b[1;32m    104\u001b[0m     \u001b[0;32mif\u001b[0m \u001b[0mpreload\u001b[0m\u001b[0;34m:\u001b[0m\u001b[0;34m\u001b[0m\u001b[0m\n",
      "\u001b[0;32m~/anaconda3/envs/arasdar-DL-env/lib/python3.5/site-packages/mne/io/open.py\u001b[0m in \u001b[0;36m_fiff_get_fid\u001b[0;34m(fname)\u001b[0m\n\u001b[1;32m     26\u001b[0m         \u001b[0;32melse\u001b[0m\u001b[0;34m:\u001b[0m\u001b[0;34m\u001b[0m\u001b[0m\n\u001b[1;32m     27\u001b[0m             \u001b[0mlogger\u001b[0m\u001b[0;34m.\u001b[0m\u001b[0mdebug\u001b[0m\u001b[0;34m(\u001b[0m\u001b[0;34m'Using normal I/O'\u001b[0m\u001b[0;34m)\u001b[0m\u001b[0;34m\u001b[0m\u001b[0m\n\u001b[0;32m---> 28\u001b[0;31m             \u001b[0mfid\u001b[0m \u001b[0;34m=\u001b[0m \u001b[0mopen\u001b[0m\u001b[0;34m(\u001b[0m\u001b[0mfname\u001b[0m\u001b[0;34m,\u001b[0m \u001b[0;34m\"rb\"\u001b[0m\u001b[0;34m)\u001b[0m  \u001b[0;31m# Open in binary mode\u001b[0m\u001b[0;34m\u001b[0m\u001b[0m\n\u001b[0m\u001b[1;32m     29\u001b[0m     \u001b[0;32melse\u001b[0m\u001b[0;34m:\u001b[0m\u001b[0;34m\u001b[0m\u001b[0m\n\u001b[1;32m     30\u001b[0m         \u001b[0mfid\u001b[0m \u001b[0;34m=\u001b[0m \u001b[0mfname\u001b[0m\u001b[0;34m\u001b[0m\u001b[0m\n",
      "\u001b[0;31mFileNotFoundError\u001b[0m: [Errno 2] No such file or directory: '/Users/arasdar/mne_data/MNE-sample-data/MEG/sample/sample_audvis_raw-eve.fif'"
     ]
    }
   ],
   "source": [
    "events_1 = mne.read_events(fname, include=1)\n",
    "events_1_2 = mne.read_events(fname, include=[1, 2])\n",
    "events_not_4_32 = mne.read_events(fname, exclude=[4, 32])"
   ]
  },
  {
   "cell_type": "markdown",
   "metadata": {},
   "source": [
    "Events objects are essentially numpy arrays with three columns:\n",
    "``event_sample | previous_event_id | event_id``\n",
    "\n"
   ]
  },
  {
   "cell_type": "code",
   "execution_count": 8,
   "metadata": {},
   "outputs": [
    {
     "name": "stdout",
     "output_type": "stream",
     "text": [
      "[[28771     0     1]\n",
      " [30450     0     1]\n",
      " [32101     0     1]\n",
      " [33712     0     1]\n",
      " [35428     0     1]] \n",
      "\n",
      "---\n",
      "\n",
      " [[27977     0     2]\n",
      " [28771     0     1]\n",
      " [29652     0     2]\n",
      " [30450     0     1]\n",
      " [31240     0     2]] \n",
      "\n",
      "\n",
      "At sample 28771 stim channel went from 0 to 1\n",
      "At sample 30450 stim channel went from 0 to 1\n",
      "At sample 32101 stim channel went from 0 to 1\n",
      "At sample 33712 stim channel went from 0 to 1\n",
      "At sample 35428 stim channel went from 0 to 1\n",
      "At sample 37007 stim channel went from 0 to 1\n",
      "At sample 38711 stim channel went from 0 to 1\n",
      "At sample 40405 stim channel went from 0 to 1\n",
      "At sample 42126 stim channel went from 0 to 1\n",
      "At sample 43781 stim channel went from 0 to 1\n",
      "At sample 45486 stim channel went from 0 to 1\n",
      "At sample 47095 stim channel went from 0 to 1\n",
      "At sample 48722 stim channel went from 0 to 1\n",
      "At sample 50269 stim channel went from 0 to 1\n",
      "At sample 51881 stim channel went from 0 to 1\n",
      "At sample 53494 stim channel went from 0 to 1\n",
      "At sample 55100 stim channel went from 0 to 1\n",
      "At sample 56717 stim channel went from 0 to 1\n",
      "At sample 58448 stim channel went from 0 to 1\n",
      "At sample 60129 stim channel went from 0 to 1\n",
      "At sample 61868 stim channel went from 0 to 1\n",
      "At sample 63532 stim channel went from 0 to 1\n",
      "At sample 65181 stim channel went from 0 to 1\n",
      "At sample 66964 stim channel went from 0 to 1\n",
      "At sample 68666 stim channel went from 0 to 1\n",
      "At sample 70259 stim channel went from 0 to 1\n",
      "At sample 71991 stim channel went from 0 to 1\n",
      "At sample 73718 stim channel went from 0 to 1\n",
      "At sample 76894 stim channel went from 0 to 1\n",
      "At sample 78539 stim channel went from 0 to 1\n",
      "At sample 80209 stim channel went from 0 to 1\n",
      "At sample 81911 stim channel went from 0 to 1\n",
      "At sample 83568 stim channel went from 0 to 1\n",
      "At sample 85299 stim channel went from 0 to 1\n",
      "At sample 86971 stim channel went from 0 to 1\n",
      "At sample 88593 stim channel went from 0 to 1\n",
      "At sample 90419 stim channel went from 0 to 1\n",
      "At sample 92038 stim channel went from 0 to 1\n",
      "At sample 93669 stim channel went from 0 to 1\n",
      "At sample 95435 stim channel went from 0 to 1\n",
      "At sample 97234 stim channel went from 0 to 1\n",
      "At sample 98903 stim channel went from 0 to 1\n",
      "At sample 100620 stim channel went from 0 to 1\n",
      "At sample 102288 stim channel went from 0 to 1\n",
      "At sample 104033 stim channel went from 0 to 1\n",
      "At sample 105760 stim channel went from 0 to 1\n",
      "At sample 107355 stim channel went from 0 to 1\n",
      "At sample 110574 stim channel went from 0 to 1\n",
      "At sample 112292 stim channel went from 0 to 1\n",
      "At sample 113952 stim channel went from 0 to 1\n",
      "At sample 115619 stim channel went from 0 to 1\n",
      "At sample 117304 stim channel went from 0 to 1\n",
      "At sample 118879 stim channel went from 0 to 1\n",
      "At sample 120539 stim channel went from 0 to 1\n",
      "At sample 122218 stim channel went from 0 to 1\n",
      "At sample 123931 stim channel went from 0 to 1\n",
      "At sample 125709 stim channel went from 0 to 1\n",
      "At sample 127331 stim channel went from 0 to 1\n",
      "At sample 128925 stim channel went from 0 to 1\n",
      "At sample 130495 stim channel went from 0 to 1\n",
      "At sample 132081 stim channel went from 0 to 1\n",
      "At sample 135533 stim channel went from 0 to 1\n",
      "At sample 137133 stim channel went from 0 to 1\n",
      "At sample 138836 stim channel went from 0 to 1\n",
      "At sample 140612 stim channel went from 0 to 1\n",
      "At sample 144071 stim channel went from 0 to 1\n",
      "At sample 145666 stim channel went from 0 to 1\n",
      "At sample 147458 stim channel went from 0 to 1\n",
      "At sample 149162 stim channel went from 0 to 1\n",
      "At sample 150872 stim channel went from 0 to 1\n",
      "At sample 152426 stim channel went from 0 to 1\n",
      "At sample 154080 stim channel went from 0 to 1\n"
     ]
    }
   ],
   "source": [
    "print(events_1[:5], '\\n\\n---\\n\\n', events_1_2[:5], '\\n\\n')\n",
    "\n",
    "for ind, before, after in events_1[:]:\n",
    "    print(\"At sample %d stim channel went from %d to %d\"\n",
    "          % (ind, before, after))"
   ]
  },
  {
   "cell_type": "markdown",
   "metadata": {},
   "source": [
    "Plotting events\n",
    "---------------\n",
    "\n",
    "We can also plot events in order to visualize how events occur over the\n",
    "course of our recording session. Below we'll plot our three event types\n",
    "to see which ones were included.\n",
    "\n"
   ]
  },
  {
   "cell_type": "code",
   "execution_count": 5,
   "metadata": {},
   "outputs": [
    {
     "data": {
      "image/png": "[encoded data removed]",
      "text/plain": [
       "<matplotlib.figure.Figure at 0x7f86af473dd8>"
      ]
     },
     "metadata": {},
     "output_type": "display_data"
    }
   ],
   "source": [
    "fig, axs = plt.subplots(1, 3, figsize=(15, 5))\n",
    "\n",
    "mne.viz.plot_events(events_1, axes=axs[0], show=False)\n",
    "axs[0].set(title=\"restricted to event 1\")\n",
    "\n",
    "mne.viz.plot_events(events_1_2, axes=axs[1], show=False)\n",
    "axs[1].set(title=\"restricted to event 1 or 2\")\n",
    "\n",
    "mne.viz.plot_events(events_not_4_32, axes=axs[2], show=False)\n",
    "axs[2].set(title=\"keep all but 4 and 32\")\n",
    "plt.setp([ax.get_xticklabels() for ax in axs], rotation=45)\n",
    "plt.tight_layout()\n",
    "plt.show()"
   ]
  },
  {
   "cell_type": "markdown",
   "metadata": {},
   "source": [
    "Writing events\n",
    "--------------\n",
    "\n",
    "Finally, we can write events to disk. Remember to use the naming convention\n",
    "``-eve.fif`` for your file.\n",
    "\n"
   ]
  },
  {
   "cell_type": "code",
   "execution_count": 6,
   "metadata": {
    "collapsed": true
   },
   "outputs": [],
   "source": [
    "mne.write_events('example-eve.fif', events_1)"
   ]
  },
  {
   "cell_type": "code",
   "execution_count": null,
   "metadata": {
    "collapsed": true
   },
   "outputs": [],
   "source": []
  }
 ],
 "metadata": {
  "kernelspec": {
   "display_name": "Python 3",
   "language": "python",
   "name": "python3"
  },
  "language_info": {
   "codemirror_mode": {
    "name": "ipython",
    "version": 3
   },
   "file_extension": ".py",
   "mimetype": "text/x-python",
   "name": "python",
   "nbconvert_exporter": "python",
   "pygments_lexer": "ipython3",
   "version": "3.5.1"
  }
 },
 "nbformat": 4,
 "nbformat_minor": 1
}
