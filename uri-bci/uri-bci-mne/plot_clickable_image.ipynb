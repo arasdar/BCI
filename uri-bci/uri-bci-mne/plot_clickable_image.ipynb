{
  "nbformat_minor": 0, 
  "nbformat": 4, 
  "cells": [
    {
      "execution_count": null, 
      "cell_type": "code", 
      "source": [
        "%matplotlib inline"
      ], 
      "outputs": [], 
      "metadata": {
        "collapsed": false
      }
    }, 
    {
      "source": [
        "\n================================================================\nDemonstration of how to use ClickableImage / generate_2d_layout.\n================================================================\n\nIn this example, we open an image file, then use ClickableImage to\nreturn 2D locations of mouse clicks (or load a file already created).\nThen, we use generate_2d_layout to turn those xy positions into a layout\nfor use with plotting topo maps. In this way, you can take arbitrary xy\npositions and turn them into a plottable layout.\n\n"
      ], 
      "cell_type": "markdown", 
      "metadata": {}
    }, 
    {
      "execution_count": null, 
      "cell_type": "code", 
      "source": [
        "# Authors: Christopher Holdgraf <choldgraf@berkeley.edu>\n#\n# License: BSD (3-clause)\nfrom scipy.ndimage import imread\nimport numpy as np\nfrom matplotlib import pyplot as plt\nfrom os import path as op\nimport mne\nfrom mne.viz import ClickableImage, add_background_image  # noqa\nfrom mne.channels import generate_2d_layout  # noqa\n\nprint(__doc__)\n\n# Set parameters and paths\nplt.rcParams['image.cmap'] = 'gray'\n\nim_path = op.join(op.dirname(mne.__file__), 'data', 'image', 'mni_brain.gif')\n# We've already clicked and exported\nlayout_path = op.join(op.dirname(mne.__file__), 'data', 'image')\nlayout_name = 'custom_layout.lout'"
      ], 
      "outputs": [], 
      "metadata": {
        "collapsed": false
      }
    }, 
    {
      "source": [
        "Load data and click\n\n"
      ], 
      "cell_type": "markdown", 
      "metadata": {}
    }, 
    {
      "execution_count": null, 
      "cell_type": "code", 
      "source": [
        "im = imread(im_path)\nplt.imshow(im)\n\"\"\"\nThis code opens the image so you can click on it. Commented out\nbecause we've stored the clicks as a layout file already.\n\n# The click coordinates are stored as a list of tuples\nclick = ClickableImage(im)\nclick.plot_clicks()\ncoords = click.coords\n\n# Generate a layout from our clicks and normalize by the image\nlt = generate_2d_layout(np.vstack(coords), bg_image=im)\nlt.save(layout_path + layout_name)  # To save if we want\n\"\"\"\n# We've already got the layout, load it\nlt = mne.channels.read_layout(layout_name, path=layout_path, scale=False)\n\n# Create some fake data\nnchans = len(lt.pos)\nnepochs = 50\nsr = 1000\nnsec = 5\nevents = np.arange(nepochs).reshape([-1, 1])\nevents = np.hstack([events, np.zeros([nepochs, 2], dtype=int)])\ndata = np.random.randn(nepochs, nchans, sr * nsec)\ninfo = mne.create_info(nchans, sr, ch_types='eeg')\nepochs = mne.EpochsArray(data, info, events)\nevoked = epochs.average()\n\n# Using the native plot_topo function with the image plotted in the background\nf = evoked.plot_topo(layout=lt, fig_background=im)"
      ], 
      "outputs": [], 
      "metadata": {
        "collapsed": false
      }
    }
  ], 
  "metadata": {
    "kernelspec": {
      "display_name": "Python 2", 
      "name": "python2", 
      "language": "python"
    }, 
    "language_info": {
      "mimetype": "text/x-python", 
      "nbconvert_exporter": "python", 
      "name": "python", 
      "file_extension": ".py", 
      "version": "2.7.13", 
      "pygments_lexer": "ipython2", 
      "codemirror_mode": {
        "version": 2, 
        "name": "ipython"
      }
    }
  }
}