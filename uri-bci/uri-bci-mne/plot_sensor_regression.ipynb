{
 "cells": [
  {
   "cell_type": "code",
   "execution_count": null,
   "metadata": {},
   "outputs": [],
   "source": [
    "%matplotlib inline"
   ]
  },
  {
   "cell_type": "markdown",
   "metadata": {},
   "source": [
    "\n",
    "# Sensor space least squares regression\n",
    "\n",
    "\n",
    "Predict single trial activity from a continuous variable.\n",
    "A single-trial regression is performed in each sensor and timepoint\n",
    "individually, resulting in an Evoked object which contains the\n",
    "regression coefficient (beta value) for each combination of sensor\n",
    "and timepoint. Example also shows the T statistics and the associated\n",
    "p-values.\n",
    "\n",
    "Note that this example is for educational purposes and that the data used\n",
    "here do not contain any significant effect.\n",
    "\n",
    "(See Hauk et al. (2006). The time course of visual word recognition as\n",
    "revealed by linear regression analysis of ERP data. Neuroimage.)\n",
    "\n"
   ]
  },
  {
   "cell_type": "code",
   "execution_count": null,
   "metadata": {},
   "outputs": [],
   "source": [
    "# Authors: Tal Linzen <linzen@nyu.edu>\n",
    "#          Denis A. Engemann <denis.engemann@gmail.com>\n",
    "#\n",
    "# License: BSD (3-clause)\n",
    "\n",
    "import numpy as np\n",
    "\n",
    "import mne\n",
    "from mne.datasets import sample\n",
    "from mne.stats.regression import linear_regression\n",
    "\n",
    "print(__doc__)\n",
    "\n",
    "data_path = sample.data_path()"
   ]
  },
  {
   "cell_type": "markdown",
   "metadata": {},
   "source": [
    "Set parameters and read data\n",
    "\n"
   ]
  },
  {
   "cell_type": "code",
   "execution_count": null,
   "metadata": {},
   "outputs": [],
   "source": [
    "raw_fname = data_path + '/MEG/sample/sample_audvis_filt-0-40_raw.fif'\n",
    "event_fname = data_path + '/MEG/sample/sample_audvis_filt-0-40_raw-eve.fif'\n",
    "tmin, tmax = -0.2, 0.5\n",
    "event_id = dict(aud_l=1, aud_r=2)\n",
    "\n",
    "# Setup for reading the raw data\n",
    "raw = mne.io.read_raw_fif(raw_fname)\n",
    "events = mne.read_events(event_fname)\n",
    "\n",
    "picks = mne.pick_types(raw.info, meg='mag', eeg=False, stim=False,\n",
    "                       eog=False, exclude='bads')\n",
    "\n",
    "# Reject some epochs based on amplitude\n",
    "reject = dict(mag=5e-12)\n",
    "epochs = mne.Epochs(raw, events, event_id, tmin, tmax, proj=True,\n",
    "                    picks=picks, baseline=(None, 0), preload=True,\n",
    "                    reject=reject)"
   ]
  },
  {
   "cell_type": "markdown",
   "metadata": {},
   "source": [
    "Run regression\n",
    "\n"
   ]
  },
  {
   "cell_type": "code",
   "execution_count": null,
   "metadata": {},
   "outputs": [],
   "source": [
    "names = ['intercept', 'trial-count']\n",
    "\n",
    "intercept = np.ones((len(epochs),), dtype=np.float)\n",
    "design_matrix = np.column_stack([intercept,  # intercept\n",
    "                                 np.linspace(0, 1, len(intercept))])\n",
    "\n",
    "# also accepts source estimates\n",
    "lm = linear_regression(epochs, design_matrix, names)\n",
    "\n",
    "\n",
    "def plot_topomap(x, unit):\n",
    "    x.plot_topomap(ch_type='mag', scale=1, size=1.5, vmax=np.max,\n",
    "                   unit=unit, times=np.linspace(0.1, 0.2, 5))\n",
    "\n",
    "trial_count = lm['trial-count']\n",
    "\n",
    "plot_topomap(trial_count.beta, unit='z (beta)')\n",
    "plot_topomap(trial_count.t_val, unit='t')\n",
    "plot_topomap(trial_count.mlog10_p_val, unit='-log10 p')\n",
    "plot_topomap(trial_count.stderr, unit='z (error)')"
   ]
  }
 ],
 "metadata": {
  "kernelspec": {
   "display_name": "Python 3",
   "language": "python",
   "name": "python3"
  },
  "language_info": {
   "codemirror_mode": {
    "name": "ipython",
    "version": 3
   },
   "file_extension": ".py",
   "mimetype": "text/x-python",
   "name": "python",
   "nbconvert_exporter": "python",
   "pygments_lexer": "ipython3",
   "version": "3.5.1"
  }
 },
 "nbformat": 4,
 "nbformat_minor": 1
}
