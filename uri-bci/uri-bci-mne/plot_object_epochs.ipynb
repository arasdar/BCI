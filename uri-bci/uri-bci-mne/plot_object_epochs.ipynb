{
 "cells": [
  {
   "cell_type": "code",
   "execution_count": null,
   "metadata": {},
   "outputs": [],
   "source": [
    "%matplotlib inline"
   ]
  },
  {
   "cell_type": "markdown",
   "metadata": {},
   "source": [
    "\n",
    "\n",
    "The :class:`Epochs <mne.Epochs>` data structure: epoched data\n",
    "=============================================================\n",
    "\n",
    ":class:`Epochs <mne.Epochs>` objects are a way of representing continuous\n",
    "data as a collection of time-locked trials, stored in an array of shape\n",
    "``(n_events, n_channels, n_times)``. They are useful for many statistical\n",
    "methods in neuroscience, and make it easy to quickly overview what occurs\n",
    "during a trial.\n",
    "\n"
   ]
  },
  {
   "cell_type": "code",
   "execution_count": null,
   "metadata": {},
   "outputs": [],
   "source": [
    "import mne\n",
    "import os.path as op\n",
    "import numpy as np\n",
    "from matplotlib import pyplot as plt"
   ]
  },
  {
   "cell_type": "markdown",
   "metadata": {},
   "source": [
    ":class:`Epochs <mne.Epochs>` objects can be created in three ways:\n",
    " 1. From a :class:`Raw <mne.io.Raw>` object, along with event times\n",
    " 2. From an :class:`Epochs <mne.Epochs>` object that has been saved as a\n",
    "    `.fif` file\n",
    " 3. From scratch using :class:`EpochsArray <mne.EpochsArray>`. See\n",
    "    `tut_creating_data_structures`\n",
    "\n"
   ]
  },
  {
   "cell_type": "code",
   "execution_count": null,
   "metadata": {},
   "outputs": [],
   "source": [
    "data_path = mne.datasets.sample.data_path()\n",
    "# Load a dataset that contains events\n",
    "raw = mne.io.read_raw_fif(\n",
    "    op.join(data_path, 'MEG', 'sample', 'sample_audvis_raw.fif'))\n",
    "\n",
    "# If your raw object has a stim channel, you can construct an event array\n",
    "# easily\n",
    "events = mne.find_events(raw, stim_channel='STI 014')\n",
    "\n",
    "# Show the number of events (number of rows)\n",
    "print('Number of events:', len(events))\n",
    "\n",
    "# Show all unique event codes (3rd column)\n",
    "print('Unique event codes:', np.unique(events[:, 2]))\n",
    "\n",
    "# Specify event codes of interest with descriptive labels.\n",
    "# This dataset also has visual left (3) and right (4) events, but\n",
    "# to save time and memory we'll just look at the auditory conditions\n",
    "# for now.\n",
    "event_id = {'Auditory/Left': 1, 'Auditory/Right': 2}"
   ]
  },
  {
   "cell_type": "markdown",
   "metadata": {},
   "source": [
    "Now, we can create an :class:`mne.Epochs` object with the events we've\n",
    "extracted. Note that epochs constructed in this manner will not have their\n",
    "data available until explicitly read into memory, which you can do with\n",
    ":func:`get_data <mne.Epochs.get_data>`. Alternatively, you can use\n",
    "`preload=True`.\n",
    "\n",
    "Expose the raw data as epochs, cut from -0.1 s to 1.0 s relative to the event\n",
    "onsets\n",
    "\n"
   ]
  },
  {
   "cell_type": "code",
   "execution_count": null,
   "metadata": {},
   "outputs": [],
   "source": [
    "epochs = mne.Epochs(raw, events, event_id, tmin=-0.1, tmax=1,\n",
    "                    baseline=(None, 0), preload=True)\n",
    "print(epochs)"
   ]
  },
  {
   "cell_type": "markdown",
   "metadata": {},
   "source": [
    "Epochs behave similarly to :class:`mne.io.Raw` objects. They have an\n",
    ":class:`info <mne.Info>` attribute that has all of the same\n",
    "information, as well as a number of attributes unique to the events contained\n",
    "within the object.\n",
    "\n"
   ]
  },
  {
   "cell_type": "code",
   "execution_count": null,
   "metadata": {},
   "outputs": [],
   "source": [
    "print(epochs.events[:3])\n",
    "print(epochs.event_id)"
   ]
  },
  {
   "cell_type": "markdown",
   "metadata": {},
   "source": [
    "You can select subsets of epochs by indexing the :class:`Epochs <mne.Epochs>`\n",
    "object directly. Alternatively, if you have epoch names specified in\n",
    "`event_id` then you may index with strings instead.\n",
    "\n"
   ]
  },
  {
   "cell_type": "code",
   "execution_count": null,
   "metadata": {},
   "outputs": [],
   "source": [
    "print(epochs[1:5])\n",
    "print(epochs['Auditory/Right'])"
   ]
  },
  {
   "cell_type": "markdown",
   "metadata": {},
   "source": [
    "It is also possible to iterate through :class:`Epochs <mne.Epochs>` objects\n",
    "in this way. Note that behavior is different if you iterate on `Epochs`\n",
    "directly rather than indexing:\n",
    "\n"
   ]
  },
  {
   "cell_type": "code",
   "execution_count": null,
   "metadata": {},
   "outputs": [],
   "source": [
    "# These will be epochs objects\n",
    "for i in range(3):\n",
    "    print(epochs[i])\n",
    "\n",
    "# These will be arrays\n",
    "for ep in epochs[:2]:\n",
    "    print(ep)"
   ]
  },
  {
   "cell_type": "markdown",
   "metadata": {},
   "source": [
    "You can manually remove epochs from the Epochs object by using\n",
    ":func:`epochs.drop(idx) <mne.Epochs.drop>`, or by using rejection or flat\n",
    "thresholds with :func:`epochs.drop_bad(reject, flat) <mne.Epochs.drop_bad>`.\n",
    "You can also inspect the reason why epochs were dropped by looking at the\n",
    "list stored in ``epochs.drop_log`` or plot them with\n",
    ":func:`epochs.plot_drop_log() <mne.Epochs.plot_drop_log>`. The indices\n",
    "from the original set of events are stored in ``epochs.selection``.\n",
    "\n"
   ]
  },
  {
   "cell_type": "code",
   "execution_count": null,
   "metadata": {},
   "outputs": [],
   "source": [
    "epochs.drop([0], reason='User reason')\n",
    "epochs.drop_bad(reject=dict(grad=2500e-13, mag=4e-12, eog=200e-6), flat=None)\n",
    "print(epochs.drop_log)\n",
    "epochs.plot_drop_log()\n",
    "print('Selection from original events:\\n%s' % epochs.selection)\n",
    "print('Removed events (from numpy setdiff1d):\\n%s'\n",
    "      % (np.setdiff1d(np.arange(len(events)), epochs.selection).tolist(),))\n",
    "print('Removed events (from list comprehension -- should match!):\\n%s'\n",
    "      % ([li for li, log in enumerate(epochs.drop_log) if len(log) > 0]))"
   ]
  },
  {
   "cell_type": "markdown",
   "metadata": {},
   "source": [
    "If you wish to save the epochs as a file, you can do it with\n",
    ":func:`mne.Epochs.save`. To conform to MNE naming conventions, the\n",
    "epochs file names should end with '-epo.fif'.\n",
    "\n"
   ]
  },
  {
   "cell_type": "code",
   "execution_count": null,
   "metadata": {},
   "outputs": [],
   "source": [
    "epochs_fname = op.join(data_path, 'MEG', 'sample', 'sample-epo.fif')\n",
    "epochs.save(epochs_fname)"
   ]
  },
  {
   "cell_type": "markdown",
   "metadata": {},
   "source": [
    "Later on you can read the epochs with :func:`mne.read_epochs`. For reading\n",
    "EEGLAB epochs files see :func:`mne.read_epochs_eeglab`. We can also use\n",
    "``preload=False`` to save memory, loading the epochs from disk on demand.\n",
    "\n"
   ]
  },
  {
   "cell_type": "code",
   "execution_count": null,
   "metadata": {},
   "outputs": [],
   "source": [
    "epochs = mne.read_epochs(epochs_fname, preload=False)"
   ]
  },
  {
   "cell_type": "markdown",
   "metadata": {},
   "source": [
    "If you wish to look at the average across trial types, then you may do so,\n",
    "creating an :class:`Evoked <mne.Evoked>` object in the process. Instances\n",
    "of `Evoked` are usually created by calling :func:`mne.Epochs.average`. For\n",
    "creating `Evoked` from other data structures see :class:`mne.EvokedArray` and\n",
    "`tut_creating_data_structures`.\n",
    "\n"
   ]
  },
  {
   "cell_type": "code",
   "execution_count": null,
   "metadata": {},
   "outputs": [],
   "source": [
    "ev_left = epochs['Auditory/Left'].average()\n",
    "ev_right = epochs['Auditory/Right'].average()\n",
    "\n",
    "f, axs = plt.subplots(3, 2, figsize=(10, 5))\n",
    "_ = f.suptitle('Left / Right auditory', fontsize=20)\n",
    "_ = ev_left.plot(axes=axs[:, 0], show=False)\n",
    "_ = ev_right.plot(axes=axs[:, 1], show=False)\n",
    "plt.tight_layout()"
   ]
  },
  {
   "cell_type": "markdown",
   "metadata": {},
   "source": [
    "To export and manipulate Epochs using Pandas see `tut_io_export_pandas`.\n",
    "\n"
   ]
  }
 ],
 "metadata": {
  "kernelspec": {
   "display_name": "Python 3",
   "language": "python",
   "name": "python3"
  },
  "language_info": {
   "codemirror_mode": {
    "name": "ipython",
    "version": 3
   },
   "file_extension": ".py",
   "mimetype": "text/x-python",
   "name": "python",
   "nbconvert_exporter": "python",
   "pygments_lexer": "ipython3",
   "version": "3.5.1"
  }
 },
 "nbformat": 4,
 "nbformat_minor": 1
}
