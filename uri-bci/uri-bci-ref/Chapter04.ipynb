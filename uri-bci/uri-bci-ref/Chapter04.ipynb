{
 "cells": [
  {
   "cell_type": "code",
   "execution_count": 1,
   "metadata": {
    "collapsed": true
   },
   "outputs": [],
   "source": [
    "import numpy as np"
   ]
  },
  {
   "cell_type": "markdown",
   "metadata": {},
   "source": [
    "# 4.7.1.1\n",
    "Create a 4x8 matrix of randomly generated numbers."
   ]
  },
  {
   "cell_type": "code",
   "execution_count": 16,
   "metadata": {},
   "outputs": [
    {
     "name": "stdout",
     "output_type": "stream",
     "text": [
      "[[ 0.54  0.42  0.41  0.76  0.61  0.34  0.63  0.46]\n",
      " [ 0.04  0.86  0.28  0.29  0.77  0.38  0.29  0.32]\n",
      " [ 0.65  0.69  0.03  0.01  0.28  0.62  0.98  0.3 ]\n",
      " [ 0.1   0.76  0.62  0.54  0.62  0.61  0.7   0.78]]\n"
     ]
    }
   ],
   "source": [
    "A = np.random.rand(4, 8)\n",
    "print(np.around(A,2))"
   ]
  },
  {
   "cell_type": "markdown",
   "metadata": {},
   "source": [
    "# 4.7.1.2\n",
    "Loop through all rows and columns, and test whether each element is greater than 0.5"
   ]
  },
  {
   "cell_type": "code",
   "execution_count": 9,
   "metadata": {},
   "outputs": [
    {
     "name": "stdout",
     "output_type": "stream",
     "text": [
      "[[ 0.  1.  1.  1.  0.  1.  1.  0.]\n",
      " [ 0.  1.  1.  1.  0.  1.  0.  0.]\n",
      " [ 1.  0.  1.  0.  1.  0.  0.  0.]\n",
      " [ 1.  0.  0.  1.  1.  1.  1.  1.]]\n"
     ]
    }
   ],
   "source": [
    "B = np.zeros((4, 8))\n",
    "for index, val in np.ndenumerate(A):\n",
    "    if val > 0.5:\n",
    "        B[index] = 1\n",
    "print(B)"
   ]
  },
  {
   "cell_type": "markdown",
   "metadata": {},
   "source": [
    "# 4.7.1.3 & 4.7.1.4 \n",
    "Report the results of the test along with the value of the matrix element and its row-column position.\n",
    "\n",
    "Make sure to add exceptions to print out 1st, 2nd, and 3rd, instead of 1th, 2th, and 3th."
   ]
  },
  {
   "cell_type": "code",
   "execution_count": 13,
   "metadata": {},
   "outputs": [
    {
     "name": "stdout",
     "output_type": "stream",
     "text": [
      "The 1st row and 1st column has a value of  0.559504743257  and is not bigger than 0.5.\n",
      "\n",
      "The 1st row and 5th column has a value of  0.522109880047  and is not bigger than 0.5.\n",
      "\n",
      "The 1st row and 8th column has a value of  0.657059936888  and is not bigger than 0.5.\n",
      "\n",
      "The 2nd row and 1st column has a value of  0.557332430767  and is not bigger than 0.5.\n",
      "\n",
      "The 2nd row and 5th column has a value of  0.569343861453  and is not bigger than 0.5.\n",
      "\n",
      "The 2nd row and 7th column has a value of  0.383151397505  and is not bigger than 0.5.\n",
      "\n",
      "The 2nd row and 8th column has a value of  0.689837369124  and is not bigger than 0.5.\n",
      "\n",
      "The 3rd row and 2nd column has a value of  0.250007435157  and is not bigger than 0.5.\n",
      "\n",
      "The 3rd row and 4th column has a value of  0.866878892184  and is not bigger than 0.5.\n",
      "\n",
      "The 3rd row and 6th column has a value of  0.879112350846  and is not bigger than 0.5.\n",
      "\n",
      "The 3rd row and 7th column has a value of  0.62679161888  and is not bigger than 0.5.\n",
      "\n",
      "The 3rd row and 8th column has a value of  0.332997892305  and is not bigger than 0.5.\n",
      "\n",
      "The 4th row and 2nd column has a value of  0.495019155549  and is not bigger than 0.5.\n",
      "\n",
      "The 4th row and 3rd column has a value of  0.391551499308  and is not bigger than 0.5.\n",
      "\n"
     ]
    }
   ],
   "source": [
    "for index, val in np.ndenumerate(B):\n",
    "    if val == 0:\n",
    "\n",
    "        ending = ['', '']\n",
    "        for i in range(2):\n",
    "            if index[i]+1 == 1:\n",
    "                ending[i] = 'st'\n",
    "            elif index[i]+1 == 2:\n",
    "                ending[i] = 'nd'\n",
    "            elif index[i]+1 == 3:\n",
    "                ending[i] = 'rd'\n",
    "            else:\n",
    "                ending[i] = 'th'\n",
    "\n",
    "        print('The', str(index[0]+1) + str(ending[0]), 'row and',\n",
    "              str(index[1]+1) + str(ending[1]), 'column has a value of ',\n",
    "              A[index], ' and is not bigger than 0.5.\\n')"
   ]
  },
  {
   "cell_type": "markdown",
   "metadata": {},
   "source": [
    "# 4.7.1.5\n",
    "Put this code into a separate function that you can call from the command line with two inputs, corresponding to the number of rows and the number of columns of the matrix"
   ]
  },
  {
   "cell_type": "code",
   "execution_count": 14,
   "metadata": {
    "collapsed": true
   },
   "outputs": [],
   "source": [
    "def mat_evaluator(rows, columns):\n",
    "    \"\"\" Creates a matrix with its dimensions defined by the input.\n",
    "        Values are determined by the rand() function.\n",
    "\n",
    "        Prints all indeces of the matrix that have a value lower than 0.5.\n",
    "\n",
    "        Returns: None\n",
    "    \"\"\"\n",
    "\n",
    "    A = np.random.rand(rows, columns)\n",
    "\n",
    "    B = np.zeros((rows, columns))\n",
    "    for index, val in np.ndenumerate(A):\n",
    "        if val > 0.5:\n",
    "            B[index] = 1\n",
    "\n",
    "    for index, val in np.ndenumerate(B):\n",
    "        if val == 0:\n",
    "\n",
    "            ending = ['', '']\n",
    "            for i in range(2):\n",
    "                if index[i]+1 == 1:\n",
    "                    ending[i] = 'st'\n",
    "                elif index[i]+1 == 2:\n",
    "                    ending[i] = 'nd'\n",
    "                elif index[i]+1 == 3:\n",
    "                    ending[i] = 'rd'\n",
    "                else:\n",
    "                    ending[i] = 'th'\n",
    "\n",
    "            print('The', str(index[0]+1) + str(ending[0]), 'row and',\n",
    "                  str(index[1]+1) + str(ending[1]), 'column has a value'\n",
    "                  'of ', A[index], ' and is not bigger than 0.5.\\n')\n"
   ]
  }
 ],
 "metadata": {
  "kernelspec": {
   "display_name": "Python 3",
   "language": "python",
   "name": "python3"
  },
  "language_info": {
   "codemirror_mode": {
    "name": "ipython",
    "version": 3
   },
   "file_extension": ".py",
   "mimetype": "text/x-python",
   "name": "python",
   "nbconvert_exporter": "python",
   "pygments_lexer": "ipython3",
   "version": "3.5.1"
  }
 },
 "nbformat": 4,
 "nbformat_minor": 1
}
