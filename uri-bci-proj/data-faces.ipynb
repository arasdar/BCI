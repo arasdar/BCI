{
 "cells": [
  {
   "cell_type": "code",
   "execution_count": 1,
   "metadata": {},
   "outputs": [],
   "source": [
    "import scipy.io as spio\n",
    "import numpy as np"
   ]
  },
  {
   "cell_type": "code",
   "execution_count": 2,
   "metadata": {},
   "outputs": [
    {
     "name": "stdout",
     "output_type": "stream",
     "text": [
      "BahramFace.mat   DJFace.mat   NickFace.mat   RoohiFace.mat   SarahFace.mat\r\n",
      "BahramFlipp.mat  DJFlipp.mat  NickFlipp.mat  RoohiFlipp.mat  SarahFlipp.mat\r\n"
     ]
    }
   ],
   "source": [
    "ls /home/arasdar/datasets/bci-project-data-RAW/"
   ]
  },
  {
   "cell_type": "code",
   "execution_count": 3,
   "metadata": {},
   "outputs": [],
   "source": [
    "BahramFace = spio.loadmat(file_name='/home/arasdar/datasets/bci-project-data-RAW/BahramFace.mat')\n",
    "DJFace = spio.loadmat(file_name='/home/arasdar/datasets/bci-project-data-RAW/DJFace.mat')\n",
    "NickFace = spio.loadmat(file_name='/home/arasdar/datasets/bci-project-data-RAW/NickFace.mat')\n",
    "RoohiFace = spio.loadmat(file_name='/home/arasdar/datasets/bci-project-data-RAW/RoohiFace.mat')\n",
    "SarahFace = spio.loadmat(file_name='/home/arasdar/datasets/bci-project-data-RAW/SarahFace.mat')"
   ]
  },
  {
   "cell_type": "code",
   "execution_count": 4,
   "metadata": {},
   "outputs": [
    {
     "data": {
      "text/plain": [
       "(dict_keys(['__header__', '__version__', '__globals__', 'Intensification_Data', 'Intensification_Label']),\n",
       " dict_keys(['__header__', '__version__', '__globals__', 'Intensification_Data', 'Intensification_Label']),\n",
       " dict_keys(['__header__', '__version__', '__globals__', 'Intensification_Data', 'Intensification_Label']),\n",
       " dict_keys(['__header__', '__version__', '__globals__', 'Intensification_Data', 'Intensification_Label']),\n",
       " dict_keys(['__header__', '__version__', '__globals__', 'Intensification_Data', 'Intensification_Label']))"
      ]
     },
     "execution_count": 4,
     "metadata": {},
     "output_type": "execute_result"
    }
   ],
   "source": [
    "BahramFace.keys(), DJFace.keys(), NickFace.keys(), RoohiFace.keys(), SarahFace.keys()"
   ]
  },
  {
   "cell_type": "code",
   "execution_count": 5,
   "metadata": {},
   "outputs": [
    {
     "name": "stdout",
     "output_type": "stream",
     "text": [
      "(3600, 205, 16) (3780, 205, 16) (3780, 205, 16) (3780, 205, 16) (3780, 205, 16)\n"
     ]
    }
   ],
   "source": [
    "print(BahramFace['Intensification_Data'].shape, DJFace['Intensification_Data'].shape, \n",
    "NickFace['Intensification_Data'].shape, RoohiFace['Intensification_Data'].shape,\n",
    "SarahFace['Intensification_Data'].shape)"
   ]
  },
  {
   "cell_type": "code",
   "execution_count": 6,
   "metadata": {},
   "outputs": [],
   "source": [
    "AllFacesData = np.concatenate((BahramFace['Intensification_Data'], \n",
    "                       DJFace['Intensification_Data'], \n",
    "                       NickFace['Intensification_Data'],\n",
    "                      RoohiFace['Intensification_Data'],\n",
    "                      SarahFace['Intensification_Data']), axis=0)"
   ]
  },
  {
   "cell_type": "code",
   "execution_count": 7,
   "metadata": {},
   "outputs": [
    {
     "data": {
      "text/plain": [
       "((18720, 205, 16), dtype('<f8'))"
      ]
     },
     "execution_count": 7,
     "metadata": {},
     "output_type": "execute_result"
    }
   ],
   "source": [
    "AllFacesData.shape, AllFacesData.dtype"
   ]
  },
  {
   "cell_type": "code",
   "execution_count": 8,
   "metadata": {},
   "outputs": [],
   "source": [
    "AllFacesLabel = np.concatenate((BahramFace['Intensification_Label'],\n",
    "                               DJFace['Intensification_Label'],\n",
    "                               NickFace['Intensification_Label'],\n",
    "                               RoohiFace['Intensification_Label'],\n",
    "                               SarahFace['Intensification_Label']), axis=0)"
   ]
  },
  {
   "cell_type": "code",
   "execution_count": 9,
   "metadata": {},
   "outputs": [
    {
     "name": "stdout",
     "output_type": "stream",
     "text": [
      "(18720, 1) uint8\n"
     ]
    }
   ],
   "source": [
    "print(AllFacesLabel.shape, AllFacesLabel.dtype)"
   ]
  },
  {
   "cell_type": "code",
   "execution_count": 10,
   "metadata": {},
   "outputs": [
    {
     "name": "stdout",
     "output_type": "stream",
     "text": [
      "0.833333333333 0.833333333333 0.833333333333 0.833333333333 0.833333333333\n"
     ]
    }
   ],
   "source": [
    "print(np.mean(BahramFace['Intensification_Label']==0), np.mean(DJFace['Intensification_Label']==0),\n",
    "np.mean(NickFace['Intensification_Label']==0), np.mean(RoohiFace['Intensification_Label']==0), \n",
    "np.mean(SarahFace['Intensification_Label']==0))"
   ]
  },
  {
   "cell_type": "code",
   "execution_count": 11,
   "metadata": {},
   "outputs": [
    {
     "name": "stdout",
     "output_type": "stream",
     "text": [
      "0.833333333333 0.166666666667\n"
     ]
    }
   ],
   "source": [
    "print(np.mean(AllFacesLabel==0), np.mean(AllFacesLabel==1))"
   ]
  },
  {
   "cell_type": "code",
   "execution_count": 12,
   "metadata": {},
   "outputs": [],
   "source": [
    "AllFacesLabelOne = (AllFacesLabel==1).reshape(-1)"
   ]
  },
  {
   "cell_type": "code",
   "execution_count": 13,
   "metadata": {},
   "outputs": [],
   "source": [
    "AllFacesData_LabelOne = AllFacesData[AllFacesLabelOne]"
   ]
  },
  {
   "cell_type": "code",
   "execution_count": 14,
   "metadata": {},
   "outputs": [
    {
     "name": "stdout",
     "output_type": "stream",
     "text": [
      "(18720, 205, 16) (3120, 205, 16)\n"
     ]
    }
   ],
   "source": [
    "print(AllFacesData.shape, AllFacesData_LabelOne.shape)"
   ]
  },
  {
   "cell_type": "code",
   "execution_count": 15,
   "metadata": {},
   "outputs": [],
   "source": [
    "AllFacesLabelZero = (AllFacesLabel==0).reshape(-1)"
   ]
  },
  {
   "cell_type": "code",
   "execution_count": 16,
   "metadata": {},
   "outputs": [],
   "source": [
    "AllFacesData_LabelZero = AllFacesData[AllFacesLabelZero]"
   ]
  },
  {
   "cell_type": "code",
   "execution_count": 17,
   "metadata": {},
   "outputs": [
    {
     "name": "stdout",
     "output_type": "stream",
     "text": [
      "(3120, 205, 16) (15600, 205, 16) (18720, 205, 16) float64 float64 float64\n"
     ]
    }
   ],
   "source": [
    "print(AllFacesData_LabelOne.shape, AllFacesData_LabelZero.shape, AllFacesData.shape,\n",
    "      AllFacesData_LabelOne.dtype, AllFacesData_LabelZero.dtype, AllFacesData.dtype)"
   ]
  },
  {
   "cell_type": "code",
   "execution_count": 18,
   "metadata": {},
   "outputs": [
    {
     "name": "stdout",
     "output_type": "stream",
     "text": [
      "(18720,) (18720,) (18720, 1) bool bool uint8\n"
     ]
    }
   ],
   "source": [
    "print(AllFacesLabelOne.shape, AllFacesLabelZero.shape, AllFacesLabel.shape,\n",
    "      AllFacesLabelOne.dtype, AllFacesLabelZero.dtype, AllFacesLabel.dtype)"
   ]
  },
  {
   "cell_type": "code",
   "execution_count": 19,
   "metadata": {},
   "outputs": [
    {
     "name": "stdout",
     "output_type": "stream",
     "text": [
      "15600 15600\n"
     ]
    }
   ],
   "source": [
    "print(AllFacesData_LabelOne.shape[0] * 5, AllFacesData_LabelZero.shape[0])"
   ]
  },
  {
   "cell_type": "code",
   "execution_count": 20,
   "metadata": {},
   "outputs": [
    {
     "name": "stdout",
     "output_type": "stream",
     "text": [
      "(3120, 205, 16) float64\n",
      "(3120, 205, 16) float64\n",
      "(3120, 205, 16) float64\n",
      "(3120, 205, 16) float64\n",
      "(3120, 205, 16) float64\n"
     ]
    }
   ],
   "source": [
    "# Linear synthetic data augmentatiion or creation or generation\n",
    "AllFacesData_LabelOneNew_list = []\n",
    "\n",
    "# w*data+b: translation, rotation, and scaling\n",
    "# linear transformation of the target data\n",
    "w, b = 1.0, 0.0\n",
    "for idx in range(5):\n",
    "    AllFacesData_LabelOneNew = (w * AllFacesData_LabelOne) + b\n",
    "    print(AllFacesData_LabelOneNew.shape, AllFacesData_LabelOneNew.dtype)\n",
    "    AllFacesData_LabelOneNew_list.append(AllFacesData_LabelOneNew)\n",
    "    w *= 0.9 # 1.0, 0.9, 0.81, 0.729\n",
    "    b += 0.1 # 0.1, 0.2, 0.3"
   ]
  },
  {
   "cell_type": "code",
   "execution_count": 21,
   "metadata": {},
   "outputs": [],
   "source": [
    "AllFacesData_LabelOneNew_total = np.array(AllFacesData_LabelOneNew_list, dtype=AllFacesData_LabelOne.dtype).reshape(-1, 205, 16)"
   ]
  },
  {
   "cell_type": "code",
   "execution_count": 22,
   "metadata": {},
   "outputs": [
    {
     "data": {
      "text/plain": [
       "((15600, 205, 16),\n",
       " dtype('<f8'),\n",
       " (3120, 205, 16),\n",
       " dtype('<f8'),\n",
       " (15600, 205, 16),\n",
       " dtype('<f8'),\n",
       " (18720, 205, 16),\n",
       " dtype('<f8'))"
      ]
     },
     "execution_count": 22,
     "metadata": {},
     "output_type": "execute_result"
    }
   ],
   "source": [
    "(AllFacesData_LabelOneNew_total.shape, AllFacesData_LabelOneNew_total.dtype, \n",
    " AllFacesData_LabelOne.shape, AllFacesData_LabelOne.dtype,\n",
    " AllFacesData_LabelZero.shape, AllFacesData_LabelZero.dtype,\n",
    "AllFacesData.shape, AllFacesData.dtype)"
   ]
  },
  {
   "cell_type": "code",
   "execution_count": 23,
   "metadata": {},
   "outputs": [],
   "source": [
    "AllFacesDataNew = np.concatenate((AllFacesData_LabelOneNew_total, AllFacesData_LabelZero), axis=0)"
   ]
  },
  {
   "cell_type": "code",
   "execution_count": 24,
   "metadata": {},
   "outputs": [
    {
     "name": "stdout",
     "output_type": "stream",
     "text": [
      "(18720,) (18720,)\n"
     ]
    }
   ],
   "source": [
    "print(AllFacesLabelOne.shape, AllFacesLabelZero.shape)"
   ]
  },
  {
   "cell_type": "code",
   "execution_count": 25,
   "metadata": {},
   "outputs": [],
   "source": [
    "AllFacesLabelNew = np.concatenate((AllFacesLabel[AllFacesLabelZero], # Tgt = 6*Non-Tgt\n",
    "                                   AllFacesLabel[AllFacesLabelOne],\n",
    "                                   AllFacesLabel[AllFacesLabelOne],\n",
    "                                   AllFacesLabel[AllFacesLabelOne], \n",
    "                                   AllFacesLabel[AllFacesLabelOne], \n",
    "                                   AllFacesLabel[AllFacesLabelOne]), axis=0)"
   ]
  },
  {
   "cell_type": "code",
   "execution_count": 26,
   "metadata": {},
   "outputs": [
    {
     "name": "stdout",
     "output_type": "stream",
     "text": [
      "(31200, 205, 16) float64 (31200, 1) uint8\n"
     ]
    }
   ],
   "source": [
    "print(AllFacesDataNew.shape, AllFacesDataNew.dtype, AllFacesLabelNew.shape, AllFacesLabelNew.dtype)"
   ]
  },
  {
   "cell_type": "code",
   "execution_count": 27,
   "metadata": {},
   "outputs": [
    {
     "data": {
      "text/plain": [
       "(0.5, 0.5)"
      ]
     },
     "execution_count": 27,
     "metadata": {},
     "output_type": "execute_result"
    }
   ],
   "source": [
    "np.mean(AllFacesLabelNew==0), np.mean(AllFacesLabelNew==1)"
   ]
  },
  {
   "cell_type": "code",
   "execution_count": 28,
   "metadata": {},
   "outputs": [
    {
     "name": "stdout",
     "output_type": "stream",
     "text": [
      "(31200, 205, 16) float64\n"
     ]
    }
   ],
   "source": [
    "print(AllFacesDataNew.shape, AllFacesDataNew.dtype)"
   ]
  },
  {
   "cell_type": "code",
   "execution_count": null,
   "metadata": {},
   "outputs": [],
   "source": []
  }
 ],
 "metadata": {
  "kernelspec": {
   "display_name": "Python 3",
   "language": "python",
   "name": "python3"
  },
  "language_info": {
   "codemirror_mode": {
    "name": "ipython",
    "version": 3
   },
   "file_extension": ".py",
   "mimetype": "text/x-python",
   "name": "python",
   "nbconvert_exporter": "python",
   "pygments_lexer": "ipython3",
   "version": "3.6.3"
  }
 },
 "nbformat": 4,
 "nbformat_minor": 2
}
