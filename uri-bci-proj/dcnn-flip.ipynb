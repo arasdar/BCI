{
 "cells": [
  {
   "cell_type": "code",
   "execution_count": 14,
   "metadata": {},
   "outputs": [
    {
     "name": "stdout",
     "output_type": "stream",
     "text": [
      "(31500, 205, 16) float64 (31500, 1) uint8\n",
      "0.5 0.5 0.0 0.0\n",
      "[2]\n"
     ]
    }
   ],
   "source": [
    "# Read the dataset\n",
    "import scipy.io as spio\n",
    "import numpy as np\n",
    "\n",
    "BahramFlip = spio.loadmat(file_name='/home/arasdar/datasets/bci-project-data-RAW/BahramFlipp.mat')\n",
    "DJFlip = spio.loadmat(file_name='/home/arasdar/datasets/bci-project-data-RAW/DJFlipp.mat')\n",
    "NickFlip = spio.loadmat(file_name='/home/arasdar/datasets/bci-project-data-RAW/NickFlipp.mat')\n",
    "RoohiFlip = spio.loadmat(file_name='/home/arasdar/datasets/bci-project-data-RAW/RoohiFlipp.mat')\n",
    "SarahFlip = spio.loadmat(file_name='/home/arasdar/datasets/bci-project-data-RAW/SarahFlipp.mat')\n",
    "\n",
    "AllData = np.concatenate((BahramFlip['Intensification_Data'],\n",
    "                            DJFlip['Intensification_Data'],\n",
    "                            NickFlip['Intensification_Data'],\n",
    "                            RoohiFlip['Intensification_Data'],\n",
    "                            SarahFlip['Intensification_Data']), axis=0)\n",
    "\n",
    "AllLabels = np.concatenate((BahramFlip['Intensification_Label'],\n",
    "                            DJFlip['Intensification_Label'],\n",
    "                            NickFlip['Intensification_Label'],\n",
    "                            RoohiFlip['Intensification_Label'],\n",
    "                            SarahFlip['Intensification_Label']), axis=0)\n",
    "\n",
    "AllLabelOne = (AllLabels==1).reshape(-1)\n",
    "AllData_LabelOne = AllData[AllLabelOne]\n",
    "\n",
    "AllLabelZero = (AllLabels==0).reshape(-1)\n",
    "AllData_LabelZero = AllData[AllLabelZero]\n",
    "\n",
    "# Linear synthetic data augmentatiion or creation or generation\n",
    "AllData_LabelOneNew_list = []\n",
    "\n",
    "# w*data+b: translation, rotation, and scaling\n",
    "# linear transformation of the target data\n",
    "w, b = 1.0, 0.0\n",
    "for idx in range(5):\n",
    "    AllData_LabelOneNew = (w * AllData_LabelOne) + b\n",
    "    AllData_LabelOneNew_list.append(AllData_LabelOneNew)\n",
    "    w *= 0.9 # 1.0, 0.9, 0.81, 0.729\n",
    "    b += 0.1 # 0.1, 0.2, 0.3\n",
    "\n",
    "AllData_LabelOneNew_total = np.array(AllData_LabelOneNew_list, \n",
    "                                      dtype=AllData_LabelOne.dtype).reshape(-1, 205, 16)\n",
    "\n",
    "AllDataNew = np.concatenate((AllData_LabelOneNew_total, AllData_LabelZero), axis=0)\n",
    "AllLabelsNew = np.concatenate((AllLabels[AllLabelZero], # Tgt = 6*Non-Tgt\n",
    "                                   AllLabels[AllLabelOne],\n",
    "                                   AllLabels[AllLabelOne],\n",
    "                                   AllLabels[AllLabelOne], \n",
    "                                   AllLabels[AllLabelOne], \n",
    "                                   AllLabels[AllLabelOne]), axis=0)\n",
    "\n",
    "print(AllDataNew.shape, AllDataNew.dtype, AllLabelsNew.shape, AllLabelsNew.dtype)\n",
    "print(np.mean(AllLabelsNew==0), np.mean(AllLabelsNew==1), np.mean(AllLabelsNew==2), np.mean(AllLabelsNew==3))\n",
    "print((AllLabelsNew +  1).max(axis=0))"
   ]
  },
  {
   "cell_type": "code",
   "execution_count": 2,
   "metadata": {},
   "outputs": [
    {
     "name": "stdout",
     "output_type": "stream",
     "text": [
      "(22050, 205, 16) (9450, 205, 16) (22050, 1) (9450, 1)\n"
     ]
    }
   ],
   "source": [
    "# Train and test split\n",
    "from sklearn.model_selection import train_test_split\n",
    "\n",
    "X_train_valid, X_test, Y_train_valid, Y_test = train_test_split(AllDataNew, AllLabelsNew, test_size=0.30)\n",
    "\n",
    "print(X_train_valid.shape, X_test.shape, Y_train_valid.shape, Y_test.shape)"
   ]
  },
  {
   "cell_type": "code",
   "execution_count": 3,
   "metadata": {},
   "outputs": [
    {
     "name": "stdout",
     "output_type": "stream",
     "text": [
      "0.0 0.496009070295 0.503990929705 0.0\n",
      "(22050, 2) float64 (9450, 2) float64\n"
     ]
    }
   ],
   "source": [
    "# Preparing input and output data\n",
    "from utilities import *\n",
    "\n",
    "# Normalizing/standardizing the input data features\n",
    "X_train_valid_norm, X_test_norm = standardize(test=X_test, train=X_train_valid)\n",
    "\n",
    "# Onehot encoding/vectorizing the output data labels\n",
    "print(np.mean((Y_train_valid+1).reshape(-1)==0), np.mean((Y_train_valid+1).reshape(-1)==1),\n",
    "     np.mean((Y_train_valid+1).reshape(-1)==2), np.mean((Y_train_valid+1).reshape(-1)==3))\n",
    "\n",
    "Y_train_valid_onehot = one_hot(labels=(Y_train_valid+1).reshape(-1), n_class=2) \n",
    "Y_test_onehot = one_hot(labels=(Y_test+1).reshape(-1), n_class=2) \n",
    "\n",
    "print(Y_train_valid_onehot.shape, Y_train_valid_onehot.dtype, \n",
    "      Y_test_onehot.shape, Y_test_onehot.dtype)"
   ]
  },
  {
   "cell_type": "code",
   "execution_count": 4,
   "metadata": {},
   "outputs": [
    {
     "name": "stdout",
     "output_type": "stream",
     "text": [
      "(15435, 205, 16) (6615, 205, 16) (15435, 2) (6615, 2)\n"
     ]
    }
   ],
   "source": [
    "# Train and valid split\n",
    "# from sklearn.model_selection import train_test_split\n",
    "\n",
    "X_train_norm, X_valid_norm, Y_train_onehot, Y_valid_onehot = train_test_split(X_train_valid_norm, \n",
    "                                                                              Y_train_valid_onehot,\n",
    "                                                                              test_size=0.30)\n",
    "\n",
    "print(X_train_norm.shape, X_valid_norm.shape, Y_train_onehot.shape, Y_valid_onehot.shape)"
   ]
  },
  {
   "cell_type": "code",
   "execution_count": 5,
   "metadata": {},
   "outputs": [
    {
     "name": "stdout",
     "output_type": "stream",
     "text": [
      "batch_size, seq_len, n_channels 154 205 16\n",
      "n_classes [2]\n"
     ]
    }
   ],
   "source": [
    "## Hyperparameters\n",
    "# Input data\n",
    "batch_size = X_train_norm.shape[0]// 100 # minibatch size & number of minibatches\n",
    "seq_len = X_train_norm.shape[1] # Number of steps: each trial length\n",
    "n_channels = X_train_norm.shape[2] # number of channels in each trial\n",
    "print('batch_size, seq_len, n_channels', batch_size, seq_len, n_channels)\n",
    "\n",
    "# Output labels\n",
    "n_classes = Y_train_valid.max(axis=0)+1\n",
    "assert Y_train_valid.max(axis=0) == Y_test.max(axis=0)\n",
    "print('n_classes', n_classes)\n",
    "\n",
    "# learning parameters\n",
    "learning_rate = 0.0001 #1e-4\n",
    "epochs = 100 # num iterations for updating model\n",
    "keep_prob = 0.50 # 90% neurons are kept and 10% are dropped out"
   ]
  },
  {
   "cell_type": "code",
   "execution_count": 6,
   "metadata": {},
   "outputs": [
    {
     "name": "stdout",
     "output_type": "stream",
     "text": [
      "TensorFlow Version: 1.3.0\n",
      "Default GPU Device: /gpu:0\n"
     ]
    }
   ],
   "source": [
    "# GPUs or CPU\n",
    "import tensorflow as tf\n",
    "\n",
    "# Check TensorFlow Version\n",
    "print('TensorFlow Version: {}'.format(tf.__version__))\n",
    "\n",
    "# Check for a GPU\n",
    "print('Default GPU Device: {}'.format(tf.test.gpu_device_name()))"
   ]
  },
  {
   "cell_type": "code",
   "execution_count": 7,
   "metadata": {},
   "outputs": [],
   "source": [
    "# Feed the data from python/numpy to tensorflow framework\n",
    "inputs_ = tf.placeholder(tf.float32, [None, seq_len, n_channels], name = 'inputs_')\n",
    "labels_ = tf.placeholder(tf.float32, [None, n_classes], name = 'labels_')\n",
    "keep_prob_ = tf.placeholder(tf.float32, name = 'keep_prob_')\n",
    "learning_rate_ = tf.placeholder(tf.float32, name = 'learning_rate_')# Construct the LSTM inputs and LSTM cells"
   ]
  },
  {
   "cell_type": "code",
   "execution_count": 8,
   "metadata": {},
   "outputs": [
    {
     "name": "stdout",
     "output_type": "stream",
     "text": [
      "inputs_.shape, conv1.shape, max_pool_1.shape (?, 205, 16) (?, 204, 32) (?, 102, 32)\n",
      "max_pool_1.shape, conv2.shape, max_pool_2.shape (?, 102, 32) (?, 102, 64) (?, 51, 64)\n",
      "max_pool_2.shape, conv3.shape, max_pool_3.shape (?, 51, 64) (?, 50, 128) (?, 25, 128)\n",
      "max_pool_3.shape, conv4.shape, max_pool_4.shape (?, 25, 128) (?, 24, 256) (?, 12, 256)\n",
      "max_pool_4.shape, flat.shape, logits.shape (?, 12, 256) (?, 3072) (?, 2)\n"
     ]
    }
   ],
   "source": [
    "# batch_size, seq_len, n_channels: 154 205 16; n_classes [2]\n",
    "# (batch, 205, 16) --> (batch, 102, 32)\n",
    "# conv valid: (205-2+0)/1 + 1 = (203/1)+1 = 203 + 1=204\n",
    "# pool same: (204-2+0)/2 + 1 = (202/2)+1 = 101 + 1=102\n",
    "conv1 = tf.layers.conv1d(inputs=inputs_, filters=32, kernel_size=2, strides=1, padding='valid', \n",
    "                         activation = tf.nn.relu)\n",
    "max_pool_1 = tf.layers.max_pooling1d(inputs=conv1, pool_size=2, strides=2, padding='same')\n",
    "# max_pool_1 = tf.nn.dropout(max_pool_1, keep_prob=keep_prob_)\n",
    "print('inputs_.shape, conv1.shape, max_pool_1.shape', inputs_.shape, conv1.shape, max_pool_1.shape)\n",
    "\n",
    "# (batch, 102, 32) --> (batch, 51, 64)\n",
    "# conv same\n",
    "# pool same: (102-2+0)/2 + 1 = (100/2)+1 = 50 + 1=51\n",
    "conv2 = tf.layers.conv1d(inputs=max_pool_1, filters=64, kernel_size=2, strides=1, padding='same', \n",
    "                         activation = tf.nn.relu)\n",
    "max_pool_2 = tf.layers.max_pooling1d(inputs=conv2, pool_size=2, strides=2, padding='same')\n",
    "# max_pool_2 = tf.nn.dropout(max_pool_2, keep_prob=keep_prob_)\n",
    "print('max_pool_1.shape, conv2.shape, max_pool_2.shape', max_pool_1.shape, conv2.shape, max_pool_2.shape)\n",
    "\n",
    "# (batch, 51, 64) --> (batch, 25, 128)\n",
    "# conv valid: (51-2+0)/1 + 1 = (49/1)+1 = 49 + 1=50\n",
    "# pool same: (50-2+0)/2 + 1 = (48/2)+1 = 24 + 1=25\n",
    "conv3 = tf.layers.conv1d(inputs=max_pool_2, filters=128, kernel_size=2, strides=1, padding='valid', \n",
    "                         activation = tf.nn.relu)\n",
    "max_pool_3 = tf.layers.max_pooling1d(inputs=conv3, pool_size=2, strides=2, padding='same')\n",
    "# max_pool_3 = tf.nn.dropout(max_pool_3, keep_prob=keep_prob_)\n",
    "print('max_pool_2.shape, conv3.shape, max_pool_3.shape', max_pool_2.shape, conv3.shape, max_pool_3.shape)\n",
    "\n",
    "# (batch, 25, 128) --> (batch, 12, 256)\n",
    "# conv valid: (25-2+0)/1 + 1 = (23/1)+1 = 23 + 1=24\n",
    "# pool same: (24-2+0)/2 + 1 = (22/2)+1 = 11 + 1=12\n",
    "conv4 = tf.layers.conv1d(inputs=max_pool_3, filters=256, kernel_size=2, strides=1, padding='valid', \n",
    "                         activation = tf.nn.relu)\n",
    "max_pool_4 = tf.layers.max_pooling1d(inputs=conv4, pool_size=2, strides=2, padding='same')\n",
    "# max_pool_4 = tf.nn.dropout(max_pool_4, keep_prob=keep_prob_)\n",
    "print('max_pool_3.shape, conv4.shape, max_pool_4.shape', max_pool_3.shape, conv4.shape, max_pool_4.shape)\n",
    "\n",
    "# Flatten and add dropout + predicted output\n",
    "flat = tf.reshape(max_pool_4, (-1, 12*256))\n",
    "flat = tf.nn.dropout(flat, keep_prob=keep_prob_)\n",
    "logits = tf.layers.dense(flat, n_classes)\n",
    "print('max_pool_4.shape, flat.shape, logits.shape', max_pool_4.shape, flat.shape, logits.shape)"
   ]
  },
  {
   "cell_type": "code",
   "execution_count": 9,
   "metadata": {},
   "outputs": [
    {
     "name": "stdout",
     "output_type": "stream",
     "text": [
      "cost_tensor, cost Tensor(\"Reshape_3:0\", shape=(?,), dtype=float32) Tensor(\"Mean:0\", shape=(), dtype=float32)\n",
      "optimizer name: \"Adam\"\n",
      "op: \"NoOp\"\n",
      "input: \"^Adam/update_conv1d/kernel/ApplyAdam\"\n",
      "input: \"^Adam/update_conv1d/bias/ApplyAdam\"\n",
      "input: \"^Adam/update_conv1d_1/kernel/ApplyAdam\"\n",
      "input: \"^Adam/update_conv1d_1/bias/ApplyAdam\"\n",
      "input: \"^Adam/update_conv1d_2/kernel/ApplyAdam\"\n",
      "input: \"^Adam/update_conv1d_2/bias/ApplyAdam\"\n",
      "input: \"^Adam/update_conv1d_3/kernel/ApplyAdam\"\n",
      "input: \"^Adam/update_conv1d_3/bias/ApplyAdam\"\n",
      "input: \"^Adam/update_dense/kernel/ApplyAdam\"\n",
      "input: \"^Adam/update_dense/bias/ApplyAdam\"\n",
      "input: \"^Adam/Assign\"\n",
      "input: \"^Adam/Assign_1\"\n",
      "\n",
      "correct_pred, accuracy Tensor(\"Equal:0\", shape=(?,), dtype=bool) Tensor(\"accuracy:0\", shape=(), dtype=float32)\n",
      "confusion_matrix Tensor(\"confusion_matrix/SparseTensorDenseAdd:0\", shape=(?, ?), dtype=int32)\n"
     ]
    }
   ],
   "source": [
    "# Backward pass: error backpropagation\n",
    "# Cost function\n",
    "cost_tensor = tf.nn.softmax_cross_entropy_with_logits(logits=logits, labels=labels_)\n",
    "cost = tf.reduce_mean(input_tensor=cost_tensor)\n",
    "print('cost_tensor, cost', cost_tensor, cost)\n",
    "\n",
    "# Optimizer\n",
    "optimizer = tf.train.AdamOptimizer(learning_rate=learning_rate_).minimize(cost)\n",
    "print('optimizer', optimizer)\n",
    "\n",
    "# Accuracy\n",
    "correct_pred = tf.equal(tf.argmax(logits, 1), tf.argmax(labels_, 1))\n",
    "accuracy = tf.reduce_mean(tf.cast(correct_pred, tf.float32), name='accuracy')\n",
    "print('correct_pred, accuracy', correct_pred, accuracy)\n",
    "\n",
    "# Confusion matrix\n",
    "confusion_matrix = tf.confusion_matrix(predictions=tf.argmax(logits, 1),\n",
    "                                       labels=tf.argmax(labels_, 1))\n",
    "print('confusion_matrix', confusion_matrix)"
   ]
  },
  {
   "cell_type": "code",
   "execution_count": 10,
   "metadata": {},
   "outputs": [
    {
     "name": "stdout",
     "output_type": "stream",
     "text": [
      "Epoch: 1/100 Train loss: 0.691501 Valid loss: 0.674262 Train acc: 0.540195 Valid acc: 0.563375\n",
      "Epoch: 2/100 Train loss: 0.669107 Valid loss: 0.654635 Train acc: 0.586591 Valid acc: 0.615582\n",
      "Epoch: 3/100 Train loss: 0.643742 Valid loss: 0.630990 Train acc: 0.626234 Valid acc: 0.652240\n",
      "Epoch: 4/100 Train loss: 0.618682 Valid loss: 0.606479 Train acc: 0.655893 Valid acc: 0.679131\n",
      "Epoch: 5/100 Train loss: 0.594868 Valid loss: 0.583571 Train acc: 0.679454 Valid acc: 0.699664\n",
      "Epoch: 6/100 Train loss: 0.574667 Valid loss: 0.563846 Train acc: 0.697738 Valid acc: 0.715374\n",
      "Epoch: 7/100 Train loss: 0.556488 Valid loss: 0.546650 Train acc: 0.712523 Valid acc: 0.728199\n",
      "Epoch: 8/100 Train loss: 0.541322 Valid loss: 0.532206 Train acc: 0.724034 Valid acc: 0.738478\n",
      "Epoch: 9/100 Train loss: 0.528022 Valid loss: 0.519629 Train acc: 0.734120 Valid acc: 0.747171\n",
      "Epoch: 10/100 Train loss: 0.515967 Valid loss: 0.508722 Train acc: 0.742883 Valid acc: 0.754481\n",
      "Epoch: 11/100 Train loss: 0.505256 Valid loss: 0.499199 Train acc: 0.750378 Valid acc: 0.760744\n",
      "Epoch: 12/100 Train loss: 0.495929 Valid loss: 0.490628 Train acc: 0.757035 Valid acc: 0.766235\n",
      "Epoch: 13/100 Train loss: 0.487295 Valid loss: 0.483030 Train acc: 0.762982 Valid acc: 0.771068\n",
      "Epoch: 14/100 Train loss: 0.479544 Valid loss: 0.476147 Train acc: 0.768293 Valid acc: 0.775378\n",
      "Epoch: 15/100 Train loss: 0.472274 Valid loss: 0.469850 Train acc: 0.773052 Valid acc: 0.779269\n",
      "Epoch: 16/100 Train loss: 0.465810 Valid loss: 0.464133 Train acc: 0.777386 Valid acc: 0.782750\n",
      "Epoch: 17/100 Train loss: 0.459768 Valid loss: 0.458873 Train acc: 0.781402 Valid acc: 0.785903\n",
      "Epoch: 18/100 Train loss: 0.453983 Valid loss: 0.453861 Train acc: 0.785231 Valid acc: 0.788890\n",
      "Epoch: 19/100 Train loss: 0.448201 Valid loss: 0.449207 Train acc: 0.788927 Valid acc: 0.791633\n",
      "Epoch: 20/100 Train loss: 0.442913 Valid loss: 0.444809 Train acc: 0.792312 Valid acc: 0.794192\n",
      "Epoch: 21/100 Train loss: 0.437928 Valid loss: 0.440713 Train acc: 0.795346 Valid acc: 0.796568\n",
      "Epoch: 22/100 Train loss: 0.433185 Valid loss: 0.436810 Train acc: 0.798297 Valid acc: 0.798827\n",
      "Epoch: 23/100 Train loss: 0.428472 Valid loss: 0.433106 Train acc: 0.801214 Valid acc: 0.800971\n",
      "Epoch: 24/100 Train loss: 0.424140 Valid loss: 0.429625 Train acc: 0.803874 Valid acc: 0.802964\n",
      "Epoch: 25/100 Train loss: 0.419884 Valid loss: 0.426264 Train acc: 0.806514 Valid acc: 0.804872\n",
      "Epoch: 26/100 Train loss: 0.415817 Valid loss: 0.423094 Train acc: 0.809013 Valid acc: 0.806672\n",
      "Epoch: 27/100 Train loss: 0.411911 Valid loss: 0.420066 Train acc: 0.811342 Valid acc: 0.808383\n",
      "Epoch: 28/100 Train loss: 0.408157 Valid loss: 0.417158 Train acc: 0.813574 Valid acc: 0.810031\n",
      "Epoch: 29/100 Train loss: 0.404587 Valid loss: 0.414410 Train acc: 0.815625 Valid acc: 0.811574\n",
      "Epoch: 30/100 Train loss: 0.401094 Valid loss: 0.411768 Train acc: 0.817723 Valid acc: 0.813051\n",
      "Epoch: 31/100 Train loss: 0.397603 Valid loss: 0.409152 Train acc: 0.819778 Valid acc: 0.814522\n",
      "Epoch: 32/100 Train loss: 0.394263 Valid loss: 0.406624 Train acc: 0.821690 Valid acc: 0.815911\n",
      "Epoch: 33/100 Train loss: 0.391075 Valid loss: 0.404211 Train acc: 0.823560 Valid acc: 0.817240\n",
      "Epoch: 34/100 Train loss: 0.387933 Valid loss: 0.401859 Train acc: 0.825361 Valid acc: 0.818524\n",
      "Epoch: 35/100 Train loss: 0.384796 Valid loss: 0.399566 Train acc: 0.827096 Valid acc: 0.819768\n",
      "Epoch: 36/100 Train loss: 0.381807 Valid loss: 0.397405 Train acc: 0.828810 Valid acc: 0.820937\n",
      "Epoch: 37/100 Train loss: 0.378896 Valid loss: 0.395271 Train acc: 0.830484 Valid acc: 0.822105\n",
      "Epoch: 38/100 Train loss: 0.376018 Valid loss: 0.393186 Train acc: 0.832032 Valid acc: 0.823241\n",
      "Epoch: 39/100 Train loss: 0.373110 Valid loss: 0.391140 Train acc: 0.833636 Valid acc: 0.824355\n",
      "Epoch: 40/100 Train loss: 0.370367 Valid loss: 0.389152 Train acc: 0.835200 Valid acc: 0.825434\n",
      "Epoch: 41/100 Train loss: 0.367688 Valid loss: 0.387239 Train acc: 0.836614 Valid acc: 0.826454\n",
      "Epoch: 42/100 Train loss: 0.365007 Valid loss: 0.385368 Train acc: 0.838089 Valid acc: 0.827448\n",
      "Epoch: 43/100 Train loss: 0.362402 Valid loss: 0.383532 Train acc: 0.839491 Valid acc: 0.828423\n",
      "Epoch: 44/100 Train loss: 0.359791 Valid loss: 0.381755 Train acc: 0.840906 Valid acc: 0.829365\n",
      "Epoch: 45/100 Train loss: 0.357320 Valid loss: 0.380025 Train acc: 0.842206 Valid acc: 0.830270\n",
      "Epoch: 46/100 Train loss: 0.354892 Valid loss: 0.378339 Train acc: 0.843514 Valid acc: 0.831155\n",
      "Epoch: 47/100 Train loss: 0.352473 Valid loss: 0.376710 Train acc: 0.844826 Valid acc: 0.832016\n",
      "Epoch: 48/100 Train loss: 0.350103 Valid loss: 0.375120 Train acc: 0.846084 Valid acc: 0.832852\n",
      "Epoch: 49/100 Train loss: 0.347779 Valid loss: 0.373539 Train acc: 0.847303 Valid acc: 0.833678\n",
      "Epoch: 50/100 Train loss: 0.345421 Valid loss: 0.372010 Train acc: 0.848560 Valid acc: 0.834473\n",
      "Epoch: 51/100 Train loss: 0.343176 Valid loss: 0.370522 Train acc: 0.849719 Valid acc: 0.835237\n",
      "Epoch: 52/100 Train loss: 0.340897 Valid loss: 0.369100 Train acc: 0.850870 Valid acc: 0.835968\n",
      "Epoch: 53/100 Train loss: 0.338610 Valid loss: 0.367667 Train acc: 0.852082 Valid acc: 0.836699\n",
      "Epoch: 54/100 Train loss: 0.336441 Valid loss: 0.366254 Train acc: 0.853205 Valid acc: 0.837429\n",
      "Epoch: 55/100 Train loss: 0.334304 Valid loss: 0.364875 Train acc: 0.854319 Valid acc: 0.838140\n",
      "Epoch: 56/100 Train loss: 0.332268 Valid loss: 0.363567 Train acc: 0.855378 Valid acc: 0.838813\n",
      "Epoch: 57/100 Train loss: 0.330184 Valid loss: 0.362249 Train acc: 0.856426 Valid acc: 0.839489\n",
      "Epoch: 58/100 Train loss: 0.328129 Valid loss: 0.360969 Train acc: 0.857451 Valid acc: 0.840146\n",
      "Epoch: 59/100 Train loss: 0.326058 Valid loss: 0.359704 Train acc: 0.858470 Valid acc: 0.840795\n",
      "Epoch: 60/100 Train loss: 0.324092 Valid loss: 0.358508 Train acc: 0.859505 Valid acc: 0.841406\n",
      "Epoch: 61/100 Train loss: 0.322172 Valid loss: 0.357336 Train acc: 0.860481 Valid acc: 0.842006\n",
      "Epoch: 62/100 Train loss: 0.320237 Valid loss: 0.356153 Train acc: 0.861474 Valid acc: 0.842608\n",
      "Epoch: 63/100 Train loss: 0.318331 Valid loss: 0.354989 Train acc: 0.862448 Valid acc: 0.843193\n",
      "Epoch: 64/100 Train loss: 0.316451 Valid loss: 0.353815 Train acc: 0.863422 Valid acc: 0.843790\n",
      "Epoch: 65/100 Train loss: 0.314524 Valid loss: 0.352689 Train acc: 0.864407 Valid acc: 0.844369\n",
      "Epoch: 66/100 Train loss: 0.312714 Valid loss: 0.351591 Train acc: 0.865320 Valid acc: 0.844931\n",
      "Epoch: 67/100 Train loss: 0.310907 Valid loss: 0.350504 Train acc: 0.866257 Valid acc: 0.845486\n",
      "Epoch: 68/100 Train loss: 0.309092 Valid loss: 0.349407 Train acc: 0.867196 Valid acc: 0.846042\n",
      "Epoch: 69/100 Train loss: 0.307279 Valid loss: 0.348337 Train acc: 0.868103 Valid acc: 0.846588\n",
      "Epoch: 70/100 Train loss: 0.305492 Valid loss: 0.347282 Train acc: 0.868992 Valid acc: 0.847121\n",
      "Epoch: 71/100 Train loss: 0.303746 Valid loss: 0.346263 Train acc: 0.869848 Valid acc: 0.847637\n",
      "Epoch: 72/100 Train loss: 0.301990 Valid loss: 0.345247 Train acc: 0.870728 Valid acc: 0.848155\n",
      "Epoch: 73/100 Train loss: 0.300320 Valid loss: 0.344276 Train acc: 0.871563 Valid acc: 0.848656\n",
      "Epoch: 74/100 Train loss: 0.298597 Valid loss: 0.343279 Train acc: 0.872434 Valid acc: 0.849161\n",
      "Epoch: 75/100 Train loss: 0.296951 Valid loss: 0.342306 Train acc: 0.873245 Valid acc: 0.849654\n",
      "Epoch: 76/100 Train loss: 0.295298 Valid loss: 0.341351 Train acc: 0.874057 Valid acc: 0.850139\n",
      "Epoch: 77/100 Train loss: 0.293623 Valid loss: 0.340408 Train acc: 0.874909 Valid acc: 0.850620\n",
      "Epoch: 78/100 Train loss: 0.292016 Valid loss: 0.339483 Train acc: 0.875698 Valid acc: 0.851084\n",
      "Epoch: 79/100 Train loss: 0.290416 Valid loss: 0.338596 Train acc: 0.876471 Valid acc: 0.851536\n",
      "Epoch: 80/100 Train loss: 0.288856 Valid loss: 0.337737 Train acc: 0.877222 Valid acc: 0.851981\n",
      "Epoch: 81/100 Train loss: 0.287304 Valid loss: 0.336858 Train acc: 0.877974 Valid acc: 0.852423\n",
      "Epoch: 82/100 Train loss: 0.285753 Valid loss: 0.336026 Train acc: 0.878740 Valid acc: 0.852855\n",
      "Epoch: 83/100 Train loss: 0.284203 Valid loss: 0.335175 Train acc: 0.879495 Valid acc: 0.853287\n",
      "Epoch: 84/100 Train loss: 0.282701 Valid loss: 0.334343 Train acc: 0.880221 Valid acc: 0.853714\n",
      "Epoch: 85/100 Train loss: 0.281275 Valid loss: 0.333562 Train acc: 0.880911 Valid acc: 0.854121\n",
      "Epoch: 86/100 Train loss: 0.279763 Valid loss: 0.332767 Train acc: 0.881645 Valid acc: 0.854529\n"
     ]
    },
    {
     "name": "stdout",
     "output_type": "stream",
     "text": [
      "Epoch: 87/100 Train loss: 0.278290 Valid loss: 0.331963 Train acc: 0.882364 Valid acc: 0.854933\n",
      "Epoch: 88/100 Train loss: 0.276814 Valid loss: 0.331150 Train acc: 0.883075 Valid acc: 0.855339\n",
      "Epoch: 89/100 Train loss: 0.275364 Valid loss: 0.330376 Train acc: 0.883786 Valid acc: 0.855737\n",
      "Epoch: 90/100 Train loss: 0.273939 Valid loss: 0.329611 Train acc: 0.884468 Valid acc: 0.856131\n",
      "Epoch: 91/100 Train loss: 0.272517 Valid loss: 0.328884 Train acc: 0.885158 Valid acc: 0.856507\n",
      "Epoch: 92/100 Train loss: 0.271150 Valid loss: 0.328145 Train acc: 0.885819 Valid acc: 0.856889\n",
      "Epoch: 93/100 Train loss: 0.269762 Valid loss: 0.327400 Train acc: 0.886473 Valid acc: 0.857271\n",
      "Epoch: 94/100 Train loss: 0.268368 Valid loss: 0.326668 Train acc: 0.887137 Valid acc: 0.857638\n",
      "Epoch: 95/100 Train loss: 0.266974 Valid loss: 0.325965 Train acc: 0.887794 Valid acc: 0.858002\n",
      "Epoch: 96/100 Train loss: 0.265575 Valid loss: 0.325282 Train acc: 0.888432 Valid acc: 0.858355\n",
      "Epoch: 97/100 Train loss: 0.264245 Valid loss: 0.324609 Train acc: 0.889079 Valid acc: 0.858704\n",
      "Epoch: 98/100 Train loss: 0.262921 Valid loss: 0.323923 Train acc: 0.889714 Valid acc: 0.859056\n",
      "Epoch: 99/100 Train loss: 0.261617 Valid loss: 0.323243 Train acc: 0.890326 Valid acc: 0.859406\n",
      "Epoch: 100/100 Train loss: 0.260311 Valid loss: 0.322567 Train acc: 0.890938 Valid acc: 0.859763\n"
     ]
    }
   ],
   "source": [
    "train_acc, train_loss = [], []\n",
    "valid_acc, valid_loss = [], []\n",
    "\n",
    "# Save the training result or trained and validated model params\n",
    "saver = tf.train.Saver()\n",
    "\n",
    "with tf.Session() as sess:\n",
    "    sess.run(tf.global_variables_initializer())\n",
    "   \n",
    "    # Loop over epochs\n",
    "    for e in range(epochs):\n",
    "        \n",
    "        # Loop over batches\n",
    "        for x, y in get_batches(X_train_norm, Y_train_onehot, batch_size):\n",
    "            \n",
    "            ######################## Training\n",
    "            # Feed dictionary\n",
    "            feed = {inputs_ : x, labels_ : y, keep_prob_ : keep_prob, learning_rate_ : learning_rate}\n",
    "            \n",
    "            # Loss\n",
    "            loss, _ , acc = sess.run([cost, optimizer, accuracy], feed_dict = feed)\n",
    "            train_acc.append(acc)\n",
    "            train_loss.append(loss)\n",
    "            \n",
    "            ################## Validation\n",
    "            acc_batch = []\n",
    "            loss_batch = []    \n",
    "            # Loop over batches\n",
    "            for x, y in get_batches(X_valid_norm, Y_valid_onehot, batch_size):\n",
    "\n",
    "                # Feed dictionary\n",
    "                feed = {inputs_ : x, labels_ : y, keep_prob_ : 1.0}\n",
    "\n",
    "                # Loss\n",
    "                loss, acc = sess.run([cost, accuracy], feed_dict = feed)\n",
    "                acc_batch.append(acc)\n",
    "                loss_batch.append(loss)\n",
    "\n",
    "            # Store\n",
    "            valid_acc.append(np.mean(acc_batch))\n",
    "            valid_loss.append(np.mean(loss_batch))\n",
    "            \n",
    "        # Print info for every iter/epoch\n",
    "        print(\"Epoch: {}/{}\".format(e+1, epochs),\n",
    "              \"Train loss: {:6f}\".format(np.mean(train_loss)),\n",
    "              \"Valid loss: {:.6f}\".format(np.mean(valid_loss)),\n",
    "              \"Train acc: {:6f}\".format(np.mean(train_acc)),\n",
    "              \"Valid acc: {:.6f}\".format(np.mean(valid_acc)))\n",
    "                \n",
    "    saver.save(sess,\"checkpoints-dcnn/flip.ckpt\")"
   ]
  },
  {
   "cell_type": "code",
   "execution_count": 11,
   "metadata": {},
   "outputs": [
    {
     "data": {
      "image/png": "[encoded data removed]",
      "text/plain": [
       "<matplotlib.figure.Figure at 0x7f35c839be10>"
      ]
     },
     "metadata": {},
     "output_type": "display_data"
    }
   ],
   "source": [
    "import matplotlib.pyplot as mplot\n",
    "\n",
    "mplot.plot(train_loss, label='flip train_loss')\n",
    "mplot.plot(valid_loss, label='flip valid_loss')\n",
    "mplot.legend()\n",
    "mplot.show()"
   ]
  },
  {
   "cell_type": "code",
   "execution_count": 12,
   "metadata": {},
   "outputs": [
    {
     "data": {
      "image/png": "[encoded data removed]",
      "text/plain": [
       "<matplotlib.figure.Figure at 0x7f35c439cba8>"
      ]
     },
     "metadata": {},
     "output_type": "display_data"
    }
   ],
   "source": [
    "# import matplotlib.pyplot as mplot\n",
    "mplot.plot(train_acc, label='flip train_acc')\n",
    "mplot.plot(valid_acc, label='flip valid_acc')\n",
    "mplot.legend()\n",
    "mplot.show()"
   ]
  },
  {
   "cell_type": "code",
   "execution_count": 13,
   "metadata": {},
   "outputs": [
    {
     "name": "stdout",
     "output_type": "stream",
     "text": [
      "INFO:tensorflow:Restoring parameters from checkpoints-dcnn/flip.ckpt\n",
      "Test loss: 0.265875 Test acc: 0.887907\n"
     ]
    }
   ],
   "source": [
    "test_acc, test_loss = [], []\n",
    "\n",
    "with tf.Session() as sess:\n",
    "    # Restore the validated model\n",
    "    saver.restore(sess, tf.train.latest_checkpoint('checkpoints-dcnn'))\n",
    "    \n",
    "    ################## Test\n",
    "    acc_batch = []\n",
    "    loss_batch = []    \n",
    "    # Loop over batches\n",
    "    for x, y in get_batches(X_test_norm, Y_test_onehot, batch_size):\n",
    "\n",
    "        # Feed dictionary\n",
    "        feed = {inputs_ : x, labels_ : y, keep_prob_ : 1.0}\n",
    "\n",
    "        # Loss\n",
    "        loss, acc = sess.run([cost, accuracy], feed_dict = feed)\n",
    "        acc_batch.append(acc)\n",
    "        loss_batch.append(loss)\n",
    "\n",
    "    # Store\n",
    "    test_acc.append(np.mean(acc_batch))\n",
    "    test_loss.append(np.mean(loss_batch))\n",
    "\n",
    "    # Print info for every iter/epoch\n",
    "    print(\"Test loss: {:6f}\".format(np.mean(test_loss)),\n",
    "          \"Test acc: {:.6f}\".format(np.mean(test_acc)))"
   ]
  },
  {
   "cell_type": "code",
   "execution_count": null,
   "metadata": {},
   "outputs": [],
   "source": []
  }
 ],
 "metadata": {
  "kernelspec": {
   "display_name": "Python 3",
   "language": "python",
   "name": "python3"
  },
  "language_info": {
   "codemirror_mode": {
    "name": "ipython",
    "version": 3
   },
   "file_extension": ".py",
   "mimetype": "text/x-python",
   "name": "python",
   "nbconvert_exporter": "python",
   "pygments_lexer": "ipython3",
   "version": "3.6.3"
  }
 },
 "nbformat": 4,
 "nbformat_minor": 2
}
