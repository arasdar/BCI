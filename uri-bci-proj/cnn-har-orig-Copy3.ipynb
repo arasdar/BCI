{
 "cells": [
  {
   "cell_type": "code",
   "execution_count": 1,
   "metadata": {},
   "outputs": [
    {
     "name": "stdout",
     "output_type": "stream",
     "text": [
      "0.0 0.16675734494015235 0.1459466811751904 0.13411316648531013 0.1749183895538629 0.1868879216539717 0.1913764961915125 0.0\n"
     ]
    }
   ],
   "source": [
    "# Input data\n",
    "import numpy as np\n",
    "from utilities import *\n",
    "\n",
    "# test and train read\n",
    "X_train_valid, Y_train_valid, list_ch_train_valid = read_data(data_path=\"../../../datasets/har/har-data/\", \n",
    "                                                              split=\"train\")\n",
    "X_test, Y_test, list_ch_test = read_data(data_path=\"../../../datasets/har/har-data/\", split=\"test\")\n",
    "\n",
    "assert list_ch_train_valid == list_ch_test, \"Mistmatch in channels!\"\n",
    "assert Y_train_valid.max(axis=0) == Y_test.max(axis=0)\n",
    "\n",
    "print(np.mean(Y_train_valid==0), np.mean(Y_train_valid==1), np.mean(Y_train_valid==2), \n",
    "      np.mean(Y_train_valid==3), np.mean(Y_train_valid==4), np.mean(Y_train_valid==5),\n",
    "      np.mean(Y_train_valid==6), np.mean(Y_train_valid==7))"
   ]
  },
  {
   "cell_type": "code",
   "execution_count": 2,
   "metadata": {},
   "outputs": [
    {
     "name": "stdout",
     "output_type": "stream",
     "text": [
      "0.0 0.16675734494015235 0.1459466811751904 0.13411316648531013 0.1749183895538629 0.1868879216539717 0.1913764961915125 0.0\n",
      "(7352, 6) float64 (2947, 6) float64\n"
     ]
    }
   ],
   "source": [
    "# Preparing input and output data\n",
    "# from utilities import *\n",
    "\n",
    "# Normalizing/standardizing the input data features\n",
    "X_train_valid_norm, X_test_norm = standardize(test=X_test, train=X_train_valid)\n",
    "\n",
    "# Onehot encoding/vectorizing the output data labels\n",
    "print(np.mean((Y_train_valid).reshape(-1)==0), np.mean((Y_train_valid).reshape(-1)==1),\n",
    "     np.mean((Y_train_valid).reshape(-1)==2), np.mean((Y_train_valid).reshape(-1)==3),\n",
    "     np.mean((Y_train_valid).reshape(-1)==4), np.mean((Y_train_valid).reshape(-1)==5),\n",
    "     np.mean((Y_train_valid).reshape(-1)==6), np.mean((Y_train_valid).reshape(-1)==7))\n",
    "\n",
    "Y_train_valid_onehot = one_hot(labels=Y_train_valid.reshape(-1), n_class=6) \n",
    "Y_test_onehot = one_hot(labels=Y_test.reshape(-1), n_class=6) \n",
    "\n",
    "print(Y_train_valid_onehot.shape, Y_train_valid_onehot.dtype, \n",
    "      Y_test_onehot.shape, Y_test_onehot.dtype)"
   ]
  },
  {
   "cell_type": "code",
   "execution_count": 3,
   "metadata": {},
   "outputs": [
    {
     "name": "stdout",
     "output_type": "stream",
     "text": [
      "(5146, 128, 9) (2206, 128, 9) (5146, 6) (2206, 6)\n"
     ]
    }
   ],
   "source": [
    "# Train and valid split\n",
    "from sklearn.model_selection import train_test_split\n",
    "\n",
    "X_train_norm, X_valid_norm, Y_train_onehot, Y_valid_onehot = train_test_split(X_train_valid_norm, \n",
    "                                                                              Y_train_valid_onehot,\n",
    "                                                                              test_size=0.30)\n",
    "\n",
    "print(X_train_norm.shape, X_valid_norm.shape, Y_train_onehot.shape, Y_valid_onehot.shape)"
   ]
  },
  {
   "cell_type": "code",
   "execution_count": 4,
   "metadata": {},
   "outputs": [
    {
     "name": "stdout",
     "output_type": "stream",
     "text": [
      "TensorFlow Version: 1.7.0\n",
      "Default GPU Device: /device:GPU:0\n"
     ]
    }
   ],
   "source": [
    "# GPUs or CPU\n",
    "import tensorflow as tf\n",
    "\n",
    "# Check TensorFlow Version\n",
    "print('TensorFlow Version: {}'.format(tf.__version__))\n",
    "\n",
    "# Check for a GPU\n",
    "print('Default GPU Device: {}'.format(tf.test.gpu_device_name()))"
   ]
  },
  {
   "cell_type": "code",
   "execution_count": 5,
   "metadata": {},
   "outputs": [
    {
     "name": "stdout",
     "output_type": "stream",
     "text": [
      "(2206, 128, 9) <dtype: 'float32'>\n",
      "(2206, 6) <dtype: 'float32'>\n"
     ]
    }
   ],
   "source": [
    "# Input data which is divided into train, valid, and testing.\n",
    "N, W, Cin = X_valid_norm.shape[0], X_train_norm.shape[1], X_train_norm.shape[2]\n",
    "X = tf.placeholder(dtype=tf.float32, name=None, shape=[N, W, Cin])\n",
    "print(X.shape, X.dtype)\n",
    "\n",
    "# Output data/labels\n",
    "assert Y_train_valid.max(axis=0)==Y_test.max(axis=0)\n",
    "Cout = Y_train_valid.max(axis=0)\n",
    "Y = tf.placeholder(dtype=tf.float32, name=None, shape=[N, Cout])\n",
    "print(Y.shape, Y.dtype)"
   ]
  },
  {
   "cell_type": "code",
   "execution_count": 6,
   "metadata": {},
   "outputs": [
    {
     "name": "stdout",
     "output_type": "stream",
     "text": [
      "(2206, 128, 9) <dtype: 'float32'>\n",
      "(64, 9, 18) <dtype: 'float32_ref'>\n",
      "(2206, 64, 18) <dtype: 'float32'>\n"
     ]
    }
   ],
   "source": [
    "# One convolution layer\n",
    "print(X.shape, X.dtype)\n",
    "# NWC: N is not important for weights/filters/kernels since it is not being convolved.\n",
    "Wwidth, Wchannels, Wnumber = X.shape[1].value//2, X.shape[2].value, X.shape[2].value*2\n",
    "shape = [Wwidth, Wchannels, Wnumber]\n",
    "initial_value = tf.random_normal(dtype=X.dtype, mean=0.0, name=None, shape=shape, stddev=1.0)\n",
    "Wconv = tf.Variable(dtype=X.dtype, initial_value=initial_value, name=None, trainable=True)\n",
    "print(Wconv.shape, Wconv.dtype)\n",
    "Xconv = tf.nn.conv1d(data_format='NWC', filters=Wconv, name=None, padding='SAME', stride=2, use_cudnn_on_gpu=True, \n",
    "                     value=X)\n",
    "# Relu or nonlinearity/activation should also be implemnted\n",
    "# leaky relu is what I am interested in which is the simplest possible non-linearity and gets the job easily done.\n",
    "Xconv = tf.maximum(name=None, x=0.1*Xconv, y=1.0*Xconv)\n",
    "print(Xconv.shape, Xconv.dtype)"
   ]
  },
  {
   "cell_type": "code",
   "execution_count": 9,
   "metadata": {},
   "outputs": [
    {
     "name": "stdout",
     "output_type": "stream",
     "text": [
      "(2206, 1152) <dtype: 'float32'>\n",
      "(1152, 6) <dtype: 'float32_ref'>\n",
      "(2206, 6) <dtype: 'float32'>\n",
      "(2206, 6) <dtype: 'float32'>\n"
     ]
    }
   ],
   "source": [
    "# This is a multiplication layer/ dense/fully-connected/gobal\n",
    "# shape = [-1, Xconv.shape[1].value*Xconv.shape[2].value] # N is None which is a value or creating an extra index\n",
    "shape = [Xconv.shape[0].value, Xconv.shape[1].value*Xconv.shape[2].value]\n",
    "Xconv_reshaped = tf.reshape(name=None, shape=shape, tensor=Xconv)\n",
    "print(Xconv_reshaped.shape, Xconv_reshaped.dtype)\n",
    "# print(Y.shape, Y.dtype)\n",
    "# In this layer there is not very much \n",
    "# Wwidth, Wchannels, Wnumber which is for a normal conv layer\n",
    "# NWC or WCN but for a dense layer, there is no W or H it is just CN or NC\n",
    "Wchannels, Wnumber = Xconv_reshaped.shape[1].value, Y.shape[1].value\n",
    "shape = [Wchannels, Wnumber]\n",
    "# print(shape)\n",
    "initial_value = tf.random_normal(dtype=Xconv_reshaped.dtype, mean=0.0, name=None, shape=shape, stddev=1.0)\n",
    "W = tf.Variable(dtype=Xconv_reshaped.dtype, initial_value=initial_value, name=None, trainable=True)\n",
    "print(W.shape, W.dtype)\n",
    "logits = tf.matmul(a=Xconv_reshaped, b=W, name=None)\n",
    "print(logits.shape, logits.dtype)\n",
    "print(Y.shape, Y.dtype)"
   ]
  },
  {
   "cell_type": "code",
   "execution_count": 14,
   "metadata": {},
   "outputs": [
    {
     "name": "stdout",
     "output_type": "stream",
     "text": [
      "Tensor(\"softmax_cross_entropy_with_logits_4/Reshape_2:0\", shape=(2206,), dtype=float32)\n",
      "Tensor(\"Mean_3:0\", shape=(), dtype=float32)\n"
     ]
    }
   ],
   "source": [
    "# Backward pass: error backpropagation\n",
    "# Cost function\n",
    "loss_tensor = tf.nn.softmax_cross_entropy_with_logits_v2(logits=logits, labels=Y, name=None)\n",
    "print(loss_tensor)\n",
    "loss = tf.reduce_mean(axis=0, input_tensor=loss_tensor)\n",
    "print(loss)"
   ]
  },
  {
   "cell_type": "code",
   "execution_count": 16,
   "metadata": {},
   "outputs": [
    {
     "name": "stdout",
     "output_type": "stream",
     "text": [
      "optimizer name: \"Adam\"\n",
      "op: \"NoOp\"\n",
      "input: \"^Adam/update_Variable/ApplyAdam\"\n",
      "input: \"^Adam/update_Variable_2/ApplyAdam\"\n",
      "input: \"^Adam/Assign\"\n",
      "input: \"^Adam/Assign_1\"\n",
      "\n"
     ]
    }
   ],
   "source": [
    "# Optimizer\n",
    "# __init__(\n",
    "#     learning_rate=0.001,\n",
    "#     beta1=0.9,\n",
    "#     beta2=0.999,\n",
    "#     epsilon=1e-08,\n",
    "#     use_locking=False,\n",
    "#     name='Adam'\n",
    "# )\n",
    "# minimize(\n",
    "#     loss,\n",
    "#     global_step=None,\n",
    "#     var_list=None,\n",
    "#     gate_gradients=GATE_OP,\n",
    "#     aggregation_method=None,\n",
    "#     colocate_gradients_with_ops=False,\n",
    "#     name=None,\n",
    "#     grad_loss=None\n",
    "# )\n",
    "optimizer = tf.train.AdamOptimizer(learning_rate=0.001).minimize(loss=loss)\n",
    "print('optimizer', optimizer)"
   ]
  },
  {
   "cell_type": "code",
   "execution_count": 17,
   "metadata": {},
   "outputs": [],
   "source": [
    "# # Accuracy\n",
    "# correct_pred = tf.equal(tf.argmax(logits, 1), tf.argmax(labels_, 1))\n",
    "# accuracy = tf.reduce_mean(tf.cast(correct_pred, tf.float32), name='accuracy')\n",
    "# print('correct_pred, accuracy', correct_pred, accuracy)\n",
    "\n",
    "# # Confusion matrix\n",
    "# confusion_matrix = tf.confusion_matrix(predictions=tf.argmax(logits, 1),\n",
    "#                                        labels=tf.argmax(labels_, 1))\n",
    "# print('confusion_matrix', confusion_matrix)"
   ]
  },
  {
   "cell_type": "code",
   "execution_count": 18,
   "metadata": {},
   "outputs": [],
   "source": [
    "# Minibatching techniques for online learning and offline learning of big dataset\n",
    "# for X, Y in get_batches(X=X_train_norm, batch_size=N, y=Y_train_onehot):\n",
    "#     print(X.shape, X.dtype, Y.shape, Y.dtype)"
   ]
  },
  {
   "cell_type": "code",
   "execution_count": 21,
   "metadata": {
    "scrolled": true
   },
   "outputs": [
    {
     "name": "stdout",
     "output_type": "stream",
     "text": [
      "epoch: 0 training loss: 542.79504 validation loss: 526.4999\n",
      "epoch: 1 training loss: 515.9184 validation loss: 501.64417\n",
      "epoch: 2 training loss: 489.96838 validation loss: 477.48352\n",
      "epoch: 3 training loss: 464.84717 validation loss: 454.15613\n",
      "epoch: 4 training loss: 440.50757 validation loss: 431.68387\n",
      "epoch: 5 training loss: 417.0733 validation loss: 410.10068\n",
      "epoch: 6 training loss: 394.45428 validation loss: 389.3358\n",
      "epoch: 7 training loss: 372.67578 validation loss: 369.51956\n",
      "epoch: 8 training loss: 351.73694 validation loss: 350.6265\n",
      "epoch: 9 training loss: 331.6328 validation loss: 332.60657\n",
      "epoch: 10 training loss: 312.57733 validation loss: 316.24683\n",
      "epoch: 11 training loss: 295.37946 validation loss: 302.45642\n",
      "epoch: 12 training loss: 280.96423 validation loss: 291.04907\n",
      "epoch: 13 training loss: 269.44397 validation loss: 281.95306\n",
      "epoch: 14 training loss: 260.45303 validation loss: 274.35614\n",
      "epoch: 15 training loss: 252.99371 validation loss: 267.6144\n",
      "epoch: 16 training loss: 246.26756 validation loss: 261.3104\n",
      "epoch: 17 training loss: 240.01355 validation loss: 255.2236\n",
      "epoch: 18 training loss: 233.98611 validation loss: 249.32913\n",
      "epoch: 19 training loss: 228.1202 validation loss: 243.57338\n",
      "epoch: 20 training loss: 222.42062 validation loss: 238.00122\n",
      "epoch: 21 training loss: 216.88593 validation loss: 232.63\n",
      "epoch: 22 training loss: 211.52206 validation loss: 227.44559\n",
      "epoch: 23 training loss: 206.34137 validation loss: 222.47815\n",
      "epoch: 24 training loss: 201.38995 validation loss: 217.74397\n",
      "epoch: 25 training loss: 196.66331 validation loss: 213.273\n",
      "epoch: 26 training loss: 192.19635 validation loss: 209.10986\n",
      "epoch: 27 training loss: 188.04625 validation loss: 205.29292\n",
      "epoch: 28 training loss: 184.21661 validation loss: 201.76788\n",
      "epoch: 29 training loss: 180.63373 validation loss: 198.44907\n",
      "epoch: 30 training loss: 177.21596 validation loss: 195.25902\n",
      "epoch: 31 training loss: 173.91113 validation loss: 192.16049\n",
      "epoch: 32 training loss: 170.70999 validation loss: 189.15332\n",
      "epoch: 33 training loss: 167.5924 validation loss: 186.24976\n",
      "epoch: 34 training loss: 164.5503 validation loss: 183.44151\n",
      "epoch: 35 training loss: 161.59775 validation loss: 180.71953\n",
      "epoch: 36 training loss: 158.74619 validation loss: 178.07632\n",
      "epoch: 37 training loss: 155.99667 validation loss: 175.5076\n",
      "epoch: 38 training loss: 153.33997 validation loss: 173.03558\n",
      "epoch: 39 training loss: 150.76082 validation loss: 170.65657\n",
      "epoch: 40 training loss: 148.28741 validation loss: 168.36046\n",
      "epoch: 41 training loss: 145.90138 validation loss: 166.15486\n",
      "epoch: 42 training loss: 143.59338 validation loss: 164.0235\n",
      "epoch: 43 training loss: 141.35092 validation loss: 161.94582\n",
      "epoch: 44 training loss: 139.15385 validation loss: 159.9213\n",
      "epoch: 45 training loss: 137.00154 validation loss: 157.93706\n",
      "epoch: 46 training loss: 134.89624 validation loss: 155.99165\n",
      "epoch: 47 training loss: 132.82742 validation loss: 154.08095\n",
      "epoch: 48 training loss: 130.80629 validation loss: 152.20065\n",
      "epoch: 49 training loss: 128.83035 validation loss: 150.35355\n",
      "epoch: 50 training loss: 126.89932 validation loss: 148.54301\n",
      "epoch: 51 training loss: 125.012566 validation loss: 146.75787\n",
      "epoch: 52 training loss: 123.16055 validation loss: 144.99518\n",
      "epoch: 53 training loss: 121.3353 validation loss: 143.26785\n",
      "epoch: 54 training loss: 119.53361 validation loss: 141.57057\n",
      "epoch: 55 training loss: 117.76204 validation loss: 139.90623\n",
      "epoch: 56 training loss: 116.02428 validation loss: 138.27205\n",
      "epoch: 57 training loss: 114.313354 validation loss: 136.66809\n",
      "epoch: 58 training loss: 112.628105 validation loss: 135.09372\n",
      "epoch: 59 training loss: 110.97166 validation loss: 133.54915\n",
      "epoch: 60 training loss: 109.33684 validation loss: 132.04497\n",
      "epoch: 61 training loss: 107.737274 validation loss: 130.56638\n",
      "epoch: 62 training loss: 106.172424 validation loss: 129.0997\n",
      "epoch: 63 training loss: 104.64572 validation loss: 127.646416\n",
      "epoch: 64 training loss: 103.14481 validation loss: 126.219795\n",
      "epoch: 65 training loss: 101.670334 validation loss: 124.82164\n",
      "epoch: 66 training loss: 100.22108 validation loss: 123.44386\n",
      "epoch: 67 training loss: 98.80266 validation loss: 122.091736\n",
      "epoch: 68 training loss: 97.41164 validation loss: 120.757355\n",
      "epoch: 69 training loss: 96.041245 validation loss: 119.44634\n",
      "epoch: 70 training loss: 94.69037 validation loss: 118.17245\n",
      "epoch: 71 training loss: 93.36048 validation loss: 116.91549\n",
      "epoch: 72 training loss: 92.05265 validation loss: 115.672874\n",
      "epoch: 73 training loss: 90.77266 validation loss: 114.453804\n",
      "epoch: 74 training loss: 89.51955 validation loss: 113.25765\n",
      "epoch: 75 training loss: 88.28172 validation loss: 112.0875\n",
      "epoch: 76 training loss: 87.06624 validation loss: 110.94023\n",
      "epoch: 77 training loss: 85.866 validation loss: 109.804634\n",
      "epoch: 78 training loss: 84.67743 validation loss: 108.69141\n",
      "epoch: 79 training loss: 83.499344 validation loss: 107.593544\n",
      "epoch: 80 training loss: 82.33618 validation loss: 106.50624\n",
      "epoch: 81 training loss: 81.18572 validation loss: 105.432014\n",
      "epoch: 82 training loss: 80.044716 validation loss: 104.36572\n",
      "epoch: 83 training loss: 78.92199 validation loss: 103.31162\n",
      "epoch: 84 training loss: 77.81765 validation loss: 102.272385\n",
      "epoch: 85 training loss: 76.73552 validation loss: 101.24881\n",
      "epoch: 86 training loss: 75.667145 validation loss: 100.2494\n",
      "epoch: 87 training loss: 74.61113 validation loss: 99.27377\n",
      "epoch: 88 training loss: 73.56708 validation loss: 98.31948\n",
      "epoch: 89 training loss: 72.53294 validation loss: 97.387215\n",
      "epoch: 90 training loss: 71.51198 validation loss: 96.47057\n",
      "epoch: 91 training loss: 70.50503 validation loss: 95.558235\n",
      "epoch: 92 training loss: 69.5068 validation loss: 94.64953\n",
      "epoch: 93 training loss: 68.522995 validation loss: 93.74688\n",
      "epoch: 94 training loss: 67.549515 validation loss: 92.8548\n",
      "epoch: 95 training loss: 66.58699 validation loss: 91.97308\n",
      "epoch: 96 training loss: 65.63904 validation loss: 91.10045\n",
      "epoch: 97 training loss: 64.71048 validation loss: 90.23639\n",
      "epoch: 98 training loss: 63.79791 validation loss: 89.38553\n",
      "epoch: 99 training loss: 62.898254 validation loss: 88.54899\n"
     ]
    }
   ],
   "source": [
    "# Plotting the learning/loss curve\n",
    "train_loss, valid_loss = [], []\n",
    "\n",
    "# Save the training result or trained and validated model params\n",
    "saver = tf.train.Saver()\n",
    "\n",
    "with tf.Session() as sess:\n",
    "    sess.run(fetches=tf.global_variables_initializer())\n",
    "   \n",
    "    # Loop over epochs\n",
    "    epochs=100\n",
    "    for epoch in range(0, epochs, 1): # start=0, stop=epochs, step=1\n",
    "        \n",
    "        # Training\n",
    "        loss_batch = []\n",
    "        for Xarr, Yarr in get_batches(X=X_train_norm, batch_size=N, y=Y_train_onehot):\n",
    "\n",
    "            # feeding the input array into TF framework and fetche the output\n",
    "            feed_dict = {X:Xarr, Y:Yarr}\n",
    "            lossarr, _ = sess.run(feed_dict=feed_dict, fetches=[loss, optimizer])\n",
    "            loss_batch.append(lossarr)\n",
    "        \n",
    "        # Averaging the loss of the batch/minibatch\n",
    "        train_loss.append(np.mean(loss_batch))\n",
    "        \n",
    "        # validation\n",
    "        feed_dict = {X:X_valid_norm, Y:Y_valid_onehot}\n",
    "        lossarr = sess.run(feed_dict=feed_dict, fetches=[loss])\n",
    "        valid_loss.append(np.mean(lossarr))\n",
    "\n",
    "        # Printing out the training and validating loss\n",
    "        print('epoch:', epoch, 'training loss:', train_loss[epoch], 'validation loss:', valid_loss[epoch])\n",
    "            \n",
    "    saver.save(save_path='checkpoints/model.ckpt', sess=sess)"
   ]
  },
  {
   "cell_type": "code",
   "execution_count": 25,
   "metadata": {},
   "outputs": [
    {
     "data": {
      "image/png": "[encoded data removed]",
      "text/plain": [
       "<Figure size 432x288 with 1 Axes>"
      ]
     },
     "metadata": {},
     "output_type": "display_data"
    }
   ],
   "source": [
    "import matplotlib.pyplot as mplot\n",
    "# % %matplotlib inline\n",
    "# this is keeping the mpl inline or outline\n",
    "# inline would inside this block and outline/out of block would be out of this block.\n",
    "# %matplotlib inline\n",
    "# %matplotlib\n",
    "%matplotlib inline\n",
    "\n",
    "mplot.plot(train_loss, label='har train_loss')\n",
    "mplot.plot(valid_loss, label='har valid_loss')\n",
    "mplot.legend()\n",
    "mplot.show()"
   ]
  },
  {
   "cell_type": "code",
   "execution_count": 26,
   "metadata": {},
   "outputs": [],
   "source": [
    "# Testing and playing around with checkpoints and trained model saved or saved trained model\n",
    "# loaded_ckpt = tf.train.load_checkpoint(ckpt_dir_or_file='checkpoints/cnn-har.ckpt')\n",
    "# loaded_ckpt.debug_string, \n",
    "# loaded_ckpt.get_variable_to_dtype_map()\n",
    "# loaded_ckpt.get_variable_to_shape_map()"
   ]
  },
  {
   "cell_type": "code",
   "execution_count": 27,
   "metadata": {},
   "outputs": [
    {
     "name": "stdout",
     "output_type": "stream",
     "text": [
      "INFO:tensorflow:Restoring parameters from checkpoints/model.ckpt\n",
      "(2206, 128, 9) (2206, 6)\n",
      "test_loss: 111.4286\n"
     ]
    }
   ],
   "source": [
    "with tf.Session() as sess:\n",
    "    # Restore the validated model\n",
    "    save_path = tf.train.latest_checkpoint(checkpoint_dir='checkpoints')\n",
    "    saver.restore(save_path=save_path, sess=sess)\n",
    "    \n",
    "    loss_batch = []\n",
    "    for Xarr, Yarr in get_batches(X=X_test_norm, batch_size=N, y=Y_test_onehot):\n",
    "        print(Xarr.shape, Yarr.shape)\n",
    "        feed_dict = {X:Xarr, Y:Yarr}\n",
    "        lossarr = sess.run(feed_dict=feed_dict, fetches=[loss])\n",
    "        loss_batch.append(lossarr)\n",
    "\n",
    "    # Print info for every iter/epoch\n",
    "    print('test_loss:', np.mean(loss_batch))\n",
    "#     print(\"Test loss: {:6f}\".format(np.mean(test_loss))"
   ]
  },
  {
   "cell_type": "code",
   "execution_count": null,
   "metadata": {},
   "outputs": [],
   "source": []
  }
 ],
 "metadata": {
  "kernelspec": {
   "display_name": "Python 3",
   "language": "python",
   "name": "python3"
  },
  "language_info": {
   "codemirror_mode": {
    "name": "ipython",
    "version": 3
   },
   "file_extension": ".py",
   "mimetype": "text/x-python",
   "name": "python",
   "nbconvert_exporter": "python",
   "pygments_lexer": "ipython3",
   "version": "3.6.5"
  },
  "widgets": {
   "state": {},
   "version": "1.1.2"
  }
 },
 "nbformat": 4,
 "nbformat_minor": 2
}
