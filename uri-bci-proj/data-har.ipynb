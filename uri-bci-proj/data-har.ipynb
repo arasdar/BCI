{
 "cells": [
  {
   "cell_type": "markdown",
   "metadata": {},
   "source": [
    "# Human Activity Recognition (HAR) explore"
   ]
  },
  {
   "cell_type": "code",
   "execution_count": 15,
   "metadata": {},
   "outputs": [],
   "source": [
    "# Imports\n",
    "import numpy as np\n",
    "import os\n",
    "from utilities import *\n",
    "from sklearn.model_selection import train_test_split\n",
    "import matplotlib.pyplot as plt\n",
    "import pandas as pd\n",
    "# import seaborn as sns\n",
    "%matplotlib inline"
   ]
  },
  {
   "cell_type": "code",
   "execution_count": 16,
   "metadata": {},
   "outputs": [
    {
     "name": "stdout",
     "output_type": "stream",
     "text": [
      "body_acc_x_train.txt  body_gyro_x_train.txt  total_acc_x_train.txt\r\n",
      "body_acc_y_train.txt  body_gyro_y_train.txt  total_acc_y_train.txt\r\n",
      "body_acc_z_train.txt  body_gyro_z_train.txt  total_acc_z_train.txt\r\n"
     ]
    }
   ],
   "source": [
    "% ls /home/arasdar/datasets/har/har-data/train/Inertial_Signals/"
   ]
  },
  {
   "cell_type": "code",
   "execution_count": 19,
   "metadata": {},
   "outputs": [
    {
     "name": "stdout",
     "output_type": "stream",
     "text": [
      "/home/arasdar/datasets/har/har-data/ train\n",
      "/home/arasdar/datasets/har/har-data/train /home/arasdar/datasets/har/har-data/train/Inertial_Signals\n",
      "/home/arasdar/datasets/har/har-data/train/y_train.txt\n",
      "(7352, 1) 0    int64\n",
      "dtype: object    0\n",
      "0  5\n",
      "1  5\n",
      "2  5\n",
      "3  5\n",
      "4  5\n",
      "['body_acc_x_train.txt', 'body_acc_y_train.txt', 'body_acc_z_train.txt', 'body_gyro_x_train.txt', 'body_gyro_y_train.txt', 'body_gyro_z_train.txt', 'total_acc_x_train.txt', 'total_acc_y_train.txt', 'total_acc_z_train.txt'] 9 10\n",
      "body_acc_x (7352, 128, 9) 1 1\n",
      "body_acc_y (7352, 128, 9) 2 2\n",
      "body_acc_z (7352, 128, 9) 3 3\n",
      "body_gyro_x (7352, 128, 9) 4 4\n",
      "body_gyro_y (7352, 128, 9) 5 5\n",
      "body_gyro_z (7352, 128, 9) 6 6\n",
      "total_acc_x (7352, 128, 9) 7 7\n",
      "total_acc_y (7352, 128, 9) 8 8\n",
      "total_acc_z (7352, 128, 9) 9 9\n",
      "(7352, 128, 9) [5 5 5 ... 2 2 2] ['body_acc_x', 'body_acc_y', 'body_acc_z', 'body_gyro_x', 'body_gyro_y', 'body_gyro_z', 'total_acc_x', 'total_acc_y', 'total_acc_z']\n"
     ]
    }
   ],
   "source": [
    "# HAR classification \n",
    "# Author: Burak Himmetoglu\n",
    "# 8/15/2017\n",
    "\n",
    "import pandas as pd \n",
    "import numpy as np\n",
    "import os\n",
    "\n",
    "# # test and train read\n",
    "# Xtrain, Ytrain, list_ch_train = read_data(data_path=\"../../../datasets/har/har-data/\", split=\"train\")\n",
    "# Xtest, Ytest, list_ch_test = read_data(data_path=\"../../../datasets/har/har-data/\", split=\"test\")\n",
    "data_path='/home/arasdar/datasets/har/har-data/' \n",
    "split='train'\n",
    "print(data_path, split)\n",
    " \n",
    "# def read_data(data_path, split = \"train\"):\n",
    "# \t\"\"\" Read data \"\"\"\n",
    "# Fixed params\n",
    "n_class = 6\n",
    "n_steps = 128\n",
    "\n",
    "# Paths\n",
    "path_ = os.path.join(data_path, split)\n",
    "path_signals = os.path.join(path_, 'Inertial_Signals')\n",
    "print(path_, path_signals)\n",
    "\n",
    "# Read labels and one-hot encode\n",
    "label_path = os.path.join(path_, 'y_' + split + '.txt')\n",
    "print(label_path)\n",
    "labels = pd.read_csv(label_path, header = None)\n",
    "print(labels.shape, labels.dtypes, labels.head())\n",
    "\n",
    "# Read time-series data\n",
    "channel_files = os.listdir(path_signals)\n",
    "channel_files.sort()\n",
    "n_channels = len(channel_files)\n",
    "posix = len(split) + 5\n",
    "print(channel_files, n_channels, posix)\n",
    "\n",
    "# Initiate array\n",
    "list_of_channels = []\n",
    "X = np.zeros((len(labels), n_steps, n_channels))\n",
    "i_ch = 0\n",
    "for fil_ch in channel_files:\n",
    "    channel_name = fil_ch[:-posix]\n",
    "    dat_ = pd.read_csv(os.path.join(path_signals,fil_ch), delim_whitespace = True, header = None)\n",
    "    X[:,:,i_ch] = dat_.as_matrix()\n",
    "  \n",
    "    # Record names\n",
    "    list_of_channels.append(channel_name)\n",
    "\n",
    "    # iterate\n",
    "    i_ch += 1\n",
    "    print(channel_name, X.shape, len(list_of_channels), i_ch)\n",
    "\n",
    "# # Return \n",
    "# return X, labels[0].values, list_of_channels\n",
    "print(X.shape, labels[0].values, list_of_channels)"
   ]
  },
  {
   "cell_type": "code",
   "execution_count": 3,
   "metadata": {},
   "outputs": [
    {
     "name": "stdout",
     "output_type": "stream",
     "text": [
      "../../data/har-data/train\n",
      "../../data/har-data/train/Inertial_Signals\n"
     ]
    }
   ],
   "source": [
    "# Fixing the bug in the HAR dataset\n",
    "import os\n",
    "# Fixed params\n",
    "n_class = 6\n",
    "n_steps = 128\n",
    "\n",
    "# Paths\n",
    "# path_ = os.path.join(data_path='./data/', split='train')\n",
    "path_ = os.path.join('../../data/har-data/', 'train')\n",
    "print(path_)\n",
    "path_signals = os.path.join(path_, \"Inertial_Signals\")\n",
    "print(path_signals)\n",
    "\n",
    "# split = 'train'\n",
    "\n",
    "# # Read labels and one-hot encode\n",
    "# label_path = os.path.join(path_, \"y_\" + split + \".txt\")\n",
    "# label_path\n",
    "# labels = pd.read_csv(label_path, header = None)\n",
    "# labels.shape\n",
    "\n",
    "# # Read time-series data\n",
    "# # path_signals, os.listdir(path='./data/train/Inertial Signals')\n",
    "# channel_files = os.listdir(path=path_signals)\n",
    "# # channel_files.sort()\n",
    "# # n_channels = len(channel_files)\n",
    "# # posix = len(split) + 5"
   ]
  },
  {
   "cell_type": "code",
   "execution_count": 7,
   "metadata": {},
   "outputs": [],
   "source": [
    "X_train, labels_train, list_ch_train = read_data(data_path=\"../../../arasdar/datasets/har-data/\", split=\"train\") # train\n",
    "X_test, labels_test, list_ch_test = read_data(data_path=\"../../../arasdar/datasets/har-data/\", split=\"test\") # test\n",
    "\n",
    "assert list_ch_train == list_ch_test, \"Mistmatch in channels!\""
   ]
  },
  {
   "cell_type": "code",
   "execution_count": 8,
   "metadata": {},
   "outputs": [
    {
     "name": "stdout",
     "output_type": "stream",
     "text": [
      "Training data shape: N = 7352, steps = 128, channels = 9\n",
      "Test data shape: N = 2947, steps = 128, channels = 9\n"
     ]
    }
   ],
   "source": [
    "print (\"Training data shape: N = {:d}, steps = {:d}, channels = {:d}\".format(X_train.shape[0],\n",
    "                                                                             X_train.shape[1],\n",
    "                                                                             X_train.shape[2]))\n",
    "print (\"Test data shape: N = {:d}, steps = {:d}, channels = {:d}\".format(X_test.shape[0],\n",
    "                                                                         X_test.shape[1],\n",
    "                                                                         X_test.shape[2]))"
   ]
  },
  {
   "cell_type": "code",
   "execution_count": 9,
   "metadata": {},
   "outputs": [
    {
     "data": {
      "text/plain": [
       "((7352, 128, 9), dtype('float64'), (7352,), dtype('int64'))"
      ]
     },
     "execution_count": 9,
     "metadata": {},
     "output_type": "execute_result"
    }
   ],
   "source": [
    "X_train.shape, X_train.dtype, labels_train.shape, labels_train.dtype"
   ]
  },
  {
   "cell_type": "code",
   "execution_count": 10,
   "metadata": {},
   "outputs": [
    {
     "data": {
      "text/plain": [
       "(6, 6)"
      ]
     },
     "execution_count": 10,
     "metadata": {},
     "output_type": "execute_result"
    }
   ],
   "source": [
    "labels_train.max(), labels_test.max()"
   ]
  },
  {
   "cell_type": "code",
   "execution_count": 11,
   "metadata": {},
   "outputs": [
    {
     "data": {
      "text/plain": [
       "(0.0,\n",
       " 0.16675734494015235,\n",
       " 0.14594668117519041,\n",
       " 0.13411316648531013,\n",
       " 0.17491838955386291,\n",
       " 0.18688792165397169,\n",
       " 0.19137649619151251,\n",
       " 0.0)"
      ]
     },
     "execution_count": 11,
     "metadata": {},
     "output_type": "execute_result"
    }
   ],
   "source": [
    "(np.mean(labels_train==0), np.mean(labels_train==1), np.mean(labels_train==2),\n",
    "np.mean(labels_train==3), np.mean(labels_train==4), np.mean(labels_train==5), np.mean(labels_train==6), \n",
    "np.mean(labels_train==7))"
   ]
  },
  {
   "cell_type": "code",
   "execution_count": 12,
   "metadata": {},
   "outputs": [
    {
     "data": {
      "text/plain": [
       "(0.0,\n",
       " 0.168306752629793,\n",
       " 0.15982354937224297,\n",
       " 0.14251781472684086,\n",
       " 0.16661011197828299,\n",
       " 0.18052256532066507,\n",
       " 0.18221920597217509,\n",
       " 0.0)"
      ]
     },
     "execution_count": 12,
     "metadata": {},
     "output_type": "execute_result"
    }
   ],
   "source": [
    "(np.mean(labels_test==0), np.mean(labels_test==1), np.mean(labels_test==2),\n",
    "np.mean(labels_test==3), np.mean(labels_test==4), np.mean(labels_test==5), np.mean(labels_test==6), \n",
    "np.mean(labels_test==7))"
   ]
  },
  {
   "cell_type": "code",
   "execution_count": 17,
   "metadata": {},
   "outputs": [],
   "source": [
    "# Mean value for each channel at each step\n",
    "all_data = np.concatenate((X_train,X_test), axis = 0)\n",
    "means_ = np.zeros((all_data.shape[1],all_data.shape[2]))\n",
    "stds_ = np.zeros((all_data.shape[1],all_data.shape[2]))\n",
    "\n",
    "for ch in range(X_train.shape[2]):\n",
    "    means_[:,ch] = np.mean(all_data[:,:,ch], axis=0)\n",
    "    stds_[:,ch] = np.std(all_data[:,:,ch], axis=0)\n",
    "    \n",
    "df_mean = pd.DataFrame(data = means_)\n",
    "df_std = pd.DataFrame(data = stds_)"
   ]
  },
  {
   "cell_type": "code",
   "execution_count": 23,
   "metadata": {},
   "outputs": [
    {
     "data": {
      "text/plain": [
       "((10299, 128, 9), (7352, 128, 9), (2947, 128, 9), (128, 9), (128, 9))"
      ]
     },
     "execution_count": 23,
     "metadata": {},
     "output_type": "execute_result"
    }
   ],
   "source": [
    "all_data.shape, X_train.shape, X_test.shape, means_.shape, stds_.shape"
   ]
  },
  {
   "cell_type": "code",
   "execution_count": 24,
   "metadata": {},
   "outputs": [
    {
     "data": {
      "image/png": "[encoded data removed]",
      "text/plain": [
       "<matplotlib.figure.Figure at 0x7f1f922ff9b0>"
      ]
     },
     "metadata": {},
     "output_type": "display_data"
    }
   ],
   "source": [
    "df_std.hist()\n",
    "plt.show()"
   ]
  },
  {
   "cell_type": "code",
   "execution_count": 25,
   "metadata": {},
   "outputs": [
    {
     "data": {
      "image/png": "[encoded data removed]",
      "text/plain": [
       "<matplotlib.figure.Figure at 0x7f1f922fb588>"
      ]
     },
     "metadata": {},
     "output_type": "display_data"
    }
   ],
   "source": [
    "df_mean.hist()\n",
    "plt.show()"
   ]
  },
  {
   "cell_type": "markdown",
   "metadata": {},
   "source": [
    "Some channels have mean values near 1, most close to 0. Let's standardize them all"
   ]
  },
  {
   "cell_type": "code",
   "execution_count": 26,
   "metadata": {},
   "outputs": [],
   "source": [
    "X_train, X_test = standardize(X_train, X_test)"
   ]
  },
  {
   "cell_type": "code",
   "execution_count": 30,
   "metadata": {},
   "outputs": [],
   "source": [
    "# Check Mean value for each channel at each step\n",
    "all_data = np.concatenate((X_train,X_test), axis = 0)\n",
    "means_ = np.zeros((all_data.shape[1],all_data.shape[2]))\n",
    "stds_ = np.zeros((all_data.shape[1],all_data.shape[2]))\n",
    "\n",
    "for ch in range(X_train.shape[2]):\n",
    "    means_[:,ch] = np.mean(all_data[:,:,ch], axis=0)\n",
    "    stds_[:,ch] = np.std(all_data[:,:,ch], axis=0)\n",
    "    \n",
    "df_mean = pd.DataFrame(data = means_)\n",
    "df_std = pd.DataFrame(data = stds_)"
   ]
  },
  {
   "cell_type": "code",
   "execution_count": 31,
   "metadata": {},
   "outputs": [
    {
     "data": {
      "image/png": "[encoded data removed]",
      "text/plain": [
       "<matplotlib.figure.Figure at 0x7f1f9ce97978>"
      ]
     },
     "metadata": {},
     "output_type": "display_data"
    }
   ],
   "source": [
    "df_mean.hist()\n",
    "plt.show()"
   ]
  },
  {
   "cell_type": "code",
   "execution_count": 35,
   "metadata": {},
   "outputs": [
    {
     "data": {
      "image/png": "[encoded data removed]",
      "text/plain": [
       "<matplotlib.figure.Figure at 0x7f1f9c1a6898>"
      ]
     },
     "metadata": {},
     "output_type": "display_data"
    }
   ],
   "source": [
    "df_mean.hist()\n",
    "plt.show()"
   ]
  },
  {
   "cell_type": "code",
   "execution_count": 34,
   "metadata": {},
   "outputs": [
    {
     "data": {
      "text/plain": [
       "((128, 9), 0    float64\n",
       " 1    float64\n",
       " 2    float64\n",
       " 3    float64\n",
       " 4    float64\n",
       " 5    float64\n",
       " 6    float64\n",
       " 7    float64\n",
       " 8    float64\n",
       " dtype: object)"
      ]
     },
     "execution_count": 34,
     "metadata": {},
     "output_type": "execute_result"
    }
   ],
   "source": [
    "df_std.shape, df_std.dtypes"
   ]
  },
  {
   "cell_type": "code",
   "execution_count": 36,
   "metadata": {},
   "outputs": [],
   "source": [
    "X_data = np.concatenate((X_train, X_test))"
   ]
  },
  {
   "cell_type": "code",
   "execution_count": 37,
   "metadata": {},
   "outputs": [
    {
     "data": {
      "text/plain": [
       "((10299, 128, 9),\n",
       " dtype('float64'),\n",
       " (7352, 128, 9),\n",
       " (2947, 128, 9),\n",
       " dtype('float64'),\n",
       " dtype('float64'))"
      ]
     },
     "execution_count": 37,
     "metadata": {},
     "output_type": "execute_result"
    }
   ],
   "source": [
    "X_data.shape, X_data.dtype, X_train.shape, X_test.shape, X_train.dtype, X_test.dtype"
   ]
  },
  {
   "cell_type": "code",
   "execution_count": 45,
   "metadata": {},
   "outputs": [],
   "source": [
    "X_data_mean = X_data.mean(axis=0, dtype=float)"
   ]
  },
  {
   "cell_type": "code",
   "execution_count": 46,
   "metadata": {},
   "outputs": [
    {
     "data": {
      "text/plain": [
       "((128, 9), dtype('float64'))"
      ]
     },
     "execution_count": 46,
     "metadata": {},
     "output_type": "execute_result"
    }
   ],
   "source": [
    "X_data_mean.shape, X_data_mean.dtype"
   ]
  },
  {
   "cell_type": "code",
   "execution_count": 47,
   "metadata": {},
   "outputs": [],
   "source": [
    "X_data_mean_DataFrame = pd.DataFrame(data=X_data_mean)"
   ]
  },
  {
   "cell_type": "code",
   "execution_count": 48,
   "metadata": {},
   "outputs": [
    {
     "data": {
      "image/png": "[encoded data removed]",
      "text/plain": [
       "<matplotlib.figure.Figure at 0x7f1f9c100e10>"
      ]
     },
     "metadata": {},
     "output_type": "display_data"
    }
   ],
   "source": [
    "X_data_mean_DataFrame.hist()\n",
    "plt.show()"
   ]
  },
  {
   "cell_type": "code",
   "execution_count": null,
   "metadata": {
    "collapsed": true
   },
   "outputs": [],
   "source": []
  },
  {
   "cell_type": "code",
   "execution_count": null,
   "metadata": {
    "collapsed": true
   },
   "outputs": [],
   "source": []
  },
  {
   "cell_type": "code",
   "execution_count": null,
   "metadata": {
    "collapsed": true
   },
   "outputs": [],
   "source": []
  }
 ],
 "metadata": {
  "kernelspec": {
   "display_name": "Python 3",
   "language": "python",
   "name": "python3"
  },
  "language_info": {
   "codemirror_mode": {
    "name": "ipython",
    "version": 3
   },
   "file_extension": ".py",
   "mimetype": "text/x-python",
   "name": "python",
   "nbconvert_exporter": "python",
   "pygments_lexer": "ipython3",
   "version": "3.6.5"
  }
 },
 "nbformat": 4,
 "nbformat_minor": 2
}
