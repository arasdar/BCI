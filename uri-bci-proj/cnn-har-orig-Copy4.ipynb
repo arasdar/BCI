{
 "cells": [
  {
   "cell_type": "code",
   "execution_count": 26,
   "metadata": {},
   "outputs": [],
   "source": [
    "# Input data\n",
    "import numpy as np\n",
    "from utilities import *\n",
    "\n",
    "# test and train read\n",
    "Xtrain, Ytrain, list_ch_train = read_data(data_path=\"../../../datasets/har/har-data/\", split=\"train\")\n",
    "Xtest, Ytest, list_ch_test = read_data(data_path=\"../../../datasets/har/har-data/\", split=\"test\")\n",
    "\n",
    "assert list_ch_train == list_ch_test, \"Mistmatch in channels!\"\n",
    "assert Ytrain.max(axis=0) == Ytest.max(axis=0)\n",
    "\n",
    "# print(np.mean(Y_train_valid==0), np.mean(Y_train_valid==1), np.mean(Y_train_valid==2), \n",
    "#       np.mean(Y_train_valid==3), np.mean(Y_train_valid==4), np.mean(Y_train_valid==5),\n",
    "#       np.mean(Y_train_valid==6), np.mean(Y_train_valid==7))"
   ]
  },
  {
   "cell_type": "code",
   "execution_count": 27,
   "metadata": {},
   "outputs": [],
   "source": [
    "# Preparing input and output data\n",
    "# from utilities import *\n",
    "\n",
    "# Normalizing/standardizing the input data features\n",
    "Xtrain, Xtest = standardize(test=Xtest, train=Xtrain)\n",
    "\n",
    "# # Onehot encoding/vectorizing the output data labels\n",
    "# print(np.mean((Y_train_valid).reshape(-1)==0), np.mean((Y_train_valid).reshape(-1)==1),\n",
    "#      np.mean((Y_train_valid).reshape(-1)==2), np.mean((Y_train_valid).reshape(-1)==3),\n",
    "#      np.mean((Y_train_valid).reshape(-1)==4), np.mean((Y_train_valid).reshape(-1)==5),\n",
    "#      np.mean((Y_train_valid).reshape(-1)==6), np.mean((Y_train_valid).reshape(-1)==7))\n",
    "\n",
    "Ytrain_onehot = one_hot(labels=Ytrain.reshape(-1), n_class=6) \n",
    "Ytest_onehot = one_hot(labels=Ytest.reshape(-1), n_class=6) \n",
    "\n",
    "# print(Y_train_valid_onehot.shape, Y_train_valid_onehot.dtype, \n",
    "#       Y_test_onehot.shape, Y_test_onehot.dtype)"
   ]
  },
  {
   "cell_type": "code",
   "execution_count": 28,
   "metadata": {},
   "outputs": [],
   "source": [
    "# Train and valid split\n",
    "from sklearn.model_selection import train_test_split\n",
    "\n",
    "# 30% of the training data/ entire training data is assigned to validation.\n",
    "Xtrain, Xvalid, Ytrain_onehot, Yvalid_onehot = train_test_split(Xtrain, Ytrain_onehot, test_size=0.30)\n",
    "\n",
    "# print(X_train_norm.shape, X_valid_norm.shape, Y_train_onehot.shape, Y_valid_onehot.shape)"
   ]
  },
  {
   "cell_type": "code",
   "execution_count": 29,
   "metadata": {},
   "outputs": [
    {
     "name": "stdout",
     "output_type": "stream",
     "text": [
      "TensorFlow Version: 1.7.0\n",
      "Default GPU Device: /device:GPU:0\n"
     ]
    }
   ],
   "source": [
    "# GPUs or CPU\n",
    "import tensorflow as tf\n",
    "\n",
    "# Check TensorFlow Version\n",
    "print('TensorFlow Version: {}'.format(tf.__version__))\n",
    "\n",
    "# Check for a GPU\n",
    "print('Default GPU Device: {}'.format(tf.test.gpu_device_name()))"
   ]
  },
  {
   "cell_type": "code",
   "execution_count": 30,
   "metadata": {},
   "outputs": [
    {
     "name": "stdout",
     "output_type": "stream",
     "text": [
      "(2206, 128, 9) <dtype: 'float32'>\n",
      "(2206, 6) <dtype: 'float32'>\n"
     ]
    }
   ],
   "source": [
    "# Input data which is divided into train, valid, and testing.\n",
    "N, W, Cin = Xvalid.shape[0], Xtrain.shape[1], Xtrain.shape[2]\n",
    "X = tf.placeholder(dtype=tf.float32, name=None, shape=[N, W, Cin])\n",
    "print(X.shape, X.dtype)\n",
    "\n",
    "# Output data/labels\n",
    "assert Ytrain.max(axis=0)==Ytest.max(axis=0)\n",
    "Cout = Ytrain.max(axis=0)\n",
    "Y = tf.placeholder(dtype=tf.float32, name=None, shape=[N, Cout])\n",
    "print(Y.shape, Y.dtype)"
   ]
  },
  {
   "cell_type": "code",
   "execution_count": 31,
   "metadata": {},
   "outputs": [
    {
     "name": "stdout",
     "output_type": "stream",
     "text": [
      "(2206, 128, 9) <dtype: 'float32'>\n",
      "(64, 9, 18) <dtype: 'float32_ref'>\n",
      "(2206, 64, 18) <dtype: 'float32'>\n"
     ]
    }
   ],
   "source": [
    "# One convolution layer\n",
    "print(X.shape, X.dtype)\n",
    "# NWC: N is not important for weights/filters/kernels since it is not being convolved.\n",
    "Wwidth, Wchannels, Wnumber = X.shape[1].value//2, X.shape[2].value, X.shape[2].value*2\n",
    "shape = [Wwidth, Wchannels, Wnumber]\n",
    "initial_value = tf.random_normal(dtype=X.dtype, mean=0.0, name=None, shape=shape, stddev=1.0)\n",
    "Wconv = tf.Variable(dtype=X.dtype, initial_value=initial_value, name=None, trainable=True)\n",
    "print(Wconv.shape, Wconv.dtype)\n",
    "Xconv = tf.nn.conv1d(data_format='NWC', filters=Wconv, name=None, padding='SAME', stride=2, use_cudnn_on_gpu=True, \n",
    "                     value=X)\n",
    "# Relu or nonlinearity/activation should also be implemnted\n",
    "# leaky relu is what I am interested in which is the simplest possible non-linearity and gets the job easily done.\n",
    "Xconv = tf.maximum(name=None, x=0.1*Xconv, y=1.0*Xconv)\n",
    "print(Xconv.shape, Xconv.dtype)"
   ]
  },
  {
   "cell_type": "code",
   "execution_count": 32,
   "metadata": {},
   "outputs": [
    {
     "name": "stdout",
     "output_type": "stream",
     "text": [
      "(2206, 1152) <dtype: 'float32'>\n",
      "(1152, 6) <dtype: 'float32_ref'>\n",
      "(2206, 6) <dtype: 'float32'>\n",
      "(2206, 6) <dtype: 'float32'>\n"
     ]
    }
   ],
   "source": [
    "# This is a multiplication layer/ dense/fully-connected/gobal\n",
    "# shape = [-1, Xconv.shape[1].value*Xconv.shape[2].value] # N is None which is a value or creating an extra index\n",
    "shape = [Xconv.shape[0].value, Xconv.shape[1].value*Xconv.shape[2].value]\n",
    "Xconv_reshaped = tf.reshape(name=None, shape=shape, tensor=Xconv)\n",
    "print(Xconv_reshaped.shape, Xconv_reshaped.dtype)\n",
    "# print(Y.shape, Y.dtype)\n",
    "# In this layer there is not very much \n",
    "# Wwidth, Wchannels, Wnumber which is for a normal conv layer\n",
    "# NWC or WCN but for a dense layer, there is no W or H it is just CN or NC\n",
    "Wchannels, Wnumber = Xconv_reshaped.shape[1].value, Y.shape[1].value\n",
    "shape = [Wchannels, Wnumber]\n",
    "# print(shape)\n",
    "initial_value = tf.random_normal(dtype=Xconv_reshaped.dtype, mean=0.0, name=None, shape=shape, stddev=1.0)\n",
    "W = tf.Variable(dtype=Xconv_reshaped.dtype, initial_value=initial_value, name=None, trainable=True)\n",
    "print(W.shape, W.dtype)\n",
    "logits = tf.matmul(a=Xconv_reshaped, b=W, name=None)\n",
    "print(logits.shape, logits.dtype)\n",
    "print(Y.shape, Y.dtype)"
   ]
  },
  {
   "cell_type": "code",
   "execution_count": 33,
   "metadata": {},
   "outputs": [
    {
     "name": "stdout",
     "output_type": "stream",
     "text": [
      "Tensor(\"softmax_cross_entropy_with_logits_1/Reshape_2:0\", shape=(2206,), dtype=float32)\n",
      "Tensor(\"Mean_1:0\", shape=(), dtype=float32)\n"
     ]
    }
   ],
   "source": [
    "# Backward pass: error backpropagation\n",
    "# Cost function\n",
    "loss_tensor = tf.nn.softmax_cross_entropy_with_logits_v2(logits=logits, labels=Y, name=None)\n",
    "print(loss_tensor)\n",
    "loss = tf.reduce_mean(axis=0, input_tensor=loss_tensor)\n",
    "print(loss)"
   ]
  },
  {
   "cell_type": "code",
   "execution_count": 34,
   "metadata": {},
   "outputs": [
    {
     "name": "stdout",
     "output_type": "stream",
     "text": [
      "optimizer name: \"Adam_1\"\n",
      "op: \"NoOp\"\n",
      "input: \"^Adam_1/update_Variable_2/ApplyAdam\"\n",
      "input: \"^Adam_1/update_Variable_3/ApplyAdam\"\n",
      "input: \"^Adam_1/Assign\"\n",
      "input: \"^Adam_1/Assign_1\"\n",
      "\n"
     ]
    }
   ],
   "source": [
    "# Optimizer\n",
    "# __init__(\n",
    "#     learning_rate=0.001,\n",
    "#     beta1=0.9,\n",
    "#     beta2=0.999,\n",
    "#     epsilon=1e-08,\n",
    "#     use_locking=False,\n",
    "#     name='Adam'\n",
    "# )\n",
    "# minimize(\n",
    "#     loss,\n",
    "#     global_step=None,\n",
    "#     var_list=None,\n",
    "#     gate_gradients=GATE_OP,\n",
    "#     aggregation_method=None,\n",
    "#     colocate_gradients_with_ops=False,\n",
    "#     name=None,\n",
    "#     grad_loss=None\n",
    "# )\n",
    "optimizer = tf.train.AdamOptimizer(learning_rate=0.001).minimize(loss=loss)\n",
    "print('optimizer', optimizer)"
   ]
  },
  {
   "cell_type": "code",
   "execution_count": 35,
   "metadata": {},
   "outputs": [],
   "source": [
    "# # Accuracy\n",
    "# correct_pred = tf.equal(tf.argmax(logits, 1), tf.argmax(labels_, 1))\n",
    "# accuracy = tf.reduce_mean(tf.cast(correct_pred, tf.float32), name='accuracy')\n",
    "# print('correct_pred, accuracy', correct_pred, accuracy)\n",
    "\n",
    "# # Confusion matrix\n",
    "# confusion_matrix = tf.confusion_matrix(predictions=tf.argmax(logits, 1),\n",
    "#                                        labels=tf.argmax(labels_, 1))\n",
    "# print('confusion_matrix', confusion_matrix)"
   ]
  },
  {
   "cell_type": "code",
   "execution_count": 36,
   "metadata": {},
   "outputs": [],
   "source": [
    "# Minibatching techniques for online learning and offline learning of big dataset\n",
    "# for X, Y in get_batches(X=X_train_norm, batch_size=N, y=Y_train_onehot):\n",
    "#     print(X.shape, X.dtype, Y.shape, Y.dtype)"
   ]
  },
  {
   "cell_type": "code",
   "execution_count": 37,
   "metadata": {
    "scrolled": true
   },
   "outputs": [
    {
     "name": "stdout",
     "output_type": "stream",
     "text": [
      "epoch: 0 training loss: 548.7199 validation loss: 533.09534\n",
      "epoch: 1 training loss: 519.1821 validation loss: 505.7445\n",
      "epoch: 2 training loss: 490.48273 validation loss: 479.13632\n",
      "epoch: 3 training loss: 462.57947 validation loss: 453.22202\n",
      "epoch: 4 training loss: 435.6148 validation loss: 428.18658\n",
      "epoch: 5 training loss: 409.6103 validation loss: 404.17227\n",
      "epoch: 6 training loss: 384.64896 validation loss: 381.7933\n",
      "epoch: 7 training loss: 361.4378 validation loss: 361.6289\n",
      "epoch: 8 training loss: 340.83673 validation loss: 343.85468\n",
      "epoch: 9 training loss: 322.81372 validation loss: 328.18625\n",
      "epoch: 10 training loss: 307.07025 validation loss: 314.47614\n",
      "epoch: 11 training loss: 293.21045 validation loss: 302.436\n",
      "epoch: 12 training loss: 281.1966 validation loss: 292.10205\n",
      "epoch: 13 training loss: 270.98764 validation loss: 283.42203\n",
      "epoch: 14 training loss: 262.2124 validation loss: 276.12018\n",
      "epoch: 15 training loss: 254.64851 validation loss: 269.7119\n",
      "epoch: 16 training loss: 247.92738 validation loss: 264.02255\n",
      "epoch: 17 training loss: 241.85045 validation loss: 258.88074\n",
      "epoch: 18 training loss: 236.36559 validation loss: 254.13399\n",
      "epoch: 19 training loss: 231.26074 validation loss: 249.51256\n",
      "epoch: 20 training loss: 226.28128 validation loss: 244.9243\n",
      "epoch: 21 training loss: 221.37473 validation loss: 240.3666\n",
      "epoch: 22 training loss: 216.52054 validation loss: 235.8852\n",
      "epoch: 23 training loss: 211.76775 validation loss: 231.52344\n",
      "epoch: 24 training loss: 207.18977 validation loss: 227.38889\n",
      "epoch: 25 training loss: 202.75958 validation loss: 223.44041\n",
      "epoch: 26 training loss: 198.48648 validation loss: 219.70837\n",
      "epoch: 27 training loss: 194.40817 validation loss: 216.25612\n",
      "epoch: 28 training loss: 190.51549 validation loss: 212.98555\n",
      "epoch: 29 training loss: 186.77899 validation loss: 209.83641\n",
      "epoch: 30 training loss: 183.15485 validation loss: 206.78088\n",
      "epoch: 31 training loss: 179.62863 validation loss: 203.79997\n",
      "epoch: 32 training loss: 176.1951 validation loss: 200.91168\n",
      "epoch: 33 training loss: 172.86418 validation loss: 198.09686\n",
      "epoch: 34 training loss: 169.63629 validation loss: 195.3645\n",
      "epoch: 35 training loss: 166.52504 validation loss: 192.72354\n",
      "epoch: 36 training loss: 163.50699 validation loss: 190.1453\n",
      "epoch: 37 training loss: 160.58836 validation loss: 187.62262\n",
      "epoch: 38 training loss: 157.74388 validation loss: 185.16515\n",
      "epoch: 39 training loss: 154.97537 validation loss: 182.75586\n",
      "epoch: 40 training loss: 152.28702 validation loss: 180.38786\n",
      "epoch: 41 training loss: 149.6735 validation loss: 178.06503\n",
      "epoch: 42 training loss: 147.12071 validation loss: 175.80649\n",
      "epoch: 43 training loss: 144.64005 validation loss: 173.6048\n",
      "epoch: 44 training loss: 142.23145 validation loss: 171.45084\n",
      "epoch: 45 training loss: 139.86685 validation loss: 169.33928\n",
      "epoch: 46 training loss: 137.54169 validation loss: 167.26547\n",
      "epoch: 47 training loss: 135.2577 validation loss: 165.22896\n",
      "epoch: 48 training loss: 133.02502 validation loss: 163.2205\n",
      "epoch: 49 training loss: 130.82764 validation loss: 161.26604\n",
      "epoch: 50 training loss: 128.68657 validation loss: 159.35849\n",
      "epoch: 51 training loss: 126.58719 validation loss: 157.49176\n",
      "epoch: 52 training loss: 124.53911 validation loss: 155.66426\n",
      "epoch: 53 training loss: 122.55322 validation loss: 153.86269\n",
      "epoch: 54 training loss: 120.62124 validation loss: 152.08511\n",
      "epoch: 55 training loss: 118.72554 validation loss: 150.34697\n",
      "epoch: 56 training loss: 116.87011 validation loss: 148.64212\n",
      "epoch: 57 training loss: 115.05226 validation loss: 146.97575\n",
      "epoch: 58 training loss: 113.27964 validation loss: 145.35669\n",
      "epoch: 59 training loss: 111.548256 validation loss: 143.77863\n",
      "epoch: 60 training loss: 109.857185 validation loss: 142.24825\n",
      "epoch: 61 training loss: 108.202866 validation loss: 140.74976\n",
      "epoch: 62 training loss: 106.57643 validation loss: 139.26651\n",
      "epoch: 63 training loss: 104.973434 validation loss: 137.80353\n",
      "epoch: 64 training loss: 103.388 validation loss: 136.3583\n",
      "epoch: 65 training loss: 101.82831 validation loss: 134.92964\n",
      "epoch: 66 training loss: 100.293724 validation loss: 133.52061\n",
      "epoch: 67 training loss: 98.77846 validation loss: 132.12715\n",
      "epoch: 68 training loss: 97.286804 validation loss: 130.75172\n",
      "epoch: 69 training loss: 95.821 validation loss: 129.38689\n",
      "epoch: 70 training loss: 94.379074 validation loss: 128.02742\n",
      "epoch: 71 training loss: 92.95427 validation loss: 126.67093\n",
      "epoch: 72 training loss: 91.54695 validation loss: 125.325165\n",
      "epoch: 73 training loss: 90.15639 validation loss: 123.97915\n",
      "epoch: 74 training loss: 88.78517 validation loss: 122.63929\n",
      "epoch: 75 training loss: 87.44081 validation loss: 121.32103\n",
      "epoch: 76 training loss: 86.118484 validation loss: 120.01663\n",
      "epoch: 77 training loss: 84.81536 validation loss: 118.730194\n",
      "epoch: 78 training loss: 83.53874 validation loss: 117.46801\n",
      "epoch: 79 training loss: 82.28351 validation loss: 116.22794\n",
      "epoch: 80 training loss: 81.05504 validation loss: 115.01493\n",
      "epoch: 81 training loss: 79.85185 validation loss: 113.81911\n",
      "epoch: 82 training loss: 78.67456 validation loss: 112.64047\n",
      "epoch: 83 training loss: 77.52138 validation loss: 111.4819\n",
      "epoch: 84 training loss: 76.38341 validation loss: 110.34205\n",
      "epoch: 85 training loss: 75.257195 validation loss: 109.21939\n",
      "epoch: 86 training loss: 74.14667 validation loss: 108.10161\n",
      "epoch: 87 training loss: 73.05546 validation loss: 106.984406\n",
      "epoch: 88 training loss: 71.9785 validation loss: 105.86754\n",
      "epoch: 89 training loss: 70.91946 validation loss: 104.7582\n",
      "epoch: 90 training loss: 69.87728 validation loss: 103.66644\n",
      "epoch: 91 training loss: 68.855705 validation loss: 102.589615\n",
      "epoch: 92 training loss: 67.84964 validation loss: 101.534065\n",
      "epoch: 93 training loss: 66.860504 validation loss: 100.49409\n",
      "epoch: 94 training loss: 65.88757 validation loss: 99.465996\n",
      "epoch: 95 training loss: 64.93013 validation loss: 98.45835\n",
      "epoch: 96 training loss: 63.988647 validation loss: 97.46395\n",
      "epoch: 97 training loss: 63.0647 validation loss: 96.48562\n",
      "epoch: 98 training loss: 62.154633 validation loss: 95.526505\n",
      "epoch: 99 training loss: 61.25669 validation loss: 94.582375\n"
     ]
    }
   ],
   "source": [
    "# Plotting the learning/loss curve\n",
    "train_loss, valid_loss = [], []\n",
    "\n",
    "# Save the training result or trained and validated model params\n",
    "saver = tf.train.Saver()\n",
    "\n",
    "with tf.Session() as sess:\n",
    "    sess.run(fetches=tf.global_variables_initializer())\n",
    "   \n",
    "    # Loop over epochs\n",
    "    epochs=100\n",
    "    for epoch in range(0, epochs, 1): # start=0, stop=epochs, step=1\n",
    "        \n",
    "        # Training\n",
    "        loss_batch = []\n",
    "        for Xarr, Yarr in get_batches(X=Xtrain, batch_size=N, y=Ytrain_onehot):\n",
    "\n",
    "            # feeding the input array into TF framework and fetche the output\n",
    "            feed_dict = {X:Xarr, Y:Yarr}\n",
    "            lossarr, _ = sess.run(feed_dict=feed_dict, fetches=[loss, optimizer])\n",
    "            loss_batch.append(np.mean(lossarr))\n",
    "        \n",
    "        # Averaging the loss of the batch/minibatch\n",
    "        train_loss.append(np.mean(loss_batch))\n",
    "        \n",
    "        # validation\n",
    "        feed_dict = {X:Xvalid, Y:Yvalid_onehot}\n",
    "        lossarr = sess.run(feed_dict=feed_dict, fetches=[loss])\n",
    "        valid_loss.append(np.mean(lossarr))\n",
    "\n",
    "        # Printing out the training and validating loss\n",
    "        print('epoch:', epoch, 'training loss:', train_loss[epoch], 'validation loss:', valid_loss[epoch])\n",
    "            \n",
    "    saver.save(save_path='checkpoints/model.ckpt', sess=sess)"
   ]
  },
  {
   "cell_type": "code",
   "execution_count": 38,
   "metadata": {},
   "outputs": [
    {
     "data": {
      "image/png": "[encoded data removed]",
      "text/plain": [
       "<Figure size 432x288 with 1 Axes>"
      ]
     },
     "metadata": {},
     "output_type": "display_data"
    }
   ],
   "source": [
    "import matplotlib.pyplot as mplot\n",
    "# % %matplotlib inline\n",
    "# this is keeping the mpl inline or outline\n",
    "# inline would inside this block and outline/out of block would be out of this block.\n",
    "# %matplotlib inline\n",
    "# %matplotlib\n",
    "%matplotlib inline\n",
    "\n",
    "mplot.plot(train_loss, label='har train_loss')\n",
    "mplot.plot(valid_loss, label='har valid_loss')\n",
    "mplot.legend()\n",
    "mplot.show()"
   ]
  },
  {
   "cell_type": "code",
   "execution_count": 39,
   "metadata": {},
   "outputs": [],
   "source": [
    "# Testing and playing around with checkpoints and trained model saved or saved trained model\n",
    "# loaded_ckpt = tf.train.load_checkpoint(ckpt_dir_or_file='checkpoints/cnn-har.ckpt')\n",
    "# loaded_ckpt.debug_string, \n",
    "# loaded_ckpt.get_variable_to_dtype_map()\n",
    "# loaded_ckpt.get_variable_to_shape_map()"
   ]
  },
  {
   "cell_type": "code",
   "execution_count": 40,
   "metadata": {},
   "outputs": [
    {
     "name": "stdout",
     "output_type": "stream",
     "text": [
      "INFO:tensorflow:Restoring parameters from checkpoints/model.ckpt\n",
      "test_loss: 115.5474\n"
     ]
    }
   ],
   "source": [
    "with tf.Session() as sess:\n",
    "    # Restore the validated model\n",
    "#     save_path = tf.train.latest_checkpoint(checkpoint_dir='checkpoints')\n",
    "    save_path = tf.train.latest_checkpoint(checkpoint_dir='checkpoints/')\n",
    "    saver.restore(save_path=save_path, sess=sess)\n",
    "    \n",
    "    loss_batch = []\n",
    "    for Xarr, Yarr in get_batches(X=Xtest, batch_size=N, y=Ytest_onehot):\n",
    "#         print(Xarr.shape, Yarr.shape)\n",
    "        feed_dict = {X:Xarr, Y:Yarr}\n",
    "        lossarr = sess.run(feed_dict=feed_dict, fetches=[loss])\n",
    "        loss_batch.append(np.mean(lossarr))\n",
    "\n",
    "    # Print info for every iter/epoch\n",
    "    print('test_loss:', np.mean(loss_batch))\n",
    "#     print(\"Test loss: {:6f}\".format(np.mean(test_loss))"
   ]
  },
  {
   "cell_type": "code",
   "execution_count": null,
   "metadata": {},
   "outputs": [],
   "source": []
  }
 ],
 "metadata": {
  "kernelspec": {
   "display_name": "Python 3",
   "language": "python",
   "name": "python3"
  },
  "language_info": {
   "codemirror_mode": {
    "name": "ipython",
    "version": 3
   },
   "file_extension": ".py",
   "mimetype": "text/x-python",
   "name": "python",
   "nbconvert_exporter": "python",
   "pygments_lexer": "ipython3",
   "version": "3.6.5"
  },
  "widgets": {
   "state": {},
   "version": "1.1.2"
  }
 },
 "nbformat": 4,
 "nbformat_minor": 2
}
