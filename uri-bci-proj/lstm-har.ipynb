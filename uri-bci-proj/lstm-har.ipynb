{
 "cells": [
  {
   "cell_type": "code",
   "execution_count": 1,
   "metadata": {},
   "outputs": [
    {
     "name": "stdout",
     "output_type": "stream",
     "text": [
      "0.0 0.16675734494015235 0.1459466811751904 0.13411316648531013 0.1749183895538629 0.1868879216539717 0.1913764961915125 0.0\n"
     ]
    }
   ],
   "source": [
    "# Input data\n",
    "import numpy as np\n",
    "from utilities import *\n",
    "\n",
    "# test and train read\n",
    "X_train_valid, Y_train_valid, list_ch_train_valid = read_data(data_path=\"../../../datasets/har/har-data/\", \n",
    "                                                              split=\"train\")\n",
    "X_test, Y_test, list_ch_test = read_data(data_path=\"../../../datasets/har/har-data/\", split=\"test\")\n",
    "\n",
    "assert list_ch_train_valid == list_ch_test, \"Mistmatch in channels!\"\n",
    "assert Y_train_valid.max(axis=0) == Y_test.max(axis=0)\n",
    "\n",
    "print(np.mean(Y_train_valid==0), np.mean(Y_train_valid==1), np.mean(Y_train_valid==2), \n",
    "      np.mean(Y_train_valid==3), np.mean(Y_train_valid==4), np.mean(Y_train_valid==5),\n",
    "      np.mean(Y_train_valid==6), np.mean(Y_train_valid==7))"
   ]
  },
  {
   "cell_type": "code",
   "execution_count": 2,
   "metadata": {},
   "outputs": [
    {
     "name": "stdout",
     "output_type": "stream",
     "text": [
      "0.0 0.16675734494015235 0.1459466811751904 0.13411316648531013 0.1749183895538629 0.1868879216539717 0.1913764961915125 0.0\n",
      "(7352, 6) float64 (2947, 6) float64\n"
     ]
    }
   ],
   "source": [
    "# Preparing input and output data\n",
    "# from utilities import *\n",
    "\n",
    "# Normalizing/standardizing the input data features\n",
    "X_train_valid_norm, X_test_norm = standardize(test=X_test, train=X_train_valid)\n",
    "\n",
    "# Onehot encoding/vectorizing the output data labels\n",
    "print(np.mean((Y_train_valid).reshape(-1)==0), np.mean((Y_train_valid).reshape(-1)==1),\n",
    "     np.mean((Y_train_valid).reshape(-1)==2), np.mean((Y_train_valid).reshape(-1)==3),\n",
    "     np.mean((Y_train_valid).reshape(-1)==4), np.mean((Y_train_valid).reshape(-1)==5),\n",
    "     np.mean((Y_train_valid).reshape(-1)==6), np.mean((Y_train_valid).reshape(-1)==7))\n",
    "\n",
    "Y_train_valid_onehot = one_hot(labels=Y_train_valid.reshape(-1), n_class=6) \n",
    "Y_test_onehot = one_hot(labels=Y_test.reshape(-1), n_class=6) \n",
    "\n",
    "print(Y_train_valid_onehot.shape, Y_train_valid_onehot.dtype, \n",
    "      Y_test_onehot.shape, Y_test_onehot.dtype)"
   ]
  },
  {
   "cell_type": "code",
   "execution_count": 3,
   "metadata": {},
   "outputs": [
    {
     "name": "stdout",
     "output_type": "stream",
     "text": [
      "(5146, 128, 9) (2206, 128, 9) (5146, 6) (2206, 6)\n"
     ]
    }
   ],
   "source": [
    "# Train and valid split\n",
    "from sklearn.model_selection import train_test_split\n",
    "\n",
    "X_train_norm, X_valid_norm, Y_train_onehot, Y_valid_onehot = train_test_split(X_train_valid_norm, \n",
    "                                                                              Y_train_valid_onehot,\n",
    "                                                                              test_size=0.30)\n",
    "\n",
    "print(X_train_norm.shape, X_valid_norm.shape, Y_train_onehot.shape, Y_valid_onehot.shape)"
   ]
  },
  {
   "cell_type": "code",
   "execution_count": 4,
   "metadata": {},
   "outputs": [
    {
     "name": "stdout",
     "output_type": "stream",
     "text": [
      "batch_size, seq_len, n_channels 51 128 9\n",
      "n_classes 6\n"
     ]
    }
   ],
   "source": [
    "# Input data\n",
    "batch_size = X_train_norm.shape[0]// 100 # minibatch size & number of minibatches\n",
    "seq_len = X_train_norm.shape[1] # Number of steps: each trial length\n",
    "n_channels = X_train_norm.shape[2] # number of channels in each trial\n",
    "print('batch_size, seq_len, n_channels', batch_size, seq_len, n_channels)\n",
    "\n",
    "# Output labels\n",
    "n_classes = Y_train_valid.max(axis=0)\n",
    "assert Y_train_valid.max(axis=0) == Y_test.max(axis=0)\n",
    "print('n_classes', n_classes)"
   ]
  },
  {
   "cell_type": "code",
   "execution_count": 4,
   "metadata": {},
   "outputs": [
    {
     "name": "stdout",
     "output_type": "stream",
     "text": [
      "TensorFlow Version: 1.7.0\n",
      "Default GPU Device: /device:GPU:0\n"
     ]
    }
   ],
   "source": [
    "# GPUs or CPU\n",
    "import tensorflow as tf\n",
    "\n",
    "# Check TensorFlow Version\n",
    "print('TensorFlow Version: {}'.format(tf.__version__))\n",
    "\n",
    "# Check for a GPU\n",
    "print('Default GPU Device: {}'.format(tf.test.gpu_device_name()))"
   ]
  },
  {
   "cell_type": "code",
   "execution_count": 6,
   "metadata": {},
   "outputs": [],
   "source": [
    "# Feed the data from python/numpy to tensorflow framework\n",
    "inputs_ = tf.placeholder(tf.float32, [None, seq_len, n_channels], name = 'inputs_')\n",
    "labels_ = tf.placeholder(tf.float32, [None, n_classes], name = 'labels_')"
   ]
  },
  {
   "cell_type": "code",
   "execution_count": 7,
   "metadata": {},
   "outputs": [
    {
     "name": "stdout",
     "output_type": "stream",
     "text": [
      "(?, 128, 9) (?, 9)\n",
      "27\n"
     ]
    }
   ],
   "source": [
    "# Construct the LSTM inputs and LSTM cells\n",
    "# inputs_ (seq_len, N, n_channels)\n",
    "lstm_in = tf.transpose(inputs_, [1,0,2]) # reshape into (seq_len, N, channels)\n",
    "lstm_in = tf.reshape(lstm_in, [-1, n_channels]) # Now (seq_len*N, n_channels)\n",
    "print(inputs_.shape, lstm_in.shape)\n",
    "\n",
    "# RNN-LSTM parameters\n",
    "lstm_size = 3 * n_channels # 3 times the amount of channels\n",
    "lstm_layers = 1 # Number of layers\n",
    "print(lstm_size)\n",
    "\n",
    "# To cells\n",
    "lstm_in = tf.layers.dense(lstm_in, lstm_size, activation=None) # or tf.nn.relu, tf.nn.sigmoid, tf.nn.tanh?\n",
    "\n",
    "# Open up the tensor into a list of seq_len pieces\n",
    "lstm_in = tf.split(lstm_in, seq_len, 0)"
   ]
  },
  {
   "cell_type": "code",
   "execution_count": 8,
   "metadata": {},
   "outputs": [],
   "source": [
    "# Add LSTM layers\n",
    "# lstm = tf.contrib.rnn.BasicLSTMCell(lstm_size)\n",
    "lstm = tf.nn.rnn_cell.BasicLSTMCell(lstm_size)\n",
    "# drop = tf.nn.rnn_cell.DropoutWrapper(lstm, output_keep_prob=keep_prob_)\n",
    "cell = tf.nn.rnn_cell.MultiRNNCell([lstm] * lstm_layers)\n",
    "initial_state = cell.zero_state(batch_size, tf.float32)"
   ]
  },
  {
   "cell_type": "code",
   "execution_count": 9,
   "metadata": {},
   "outputs": [],
   "source": [
    "outputs, final_state = tf.nn.static_rnn(cell, lstm_in, dtype=tf.float32, initial_state = initial_state)\n",
    "\n",
    "# We only need the last output tensor to pass into a classifier\n",
    "logits = tf.layers.dense(outputs[-1], n_classes, name='logits')"
   ]
  },
  {
   "cell_type": "code",
   "execution_count": 12,
   "metadata": {},
   "outputs": [
    {
     "name": "stdout",
     "output_type": "stream",
     "text": [
      "cost_tensor, cost Tensor(\"softmax_cross_entropy_with_logits_sg_2/Reshape_2:0\", shape=(51,), dtype=float32) Tensor(\"Mean_2:0\", shape=(), dtype=float32)\n",
      "optimizer name: \"Adam\"\n",
      "op: \"NoOp\"\n",
      "input: \"^Adam/update_dense/kernel/ApplyAdam\"\n",
      "input: \"^Adam/update_dense/bias/ApplyAdam\"\n",
      "input: \"^Adam/update_rnn/multi_rnn_cell/cell_0/basic_lstm_cell/kernel/ApplyAdam\"\n",
      "input: \"^Adam/update_rnn/multi_rnn_cell/cell_0/basic_lstm_cell/bias/ApplyAdam\"\n",
      "input: \"^Adam/update_logits/kernel/ApplyAdam\"\n",
      "input: \"^Adam/update_logits/bias/ApplyAdam\"\n",
      "input: \"^Adam/Assign\"\n",
      "input: \"^Adam/Assign_1\"\n",
      "\n",
      "correct_pred, accuracy Tensor(\"Equal:0\", shape=(51,), dtype=bool) Tensor(\"accuracy:0\", shape=(), dtype=float32)\n"
     ]
    }
   ],
   "source": [
    "# Backward pass: error backpropagation\n",
    "# Cost function\n",
    "cost_tensor = tf.nn.softmax_cross_entropy_with_logits(logits=logits, labels=labels_)\n",
    "cost = tf.reduce_mean(input_tensor=cost_tensor)\n",
    "print('cost_tensor, cost', cost_tensor, cost)\n",
    "\n",
    "# Optimizer\n",
    "optimizer = tf.train.AdamOptimizer().minimize(cost)\n",
    "print('optimizer', optimizer)\n",
    "\n",
    "# Accuracy\n",
    "correct_pred = tf.equal(tf.argmax(logits, 1), tf.argmax(labels_, 1))\n",
    "accuracy = tf.reduce_mean(tf.cast(correct_pred, tf.float32), name='accuracy')\n",
    "print('correct_pred, accuracy', correct_pred, accuracy)\n",
    "\n",
    "# # Confusion matrix\n",
    "# confusion_matrix = tf.confusion_matrix(predictions=tf.argmax(logits, 1),\n",
    "#                                        labels=tf.argmax(labels_, 1))\n",
    "# print('confusion_matrix', confusion_matrix)"
   ]
  },
  {
   "cell_type": "code",
   "execution_count": 13,
   "metadata": {
    "scrolled": true
   },
   "outputs": [
    {
     "name": "stdout",
     "output_type": "stream",
     "text": [
      "Epoch: 1/100 Train loss: 1.180627 Valid loss: 0.763284 Train acc: 0.591765 Valid acc: 0.760146\n",
      "Epoch: 2/100 Train loss: 0.548216 Valid loss: 0.398952 Train acc: 0.828628 Valid acc: 0.901049\n",
      "Epoch: 3/100 Train loss: 0.311535 Valid loss: 0.264808 Train acc: 0.916667 Valid acc: 0.926585\n",
      "Epoch: 4/100 Train loss: 0.220571 Valid loss: 0.211860 Train acc: 0.937255 Valid acc: 0.942089\n",
      "Epoch: 5/100 Train loss: 0.186548 Valid loss: 0.192589 Train acc: 0.941765 Valid acc: 0.941176\n",
      "Epoch: 6/100 Train loss: 0.155654 Valid loss: 0.158083 Train acc: 0.949412 Valid acc: 0.951664\n",
      "Epoch: 7/100 Train loss: 0.147784 Valid loss: 0.146117 Train acc: 0.948039 Valid acc: 0.951208\n",
      "Epoch: 8/100 Train loss: 0.134460 Valid loss: 0.140270 Train acc: 0.950196 Valid acc: 0.953488\n",
      "Epoch: 9/100 Train loss: 0.128156 Valid loss: 0.133256 Train acc: 0.951176 Valid acc: 0.955768\n",
      "Epoch: 10/100 Train loss: 0.130982 Valid loss: 0.126876 Train acc: 0.948824 Valid acc: 0.954856\n",
      "Epoch: 11/100 Train loss: 0.136165 Valid loss: 0.127903 Train acc: 0.947059 Valid acc: 0.954856\n",
      "Epoch: 12/100 Train loss: 0.130428 Valid loss: 0.126478 Train acc: 0.952157 Valid acc: 0.957136\n",
      "Epoch: 13/100 Train loss: 0.120395 Valid loss: 0.120267 Train acc: 0.953137 Valid acc: 0.956680\n",
      "Epoch: 14/100 Train loss: 0.118539 Valid loss: 0.116297 Train acc: 0.953333 Valid acc: 0.958504\n",
      "Epoch: 15/100 Train loss: 0.111934 Valid loss: 0.120194 Train acc: 0.953137 Valid acc: 0.957136\n",
      "Epoch: 16/100 Train loss: 0.109465 Valid loss: 0.114868 Train acc: 0.954118 Valid acc: 0.957592\n",
      "Epoch: 17/100 Train loss: 0.105764 Valid loss: 0.116151 Train acc: 0.954510 Valid acc: 0.956224\n",
      "Epoch: 18/100 Train loss: 0.126202 Valid loss: 0.138150 Train acc: 0.949216 Valid acc: 0.949384\n",
      "Epoch: 19/100 Train loss: 0.115245 Valid loss: 0.120159 Train acc: 0.952549 Valid acc: 0.955312\n",
      "Epoch: 20/100 Train loss: 0.104932 Valid loss: 0.112746 Train acc: 0.954902 Valid acc: 0.957592\n",
      "Epoch: 21/100 Train loss: 0.110830 Valid loss: 0.124453 Train acc: 0.951961 Valid acc: 0.958960\n",
      "Epoch: 22/100 Train loss: 0.107115 Valid loss: 0.113559 Train acc: 0.955294 Valid acc: 0.958048\n",
      "Epoch: 23/100 Train loss: 0.105627 Valid loss: 0.112150 Train acc: 0.953922 Valid acc: 0.957592\n",
      "Epoch: 24/100 Train loss: 0.103669 Valid loss: 0.118420 Train acc: 0.954314 Valid acc: 0.955768\n",
      "Epoch: 25/100 Train loss: 0.100350 Valid loss: 0.105656 Train acc: 0.956275 Valid acc: 0.958960\n",
      "Epoch: 26/100 Train loss: 0.098407 Valid loss: 0.103912 Train acc: 0.955294 Valid acc: 0.958048\n",
      "Epoch: 27/100 Train loss: 0.097670 Valid loss: 0.103403 Train acc: 0.955882 Valid acc: 0.958048\n",
      "Epoch: 28/100 Train loss: 0.096659 Valid loss: 0.117467 Train acc: 0.955294 Valid acc: 0.958504\n",
      "Epoch: 29/100 Train loss: 0.112282 Valid loss: 0.119861 Train acc: 0.952745 Valid acc: 0.954856\n",
      "Epoch: 30/100 Train loss: 0.101017 Valid loss: 0.108660 Train acc: 0.955882 Valid acc: 0.960328\n",
      "Epoch: 31/100 Train loss: 0.096342 Valid loss: 0.098251 Train acc: 0.955882 Valid acc: 0.961696\n",
      "Epoch: 32/100 Train loss: 0.105186 Valid loss: 0.104513 Train acc: 0.953137 Valid acc: 0.958048\n",
      "Epoch: 33/100 Train loss: 0.108708 Valid loss: 0.102469 Train acc: 0.953530 Valid acc: 0.958048\n",
      "Epoch: 34/100 Train loss: 0.094313 Valid loss: 0.100117 Train acc: 0.956471 Valid acc: 0.958504\n",
      "Epoch: 35/100 Train loss: 0.107726 Valid loss: 0.118689 Train acc: 0.952745 Valid acc: 0.954856\n",
      "Epoch: 36/100 Train loss: 0.105978 Valid loss: 0.103558 Train acc: 0.951569 Valid acc: 0.959416\n",
      "Epoch: 37/100 Train loss: 0.098007 Valid loss: 0.101491 Train acc: 0.953333 Valid acc: 0.960784\n",
      "Epoch: 38/100 Train loss: 0.095011 Valid loss: 0.100294 Train acc: 0.954510 Valid acc: 0.959872\n",
      "Epoch: 39/100 Train loss: 0.094692 Valid loss: 0.097131 Train acc: 0.956078 Valid acc: 0.960328\n",
      "Epoch: 40/100 Train loss: 0.092353 Valid loss: 0.094080 Train acc: 0.955686 Valid acc: 0.960784\n",
      "Epoch: 41/100 Train loss: 0.095918 Valid loss: 0.096265 Train acc: 0.954902 Valid acc: 0.959416\n",
      "Epoch: 42/100 Train loss: 0.091481 Valid loss: 0.097379 Train acc: 0.956275 Valid acc: 0.960784\n",
      "Epoch: 43/100 Train loss: 0.093487 Valid loss: 0.101841 Train acc: 0.955686 Valid acc: 0.960328\n",
      "Epoch: 44/100 Train loss: 0.095722 Valid loss: 0.103000 Train acc: 0.957647 Valid acc: 0.958504\n",
      "Epoch: 45/100 Train loss: 0.092548 Valid loss: 0.103828 Train acc: 0.956863 Valid acc: 0.957136\n",
      "Epoch: 46/100 Train loss: 0.089722 Valid loss: 0.098192 Train acc: 0.957255 Valid acc: 0.958960\n",
      "Epoch: 47/100 Train loss: 0.088736 Valid loss: 0.103173 Train acc: 0.957647 Valid acc: 0.956680\n",
      "Epoch: 48/100 Train loss: 0.110733 Valid loss: 0.116001 Train acc: 0.951961 Valid acc: 0.957592\n",
      "Epoch: 49/100 Train loss: 0.113523 Valid loss: 0.111385 Train acc: 0.955490 Valid acc: 0.961240\n",
      "Epoch: 50/100 Train loss: 0.138410 Valid loss: 0.179385 Train acc: 0.947647 Valid acc: 0.938441\n",
      "Epoch: 51/100 Train loss: 0.135248 Valid loss: 0.106107 Train acc: 0.945882 Valid acc: 0.962608\n",
      "Epoch: 52/100 Train loss: 0.110175 Valid loss: 0.103631 Train acc: 0.953529 Valid acc: 0.961240\n",
      "Epoch: 53/100 Train loss: 0.105046 Valid loss: 0.101994 Train acc: 0.955294 Valid acc: 0.963520\n",
      "Epoch: 54/100 Train loss: 0.100068 Valid loss: 0.101206 Train acc: 0.957059 Valid acc: 0.962608\n",
      "Epoch: 55/100 Train loss: 0.099056 Valid loss: 0.100622 Train acc: 0.956863 Valid acc: 0.961696\n",
      "Epoch: 56/100 Train loss: 0.099205 Valid loss: 0.101826 Train acc: 0.956863 Valid acc: 0.961240\n",
      "Epoch: 57/100 Train loss: 0.096353 Valid loss: 0.096887 Train acc: 0.957255 Valid acc: 0.963976\n",
      "Epoch: 58/100 Train loss: 0.093692 Valid loss: 0.094188 Train acc: 0.956863 Valid acc: 0.964888\n",
      "Epoch: 59/100 Train loss: 0.091315 Valid loss: 0.094406 Train acc: 0.959608 Valid acc: 0.962608\n",
      "Epoch: 60/100 Train loss: 0.090639 Valid loss: 0.096896 Train acc: 0.960784 Valid acc: 0.960784\n",
      "Epoch: 61/100 Train loss: 0.091971 Valid loss: 0.096002 Train acc: 0.956471 Valid acc: 0.964888\n",
      "Epoch: 62/100 Train loss: 0.090966 Valid loss: 0.094846 Train acc: 0.958235 Valid acc: 0.964888\n",
      "Epoch: 63/100 Train loss: 0.090107 Valid loss: 0.091405 Train acc: 0.958627 Valid acc: 0.967168\n",
      "Epoch: 64/100 Train loss: 0.091316 Valid loss: 0.095688 Train acc: 0.960196 Valid acc: 0.964888\n",
      "Epoch: 65/100 Train loss: 0.096390 Valid loss: 0.099953 Train acc: 0.953137 Valid acc: 0.962608\n",
      "Epoch: 66/100 Train loss: 0.097990 Valid loss: 0.096868 Train acc: 0.957255 Valid acc: 0.964888\n",
      "Epoch: 67/100 Train loss: 0.092738 Valid loss: 0.097013 Train acc: 0.959216 Valid acc: 0.964432\n",
      "Epoch: 68/100 Train loss: 0.091602 Valid loss: 0.100117 Train acc: 0.957843 Valid acc: 0.961240\n",
      "Epoch: 69/100 Train loss: 0.094199 Valid loss: 0.101024 Train acc: 0.956471 Valid acc: 0.957136\n",
      "Epoch: 70/100 Train loss: 0.108441 Valid loss: 0.116412 Train acc: 0.953137 Valid acc: 0.957136\n",
      "Epoch: 71/100 Train loss: 0.102188 Valid loss: 0.114525 Train acc: 0.954118 Valid acc: 0.953488\n",
      "Epoch: 72/100 Train loss: 0.099165 Valid loss: 0.105323 Train acc: 0.956078 Valid acc: 0.957136\n",
      "Epoch: 73/100 Train loss: 0.096947 Valid loss: 0.098477 Train acc: 0.955098 Valid acc: 0.958960\n",
      "Epoch: 74/100 Train loss: 0.089776 Valid loss: 0.099184 Train acc: 0.956078 Valid acc: 0.956680\n",
      "Epoch: 75/100 Train loss: 0.092021 Valid loss: 0.099767 Train acc: 0.953726 Valid acc: 0.961696\n",
      "Epoch: 76/100 Train loss: 0.088972 Valid loss: 0.092932 Train acc: 0.957255 Valid acc: 0.964432\n",
      "Epoch: 77/100 Train loss: 0.088977 Valid loss: 0.093953 Train acc: 0.959020 Valid acc: 0.960784\n",
      "Epoch: 78/100 Train loss: 0.090377 Valid loss: 0.092096 Train acc: 0.956863 Valid acc: 0.963976\n",
      "Epoch: 79/100 Train loss: 0.086444 Valid loss: 0.091215 Train acc: 0.958627 Valid acc: 0.962608\n",
      "Epoch: 80/100 Train loss: 0.083132 Valid loss: 0.090642 Train acc: 0.960196 Valid acc: 0.963520\n",
      "Epoch: 81/100 Train loss: 0.084239 Valid loss: 0.093836 Train acc: 0.956863 Valid acc: 0.958048\n",
      "Epoch: 82/100 Train loss: 0.083253 Valid loss: 0.090698 Train acc: 0.958235 Valid acc: 0.961240\n",
      "Epoch: 83/100 Train loss: 0.080215 Valid loss: 0.102091 Train acc: 0.959804 Valid acc: 0.953032\n",
      "Epoch: 84/100 Train loss: 0.083843 Valid loss: 0.092422 Train acc: 0.957647 Valid acc: 0.960328\n",
      "Epoch: 85/100 Train loss: 0.094976 Valid loss: 0.097995 Train acc: 0.956667 Valid acc: 0.958960\n",
      "Epoch: 86/100 Train loss: 0.083676 Valid loss: 0.091833 Train acc: 0.959412 Valid acc: 0.962152\n"
     ]
    },
    {
     "name": "stdout",
     "output_type": "stream",
     "text": [
      "Epoch: 87/100 Train loss: 0.080275 Valid loss: 0.086986 Train acc: 0.957451 Valid acc: 0.965344\n",
      "Epoch: 88/100 Train loss: 0.078596 Valid loss: 0.095298 Train acc: 0.959216 Valid acc: 0.962608\n",
      "Epoch: 89/100 Train loss: 0.077998 Valid loss: 0.086577 Train acc: 0.961373 Valid acc: 0.965344\n",
      "Epoch: 90/100 Train loss: 0.080352 Valid loss: 0.099261 Train acc: 0.961961 Valid acc: 0.957592\n",
      "Epoch: 91/100 Train loss: 0.099842 Valid loss: 0.158784 Train acc: 0.955098 Valid acc: 0.940265\n",
      "Epoch: 92/100 Train loss: 0.082918 Valid loss: 0.088835 Train acc: 0.957843 Valid acc: 0.964888\n",
      "Epoch: 93/100 Train loss: 0.086438 Valid loss: 0.090366 Train acc: 0.955294 Valid acc: 0.963520\n",
      "Epoch: 94/100 Train loss: 0.076226 Valid loss: 0.085930 Train acc: 0.961176 Valid acc: 0.965344\n",
      "Epoch: 95/100 Train loss: 0.076792 Valid loss: 0.097845 Train acc: 0.962745 Valid acc: 0.958960\n",
      "Epoch: 96/100 Train loss: 0.078608 Valid loss: 0.086940 Train acc: 0.963726 Valid acc: 0.965344\n",
      "Epoch: 97/100 Train loss: 0.072681 Valid loss: 0.081901 Train acc: 0.963726 Valid acc: 0.966256\n",
      "Epoch: 98/100 Train loss: 0.076745 Valid loss: 0.097058 Train acc: 0.961961 Valid acc: 0.954400\n",
      "Epoch: 99/100 Train loss: 0.083145 Valid loss: 0.092511 Train acc: 0.961373 Valid acc: 0.961696\n",
      "Epoch: 100/100 Train loss: 0.075878 Valid loss: 0.082606 Train acc: 0.962157 Valid acc: 0.962152\n"
     ]
    }
   ],
   "source": [
    "train_acc, train_loss = [], []\n",
    "valid_acc, valid_loss = [], []\n",
    "\n",
    "# Save the training result or trained and validated model params\n",
    "saver = tf.train.Saver()\n",
    "\n",
    "with tf.Session() as sess:\n",
    "    sess.run(tf.global_variables_initializer())\n",
    "   \n",
    "    # Loop over epochs\n",
    "    epochs=100\n",
    "    for e in range(epochs):\n",
    "        \n",
    "        ######################## Training\n",
    "        # Loop over batches\n",
    "        # Initialize \n",
    "        state = sess.run(initial_state)\n",
    "        acc_batch, loss_batch = [], []    \n",
    "        for x, y in get_batches(X_train_norm, Y_train_onehot, batch_size):\n",
    "            \n",
    "            # Feed dictionary\n",
    "            feed_dict = {inputs_ : x, labels_ : y, initial_state : state}\n",
    "            loss, _ , state, acc = sess.run([cost, optimizer, final_state, accuracy], feed_dict = feed_dict)\n",
    "            acc_batch.append(acc)\n",
    "            loss_batch.append(loss)\n",
    "\n",
    "        # Store\n",
    "        train_acc.append(np.mean(acc_batch))\n",
    "        train_loss.append(np.mean(loss_batch))\n",
    "            \n",
    "        ################## Validation\n",
    "        # Initialize \n",
    "        state = sess.run(initial_state)\n",
    "        acc_batch, loss_batch = [], []    \n",
    "        # Loop over batches\n",
    "        for x, y in get_batches(X_valid_norm, Y_valid_onehot, batch_size):\n",
    "\n",
    "            # Feed dictionary\n",
    "            feed_dict = {inputs_ : x, labels_ : y, initial_state : state}\n",
    "            loss, state, acc = sess.run([cost, final_state, accuracy], feed_dict = feed_dict)\n",
    "            acc_batch.append(acc)\n",
    "            loss_batch.append(loss)\n",
    "\n",
    "        # Store\n",
    "        valid_acc.append(np.mean(acc_batch))\n",
    "        valid_loss.append(np.mean(loss_batch))\n",
    "            \n",
    "        # Print info for every iter/epoch\n",
    "        print(\"Epoch: {}/{}\".format(e+1, epochs),\n",
    "              \"Train loss: {:6f}\".format(train_loss[e]),\n",
    "              \"Valid loss: {:.6f}\".format(valid_loss[e]),\n",
    "              \"Train acc: {:6f}\".format(train_acc[e]),\n",
    "              \"Valid acc: {:.6f}\".format(valid_acc[e]))\n",
    "                \n",
    "    saver.save(sess,\"checkpoints/lstm-har.ckpt\")"
   ]
  },
  {
   "cell_type": "code",
   "execution_count": 14,
   "metadata": {},
   "outputs": [
    {
     "data": {
      "text/plain": [
       "<Figure size 640x480 with 1 Axes>"
      ]
     },
     "metadata": {},
     "output_type": "display_data"
    }
   ],
   "source": [
    "import matplotlib.pyplot as mplot\n",
    "\n",
    "mplot.plot(train_loss, label='har train_loss')\n",
    "mplot.plot(valid_loss, label='har valid_loss')\n",
    "mplot.legend()\n",
    "mplot.show()"
   ]
  },
  {
   "cell_type": "code",
   "execution_count": 15,
   "metadata": {},
   "outputs": [
    {
     "data": {
      "image/png": "[encoded data removed]",
      "text/plain": [
       "<Figure size 432x288 with 1 Axes>"
      ]
     },
     "metadata": {},
     "output_type": "display_data"
    }
   ],
   "source": [
    "# import matplotlib.pyplot as mplot\n",
    "mplot.plot(train_acc, label='har train_acc')\n",
    "mplot.plot(valid_acc, label='har valid_acc')\n",
    "mplot.legend()\n",
    "mplot.show()"
   ]
  },
  {
   "cell_type": "code",
   "execution_count": 5,
   "metadata": {},
   "outputs": [
    {
     "ename": "NameError",
     "evalue": "name 'saver' is not defined",
     "output_type": "error",
     "traceback": [
      "\u001b[0;31m---------------------------------------------------------------------------\u001b[0m",
      "\u001b[0;31mNameError\u001b[0m                                 Traceback (most recent call last)",
      "\u001b[0;32m<ipython-input-5-7a7d8da3c144>\u001b[0m in \u001b[0;36m<module>\u001b[0;34m()\u001b[0m\n\u001b[1;32m      1\u001b[0m \u001b[0;32mwith\u001b[0m \u001b[0mtf\u001b[0m\u001b[0;34m.\u001b[0m\u001b[0mSession\u001b[0m\u001b[0;34m(\u001b[0m\u001b[0;34m)\u001b[0m \u001b[0;32mas\u001b[0m \u001b[0msess\u001b[0m\u001b[0;34m:\u001b[0m\u001b[0;34m\u001b[0m\u001b[0m\n\u001b[1;32m      2\u001b[0m     \u001b[0;31m# Restore the validated model\u001b[0m\u001b[0;34m\u001b[0m\u001b[0;34m\u001b[0m\u001b[0m\n\u001b[0;32m----> 3\u001b[0;31m     \u001b[0msaver\u001b[0m\u001b[0;34m.\u001b[0m\u001b[0mrestore\u001b[0m\u001b[0;34m(\u001b[0m\u001b[0msess\u001b[0m\u001b[0;34m,\u001b[0m \u001b[0mtf\u001b[0m\u001b[0;34m.\u001b[0m\u001b[0mtrain\u001b[0m\u001b[0;34m.\u001b[0m\u001b[0mlatest_checkpoint\u001b[0m\u001b[0;34m(\u001b[0m\u001b[0;34m'checkpoints'\u001b[0m\u001b[0;34m)\u001b[0m\u001b[0;34m)\u001b[0m\u001b[0;34m\u001b[0m\u001b[0m\n\u001b[0m\u001b[1;32m      4\u001b[0m \u001b[0;34m\u001b[0m\u001b[0m\n\u001b[1;32m      5\u001b[0m     \u001b[0;31m################## Test\u001b[0m\u001b[0;34m\u001b[0m\u001b[0;34m\u001b[0m\u001b[0m\n",
      "\u001b[0;31mNameError\u001b[0m: name 'saver' is not defined"
     ]
    }
   ],
   "source": [
    "with tf.Session() as sess:\n",
    "    # Restore the validated model\n",
    "    saver.restore(sess, tf.train.latest_checkpoint('checkpoints'))\n",
    "    \n",
    "    ################## Test\n",
    "    state = sess.run(initial_state)\n",
    "    acc_batch, loss_batch = [], []    \n",
    "    # Loop over batches\n",
    "    for x, y in get_batches(X_test_norm, Y_test_onehot, batch_size):\n",
    "\n",
    "        # Feed dictionary\n",
    "        feed_dict = {inputs_ : x, labels_ : y, initial_state : state}\n",
    "        loss, state, acc = sess.run([cost, final_state, accuracy], feed_dict = feed_dict)\n",
    "        acc_batch.append(acc)\n",
    "        loss_batch.append(loss)\n",
    "\n",
    "    # Print info for every iter/epoch\n",
    "    print(\"Test loss: {:6f}\".format(np.mean(loss_batch)),\n",
    "          \"Test acc: {:.6f}\".format(np.mean(acc_batch)))"
   ]
  },
  {
   "cell_type": "code",
   "execution_count": null,
   "metadata": {},
   "outputs": [],
   "source": []
  }
 ],
 "metadata": {
  "kernelspec": {
   "display_name": "Python 3",
   "language": "python",
   "name": "python3"
  },
  "language_info": {
   "codemirror_mode": {
    "name": "ipython",
    "version": 3
   },
   "file_extension": ".py",
   "mimetype": "text/x-python",
   "name": "python",
   "nbconvert_exporter": "python",
   "pygments_lexer": "ipython3",
   "version": "3.6.5"
  },
  "widgets": {
   "state": {},
   "version": "1.1.2"
  }
 },
 "nbformat": 4,
 "nbformat_minor": 2
}
