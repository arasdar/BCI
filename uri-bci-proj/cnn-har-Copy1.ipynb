{
 "cells": [
  {
   "cell_type": "code",
   "execution_count": 84,
   "metadata": {},
   "outputs": [
    {
     "name": "stdout",
     "output_type": "stream",
     "text": [
      "0.16675734494015235 0.1459466811751904 0.13411316648531013 0.1749183895538629 0.1868879216539717 0.1913764961915125\n",
      "(7352, 128, 9) (7352,)\n",
      "float64 int64\n",
      "(2947, 128, 9) (2947,)\n",
      "float64 int64\n",
      "(7352, 128, 9) (7352,)\n",
      "float64 int64\n",
      "(2947, 128, 9) (2947,)\n",
      "float64 int64\n",
      "(5146, 128, 9) (2206, 128, 9) (5146,) (2206,)\n",
      "float64 float64 int64 int64\n"
     ]
    }
   ],
   "source": [
    "# Input data\n",
    "import numpy as np\n",
    "from utilities import *\n",
    "\n",
    "# test and train read\n",
    "Xtrain, Ytrain, list_ch_train = read_data(data_path=\"../../../datasets/har/har-data/\", split=\"train\")\n",
    "Xtest, Ytest, list_ch_test = read_data(data_path=\"../../../datasets/har/har-data/\", split=\"test\")\n",
    "\n",
    "assert list_ch_train == list_ch_test, \"Mistmatch in channels!\"\n",
    "assert Ytrain.max(axis=0) == Ytest.max(axis=0)\n",
    "\n",
    "print(np.mean(Ytrain==1), np.mean(Ytrain==2), \n",
    "      np.mean(Ytrain==3), np.mean(Ytrain==4), np.mean(Ytrain==5),\n",
    "      np.mean(Ytrain==6))\n",
    "print(Xtrain.shape, Ytrain.shape)\n",
    "print(Xtrain.dtype, Ytrain.dtype)\n",
    "print(Xtest.shape, Ytest.shape)\n",
    "print(Xtest.dtype, Ytest.dtype)\n",
    "\n",
    "# Normalizing/standardizing the input data features\n",
    "Xtrain, Xtest = standardize(test=Xtest, train=Xtrain)\n",
    "print(Xtrain.shape, Ytrain.shape)\n",
    "print(Xtrain.dtype, Ytrain.dtype)\n",
    "print(Xtest.shape, Ytest.shape)\n",
    "print(Xtest.dtype, Ytest.dtype)\n",
    "\n",
    "# Train and valid split\n",
    "from sklearn.model_selection import train_test_split\n",
    "\n",
    "# 30% train for valid and 30% all data for test: train ~50%, valid 20%, test 30% \n",
    "Xtrain, Xvalid, Ytrain, Yvalid = train_test_split(Xtrain, Ytrain, test_size=0.30)\n",
    "print(Xtrain.shape, Xvalid.shape, Ytrain.shape, Yvalid.shape)\n",
    "print(Xtrain.dtype, Xvalid.dtype, Ytrain.dtype, Yvalid.dtype)\n",
    "\n",
    "# Type casting the input and output for the sake of type cast and avoiding the accuracy problem??\n",
    "# I am not sure about this one but it should prolly be done!"
   ]
  },
  {
   "cell_type": "code",
   "execution_count": 85,
   "metadata": {},
   "outputs": [
    {
     "name": "stdout",
     "output_type": "stream",
     "text": [
      "TensorFlow Version: 1.7.0\n",
      "Default GPU Device: /device:GPU:0\n"
     ]
    }
   ],
   "source": [
    "# GPUs or CPU\n",
    "import tensorflow as tf\n",
    "\n",
    "# Check TensorFlow Version\n",
    "print('TensorFlow Version: {}'.format(tf.__version__))\n",
    "\n",
    "# Check for a GPU\n",
    "print('Default GPU Device: {}'.format(tf.test.gpu_device_name()))"
   ]
  },
  {
   "cell_type": "code",
   "execution_count": 86,
   "metadata": {},
   "outputs": [
    {
     "name": "stdout",
     "output_type": "stream",
     "text": [
      "5146 128 9\n",
      "6\n",
      "(5146, 128, 9) <dtype: 'float16'> (5146,) <dtype: 'uint8'>\n",
      "(5146, 128, 9) float64 (5146,) int64\n"
     ]
    }
   ],
   "source": [
    "## Hyperparameters\n",
    "# Input data\n",
    "N, W, Cin = Xtrain.shape[0], Xtrain.shape[1], Xtrain.shape[2]\n",
    "print(N, W, Cin)\n",
    "\n",
    "# Output labels\n",
    "# n_classes or dimensions or number of channels in the output label or target\n",
    "# NWC or NHWC for image and signal, also applies to the output number of dimensions or classes\n",
    "# each class represents one dimension or num classes are number of dimensions\n",
    "# number of channels for output, num of classes or number of dimensions are pretty much the same thing\n",
    "# Input NWC and output we have ND or NC as well \n",
    "# Channels, classes, CHout, Cout, Dim, Dout, Din, Cout\n",
    "Cout = Ytrain.max(axis=0)\n",
    "print(Cout)\n",
    "\n",
    "# Feed the data from python/numpy to tensorflow framework\n",
    "X = tf.placeholder(dtype=tf.float16, name=None, shape=[N, W, Cin])\n",
    "Y = tf.placeholder(dtype=tf.uint8, name=None, shape=[N])\n",
    "print(X.shape, X.dtype, Y.shape, Y.dtype)\n",
    "print(Xtrain.shape, Xtrain.dtype, Ytrain.shape, Ytrain.dtype)"
   ]
  },
  {
   "cell_type": "code",
   "execution_count": 87,
   "metadata": {},
   "outputs": [
    {
     "name": "stdout",
     "output_type": "stream",
     "text": [
      "(5146, 128, 9) <dtype: 'float16'>\n",
      "(64, 9, 18) <dtype: 'float16_ref'>\n",
      "(5146, 64, 18) <dtype: 'float16'>\n"
     ]
    }
   ],
   "source": [
    "print(X.shape, X.dtype)\n",
    "# I should define the filter or weights for convolution\n",
    "# Wwidth, Wdepth, Wnum is the same as NWC or it is WCN which is gonna be Width, Channels, Numbers\n",
    "# Ww, Wc, Wn is also possible to be represented like Wn, Ww, Wc which is the same as NWC\n",
    "# Wn, Ww, Wc = X.shape[0].value, X.shape[1].value, X.shape[2].value\n",
    "# This is also like input width, input channel and output channels\n",
    "# This process is shrinking the tensor into smaller in terms of space and larger in terms of channels/depth\n",
    "Ww, Wc, Wn = X.shape[1].value//2, X.shape[2].value, X.shape[2].value*2\n",
    "initial_value = tf.random_normal(dtype=X.dtype, mean=0.0, name=None, shape=[Ww, Wc, Wn], stddev=1.0)\n",
    "Wconv = tf.Variable(dtype=X.dtype, initial_value=initial_value, name=None, trainable=True)\n",
    "print(Wconv.shape, Wconv.dtype)\n",
    "Xconv = tf.nn.conv1d(data_format='NWC', filters=Wconv, name=None, padding='SAME', stride=2, \n",
    "                     use_cudnn_on_gpu=True, value=X)\n",
    "# Implementation leaky relu which is the simplest non-linear function.\n",
    "Xconv = tf.maximum(name=None, x=0.1*Xconv, y=1.0*Xconv)\n",
    "print(Xconv.shape, Xconv.dtype)"
   ]
  },
  {
   "cell_type": "code",
   "execution_count": 88,
   "metadata": {},
   "outputs": [
    {
     "name": "stdout",
     "output_type": "stream",
     "text": [
      "(5146, 64, 18) (5146,)\n",
      "[5146, 1152]\n",
      "64 18 6\n",
      "(1152, 6) <dtype: 'float16_ref'>\n",
      "(5146, 6) <dtype: 'float16'>\n"
     ]
    }
   ],
   "source": [
    "# This one is the matrix multiplication or fully connected or desnely connected.\n",
    "print(Xconv.shape, Y.shape)\n",
    "shape = [Xconv.shape[0].value, Xconv.shape[1].value*Xconv.shape[2].value]\n",
    "print(shape)\n",
    "Xconv_ = tf.reshape(name=None, shape=shape, tensor=Xconv)\n",
    "# Ww, Wc, Wn = Xconv.shape[1].value, Xconv.shape[2].value, Y.shape[1].value\n",
    "Ww, Wc, Wn = Xconv.shape[1].value, Xconv.shape[2].value, Cout\n",
    "print(Ww, Wc, Wn)\n",
    "shape = [Ww*Wc, Wn]\n",
    "initial_value = tf.random_normal(dtype=X.dtype, mean=0.0, name=None, shape=shape, stddev=1.0)\n",
    "W = tf.Variable(dtype=X.dtype, initial_value=initial_value, name=None, trainable=True)\n",
    "print(W.shape, W.dtype)\n",
    "Ylogits = tf.matmul(a=Xconv_, b=W, name=None)\n",
    "print(Ylogits.shape, Ylogits.dtype)"
   ]
  },
  {
   "cell_type": "code",
   "execution_count": 89,
   "metadata": {},
   "outputs": [
    {
     "name": "stdout",
     "output_type": "stream",
     "text": [
      "(5146,) int64\n",
      "<dtype: 'float16'> (5146, 6)\n",
      "(5146,) <dtype: 'uint8'>\n",
      "(5146, 6) <dtype: 'float16'>\n"
     ]
    }
   ],
   "source": [
    "# E: error, X: input, Y: output, W: weights/filters/kernels\n",
    "# Array, tensors, list but in order they are like\n",
    "# Python List, NumPy Array, and TensorFlow Tensors\n",
    "# Xlist, Xarr, Xtensor\n",
    "# As u see belw Dict is defined and also tuple or arguments are also all defined as well.\n",
    "print(Ytrain.shape, Ytrain.dtype)\n",
    "# Ytrain should be converted into one hot vectors\n",
    "print(Ylogits.dtype, Ylogits.shape)\n",
    "# tf.one_hot(axis=, depth=, dtype=Ylogits.dtype, indices=, name=, off_value=, on_value=, )\n",
    "# tf.nn.one_hot()\n",
    "# In this case, Ytrain.shape[0]==Ylogits.shape[0] in terms of the value but the content is differet\n",
    "# Ytrain is containing the class numbers but Ylogits is logits of Cout dimension \n",
    "# based on the number of classes/dimensionaliry of the output labels.\n",
    "print(Y.shape, Y.dtype)\n",
    "Ylabels = tf.one_hot(\n",
    "    indices=Y,\n",
    "    depth=Cout,\n",
    "    on_value=None,\n",
    "    off_value=None,\n",
    "    axis=None,\n",
    "    dtype=Ylogits.dtype,\n",
    "    name=None\n",
    ")\n",
    "print(Ylabels.shape, Ylabels.dtype)"
   ]
  },
  {
   "cell_type": "code",
   "execution_count": 101,
   "metadata": {},
   "outputs": [],
   "source": [
    "# # E: error, Elist, Earr, Etensor\n",
    "# # Elist python/impl/api, Earr for NumPy for Num Com, and Etensor for High PerfComp\n",
    "# Err_tensor = tf.nn.softmax_cross_entropy_with_logits_v2(labels=Ylabels, logits=Ylogits, name=None)\n",
    "# print(Err_tensor)\n",
    "# # Mean of the number of batches/minibatches or the first dimension/axis in the tensor/matrix\n",
    "# # Reduce is what we do always after computing the mean so that it is zero-mean and std-dev\n",
    "# # Zero-mean or bring it to zero-offset or to the center\n",
    "# Err = tf.reduce_mean(input_tensor=Err_tensor, name=None)\n",
    "# print(Err)"
   ]
  },
  {
   "cell_type": "code",
   "execution_count": 102,
   "metadata": {},
   "outputs": [],
   "source": [
    "# # Also now we should the backpropagation here using different approaches and \n",
    "# # Afterwards, we should apply the SGD optimization or Stochastic gradient descent\n",
    "# # Here in order to optimize or do the learning, we shoyuld do BP + SGD\n",
    "# # BP for backpropagationg the error/ output error or error derivatives\n",
    "# # SGD for updating the model parameters or weight\n",
    "# # Meta learning is the same as learning itself it is just updating the hyper parameters in the sense of coming up with something really good\n",
    "# # Meta-learnng in biological species was done by Genes\n",
    "# # Learning was done in the nervous system or neural netowkr or neuronal networks\n",
    "# # beta1=0.9,\n",
    "# # beta2=0.999,\n",
    "# # epsilon=1e-08,\n",
    "# # use_locking=False,\n",
    "# # name='Adam'\n",
    "# opt = tf.train.AdamOptimizer(learning_rate=0.001).minimize(loss=Err)"
   ]
  },
  {
   "cell_type": "code",
   "execution_count": 106,
   "metadata": {},
   "outputs": [
    {
     "name": "stdout",
     "output_type": "stream",
     "text": [
      "cost_tensor, cost Tensor(\"softmax_cross_entropy_with_logits_sg_1/Cast_2:0\", shape=(5146,), dtype=float16) Tensor(\"Mean_5:0\", shape=(), dtype=float16)\n",
      "optimizer name: \"Adam_5\"\n",
      "op: \"NoOp\"\n",
      "input: \"^Adam_5/update_Variable_15/ApplyAdam\"\n",
      "input: \"^Adam_5/update_Variable_16/ApplyAdam\"\n",
      "input: \"^Adam_5/Assign\"\n",
      "input: \"^Adam_5/Assign_1\"\n",
      "\n"
     ]
    }
   ],
   "source": [
    "# Backward pass: error backpropagation\n",
    "# Cost function\n",
    "cost_tensor = tf.nn.softmax_cross_entropy_with_logits(logits=Ylogits, labels=Ylabels)\n",
    "cost = tf.reduce_mean(input_tensor=cost_tensor)\n",
    "print('cost_tensor, cost', cost_tensor, cost)\n",
    "\n",
    "# Optimizer\n",
    "optimizer = tf.train.AdamOptimizer(learning_rate=0.001).minimize(cost)\n",
    "print('optimizer', optimizer)\n",
    "\n",
    "# # Accuracy\n",
    "# correct_pred = tf.equal(tf.argmax(logits, 1), tf.argmax(labels_, 1))\n",
    "# accuracy = tf.reduce_mean(tf.cast(correct_pred, tf.float32), name='accuracy')\n",
    "# print('correct_pred, accuracy', correct_pred, accuracy)\n",
    "\n",
    "# # Confusion matrix\n",
    "# confusion_matrix = tf.confusion_matrix(predictions=tf.argmax(logits, 1),\n",
    "#                                        labels=tf.argmax(labels_, 1))\n",
    "# print('confusion_matrix', confusion_matrix)"
   ]
  },
  {
   "cell_type": "code",
   "execution_count": 118,
   "metadata": {},
   "outputs": [
    {
     "name": "stdout",
     "output_type": "stream",
     "text": [
      "(514, 128, 9) (514,)\n",
      "(514, 128, 9) (514,)\n",
      "(514, 128, 9) (514,)\n",
      "(514, 128, 9) (514,)\n",
      "(514, 128, 9) (514,)\n",
      "(514, 128, 9) (514,)\n",
      "(514, 128, 9) (514,)\n",
      "(514, 128, 9) (514,)\n",
      "(514, 128, 9) (514,)\n",
      "(514, 128, 9) (514,)\n"
     ]
    }
   ],
   "source": [
    "for eachX, eachY in get_batches(X=Xtrain, batch_size=N//10, y=Ytrain):\n",
    "    print(eachX.shape, eachY.shape)"
   ]
  },
  {
   "cell_type": "code",
   "execution_count": 121,
   "metadata": {
    "scrolled": true
   },
   "outputs": [
    {
     "name": "stdout",
     "output_type": "stream",
     "text": [
      "409.5\n",
      "nan\n",
      "nan\n",
      "nan\n",
      "nan\n",
      "nan\n",
      "nan\n",
      "nan\n",
      "nan\n",
      "nan\n"
     ]
    }
   ],
   "source": [
    "# train_acc, train_loss = [], []\n",
    "# valid_acc, valid_loss = [], []\n",
    "\n",
    "# # Save the training result or trained and validated model params\n",
    "# saver = tf.train.Saver()\n",
    "\n",
    "with tf.Session() as sess:\n",
    "    sess.run(fetches=tf.global_variables_initializer())\n",
    "   \n",
    "    # Loop over epochs\n",
    "    for epoch in range(10):\n",
    "#         # Loop over batches\n",
    "#         for Xarr, Yarr in get_batches(X=Xtrain, batch_size=N//10, y=Ytrain):\n",
    "            \n",
    "        ######################## Training\n",
    "        # Feed dictionary\n",
    "        feed_dict = {X:Xtrain, Y:Ytrain}\n",
    "        loss, _ = sess.run(feed_dict=feed_dict, fetches=[cost, optimizer])\n",
    "        print(loss)\n",
    "            \n",
    "#             ################## Validation\n",
    "#             state_valid = sess.run(cell.zero_state(batch_size, tf.float32))\n",
    "#             acc_batch = []\n",
    "#             loss_batch = []    \n",
    "#             # Loop over batches\n",
    "#             for x, y in get_batches(X_valid_norm, Y_valid_onehot, batch_size):\n",
    "\n",
    "#                 # Feed dictionary\n",
    "#                 feed = {inputs_ : x, labels_ : y, keep_prob_ : 1.0, initial_state : state_valid}\n",
    "\n",
    "#                 # Loss\n",
    "#                 loss, state_valid, acc = sess.run([cost, final_state, accuracy], feed_dict = feed)\n",
    "#                 acc_batch.append(acc)\n",
    "#                 loss_batch.append(loss)\n",
    "\n",
    "#             # Store\n",
    "#             valid_acc.append(np.mean(acc_batch))\n",
    "#             valid_loss.append(np.mean(loss_batch))\n",
    "            \n",
    "#         # Print info for every iter/epoch\n",
    "#         print(\"Epoch: {}/{}\".format(e+1, epochs),\n",
    "#               \"Train loss: {:6f}\".format(np.mean(train_loss)),\n",
    "#               \"Valid loss: {:.6f}\".format(np.mean(valid_loss)),\n",
    "#               \"Train acc: {:6f}\".format(np.mean(train_acc)),\n",
    "#               \"Valid acc: {:.6f}\".format(np.mean(valid_acc)))\n",
    "                \n",
    "#     saver.save(sess,\"checkpoints/dcnn-lstm-har.ckpt\")"
   ]
  },
  {
   "cell_type": "code",
   "execution_count": 13,
   "metadata": {},
   "outputs": [
    {
     "data": {
      "image/png": "[encoded data removed]",
      "text/plain": [
       "<matplotlib.figure.Figure at 0x7f96d87f04e0>"
      ]
     },
     "metadata": {},
     "output_type": "display_data"
    }
   ],
   "source": [
    "import matplotlib.pyplot as mplot\n",
    "\n",
    "mplot.plot(train_loss, label='har train_loss')\n",
    "mplot.plot(valid_loss, label='har valid_loss')\n",
    "mplot.legend()\n",
    "mplot.show()"
   ]
  },
  {
   "cell_type": "code",
   "execution_count": 14,
   "metadata": {},
   "outputs": [
    {
     "data": {
      "image/png": "[encoded data removed]",
      "text/plain": [
       "<matplotlib.figure.Figure at 0x7f964801abe0>"
      ]
     },
     "metadata": {},
     "output_type": "display_data"
    }
   ],
   "source": [
    "# import matplotlib.pyplot as mplot\n",
    "mplot.plot(train_acc, label='har train_acc')\n",
    "mplot.plot(valid_acc, label='har valid_acc')\n",
    "mplot.legend()\n",
    "mplot.show()"
   ]
  },
  {
   "cell_type": "code",
   "execution_count": 15,
   "metadata": {},
   "outputs": [
    {
     "name": "stdout",
     "output_type": "stream",
     "text": [
      "INFO:tensorflow:Restoring parameters from checkpoints/dcnn-lstm-har.ckpt\n",
      "Test loss: 1.733549 Test acc: 0.251806\n"
     ]
    }
   ],
   "source": [
    "test_acc, test_loss = [], []\n",
    "\n",
    "with tf.Session() as sess:\n",
    "    # Restore the validated model\n",
    "    saver.restore(sess, tf.train.latest_checkpoint('checkpoints'))\n",
    "    \n",
    "    ################## Test\n",
    "    state = sess.run(cell.zero_state(batch_size, tf.float32))\n",
    "    acc_batch = []\n",
    "    loss_batch = []    \n",
    "    # Loop over batches\n",
    "    for x, y in get_batches(X_test_norm, Y_test_onehot, batch_size):\n",
    "\n",
    "        # Feed dictionary\n",
    "        feed = {inputs_ : x, labels_ : y, keep_prob_ : 1.0, initial_state : state}\n",
    "\n",
    "        # Loss\n",
    "        loss, state, acc = sess.run([cost, final_state, accuracy], feed_dict = feed)\n",
    "        acc_batch.append(acc)\n",
    "        loss_batch.append(loss)\n",
    "\n",
    "    # Store\n",
    "    test_acc.append(np.mean(acc_batch))\n",
    "    test_loss.append(np.mean(loss_batch))\n",
    "\n",
    "    # Print info for every iter/epoch\n",
    "    print(\"Test loss: {:6f}\".format(np.mean(test_loss)),\n",
    "          \"Test acc: {:.6f}\".format(np.mean(test_acc)))"
   ]
  },
  {
   "cell_type": "code",
   "execution_count": null,
   "metadata": {},
   "outputs": [],
   "source": []
  }
 ],
 "metadata": {
  "kernelspec": {
   "display_name": "Python 3",
   "language": "python",
   "name": "python3"
  },
  "language_info": {
   "codemirror_mode": {
    "name": "ipython",
    "version": 3
   },
   "file_extension": ".py",
   "mimetype": "text/x-python",
   "name": "python",
   "nbconvert_exporter": "python",
   "pygments_lexer": "ipython3",
   "version": "3.6.5"
  },
  "widgets": {
   "state": {},
   "version": "1.1.2"
  }
 },
 "nbformat": 4,
 "nbformat_minor": 2
}
