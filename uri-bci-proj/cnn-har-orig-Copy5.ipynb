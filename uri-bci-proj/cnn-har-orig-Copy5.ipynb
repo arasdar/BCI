{
 "cells": [
  {
   "cell_type": "code",
   "execution_count": 24,
   "metadata": {},
   "outputs": [],
   "source": [
    "# Input data\n",
    "import numpy as np\n",
    "from utilities import *\n",
    "\n",
    "# test and train read\n",
    "Xtrain, Ytrain, list_ch_train = read_data(data_path=\"../../../datasets/har/har-data/\", split=\"train\")\n",
    "Xtest, Ytest, list_ch_test = read_data(data_path=\"../../../datasets/har/har-data/\", split=\"test\")\n",
    "\n",
    "assert list_ch_train == list_ch_test, \"Mistmatch in channels!\"\n",
    "assert Ytrain.max(axis=0) == Ytest.max(axis=0)\n",
    "\n",
    "# print(np.mean(Y_train_valid==0), np.mean(Y_train_valid==1), np.mean(Y_train_valid==2), \n",
    "#       np.mean(Y_train_valid==3), np.mean(Y_train_valid==4), np.mean(Y_train_valid==5),\n",
    "#       np.mean(Y_train_valid==6), np.mean(Y_train_valid==7))"
   ]
  },
  {
   "cell_type": "code",
   "execution_count": 25,
   "metadata": {},
   "outputs": [],
   "source": [
    "# Preparing input and output data\n",
    "# from utilities import *\n",
    "\n",
    "# Normalizing/standardizing the input data features\n",
    "Xtrain, Xtest = standardize(test=Xtest, train=Xtrain)\n",
    "\n",
    "# # Onehot encoding/vectorizing the output data labels\n",
    "# print(np.mean((Y_train_valid).reshape(-1)==0), np.mean((Y_train_valid).reshape(-1)==1),\n",
    "#      np.mean((Y_train_valid).reshape(-1)==2), np.mean((Y_train_valid).reshape(-1)==3),\n",
    "#      np.mean((Y_train_valid).reshape(-1)==4), np.mean((Y_train_valid).reshape(-1)==5),\n",
    "#      np.mean((Y_train_valid).reshape(-1)==6), np.mean((Y_train_valid).reshape(-1)==7))\n",
    "\n",
    "Ytrain = one_hot(labels=Ytrain.reshape(-1), n_class=6) \n",
    "Ytest = one_hot(labels=Ytest.reshape(-1), n_class=6) \n",
    "\n",
    "# print(Y_train_valid_onehot.shape, Y_train_valid_onehot.dtype, \n",
    "#       Y_test_onehot.shape, Y_test_onehot.dtype)"
   ]
  },
  {
   "cell_type": "code",
   "execution_count": 26,
   "metadata": {},
   "outputs": [],
   "source": [
    "# Train and valid split\n",
    "from sklearn.model_selection import train_test_split\n",
    "\n",
    "# 30% of the training data/ entire training data is assigned to validation.\n",
    "Xtrain, Xvalid, Ytrain, Yvalid = train_test_split(Xtrain, Ytrain, test_size=0.30)\n",
    "\n",
    "# print(X_train_norm.shape, X_valid_norm.shape, Y_train_onehot.shape, Y_valid_onehot.shape)"
   ]
  },
  {
   "cell_type": "code",
   "execution_count": 27,
   "metadata": {},
   "outputs": [
    {
     "name": "stdout",
     "output_type": "stream",
     "text": [
      "TensorFlow Version: 1.7.0\n",
      "Default GPU Device: /device:GPU:0\n"
     ]
    }
   ],
   "source": [
    "# GPUs or CPU\n",
    "import tensorflow as tf\n",
    "\n",
    "# Check TensorFlow Version\n",
    "print('TensorFlow Version: {}'.format(tf.__version__))\n",
    "\n",
    "# Check for a GPU\n",
    "print('Default GPU Device: {}'.format(tf.test.gpu_device_name()))"
   ]
  },
  {
   "cell_type": "code",
   "execution_count": 28,
   "metadata": {},
   "outputs": [
    {
     "name": "stdout",
     "output_type": "stream",
     "text": [
      "(2206, 128, 9) <dtype: 'float32'>\n",
      "(2206, 6) <dtype: 'float32'>\n"
     ]
    }
   ],
   "source": [
    "# Input data which is divided into train, valid, and testing.\n",
    "N, W, Cin = Xvalid.shape[0], Xtrain.shape[1], Xtrain.shape[2]\n",
    "X = tf.placeholder(dtype=tf.float32, name=None, shape=[N, W, Cin])\n",
    "print(X.shape, X.dtype)\n",
    "\n",
    "# Output data/labels\n",
    "# assert Ytrain.max(axis=0)==Ytest.max(axis=0)\n",
    "# Cout = Ytrain.max(axis=0)\n",
    "n_class=6\n",
    "Cout = n_class\n",
    "Y = tf.placeholder(dtype=tf.float32, name=None, shape=[N, Cout])\n",
    "print(Y.shape, Y.dtype)"
   ]
  },
  {
   "cell_type": "code",
   "execution_count": 29,
   "metadata": {},
   "outputs": [
    {
     "name": "stdout",
     "output_type": "stream",
     "text": [
      "(2206, 128, 9) <dtype: 'float32'>\n",
      "(64, 9, 18) <dtype: 'float32_ref'>\n",
      "(2206, 64, 18) <dtype: 'float32'>\n"
     ]
    }
   ],
   "source": [
    "# One convolution layer\n",
    "print(X.shape, X.dtype)\n",
    "# NWC: N is not important for weights/filters/kernels since it is not being convolved.\n",
    "Wwidth, Wchannels, Wnumber = X.shape[1].value//2, X.shape[2].value, X.shape[2].value*2\n",
    "shape = [Wwidth, Wchannels, Wnumber]\n",
    "initial_value = tf.random_normal(dtype=X.dtype, mean=0.0, name=None, shape=shape, stddev=1.0)\n",
    "Wconv = tf.Variable(dtype=X.dtype, initial_value=initial_value, name=None, trainable=True)\n",
    "print(Wconv.shape, Wconv.dtype)\n",
    "Xconv = tf.nn.conv1d(data_format='NWC', filters=Wconv, name=None, padding='SAME', stride=2, use_cudnn_on_gpu=True, \n",
    "                     value=X)\n",
    "# Relu or nonlinearity/activation should also be implemnted\n",
    "# leaky relu is what I am interested in which is the simplest possible non-linearity and gets the job easily done.\n",
    "Xconv = tf.maximum(name=None, x=(-0.1*Xconv), y=Xconv)\n",
    "print(Xconv.shape, Xconv.dtype)"
   ]
  },
  {
   "cell_type": "code",
   "execution_count": 30,
   "metadata": {},
   "outputs": [
    {
     "name": "stdout",
     "output_type": "stream",
     "text": [
      "(2206, 1152) <dtype: 'float32'>\n",
      "(1152, 6) <dtype: 'float32_ref'>\n",
      "(2206, 6) <dtype: 'float32'>\n",
      "(2206, 6) <dtype: 'float32'>\n"
     ]
    }
   ],
   "source": [
    "# This is a multiplication layer/ dense/fully-connected/gobal\n",
    "# shape = [-1, Xconv.shape[1].value*Xconv.shape[2].value] # N is None which is a value or creating an extra index\n",
    "shape = [Xconv.shape[0].value, Xconv.shape[1].value*Xconv.shape[2].value]\n",
    "Xconv_reshaped = tf.reshape(name=None, shape=shape, tensor=Xconv)\n",
    "print(Xconv_reshaped.shape, Xconv_reshaped.dtype)\n",
    "# print(Y.shape, Y.dtype)\n",
    "# In this layer there is not very much \n",
    "# Wwidth, Wchannels, Wnumber which is for a normal conv layer\n",
    "# NWC or WCN but for a dense layer, there is no W or H it is just CN or NC\n",
    "Wchannels, Wnumber = Xconv_reshaped.shape[1].value, Y.shape[1].value\n",
    "shape = [Wchannels, Wnumber]\n",
    "# print(shape)\n",
    "initial_value = tf.random_normal(dtype=Xconv_reshaped.dtype, mean=0.0, name=None, shape=shape, stddev=1.0)\n",
    "W = tf.Variable(dtype=Xconv_reshaped.dtype, initial_value=initial_value, name=None, trainable=True)\n",
    "print(W.shape, W.dtype)\n",
    "logits = tf.matmul(a=Xconv_reshaped, b=W, name=None)\n",
    "print(logits.shape, logits.dtype)\n",
    "print(Y.shape, Y.dtype)"
   ]
  },
  {
   "cell_type": "code",
   "execution_count": 31,
   "metadata": {},
   "outputs": [
    {
     "name": "stdout",
     "output_type": "stream",
     "text": [
      "Tensor(\"softmax_cross_entropy_with_logits_1/Reshape_2:0\", shape=(2206,), dtype=float32)\n",
      "Tensor(\"Mean_1:0\", shape=(), dtype=float32)\n"
     ]
    }
   ],
   "source": [
    "# Backward pass: error backpropagation\n",
    "# Cost function\n",
    "loss_tensor = tf.nn.softmax_cross_entropy_with_logits_v2(logits=logits, labels=Y, name=None)\n",
    "print(loss_tensor)\n",
    "loss = tf.reduce_mean(axis=0, input_tensor=loss_tensor)\n",
    "print(loss)"
   ]
  },
  {
   "cell_type": "code",
   "execution_count": 32,
   "metadata": {},
   "outputs": [
    {
     "name": "stdout",
     "output_type": "stream",
     "text": [
      "optimizer name: \"Adam_1\"\n",
      "op: \"NoOp\"\n",
      "input: \"^Adam_1/update_Variable_3/ApplyAdam\"\n",
      "input: \"^Adam_1/update_Variable_4/ApplyAdam\"\n",
      "input: \"^Adam_1/Assign\"\n",
      "input: \"^Adam_1/Assign_1\"\n",
      "\n"
     ]
    }
   ],
   "source": [
    "# Optimizer\n",
    "# __init__(\n",
    "#     learning_rate=0.001,\n",
    "#     beta1=0.9,\n",
    "#     beta2=0.999,\n",
    "#     epsilon=1e-08,\n",
    "#     use_locking=False,\n",
    "#     name='Adam'\n",
    "# )\n",
    "# minimize(\n",
    "#     loss,\n",
    "#     global_step=None,\n",
    "#     var_list=None,\n",
    "#     gate_gradients=GATE_OP,\n",
    "#     aggregation_method=None,\n",
    "#     colocate_gradients_with_ops=False,\n",
    "#     name=None,\n",
    "#     grad_loss=None\n",
    "# )\n",
    "optimizer = tf.train.AdamOptimizer(learning_rate=0.001).minimize(loss=loss)\n",
    "print('optimizer', optimizer)"
   ]
  },
  {
   "cell_type": "code",
   "execution_count": 33,
   "metadata": {},
   "outputs": [],
   "source": [
    "# # Accuracy\n",
    "# correct_pred = tf.equal(tf.argmax(logits, 1), tf.argmax(labels_, 1))\n",
    "# accuracy = tf.reduce_mean(tf.cast(correct_pred, tf.float32), name='accuracy')\n",
    "# print('correct_pred, accuracy', correct_pred, accuracy)\n",
    "\n",
    "# # Confusion matrix\n",
    "# confusion_matrix = tf.confusion_matrix(predictions=tf.argmax(logits, 1),\n",
    "#                                        labels=tf.argmax(labels_, 1))\n",
    "# print('confusion_matrix', confusion_matrix)"
   ]
  },
  {
   "cell_type": "code",
   "execution_count": 34,
   "metadata": {},
   "outputs": [],
   "source": [
    "# Minibatching techniques for online learning and offline learning of big dataset\n",
    "# for X, Y in get_batches(X=X_train_norm, batch_size=N, y=Y_train_onehot):\n",
    "#     print(X.shape, X.dtype, Y.shape, Y.dtype)"
   ]
  },
  {
   "cell_type": "code",
   "execution_count": 35,
   "metadata": {
    "scrolled": true
   },
   "outputs": [
    {
     "name": "stdout",
     "output_type": "stream",
     "text": [
      "epoch: 0 training loss: 551.70593 validation loss: 520.4429\n",
      "epoch: 1 training loss: 521.85095 validation loss: 492.37323\n",
      "epoch: 2 training loss: 492.92288 validation loss: 465.3807\n",
      "epoch: 3 training loss: 464.92856 validation loss: 439.5728\n",
      "epoch: 4 training loss: 438.09204 validation loss: 414.91467\n",
      "epoch: 5 training loss: 412.34625 validation loss: 391.4813\n",
      "epoch: 6 training loss: 387.78067 validation loss: 369.21475\n",
      "epoch: 7 training loss: 364.44543 validation loss: 348.13824\n",
      "epoch: 8 training loss: 342.55096 validation loss: 328.67422\n",
      "epoch: 9 training loss: 322.5265 validation loss: 311.41885\n",
      "epoch: 10 training loss: 304.78766 validation loss: 296.49655\n",
      "epoch: 11 training loss: 289.5243 validation loss: 283.7146\n",
      "epoch: 12 training loss: 276.18817 validation loss: 272.54263\n",
      "epoch: 13 training loss: 264.6064 validation loss: 262.91187\n",
      "epoch: 14 training loss: 254.6018 validation loss: 254.37656\n",
      "epoch: 15 training loss: 245.64352 validation loss: 246.5676\n",
      "epoch: 16 training loss: 237.46774 validation loss: 239.38132\n",
      "epoch: 17 training loss: 229.86797 validation loss: 232.70578\n",
      "epoch: 18 training loss: 222.79411 validation loss: 226.4974\n",
      "epoch: 19 training loss: 216.21123 validation loss: 220.72871\n",
      "epoch: 20 training loss: 210.09601 validation loss: 215.35324\n",
      "epoch: 21 training loss: 204.36197 validation loss: 210.29164\n",
      "epoch: 22 training loss: 198.97202 validation loss: 205.52054\n",
      "epoch: 23 training loss: 193.86475 validation loss: 201.03253\n",
      "epoch: 24 training loss: 189.03044 validation loss: 196.76172\n",
      "epoch: 25 training loss: 184.42764 validation loss: 192.66861\n",
      "epoch: 26 training loss: 180.05376 validation loss: 188.78079\n",
      "epoch: 27 training loss: 175.86569 validation loss: 185.0891\n",
      "epoch: 28 training loss: 171.83777 validation loss: 181.56367\n",
      "epoch: 29 training loss: 167.97928 validation loss: 178.187\n",
      "epoch: 30 training loss: 164.29425 validation loss: 174.95319\n",
      "epoch: 31 training loss: 160.75223 validation loss: 171.85962\n",
      "epoch: 32 training loss: 157.36151 validation loss: 168.91357\n",
      "epoch: 33 training loss: 154.12195 validation loss: 166.10193\n",
      "epoch: 34 training loss: 151.0217 validation loss: 163.39856\n",
      "epoch: 35 training loss: 148.02881 validation loss: 160.81084\n",
      "epoch: 36 training loss: 145.13446 validation loss: 158.37192\n",
      "epoch: 37 training loss: 142.33975 validation loss: 156.04532\n",
      "epoch: 38 training loss: 139.63083 validation loss: 153.79611\n",
      "epoch: 39 training loss: 137.00304 validation loss: 151.61792\n",
      "epoch: 40 training loss: 134.44133 validation loss: 149.50171\n",
      "epoch: 41 training loss: 131.93999 validation loss: 147.44151\n",
      "epoch: 42 training loss: 129.48926 validation loss: 145.43849\n",
      "epoch: 43 training loss: 127.08414 validation loss: 143.47089\n",
      "epoch: 44 training loss: 124.71798 validation loss: 141.53561\n",
      "epoch: 45 training loss: 122.40138 validation loss: 139.63751\n",
      "epoch: 46 training loss: 120.13019 validation loss: 137.76836\n",
      "epoch: 47 training loss: 117.912224 validation loss: 135.93387\n",
      "epoch: 48 training loss: 115.74098 validation loss: 134.13704\n",
      "epoch: 49 training loss: 113.62895 validation loss: 132.37071\n",
      "epoch: 50 training loss: 111.58035 validation loss: 130.63469\n",
      "epoch: 51 training loss: 109.589836 validation loss: 128.92755\n",
      "epoch: 52 training loss: 107.64351 validation loss: 127.248764\n",
      "epoch: 53 training loss: 105.72572 validation loss: 125.60188\n",
      "epoch: 54 training loss: 103.85266 validation loss: 123.986885\n",
      "epoch: 55 training loss: 102.02289 validation loss: 122.39758\n",
      "epoch: 56 training loss: 100.23334 validation loss: 120.842606\n",
      "epoch: 57 training loss: 98.48397 validation loss: 119.3205\n",
      "epoch: 58 training loss: 96.77908 validation loss: 117.83836\n",
      "epoch: 59 training loss: 95.1156 validation loss: 116.41693\n",
      "epoch: 60 training loss: 93.494316 validation loss: 115.03088\n",
      "epoch: 61 training loss: 91.908394 validation loss: 113.670395\n",
      "epoch: 62 training loss: 90.350555 validation loss: 112.34474\n",
      "epoch: 63 training loss: 88.8184 validation loss: 111.049706\n",
      "epoch: 64 training loss: 87.31096 validation loss: 109.78486\n",
      "epoch: 65 training loss: 85.84204 validation loss: 108.54027\n",
      "epoch: 66 training loss: 84.41585 validation loss: 107.31972\n",
      "epoch: 67 training loss: 83.01956 validation loss: 106.11926\n",
      "epoch: 68 training loss: 81.6485 validation loss: 104.93345\n",
      "epoch: 69 training loss: 80.29619 validation loss: 103.77107\n",
      "epoch: 70 training loss: 78.968506 validation loss: 102.62219\n",
      "epoch: 71 training loss: 77.667564 validation loss: 101.49589\n",
      "epoch: 72 training loss: 76.388306 validation loss: 100.386475\n",
      "epoch: 73 training loss: 75.127426 validation loss: 99.29426\n",
      "epoch: 74 training loss: 73.881546 validation loss: 98.21794\n",
      "epoch: 75 training loss: 72.650986 validation loss: 97.15261\n",
      "epoch: 76 training loss: 71.44274 validation loss: 96.10235\n",
      "epoch: 77 training loss: 70.26338 validation loss: 95.06141\n",
      "epoch: 78 training loss: 69.10364 validation loss: 94.03492\n",
      "epoch: 79 training loss: 67.96886 validation loss: 93.0388\n",
      "epoch: 80 training loss: 66.856346 validation loss: 92.06424\n",
      "epoch: 81 training loss: 65.77173 validation loss: 91.10375\n",
      "epoch: 82 training loss: 64.70093 validation loss: 90.16031\n",
      "epoch: 83 training loss: 63.646347 validation loss: 89.230385\n",
      "epoch: 84 training loss: 62.6111 validation loss: 88.30544\n",
      "epoch: 85 training loss: 61.595287 validation loss: 87.390076\n",
      "epoch: 86 training loss: 60.598343 validation loss: 86.48855\n",
      "epoch: 87 training loss: 59.618507 validation loss: 85.60114\n",
      "epoch: 88 training loss: 58.659767 validation loss: 84.738266\n",
      "epoch: 89 training loss: 57.715263 validation loss: 83.898476\n",
      "epoch: 90 training loss: 56.785454 validation loss: 83.07794\n",
      "epoch: 91 training loss: 55.87384 validation loss: 82.27665\n",
      "epoch: 92 training loss: 54.977913 validation loss: 81.49007\n",
      "epoch: 93 training loss: 54.097748 validation loss: 80.712585\n",
      "epoch: 94 training loss: 53.22972 validation loss: 79.94211\n",
      "epoch: 95 training loss: 52.376686 validation loss: 79.181915\n",
      "epoch: 96 training loss: 51.538795 validation loss: 78.43359\n",
      "epoch: 97 training loss: 50.712585 validation loss: 77.7064\n",
      "epoch: 98 training loss: 49.897926 validation loss: 76.98274\n",
      "epoch: 99 training loss: 49.0956 validation loss: 76.26558\n"
     ]
    }
   ],
   "source": [
    "# Plotting the learning/loss curve\n",
    "train_loss, valid_loss = [], []\n",
    "\n",
    "# Save the training result or trained and validated model params\n",
    "saver = tf.train.Saver()\n",
    "\n",
    "with tf.Session() as sess:\n",
    "    sess.run(fetches=tf.global_variables_initializer())\n",
    "   \n",
    "    # Loop over epochs\n",
    "    epochs=100\n",
    "    for epoch in range(0, epochs, 1): # start=0, stop=epochs, step=1\n",
    "        \n",
    "        # Training\n",
    "        loss_batch = []\n",
    "        for Xarr, Yarr in get_batches(X=Xtrain, batch_size=N, y=Ytrain):\n",
    "\n",
    "            # feeding the input array into TF framework and fetche the output\n",
    "            feed_dict = {X:Xarr, Y:Yarr}\n",
    "            lossarr, _ = sess.run(feed_dict=feed_dict, fetches=[loss, optimizer])\n",
    "            loss_batch.append(np.mean(lossarr))\n",
    "        \n",
    "        # Averaging the loss of the batch/minibatch\n",
    "        train_loss.append(np.mean(loss_batch))\n",
    "        \n",
    "        # validation\n",
    "        feed_dict = {X:Xvalid, Y:Yvalid}\n",
    "        lossarr = sess.run(feed_dict=feed_dict, fetches=[loss])\n",
    "        valid_loss.append(np.mean(lossarr))\n",
    "\n",
    "        # Printing out the training and validating loss\n",
    "        print('epoch:', epoch, 'training loss:', train_loss[epoch], 'validation loss:', valid_loss[epoch])\n",
    "            \n",
    "    saver.save(save_path='checkpoints/model.ckpt', sess=sess)"
   ]
  },
  {
   "cell_type": "code",
   "execution_count": 36,
   "metadata": {},
   "outputs": [
    {
     "data": {
      "image/png": "[encoded data removed]",
      "text/plain": [
       "<Figure size 432x288 with 1 Axes>"
      ]
     },
     "metadata": {},
     "output_type": "display_data"
    }
   ],
   "source": [
    "import matplotlib.pyplot as mplot\n",
    "# % %matplotlib inline\n",
    "# this is keeping the mpl inline or outline\n",
    "# inline would inside this block and outline/out of block would be out of this block.\n",
    "# %matplotlib inline\n",
    "# %matplotlib\n",
    "%matplotlib inline\n",
    "\n",
    "mplot.plot(train_loss, label='har train_loss')\n",
    "mplot.plot(valid_loss, label='har valid_loss')\n",
    "mplot.legend()\n",
    "mplot.show()"
   ]
  },
  {
   "cell_type": "code",
   "execution_count": 37,
   "metadata": {},
   "outputs": [],
   "source": [
    "# Testing and playing around with checkpoints and trained model saved or saved trained model\n",
    "# loaded_ckpt = tf.train.load_checkpoint(ckpt_dir_or_file='checkpoints/cnn-har.ckpt')\n",
    "# loaded_ckpt.debug_string, \n",
    "# loaded_ckpt.get_variable_to_dtype_map()\n",
    "# loaded_ckpt.get_variable_to_shape_map()"
   ]
  },
  {
   "cell_type": "code",
   "execution_count": 38,
   "metadata": {},
   "outputs": [
    {
     "name": "stdout",
     "output_type": "stream",
     "text": [
      "INFO:tensorflow:Restoring parameters from checkpoints/model.ckpt\n",
      "test_loss: 102.30233\n"
     ]
    }
   ],
   "source": [
    "with tf.Session() as sess:\n",
    "    # Restore the validated model\n",
    "#     save_path = tf.train.latest_checkpoint(checkpoint_dir='checkpoints')\n",
    "    save_path = tf.train.latest_checkpoint(checkpoint_dir='checkpoints/')\n",
    "    saver.restore(save_path=save_path, sess=sess)\n",
    "    \n",
    "    loss_batch = []\n",
    "    for Xarr, Yarr in get_batches(X=Xtest, batch_size=N, y=Ytest):\n",
    "#         print(Xarr.shape, Yarr.shape)\n",
    "        feed_dict = {X:Xarr, Y:Yarr}\n",
    "        lossarr = sess.run(feed_dict=feed_dict, fetches=[loss])\n",
    "        loss_batch.append(np.mean(lossarr))\n",
    "\n",
    "    # Print info for every iter/epoch\n",
    "    print('test_loss:', np.mean(loss_batch))\n",
    "#     print(\"Test loss: {:6f}\".format(np.mean(test_loss))"
   ]
  },
  {
   "cell_type": "code",
   "execution_count": null,
   "metadata": {},
   "outputs": [],
   "source": []
  }
 ],
 "metadata": {
  "kernelspec": {
   "display_name": "Python 3",
   "language": "python",
   "name": "python3"
  },
  "language_info": {
   "codemirror_mode": {
    "name": "ipython",
    "version": 3
   },
   "file_extension": ".py",
   "mimetype": "text/x-python",
   "name": "python",
   "nbconvert_exporter": "python",
   "pygments_lexer": "ipython3",
   "version": "3.6.5"
  },
  "widgets": {
   "state": {},
   "version": "1.1.2"
  }
 },
 "nbformat": 4,
 "nbformat_minor": 2
}
