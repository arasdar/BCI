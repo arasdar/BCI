{
 "cells": [
  {
   "cell_type": "code",
   "execution_count": 55,
   "metadata": {},
   "outputs": [
    {
     "name": "stdout",
     "output_type": "stream",
     "text": [
      "['body_acc_x', 'body_acc_y', 'body_acc_z', 'body_gyro_x', 'body_gyro_y', 'body_gyro_z', 'total_acc_x', 'total_acc_y', 'total_acc_z'] ['body_acc_x', 'body_acc_y', 'body_acc_z', 'body_gyro_x', 'body_gyro_y', 'body_gyro_z', 'total_acc_x', 'total_acc_y', 'total_acc_z']\n",
      "6 6\n",
      "0.0 0.16675734494015235 0.1459466811751904 0.13411316648531013 0.1749183895538629 0.1868879216539717 0.1913764961915125 0.0\n",
      "(7352,) (2947,)\n",
      "(7352, 6) (2947, 6)\n",
      "(5146, 128, 9) (2206, 128, 9) (5146, 6) (2206, 6)\n"
     ]
    }
   ],
   "source": [
    "# Input data\n",
    "import numpy as np\n",
    "from utilities import *\n",
    "\n",
    "# test and train read\n",
    "Xtrain, Ytrain, list_ch_train = read_data(data_path=\"../../../datasets/har/har-data/\", split=\"train\")\n",
    "Xtest, Ytest, list_ch_test = read_data(data_path=\"../../../datasets/har/har-data/\", split=\"test\")\n",
    "\n",
    "print(list_ch_test, list_ch_train)\n",
    "assert list_ch_train == list_ch_test, \"Mistmatch in channels!\"\n",
    "assert Ytrain.max(axis=0) == Ytest.max(axis=0)\n",
    "print(Ytrain.max(axis=0), Ytest.max(axis=0))\n",
    "\n",
    "print(np.mean(Ytrain==0), np.mean(Ytrain==1), np.mean(Ytrain==2), np.mean(Ytrain==3), np.mean(Ytrain==4), \n",
    "      np.mean(Ytrain==5), np.mean(Ytrain==6), np.mean(Ytrain==7))\n",
    "\n",
    "# Normalizing/standardizing the input data features\n",
    "Xtrain, Xtest = standardize(test=Xtest, train=Xtrain)\n",
    "\n",
    "# Onehot encoding of the output labels\n",
    "print(Ytrain.shape, Ytest.shape)\n",
    "Ytrain = one_hot(labels=Ytrain.reshape(-1), n_class=6) \n",
    "Ytest = one_hot(labels=Ytest.reshape(-1), n_class=6)\n",
    "print(Ytrain.shape, Ytest.shape)\n",
    "\n",
    "# Train and valid split\n",
    "from sklearn.model_selection import train_test_split\n",
    "\n",
    "# 30% of the training data/ entire training data is assigned to validation.\n",
    "Xtrain, Xvalid, Ytrain, Yvalid = train_test_split(Xtrain, Ytrain, test_size=0.30)\n",
    "print(Xtrain.shape, Xvalid.shape, Ytrain.shape, Yvalid.shape)"
   ]
  },
  {
   "cell_type": "code",
   "execution_count": 56,
   "metadata": {},
   "outputs": [
    {
     "name": "stdout",
     "output_type": "stream",
     "text": [
      "TensorFlow Version: 1.7.0\n",
      "Default GPU Device: /device:GPU:0\n"
     ]
    }
   ],
   "source": [
    "# GPUs or CPU\n",
    "import tensorflow as tf\n",
    "\n",
    "# Check TensorFlow Version\n",
    "print('TensorFlow Version: {}'.format(tf.__version__))\n",
    "\n",
    "# Check for a GPU\n",
    "print('Default GPU Device: {}'.format(tf.test.gpu_device_name()))"
   ]
  },
  {
   "cell_type": "code",
   "execution_count": 57,
   "metadata": {},
   "outputs": [
    {
     "name": "stdout",
     "output_type": "stream",
     "text": [
      "(2206, 128, 9) <dtype: 'float32'>\n",
      "(2206, 6) <dtype: 'float32'>\n"
     ]
    }
   ],
   "source": [
    "# Input data which is divided into train, valid, and testing.\n",
    "N, W, Cin = Xvalid.shape[0], Xtrain.shape[1], Xtrain.shape[2]\n",
    "X = tf.placeholder(dtype=tf.float32, name=None, shape=[N, W, Cin])\n",
    "print(X.shape, X.dtype)\n",
    "\n",
    "# Output data/labels\n",
    "# assert Ytrain.max(axis=0)==Ytest.max(axis=0)\n",
    "# Cout = Ytrain.max(axis=0)\n",
    "# n_class=6\n",
    "Cout = 6\n",
    "Y = tf.placeholder(dtype=tf.float32, name=None, shape=[N, Cout])\n",
    "print(Y.shape, Y.dtype)"
   ]
  },
  {
   "cell_type": "code",
   "execution_count": 58,
   "metadata": {},
   "outputs": [
    {
     "name": "stdout",
     "output_type": "stream",
     "text": [
      "(2206, 128, 9) <dtype: 'float32'>\n",
      "(64, 9, 18) <dtype: 'float32_ref'>\n",
      "(2206, 64, 18) <dtype: 'float32'>\n"
     ]
    }
   ],
   "source": [
    "# One convolution layer\n",
    "print(X.shape, X.dtype)\n",
    "Wwidth, Wchannels, Wnumber = X.shape[1].value//2, X.shape[2].value, X.shape[2].value*2\n",
    "shape = [Wwidth, Wchannels, Wnumber]\n",
    "initial_value = tf.random_normal(dtype=X.dtype, mean=0.0, name=None, shape=shape, stddev=1.0)\n",
    "Wconv = tf.Variable(dtype=X.dtype, initial_value=initial_value, name=None, trainable=True)\n",
    "print(Wconv.shape, Wconv.dtype)\n",
    "Xconv = tf.nn.conv1d(data_format='NWC', filters=Wconv, name=None, padding='SAME', stride=2, use_cudnn_on_gpu=True, \n",
    "                     value=X)\n",
    "Xconv = tf.maximum(name=None, x=(-0.1*Xconv), y=Xconv)\n",
    "print(Xconv.shape, Xconv.dtype)"
   ]
  },
  {
   "cell_type": "code",
   "execution_count": 59,
   "metadata": {},
   "outputs": [
    {
     "name": "stdout",
     "output_type": "stream",
     "text": [
      "(2206, 1152) <dtype: 'float32'>\n",
      "(1152, 6) <dtype: 'float32_ref'>\n",
      "(2206, 6) <dtype: 'float32'>\n",
      "(2206, 6) <dtype: 'float32'>\n"
     ]
    }
   ],
   "source": [
    "# Multiplication layer\n",
    "# shape = [-1, Xconv.shape[1].value*Xconv.shape[2].value] # N is None which is a value or creating an extra index\n",
    "shape = [Xconv.shape[0].value, Xconv.shape[1].value*Xconv.shape[2].value]\n",
    "Xconv_reshaped = tf.reshape(name=None, shape=shape, tensor=Xconv)\n",
    "print(Xconv_reshaped.shape, Xconv_reshaped.dtype)\n",
    "Wchannels, Wnumber = Xconv_reshaped.shape[1].value, Y.shape[1].value\n",
    "shape = [Wchannels, Wnumber]\n",
    "initial_value = tf.random_normal(dtype=Xconv_reshaped.dtype, mean=0.0, name=None, shape=shape, stddev=1.0)\n",
    "W = tf.Variable(dtype=Xconv_reshaped.dtype, initial_value=initial_value, name=None, trainable=True)\n",
    "print(W.shape, W.dtype)\n",
    "logits = tf.matmul(a=Xconv_reshaped, b=W, name=None)\n",
    "print(logits.shape, logits.dtype)\n",
    "print(Y.shape, Y.dtype)"
   ]
  },
  {
   "cell_type": "code",
   "execution_count": 60,
   "metadata": {},
   "outputs": [
    {
     "name": "stdout",
     "output_type": "stream",
     "text": [
      "(2206,) <dtype: 'float32'>\n",
      "() <dtype: 'float32'>\n"
     ]
    }
   ],
   "source": [
    "# Backward pass: error backpropagation\n",
    "# Cost function\n",
    "loss_tensor = tf.nn.softmax_cross_entropy_with_logits_v2(logits=logits, labels=Y, name=None)\n",
    "print(loss_tensor.shape, loss_tensor.dtype)\n",
    "loss = tf.reduce_mean(axis=0, input_tensor=loss_tensor)\n",
    "print(loss.shape, loss.dtype)"
   ]
  },
  {
   "cell_type": "code",
   "execution_count": 61,
   "metadata": {},
   "outputs": [
    {
     "name": "stdout",
     "output_type": "stream",
     "text": [
      "optimizer name: \"Adam_1\"\n",
      "op: \"NoOp\"\n",
      "input: \"^Adam_1/update_Variable_2/ApplyAdam\"\n",
      "input: \"^Adam_1/update_Variable_3/ApplyAdam\"\n",
      "input: \"^Adam_1/Assign\"\n",
      "input: \"^Adam_1/Assign_1\"\n",
      "\n"
     ]
    }
   ],
   "source": [
    "# Optimizer\n",
    "# __init__(\n",
    "#     learning_rate=0.001,\n",
    "#     beta1=0.9,\n",
    "#     beta2=0.999,\n",
    "#     epsilon=1e-08,\n",
    "#     use_locking=False,\n",
    "#     name='Adam'\n",
    "# )\n",
    "# minimize(\n",
    "#     loss,\n",
    "#     global_step=None,\n",
    "#     var_list=None,\n",
    "#     gate_gradients=GATE_OP,\n",
    "#     aggregation_method=None,\n",
    "#     colocate_gradients_with_ops=False,\n",
    "#     name=None,\n",
    "#     grad_loss=None\n",
    "# )\n",
    "optimizer = tf.train.AdamOptimizer().minimize(loss=loss)\n",
    "print('optimizer', optimizer)\n",
    "# adam = tf.train.AdamOptimizer\n",
    "# print(adam)\n",
    "# optimizer = adam.minimize(loss=loss)"
   ]
  },
  {
   "cell_type": "code",
   "execution_count": 62,
   "metadata": {},
   "outputs": [
    {
     "name": "stdout",
     "output_type": "stream",
     "text": [
      "(2206, 6) <dtype: 'float32'>\n",
      "(2206,) <dtype: 'int32'>\n",
      "(2206, 6) <dtype: 'float32'>\n",
      "(2206,) <dtype: 'int32'>\n",
      "(2206, 6) <dtype: 'float32'>\n",
      "(2206,) <dtype: 'int32'>\n"
     ]
    }
   ],
   "source": [
    "print(logits.shape, logits.dtype)\n",
    "# Accuracy\n",
    "# tf.argmax(\n",
    "#     input,\n",
    "#     axis=None,\n",
    "#     name=None,\n",
    "#     dimension=None,\n",
    "#     output_type=tf.int64\n",
    "# )\n",
    "Ypred = tf.argmax(axis=1, name=None, input=logits, output_type=tf.int32)\n",
    "# # tf.max is finding the max value among all the arguments and indices\n",
    "# # tf.argmax is finding the arg/index with the max value\n",
    "# Ylabel = tf.argmax()\n",
    "print(Ypred.shape, Ypred.dtype)\n",
    "\n",
    "# tf.nn.softmax(\n",
    "#     logits,\n",
    "#     axis=None,\n",
    "#     name=None,\n",
    "#     dim=None\n",
    "# )\n",
    "# softmax = tf.exp(logits) / tf.reduce_sum(tf.exp(logits), axis)\n",
    "prob = tf.nn.softmax(axis=1, logits=logits, name=None)\n",
    "print(prob.shape, prob.dtype)\n",
    "Ypred2 = tf.argmax(axis=1, input=prob, name=None, output_type=tf.int32) \n",
    "print(Ypred2.shape, Ypred2.dtype)\n",
    "\n",
    "print(Y.shape, Y.dtype)\n",
    "Yref = tf.argmax(axis=1, input=Y, name=None, output_type=tf.int32)\n",
    "print(Yref.shape, Yref.dtype)"
   ]
  },
  {
   "cell_type": "code",
   "execution_count": 63,
   "metadata": {},
   "outputs": [
    {
     "name": "stdout",
     "output_type": "stream",
     "text": [
      "(2206,) <dtype: 'bool'>\n",
      "(2206,) <dtype: 'float16'>\n",
      "() <dtype: 'float16'>\n"
     ]
    }
   ],
   "source": [
    "acc_tensor = tf.equal(name=None, x=Ypred, y=Yref)\n",
    "print(acc_tensor.shape, acc_tensor.dtype)\n",
    "# cast bool to int datatype for equal\n",
    "acc_tensor = tf.cast(dtype=tf.float16, name=None, x=acc_tensor)\n",
    "print(acc_tensor.shape, acc_tensor.dtype)\n",
    "acc = tf.reduce_mean(axis=0, input_tensor=acc_tensor)\n",
    "print(acc.shape, acc.dtype)"
   ]
  },
  {
   "cell_type": "code",
   "execution_count": 64,
   "metadata": {},
   "outputs": [
    {
     "name": "stdout",
     "output_type": "stream",
     "text": [
      "(2206,) <dtype: 'bool'>\n",
      "(2206,) <dtype: 'float16'>\n",
      "() <dtype: 'float16'>\n"
     ]
    }
   ],
   "source": [
    "acc_tensor = tf.equal(name=None, x=Ypred2, y=Yref)\n",
    "print(acc_tensor.shape, acc_tensor.dtype)\n",
    "# cast bool to int datatype for equal\n",
    "acc_tensor = tf.cast(dtype=tf.float16, name=None, x=acc_tensor)\n",
    "print(acc_tensor.shape, acc_tensor.dtype)\n",
    "acc2 = tf.reduce_mean(axis=0, input_tensor=acc_tensor)\n",
    "print(acc2.shape, acc2.dtype)"
   ]
  },
  {
   "cell_type": "code",
   "execution_count": 65,
   "metadata": {},
   "outputs": [],
   "source": [
    "# correct_pred = tf.equal(tf.argmax(logits, 1), tf.argmax(labels_, 1))\n",
    "# accuracy = tf.reduce_mean(tf.cast(correct_pred, tf.float32), name='accuracy')\n",
    "# print('correct_pred, accuracy', correct_pred, accuracy)\n",
    "\n",
    "# # Confusion matrix\n",
    "# confusion_matrix = tf.confusion_matrix(predictions=tf.argmax(logits, 1),\n",
    "#                                        labels=tf.argmax(labels_, 1))\n",
    "# print('confusion_matrix', confusion_matrix)"
   ]
  },
  {
   "cell_type": "code",
   "execution_count": 66,
   "metadata": {},
   "outputs": [],
   "source": [
    "# Minibatching techniques for online learning and offline learning of big dataset\n",
    "# for X, Y in get_batches(X=X_train_norm, batch_size=N, y=Y_train_onehot):\n",
    "#     print(X.shape, X.dtype, Y.shape, Y.dtype)"
   ]
  },
  {
   "cell_type": "code",
   "execution_count": 49,
   "metadata": {
    "scrolled": true
   },
   "outputs": [
    {
     "name": "stdout",
     "output_type": "stream",
     "text": [
      "epoch: 0 training loss: 847.8561 validation loss: 857.9289 training accuracy: 0.04578 validation accuracy: 0.04352\n",
      "epoch: 1 training loss: 804.94214 validation loss: 815.03656 training accuracy: 0.0553 validation accuracy: 0.04715\n",
      "epoch: 2 training loss: 763.3336 validation loss: 773.2393 training accuracy: 0.0646 validation accuracy: 0.0562\n",
      "epoch: 3 training loss: 723.04346 validation loss: 732.77606 training accuracy: 0.07544 validation accuracy: 0.068\n",
      "epoch: 4 training loss: 684.34985 validation loss: 693.8594 training accuracy: 0.08496 validation accuracy: 0.0807\n",
      "epoch: 5 training loss: 647.3578 validation loss: 656.5323 training accuracy: 0.1 validation accuracy: 0.09155\n",
      "epoch: 6 training loss: 611.96155 validation loss: 620.6414 training accuracy: 0.1113 validation accuracy: 0.0988\n",
      "epoch: 7 training loss: 577.9887 validation loss: 585.9383 training accuracy: 0.11896 validation accuracy: 0.10876\n",
      "epoch: 8 training loss: 545.193 validation loss: 552.41815 training accuracy: 0.1278 validation accuracy: 0.1165\n",
      "epoch: 9 training loss: 513.5715 validation loss: 520.0831 training accuracy: 0.137 validation accuracy: 0.1265\n",
      "epoch: 10 training loss: 483.1952 validation loss: 488.90958 training accuracy: 0.1426 validation accuracy: 0.1355\n",
      "epoch: 11 training loss: 453.9746 validation loss: 458.9386 training accuracy: 0.1499 validation accuracy: 0.1437\n",
      "epoch: 12 training loss: 426.29822 validation loss: 430.8426 training accuracy: 0.163 validation accuracy: 0.1659\n",
      "epoch: 13 training loss: 400.7544 validation loss: 405.86078 training accuracy: 0.1882 validation accuracy: 0.2013\n",
      "epoch: 14 training loss: 378.03955 validation loss: 384.0259 training accuracy: 0.2141 validation accuracy: 0.2294\n",
      "epoch: 15 training loss: 357.90732 validation loss: 364.56268 training accuracy: 0.2383 validation accuracy: 0.2452\n",
      "epoch: 16 training loss: 340.03717 validation loss: 347.0106 training accuracy: 0.2524 validation accuracy: 0.262\n",
      "epoch: 17 training loss: 324.1812 validation loss: 332.71692 training accuracy: 0.2705 validation accuracy: 0.2825\n",
      "epoch: 18 training loss: 310.81226 validation loss: 320.90674 training accuracy: 0.285 validation accuracy: 0.2979\n",
      "epoch: 19 training loss: 299.34625 validation loss: 310.56152 training accuracy: 0.2983 validation accuracy: 0.3054\n",
      "epoch: 20 training loss: 289.17072 validation loss: 301.14844 training accuracy: 0.3052 validation accuracy: 0.3086\n",
      "epoch: 21 training loss: 279.8065 validation loss: 292.40533 training accuracy: 0.313 validation accuracy: 0.3118\n",
      "epoch: 22 training loss: 271.06012 validation loss: 284.23746 training accuracy: 0.3167 validation accuracy: 0.3174\n",
      "epoch: 23 training loss: 262.91852 validation loss: 276.54886 training accuracy: 0.3213 validation accuracy: 0.3232\n",
      "epoch: 24 training loss: 255.18538 validation loss: 269.31586 training accuracy: 0.3254 validation accuracy: 0.3296\n",
      "epoch: 25 training loss: 247.82721 validation loss: 262.43146 training accuracy: 0.331 validation accuracy: 0.335\n",
      "epoch: 26 training loss: 240.8045 validation loss: 255.86488 training accuracy: 0.3362 validation accuracy: 0.339\n",
      "epoch: 27 training loss: 234.06993 validation loss: 249.53949 training accuracy: 0.3398 validation accuracy: 0.3445\n",
      "epoch: 28 training loss: 227.68275 validation loss: 243.46432 training accuracy: 0.3474 validation accuracy: 0.3513\n",
      "epoch: 29 training loss: 221.64117 validation loss: 237.70013 training accuracy: 0.355 validation accuracy: 0.3613\n",
      "epoch: 30 training loss: 215.91132 validation loss: 232.17455 training accuracy: 0.3645 validation accuracy: 0.3682\n",
      "epoch: 31 training loss: 210.45975 validation loss: 226.9092 training accuracy: 0.3733 validation accuracy: 0.3757\n",
      "epoch: 32 training loss: 205.22543 validation loss: 221.8667 training accuracy: 0.3794 validation accuracy: 0.3809\n",
      "epoch: 33 training loss: 200.19101 validation loss: 217.0243 training accuracy: 0.39 validation accuracy: 0.389\n",
      "epoch: 34 training loss: 195.36707 validation loss: 212.37729 training accuracy: 0.398 validation accuracy: 0.3967\n",
      "epoch: 35 training loss: 190.71542 validation loss: 207.92023 training accuracy: 0.402 validation accuracy: 0.403\n",
      "epoch: 36 training loss: 186.19974 validation loss: 203.63995 training accuracy: 0.4084 validation accuracy: 0.408\n",
      "epoch: 37 training loss: 181.82626 validation loss: 199.53325 training accuracy: 0.4155 validation accuracy: 0.417\n",
      "epoch: 38 training loss: 177.60178 validation loss: 195.54079 training accuracy: 0.4238 validation accuracy: 0.4216\n",
      "epoch: 39 training loss: 173.50652 validation loss: 191.71065 training accuracy: 0.4312 validation accuracy: 0.4255\n",
      "epoch: 40 training loss: 169.53574 validation loss: 188.02371 training accuracy: 0.438 validation accuracy: 0.4312\n",
      "epoch: 41 training loss: 165.67078 validation loss: 184.4522 training accuracy: 0.4434 validation accuracy: 0.437\n",
      "epoch: 42 training loss: 161.9075 validation loss: 180.97362 training accuracy: 0.4487 validation accuracy: 0.4424\n",
      "epoch: 43 training loss: 158.24387 validation loss: 177.55687 training accuracy: 0.456 validation accuracy: 0.446\n",
      "epoch: 44 training loss: 154.67682 validation loss: 174.224 training accuracy: 0.4624 validation accuracy: 0.451\n",
      "epoch: 45 training loss: 151.21164 validation loss: 170.97864 training accuracy: 0.4688 validation accuracy: 0.4546\n",
      "epoch: 46 training loss: 147.83405 validation loss: 167.82187 training accuracy: 0.4756 validation accuracy: 0.4587\n",
      "epoch: 47 training loss: 144.56589 validation loss: 164.7467 training accuracy: 0.482 validation accuracy: 0.4636\n",
      "epoch: 48 training loss: 141.39038 validation loss: 161.76361 training accuracy: 0.4897 validation accuracy: 0.4705\n",
      "epoch: 49 training loss: 138.30505 validation loss: 158.88747 training accuracy: 0.498 validation accuracy: 0.482\n",
      "epoch: 50 training loss: 135.3208 validation loss: 156.1334 training accuracy: 0.505 validation accuracy: 0.4922\n",
      "epoch: 51 training loss: 132.43079 validation loss: 153.50008 training accuracy: 0.5146 validation accuracy: 0.504\n",
      "epoch: 52 training loss: 129.65805 validation loss: 150.99747 training accuracy: 0.5234 validation accuracy: 0.5166\n",
      "epoch: 53 training loss: 126.991 validation loss: 148.61325 training accuracy: 0.5303 validation accuracy: 0.5293\n",
      "epoch: 54 training loss: 124.42186 validation loss: 146.33675 training accuracy: 0.541 validation accuracy: 0.538\n",
      "epoch: 55 training loss: 121.957535 validation loss: 144.13551 training accuracy: 0.5503 validation accuracy: 0.543\n",
      "epoch: 56 training loss: 119.57695 validation loss: 141.9942 training accuracy: 0.5576 validation accuracy: 0.5483\n",
      "epoch: 57 training loss: 117.29271 validation loss: 139.92505 training accuracy: 0.5684 validation accuracy: 0.5537\n",
      "epoch: 58 training loss: 115.08708 validation loss: 137.92467 training accuracy: 0.574 validation accuracy: 0.557\n",
      "epoch: 59 training loss: 112.95147 validation loss: 135.97809 training accuracy: 0.5815 validation accuracy: 0.5605\n",
      "epoch: 60 training loss: 110.88359 validation loss: 134.09267 training accuracy: 0.585 validation accuracy: 0.5664\n",
      "epoch: 61 training loss: 108.87201 validation loss: 132.26118 training accuracy: 0.592 validation accuracy: 0.5737\n",
      "epoch: 62 training loss: 106.92078 validation loss: 130.48793 training accuracy: 0.5986 validation accuracy: 0.579\n",
      "epoch: 63 training loss: 105.02841 validation loss: 128.76385 training accuracy: 0.6064 validation accuracy: 0.583\n",
      "epoch: 64 training loss: 103.18713 validation loss: 127.0853 training accuracy: 0.6123 validation accuracy: 0.5854\n",
      "epoch: 65 training loss: 101.39374 validation loss: 125.4482 training accuracy: 0.617 validation accuracy: 0.5874\n",
      "epoch: 66 training loss: 99.64868 validation loss: 123.8565 training accuracy: 0.6206 validation accuracy: 0.592\n",
      "epoch: 67 training loss: 97.95615 validation loss: 122.31361 training accuracy: 0.626 validation accuracy: 0.5967\n",
      "epoch: 68 training loss: 96.30658 validation loss: 120.83044 training accuracy: 0.631 validation accuracy: 0.6\n",
      "epoch: 69 training loss: 94.694145 validation loss: 119.391685 training accuracy: 0.6353 validation accuracy: 0.6016\n",
      "epoch: 70 training loss: 93.12341 validation loss: 117.98171 training accuracy: 0.6387 validation accuracy: 0.603\n",
      "epoch: 71 training loss: 91.6019 validation loss: 116.59417 training accuracy: 0.6445 validation accuracy: 0.606\n",
      "epoch: 72 training loss: 90.120476 validation loss: 115.23531 training accuracy: 0.6494 validation accuracy: 0.6094\n",
      "epoch: 73 training loss: 88.67254 validation loss: 113.906425 training accuracy: 0.6514 validation accuracy: 0.612\n"
     ]
    },
    {
     "name": "stdout",
     "output_type": "stream",
     "text": [
      "epoch: 74 training loss: 87.249985 validation loss: 112.60657 training accuracy: 0.6553 validation accuracy: 0.6157\n",
      "epoch: 75 training loss: 85.85715 validation loss: 111.33482 training accuracy: 0.66 validation accuracy: 0.6196\n",
      "epoch: 76 training loss: 84.486565 validation loss: 110.07998 training accuracy: 0.662 validation accuracy: 0.6226\n",
      "epoch: 77 training loss: 83.14101 validation loss: 108.842094 training accuracy: 0.666 validation accuracy: 0.6255\n",
      "epoch: 78 training loss: 81.81805 validation loss: 107.62314 training accuracy: 0.6694 validation accuracy: 0.629\n",
      "epoch: 79 training loss: 80.51817 validation loss: 106.42014 training accuracy: 0.671 validation accuracy: 0.63\n",
      "epoch: 80 training loss: 79.243546 validation loss: 105.23201 training accuracy: 0.675 validation accuracy: 0.631\n",
      "epoch: 81 training loss: 77.992874 validation loss: 104.06494 training accuracy: 0.6777 validation accuracy: 0.634\n",
      "epoch: 82 training loss: 76.77136 validation loss: 102.92587 training accuracy: 0.6807 validation accuracy: 0.638\n",
      "epoch: 83 training loss: 75.57615 validation loss: 101.803314 training accuracy: 0.6836 validation accuracy: 0.6387\n",
      "epoch: 84 training loss: 74.3995 validation loss: 100.69996 training accuracy: 0.6865 validation accuracy: 0.6426\n",
      "epoch: 85 training loss: 73.24361 validation loss: 99.624916 training accuracy: 0.6885 validation accuracy: 0.6455\n",
      "epoch: 86 training loss: 72.105064 validation loss: 98.56416 training accuracy: 0.691 validation accuracy: 0.646\n",
      "epoch: 87 training loss: 70.98134 validation loss: 97.51459 training accuracy: 0.6924 validation accuracy: 0.6494\n",
      "epoch: 88 training loss: 69.8679 validation loss: 96.480156 training accuracy: 0.695 validation accuracy: 0.653\n",
      "epoch: 89 training loss: 68.76735 validation loss: 95.458336 training accuracy: 0.6963 validation accuracy: 0.6543\n",
      "epoch: 90 training loss: 67.67953 validation loss: 94.45419 training accuracy: 0.699 validation accuracy: 0.656\n",
      "epoch: 91 training loss: 66.608505 validation loss: 93.4662 training accuracy: 0.701 validation accuracy: 0.6587\n",
      "epoch: 92 training loss: 65.5507 validation loss: 92.490295 training accuracy: 0.7036 validation accuracy: 0.6606\n",
      "epoch: 93 training loss: 64.50744 validation loss: 91.52514 training accuracy: 0.706 validation accuracy: 0.664\n",
      "epoch: 94 training loss: 63.48105 validation loss: 90.57485 training accuracy: 0.709 validation accuracy: 0.6665\n",
      "epoch: 95 training loss: 62.47471 validation loss: 89.63908 training accuracy: 0.712 validation accuracy: 0.668\n",
      "epoch: 96 training loss: 61.48456 validation loss: 88.7099 training accuracy: 0.714 validation accuracy: 0.6694\n",
      "epoch: 97 training loss: 60.515816 validation loss: 87.78658 training accuracy: 0.7183 validation accuracy: 0.67\n",
      "epoch: 98 training loss: 59.56987 validation loss: 86.8722 training accuracy: 0.7207 validation accuracy: 0.6704\n",
      "epoch: 99 training loss: 58.63824 validation loss: 85.9672 training accuracy: 0.722 validation accuracy: 0.673\n"
     ]
    }
   ],
   "source": [
    "# Plotting the learning/loss curve\n",
    "train_loss, valid_loss = [], []\n",
    "train_acc, valid_acc = [], []\n",
    "train_acc2, valid_acc2 = [], []\n",
    "\n",
    "# Save the training result or trained and validated model params\n",
    "saver = tf.train.Saver()\n",
    "\n",
    "with tf.Session() as sess:\n",
    "    sess.run(fetches=tf.global_variables_initializer())\n",
    "   \n",
    "    # Loop over epochs\n",
    "    epochs=100\n",
    "    for epoch in range(0, epochs, 1): # start=0, stop=epochs, step=1\n",
    "        \n",
    "        # Training\n",
    "        loss_batch = []\n",
    "        acc_batch, acc2_batch = [], []\n",
    "        for Xarr, Yarr in get_batches(X=Xtrain, batch_size=N, y=Ytrain):\n",
    "\n",
    "            # feeding the input array into TF framework and fetche the output\n",
    "            feed_dict = {X:Xarr, Y:Yarr}\n",
    "            lossarr, _, accarr, acc2arr = sess.run(feed_dict=feed_dict, fetches=[loss, optimizer, acc, acc2])\n",
    "            loss_batch.append(np.mean(lossarr))\n",
    "            acc_batch.append(np.mean(accarr))\n",
    "            acc2_batch.append(np.mean(acc2arr))\n",
    "        \n",
    "        # Averaging the loss of the batch/minibatch\n",
    "        train_loss.append(np.mean(loss_batch))\n",
    "        train_acc.append(np.mean(acc_batch))\n",
    "        train_acc2.append(np.mean(acc2_batch))\n",
    "        \n",
    "        # validation\n",
    "        feed_dict = {X:Xvalid, Y:Yvalid}\n",
    "        lossarr, accarr, acc2arr = sess.run(feed_dict=feed_dict, fetches=[loss, acc, acc2])\n",
    "        valid_loss.append(np.mean(lossarr))\n",
    "        valid_acc.append(np.mean(accarr))\n",
    "        valid_acc2.append(np.mean(acc2arr))\n",
    "\n",
    "        # Printing out the training and validating loss\n",
    "        print('epoch:', epoch, 'training loss:', train_loss[epoch], 'validation loss:', valid_loss[epoch], \n",
    "              'training accuracy:', train_acc[epoch], 'validation accuracy:', valid_acc[epoch])\n",
    "            \n",
    "    saver.save(save_path='checkpoints/model.ckpt', sess=sess)"
   ]
  },
  {
   "cell_type": "code",
   "execution_count": 50,
   "metadata": {},
   "outputs": [
    {
     "data": {
      "image/png": "[encoded data removed]",
      "text/plain": [
       "<Figure size 432x288 with 1 Axes>"
      ]
     },
     "metadata": {},
     "output_type": "display_data"
    }
   ],
   "source": [
    "import matplotlib.pyplot as mplot\n",
    "# % %matplotlib inline\n",
    "# this is keeping the mpl inline or outline\n",
    "# inline would inside this block and outline/out of block would be out of this block.\n",
    "# %matplotlib inline\n",
    "# %matplotlib\n",
    "%matplotlib inline\n",
    "\n",
    "mplot.plot(train_loss, label='har train_loss')\n",
    "mplot.plot(valid_loss, label='har valid_loss')\n",
    "mplot.legend()\n",
    "mplot.show()"
   ]
  },
  {
   "cell_type": "code",
   "execution_count": 51,
   "metadata": {},
   "outputs": [],
   "source": [
    "# Testing and playing around with checkpoints and trained model saved or saved trained model\n",
    "# loaded_ckpt = tf.train.load_checkpoint(ckpt_dir_or_file='checkpoints/cnn-har.ckpt')\n",
    "# loaded_ckpt.debug_string, \n",
    "# loaded_ckpt.get_variable_to_dtype_map()\n",
    "# loaded_ckpt.get_variable_to_shape_map()"
   ]
  },
  {
   "cell_type": "code",
   "execution_count": 54,
   "metadata": {},
   "outputs": [
    {
     "name": "stdout",
     "output_type": "stream",
     "text": [
      "INFO:tensorflow:Restoring parameters from checkpoints/model.ckpt\n",
      "test loss: 107.731285 test accuracy: 0.5835 0.5835\n"
     ]
    }
   ],
   "source": [
    "with tf.Session() as sess:\n",
    "    # Restore the validated model\n",
    "    save_path = tf.train.latest_checkpoint(checkpoint_dir='checkpoints/')\n",
    "    saver.restore(save_path=save_path, sess=sess)\n",
    "    \n",
    "    loss_batch = []\n",
    "    acc_batch, acc2_batch = [], []\n",
    "    for Xarr, Yarr in get_batches(X=Xtest, batch_size=N, y=Ytest):\n",
    "        feed_dict = {X:Xarr, Y:Yarr}\n",
    "        lossarr, accarr, acc2arr = sess.run(feed_dict=feed_dict, fetches=[loss, acc, acc2])\n",
    "        loss_batch.append(np.mean(lossarr))\n",
    "        acc_batch.append(np.mean(accarr))\n",
    "        acc2_batch.append(np.mean(acc2arr))\n",
    "\n",
    "    # Print info for every iter/epoch\n",
    "    print('test loss:', np.mean(loss_batch), 'test accuracy:', np.mean(acc_batch), np.mean(acc2_batch))"
   ]
  },
  {
   "cell_type": "code",
   "execution_count": null,
   "metadata": {},
   "outputs": [],
   "source": [
    "# print('some variable {what type inside and how many digits}/{what s inside and how manu digits}'.format())"
   ]
  }
 ],
 "metadata": {
  "kernelspec": {
   "display_name": "Python 3",
   "language": "python",
   "name": "python3"
  },
  "language_info": {
   "codemirror_mode": {
    "name": "ipython",
    "version": 3
   },
   "file_extension": ".py",
   "mimetype": "text/x-python",
   "name": "python",
   "nbconvert_exporter": "python",
   "pygments_lexer": "ipython3",
   "version": "3.6.5"
  },
  "widgets": {
   "state": {},
   "version": "1.1.2"
  }
 },
 "nbformat": 4,
 "nbformat_minor": 2
}
