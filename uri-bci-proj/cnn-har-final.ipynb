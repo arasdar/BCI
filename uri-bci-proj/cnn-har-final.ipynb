{
 "cells": [
  {
   "cell_type": "code",
   "execution_count": 1,
   "metadata": {},
   "outputs": [
    {
     "name": "stdout",
     "output_type": "stream",
     "text": [
      "['body_acc_x', 'body_acc_y', 'body_acc_z', 'body_gyro_x', 'body_gyro_y', 'body_gyro_z', 'total_acc_x', 'total_acc_y', 'total_acc_z'] ['body_acc_x', 'body_acc_y', 'body_acc_z', 'body_gyro_x', 'body_gyro_y', 'body_gyro_z', 'total_acc_x', 'total_acc_y', 'total_acc_z']\n",
      "6 6\n",
      "0.0 0.16675734494015235 0.1459466811751904 0.13411316648531013 0.1749183895538629 0.1868879216539717 0.1913764961915125 0.0\n",
      "(7352,) (2947,)\n",
      "(7352, 6) (2947, 6)\n",
      "(5146, 128, 9) (2206, 128, 9) (5146, 6) (2206, 6)\n"
     ]
    }
   ],
   "source": [
    "# Input data\n",
    "import numpy as np\n",
    "from utilities import *\n",
    "\n",
    "# test and train read\n",
    "Xtrain, Ytrain, list_ch_train = read_data(data_path=\"../../../datasets/har/har-data/\", split=\"train\")\n",
    "Xtest, Ytest, list_ch_test = read_data(data_path=\"../../../datasets/har/har-data/\", split=\"test\")\n",
    "\n",
    "print(list_ch_test, list_ch_train)\n",
    "assert list_ch_train == list_ch_test, \"Mistmatch in channels!\"\n",
    "assert Ytrain.max(axis=0) == Ytest.max(axis=0)\n",
    "print(Ytrain.max(axis=0), Ytest.max(axis=0))\n",
    "\n",
    "print(np.mean(Ytrain==0), np.mean(Ytrain==1), np.mean(Ytrain==2), np.mean(Ytrain==3), np.mean(Ytrain==4), \n",
    "      np.mean(Ytrain==5), np.mean(Ytrain==6), np.mean(Ytrain==7))\n",
    "\n",
    "# Normalizing/standardizing the input data features\n",
    "Xtrain, Xtest = standardize(test=Xtest, train=Xtrain)\n",
    "\n",
    "# Onehot encoding of the output labels\n",
    "print(Ytrain.shape, Ytest.shape)\n",
    "Ytrain = one_hot(labels=Ytrain.reshape(-1), n_class=6) \n",
    "Ytest = one_hot(labels=Ytest.reshape(-1), n_class=6)\n",
    "print(Ytrain.shape, Ytest.shape)\n",
    "\n",
    "# Train and valid split\n",
    "from sklearn.model_selection import train_test_split\n",
    "\n",
    "# 30% of the training data/ entire training data is assigned to validation.\n",
    "Xtrain, Xvalid, Ytrain, Yvalid = train_test_split(Xtrain, Ytrain, test_size=0.30)\n",
    "print(Xtrain.shape, Xvalid.shape, Ytrain.shape, Yvalid.shape)"
   ]
  },
  {
   "cell_type": "code",
   "execution_count": 2,
   "metadata": {},
   "outputs": [
    {
     "name": "stdout",
     "output_type": "stream",
     "text": [
      "TensorFlow Version: 1.7.0\n",
      "Default GPU Device: /device:GPU:0\n"
     ]
    }
   ],
   "source": [
    "# GPUs or CPU\n",
    "import tensorflow as tf\n",
    "\n",
    "# Check TensorFlow Version\n",
    "print('TensorFlow Version: {}'.format(tf.__version__))\n",
    "\n",
    "# Check for a GPU\n",
    "print('Default GPU Device: {}'.format(tf.test.gpu_device_name()))"
   ]
  },
  {
   "cell_type": "code",
   "execution_count": 22,
   "metadata": {},
   "outputs": [
    {
     "name": "stdout",
     "output_type": "stream",
     "text": [
      "(2206, 128, 9) <dtype: 'float32'>\n",
      "(2206, 6) <dtype: 'float32'>\n"
     ]
    }
   ],
   "source": [
    "# Input data which is divided into train, valid, and testing.\n",
    "N, W, Cin = Xvalid.shape[0], Xtrain.shape[1], Xtrain.shape[2]\n",
    "X = tf.placeholder(dtype=tf.float32, name=None, shape=[N, W, Cin])\n",
    "print(X.shape, X.dtype)\n",
    "\n",
    "# Output data/labels\n",
    "# assert Ytrain.max(axis=0)==Ytest.max(axis=0)\n",
    "# Cout = Ytrain.max(axis=0)\n",
    "# n_class=6\n",
    "Cout = 6\n",
    "Y = tf.placeholder(dtype=tf.float32, name=None, shape=[N, Cout])\n",
    "print(Y.shape, Y.dtype)"
   ]
  },
  {
   "cell_type": "code",
   "execution_count": 26,
   "metadata": {},
   "outputs": [
    {
     "name": "stdout",
     "output_type": "stream",
     "text": [
      "(2206, 128, 9) <dtype: 'float32'>\n",
      "(64, 9, 18) <dtype: 'float32_ref'>\n",
      "(2206, 64, 18) <dtype: 'float32'>\n",
      "(2206, 1, 18) <dtype: 'float32_ref'>\n",
      "(2206, 64, 18) <dtype: 'float32'>\n"
     ]
    }
   ],
   "source": [
    "# One convolution layer\n",
    "print(X.shape, X.dtype)\n",
    "Wwidth, Wchannels, Wnumber = X.shape[1].value//2, X.shape[2].value, X.shape[2].value*2\n",
    "shape = [Wwidth, Wchannels, Wnumber]\n",
    "initial_value = tf.random_normal(dtype=X.dtype, mean=0.0, name=None, shape=shape, stddev=1.0)\n",
    "Wconv = tf.Variable(dtype=X.dtype, initial_value=initial_value, name=None, trainable=True)\n",
    "print(Wconv.shape, Wconv.dtype)\n",
    "Xconv = tf.nn.conv1d(data_format='NWC', filters=Wconv, name=None, padding='SAME', stride=2, use_cudnn_on_gpu=True, \n",
    "                     value=X)\n",
    "print(Xconv.shape, Xconv.dtype)\n",
    "# This is the place to add a bias to the equation\n",
    "# tf.zeros(\n",
    "#     shape,\n",
    "#     dtype=tf.float32,\n",
    "#     name=None\n",
    "# )\n",
    "shape = [Xconv.shape[0].value, 1, Xconv.shape[2].value]\n",
    "initial_value = tf.zeros(dtype=Xconv.dtype, shape=shape)\n",
    "Bconv = tf.Variable(dtype=Xconv.dtype, initial_value=initial_value, name=None, trainable=True)\n",
    "print(Bconv.shape, Bconv.dtype)\n",
    "Xconv += Bconv\n",
    "Xconv = tf.maximum(name=None, x=(-0.1*Xconv), y=Xconv)\n",
    "print(Xconv.shape, Xconv.dtype)"
   ]
  },
  {
   "cell_type": "code",
   "execution_count": 27,
   "metadata": {},
   "outputs": [
    {
     "name": "stdout",
     "output_type": "stream",
     "text": [
      "(2206, 1152) <dtype: 'float32'>\n",
      "(1152, 6) <dtype: 'float32_ref'>\n",
      "(2206, 6) <dtype: 'float32'>\n",
      "(2206, 6) <dtype: 'float32_ref'>\n",
      "(2206, 6) <dtype: 'float32'>\n",
      "(2206, 6) <dtype: 'float32'>\n"
     ]
    }
   ],
   "source": [
    "# Multiplication layer\n",
    "# shape = [-1, Xconv.shape[1].value*Xconv.shape[2].value] # N is None which is a value or creating an extra index\n",
    "shape = [Xconv.shape[0].value, Xconv.shape[1].value*Xconv.shape[2].value]\n",
    "Xconv_reshaped = tf.reshape(name=None, shape=shape, tensor=Xconv)\n",
    "print(Xconv_reshaped.shape, Xconv_reshaped.dtype)\n",
    "Wchannels, Wnumber = Xconv_reshaped.shape[1].value, Y.shape[1].value\n",
    "shape = [Wchannels, Wnumber]\n",
    "initial_value = tf.random_normal(dtype=Xconv_reshaped.dtype, mean=0.0, name=None, shape=shape, stddev=1.0)\n",
    "W = tf.Variable(dtype=Xconv_reshaped.dtype, initial_value=initial_value, name=None, trainable=True)\n",
    "print(W.shape, W.dtype)\n",
    "logits = tf.matmul(a=Xconv_reshaped, b=W, name=None)\n",
    "print(logits.shape, logits.dtype)\n",
    "shape = [logits.shape[0].value, logits.shape[1].value]\n",
    "initial_value = tf.zeros(dtype=logits.dtype, name=None, shape=shape)\n",
    "B = tf.Variable(dtype=logits.dtype, initial_value=initial_value, name=None, trainable=True)\n",
    "print(B.shape, B.dtype)\n",
    "logits += B\n",
    "print(logits.shape, logits.dtype)\n",
    "print(Y.shape, Y.dtype)"
   ]
  },
  {
   "cell_type": "code",
   "execution_count": 28,
   "metadata": {},
   "outputs": [
    {
     "name": "stdout",
     "output_type": "stream",
     "text": [
      "(2206,) <dtype: 'float32'>\n",
      "() <dtype: 'float32'>\n"
     ]
    }
   ],
   "source": [
    "# Backward pass: error backpropagation\n",
    "# Cost function\n",
    "loss_tensor = tf.nn.softmax_cross_entropy_with_logits_v2(logits=logits, labels=Y, name=None)\n",
    "print(loss_tensor.shape, loss_tensor.dtype)\n",
    "loss = tf.reduce_mean(axis=0, input_tensor=loss_tensor)\n",
    "print(loss.shape, loss.dtype)"
   ]
  },
  {
   "cell_type": "code",
   "execution_count": 29,
   "metadata": {},
   "outputs": [
    {
     "name": "stdout",
     "output_type": "stream",
     "text": [
      "optimizer name: \"Adam_1\"\n",
      "op: \"NoOp\"\n",
      "input: \"^Adam_1/update_Variable_15/ApplyAdam\"\n",
      "input: \"^Adam_1/update_Variable_16/ApplyAdam\"\n",
      "input: \"^Adam_1/update_Variable_17/ApplyAdam\"\n",
      "input: \"^Adam_1/update_Variable_18/ApplyAdam\"\n",
      "input: \"^Adam_1/Assign\"\n",
      "input: \"^Adam_1/Assign_1\"\n",
      "\n"
     ]
    }
   ],
   "source": [
    "# Optimizer\n",
    "# __init__(\n",
    "#     learning_rate=0.001,\n",
    "#     beta1=0.9,\n",
    "#     beta2=0.999,\n",
    "#     epsilon=1e-08,\n",
    "#     use_locking=False,\n",
    "#     name='Adam'\n",
    "# )\n",
    "# minimize(\n",
    "#     loss,\n",
    "#     global_step=None,\n",
    "#     var_list=None,\n",
    "#     gate_gradients=GATE_OP,\n",
    "#     aggregation_method=None,\n",
    "#     colocate_gradients_with_ops=False,\n",
    "#     name=None,\n",
    "#     grad_loss=None\n",
    "# )\n",
    "optimizer = tf.train.AdamOptimizer().minimize(loss=loss)\n",
    "print('optimizer', optimizer)\n",
    "# adam = tf.train.AdamOptimizer\n",
    "# print(adam)\n",
    "# optimizer = adam.minimize(loss=loss)"
   ]
  },
  {
   "cell_type": "code",
   "execution_count": 30,
   "metadata": {},
   "outputs": [
    {
     "name": "stdout",
     "output_type": "stream",
     "text": [
      "(2206, 6) <dtype: 'float32'>\n",
      "(2206,) <dtype: 'int32'>\n",
      "(2206, 6) <dtype: 'float32'>\n",
      "(2206,) <dtype: 'int32'>\n",
      "(2206, 6) <dtype: 'float32'>\n",
      "(2206,) <dtype: 'int32'>\n"
     ]
    }
   ],
   "source": [
    "print(logits.shape, logits.dtype)\n",
    "# Accuracy\n",
    "# tf.argmax(\n",
    "#     input,\n",
    "#     axis=None,\n",
    "#     name=None,\n",
    "#     dimension=None,\n",
    "#     output_type=tf.int64\n",
    "# )\n",
    "Ypred = tf.argmax(axis=1, name=None, input=logits, output_type=tf.int32)\n",
    "# # tf.max is finding the max value among all the arguments and indices\n",
    "# # tf.argmax is finding the arg/index with the max value\n",
    "# Ylabel = tf.argmax()\n",
    "print(Ypred.shape, Ypred.dtype)\n",
    "\n",
    "# tf.nn.softmax(\n",
    "#     logits,\n",
    "#     axis=None,\n",
    "#     name=None,\n",
    "#     dim=None\n",
    "# )\n",
    "# softmax = tf.exp(logits) / tf.reduce_sum(tf.exp(logits), axis)\n",
    "prob = tf.nn.softmax(axis=1, logits=logits, name=None)\n",
    "print(prob.shape, prob.dtype)\n",
    "Ypred2 = tf.argmax(axis=1, input=prob, name=None, output_type=tf.int32) \n",
    "print(Ypred2.shape, Ypred2.dtype)\n",
    "\n",
    "print(Y.shape, Y.dtype)\n",
    "Yref = tf.argmax(axis=1, input=Y, name=None, output_type=tf.int32)\n",
    "print(Yref.shape, Yref.dtype)"
   ]
  },
  {
   "cell_type": "code",
   "execution_count": 31,
   "metadata": {},
   "outputs": [
    {
     "name": "stdout",
     "output_type": "stream",
     "text": [
      "(2206,) <dtype: 'bool'>\n",
      "(2206,) <dtype: 'float16'>\n",
      "() <dtype: 'float16'>\n"
     ]
    }
   ],
   "source": [
    "acc_tensor = tf.equal(name=None, x=Ypred, y=Yref)\n",
    "print(acc_tensor.shape, acc_tensor.dtype)\n",
    "# cast bool to int datatype for equal\n",
    "acc_tensor = tf.cast(dtype=tf.float16, name=None, x=acc_tensor)\n",
    "print(acc_tensor.shape, acc_tensor.dtype)\n",
    "acc = tf.reduce_mean(axis=0, input_tensor=acc_tensor)\n",
    "print(acc.shape, acc.dtype)"
   ]
  },
  {
   "cell_type": "code",
   "execution_count": 32,
   "metadata": {},
   "outputs": [
    {
     "name": "stdout",
     "output_type": "stream",
     "text": [
      "(2206,) <dtype: 'bool'>\n",
      "(2206,) <dtype: 'float16'>\n",
      "() <dtype: 'float16'>\n"
     ]
    }
   ],
   "source": [
    "acc_tensor = tf.equal(name=None, x=Ypred2, y=Yref)\n",
    "print(acc_tensor.shape, acc_tensor.dtype)\n",
    "# cast bool to int datatype for equal\n",
    "acc_tensor = tf.cast(dtype=tf.float16, name=None, x=acc_tensor)\n",
    "print(acc_tensor.shape, acc_tensor.dtype)\n",
    "acc2 = tf.reduce_mean(axis=0, input_tensor=acc_tensor)\n",
    "print(acc2.shape, acc2.dtype)"
   ]
  },
  {
   "cell_type": "code",
   "execution_count": 33,
   "metadata": {},
   "outputs": [],
   "source": [
    "# # Confusion matrix\n",
    "# confusion_matrix = tf.confusion_matrix(predictions=tf.argmax(logits, 1),\n",
    "#                                        labels=tf.argmax(labels_, 1))\n",
    "# print('confusion_matrix', confusion_matrix)"
   ]
  },
  {
   "cell_type": "code",
   "execution_count": 34,
   "metadata": {},
   "outputs": [],
   "source": [
    "# Minibatching techniques for online learning and offline learning of big dataset\n",
    "# for X, Y in get_batches(X=X_train_norm, batch_size=N, y=Y_train_onehot):\n",
    "#     print(X.shape, X.dtype, Y.shape, Y.dtype)"
   ]
  },
  {
   "cell_type": "code",
   "execution_count": 35,
   "metadata": {
    "scrolled": true
   },
   "outputs": [
    {
     "name": "stdout",
     "output_type": "stream",
     "text": [
      "epoch: 0 training loss: 561.2964 validation loss: 544.33466 training accuracy: 0.1594 validation accuracy: 0.1564\n",
      "epoch: 1 training loss: 530.44995 validation loss: 514.6064 training accuracy: 0.1532 validation accuracy: 0.1519\n",
      "epoch: 2 training loss: 500.82245 validation loss: 486.2585 training accuracy: 0.1465 validation accuracy: 0.1473\n",
      "epoch: 3 training loss: 472.7475 validation loss: 459.43063 training accuracy: 0.1407 validation accuracy: 0.1442\n",
      "epoch: 4 training loss: 446.10675 validation loss: 434.04224 training accuracy: 0.1389 validation accuracy: 0.1373\n",
      "epoch: 5 training loss: 421.02567 validation loss: 410.35565 training accuracy: 0.1365 validation accuracy: 0.1392\n",
      "epoch: 6 training loss: 397.63184 validation loss: 388.1362 training accuracy: 0.1349 validation accuracy: 0.1378\n",
      "epoch: 7 training loss: 375.4524 validation loss: 366.61246 training accuracy: 0.1355 validation accuracy: 0.141\n",
      "epoch: 8 training loss: 353.85007 validation loss: 345.35574 training accuracy: 0.1411 validation accuracy: 0.1464\n",
      "epoch: 9 training loss: 332.75897 validation loss: 324.3166 training accuracy: 0.1475 validation accuracy: 0.1537\n",
      "epoch: 10 training loss: 312.08273 validation loss: 303.9391 training accuracy: 0.1573 validation accuracy: 0.17\n",
      "epoch: 11 training loss: 292.6399 validation loss: 287.42715 training accuracy: 0.1907 validation accuracy: 0.2546\n",
      "epoch: 12 training loss: 278.26575 validation loss: 277.4187 training accuracy: 0.2769 validation accuracy: 0.32\n",
      "epoch: 13 training loss: 269.08282 validation loss: 270.4772 training accuracy: 0.3313 validation accuracy: 0.3523\n",
      "epoch: 14 training loss: 262.2364 validation loss: 264.28384 training accuracy: 0.3584 validation accuracy: 0.3677\n",
      "epoch: 15 training loss: 255.85172 validation loss: 258.26126 training accuracy: 0.3696 validation accuracy: 0.3762\n",
      "epoch: 16 training loss: 249.66272 validation loss: 252.32626 training accuracy: 0.3777 validation accuracy: 0.3853\n",
      "epoch: 17 training loss: 243.54492 validation loss: 246.56339 training accuracy: 0.3862 validation accuracy: 0.3948\n",
      "epoch: 18 training loss: 237.58597 validation loss: 240.95377 training accuracy: 0.3936 validation accuracy: 0.403\n",
      "epoch: 19 training loss: 231.81451 validation loss: 235.51796 training accuracy: 0.4038 validation accuracy: 0.41\n",
      "epoch: 20 training loss: 226.26855 validation loss: 230.26971 training accuracy: 0.4126 validation accuracy: 0.4175\n",
      "epoch: 21 training loss: 220.94687 validation loss: 225.23311 training accuracy: 0.4197 validation accuracy: 0.4202\n",
      "epoch: 22 training loss: 215.8472 validation loss: 220.42558 training accuracy: 0.4272 validation accuracy: 0.4285\n",
      "epoch: 23 training loss: 210.9423 validation loss: 215.84329 training accuracy: 0.435 validation accuracy: 0.4348\n",
      "epoch: 24 training loss: 206.24503 validation loss: 211.45401 training accuracy: 0.4448 validation accuracy: 0.4414\n",
      "epoch: 25 training loss: 201.74927 validation loss: 207.25665 training accuracy: 0.4512 validation accuracy: 0.4465\n",
      "epoch: 26 training loss: 197.44653 validation loss: 203.20338 training accuracy: 0.46 validation accuracy: 0.4546\n",
      "epoch: 27 training loss: 193.31108 validation loss: 199.28484 training accuracy: 0.467 validation accuracy: 0.463\n",
      "epoch: 28 training loss: 189.34093 validation loss: 195.53088 training accuracy: 0.4744 validation accuracy: 0.4688\n",
      "epoch: 29 training loss: 185.52754 validation loss: 191.90082 training accuracy: 0.4805 validation accuracy: 0.4724\n",
      "epoch: 30 training loss: 181.84135 validation loss: 188.38083 training accuracy: 0.4873 validation accuracy: 0.4763\n",
      "epoch: 31 training loss: 178.27872 validation loss: 184.99907 training accuracy: 0.4934 validation accuracy: 0.481\n",
      "epoch: 32 training loss: 174.83893 validation loss: 181.74571 training accuracy: 0.4983 validation accuracy: 0.4856\n",
      "epoch: 33 training loss: 171.5289 validation loss: 178.60966 training accuracy: 0.503 validation accuracy: 0.4922\n",
      "epoch: 34 training loss: 168.32837 validation loss: 175.57536 training accuracy: 0.508 validation accuracy: 0.4958\n",
      "epoch: 35 training loss: 165.22119 validation loss: 172.66466 training accuracy: 0.515 validation accuracy: 0.5024\n",
      "epoch: 36 training loss: 162.18813 validation loss: 169.84401 training accuracy: 0.5186 validation accuracy: 0.5063\n",
      "epoch: 37 training loss: 159.22604 validation loss: 167.1083 training accuracy: 0.5234 validation accuracy: 0.5073\n",
      "epoch: 38 training loss: 156.33104 validation loss: 164.43697 training accuracy: 0.5254 validation accuracy: 0.5093\n",
      "epoch: 39 training loss: 153.49174 validation loss: 161.83086 training accuracy: 0.5312 validation accuracy: 0.515\n",
      "epoch: 40 training loss: 150.71988 validation loss: 159.28317 training accuracy: 0.538 validation accuracy: 0.5195\n",
      "epoch: 41 training loss: 147.99966 validation loss: 156.78824 training accuracy: 0.541 validation accuracy: 0.526\n",
      "epoch: 42 training loss: 145.32849 validation loss: 154.35599 training accuracy: 0.5444 validation accuracy: 0.531\n",
      "epoch: 43 training loss: 142.72784 validation loss: 151.99309 training accuracy: 0.5503 validation accuracy: 0.5337\n",
      "epoch: 44 training loss: 140.19775 validation loss: 149.6925 training accuracy: 0.5547 validation accuracy: 0.5366\n",
      "epoch: 45 training loss: 137.71817 validation loss: 147.46475 training accuracy: 0.5586 validation accuracy: 0.5435\n",
      "epoch: 46 training loss: 135.29033 validation loss: 145.28503 training accuracy: 0.5615 validation accuracy: 0.5464\n",
      "epoch: 47 training loss: 132.90195 validation loss: 143.13478 training accuracy: 0.5645 validation accuracy: 0.5493\n",
      "epoch: 48 training loss: 130.55223 validation loss: 141.02701 training accuracy: 0.569 validation accuracy: 0.5547\n",
      "epoch: 49 training loss: 128.24106 validation loss: 138.95166 training accuracy: 0.5713 validation accuracy: 0.558\n",
      "epoch: 50 training loss: 125.96857 validation loss: 136.90514 training accuracy: 0.5747 validation accuracy: 0.5605\n",
      "epoch: 51 training loss: 123.73219 validation loss: 134.89342 training accuracy: 0.577 validation accuracy: 0.563\n",
      "epoch: 52 training loss: 121.53401 validation loss: 132.90564 training accuracy: 0.5796 validation accuracy: 0.565\n",
      "epoch: 53 training loss: 119.383995 validation loss: 130.94269 training accuracy: 0.583 validation accuracy: 0.566\n",
      "epoch: 54 training loss: 117.27748 validation loss: 129.00131 training accuracy: 0.5864 validation accuracy: 0.57\n",
      "epoch: 55 training loss: 115.204285 validation loss: 127.08352 training accuracy: 0.588 validation accuracy: 0.572\n",
      "epoch: 56 training loss: 113.15407 validation loss: 125.18995 training accuracy: 0.59 validation accuracy: 0.5723\n",
      "epoch: 57 training loss: 111.134384 validation loss: 123.32413 training accuracy: 0.5923 validation accuracy: 0.5747\n",
      "epoch: 58 training loss: 109.15311 validation loss: 121.50592 training accuracy: 0.595 validation accuracy: 0.5776\n",
      "epoch: 59 training loss: 107.21135 validation loss: 119.73986 training accuracy: 0.5996 validation accuracy: 0.581\n",
      "epoch: 60 training loss: 105.31727 validation loss: 118.00462 training accuracy: 0.601 validation accuracy: 0.5835\n",
      "epoch: 61 training loss: 103.4536 validation loss: 116.30972 training accuracy: 0.6035 validation accuracy: 0.5854\n",
      "epoch: 62 training loss: 101.62721 validation loss: 114.6587 training accuracy: 0.607 validation accuracy: 0.591\n",
      "epoch: 63 training loss: 99.84279 validation loss: 113.05285 training accuracy: 0.6104 validation accuracy: 0.5947\n",
      "epoch: 64 training loss: 98.10425 validation loss: 111.47808 training accuracy: 0.6133 validation accuracy: 0.598\n",
      "epoch: 65 training loss: 96.40621 validation loss: 109.92461 training accuracy: 0.616 validation accuracy: 0.599\n",
      "epoch: 66 training loss: 94.73473 validation loss: 108.385925 training accuracy: 0.619 validation accuracy: 0.603\n",
      "epoch: 67 training loss: 93.09408 validation loss: 106.87304 training accuracy: 0.621 validation accuracy: 0.605\n",
      "epoch: 68 training loss: 91.48772 validation loss: 105.39034 training accuracy: 0.625 validation accuracy: 0.606\n",
      "epoch: 69 training loss: 89.90749 validation loss: 103.92775 training accuracy: 0.629 validation accuracy: 0.6064\n",
      "epoch: 70 training loss: 88.34943 validation loss: 102.48262 training accuracy: 0.631 validation accuracy: 0.6094\n",
      "epoch: 71 training loss: 86.81457 validation loss: 101.07105 training accuracy: 0.6353 validation accuracy: 0.6123\n"
     ]
    },
    {
     "name": "stdout",
     "output_type": "stream",
     "text": [
      "epoch: 72 training loss: 85.30595 validation loss: 99.684 training accuracy: 0.6377 validation accuracy: 0.6157\n",
      "epoch: 73 training loss: 83.824486 validation loss: 98.31981 training accuracy: 0.6406 validation accuracy: 0.6187\n",
      "epoch: 74 training loss: 82.36993 validation loss: 96.97886 training accuracy: 0.6445 validation accuracy: 0.622\n",
      "epoch: 75 training loss: 80.93591 validation loss: 95.66609 training accuracy: 0.6475 validation accuracy: 0.6245\n",
      "epoch: 76 training loss: 79.52223 validation loss: 94.38031 training accuracy: 0.6514 validation accuracy: 0.6294\n",
      "epoch: 77 training loss: 78.13992 validation loss: 93.132996 training accuracy: 0.657 validation accuracy: 0.634\n",
      "epoch: 78 training loss: 76.78821 validation loss: 91.92237 training accuracy: 0.661 validation accuracy: 0.639\n",
      "epoch: 79 training loss: 75.46876 validation loss: 90.74803 training accuracy: 0.665 validation accuracy: 0.642\n",
      "epoch: 80 training loss: 74.18056 validation loss: 89.626656 training accuracy: 0.669 validation accuracy: 0.6455\n",
      "epoch: 81 training loss: 72.9185 validation loss: 88.53928 training accuracy: 0.674 validation accuracy: 0.648\n",
      "epoch: 82 training loss: 71.685936 validation loss: 87.479965 training accuracy: 0.6787 validation accuracy: 0.651\n",
      "epoch: 83 training loss: 70.47925 validation loss: 86.44172 training accuracy: 0.6807 validation accuracy: 0.6523\n",
      "epoch: 84 training loss: 69.29768 validation loss: 85.42415 training accuracy: 0.6846 validation accuracy: 0.6553\n",
      "epoch: 85 training loss: 68.138336 validation loss: 84.42917 training accuracy: 0.6885 validation accuracy: 0.6562\n",
      "epoch: 86 training loss: 67.002426 validation loss: 83.45084 training accuracy: 0.6904 validation accuracy: 0.6562\n",
      "epoch: 87 training loss: 65.88983 validation loss: 82.482285 training accuracy: 0.6934 validation accuracy: 0.658\n",
      "epoch: 88 training loss: 64.80013 validation loss: 81.52972 training accuracy: 0.6953 validation accuracy: 0.6587\n",
      "epoch: 89 training loss: 63.732292 validation loss: 80.59948 training accuracy: 0.6997 validation accuracy: 0.662\n",
      "epoch: 90 training loss: 62.684708 validation loss: 79.68837 training accuracy: 0.701 validation accuracy: 0.6655\n",
      "epoch: 91 training loss: 61.656143 validation loss: 78.78876 training accuracy: 0.705 validation accuracy: 0.6675\n",
      "epoch: 92 training loss: 60.646313 validation loss: 77.90483 training accuracy: 0.707 validation accuracy: 0.6694\n",
      "epoch: 93 training loss: 59.650696 validation loss: 77.04153 training accuracy: 0.709 validation accuracy: 0.671\n",
      "epoch: 94 training loss: 58.665035 validation loss: 76.192635 training accuracy: 0.71 validation accuracy: 0.674\n",
      "epoch: 95 training loss: 57.698692 validation loss: 75.35803 training accuracy: 0.715 validation accuracy: 0.6763\n",
      "epoch: 96 training loss: 56.753044 validation loss: 74.54267 training accuracy: 0.7188 validation accuracy: 0.678\n",
      "epoch: 97 training loss: 55.824368 validation loss: 73.740654 training accuracy: 0.7217 validation accuracy: 0.68\n",
      "epoch: 98 training loss: 54.913574 validation loss: 72.94873 training accuracy: 0.7246 validation accuracy: 0.6816\n",
      "epoch: 99 training loss: 54.023144 validation loss: 72.165375 training accuracy: 0.7275 validation accuracy: 0.684\n"
     ]
    }
   ],
   "source": [
    "# Plotting the learning/loss curve\n",
    "train_loss, valid_loss = [], []\n",
    "train_acc, valid_acc = [], []\n",
    "\n",
    "# Save the training result or trained and validated model params\n",
    "saver = tf.train.Saver()\n",
    "\n",
    "with tf.Session() as sess:\n",
    "    sess.run(fetches=tf.global_variables_initializer())\n",
    "   \n",
    "    # Loop over epochs\n",
    "    for epoch in range(0, 100, 1): # start=0, stop=epochs, step=1\n",
    "        \n",
    "        # Training\n",
    "        loss_batch = []\n",
    "        acc_batch = []\n",
    "        for Xarr, Yarr in get_batches(X=Xtrain, batch_size=N, y=Ytrain):\n",
    "\n",
    "            # feeding the input array into TF framework and fetche the output\n",
    "            feed_dict = {X:Xarr, Y:Yarr}\n",
    "            lossarr, _, accarr = sess.run(feed_dict=feed_dict, fetches=[loss, optimizer, acc])\n",
    "            loss_batch.append(np.mean(lossarr))\n",
    "            acc_batch.append(np.mean(accarr))\n",
    "        \n",
    "        # Averaging the loss of the batch/minibatch\n",
    "        train_loss.append(np.mean(loss_batch))\n",
    "        train_acc.append(np.mean(acc_batch))\n",
    "        \n",
    "        # validation\n",
    "        feed_dict = {X:Xvalid, Y:Yvalid}\n",
    "        lossarr, accarr = sess.run(feed_dict=feed_dict, fetches=[loss, acc])\n",
    "        valid_loss.append(np.mean(lossarr))\n",
    "        valid_acc.append(np.mean(accarr))\n",
    "\n",
    "        # Printing out the training and validating loss\n",
    "        print('epoch:', epoch, 'training loss:', train_loss[epoch], 'validation loss:', valid_loss[epoch], \n",
    "              'training accuracy:', train_acc[epoch], 'validation accuracy:', valid_acc[epoch])\n",
    "            \n",
    "    saver.save(save_path='checkpoints/model.ckpt', sess=sess)"
   ]
  },
  {
   "cell_type": "code",
   "execution_count": 36,
   "metadata": {},
   "outputs": [
    {
     "data": {
      "image/png": "[encoded data removed]",
      "text/plain": [
       "<Figure size 432x288 with 1 Axes>"
      ]
     },
     "metadata": {},
     "output_type": "display_data"
    }
   ],
   "source": [
    "import matplotlib.pyplot as mplot\n",
    "%matplotlib inline\n",
    "\n",
    "mplot.plot(train_loss, label='har train_loss')\n",
    "mplot.plot(valid_loss, label='har valid_loss')\n",
    "mplot.legend()\n",
    "mplot.show()"
   ]
  },
  {
   "cell_type": "code",
   "execution_count": 37,
   "metadata": {},
   "outputs": [
    {
     "data": {
      "text/plain": [
       "{'beta2_power_1': [],\n",
       " 'beta2_power': [],\n",
       " 'beta1_power_2': [],\n",
       " 'beta1_power_1': [],\n",
       " 'beta1_power': [],\n",
       " 'Variable_7/Adam_1': [1152, 6],\n",
       " 'Variable_7/Adam': [1152, 6],\n",
       " 'Variable_6/Adam_1': [64, 9, 18],\n",
       " 'beta2_power_2': [],\n",
       " 'Variable_1/Adam': [1152, 6],\n",
       " 'Variable/Adam': [64, 9, 18],\n",
       " 'Variable': [64, 9, 18],\n",
       " 'Variable_1': [1152, 6],\n",
       " 'Variable/Adam_1': [64, 9, 18],\n",
       " 'Variable_3': [1152, 6],\n",
       " 'Variable_4': [1152, 6],\n",
       " 'Variable_7': [1152, 6],\n",
       " 'Variable_2/Adam_1': [64, 9, 18],\n",
       " 'Variable_2/Adam': [64, 9, 18],\n",
       " 'Variable_5/Adam': [1152, 6],\n",
       " 'Variable_2': [64, 9, 18],\n",
       " 'Variable_5': [1152, 6],\n",
       " 'Variable_6': [64, 9, 18],\n",
       " 'Variable_1/Adam_1': [1152, 6],\n",
       " 'Variable_5/Adam_1': [1152, 6],\n",
       " 'Variable_6/Adam': [64, 9, 18]}"
      ]
     },
     "execution_count": 37,
     "metadata": {},
     "output_type": "execute_result"
    }
   ],
   "source": [
    "# Testing and playing around with checkpoints and trained model saved or saved trained model\n",
    "loaded_ckpt = tf.train.load_checkpoint(ckpt_dir_or_file='checkpoints/cnn-har.ckpt')\n",
    "loaded_ckpt.get_variable_to_shape_map()"
   ]
  },
  {
   "cell_type": "code",
   "execution_count": 38,
   "metadata": {},
   "outputs": [
    {
     "name": "stdout",
     "output_type": "stream",
     "text": [
      "INFO:tensorflow:Restoring parameters from checkpoints/model.ckpt\n",
      "test loss: 100.82767 test accuracy: 0.559\n"
     ]
    }
   ],
   "source": [
    "with tf.Session() as sess:\n",
    "    # Restore the validated model\n",
    "    save_path = tf.train.latest_checkpoint(checkpoint_dir='checkpoints/')\n",
    "    saver.restore(save_path=save_path, sess=sess)\n",
    "    \n",
    "    loss_batch = []\n",
    "    acc_batch = []\n",
    "    for Xarr, Yarr in get_batches(X=Xtest, batch_size=N, y=Ytest):\n",
    "        feed_dict = {X:Xarr, Y:Yarr}\n",
    "        lossarr, accarr = sess.run(feed_dict=feed_dict, fetches=[loss, acc])\n",
    "        loss_batch.append(np.mean(lossarr))\n",
    "        acc_batch.append(np.mean(accarr))\n",
    "\n",
    "    # Print info for every iter/epoch\n",
    "    print('test loss:', np.mean(loss_batch), 'test accuracy:', np.mean(acc_batch))"
   ]
  },
  {
   "cell_type": "code",
   "execution_count": null,
   "metadata": {},
   "outputs": [],
   "source": []
  }
 ],
 "metadata": {
  "kernelspec": {
   "display_name": "Python 3",
   "language": "python",
   "name": "python3"
  },
  "language_info": {
   "codemirror_mode": {
    "name": "ipython",
    "version": 3
   },
   "file_extension": ".py",
   "mimetype": "text/x-python",
   "name": "python",
   "nbconvert_exporter": "python",
   "pygments_lexer": "ipython3",
   "version": "3.6.5"
  },
  "widgets": {
   "state": {},
   "version": "1.1.2"
  }
 },
 "nbformat": 4,
 "nbformat_minor": 2
}
