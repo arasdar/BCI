{
 "cells": [
  {
   "cell_type": "code",
   "execution_count": 1,
   "metadata": {},
   "outputs": [],
   "source": [
    "# HAR classification \n",
    "# Author: Burak Himmetoglu\n",
    "# 8/15/2017\n",
    "\n",
    "import pandas as pd \n",
    "import numpy as np\n",
    "import os\n",
    "\n",
    "def read_data(data_path, split = \"train\"):\n",
    "\t\"\"\" Read data \"\"\"\n",
    "\n",
    "\t# Fixed params\n",
    "\tn_class = 6\n",
    "\tn_steps = 128\n",
    "\n",
    "\t# Paths\n",
    "\tpath_ = os.path.join(data_path, split)\n",
    "\tpath_signals = os.path.join(path_, \"Inertial_Signals\")\n",
    "\n",
    "\t# Read labels and one-hot encode\n",
    "\tlabel_path = os.path.join(path_, \"y_\" + split + \".txt\")\n",
    "\tlabels = pd.read_csv(label_path, header = None)\n",
    "\n",
    "\t# Read time-series data\n",
    "\tchannel_files = os.listdir(path_signals)\n",
    "\tchannel_files.sort()\n",
    "\tn_channels = len(channel_files)\n",
    "\tposix = len(split) + 5\n",
    "\n",
    "\t# Initiate array\n",
    "\tlist_of_channels = []\n",
    "\tX = np.zeros((len(labels), n_steps, n_channels))\n",
    "\ti_ch = 0\n",
    "\tfor fil_ch in channel_files:\n",
    "\t\tchannel_name = fil_ch[:-posix]\n",
    "\t\tdat_ = pd.read_csv(os.path.join(path_signals,fil_ch), delim_whitespace = True, header = None)\n",
    "\t\tX[:,:,i_ch] = dat_.as_matrix()\n",
    "\n",
    "\t\t# Record names\n",
    "\t\tlist_of_channels.append(channel_name)\n",
    "\n",
    "\t\t# iterate\n",
    "\t\ti_ch += 1\n",
    "\n",
    "\t# Return \n",
    "\treturn X, labels[0].values, list_of_channels\n",
    "\n",
    "# test and train read\n",
    "Xtrain, Ytrain, _ = read_data(data_path=\"/home/arasdar/datasets/har/har-data/\", split=\"train\")\n",
    "Xtest, Ytest, _ = read_data(data_path=\"/home/arasdar/datasets/har/har-data/\", split=\"test\")"
   ]
  },
  {
   "cell_type": "code",
   "execution_count": 2,
   "metadata": {},
   "outputs": [
    {
     "name": "stdout",
     "output_type": "stream",
     "text": [
      "(7352, 128, 9) float64\n",
      "(2947, 128, 9) float64\n"
     ]
    }
   ],
   "source": [
    "# # standardizing/normalizing the train and test data\n",
    "# def standardize(train, test):\n",
    "# \"\"\" Standardize data \"\"\"\n",
    "# # Standardize train and test\n",
    "# X_train = (train - np.mean(train, axis=0)[None,:,:]) / np.std(train, axis=0)[None,:,:]\n",
    "# X_test = (test - np.mean(test, axis=0)[None,:,:]) / np.std(test, axis=0)[None,:,:]\n",
    "# return X_train, X_test\n",
    "\n",
    "Xtrain = (Xtrain - Xtrain.mean(axis=0))/ Xtrain.std(axis=0)\n",
    "Xtest = (Xtest - Xtest.mean(axis=0))/ Xtest.std(axis=0)\n",
    "print(Xtrain.shape, Xtrain.dtype)\n",
    "print(Xtest.shape, Xtest.dtype)"
   ]
  },
  {
   "cell_type": "code",
   "execution_count": 3,
   "metadata": {},
   "outputs": [
    {
     "name": "stdout",
     "output_type": "stream",
     "text": [
      "[[ 7.29829690e-17 -1.02082531e-17  1.57352066e-17 ... -4.98687012e-15\n",
      "   1.85772084e-16  1.49046535e-16]\n",
      " [-3.78883238e-17 -3.43169454e-17  2.59223183e-16 ...  1.22050349e-15\n",
      "   4.80512740e-17 -4.62565242e-16]\n",
      " [ 1.84533805e-17 -2.06052682e-17 -3.44906065e-17 ... -2.15841883e-16\n",
      "   2.85362956e-16 -3.28763132e-16]\n",
      " ...\n",
      " [ 4.40797199e-17 -2.73629505e-17 -1.20505709e-17 ...  5.30356876e-15\n",
      "   5.48165068e-17 -3.37113966e-16]\n",
      " [ 2.29534684e-17  5.79273058e-17  8.81896418e-18 ...  2.48264790e-15\n",
      "  -1.15794208e-16  4.64958745e-17]\n",
      " [ 4.27810368e-17  1.22921864e-17 -3.12589997e-17 ... -1.67407304e-15\n",
      "   1.10599475e-16 -3.55174722e-16]] [[1. 1. 1. ... 1. 1. 1.]\n",
      " [1. 1. 1. ... 1. 1. 1.]\n",
      " [1. 1. 1. ... 1. 1. 1.]\n",
      " ...\n",
      " [1. 1. 1. ... 1. 1. 1.]\n",
      " [1. 1. 1. ... 1. 1. 1.]\n",
      " [1. 1. 1. ... 1. 1. 1.]]\n"
     ]
    }
   ],
   "source": [
    "print(Xtrain.mean(axis=0), Xtrain.std(axis=0))"
   ]
  },
  {
   "cell_type": "code",
   "execution_count": 4,
   "metadata": {},
   "outputs": [
    {
     "name": "stdout",
     "output_type": "stream",
     "text": [
      "[[ 7.16540276e-17  1.80830354e-17  2.95356244e-17 ... -4.00445992e-15\n",
      "   3.99333697e-17  2.13869566e-16]\n",
      " [ 5.58878811e-17  3.33782694e-17  5.28928784e-17 ...  6.23404167e-15\n",
      "   7.13526437e-17 -1.22135835e-16]\n",
      " [ 1.11512051e-17  8.43874983e-18  4.68652000e-17 ... -2.75390501e-15\n",
      "  -1.09251672e-17 -8.88329112e-17]\n",
      " ...\n",
      " [ 1.58980019e-17 -3.98580238e-17  3.31522315e-18 ... -1.33149533e-15\n",
      "   6.84894964e-17 -1.86330610e-16]\n",
      " [ 4.07810120e-17  5.57277709e-17  3.27001556e-17 ...  3.11386101e-16\n",
      "   1.40520254e-17 -2.61751937e-16]\n",
      " [ 9.20162788e-18 -4.68275270e-17 -4.47555125e-17 ... -1.35942986e-16\n",
      "   4.69028729e-17  2.26923257e-16]] [[1. 1. 1. ... 1. 1. 1.]\n",
      " [1. 1. 1. ... 1. 1. 1.]\n",
      " [1. 1. 1. ... 1. 1. 1.]\n",
      " ...\n",
      " [1. 1. 1. ... 1. 1. 1.]\n",
      " [1. 1. 1. ... 1. 1. 1.]\n",
      " [1. 1. 1. ... 1. 1. 1.]]\n"
     ]
    }
   ],
   "source": [
    "print(Xtest.mean(axis=0), Xtest.std(axis=0))"
   ]
  },
  {
   "cell_type": "code",
   "execution_count": 5,
   "metadata": {},
   "outputs": [
    {
     "name": "stdout",
     "output_type": "stream",
     "text": [
      "6 6\n",
      "(7352, 6) float64 (2947, 6) float64\n"
     ]
    }
   ],
   "source": [
    "# Onehotencoding of the output labels\n",
    "def onehot(labels, n_class):\n",
    "\t\"\"\" One-hot encoding \"\"\"\n",
    "\texpansion = np.eye(n_class)\n",
    "\ty = expansion[:, labels-1].T\n",
    "\tassert y.shape[1] == n_class, \"Wrong number of labels!\"\n",
    "\n",
    "\treturn y\n",
    "\n",
    "print(Ytrain.max(axis=0), Ytest.max(axis=0))\n",
    "# # assert Y.max(axis=0) == Ytrain.max(axis=0) == Ytest.max(axis=0), 'wrong labels'\n",
    "Ytrain=onehot(labels=Ytrain, n_class=Ytrain.max(axis=0))\n",
    "Ytest=onehot(labels=Ytest, n_class=Ytest.max(axis=0))\n",
    "print(Ytrain.shape, Ytrain.dtype, Ytest.shape, Ytest.dtype)"
   ]
  },
  {
   "cell_type": "code",
   "execution_count": 6,
   "metadata": {},
   "outputs": [
    {
     "name": "stdout",
     "output_type": "stream",
     "text": [
      "(5146, 128, 9) (2206, 128, 9) (2947, 128, 9) float64 float64 float64\n",
      "(5146, 6) (2206, 6) (2947, 6) float64 float64 float64\n"
     ]
    }
   ],
   "source": [
    "from sklearn.model_selection import train_test_split\n",
    "\n",
    "# Now separating train and validation set\n",
    "# 30% of the training data/ entire training data is assigned to validation.\n",
    "Xtrain, Xvalid, Ytrain, Yvalid = train_test_split(Xtrain, Ytrain, test_size=0.30)\n",
    "print(Xtrain.shape, Xvalid.shape, Xtest.shape, Xtrain.dtype, Xvalid.dtype, Xtest.dtype)\n",
    "print(Ytrain.shape, Yvalid.shape, Ytest.shape, Ytrain.dtype, Yvalid.dtype, Ytest.dtype)"
   ]
  },
  {
   "cell_type": "code",
   "execution_count": 7,
   "metadata": {},
   "outputs": [
    {
     "name": "stdout",
     "output_type": "stream",
     "text": [
      "TensorFlow Version: 1.7.0\n",
      "Default GPU Device: /device:GPU:0\n"
     ]
    }
   ],
   "source": [
    "# In this one we should define and detect GPUs for tensorflow\n",
    "# GPUs or CPU\n",
    "import tensorflow as tf\n",
    "\n",
    "# Check TensorFlow Version\n",
    "print('TensorFlow Version: {}'.format(tf.__version__))\n",
    "\n",
    "# Check for a GPU\n",
    "print('Default GPU Device: {}'.format(tf.test.gpu_device_name()))"
   ]
  },
  {
   "cell_type": "code",
   "execution_count": 8,
   "metadata": {},
   "outputs": [
    {
     "name": "stdout",
     "output_type": "stream",
     "text": [
      "(2206, 128, 9) <dtype: 'float32'> (5146, 128, 9) float64 (2206, 128, 9) float64 (2947, 128, 9) float64\n"
     ]
    }
   ],
   "source": [
    "# now I can design the actual input and output tensors\n",
    "N, W, Cin = Xvalid.shape[0], Xvalid.shape[1], Xvalid.shape[2]\n",
    "X = tf.placeholder(dtype=tf.float32, name=None, shape=[N, W, Cin])\n",
    "print(X.shape, X.dtype, Xtrain.shape, Xtrain.dtype, Xvalid.shape, Xvalid.dtype, Xtest.shape, Xtest.dtype)"
   ]
  },
  {
   "cell_type": "code",
   "execution_count": 9,
   "metadata": {},
   "outputs": [
    {
     "name": "stdout",
     "output_type": "stream",
     "text": [
      "(2206, 6) <dtype: 'float32'> (5146, 6) float64 (2206, 6) float64 (2947, 6) float64\n"
     ]
    }
   ],
   "source": [
    "# This is the output tensor for labels\n",
    "N, Cout = Yvalid.shape[0], Yvalid.shape[1]\n",
    "Y = tf.placeholder(dtype=tf.float32, name=None, shape=[N, Cout])\n",
    "print(Y.shape, Y.dtype, Ytrain.shape, Ytrain.dtype, Yvalid.shape, Yvalid.dtype, Ytest.shape, Ytest.dtype)"
   ]
  },
  {
   "cell_type": "code",
   "execution_count": 30,
   "metadata": {},
   "outputs": [
    {
     "name": "stdout",
     "output_type": "stream",
     "text": [
      "(2206, 128, 9) <dtype: 'float32'>\n",
      "(64, 9, 18) <dtype: 'float32_ref'>\n",
      "(2206, 64, 18) <dtype: 'float32'>\n"
     ]
    }
   ],
   "source": [
    "print(X.shape, X.dtype)\n",
    "Wwidth, Wchannels, Wnumber = X.shape[1].value//2, X.shape[2].value, X.shape[2].value*2\n",
    "shape = [Wwidth, Wchannels, Wnumber]\n",
    "initial_value = tf.random_normal(dtype=X.dtype, mean=0.0, name=None, shape=shape, stddev=1.0)\n",
    "Wconv = tf.Variable(dtype=X.dtype, initial_value=initial_value, name=None, trainable=True)\n",
    "print(Wconv.shape, Wconv.dtype)\n",
    "Xconv = tf.nn.conv1d(data_format='NWC', filters=Wconv, name=None, padding='SAME', stride=2, use_cudnn_on_gpu=True, \n",
    "                     value=X)\n",
    "Xconv = tf.maximum(name=None, x=(-0.1*Xconv), y=Xconv)\n",
    "print(Xconv.shape, Xconv.dtype)"
   ]
  },
  {
   "cell_type": "code",
   "execution_count": 31,
   "metadata": {},
   "outputs": [
    {
     "name": "stdout",
     "output_type": "stream",
     "text": [
      "(2206, 1152) <dtype: 'float32'>\n",
      "(1152, 6) <dtype: 'float32_ref'>\n",
      "(2206, 6) <dtype: 'float32'>\n",
      "(2206, 6) <dtype: 'float32'>\n"
     ]
    }
   ],
   "source": [
    "# This is the multiplication layer\n",
    "# this part is flatening the input\n",
    "shape = [Xconv.shape[0].value, Xconv.shape[1].value*Xconv.shape[2].value]\n",
    "Xconv_reshaped = tf.reshape(name=None, shape=shape, tensor=Xconv)\n",
    "print(Xconv_reshaped.shape, Xconv_reshaped.dtype)\n",
    "# their first axis or dimension stay the same\n",
    "shape = [Xconv_reshaped.shape[1].value, Y.shape[1].value]\n",
    "initial_value = tf.random_normal(dtype=Xconv_reshaped.dtype, mean=0.0, name=None, shape=shape, stddev=1.0)\n",
    "W = tf.Variable(dtype=Xconv_reshaped.dtype, initial_value=initial_value, name=None, trainable=True)\n",
    "print(W.shape, W.dtype)\n",
    "# The actual multiplication\n",
    "# Y_ = Xconv_reshaped @ W\n",
    "Y_ = tf.matmul(a=Xconv_reshaped, b=W, name=None)\n",
    "print(Y_.shape, Y_.dtype)\n",
    "print(Y.shape, Y.dtype)"
   ]
  },
  {
   "cell_type": "code",
   "execution_count": 32,
   "metadata": {},
   "outputs": [
    {
     "name": "stdout",
     "output_type": "stream",
     "text": [
      "(2206,) <dtype: 'float32'>\n",
      "Tensor(\"Mean_2:0\", shape=(), dtype=float32)\n"
     ]
    }
   ],
   "source": [
    "# Now I need to calculate the loss\n",
    "loss_tensor = tf.nn.softmax_cross_entropy_with_logits_v2(labels=Y, logits=Y_, name=None)\n",
    "print(loss_tensor.shape, loss_tensor.dtype)\n",
    "loss = tf.reduce_mean(axis=0, input_tensor=loss_tensor, name=None)\n",
    "print(loss)"
   ]
  },
  {
   "cell_type": "code",
   "execution_count": 33,
   "metadata": {},
   "outputs": [
    {
     "name": "stdout",
     "output_type": "stream",
     "text": [
      "name: \"Adam_1\"\n",
      "op: \"NoOp\"\n",
      "input: \"^Adam_1/update_Variable_2/ApplyAdam\"\n",
      "input: \"^Adam_1/update_Variable_3/ApplyAdam\"\n",
      "input: \"^Adam_1/Assign\"\n",
      "input: \"^Adam_1/Assign_1\"\n",
      "\n"
     ]
    }
   ],
   "source": [
    "# Backprop and SGD now using adam\n",
    "opt = tf.train.AdamOptimizer().minimize(loss)\n",
    "print(opt)"
   ]
  },
  {
   "cell_type": "code",
   "execution_count": 34,
   "metadata": {},
   "outputs": [
    {
     "name": "stdout",
     "output_type": "stream",
     "text": [
      "(2206, 6) <dtype: 'float32'> (2206, 6) <dtype: 'float32'>\n"
     ]
    }
   ],
   "source": [
    "print(Y_.shape, Y_.dtype, Y.shape, Y.dtype)"
   ]
  },
  {
   "cell_type": "code",
   "execution_count": 35,
   "metadata": {},
   "outputs": [
    {
     "name": "stdout",
     "output_type": "stream",
     "text": [
      "(2206,) <dtype: 'int32'>\n",
      "(2206, 6) <dtype: 'float32'>\n",
      "(2206,) <dtype: 'int32'>\n",
      "(2206,) <dtype: 'bool'>\n",
      "(2206,) <dtype: 'float32'>\n",
      "() <dtype: 'float32'>\n"
     ]
    }
   ],
   "source": [
    "# Accuracy\n",
    "# tf.argmax(\n",
    "#     input,\n",
    "#     axis=None,\n",
    "#     name=None,\n",
    "#     dimension=None,\n",
    "#     output_type=tf.int64\n",
    "# )\n",
    "# Y_NxCout, N:axis 1, Cout: axis 2\n",
    "Y_argmax = tf.argmax(axis=1, name=None, input=Y_, output_type=tf.int32)\n",
    "print(Y_argmax.shape, Y_argmax.dtype)\n",
    "# # tf.nn.softmax(\n",
    "# #     logits,\n",
    "# #     axis=None,\n",
    "# #     name=None,\n",
    "# #     dim=None\n",
    "# # )\n",
    "# # softmax = tf.exp(logits) / tf.reduce_sum(tf.exp(logits), axis)\n",
    "print(Y.shape, Y.dtype)\n",
    "Yargmax = tf.argmax(axis=1, input=Y, name=None, output_type=tf.int32)\n",
    "print(Yargmax.shape, Yargmax.dtype)\n",
    "\n",
    "acc_tensor = tf.equal(name=None, x=Y_argmax, y=Yargmax)\n",
    "print(acc_tensor.shape, acc_tensor.dtype)\n",
    "# cast bool to int datatype for equal\n",
    "acc_tensor = tf.cast(dtype=tf.float32, name=None, x=acc_tensor)\n",
    "print(acc_tensor.shape, acc_tensor.dtype)\n",
    "acc = tf.reduce_mean(axis=0, input_tensor=acc_tensor)\n",
    "print(acc.shape, acc.dtype)"
   ]
  },
  {
   "cell_type": "code",
   "execution_count": 36,
   "metadata": {
    "scrolled": true
   },
   "outputs": [],
   "source": [
    "def get_batches(X, Y, batch_size):\n",
    "    \"\"\" Return a generator for batches \"\"\"\n",
    "    n_batches = len(X) // batch_size\n",
    "    X, Y = X[:n_batches*batch_size], Y[:n_batches*batch_size]\n",
    "\n",
    "    # Loop over batches and yield\n",
    "    for b in range(0, len(X), batch_size):\n",
    "        yield X[b:b+batch_size], Y[b:b+batch_size]"
   ]
  },
  {
   "cell_type": "code",
   "execution_count": 26,
   "metadata": {},
   "outputs": [
    {
     "name": "stdout",
     "output_type": "stream",
     "text": [
      "epoch: 1 train_loss: 670.65674 valid_loss: 645.3366 train_acc: 0.15208521 valid_acc: 0.1536718\n",
      "epoch: 2 train_loss: 630.3382 valid_loss: 605.8904 train_acc: 0.15797824 valid_acc: 0.15911151\n",
      "epoch: 3 train_loss: 592.2117 valid_loss: 569.2757 train_acc: 0.16500452 valid_acc: 0.17951043\n",
      "epoch: 4 train_loss: 556.8845 valid_loss: 537.3931 train_acc: 0.19424298 valid_acc: 0.24660018\n",
      "epoch: 5 train_loss: 526.693 valid_loss: 510.95224 train_acc: 0.2620127 valid_acc: 0.28331822\n",
      "epoch: 6 train_loss: 500.9778 valid_loss: 487.4283 train_acc: 0.28717136 valid_acc: 0.2978241\n",
      "epoch: 7 train_loss: 477.71582 valid_loss: 466.00247 train_acc: 0.29873073 valid_acc: 0.30825022\n",
      "epoch: 8 train_loss: 456.794 valid_loss: 446.57397 train_acc: 0.31233 valid_acc: 0.32003626\n",
      "epoch: 9 train_loss: 437.79974 valid_loss: 428.97012 train_acc: 0.31912965 valid_acc: 0.32456934\n",
      "epoch: 10 train_loss: 420.33344 valid_loss: 412.98056 train_acc: 0.32456934 valid_acc: 0.32502267\n",
      "epoch: 11 train_loss: 404.21527 valid_loss: 398.28116 train_acc: 0.32502264 valid_acc: 0.32774252\n",
      "epoch: 12 train_loss: 389.31265 valid_loss: 384.84076 train_acc: 0.32343608 valid_acc: 0.32728922\n",
      "epoch: 13 train_loss: 375.55273 valid_loss: 372.43472 train_acc: 0.3243427 valid_acc: 0.32819584\n",
      "epoch: 14 train_loss: 362.84476 valid_loss: 361.06296 train_acc: 0.3243427 valid_acc: 0.33046237\n",
      "epoch: 15 train_loss: 351.16733 valid_loss: 350.69598 train_acc: 0.32751587 valid_acc: 0.3309157\n",
      "epoch: 16 train_loss: 340.44208 valid_loss: 341.08603 train_acc: 0.3263826 valid_acc: 0.3309157\n",
      "epoch: 17 train_loss: 330.432 valid_loss: 332.13113 train_acc: 0.32411605 valid_acc: 0.32819584\n",
      "epoch: 18 train_loss: 321.1958 valid_loss: 323.78815 train_acc: 0.32207614 valid_acc: 0.32774252\n",
      "epoch: 19 train_loss: 312.68176 valid_loss: 316.016 train_acc: 0.31958294 valid_acc: 0.3268359\n",
      "epoch: 20 train_loss: 304.77444 valid_loss: 308.85147 train_acc: 0.3173164 valid_acc: 0.3268359\n",
      "epoch: 21 train_loss: 297.38406 valid_loss: 302.21692 train_acc: 0.31550318 valid_acc: 0.32592928\n",
      "epoch: 22 train_loss: 290.50378 valid_loss: 296.00137 train_acc: 0.31504986 valid_acc: 0.32502267\n",
      "epoch: 23 train_loss: 284.0655 valid_loss: 290.03745 train_acc: 0.31595647 valid_acc: 0.3268359\n",
      "epoch: 24 train_loss: 277.94437 valid_loss: 284.38226 train_acc: 0.31754306 valid_acc: 0.32819584\n",
      "epoch: 25 train_loss: 272.0673 valid_loss: 278.9991 train_acc: 0.318903 valid_acc: 0.32864913\n",
      "epoch: 26 train_loss: 266.36884 valid_loss: 273.76053 train_acc: 0.32207614 valid_acc: 0.33272892\n",
      "epoch: 27 train_loss: 260.83093 valid_loss: 268.63644 train_acc: 0.32456934 valid_acc: 0.3368087\n",
      "epoch: 28 train_loss: 255.41437 valid_loss: 263.61356 train_acc: 0.32728922 valid_acc: 0.3363554\n",
      "epoch: 29 train_loss: 250.11761 valid_loss: 258.67673 train_acc: 0.32910246 valid_acc: 0.33952856\n",
      "epoch: 30 train_loss: 244.90402 valid_loss: 253.8418 train_acc: 0.330689 valid_acc: 0.34360835\n",
      "epoch: 31 train_loss: 239.77986 valid_loss: 249.1043 train_acc: 0.33272892 valid_acc: 0.34723482\n",
      "epoch: 32 train_loss: 234.7391 valid_loss: 244.471 train_acc: 0.33703536 valid_acc: 0.34950137\n",
      "epoch: 33 train_loss: 229.78204 valid_loss: 239.90396 train_acc: 0.34020853 valid_acc: 0.35086128\n",
      "epoch: 34 train_loss: 224.90889 valid_loss: 235.4297 train_acc: 0.343835 valid_acc: 0.35358113\n",
      "epoch: 35 train_loss: 220.11957 valid_loss: 231.03336 train_acc: 0.34746146 valid_acc: 0.35856754\n",
      "epoch: 36 train_loss: 215.42328 valid_loss: 226.70892 train_acc: 0.35086128 valid_acc: 0.36264732\n",
      "epoch: 37 train_loss: 210.80928 valid_loss: 222.48701 train_acc: 0.3542611 valid_acc: 0.3667271\n",
      "epoch: 38 train_loss: 206.29712 valid_loss: 218.3837 train_acc: 0.35788757 valid_acc: 0.3712602\n",
      "epoch: 39 train_loss: 201.88425 valid_loss: 214.39369 train_acc: 0.362194 valid_acc: 0.3766999\n",
      "epoch: 40 train_loss: 197.56491 valid_loss: 210.52072 train_acc: 0.36786038 valid_acc: 0.3816863\n",
      "epoch: 41 train_loss: 193.35378 valid_loss: 206.78535 train_acc: 0.37579328 valid_acc: 0.39211243\n",
      "epoch: 42 train_loss: 189.29587 valid_loss: 203.20195 train_acc: 0.3855394 valid_acc: 0.39845875\n",
      "epoch: 43 train_loss: 185.38667 valid_loss: 199.7556 train_acc: 0.3932457 valid_acc: 0.40797824\n",
      "epoch: 44 train_loss: 181.63206 valid_loss: 196.46501 train_acc: 0.4036718 valid_acc: 0.4215775\n",
      "epoch: 45 train_loss: 178.01373 valid_loss: 193.29262 train_acc: 0.41432458 valid_acc: 0.42883047\n",
      "epoch: 46 train_loss: 174.55675 valid_loss: 190.21065 train_acc: 0.4256573 valid_acc: 0.43381685\n",
      "epoch: 47 train_loss: 171.23463 valid_loss: 187.22478 train_acc: 0.43585676 valid_acc: 0.43880326\n",
      "epoch: 48 train_loss: 168.02876 valid_loss: 184.3406 train_acc: 0.44424298 valid_acc: 0.4465095\n",
      "epoch: 49 train_loss: 164.91791 valid_loss: 181.57277 train_acc: 0.45149595 valid_acc: 0.45149592\n",
      "epoch: 50 train_loss: 161.87918 valid_loss: 178.90338 train_acc: 0.45738894 valid_acc: 0.45648232\n",
      "epoch: 51 train_loss: 158.92468 valid_loss: 176.32367 train_acc: 0.4635086 valid_acc: 0.4596555\n",
      "epoch: 52 train_loss: 156.06189 valid_loss: 173.81465 train_acc: 0.46917498 valid_acc: 0.46192202\n",
      "epoch: 53 train_loss: 153.29071 valid_loss: 171.37997 train_acc: 0.474388 valid_acc: 0.4646419\n",
      "epoch: 54 train_loss: 150.58821 valid_loss: 169.03224 train_acc: 0.47869447 valid_acc: 0.46554852\n",
      "epoch: 55 train_loss: 147.97128 valid_loss: 166.75117 train_acc: 0.48572075 valid_acc: 0.47280145\n",
      "epoch: 56 train_loss: 145.44058 valid_loss: 164.53148 train_acc: 0.49048048 valid_acc: 0.48186764\n",
      "epoch: 57 train_loss: 142.97375 valid_loss: 162.38641 train_acc: 0.49682683 valid_acc: 0.48912057\n",
      "epoch: 58 train_loss: 140.58284 valid_loss: 160.3216 train_acc: 0.5047597 valid_acc: 0.49682683\n",
      "epoch: 59 train_loss: 138.25226 valid_loss: 158.3113 train_acc: 0.512466 valid_acc: 0.50362647\n",
      "epoch: 60 train_loss: 135.97414 valid_loss: 156.34871 train_acc: 0.51903903 valid_acc: 0.5108794\n",
      "epoch: 61 train_loss: 133.75159 valid_loss: 154.44453 train_acc: 0.5267452 valid_acc: 0.5208522\n",
      "epoch: 62 train_loss: 131.58566 valid_loss: 152.58946 train_acc: 0.5337715 valid_acc: 0.5258386\n",
      "epoch: 63 train_loss: 129.48143 valid_loss: 150.78122 train_acc: 0.54102445 valid_acc: 0.5312783\n",
      "epoch: 64 train_loss: 127.43143 valid_loss: 149.00665 train_acc: 0.5469175 valid_acc: 0.5358114\n",
      "epoch: 65 train_loss: 125.43683 valid_loss: 147.27428 train_acc: 0.5523572 valid_acc: 0.5398912\n",
      "epoch: 66 train_loss: 123.48741 valid_loss: 145.58554 train_acc: 0.5582502 valid_acc: 0.54759747\n",
      "epoch: 67 train_loss: 121.58174 valid_loss: 143.93909 train_acc: 0.56278336 valid_acc: 0.55122393\n",
      "epoch: 68 train_loss: 119.72316 valid_loss: 142.32712 train_acc: 0.5677697 valid_acc: 0.55575705\n",
      "epoch: 69 train_loss: 117.905594 valid_loss: 140.74413 train_acc: 0.5727561 valid_acc: 0.5602901\n",
      "epoch: 70 train_loss: 116.11911 valid_loss: 139.19437 train_acc: 0.5788758 valid_acc: 0.5643699\n",
      "epoch: 71 train_loss: 114.36947 valid_loss: 137.65367 train_acc: 0.5840888 valid_acc: 0.5648232\n",
      "epoch: 72 train_loss: 112.651794 valid_loss: 136.12021 train_acc: 0.5881686 valid_acc: 0.5693563\n",
      "epoch: 73 train_loss: 110.95676 valid_loss: 134.60225 train_acc: 0.5911151 valid_acc: 0.57116956\n",
      "epoch: 74 train_loss: 109.28648 valid_loss: 133.10437 train_acc: 0.5949683 valid_acc: 0.5738894\n",
      "epoch: 75 train_loss: 107.64454 valid_loss: 131.6177 train_acc: 0.59814143 valid_acc: 0.5757026\n",
      "epoch: 76 train_loss: 106.02829 valid_loss: 130.14247 train_acc: 0.6013146 valid_acc: 0.57660925\n",
      "epoch: 77 train_loss: 104.429 valid_loss: 128.68602 train_acc: 0.6040344 valid_acc: 0.5784225\n",
      "epoch: 78 train_loss: 102.855034 valid_loss: 127.24936 train_acc: 0.6069809 valid_acc: 0.580689\n",
      "epoch: 79 train_loss: 101.301895 valid_loss: 125.83325 train_acc: 0.61060745 valid_acc: 0.58250225\n",
      "epoch: 80 train_loss: 99.76811 valid_loss: 124.43912 train_acc: 0.61332726 valid_acc: 0.5852221\n",
      "epoch: 81 train_loss: 98.24951 valid_loss: 123.081665 train_acc: 0.61808705 valid_acc: 0.5893019\n",
      "epoch: 82 train_loss: 96.75121 valid_loss: 121.75013 train_acc: 0.62080693 valid_acc: 0.59202176\n",
      "epoch: 83 train_loss: 95.26984 valid_loss: 120.448296 train_acc: 0.6235267 valid_acc: 0.59519494\n",
      "epoch: 84 train_loss: 93.811035 valid_loss: 119.158134 train_acc: 0.6251133 valid_acc: 0.5965549\n",
      "epoch: 85 train_loss: 92.37442 valid_loss: 117.88105 train_acc: 0.6278332 valid_acc: 0.5988214\n",
      "epoch: 86 train_loss: 90.964035 valid_loss: 116.62074 train_acc: 0.631233 valid_acc: 0.6010879\n",
      "epoch: 87 train_loss: 89.585 valid_loss: 115.381645 train_acc: 0.6355394 valid_acc: 0.6033545\n",
      "epoch: 88 train_loss: 88.23587 valid_loss: 114.17799 train_acc: 0.6384859 valid_acc: 0.60607433\n",
      "epoch: 89 train_loss: 86.917564 valid_loss: 113.005325 train_acc: 0.64165914 valid_acc: 0.6097008\n"
     ]
    },
    {
     "name": "stdout",
     "output_type": "stream",
     "text": [
      "epoch: 90 train_loss: 85.62344 valid_loss: 111.8664 train_acc: 0.64392567 valid_acc: 0.61060745\n",
      "epoch: 91 train_loss: 84.352234 valid_loss: 110.75596 train_acc: 0.64687216 valid_acc: 0.6142339\n",
      "epoch: 92 train_loss: 83.10892 valid_loss: 109.67498 train_acc: 0.65231186 valid_acc: 0.618767\n",
      "epoch: 93 train_loss: 81.89351 valid_loss: 108.63427 train_acc: 0.65548503 valid_acc: 0.62148684\n",
      "epoch: 94 train_loss: 80.70171 valid_loss: 107.62333 train_acc: 0.6582049 valid_acc: 0.6237534\n",
      "epoch: 95 train_loss: 79.53734 valid_loss: 106.64064 train_acc: 0.66251135 valid_acc: 0.62692654\n",
      "epoch: 96 train_loss: 78.39294 valid_loss: 105.666725 train_acc: 0.66568446 valid_acc: 0.63055307\n",
      "epoch: 97 train_loss: 77.264465 valid_loss: 104.69458 train_acc: 0.6681777 valid_acc: 0.6337262\n",
      "epoch: 98 train_loss: 76.15454 valid_loss: 103.72332 train_acc: 0.67135084 valid_acc: 0.63644606\n",
      "epoch: 99 train_loss: 75.06148 valid_loss: 102.758965 train_acc: 0.675204 valid_acc: 0.63689935\n",
      "epoch: 100 train_loss: 73.98395 valid_loss: 101.80175 train_acc: 0.6779238 valid_acc: 0.63961923\n",
      "epoch: 101 train_loss: 72.92332 valid_loss: 100.856064 train_acc: 0.68087035 valid_acc: 0.64143246\n",
      "epoch: 102 train_loss: 71.87879 valid_loss: 99.92043 train_acc: 0.68540347 valid_acc: 0.6432457\n",
      "epoch: 103 train_loss: 70.84684 valid_loss: 98.98596 train_acc: 0.6894832 valid_acc: 0.6455122\n",
      "epoch: 104 train_loss: 69.82344 valid_loss: 98.05163 train_acc: 0.6919764 valid_acc: 0.6482321\n",
      "epoch: 105 train_loss: 68.81296 valid_loss: 97.13771 train_acc: 0.6951496 valid_acc: 0.65004534\n",
      "epoch: 106 train_loss: 67.81633 valid_loss: 96.23666 train_acc: 0.6974161 valid_acc: 0.6509519\n",
      "epoch: 107 train_loss: 66.83331 valid_loss: 95.34598 train_acc: 0.7014959 valid_acc: 0.6527652\n",
      "epoch: 108 train_loss: 65.870605 valid_loss: 94.46581 train_acc: 0.7037625 valid_acc: 0.6541251\n",
      "epoch: 109 train_loss: 64.92736 valid_loss: 93.59521 train_acc: 0.7062557 valid_acc: 0.656845\n",
      "epoch: 110 train_loss: 63.99995 valid_loss: 92.73031 train_acc: 0.7080689 valid_acc: 0.6582049\n",
      "epoch: 111 train_loss: 63.086105 valid_loss: 91.87001 train_acc: 0.7105621 valid_acc: 0.65956485\n",
      "epoch: 112 train_loss: 62.185463 valid_loss: 91.02145 train_acc: 0.71192205 valid_acc: 0.66092473\n",
      "epoch: 113 train_loss: 61.296234 valid_loss: 90.18809 train_acc: 0.71441525 valid_acc: 0.6640979\n",
      "epoch: 114 train_loss: 60.42141 valid_loss: 89.375275 train_acc: 0.71736175 valid_acc: 0.6645512\n",
      "epoch: 115 train_loss: 59.562622 valid_loss: 88.58717 train_acc: 0.72030824 valid_acc: 0.66545784\n",
      "epoch: 116 train_loss: 58.716187 valid_loss: 87.818855 train_acc: 0.7234814 valid_acc: 0.6668178\n",
      "epoch: 117 train_loss: 57.88354 valid_loss: 87.06129 train_acc: 0.72529465 valid_acc: 0.6681777\n",
      "epoch: 118 train_loss: 57.05971 valid_loss: 86.31135 train_acc: 0.72801447 valid_acc: 0.6718042\n",
      "epoch: 119 train_loss: 56.242706 valid_loss: 85.57301 train_acc: 0.7289211 valid_acc: 0.674524\n",
      "epoch: 120 train_loss: 55.432884 valid_loss: 84.839516 train_acc: 0.730961 valid_acc: 0.67543066\n",
      "epoch: 121 train_loss: 54.63247 valid_loss: 84.106705 train_acc: 0.7341342 valid_acc: 0.6767906\n",
      "epoch: 122 train_loss: 53.844673 valid_loss: 83.37179 train_acc: 0.7364007 valid_acc: 0.6776972\n",
      "epoch: 123 train_loss: 53.064705 valid_loss: 82.63622 train_acc: 0.7379873 valid_acc: 0.6795104\n",
      "epoch: 124 train_loss: 52.291454 valid_loss: 81.90762 train_acc: 0.7395739 valid_acc: 0.68087035\n",
      "epoch: 125 train_loss: 51.5281 valid_loss: 81.19255 train_acc: 0.7418404 valid_acc: 0.6822303\n",
      "epoch: 126 train_loss: 50.771545 valid_loss: 80.497284 train_acc: 0.74365366 valid_acc: 0.68540347\n",
      "epoch: 127 train_loss: 50.025513 valid_loss: 79.8168 train_acc: 0.74637353 valid_acc: 0.68585676\n",
      "epoch: 128 train_loss: 49.29313 valid_loss: 79.13715 train_acc: 0.74886674 valid_acc: 0.68676335\n",
      "epoch: 129 train_loss: 48.56966 valid_loss: 78.4578 train_acc: 0.7502266 valid_acc: 0.6894832\n",
      "epoch: 130 train_loss: 47.85755 valid_loss: 77.78564 train_acc: 0.7527199 valid_acc: 0.69174975\n",
      "epoch: 131 train_loss: 47.15704 valid_loss: 77.12305 train_acc: 0.75339985 valid_acc: 0.6926564\n",
      "epoch: 132 train_loss: 46.46379 valid_loss: 76.477165 train_acc: 0.7547598 valid_acc: 0.6958296\n",
      "epoch: 133 train_loss: 45.781265 valid_loss: 75.84303 train_acc: 0.75883955 valid_acc: 0.69628286\n",
      "epoch: 134 train_loss: 45.118073 valid_loss: 75.2167 train_acc: 0.76178604 valid_acc: 0.69628286\n",
      "epoch: 135 train_loss: 44.468468 valid_loss: 74.597885 train_acc: 0.76450586 valid_acc: 0.69628286\n",
      "epoch: 136 train_loss: 43.83182 valid_loss: 73.98672 train_acc: 0.7656392 valid_acc: 0.6976428\n",
      "epoch: 137 train_loss: 43.204796 valid_loss: 73.39149 train_acc: 0.7688123 valid_acc: 0.69945604\n",
      "epoch: 138 train_loss: 42.584274 valid_loss: 72.80667 train_acc: 0.77017224 valid_acc: 0.700816\n",
      "epoch: 139 train_loss: 41.971046 valid_loss: 72.227905 train_acc: 0.77243876 valid_acc: 0.70172256\n",
      "epoch: 140 train_loss: 41.369385 valid_loss: 71.65375 train_acc: 0.77470535 valid_acc: 0.7030825\n",
      "epoch: 141 train_loss: 40.780663 valid_loss: 71.08309 train_acc: 0.7767452 valid_acc: 0.705349\n",
      "epoch: 142 train_loss: 40.201317 valid_loss: 70.50863 train_acc: 0.7783318 valid_acc: 0.7062557\n",
      "epoch: 143 train_loss: 39.62626 valid_loss: 69.94223 train_acc: 0.7796917 valid_acc: 0.7076156\n",
      "epoch: 144 train_loss: 39.058643 valid_loss: 69.40126 train_acc: 0.780825 valid_acc: 0.7089755\n",
      "epoch: 145 train_loss: 38.499092 valid_loss: 68.88635 train_acc: 0.7828649 valid_acc: 0.7112421\n",
      "epoch: 146 train_loss: 37.94792 valid_loss: 68.37969 train_acc: 0.7855848 valid_acc: 0.71214867\n",
      "epoch: 147 train_loss: 37.405914 valid_loss: 67.87119 train_acc: 0.7864914 valid_acc: 0.7135086\n",
      "epoch: 148 train_loss: 36.87393 valid_loss: 67.36102 train_acc: 0.7894379 valid_acc: 0.71441525\n",
      "epoch: 149 train_loss: 36.354332 valid_loss: 66.854385 train_acc: 0.79102445 valid_acc: 0.71532184\n",
      "epoch: 150 train_loss: 35.846737 valid_loss: 66.35864 train_acc: 0.793291 valid_acc: 0.7162285\n",
      "epoch: 151 train_loss: 35.350998 valid_loss: 65.87817 train_acc: 0.7944243 valid_acc: 0.7162285\n",
      "epoch: 152 train_loss: 34.866585 valid_loss: 65.403435 train_acc: 0.7962375 valid_acc: 0.7175884\n",
      "epoch: 153 train_loss: 34.392044 valid_loss: 64.92694 train_acc: 0.7973708 valid_acc: 0.7189483\n",
      "epoch: 154 train_loss: 33.922302 valid_loss: 64.45107 train_acc: 0.79873073 valid_acc: 0.7212149\n",
      "epoch: 155 train_loss: 33.456154 valid_loss: 63.97609 train_acc: 0.79895735 valid_acc: 0.7239347\n",
      "epoch: 156 train_loss: 32.99771 valid_loss: 63.51412 train_acc: 0.80099726 valid_acc: 0.72484136\n",
      "epoch: 157 train_loss: 32.54673 valid_loss: 63.066235 train_acc: 0.80303717 valid_acc: 0.7266546\n",
      "epoch: 158 train_loss: 32.1019 valid_loss: 62.622066 train_acc: 0.80326384 valid_acc: 0.7280145\n",
      "epoch: 159 train_loss: 31.665764 valid_loss: 62.17604 train_acc: 0.8043971 valid_acc: 0.7293744\n",
      "epoch: 160 train_loss: 31.235123 valid_loss: 61.734093 train_acc: 0.8053037 valid_acc: 0.73028105\n",
      "epoch: 161 train_loss: 30.810612 valid_loss: 61.302536 train_acc: 0.8080236 valid_acc: 0.73028105\n",
      "epoch: 162 train_loss: 30.393978 valid_loss: 60.884026 train_acc: 0.80893016 valid_acc: 0.731641\n",
      "epoch: 163 train_loss: 29.982773 valid_loss: 60.478504 train_acc: 0.8102901 valid_acc: 0.73300093\n",
      "epoch: 164 train_loss: 29.579273 valid_loss: 60.082283 train_acc: 0.81074345 valid_acc: 0.73526746\n",
      "epoch: 165 train_loss: 29.183624 valid_loss: 59.690247 train_acc: 0.81233 valid_acc: 0.737534\n",
      "epoch: 166 train_loss: 28.792538 valid_loss: 59.300316 train_acc: 0.8150499 valid_acc: 0.7379873\n",
      "epoch: 167 train_loss: 28.406376 valid_loss: 58.91102 train_acc: 0.8179964 valid_acc: 0.7379873\n",
      "epoch: 168 train_loss: 28.025997 valid_loss: 58.52069 train_acc: 0.81912965 valid_acc: 0.73844063\n",
      "epoch: 169 train_loss: 27.651222 valid_loss: 58.135704 train_acc: 0.8202629 valid_acc: 0.7388939\n",
      "epoch: 170 train_loss: 27.284988 valid_loss: 57.762047 train_acc: 0.82162285 valid_acc: 0.74025387\n",
      "epoch: 171 train_loss: 26.924133 valid_loss: 57.39649 train_acc: 0.8227561 valid_acc: 0.7416138\n",
      "epoch: 172 train_loss: 26.567205 valid_loss: 57.038067 train_acc: 0.82411605 valid_acc: 0.7420671\n",
      "epoch: 173 train_loss: 26.21355 valid_loss: 56.683945 train_acc: 0.82547593 valid_acc: 0.74342704\n",
      "epoch: 174 train_loss: 25.865768 valid_loss: 56.335045 train_acc: 0.8259293 valid_acc: 0.7447869\n",
      "epoch: 175 train_loss: 25.523468 valid_loss: 55.99766 train_acc: 0.8277425 valid_acc: 0.74614686\n",
      "epoch: 176 train_loss: 25.18547 valid_loss: 55.672398 train_acc: 0.82751584 valid_acc: 0.7466002\n"
     ]
    },
    {
     "name": "stdout",
     "output_type": "stream",
     "text": [
      "epoch: 177 train_loss: 24.851437 valid_loss: 55.348473 train_acc: 0.8277426 valid_acc: 0.74886674\n",
      "epoch: 178 train_loss: 24.519058 valid_loss: 55.02217 train_acc: 0.82864916 valid_acc: 0.75158656\n",
      "epoch: 179 train_loss: 24.193146 valid_loss: 54.70463 train_acc: 0.8309157 valid_acc: 0.7524932\n",
      "epoch: 180 train_loss: 23.875069 valid_loss: 54.400936 train_acc: 0.8322756 valid_acc: 0.7556664\n",
      "epoch: 181 train_loss: 23.562023 valid_loss: 54.105045 train_acc: 0.8329556 valid_acc: 0.75611967\n",
      "epoch: 182 train_loss: 23.253464 valid_loss: 53.80928 train_acc: 0.83431554 valid_acc: 0.75611967\n",
      "epoch: 183 train_loss: 22.951523 valid_loss: 53.515076 train_acc: 0.8363554 valid_acc: 0.7579329\n",
      "epoch: 184 train_loss: 22.657883 valid_loss: 53.22886 train_acc: 0.838622 valid_acc: 0.7583862\n",
      "epoch: 185 train_loss: 22.37156 valid_loss: 52.952473 train_acc: 0.83998185 valid_acc: 0.75883955\n",
      "epoch: 186 train_loss: 22.087234 valid_loss: 52.678143 train_acc: 0.84043515 valid_acc: 0.75883955\n",
      "epoch: 187 train_loss: 21.806438 valid_loss: 52.398365 train_acc: 0.84224844 valid_acc: 0.75883955\n",
      "epoch: 188 train_loss: 21.529556 valid_loss: 52.112366 train_acc: 0.8429284 valid_acc: 0.75883955\n",
      "epoch: 189 train_loss: 21.25859 valid_loss: 51.829815 train_acc: 0.8442883 valid_acc: 0.75929284\n",
      "epoch: 190 train_loss: 20.997126 valid_loss: 51.561268 train_acc: 0.84519494 valid_acc: 0.7601994\n",
      "epoch: 191 train_loss: 20.740839 valid_loss: 51.303318 train_acc: 0.84700817 valid_acc: 0.7611061\n",
      "epoch: 192 train_loss: 20.488493 valid_loss: 51.04918 train_acc: 0.84723485 valid_acc: 0.76155937\n",
      "epoch: 193 train_loss: 20.238441 valid_loss: 50.79563 train_acc: 0.84814143 valid_acc: 0.7620127\n",
      "epoch: 194 train_loss: 19.98974 valid_loss: 50.54217 train_acc: 0.849048 valid_acc: 0.762466\n",
      "epoch: 195 train_loss: 19.743359 valid_loss: 50.290276 train_acc: 0.849728 valid_acc: 0.7629193\n",
      "epoch: 196 train_loss: 19.500877 valid_loss: 50.042885 train_acc: 0.8510879 valid_acc: 0.76427925\n",
      "epoch: 197 train_loss: 19.262905 valid_loss: 49.799282 train_acc: 0.85244787 valid_acc: 0.76427925\n",
      "epoch: 198 train_loss: 19.030235 valid_loss: 49.552902 train_acc: 0.85358113 valid_acc: 0.76473254\n",
      "epoch: 199 train_loss: 18.801273 valid_loss: 49.309486 train_acc: 0.85494107 valid_acc: 0.76473254\n",
      "epoch: 200 train_loss: 18.57602 valid_loss: 49.080624 train_acc: 0.8565277 valid_acc: 0.76518583\n"
     ]
    }
   ],
   "source": [
    "# We should save the after training and validation\n",
    "saver = tf.train.Saver() \n",
    "train_loss_mean, valid_loss_mean = [], []\n",
    "train_acc_mean, valid_acc_mean = [], []\n",
    "\n",
    "# now that we can calculate loss and optimize, we can start a session for calculating the error.\n",
    "with tf.Session() as sess:\n",
    "    sess.run(fetches=tf.global_variables_initializer())\n",
    "    \n",
    "    # for every epoch start feeding the arrays into the tensors in the model\n",
    "    for epoch in range(0, 200, 1):\n",
    "        train_loss, valid_loss = [], []\n",
    "        train_acc, valid_acc = [], []\n",
    "        \n",
    "        # Training minibatches and feed them into the tensor\n",
    "        for Xarr, Yarr in get_batches(X=Xtrain, Y=Ytrain, batch_size=Xvalid.shape[0]):\n",
    "            # X_NxWxCin, Y_NxCout\n",
    "            feed_dict = {X:Xarr, Y:Yarr}\n",
    "            lossarr, _, accarr = sess.run(feed_dict=feed_dict, fetches=[loss, opt, acc])\n",
    "            train_loss.append(lossarr)\n",
    "            train_acc.append(accarr)\n",
    "            \n",
    "        # Validation now which is one batch on every iteration\n",
    "        for Xarr, Yarr in get_batches(X=Xvalid, Y=Yvalid, batch_size=Xvalid.shape[0]): \n",
    "            # X_NxWxCin, Y_NxCout\n",
    "            feed_dict = {X:Xarr, Y:Yarr}\n",
    "            lossarr, accarr = sess.run(feed_dict=feed_dict, fetches=[loss, acc])\n",
    "            valid_loss.append(lossarr)\n",
    "            valid_acc.append(accarr)\n",
    "        \n",
    "        # printing out train and validation loss\n",
    "        print('epoch:', epoch+1, 'train_loss:', np.mean(train_loss), 'valid_loss:', np.mean(valid_loss),\n",
    "             'train_acc:', np.mean(train_acc), 'valid_acc:', np.mean(valid_acc))\n",
    "        \n",
    "        # Every epoch, for drawing the plot and their learning curve\n",
    "        train_loss_mean.append(np.mean(train_loss))\n",
    "        valid_loss_mean.append(np.mean(valid_loss))\n",
    "        train_acc_mean.append(np.mean(train_acc))\n",
    "        valid_acc_mean.append(np.mean(valid_acc))\n",
    "        \n",
    "    # After all epochs and at the end of training and validation\n",
    "    saver.save(sess,'checkpoints/cnn-imu-har.ckpt')"
   ]
  },
  {
   "cell_type": "code",
   "execution_count": 27,
   "metadata": {},
   "outputs": [
    {
     "data": {
      "text/plain": [
       "<matplotlib.legend.Legend at 0x7fa09003c9e8>"
      ]
     },
     "execution_count": 27,
     "metadata": {},
     "output_type": "execute_result"
    },
    {
     "data": {
      "image/png": "[encoded data removed]",
      "text/plain": [
       "<Figure size 432x288 with 1 Axes>"
      ]
     },
     "metadata": {},
     "output_type": "display_data"
    }
   ],
   "source": [
    "import matplotlib.pyplot as mplot\n",
    "%matplotlib inline\n",
    "\n",
    "mplot.plot(train_loss_mean, label='train_loss_mean')\n",
    "mplot.plot(valid_loss_mean, label='valid_loss_mean')\n",
    "mplot.legend()"
   ]
  },
  {
   "cell_type": "code",
   "execution_count": 28,
   "metadata": {},
   "outputs": [
    {
     "data": {
      "text/plain": [
       "<matplotlib.legend.Legend at 0x7fa0747a0908>"
      ]
     },
     "execution_count": 28,
     "metadata": {},
     "output_type": "execute_result"
    },
    {
     "data": {
      "image/png": "[encoded data removed]",
      "text/plain": [
       "<Figure size 432x288 with 1 Axes>"
      ]
     },
     "metadata": {},
     "output_type": "display_data"
    }
   ],
   "source": [
    "mplot.plot(train_acc_mean, label='train_acc_mean')\n",
    "mplot.plot(valid_acc_mean, label='valid_acc_mean')\n",
    "mplot.legend()"
   ]
  },
  {
   "cell_type": "code",
   "execution_count": 29,
   "metadata": {},
   "outputs": [
    {
     "name": "stdout",
     "output_type": "stream",
     "text": [
      "INFO:tensorflow:Restoring parameters from checkpoints/cnn-imu-har.ckpt\n",
      "test_loss: 68.55156 test acc 0.6976428\n"
     ]
    }
   ],
   "source": [
    "with tf.Session() as sess:\n",
    "    sess.run(fetches=tf.global_variables_initializer())\n",
    "    \n",
    "    # Loading the trained and validated model\n",
    "    saver.restore(save_path=tf.train.latest_checkpoint(checkpoint_dir='checkpoints/'), sess=sess)\n",
    "    \n",
    "    # Saving the test loss for every batch/minibtch\n",
    "    test_loss, test_acc = [], []\n",
    "    \n",
    "    # applying the loaded model on test data\n",
    "    for Xarr, Yarr in get_batches(X=Xtest, Y=Ytest, batch_size=Xvalid.shape[0]): \n",
    "        # X_NxWXCin, Y_NxCout\n",
    "        feed_dict={X:Xarr, Y:Yarr}\n",
    "        lossarr, accarr = sess.run(feed_dict=feed_dict, fetches=[loss, acc])\n",
    "        test_loss.append(lossarr)\n",
    "        test_acc.append(accarr)\n",
    "        \n",
    "    # Printing the test loss\n",
    "    print('test_loss:', np.mean(test_loss), 'test acc', np.mean(test_acc))"
   ]
  },
  {
   "cell_type": "code",
   "execution_count": null,
   "metadata": {},
   "outputs": [],
   "source": []
  }
 ],
 "metadata": {
  "kernelspec": {
   "display_name": "Python 3",
   "language": "python",
   "name": "python3"
  },
  "language_info": {
   "codemirror_mode": {
    "name": "ipython",
    "version": 3
   },
   "file_extension": ".py",
   "mimetype": "text/x-python",
   "name": "python",
   "nbconvert_exporter": "python",
   "pygments_lexer": "ipython3",
   "version": "3.6.5"
  },
  "widgets": {
   "state": {},
   "version": "1.1.2"
  }
 },
 "nbformat": 4,
 "nbformat_minor": 2
}
