{
 "cells": [
  {
   "cell_type": "code",
   "execution_count": 1,
   "metadata": {},
   "outputs": [],
   "source": [
    "# HAR classification \n",
    "# Author: Burak Himmetoglu\n",
    "# 8/15/2017\n",
    "\n",
    "import pandas as pd \n",
    "import numpy as np\n",
    "import os\n",
    "\n",
    "def read_data(data_path, split = \"train\"):\n",
    "\t\"\"\" Read data \"\"\"\n",
    "\n",
    "\t# Fixed params\n",
    "\tn_class = 6\n",
    "\tn_steps = 128\n",
    "\n",
    "\t# Paths\n",
    "\tpath_ = os.path.join(data_path, split)\n",
    "\tpath_signals = os.path.join(path_, \"Inertial_Signals\")\n",
    "\n",
    "\t# Read labels and one-hot encode\n",
    "\tlabel_path = os.path.join(path_, \"y_\" + split + \".txt\")\n",
    "\tlabels = pd.read_csv(label_path, header = None)\n",
    "\n",
    "\t# Read time-series data\n",
    "\tchannel_files = os.listdir(path_signals)\n",
    "\tchannel_files.sort()\n",
    "\tn_channels = len(channel_files)\n",
    "\tposix = len(split) + 5\n",
    "\n",
    "\t# Initiate array\n",
    "# \tlist_of_channels = []\n",
    "\tX = np.zeros((len(labels), n_steps, n_channels))\n",
    "\ti_ch = 0\n",
    "\tfor fil_ch in channel_files:\n",
    "# \t\tchannel_name = fil_ch[:-posix]\n",
    "\t\tdat_ = pd.read_csv(os.path.join(path_signals,fil_ch), delim_whitespace = True, header = None)\n",
    "\t\tX[:,:,i_ch] = dat_.as_matrix()\n",
    "\n",
    "# \t\t# Record names\n",
    "# \t\tlist_of_channels.append(channel_name)\n",
    "\n",
    "\t\t# iterate\n",
    "\t\ti_ch += 1\n",
    "\n",
    "\t# Return \n",
    "\treturn X, labels[0].values#, list_of_channels\n",
    "\n",
    "# test and train read\n",
    "Xtrain, Ytrain = read_data(data_path=\"/home/arasdar/datasets/har/har-data/\", split=\"train\")\n",
    "Xtest, Ytest = read_data(data_path=\"/home/arasdar/datasets/har/har-data/\", split=\"test\")"
   ]
  },
  {
   "cell_type": "code",
   "execution_count": 2,
   "metadata": {},
   "outputs": [
    {
     "name": "stdout",
     "output_type": "stream",
     "text": [
      "(7352, 128, 9) float64\n",
      "(2947, 128, 9) float64\n"
     ]
    }
   ],
   "source": [
    "# # standardizing/normalizing the train and test data\n",
    "# def standardize(train, test):\n",
    "# \"\"\" Standardize data \"\"\"\n",
    "# # Standardize train and test\n",
    "# X_train = (train - np.mean(train, axis=0)[None,:,:]) / np.std(train, axis=0)[None,:,:]\n",
    "# X_test = (test - np.mean(test, axis=0)[None,:,:]) / np.std(test, axis=0)[None,:,:]\n",
    "# return X_train, X_test\n",
    "\n",
    "Xtrain = (Xtrain - Xtrain.mean(axis=0))/ Xtrain.std(axis=0)\n",
    "Xtest = (Xtest - Xtest.mean(axis=0))/ Xtest.std(axis=0)\n",
    "print(Xtrain.shape, Xtrain.dtype)\n",
    "print(Xtest.shape, Xtest.dtype)"
   ]
  },
  {
   "cell_type": "code",
   "execution_count": 3,
   "metadata": {},
   "outputs": [
    {
     "name": "stdout",
     "output_type": "stream",
     "text": [
      "6 6\n",
      "(7352, 6) float64 (2947, 6) float64\n"
     ]
    }
   ],
   "source": [
    "# Onehotencoding of the output labels\n",
    "def onehot(labels, n_class):\n",
    "\t\"\"\" One-hot encoding \"\"\"\n",
    "\texpansion = np.eye(n_class)\n",
    "\ty = expansion[:, labels-1].T\n",
    "\tassert y.shape[1] == n_class, \"Wrong number of labels!\"\n",
    "\n",
    "\treturn y\n",
    "\n",
    "print(Ytrain.max(axis=0), Ytest.max(axis=0))\n",
    "# # assert Y.max(axis=0) == Ytrain.max(axis=0) == Ytest.max(axis=0), 'wrong labels'\n",
    "Ytrain=onehot(labels=Ytrain, n_class=Ytrain.max(axis=0))\n",
    "Ytest=onehot(labels=Ytest, n_class=Ytest.max(axis=0))\n",
    "print(Ytrain.shape, Ytrain.dtype, Ytest.shape, Ytest.dtype)"
   ]
  },
  {
   "cell_type": "code",
   "execution_count": 4,
   "metadata": {},
   "outputs": [
    {
     "name": "stdout",
     "output_type": "stream",
     "text": [
      "(5146, 128, 9) (2206, 128, 9) (2947, 128, 9) float64 float64 float64\n",
      "(5146, 6) (2206, 6) (2947, 6) float64 float64 float64\n"
     ]
    }
   ],
   "source": [
    "from sklearn.model_selection import train_test_split\n",
    "\n",
    "# Now separating train and validation set\n",
    "# 30% of the training data/ entire training data is assigned to validation.\n",
    "Xtrain, Xvalid, Ytrain, Yvalid = train_test_split(Xtrain, Ytrain, test_size=0.30)\n",
    "print(Xtrain.shape, Xvalid.shape, Xtest.shape, Xtrain.dtype, Xvalid.dtype, Xtest.dtype)\n",
    "print(Ytrain.shape, Yvalid.shape, Ytest.shape, Ytrain.dtype, Yvalid.dtype, Ytest.dtype)"
   ]
  },
  {
   "cell_type": "code",
   "execution_count": 5,
   "metadata": {},
   "outputs": [
    {
     "name": "stdout",
     "output_type": "stream",
     "text": [
      "TensorFlow Version: 1.7.0\n",
      "Default GPU Device: /device:GPU:0\n"
     ]
    }
   ],
   "source": [
    "# In this one we should define and detect GPUs for tensorflow\n",
    "# GPUs or CPU\n",
    "import tensorflow as tf\n",
    "\n",
    "# Check TensorFlow Version\n",
    "print('TensorFlow Version: {}'.format(tf.__version__))\n",
    "\n",
    "# Check for a GPU\n",
    "print('Default GPU Device: {}'.format(tf.test.gpu_device_name()))"
   ]
  },
  {
   "cell_type": "code",
   "execution_count": 6,
   "metadata": {},
   "outputs": [
    {
     "name": "stdout",
     "output_type": "stream",
     "text": [
      "(2206, 128, 9) <dtype: 'float32'> (5146, 128, 9) float64 (2206, 128, 9) float64 (2947, 128, 9) float64\n"
     ]
    }
   ],
   "source": [
    "# now I can design the actual input and output tensors\n",
    "N, W, Cin = Xvalid.shape[0], Xvalid.shape[1], Xvalid.shape[2]\n",
    "X = tf.placeholder(dtype=tf.float32, name=None, shape=[N, W, Cin])\n",
    "print(X.shape, X.dtype, Xtrain.shape, Xtrain.dtype, Xvalid.shape, Xvalid.dtype, Xtest.shape, Xtest.dtype)"
   ]
  },
  {
   "cell_type": "code",
   "execution_count": 7,
   "metadata": {},
   "outputs": [
    {
     "name": "stdout",
     "output_type": "stream",
     "text": [
      "(2206, 6) <dtype: 'float32'> (5146, 6) float64 (2206, 6) float64 (2947, 6) float64\n"
     ]
    }
   ],
   "source": [
    "# This is the output tensor for labels\n",
    "N, Cout = Yvalid.shape[0], Yvalid.shape[1]\n",
    "Y = tf.placeholder(dtype=tf.float32, name=None, shape=[N, Cout])\n",
    "print(Y.shape, Y.dtype, Ytrain.shape, Ytrain.dtype, Yvalid.shape, Yvalid.dtype, Ytest.shape, Ytest.dtype)"
   ]
  },
  {
   "cell_type": "code",
   "execution_count": 8,
   "metadata": {},
   "outputs": [
    {
     "name": "stdout",
     "output_type": "stream",
     "text": [
      "(2206, 128, 9) <dtype: 'float32'>\n",
      "(64, 9, 18) <dtype: 'float32_ref'>\n",
      "(2206, 64, 18) <dtype: 'float32'>\n"
     ]
    }
   ],
   "source": [
    "print(X.shape, X.dtype)\n",
    "Wwidth, Wchannels, Wnumber = X.shape[1].value//2, X.shape[2].value, X.shape[2].value*2\n",
    "shape = [Wwidth, Wchannels, Wnumber]\n",
    "initial_value = tf.random_normal(dtype=X.dtype, mean=0.0, name=None, shape=shape, stddev=1.0)\n",
    "Wconv = tf.Variable(dtype=X.dtype, initial_value=initial_value, name=None, trainable=True)\n",
    "print(Wconv.shape, Wconv.dtype)\n",
    "Xconv = tf.nn.conv1d(data_format='NWC', filters=Wconv, name=None, padding='SAME', stride=2, use_cudnn_on_gpu=True, \n",
    "                     value=X)\n",
    "Xconv = tf.maximum(name=None, x=(-0.1*Xconv), y=Xconv)\n",
    "print(Xconv.shape, Xconv.dtype)"
   ]
  },
  {
   "cell_type": "code",
   "execution_count": 9,
   "metadata": {},
   "outputs": [
    {
     "name": "stdout",
     "output_type": "stream",
     "text": [
      "(2206, 1152) <dtype: 'float32'>\n",
      "(1152, 6) <dtype: 'float32_ref'>\n",
      "(2206, 6) <dtype: 'float32'>\n",
      "(2206, 6) <dtype: 'float32'>\n"
     ]
    }
   ],
   "source": [
    "# This is the multiplication layer\n",
    "# this part is flatening the input\n",
    "shape = [Xconv.shape[0].value, Xconv.shape[1].value*Xconv.shape[2].value]\n",
    "Xconv_reshaped = tf.reshape(name=None, shape=shape, tensor=Xconv)\n",
    "print(Xconv_reshaped.shape, Xconv_reshaped.dtype)\n",
    "# their first axis or dimension stay the same\n",
    "shape = [Xconv_reshaped.shape[1].value, Y.shape[1].value]\n",
    "initial_value = tf.random_normal(dtype=Xconv_reshaped.dtype, mean=0.0, name=None, shape=shape, stddev=1.0)\n",
    "W = tf.Variable(dtype=Xconv_reshaped.dtype, initial_value=initial_value, name=None, trainable=True)\n",
    "print(W.shape, W.dtype)\n",
    "# The actual multiplication\n",
    "# Y_ = Xconv_reshaped @ W\n",
    "Y_ = tf.matmul(a=Xconv_reshaped, b=W, name=None)\n",
    "print(Y_.shape, Y_.dtype)\n",
    "print(Y.shape, Y.dtype)"
   ]
  },
  {
   "cell_type": "code",
   "execution_count": 10,
   "metadata": {},
   "outputs": [
    {
     "name": "stdout",
     "output_type": "stream",
     "text": [
      "(2206,) <dtype: 'float32'>\n",
      "Tensor(\"Mean:0\", shape=(), dtype=float32)\n"
     ]
    }
   ],
   "source": [
    "# Now I need to calculate the loss\n",
    "loss_tensor = tf.nn.softmax_cross_entropy_with_logits_v2(labels=Y, logits=Y_, name=None)\n",
    "print(loss_tensor.shape, loss_tensor.dtype)\n",
    "loss = tf.reduce_mean(axis=0, input_tensor=loss_tensor, name=None)\n",
    "print(loss)"
   ]
  },
  {
   "cell_type": "code",
   "execution_count": 11,
   "metadata": {},
   "outputs": [
    {
     "name": "stdout",
     "output_type": "stream",
     "text": [
      "name: \"Adam\"\n",
      "op: \"NoOp\"\n",
      "input: \"^Adam/update_Variable/ApplyAdam\"\n",
      "input: \"^Adam/update_Variable_1/ApplyAdam\"\n",
      "input: \"^Adam/Assign\"\n",
      "input: \"^Adam/Assign_1\"\n",
      "\n"
     ]
    }
   ],
   "source": [
    "# Backprop and SGD now using adam\n",
    "opt = tf.train.AdamOptimizer().minimize(loss)\n",
    "print(opt)"
   ]
  },
  {
   "cell_type": "code",
   "execution_count": 12,
   "metadata": {
    "scrolled": true
   },
   "outputs": [],
   "source": [
    "def get_batches(X, Y, batch_size):\n",
    "    \"\"\" Return a generator for batches \"\"\"\n",
    "    n_batches = len(X) // batch_size\n",
    "    X, Y = X[:n_batches*batch_size], Y[:n_batches*batch_size]\n",
    "\n",
    "    # Loop over batches and yield\n",
    "    for b in range(0, len(X), batch_size):\n",
    "        yield X[b:b+batch_size], Y[b:b+batch_size]"
   ]
  },
  {
   "cell_type": "code",
   "execution_count": 13,
   "metadata": {},
   "outputs": [
    {
     "name": "stdout",
     "output_type": "stream",
     "text": [
      "epoch: 1 train_loss: 525.66187 valid_loss: 505.19186\n",
      "epoch: 2 train_loss: 493.74457 valid_loss: 474.83762\n",
      "epoch: 3 train_loss: 463.147 valid_loss: 445.6669\n",
      "epoch: 4 train_loss: 433.93146 valid_loss: 417.7286\n",
      "epoch: 5 train_loss: 406.08807 valid_loss: 391.10663\n",
      "epoch: 6 train_loss: 379.76703 valid_loss: 366.28937\n",
      "epoch: 7 train_loss: 355.30298 valid_loss: 343.83286\n",
      "epoch: 8 train_loss: 333.6137 valid_loss: 325.4274\n",
      "epoch: 9 train_loss: 316.6133 valid_loss: 312.0421\n",
      "epoch: 10 train_loss: 304.53568 valid_loss: 302.21707\n",
      "epoch: 11 train_loss: 295.31067 valid_loss: 293.9592\n",
      "epoch: 12 train_loss: 287.14966 valid_loss: 286.1668\n",
      "epoch: 13 train_loss: 279.4102 valid_loss: 278.6969\n",
      "epoch: 14 train_loss: 271.95233 valid_loss: 271.4867\n",
      "epoch: 15 train_loss: 264.794 valid_loss: 264.62125\n",
      "epoch: 16 train_loss: 257.91965 valid_loss: 258.07532\n",
      "epoch: 17 train_loss: 251.32948 valid_loss: 251.88379\n",
      "epoch: 18 train_loss: 245.0053 valid_loss: 245.98611\n",
      "epoch: 19 train_loss: 238.997 valid_loss: 240.40096\n",
      "epoch: 20 train_loss: 233.25423 valid_loss: 235.128\n",
      "epoch: 21 train_loss: 227.73619 valid_loss: 230.15154\n",
      "epoch: 22 train_loss: 222.44589 valid_loss: 225.42929\n",
      "epoch: 23 train_loss: 217.3617 valid_loss: 220.9696\n",
      "epoch: 24 train_loss: 212.47467 valid_loss: 216.77995\n",
      "epoch: 25 train_loss: 207.81345 valid_loss: 212.7875\n",
      "epoch: 26 train_loss: 203.3413 valid_loss: 208.95294\n",
      "epoch: 27 train_loss: 199.07887 valid_loss: 205.2768\n",
      "epoch: 28 train_loss: 195.00272 valid_loss: 201.7352\n",
      "epoch: 29 train_loss: 191.07376 valid_loss: 198.30013\n",
      "epoch: 30 train_loss: 187.29602 valid_loss: 194.97156\n",
      "epoch: 31 train_loss: 183.67615 valid_loss: 191.74\n",
      "epoch: 32 train_loss: 180.20438 valid_loss: 188.62566\n",
      "epoch: 33 train_loss: 176.85956 valid_loss: 185.61122\n",
      "epoch: 34 train_loss: 173.62366 valid_loss: 182.71315\n",
      "epoch: 35 train_loss: 170.48485 valid_loss: 179.919\n",
      "epoch: 36 train_loss: 167.4217 valid_loss: 177.21529\n",
      "epoch: 37 train_loss: 164.44434 valid_loss: 174.60146\n",
      "epoch: 38 train_loss: 161.55426 valid_loss: 172.09897\n",
      "epoch: 39 train_loss: 158.74985 valid_loss: 169.6704\n",
      "epoch: 40 train_loss: 156.0204 valid_loss: 167.29091\n",
      "epoch: 41 train_loss: 153.35391 valid_loss: 164.96155\n",
      "epoch: 42 train_loss: 150.7439 valid_loss: 162.6892\n",
      "epoch: 43 train_loss: 148.18704 valid_loss: 160.45619\n",
      "epoch: 44 train_loss: 145.68393 valid_loss: 158.25914\n",
      "epoch: 45 train_loss: 143.24258 valid_loss: 156.10504\n",
      "epoch: 46 train_loss: 140.86382 valid_loss: 153.9934\n",
      "epoch: 47 train_loss: 138.54007 valid_loss: 151.92706\n",
      "epoch: 48 train_loss: 136.25854 valid_loss: 149.91402\n",
      "epoch: 49 train_loss: 134.01189 valid_loss: 147.93884\n",
      "epoch: 50 train_loss: 131.80652 valid_loss: 146.0033\n",
      "epoch: 51 train_loss: 129.6353 valid_loss: 144.11505\n",
      "epoch: 52 train_loss: 127.51224 valid_loss: 142.26912\n",
      "epoch: 53 train_loss: 125.430885 valid_loss: 140.45943\n",
      "epoch: 54 train_loss: 123.39092 valid_loss: 138.6833\n",
      "epoch: 55 train_loss: 121.37712 valid_loss: 136.94037\n",
      "epoch: 56 train_loss: 119.40318 valid_loss: 135.23213\n",
      "epoch: 57 train_loss: 117.476364 valid_loss: 133.54056\n",
      "epoch: 58 train_loss: 115.58984 valid_loss: 131.85799\n",
      "epoch: 59 train_loss: 113.73839 valid_loss: 130.201\n",
      "epoch: 60 train_loss: 111.91397 valid_loss: 128.56488\n",
      "epoch: 61 train_loss: 110.12245 valid_loss: 126.95901\n",
      "epoch: 62 train_loss: 108.37261 valid_loss: 125.39102\n",
      "epoch: 63 train_loss: 106.66331 valid_loss: 123.859856\n",
      "epoch: 64 train_loss: 104.98914 valid_loss: 122.37354\n",
      "epoch: 65 train_loss: 103.34004 valid_loss: 120.92973\n",
      "epoch: 66 train_loss: 101.7099 valid_loss: 119.52394\n",
      "epoch: 67 train_loss: 100.10542 valid_loss: 118.13128\n",
      "epoch: 68 train_loss: 98.52232 valid_loss: 116.74869\n",
      "epoch: 69 train_loss: 96.96409 valid_loss: 115.37327\n",
      "epoch: 70 train_loss: 95.43603 valid_loss: 114.00796\n",
      "epoch: 71 train_loss: 93.9331 valid_loss: 112.66132\n",
      "epoch: 72 train_loss: 92.46519 valid_loss: 111.34162\n",
      "epoch: 73 train_loss: 91.02555 valid_loss: 110.060265\n",
      "epoch: 74 train_loss: 89.60127 valid_loss: 108.816864\n",
      "epoch: 75 train_loss: 88.19324 valid_loss: 107.59058\n",
      "epoch: 76 train_loss: 86.79901 valid_loss: 106.39274\n",
      "epoch: 77 train_loss: 85.42647 valid_loss: 105.22833\n",
      "epoch: 78 train_loss: 84.07553 valid_loss: 104.07817\n",
      "epoch: 79 train_loss: 82.74686 valid_loss: 102.94445\n",
      "epoch: 80 train_loss: 81.43797 valid_loss: 101.83246\n",
      "epoch: 81 train_loss: 80.15132 valid_loss: 100.7465\n",
      "epoch: 82 train_loss: 78.88845 valid_loss: 99.685776\n",
      "epoch: 83 train_loss: 77.65935 valid_loss: 98.66814\n",
      "epoch: 84 train_loss: 76.45731 valid_loss: 97.662994\n",
      "epoch: 85 train_loss: 75.27437 valid_loss: 96.67174\n",
      "epoch: 86 train_loss: 74.11402 valid_loss: 95.69654\n",
      "epoch: 87 train_loss: 72.96939 valid_loss: 94.738976\n",
      "epoch: 88 train_loss: 71.83892 valid_loss: 93.790924\n",
      "epoch: 89 train_loss: 70.72856 valid_loss: 92.85549\n",
      "epoch: 90 train_loss: 69.64286 valid_loss: 91.92812\n",
      "epoch: 91 train_loss: 68.572815 valid_loss: 91.01185\n",
      "epoch: 92 train_loss: 67.517395 valid_loss: 90.11462\n",
      "epoch: 93 train_loss: 66.483376 valid_loss: 89.2312\n",
      "epoch: 94 train_loss: 65.47101 valid_loss: 88.35787\n",
      "epoch: 95 train_loss: 64.474976 valid_loss: 87.50193\n",
      "epoch: 96 train_loss: 63.4972 valid_loss: 86.651306\n",
      "epoch: 97 train_loss: 62.535072 valid_loss: 85.800446\n",
      "epoch: 98 train_loss: 61.59039 valid_loss: 84.95842\n",
      "epoch: 99 train_loss: 60.665924 valid_loss: 84.130196\n",
      "epoch: 100 train_loss: 59.75808 valid_loss: 83.31613\n"
     ]
    }
   ],
   "source": [
    "# We should save the after training and validation\n",
    "saver = tf.train.Saver() \n",
    "train_loss_mean, valid_loss_mean = [], []\n",
    "\n",
    "# now that we can calculate loss and optimize, we can start a session for calculating the error.\n",
    "with tf.Session() as sess:\n",
    "    sess.run(fetches=tf.global_variables_initializer())\n",
    "    \n",
    "    # for every epoch start feeding the arrays into the tensors in the model\n",
    "    for epoch in range(0, 100, 1):\n",
    "        train_loss, valid_loss = [], []\n",
    "        \n",
    "        # Training minibatches and feed them into the tensor\n",
    "        for Xarr, Yarr in get_batches(X=Xtrain, Y=Ytrain, batch_size=Xvalid.shape[0]):\n",
    "            # X_NxWxCin, Y_NxCout\n",
    "            feed_dict = {X:Xarr, Y:Yarr}\n",
    "            lossarr, _ = sess.run(feed_dict=feed_dict, fetches=[loss, opt])\n",
    "            train_loss.append(lossarr)\n",
    "            \n",
    "        # Validation now which is one batch on every iteration\n",
    "        for Xarr, Yarr in get_batches(X=Xvalid, Y=Yvalid, batch_size=Xvalid.shape[0]): \n",
    "            # X_NxWxCin, Y_NxCout\n",
    "            feed_dict = {X:Xarr, Y:Yarr}\n",
    "            lossarr = sess.run(feed_dict=feed_dict, fetches=[loss])\n",
    "            valid_loss.append(lossarr)\n",
    "        \n",
    "        # printing out train and validation loss\n",
    "        print('epoch:', epoch+1, 'train_loss:', np.mean(train_loss), 'valid_loss:', np.mean(valid_loss))\n",
    "        \n",
    "        # Every epoch, for drawing the plot and their learning curve\n",
    "        train_loss_mean.append(np.mean(train_loss))\n",
    "        valid_loss_mean.append(np.mean(valid_loss))\n",
    "        \n",
    "    # After all epochs and at the end of training and validation\n",
    "    saver.save(sess,'checkpoints/cnn-imu-har.ckpt')"
   ]
  },
  {
   "cell_type": "code",
   "execution_count": 14,
   "metadata": {},
   "outputs": [
    {
     "data": {
      "text/plain": [
       "<matplotlib.legend.Legend at 0x7f6194314470>"
      ]
     },
     "execution_count": 14,
     "metadata": {},
     "output_type": "execute_result"
    },
    {
     "data": {
      "image/png": "[encoded data removed]",
      "text/plain": [
       "<Figure size 432x288 with 1 Axes>"
      ]
     },
     "metadata": {},
     "output_type": "display_data"
    }
   ],
   "source": [
    "import matplotlib.pyplot as mplot\n",
    "%matplotlib inline\n",
    "\n",
    "mplot.plot(train_loss_mean, label='train_loss_mean')\n",
    "mplot.plot(valid_loss_mean, label='valid_loss_mean')\n",
    "mplot.legend()"
   ]
  },
  {
   "cell_type": "code",
   "execution_count": 15,
   "metadata": {},
   "outputs": [
    {
     "name": "stdout",
     "output_type": "stream",
     "text": [
      "INFO:tensorflow:Restoring parameters from checkpoints/cnn-imu-har.ckpt\n",
      "test_loss: 111.51426\n"
     ]
    }
   ],
   "source": [
    "with tf.Session() as sess:\n",
    "    sess.run(fetches=tf.global_variables_initializer())\n",
    "    \n",
    "    # Loading the trained and validated model\n",
    "    saver.restore(save_path=tf.train.latest_checkpoint(checkpoint_dir='checkpoints/'), sess=sess)\n",
    "    \n",
    "    # Saving the test loss for every batch/minibtch\n",
    "    test_loss = []\n",
    "    \n",
    "    # applying the loaded model on test data\n",
    "    for Xarr, Yarr in get_batches(X=Xtest, Y=Ytest, batch_size=Xvalid.shape[0]): \n",
    "        # X_NxWXCin, Y_NxCout\n",
    "        feed_dict={X:Xarr, Y:Yarr}\n",
    "        lossarr = sess.run(feed_dict=feed_dict, fetches=[loss])\n",
    "        test_loss.append(lossarr)\n",
    "        \n",
    "    # Printing the test loss\n",
    "    print('test_loss:', np.mean(test_loss))"
   ]
  },
  {
   "cell_type": "code",
   "execution_count": null,
   "metadata": {},
   "outputs": [],
   "source": []
  }
 ],
 "metadata": {
  "kernelspec": {
   "display_name": "Python 3",
   "language": "python",
   "name": "python3"
  },
  "language_info": {
   "codemirror_mode": {
    "name": "ipython",
    "version": 3
   },
   "file_extension": ".py",
   "mimetype": "text/x-python",
   "name": "python",
   "nbconvert_exporter": "python",
   "pygments_lexer": "ipython3",
   "version": "3.6.5"
  },
  "widgets": {
   "state": {},
   "version": "1.1.2"
  }
 },
 "nbformat": 4,
 "nbformat_minor": 2
}
