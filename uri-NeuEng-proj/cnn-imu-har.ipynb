{
 "cells": [
  {
   "cell_type": "code",
   "execution_count": 1,
   "metadata": {},
   "outputs": [],
   "source": [
    "# HAR classification \n",
    "# Author: Burak Himmetoglu\n",
    "# 8/15/2017\n",
    "\n",
    "import pandas as pd \n",
    "import numpy as np\n",
    "import os\n",
    "\n",
    "def read_data(data_path, split = \"train\"):\n",
    "\t\"\"\" Read data \"\"\"\n",
    "\n",
    "\t# Fixed params\n",
    "\tn_class = 6\n",
    "\tn_steps = 128\n",
    "\n",
    "\t# Paths\n",
    "\tpath_ = os.path.join(data_path, split)\n",
    "\tpath_signals = os.path.join(path_, \"Inertial_Signals\")\n",
    "\n",
    "\t# Read labels and one-hot encode\n",
    "\tlabel_path = os.path.join(path_, \"y_\" + split + \".txt\")\n",
    "\tlabels = pd.read_csv(label_path, header = None)\n",
    "\n",
    "\t# Read time-series data\n",
    "\tchannel_files = os.listdir(path_signals)\n",
    "\tchannel_files.sort()\n",
    "\tn_channels = len(channel_files)\n",
    "\tposix = len(split) + 5\n",
    "\n",
    "\t# Initiate array\n",
    "# \tlist_of_channels = []\n",
    "\tX = np.zeros((len(labels), n_steps, n_channels))\n",
    "\ti_ch = 0\n",
    "\tfor fil_ch in channel_files:\n",
    "# \t\tchannel_name = fil_ch[:-posix]\n",
    "\t\tdat_ = pd.read_csv(os.path.join(path_signals,fil_ch), delim_whitespace = True, header = None)\n",
    "\t\tX[:,:,i_ch] = dat_.as_matrix()\n",
    "\n",
    "# \t\t# Record names\n",
    "# \t\tlist_of_channels.append(channel_name)\n",
    "\n",
    "\t\t# iterate\n",
    "\t\ti_ch += 1\n",
    "\n",
    "\t# Return \n",
    "\treturn X, labels[0].values#, list_of_channels\n",
    "\n",
    "# test and train read\n",
    "Xtrain, Ytrain = read_data(data_path=\"/home/arasdar/datasets/har/har-data/\", split=\"train\")\n",
    "Xtest, Ytest = read_data(data_path=\"/home/arasdar/datasets/har/har-data/\", split=\"test\")"
   ]
  },
  {
   "cell_type": "code",
   "execution_count": 2,
   "metadata": {},
   "outputs": [
    {
     "name": "stdout",
     "output_type": "stream",
     "text": [
      "(7352, 128, 9) float64\n",
      "(2947, 128, 9) float64\n"
     ]
    }
   ],
   "source": [
    "# # standardizing/normalizing the train and test data\n",
    "# def standardize(train, test):\n",
    "# \"\"\" Standardize data \"\"\"\n",
    "# # Standardize train and test\n",
    "# X_train = (train - np.mean(train, axis=0)[None,:,:]) / np.std(train, axis=0)[None,:,:]\n",
    "# X_test = (test - np.mean(test, axis=0)[None,:,:]) / np.std(test, axis=0)[None,:,:]\n",
    "# return X_train, X_test\n",
    "\n",
    "Xtrain = (Xtrain - Xtrain.mean(axis=0))/ Xtrain.std(axis=0)\n",
    "Xtest = (Xtest - Xtest.mean(axis=0))/ Xtest.std(axis=0)\n",
    "print(Xtrain.shape, Xtrain.dtype)\n",
    "print(Xtest.shape, Xtest.dtype)"
   ]
  },
  {
   "cell_type": "code",
   "execution_count": 3,
   "metadata": {},
   "outputs": [
    {
     "name": "stdout",
     "output_type": "stream",
     "text": [
      "6 6\n",
      "(7352, 6) float64 (2947, 6) float64\n"
     ]
    }
   ],
   "source": [
    "# Onehotencoding of the output labels\n",
    "def onehot(labels, n_class):\n",
    "\t\"\"\" One-hot encoding \"\"\"\n",
    "\texpansion = np.eye(n_class)\n",
    "\ty = expansion[:, labels-1].T\n",
    "\tassert y.shape[1] == n_class, \"Wrong number of labels!\"\n",
    "\n",
    "\treturn y\n",
    "\n",
    "print(Ytrain.max(axis=0), Ytest.max(axis=0))\n",
    "# # assert Y.max(axis=0) == Ytrain.max(axis=0) == Ytest.max(axis=0), 'wrong labels'\n",
    "Ytrain=onehot(labels=Ytrain, n_class=Ytrain.max(axis=0))\n",
    "Ytest=onehot(labels=Ytest, n_class=Ytest.max(axis=0))\n",
    "print(Ytrain.shape, Ytrain.dtype, Ytest.shape, Ytest.dtype)"
   ]
  },
  {
   "cell_type": "code",
   "execution_count": 4,
   "metadata": {},
   "outputs": [
    {
     "name": "stdout",
     "output_type": "stream",
     "text": [
      "(5146, 128, 9) (2206, 128, 9) (2947, 128, 9) float64 float64 float64\n",
      "(5146, 6) (2206, 6) (2947, 6) float64 float64 float64\n"
     ]
    }
   ],
   "source": [
    "from sklearn.model_selection import train_test_split\n",
    "\n",
    "# Now separating train and validation set\n",
    "# 30% of the training data/ entire training data is assigned to validation.\n",
    "Xtrain, Xvalid, Ytrain, Yvalid = train_test_split(Xtrain, Ytrain, test_size=0.30)\n",
    "print(Xtrain.shape, Xvalid.shape, Xtest.shape, Xtrain.dtype, Xvalid.dtype, Xtest.dtype)\n",
    "print(Ytrain.shape, Yvalid.shape, Ytest.shape, Ytrain.dtype, Yvalid.dtype, Ytest.dtype)"
   ]
  },
  {
   "cell_type": "code",
   "execution_count": 5,
   "metadata": {},
   "outputs": [
    {
     "name": "stdout",
     "output_type": "stream",
     "text": [
      "TensorFlow Version: 1.7.0\n",
      "Default GPU Device: /device:GPU:0\n"
     ]
    }
   ],
   "source": [
    "# In this one we should define and detect GPUs for tensorflow\n",
    "# GPUs or CPU\n",
    "import tensorflow as tf\n",
    "\n",
    "# Check TensorFlow Version\n",
    "print('TensorFlow Version: {}'.format(tf.__version__))\n",
    "\n",
    "# Check for a GPU\n",
    "print('Default GPU Device: {}'.format(tf.test.gpu_device_name()))"
   ]
  },
  {
   "cell_type": "code",
   "execution_count": 6,
   "metadata": {},
   "outputs": [
    {
     "name": "stdout",
     "output_type": "stream",
     "text": [
      "(2206, 128, 9) <dtype: 'float32'> (5146, 128, 9) float64 (2206, 128, 9) float64 (2947, 128, 9) float64\n"
     ]
    }
   ],
   "source": [
    "# now I can design the actual input and output tensors\n",
    "N, W, Cin = Xvalid.shape[0], Xvalid.shape[1], Xvalid.shape[2]\n",
    "X = tf.placeholder(dtype=tf.float32, name=None, shape=[N, W, Cin])\n",
    "print(X.shape, X.dtype, Xtrain.shape, Xtrain.dtype, Xvalid.shape, Xvalid.dtype, Xtest.shape, Xtest.dtype)"
   ]
  },
  {
   "cell_type": "code",
   "execution_count": 7,
   "metadata": {},
   "outputs": [
    {
     "name": "stdout",
     "output_type": "stream",
     "text": [
      "(2206, 6) <dtype: 'float32'> (5146, 6) float64 (2206, 6) float64 (2947, 6) float64\n"
     ]
    }
   ],
   "source": [
    "# This is the output tensor for labels\n",
    "N, Cout = Yvalid.shape[0], Yvalid.shape[1]\n",
    "Y = tf.placeholder(dtype=tf.float32, name=None, shape=[N, Cout])\n",
    "print(Y.shape, Y.dtype, Ytrain.shape, Ytrain.dtype, Yvalid.shape, Yvalid.dtype, Ytest.shape, Ytest.dtype)"
   ]
  },
  {
   "cell_type": "code",
   "execution_count": 8,
   "metadata": {},
   "outputs": [
    {
     "name": "stdout",
     "output_type": "stream",
     "text": [
      "(2206, 128, 9) <dtype: 'float32'>\n",
      "(64, 9, 18) <dtype: 'float32_ref'>\n",
      "(2206, 64, 18) <dtype: 'float32'>\n"
     ]
    }
   ],
   "source": [
    "print(X.shape, X.dtype)\n",
    "Wwidth, Wchannels, Wnumber = X.shape[1].value//2, X.shape[2].value, X.shape[2].value*2\n",
    "shape = [Wwidth, Wchannels, Wnumber]\n",
    "initial_value = tf.random_normal(dtype=X.dtype, mean=0.0, name=None, shape=shape, stddev=1.0)\n",
    "Wconv = tf.Variable(dtype=X.dtype, initial_value=initial_value, name=None, trainable=True)\n",
    "print(Wconv.shape, Wconv.dtype)\n",
    "Xconv = tf.nn.conv1d(data_format='NWC', filters=Wconv, name=None, padding='SAME', stride=2, use_cudnn_on_gpu=True, \n",
    "                     value=X)\n",
    "Xconv = tf.maximum(name=None, x=(-0.1*Xconv), y=Xconv)\n",
    "print(Xconv.shape, Xconv.dtype)"
   ]
  },
  {
   "cell_type": "code",
   "execution_count": 9,
   "metadata": {},
   "outputs": [
    {
     "name": "stdout",
     "output_type": "stream",
     "text": [
      "(2206, 1152) <dtype: 'float32'>\n",
      "(1152, 6) <dtype: 'float32_ref'>\n",
      "(2206, 6) <dtype: 'float32'>\n",
      "(2206, 6) <dtype: 'float32'>\n"
     ]
    }
   ],
   "source": [
    "# This is the multiplication layer\n",
    "# this part is flatening the input\n",
    "shape = [Xconv.shape[0].value, Xconv.shape[1].value*Xconv.shape[2].value]\n",
    "Xconv_reshaped = tf.reshape(name=None, shape=shape, tensor=Xconv)\n",
    "print(Xconv_reshaped.shape, Xconv_reshaped.dtype)\n",
    "# their first axis or dimension stay the same\n",
    "shape = [Xconv_reshaped.shape[1].value, Y.shape[1].value]\n",
    "initial_value = tf.random_normal(dtype=Xconv_reshaped.dtype, mean=0.0, name=None, shape=shape, stddev=1.0)\n",
    "W = tf.Variable(dtype=Xconv_reshaped.dtype, initial_value=initial_value, name=None, trainable=True)\n",
    "print(W.shape, W.dtype)\n",
    "# The actual multiplication\n",
    "# Y_ = Xconv_reshaped @ W\n",
    "Y_ = tf.matmul(a=Xconv_reshaped, b=W, name=None)\n",
    "print(Y_.shape, Y_.dtype)\n",
    "print(Y.shape, Y.dtype)"
   ]
  },
  {
   "cell_type": "code",
   "execution_count": 10,
   "metadata": {},
   "outputs": [
    {
     "name": "stdout",
     "output_type": "stream",
     "text": [
      "(2206,) <dtype: 'float32'>\n",
      "Tensor(\"Mean:0\", shape=(), dtype=float32)\n"
     ]
    }
   ],
   "source": [
    "# Now I need to calculate the loss\n",
    "loss_tensor = tf.nn.softmax_cross_entropy_with_logits_v2(labels=Y, logits=Y_, name=None)\n",
    "print(loss_tensor.shape, loss_tensor.dtype)\n",
    "loss = tf.reduce_mean(axis=0, input_tensor=loss_tensor, name=None)\n",
    "print(loss)"
   ]
  },
  {
   "cell_type": "code",
   "execution_count": 11,
   "metadata": {},
   "outputs": [
    {
     "name": "stdout",
     "output_type": "stream",
     "text": [
      "name: \"Adam\"\n",
      "op: \"NoOp\"\n",
      "input: \"^Adam/update_Variable/ApplyAdam\"\n",
      "input: \"^Adam/update_Variable_1/ApplyAdam\"\n",
      "input: \"^Adam/Assign\"\n",
      "input: \"^Adam/Assign_1\"\n",
      "\n"
     ]
    }
   ],
   "source": [
    "# Backprop and SGD now using adam\n",
    "opt = tf.train.AdamOptimizer().minimize(loss)\n",
    "print(opt)"
   ]
  },
  {
   "cell_type": "code",
   "execution_count": 12,
   "metadata": {},
   "outputs": [
    {
     "name": "stdout",
     "output_type": "stream",
     "text": [
      "(2206, 6) <dtype: 'float32'> (2206, 6) <dtype: 'float32'>\n"
     ]
    }
   ],
   "source": [
    "print(Y_.shape, Y_.dtype, Y.shape, Y.dtype)"
   ]
  },
  {
   "cell_type": "code",
   "execution_count": 13,
   "metadata": {},
   "outputs": [
    {
     "name": "stdout",
     "output_type": "stream",
     "text": [
      "(2206,) <dtype: 'int32'>\n",
      "(2206, 6) <dtype: 'float32'>\n",
      "(2206,) <dtype: 'int32'>\n",
      "(2206,) <dtype: 'bool'>\n",
      "(2206,) <dtype: 'float32'>\n",
      "() <dtype: 'float32'>\n"
     ]
    }
   ],
   "source": [
    "# Accuracy\n",
    "# tf.argmax(\n",
    "#     input,\n",
    "#     axis=None,\n",
    "#     name=None,\n",
    "#     dimension=None,\n",
    "#     output_type=tf.int64\n",
    "# )\n",
    "# Y_NxCout, N:axis 1, Cout: axis 2\n",
    "Y_argmax = tf.argmax(axis=1, name=None, input=Y_, output_type=tf.int32)\n",
    "print(Y_argmax.shape, Y_argmax.dtype)\n",
    "\n",
    "# # tf.nn.softmax(\n",
    "# #     logits,\n",
    "# #     axis=None,\n",
    "# #     name=None,\n",
    "# #     dim=None\n",
    "# # )\n",
    "# # softmax = tf.exp(logits) / tf.reduce_sum(tf.exp(logits), axis)\n",
    "# prob = tf.nn.softmax(axis=1, logits=logits, name=None)\n",
    "# print(prob.shape, prob.dtype)\n",
    "# Ypred2 = tf.argmax(axis=1, input=prob, name=None, output_type=tf.int32) \n",
    "# print(Ypred2.shape, Ypred2.dtype)\n",
    "\n",
    "print(Y.shape, Y.dtype)\n",
    "Yargmax = tf.argmax(axis=1, input=Y, name=None, output_type=tf.int32)\n",
    "print(Yargmax.shape, Yargmax.dtype)\n",
    "\n",
    "acc_tensor = tf.equal(name=None, x=Y_argmax, y=Yargmax)\n",
    "print(acc_tensor.shape, acc_tensor.dtype)\n",
    "# cast bool to int datatype for equal\n",
    "acc_tensor = tf.cast(dtype=tf.float32, name=None, x=acc_tensor)\n",
    "print(acc_tensor.shape, acc_tensor.dtype)\n",
    "acc = tf.reduce_mean(axis=0, input_tensor=acc_tensor)\n",
    "print(acc.shape, acc.dtype)"
   ]
  },
  {
   "cell_type": "code",
   "execution_count": 14,
   "metadata": {
    "scrolled": true
   },
   "outputs": [],
   "source": [
    "def get_batches(X, Y, batch_size):\n",
    "    \"\"\" Return a generator for batches \"\"\"\n",
    "    n_batches = len(X) // batch_size\n",
    "    X, Y = X[:n_batches*batch_size], Y[:n_batches*batch_size]\n",
    "\n",
    "    # Loop over batches and yield\n",
    "    for b in range(0, len(X), batch_size):\n",
    "        yield X[b:b+batch_size], Y[b:b+batch_size]"
   ]
  },
  {
   "cell_type": "code",
   "execution_count": 15,
   "metadata": {},
   "outputs": [
    {
     "name": "stdout",
     "output_type": "stream",
     "text": [
      "epoch: 1 train_loss: 784.4242 valid_loss: 788.3236 train_acc: 0.12669991 valid_acc: 0.12919311\n",
      "epoch: 2 train_loss: 748.02466 valid_loss: 751.5882 train_acc: 0.13145965 valid_acc: 0.13463283\n",
      "epoch: 3 train_loss: 712.2395 valid_loss: 715.2495 train_acc: 0.13644606 valid_acc: 0.13916591\n",
      "epoch: 4 train_loss: 677.00745 valid_loss: 679.4513 train_acc: 0.14437896 valid_acc: 0.14641885\n",
      "epoch: 5 train_loss: 642.3352 valid_loss: 644.2546 train_acc: 0.15072529 valid_acc: 0.15412511\n",
      "epoch: 6 train_loss: 608.1477 valid_loss: 609.78644 train_acc: 0.16001813 valid_acc: 0.16500454\n",
      "epoch: 7 train_loss: 574.5929 valid_loss: 576.21 train_acc: 0.17339075 valid_acc: 0.1781505\n",
      "epoch: 8 train_loss: 542.09875 valid_loss: 543.75714 train_acc: 0.19106981 valid_acc: 0.19582956\n",
      "epoch: 9 train_loss: 510.9712 valid_loss: 513.08636 train_acc: 0.20580235 valid_acc: 0.21033545\n",
      "epoch: 10 train_loss: 482.1311 valid_loss: 485.60126 train_acc: 0.21917498 valid_acc: 0.22438803\n",
      "epoch: 11 train_loss: 456.43204 valid_loss: 460.6373 train_acc: 0.22642791 valid_acc: 0.23436083\n",
      "epoch: 12 train_loss: 432.81607 valid_loss: 436.91696 train_acc: 0.22960109 valid_acc: 0.2330009\n",
      "epoch: 13 train_loss: 410.36713 valid_loss: 414.10812 train_acc: 0.23368087 valid_acc: 0.237534\n",
      "epoch: 14 train_loss: 388.66562 valid_loss: 391.90634 train_acc: 0.23685405 valid_acc: 0.23662739\n",
      "epoch: 15 train_loss: 367.60675 valid_loss: 370.48566 train_acc: 0.23844062 valid_acc: 0.237534\n",
      "epoch: 16 train_loss: 347.48196 valid_loss: 350.35614 train_acc: 0.2330009 valid_acc: 0.23209429\n",
      "epoch: 17 train_loss: 328.64615 valid_loss: 331.78525 train_acc: 0.22642791 valid_acc: 0.22574796\n",
      "epoch: 18 train_loss: 311.18378 valid_loss: 314.33496 train_acc: 0.2230281 valid_acc: 0.22620127\n",
      "epoch: 19 train_loss: 295.07928 valid_loss: 297.58975 train_acc: 0.22642791 valid_acc: 0.23345421\n",
      "epoch: 20 train_loss: 279.4183 valid_loss: 281.0994 train_acc: 0.22824116 valid_acc: 0.23436083\n",
      "epoch: 21 train_loss: 263.7193 valid_loss: 265.17978 train_acc: 0.23844062 valid_acc: 0.24388033\n",
      "epoch: 22 train_loss: 248.55966 valid_loss: 250.69193 train_acc: 0.25113326 valid_acc: 0.25611967\n",
      "epoch: 23 train_loss: 234.62387 valid_loss: 238.08514 train_acc: 0.2679057 valid_acc: 0.27425203\n",
      "epoch: 24 train_loss: 222.53964 valid_loss: 228.55627 train_acc: 0.30757028 valid_acc: 0.31595647\n",
      "epoch: 25 train_loss: 213.33208 valid_loss: 221.662 train_acc: 0.35086128 valid_acc: 0.35766092\n",
      "epoch: 26 train_loss: 206.59773 valid_loss: 216.38168 train_acc: 0.3855394 valid_acc: 0.38757932\n",
      "epoch: 27 train_loss: 201.2868 valid_loss: 211.9479 train_acc: 0.4091115 valid_acc: 0.4106981\n",
      "epoch: 28 train_loss: 196.66708 valid_loss: 207.9051 train_acc: 0.42429736 valid_acc: 0.42339075\n",
      "epoch: 29 train_loss: 192.39082 valid_loss: 204.19058 train_acc: 0.43653673 valid_acc: 0.43834996\n",
      "epoch: 30 train_loss: 188.28589 valid_loss: 200.60751 train_acc: 0.44492292 valid_acc: 0.44786945\n",
      "epoch: 31 train_loss: 184.30563 valid_loss: 197.11342 train_acc: 0.4551224 valid_acc: 0.45920217\n",
      "epoch: 32 train_loss: 180.43088 valid_loss: 193.68674 train_acc: 0.46328196 valid_acc: 0.46781504\n",
      "epoch: 33 train_loss: 176.6323 valid_loss: 190.36256 train_acc: 0.4700816 valid_acc: 0.47597462\n",
      "epoch: 34 train_loss: 172.92172 valid_loss: 187.12025 train_acc: 0.47529465 valid_acc: 0.4796011\n",
      "epoch: 35 train_loss: 169.3349 valid_loss: 184.00037 train_acc: 0.48322755 valid_acc: 0.48640072\n",
      "epoch: 36 train_loss: 165.86444 valid_loss: 180.96783 train_acc: 0.48980054 valid_acc: 0.4950136\n",
      "epoch: 37 train_loss: 162.51637 valid_loss: 178.03816 train_acc: 0.4975068 valid_acc: 0.5022665\n",
      "epoch: 38 train_loss: 159.29486 valid_loss: 175.22903 train_acc: 0.5070263 valid_acc: 0.51223934\n",
      "epoch: 39 train_loss: 156.21994 valid_loss: 172.5342 train_acc: 0.51427925 valid_acc: 0.519039\n",
      "epoch: 40 train_loss: 153.27084 valid_loss: 169.9326 train_acc: 0.5206256 valid_acc: 0.5258386\n",
      "epoch: 41 train_loss: 150.42545 valid_loss: 167.44461 train_acc: 0.5258386 valid_acc: 0.52991843\n",
      "epoch: 42 train_loss: 147.69275 valid_loss: 165.03366 train_acc: 0.52969176 valid_acc: 0.53263825\n",
      "epoch: 43 train_loss: 145.0523 valid_loss: 162.69377 train_acc: 0.5344515 valid_acc: 0.53717136\n",
      "epoch: 44 train_loss: 142.5249 valid_loss: 160.41011 train_acc: 0.5419311 valid_acc: 0.54306436\n",
      "epoch: 45 train_loss: 140.08395 valid_loss: 158.19516 train_acc: 0.54805076 valid_acc: 0.5494107\n",
      "epoch: 46 train_loss: 137.73509 valid_loss: 156.05003 train_acc: 0.55281055 valid_acc: 0.55349046\n",
      "epoch: 47 train_loss: 135.44907 valid_loss: 153.96123 train_acc: 0.5575702 valid_acc: 0.55847687\n",
      "epoch: 48 train_loss: 133.22128 valid_loss: 151.91266 train_acc: 0.56097007 valid_acc: 0.56119674\n",
      "epoch: 49 train_loss: 131.05377 valid_loss: 149.91188 train_acc: 0.5655032 valid_acc: 0.5648232\n",
      "epoch: 50 train_loss: 128.94427 valid_loss: 147.96469 train_acc: 0.57162285 valid_acc: 0.57162285\n",
      "epoch: 51 train_loss: 126.88843 valid_loss: 146.07657 train_acc: 0.5772892 valid_acc: 0.57706255\n",
      "epoch: 52 train_loss: 124.88118 valid_loss: 144.2338 train_acc: 0.5829556 valid_acc: 0.58159566\n",
      "epoch: 53 train_loss: 122.91666 valid_loss: 142.4298 train_acc: 0.5856754 valid_acc: 0.5843155\n",
      "epoch: 54 train_loss: 120.99684 valid_loss: 140.6625 train_acc: 0.5897552 valid_acc: 0.58748865\n",
      "epoch: 55 train_loss: 119.113106 valid_loss: 138.92633 train_acc: 0.59202176 valid_acc: 0.59020853\n",
      "epoch: 56 train_loss: 117.26131 valid_loss: 137.21712 train_acc: 0.5947416 valid_acc: 0.593835\n",
      "epoch: 57 train_loss: 115.454056 valid_loss: 135.53786 train_acc: 0.60018134 valid_acc: 0.6010879\n",
      "epoch: 58 train_loss: 113.691376 valid_loss: 133.89163 train_acc: 0.60244787 valid_acc: 0.6019946\n",
      "epoch: 59 train_loss: 111.96031 valid_loss: 132.28165 train_acc: 0.6065277 valid_acc: 0.60562104\n",
      "epoch: 60 train_loss: 110.26082 valid_loss: 130.7017 train_acc: 0.6090208 valid_acc: 0.606981\n",
      "epoch: 61 train_loss: 108.591866 valid_loss: 129.15446 train_acc: 0.6126473 valid_acc: 0.61015415\n",
      "epoch: 62 train_loss: 106.9474 valid_loss: 127.637 train_acc: 0.6158205 valid_acc: 0.6124207\n",
      "epoch: 63 train_loss: 105.3277 valid_loss: 126.148346 train_acc: 0.619447 valid_acc: 0.6174071\n",
      "epoch: 64 train_loss: 103.73509 valid_loss: 124.69117 train_acc: 0.6226201 valid_acc: 0.6201269\n",
      "epoch: 65 train_loss: 102.176315 valid_loss: 123.28074 train_acc: 0.6273799 valid_acc: 0.6251133\n",
      "epoch: 66 train_loss: 100.655014 valid_loss: 121.89856 train_acc: 0.6307797 valid_acc: 0.62647325\n",
      "epoch: 67 train_loss: 99.16932 valid_loss: 120.547935 train_acc: 0.6334995 valid_acc: 0.6300997\n",
      "epoch: 68 train_loss: 97.71144 valid_loss: 119.2517 train_acc: 0.637806 valid_acc: 0.6346328\n",
      "epoch: 69 train_loss: 96.29401 valid_loss: 117.992256 train_acc: 0.643019 valid_acc: 0.6405258\n",
      "epoch: 70 train_loss: 94.90733 valid_loss: 116.76472 train_acc: 0.64777875 valid_acc: 0.643699\n",
      "epoch: 71 train_loss: 93.54268 valid_loss: 115.58098 train_acc: 0.650272 valid_acc: 0.6455122\n",
      "epoch: 72 train_loss: 92.196655 valid_loss: 114.41618 train_acc: 0.6514053 valid_acc: 0.6477788\n",
      "epoch: 73 train_loss: 90.873245 valid_loss: 113.26724 train_acc: 0.65503174 valid_acc: 0.6514053\n",
      "epoch: 74 train_loss: 89.57205 valid_loss: 112.14236 train_acc: 0.6591115 valid_acc: 0.65548503\n",
      "epoch: 75 train_loss: 88.291565 valid_loss: 111.04257 train_acc: 0.6609248 valid_acc: 0.656845\n",
      "epoch: 76 train_loss: 87.027405 valid_loss: 109.965576 train_acc: 0.66228473 valid_acc: 0.65956485\n",
      "epoch: 77 train_loss: 85.783936 valid_loss: 108.905525 train_acc: 0.66591114 valid_acc: 0.6645512\n",
      "epoch: 78 train_loss: 84.56585 valid_loss: 107.85603 train_acc: 0.6690843 valid_acc: 0.6677244\n",
      "epoch: 79 train_loss: 83.36618 valid_loss: 106.81376 train_acc: 0.6711242 valid_acc: 0.66999096\n",
      "epoch: 80 train_loss: 82.17981 valid_loss: 105.785255 train_acc: 0.67248416 valid_acc: 0.6718042\n",
      "epoch: 81 train_loss: 81.00638 valid_loss: 104.77103 train_acc: 0.67543066 valid_acc: 0.67497736\n",
      "epoch: 82 train_loss: 79.850914 valid_loss: 103.76625 train_acc: 0.6776972 valid_acc: 0.6776972\n",
      "epoch: 83 train_loss: 78.71152 valid_loss: 102.77509 train_acc: 0.6799637 valid_acc: 0.68041706\n",
      "epoch: 84 train_loss: 77.59228 valid_loss: 101.79683 train_acc: 0.6815503 valid_acc: 0.6822303\n",
      "epoch: 85 train_loss: 76.49654 valid_loss: 100.83347 train_acc: 0.68427014 valid_acc: 0.6849501\n",
      "epoch: 86 train_loss: 75.416695 valid_loss: 99.88464 train_acc: 0.68676335 valid_acc: 0.68676335\n",
      "epoch: 87 train_loss: 74.3529 valid_loss: 98.95245 train_acc: 0.6897099 valid_acc: 0.6894832\n",
      "epoch: 88 train_loss: 73.30725 valid_loss: 98.02692 train_acc: 0.69401634 valid_acc: 0.69446963\n",
      "epoch: 89 train_loss: 72.28515 valid_loss: 97.11549 train_acc: 0.69718945 valid_acc: 0.6980961\n"
     ]
    },
    {
     "name": "stdout",
     "output_type": "stream",
     "text": [
      "epoch: 90 train_loss: 71.28198 valid_loss: 96.22222 train_acc: 0.6996827 valid_acc: 0.6999093\n",
      "epoch: 91 train_loss: 70.29636 valid_loss: 95.33799 train_acc: 0.7026292 valid_acc: 0.70398915\n",
      "epoch: 92 train_loss: 69.33435 valid_loss: 94.46397 train_acc: 0.7053491 valid_acc: 0.7062557\n",
      "epoch: 93 train_loss: 68.396454 valid_loss: 93.60275 train_acc: 0.70738894 valid_acc: 0.7085222\n",
      "epoch: 94 train_loss: 67.48128 valid_loss: 92.75201 train_acc: 0.71010876 valid_acc: 0.70988214\n",
      "epoch: 95 train_loss: 66.57912 valid_loss: 91.91248 train_acc: 0.7107888 valid_acc: 0.7107888\n",
      "epoch: 96 train_loss: 65.68872 valid_loss: 91.08963 train_acc: 0.7135086 valid_acc: 0.71441525\n",
      "epoch: 97 train_loss: 64.814224 valid_loss: 90.27913 train_acc: 0.71486855 valid_acc: 0.71486855\n",
      "epoch: 98 train_loss: 63.951195 valid_loss: 89.47983 train_acc: 0.7175884 valid_acc: 0.7171351\n",
      "epoch: 99 train_loss: 63.10103 valid_loss: 88.69823 train_acc: 0.72076154 valid_acc: 0.72030824\n",
      "epoch: 100 train_loss: 62.26385 valid_loss: 87.931404 train_acc: 0.7221215 valid_acc: 0.7221215\n"
     ]
    }
   ],
   "source": [
    "# We should save the after training and validation\n",
    "saver = tf.train.Saver() \n",
    "train_loss_mean, valid_loss_mean = [], []\n",
    "train_acc_mean, valid_acc_mean = [], []\n",
    "\n",
    "# now that we can calculate loss and optimize, we can start a session for calculating the error.\n",
    "with tf.Session() as sess:\n",
    "    sess.run(fetches=tf.global_variables_initializer())\n",
    "    \n",
    "    # for every epoch start feeding the arrays into the tensors in the model\n",
    "    for epoch in range(0, 100, 1):\n",
    "        train_loss, valid_loss = [], []\n",
    "        train_acc, valid_acc = [], []\n",
    "        \n",
    "        # Training minibatches and feed them into the tensor\n",
    "        for Xarr, Yarr in get_batches(X=Xtrain, Y=Ytrain, batch_size=Xvalid.shape[0]):\n",
    "            # X_NxWxCin, Y_NxCout\n",
    "            feed_dict = {X:Xarr, Y:Yarr}\n",
    "            lossarr, _, accarr = sess.run(feed_dict=feed_dict, fetches=[loss, opt, acc])\n",
    "            train_loss.append(lossarr)\n",
    "            train_acc.append(accarr)\n",
    "            \n",
    "        # Validation now which is one batch on every iteration\n",
    "        for Xarr, Yarr in get_batches(X=Xvalid, Y=Yvalid, batch_size=Xvalid.shape[0]): \n",
    "            # X_NxWxCin, Y_NxCout\n",
    "            feed_dict = {X:Xarr, Y:Yarr}\n",
    "            lossarr = sess.run(feed_dict=feed_dict, fetches=[loss])\n",
    "            valid_loss.append(lossarr)\n",
    "            valid_acc.append(accarr)\n",
    "        \n",
    "        # printing out train and validation loss\n",
    "        print('epoch:', epoch+1, 'train_loss:', np.mean(train_loss), 'valid_loss:', np.mean(valid_loss),\n",
    "             'train_acc:', np.mean(train_acc), 'valid_acc:', np.mean(valid_acc))\n",
    "        \n",
    "        # Every epoch, for drawing the plot and their learning curve\n",
    "        train_loss_mean.append(np.mean(train_loss))\n",
    "        valid_loss_mean.append(np.mean(valid_loss))\n",
    "        train_acc_mean.append(np.mean(train_acc))\n",
    "        valid_acc_mean.append(np.mean(valid_acc))\n",
    "        \n",
    "    # After all epochs and at the end of training and validation\n",
    "    saver.save(sess,'checkpoints/cnn-imu-har.ckpt')"
   ]
  },
  {
   "cell_type": "code",
   "execution_count": 16,
   "metadata": {},
   "outputs": [
    {
     "data": {
      "text/plain": [
       "<matplotlib.legend.Legend at 0x7f2408095320>"
      ]
     },
     "execution_count": 16,
     "metadata": {},
     "output_type": "execute_result"
    },
    {
     "data": {
      "image/png": "[encoded data removed]",
      "text/plain": [
       "<Figure size 432x288 with 1 Axes>"
      ]
     },
     "metadata": {},
     "output_type": "display_data"
    }
   ],
   "source": [
    "import matplotlib.pyplot as mplot\n",
    "%matplotlib inline\n",
    "\n",
    "mplot.plot(train_loss_mean, label='train_loss_mean')\n",
    "mplot.plot(valid_loss_mean, label='valid_loss_mean')\n",
    "mplot.legend()"
   ]
  },
  {
   "cell_type": "code",
   "execution_count": 17,
   "metadata": {},
   "outputs": [
    {
     "data": {
      "text/plain": [
       "<matplotlib.legend.Legend at 0x7f23e05834a8>"
      ]
     },
     "execution_count": 17,
     "metadata": {},
     "output_type": "execute_result"
    },
    {
     "data": {
      "image/png": "[encoded data removed]",
      "text/plain": [
       "<Figure size 432x288 with 1 Axes>"
      ]
     },
     "metadata": {},
     "output_type": "display_data"
    }
   ],
   "source": [
    "mplot.plot(train_acc_mean, label='train_acc_mean')\n",
    "mplot.plot(valid_acc_mean, label='valid_acc_mean')\n",
    "mplot.legend()"
   ]
  },
  {
   "cell_type": "code",
   "execution_count": 18,
   "metadata": {},
   "outputs": [
    {
     "name": "stdout",
     "output_type": "stream",
     "text": [
      "INFO:tensorflow:Restoring parameters from checkpoints/cnn-imu-har.ckpt\n",
      "test_loss: 117.6114 test acc 0.61060745\n"
     ]
    }
   ],
   "source": [
    "with tf.Session() as sess:\n",
    "    sess.run(fetches=tf.global_variables_initializer())\n",
    "    \n",
    "    # Loading the trained and validated model\n",
    "    saver.restore(save_path=tf.train.latest_checkpoint(checkpoint_dir='checkpoints/'), sess=sess)\n",
    "    \n",
    "    # Saving the test loss for every batch/minibtch\n",
    "    test_loss = []\n",
    "    test_acc = []\n",
    "    \n",
    "    # applying the loaded model on test data\n",
    "    for Xarr, Yarr in get_batches(X=Xtest, Y=Ytest, batch_size=Xvalid.shape[0]): \n",
    "        # X_NxWXCin, Y_NxCout\n",
    "        feed_dict={X:Xarr, Y:Yarr}\n",
    "        lossarr, accarr = sess.run(feed_dict=feed_dict, fetches=[loss, acc])\n",
    "        test_loss.append(lossarr)\n",
    "        test_acc.append(accarr)\n",
    "        \n",
    "    # Printing the test loss\n",
    "    print('test_loss:', np.mean(test_loss), 'test acc', np.mean(test_acc))"
   ]
  },
  {
   "cell_type": "code",
   "execution_count": null,
   "metadata": {},
   "outputs": [],
   "source": []
  }
 ],
 "metadata": {
  "kernelspec": {
   "display_name": "Python 3",
   "language": "python",
   "name": "python3"
  },
  "language_info": {
   "codemirror_mode": {
    "name": "ipython",
    "version": 3
   },
   "file_extension": ".py",
   "mimetype": "text/x-python",
   "name": "python",
   "nbconvert_exporter": "python",
   "pygments_lexer": "ipython3",
   "version": "3.6.5"
  },
  "widgets": {
   "state": {},
   "version": "1.1.2"
  }
 },
 "nbformat": 4,
 "nbformat_minor": 2
}
