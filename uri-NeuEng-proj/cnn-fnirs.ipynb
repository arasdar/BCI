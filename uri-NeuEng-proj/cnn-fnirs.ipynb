{
 "cells": [
  {
   "cell_type": "markdown",
   "metadata": {},
   "source": [
    "# fNIRS data for Human Activity Recognition (HAR)"
   ]
  },
  {
   "cell_type": "code",
   "execution_count": 120,
   "metadata": {},
   "outputs": [],
   "source": [
    "import numpy as np\n",
    "import os\n",
    "import pandas as pd"
   ]
  },
  {
   "cell_type": "code",
   "execution_count": 121,
   "metadata": {},
   "outputs": [
    {
     "name": "stdout",
     "output_type": "stream",
     "text": [
      "\u001b[0m\u001b[01;34mP12-4-17-2018\u001b[0m/  \u001b[01;34mP14-4-18-2018\u001b[0m/  \u001b[01;34mP16-4-18-2018\u001b[0m/\r\n",
      "\u001b[01;34mP13-4-17-2018\u001b[0m/  \u001b[01;34mP15-4-18-2018\u001b[0m/  \u001b[01;34mP17-4-18-2018\u001b[0m/\r\n"
     ]
    }
   ],
   "source": [
    "% ls ../../../datasets/fNIRs_data/\n",
    "# % find ../../datasets/fNIRs_data/ | grep fNIR_data"
   ]
  },
  {
   "cell_type": "code",
   "execution_count": 122,
   "metadata": {},
   "outputs": [
    {
     "name": "stdout",
     "output_type": "stream",
     "text": [
      "\u001b[0m\u001b[01;34m1. Right Hand\u001b[0m/  \u001b[01;34m2. Both Hands\u001b[0m/  \u001b[01;34m3. Left Hand\u001b[0m/  \u001b[01;34m4. Right Leg\u001b[0m/  \u001b[01;34m5. Left Leg\u001b[0m/\r\n"
     ]
    }
   ],
   "source": [
    "% ls ../../../datasets/fNIRs_data/P12-4-17-2018/"
   ]
  },
  {
   "cell_type": "code",
   "execution_count": 123,
   "metadata": {},
   "outputs": [
    {
     "name": "stdout",
     "output_type": "stream",
     "text": [
      "\u001b[0m\u001b[01;34m2018-04-17_006\u001b[0m/\r\n",
      "fNIR_data.txt\r\n",
      "head20180417-145130.txt\r\n",
      "NIRS-2018-04-17_006_deoxyhb_T141to2511_C1to20.txt\r\n",
      "NIRS-2018-04-17_006_oxyhb_T141to2511_C1to20.txt\r\n",
      "\u001b[01;34mProcessed\u001b[0m/\r\n",
      "r_hand20180417-145128.txt\r\n",
      "r_lower_arm20180417-145129.txt\r\n",
      "r_upper_arm20180417-145129.txt\r\n"
     ]
    }
   ],
   "source": [
    "% ls ../../../datasets/fNIRs_data/P12-4-17-2018/1.\\ Right\\ Hand"
   ]
  },
  {
   "cell_type": "code",
   "execution_count": 124,
   "metadata": {},
   "outputs": [],
   "source": [
    "def find_all(name, path):\n",
    "    result = []\n",
    "    for root, dirs, files in os.walk(path):\n",
    "        if name in files:\n",
    "            result.append(os.path.join(root, name))\n",
    "    return result"
   ]
  },
  {
   "cell_type": "code",
   "execution_count": 125,
   "metadata": {},
   "outputs": [
    {
     "data": {
      "text/plain": [
       "(['/home/arasdar/datasets/fNIRs_data/P12-4-17-2018/1. Right Hand/fNIR_data.txt',\n",
       "  '/home/arasdar/datasets/fNIRs_data/P12-4-17-2018/2. Both Hands/fNIR_data.txt',\n",
       "  '/home/arasdar/datasets/fNIRs_data/P12-4-17-2018/3. Left Hand/fNIR_data.txt',\n",
       "  '/home/arasdar/datasets/fNIRs_data/P12-4-17-2018/4. Right Leg/fNIR_data.txt',\n",
       "  '/home/arasdar/datasets/fNIRs_data/P12-4-17-2018/5. Left Leg/fNIR_data.txt',\n",
       "  '/home/arasdar/datasets/fNIRs_data/P13-4-17-2018/1. Right Hand/fNIR_data.txt',\n",
       "  '/home/arasdar/datasets/fNIRs_data/P13-4-17-2018/2. Both Hands/fNIR_data.txt',\n",
       "  '/home/arasdar/datasets/fNIRs_data/P13-4-17-2018/3. Left Hand/fNIR_data.txt',\n",
       "  '/home/arasdar/datasets/fNIRs_data/P13-4-17-2018/4. Right Leg/fNIR_data.txt',\n",
       "  '/home/arasdar/datasets/fNIRs_data/P13-4-17-2018/5. Left Leg/fNIR_data.txt',\n",
       "  '/home/arasdar/datasets/fNIRs_data/P14-4-18-2018/1. Right Hand/fNIR_data.txt',\n",
       "  '/home/arasdar/datasets/fNIRs_data/P14-4-18-2018/2. Both Hands/fNIR_data.txt',\n",
       "  '/home/arasdar/datasets/fNIRs_data/P14-4-18-2018/3. Left Hand/fNIR_data.txt',\n",
       "  '/home/arasdar/datasets/fNIRs_data/P14-4-18-2018/4. Right Leg/fNIR_data.txt',\n",
       "  '/home/arasdar/datasets/fNIRs_data/P14-4-18-2018/5. Left Leg/fNIR_data.txt',\n",
       "  '/home/arasdar/datasets/fNIRs_data/P15-4-18-2018/1. Right Hand/fNIR_data.txt',\n",
       "  '/home/arasdar/datasets/fNIRs_data/P15-4-18-2018/2. Both Hands/fNIR_data.txt',\n",
       "  '/home/arasdar/datasets/fNIRs_data/P15-4-18-2018/3. Left Hand/fNIR_data.txt',\n",
       "  '/home/arasdar/datasets/fNIRs_data/P15-4-18-2018/4. Right Leg/fNIR_data.txt',\n",
       "  '/home/arasdar/datasets/fNIRs_data/P15-4-18-2018/5. Left Leg/fNIR_data.txt',\n",
       "  '/home/arasdar/datasets/fNIRs_data/P16-4-18-2018/1. Right Hand/fNIR_data.txt',\n",
       "  '/home/arasdar/datasets/fNIRs_data/P16-4-18-2018/2. Both Hands/fNIR_data.txt',\n",
       "  '/home/arasdar/datasets/fNIRs_data/P16-4-18-2018/3. Left Hand/fNIR_data.txt',\n",
       "  '/home/arasdar/datasets/fNIRs_data/P16-4-18-2018/4. Right Leg/fNIR_data.txt',\n",
       "  '/home/arasdar/datasets/fNIRs_data/P16-4-18-2018/5. Left Leg/fNIR_data.txt',\n",
       "  '/home/arasdar/datasets/fNIRs_data/P17-4-18-2018/1. Right Hand/fNIR_data.txt',\n",
       "  '/home/arasdar/datasets/fNIRs_data/P17-4-18-2018/2. Both Hands/fNIR_data.txt',\n",
       "  '/home/arasdar/datasets/fNIRs_data/P17-4-18-2018/3. Left Hand/fNIR_data.txt',\n",
       "  '/home/arasdar/datasets/fNIRs_data/P17-4-18-2018/4. Right Leg/fNIR_data.txt',\n",
       "  '/home/arasdar/datasets/fNIRs_data/P17-4-18-2018/5. Left Leg/fNIR_data.txt'],\n",
       " 30)"
      ]
     },
     "execution_count": 125,
     "metadata": {},
     "output_type": "execute_result"
    }
   ],
   "source": [
    "allpaths = find_all(name='fNIR_data.txt', path='/home/arasdar/datasets/fNIRs_data/')\n",
    "((sorted(allpaths, reverse=False)), len(allpaths))"
   ]
  },
  {
   "cell_type": "code",
   "execution_count": 126,
   "metadata": {},
   "outputs": [
    {
     "name": "stderr",
     "output_type": "stream",
     "text": [
      "/home/arasdar/anaconda3/envs/arasdar-DL-env/lib/python3.6/site-packages/pandas/io/parsers.py:709: UserWarning: Duplicate names specified. This will raise an error in the future.\n",
      "  return _read(filepath_or_buffer, kwds)\n"
     ]
    }
   ],
   "source": [
    "# df: data frame object\n",
    "df = []\n",
    "for each_idx in range(len(allpaths)):\n",
    "    df.append(pd.read_csv(filepath_or_buffer=allpaths[each_idx], names=['time', 'sample', \n",
    "                       'channel', 'channel', 'channel', 'channel', 'channel',\n",
    "                       'channel', 'channel', 'channel', 'channel', 'channel',\n",
    "                       'channel', 'channel', 'channel', 'channel', 'channel',\n",
    "                       'channel', 'channel', 'channel', 'channel', 'channel',\n",
    "                       'channel', 'channel', 'channel', 'channel', 'channel',\n",
    "                       'channel', 'channel', 'channel', 'channel', 'channel',\n",
    "                       'channel', 'channel', 'channel', 'channel', 'channel',\n",
    "                       'channel', 'channel', 'channel', 'channel', 'channel']))"
   ]
  },
  {
   "cell_type": "code",
   "execution_count": 127,
   "metadata": {},
   "outputs": [
    {
     "name": "stderr",
     "output_type": "stream",
     "text": [
      "/home/arasdar/anaconda3/envs/arasdar-DL-env/lib/python3.6/site-packages/ipykernel_launcher.py:2: SettingWithCopyWarning: \n",
      "A value is trying to be set on a copy of a slice from a DataFrame\n",
      "\n",
      "See the caveats in the documentation: http://pandas.pydata.org/pandas-docs/stable/indexing.html#indexing-view-versus-copy\n",
      "  \n",
      "/home/arasdar/anaconda3/envs/arasdar-DL-env/lib/python3.6/site-packages/ipykernel_launcher.py:3: SettingWithCopyWarning: \n",
      "A value is trying to be set on a copy of a slice from a DataFrame\n",
      "\n",
      "See the caveats in the documentation: http://pandas.pydata.org/pandas-docs/stable/indexing.html#indexing-view-versus-copy\n",
      "  This is separate from the ipykernel package so we can avoid doing imports until\n"
     ]
    }
   ],
   "source": [
    "for each in range(len(df)):\n",
    "    df[each]['sample'][1:] = df[each]['sample'][1:].astype(str).str[2:]\n",
    "    df[each]['channel.39'][1:] = df[each]['channel.39'][1:].astype(str).str[1:-1]    "
   ]
  },
  {
   "cell_type": "code",
   "execution_count": 128,
   "metadata": {},
   "outputs": [],
   "source": [
    "matrices = []\n",
    "for each in range(len(df)):\n",
    "    matrices.append(df[each][1:].as_matrix().astype(float))"
   ]
  },
  {
   "cell_type": "code",
   "execution_count": 129,
   "metadata": {},
   "outputs": [],
   "source": [
    "# List of data and labels\n",
    "data, labels = [], []\n",
    "for row in range(0, len(matrices), 1):\n",
    "    data.append(matrices[row][:, 2:])\n",
    "    mat = np.zeros([data[row].shape[0], 5], dtype=int)\n",
    "    # for each in range(mat.shape[0]):\n",
    "    mat[:, row%5] = 1\n",
    "    labels.append(mat)\n",
    "# print(data[0].shape, labels[0].shape)\n",
    "# # data[0][1], labels[0][1]\n",
    "# print(len(data), len(labels))\n",
    "# # data[-1][1], labels[-1][1]"
   ]
  },
  {
   "cell_type": "code",
   "execution_count": 130,
   "metadata": {},
   "outputs": [],
   "source": [
    "# 0.70 percent each data whihc fNIRstxt is train and 0.30 is test\n",
    "# 30% of train data is validation which 21% and ~50% of the data is training.\n",
    "# The total is 50% train, 20% valid, 30% test\n",
    "ratio = 0.7\n",
    "Ltrain, Ltest = [], []\n",
    "Ytrain, Ytest = [], []\n",
    "\n",
    "each=0\n",
    "limit = int(data[each].shape[0]*ratio)\n",
    "Xtrain, Xtest = data[each][:limit], data[each][limit:]\n",
    "Ytrain.append(labels[each][:limit])\n",
    "Ytest.append(labels[each][limit:])\n",
    "Ltrain.append(data[each][:limit].shape[0])\n",
    "Ltest.append(data[each][limit:].shape[0])\n",
    "# print(Xtrain.shape, Xtest.shape) \n",
    "# print(Ytrain[each].shape, Ytest[each].shape) \n",
    "# print(Ltrain[each], Ltest[each]) \n",
    "\n",
    "for each in range(1, len(data), 1): # start, stop, step\n",
    "    # each=0\n",
    "    limit = int(data[each].shape[0]*ratio)\n",
    "    Xtrain, Xtest = np.vstack(tup=(Xtrain, data[each][:limit])), np.vstack(tup=(Xtest, data[each][limit:]))\n",
    "    Ltrain.append(data[each][:limit].shape[0])\n",
    "    Ltest.append(data[each][limit:].shape[0])\n",
    "    Ytrain.append(labels[each][:limit])\n",
    "    Ytest.append(labels[each][limit:])\n",
    "#     print(Ytrain[each].shape, Ytest[each].shape) \n",
    "#     print(Xtrain.shape, Xtest.shape) \n",
    "#     print(Ltrain[each], Ltest[each]) \n",
    "#     print(len(Ltrain), len(Ltest)) "
   ]
  },
  {
   "cell_type": "code",
   "execution_count": 131,
   "metadata": {},
   "outputs": [],
   "source": [
    "def Normalizing(X):\n",
    "    Xnorm = (X - X.mean(axis=0))/ X.std(axis=0)\n",
    "    print(Xnorm.shape, Xnorm.dtype, Xnorm.mean(axis=0), Xnorm.std(axis=0))\n",
    "    return Xnorm"
   ]
  },
  {
   "cell_type": "code",
   "execution_count": 132,
   "metadata": {},
   "outputs": [
    {
     "name": "stdout",
     "output_type": "stream",
     "text": [
      "(35269, 40) float64 [ 6.44684214e-17 -1.86958422e-16 -1.03149474e-16  2.57873686e-17\n",
      "  1.03149474e-16 -1.03149474e-16  0.00000000e+00  2.57873686e-17\n",
      " -4.51278950e-17  5.15747371e-17  9.02557900e-17 -6.44684214e-17\n",
      "  2.57873686e-16  1.03149474e-16  2.57873686e-17  2.57873686e-17\n",
      " -2.57873686e-17  5.15747371e-17  6.44684214e-18 -6.44684214e-18\n",
      "  7.73621057e-17 -2.57873686e-17 -2.57873686e-17  6.44684214e-17\n",
      " -1.67617896e-16  3.86810528e-17 -5.15747371e-17 -5.15747371e-17\n",
      " -1.67617896e-16  1.03149474e-16 -7.73621057e-17 -1.30548553e-16\n",
      " -1.03149474e-16  1.28936843e-16  1.54724211e-16  5.15747371e-17\n",
      " -5.15747371e-17  1.03149474e-16 -4.35161844e-17 -5.15747371e-17] [1. 1. 1. 1. 1. 1. 1. 1. 1. 1. 1. 1. 1. 1. 1. 1. 1. 1. 1. 1. 1. 1. 1. 1.\n",
      " 1. 1. 1. 1. 1. 1. 1. 1. 1. 1. 1. 1. 1. 1. 1. 1.]\n"
     ]
    }
   ],
   "source": [
    "Xtrain_norm = Normalizing(X=Xtrain)"
   ]
  },
  {
   "cell_type": "code",
   "execution_count": 133,
   "metadata": {},
   "outputs": [
    {
     "name": "stdout",
     "output_type": "stream",
     "text": [
      "(15136, 40) float64 [-1.05154316e-16 -9.01322709e-17  6.00881806e-17  2.10308632e-16\n",
      " -1.20176361e-16  2.10308632e-16  4.50661355e-17 -3.00440903e-17\n",
      " -5.25771580e-17  3.00440903e-17  9.01322709e-17 -9.01322709e-17\n",
      "  1.80264542e-16 -1.50220452e-16  9.01322709e-17  1.20176361e-16\n",
      "  1.65242497e-16 -1.65242497e-16 -6.00881806e-17 -6.00881806e-17\n",
      " -6.00881806e-17 -7.51102258e-17  9.01322709e-17  3.00440903e-17\n",
      "  6.00881806e-17 -6.00881806e-17  6.00881806e-17  1.80264542e-16\n",
      "  4.50661355e-17  0.00000000e+00  7.51102258e-17  6.00881806e-17\n",
      "  2.40352722e-16 -6.00881806e-17 -6.00881806e-17  9.01322709e-17\n",
      " -1.20176361e-16  6.00881806e-17  0.00000000e+00 -6.00881806e-17] [1. 1. 1. 1. 1. 1. 1. 1. 1. 1. 1. 1. 1. 1. 1. 1. 1. 1. 1. 1. 1. 1. 1. 1.\n",
      " 1. 1. 1. 1. 1. 1. 1. 1. 1. 1. 1. 1. 1. 1. 1. 1.]\n"
     ]
    }
   ],
   "source": [
    "Xtest_norm = Normalizing(X=Xtest)"
   ]
  },
  {
   "cell_type": "code",
   "execution_count": 134,
   "metadata": {},
   "outputs": [
    {
     "name": "stdout",
     "output_type": "stream",
     "text": [
      "(854, 40) (367, 40)\n",
      "(854, 5) (367, 5)\n",
      "float64 float64\n",
      "30 30\n"
     ]
    }
   ],
   "source": [
    "Xtrain, Xtest = [], []\n",
    "h_train, h_test = 0, 0\n",
    "# print(len(Ltrain), len(Ltest))\n",
    "\n",
    "for each in range(len(Ltrain)): # start, stop, step\n",
    "    # each = 0\n",
    "    l_train = h_train\n",
    "    h_train += Ltrain[each] \n",
    "    l_test = h_test\n",
    "    h_test += Ltest[each]\n",
    "    Xtrain.append(Xtrain_norm[l_train:h_train])\n",
    "    Xtest.append(Xtest_norm[l_test:h_test])\n",
    "print(Xtrain[each].shape, Xtest[each].shape)\n",
    "print(Ytrain[each].shape, Ytest[each].shape) \n",
    "print(Xtrain[each].dtype, Xtest[each].dtype)\n",
    "print(len(Xtrain), len(Xtest))"
   ]
  },
  {
   "cell_type": "code",
   "execution_count": 135,
   "metadata": {},
   "outputs": [],
   "source": [
    "# sr = 0.129 # 111933.573-111933.504 is the difference between each two samples or sampling rate\n",
    "# each_trial=30 # 30seconds=20sec+10sec\n",
    "# # num_samples_per_trial\n",
    "# # each trial or epoch based on BCI course\n",
    "# # height or window size\n",
    "# 30/0.129, np.floor(30/0.129), np.ceil(30/0.129)\n",
    "# # The size of each image for convnet will be 233x40x1 which is equal to the format NHWC, txn or NWC\n",
    "# # NWC is for signals since all the channels are projected the same as all channels in an image as well.\n",
    "# # In each convolutionn for image or signals the channels are all included for filtering\n",
    "# # Image or video might be part of this\n",
    "# # Image is NHWC or NCHW\n",
    "# # Signal is NWC or NCW\n",
    "# # N is the number of trials/epochs/windows\n",
    "# # C is the number of channels is 40 in this experiment: 20 for hemoglobin with o2 and 20 for hemoglobin with co2\n",
    "# # W is the window width size or signal window size which is 233\n",
    "# width = np.ceil(30/0.129)\n",
    "# # This is the number of minibatches per file\n",
    "# num_mb = mat.shape[0] - width +1\n",
    "# # num_mb # number of minibatches\n",
    "# # totla number of all the windows with the overlapping windows of 1 sample\n",
    "# num_mb, width\n",
    "# # len(allpaths), allpaths[44], num_mb*len(allpaths)"
   ]
  },
  {
   "cell_type": "code",
   "execution_count": 137,
   "metadata": {},
   "outputs": [],
   "source": [
    "size = Ltrain\n",
    "Xntrain, Xnvalid = [], []\n",
    "Yntrain, Ynvalid = [], []\n",
    "for each in range(0, len(size), 1):\n",
    "    limit = int(size[each]*ratio)\n",
    "#     print(limit, size[each]-limit)\n",
    "    Xntrain.append(Xtrain[each][:limit])\n",
    "#     print(Xntrain[each].shape)\n",
    "    Xnvalid.append(Xtrain[each][limit:])\n",
    "#     print(Xnvalid[each].shape)\n",
    "#     print(Xtrain[each].shape, Xntrain[each].shape, Xnvalid[each].shape)\n",
    "#     print(Xtrain[each].dtype, Xntrain[each].dtype, Xnvalid[each].dtype)\n",
    "    Yntrain.append(Ytrain[each][:limit])\n",
    "#     print(Xntrain[each].shape)\n",
    "    Ynvalid.append(Ytrain[each][limit:])\n",
    "#     print(Xnvalid[each].shape)\n",
    "#     print(Ytrain[each].shape, Yntrain[each].shape, Ynvalid[each].shape)"
   ]
  },
  {
   "cell_type": "code",
   "execution_count": 153,
   "metadata": {},
   "outputs": [],
   "source": [
    "# This is very much like a convolution for extracting the windows\n",
    "# size/width, stride/overlap, padding, dilation, num filters/out channel\n",
    "def minibatching(X, Y, stride, width):\n",
    "    Xmb, Ymb = [], []\n",
    "#     print(len(X), len(Y))\n",
    "    for eachX in range(len(X)):\n",
    "        num_mb = ((X[eachX].shape[0]-width)//stride)+1\n",
    "        for each in range(num_mb):\n",
    "            # The max is (num_mb-1)*stride+width==X[idx].shape[0]\n",
    "            # The last each is (num_mb-1)\n",
    "            # each = ((each-1)*stride)+width\n",
    "            each *= stride\n",
    "            Xmb.append(X[eachX][each:each+width])\n",
    "            # There is only one label for one image signal or signal window or temporal window\n",
    "            Ymb.append(Y[eachX][each:each+1])\n",
    "    # Converting python list to numpy array\n",
    "    # It is very good to remember this order: Python list Xlist, NumPy array Xarr, and TensorFlow tensor Xtensor\n",
    "    # Xlist, Xarr, Xtensor\n",
    "    Xmb = np.array(Xmb, dtype=float)\n",
    "    Ymb = np.array(Ymb, dtype=int).reshape(len(Ymb), -1)\n",
    "    return Xmb, Ymb"
   ]
  },
  {
   "cell_type": "code",
   "execution_count": 155,
   "metadata": {},
   "outputs": [
    {
     "name": "stdout",
     "output_type": "stream",
     "text": [
      "(42, 250, 40) (84, 250, 40) (36, 250, 40)\n",
      "(42, 5) (84, 5) (36, 5)\n"
     ]
    }
   ],
   "source": [
    "width = 250\n",
    "stride = width\n",
    "Xmbtrain, Ymbtrain = minibatching(X=Xntrain, Y=Yntrain, stride=stride, width=width)\n",
    "Xmbvalid, Ymbvalid = minibatching(X=Xnvalid, Y=Ynvalid, stride=stride, width=width)\n",
    "Xmbtest, Ymbtest = minibatching(X=Xtest, Y=Ytest, stride=stride, width=width)\n",
    "# for eachX, eachY in zip(Xmb, Ymb):\n",
    "#     print(eachX.shape, eachY.shape)\n",
    "# print(len(Xmbtrain), len(Ymbtrain))\n",
    "# print(len(Xmbvalid), len(Ymbvalid))\n",
    "# print(len(Xmbtest), len(Ymbtest))\n",
    "print(Xmbtest.shape, Xmbtrain.shape, Xmbvalid.shape)\n",
    "print(Ymbtest.shape, Ymbtrain.shape, Ymbvalid.shape)"
   ]
  },
  {
   "cell_type": "code",
   "execution_count": 161,
   "metadata": {},
   "outputs": [],
   "source": [
    "# def get_batches(X, Y, batch_size):\n",
    "#     \"\"\" Return a generator for batches \"\"\"\n",
    "#     n_batches = len(X) // batch_size\n",
    "#     X = X[:n_batches*batch_size]\n",
    "#     Y = Y[:n_batches*batch_size]\n",
    "\n",
    "#     #To understand what yield does, let's implement the equivalent of it;\n",
    "#     # Loop over batches and yield\n",
    "#     for b in range(0, len(X), batch_size):\n",
    "#         yield X[b:b+batch_size], Y[b:b+batch_size]\n",
    "# #     Xbatch, Ybatch = [], []\n",
    "# #     for b in range(0, len(X), batch_size):\n",
    "# #         Xbatch.append(X[b:b+batch_size]) \n",
    "# #         Ybatch.append(Y[b:b+batch_size])\n",
    "# #     # Converting the python list into an numpy array     \n",
    "# # #     Xbatch=np.array(Xbatch, dtype=np.float).reshape(len(Xbatch), Xbatch[0].shape[0], Xbatch[0].shape[1]) \n",
    "# # #     Ybatch=np.array(Ybatch, dtype=np.int).reshape(len(Ybatch), Ybatch[0].shape[1])\n",
    "# #     return Xbatch, Ybatch"
   ]
  },
  {
   "cell_type": "code",
   "execution_count": 162,
   "metadata": {},
   "outputs": [],
   "source": [
    "# X, Y = get_batches(X=Xmbtrain, Y=Ymbtrain, batch_size=10)\n",
    "# # X, Y = get_batches(X=Xmbvalid, Y=Ymbvalid, batch_size=10)\n",
    "# # X, Y = get_batches(X=Xmbtrain, Y=Ymbtrain, batch_size=10)\n",
    "\n",
    "# # for eachX, eachY in zip(X, Y):\n",
    "# # print(len(eachX), len(eachY), eachX[1].shape, eachY[9].shape)\n",
    "# print(X.shape, Y.shape)"
   ]
  },
  {
   "cell_type": "code",
   "execution_count": 163,
   "metadata": {},
   "outputs": [],
   "source": [
    "# np.array(X, dtype=np.float).shape, np.array(Y, dtype=np.int).shape\n",
    "# # np.array(X, dtype=np.float).reshape(len(X), X[0].shape[0], X[0].shape[1])\n",
    "# # .dtype, np.array(Y, dtype=np.int).reshape(84, 5).dtype\n",
    "# # np.array(X, dtype=np.float).reshape(84, 250, 40).shape, np.array(Y, dtype=np.int).reshape(84, 5).shape"
   ]
  },
  {
   "cell_type": "code",
   "execution_count": 164,
   "metadata": {},
   "outputs": [
    {
     "name": "stdout",
     "output_type": "stream",
     "text": [
      "84 250 40\n"
     ]
    }
   ],
   "source": [
    "## Hyperparameters\n",
    "# Input data\n",
    "# NWC for signal: N is batch size, W is the width/sequence length, and C is the number of channels\n",
    "# NHWC for images: This is the same as signals and H stands for height\n",
    "# N, W, C = len(Xmbtrain), Xmbtrain[0].shape[0], Xmbtrain[0].shape[1]\n",
    "N, W, C = Xmbtrain.shape[0], Xmbtrain.shape[1], Xmbtrain.shape[2]\n",
    "print(N, W, C)\n",
    "# batch_size, seq_len, n_channels = N, W, C\n",
    "# print('batch_size, seq_len, n_channels', batch_size, seq_len, n_channels)"
   ]
  },
  {
   "cell_type": "code",
   "execution_count": 165,
   "metadata": {},
   "outputs": [
    {
     "name": "stdout",
     "output_type": "stream",
     "text": [
      "TensorFlow Version: 1.7.0\n",
      "Default GPU Device: /device:GPU:0\n"
     ]
    }
   ],
   "source": [
    "# GPUs or CPU\n",
    "import tensorflow as tf\n",
    "\n",
    "# Check TensorFlow Version\n",
    "print('TensorFlow Version: {}'.format(tf.__version__))\n",
    "\n",
    "# Check for a GPU\n",
    "print('Default GPU Device: {}'.format(tf.test.gpu_device_name()))"
   ]
  },
  {
   "cell_type": "code",
   "execution_count": 166,
   "metadata": {},
   "outputs": [],
   "source": [
    "# Input and output and hyperpaprameters NP tensors to feed into TF tensors: NP2TF tensors for computation\n",
    "# Input and output and hyperpaprameters tensors to feed into the tensor flow framwork\n",
    "# Xin = tf.placeholder(dtype=tf.float32, shape=[None, seq_len, n_channels], name=None)\n",
    "# Xnwc or Xn, Xw, Xc or \n",
    "# Xnhwc or Xn, Xh, Xw, Xc\n",
    "# Wnhwc or Wn, Wh, Ww, Wc or\n",
    "# Wnwc or Wn, Ww, Wc\n",
    "# Operations: Mul or Conv\n",
    "# shape = [kernel_width, input_depth, output_depth] \n",
    "# NWC for Weights/filters/kernels/synapses\n",
    "# Data NWC or NHWC\n",
    "# Weight WCN or HWCN\n",
    "# Operations Mul @ or Conv, +- as well\n",
    "# keep_prob = tf.placeholder(dtype=tf.float16, name=None, shape=None)\n",
    "# learning_rate = tf.placeholder(dtype=tf.float16, name=None, shape=None)\n",
    "# Continuous is float precision but descrete/discreet is int\n",
    "# the rest is boolean/binary"
   ]
  },
  {
   "cell_type": "code",
   "execution_count": 167,
   "metadata": {},
   "outputs": [],
   "source": [
    "Xin = tf.placeholder(dtype=tf.float16, name=None, shape=[N, W, C])\n",
    "Yin = tf.placeholder(dtype=tf.int8, name=None, shape=[N, 5])"
   ]
  },
  {
   "cell_type": "code",
   "execution_count": 205,
   "metadata": {},
   "outputs": [
    {
     "name": "stdout",
     "output_type": "stream",
     "text": [
      "(84, 50, 80) <dtype: 'float16'>\n",
      "(25, 80, 160) <dtype: 'float16_ref'>\n",
      "(84, 10, 160) <dtype: 'float16'>\n"
     ]
    }
   ],
   "source": [
    "print(Xin.shape, Xin.dtype)\n",
    "Ww, Wc, Wn = Xin.shape[1].value//2, Xin.shape[2].value, Xin.shape[2].value*2\n",
    "shape = [Ww, Wc, Wn]\n",
    "init_val = tf.random_normal(dtype=tf.float16, mean=0.0, name=None, shape=shape, stddev=1.0)\n",
    "W1 = tf.Variable(dtype=tf.float16, initial_value=init_val, name=None, trainable=True)\n",
    "print(W1.shape, W1.dtype)\n",
    "Xconv = tf.nn.conv1d(data_format='NWC', filters=W1, name=None, padding='SAME', stride=5, use_cudnn_on_gpu=True, \n",
    "                     value=Xin)\n",
    "# Xconv = tf.nn.relu(features=Xconv, name=None)\n",
    "print(Xconv.shape, Xconv.dtype)"
   ]
  },
  {
   "cell_type": "code",
   "execution_count": 211,
   "metadata": {},
   "outputs": [],
   "source": [
    "# # This is the final layer for classification purposes\n",
    "# print(Xconv.shape, Xconv.dtype)\n",
    "# print(Yin.shape, Yin.dtype)\n",
    "# # Xin=Xout\n",
    "# Ww, Wc, Wn = Xconv.shape[1].value, Xconv.shape[2].value, Yin.shape[1].value\n",
    "# shape = [Ww*Wc, Wn]\n",
    "# init_val = tf.random_normal(dtype=tf.float16, mean=0.0, name=None, shape=shape, stddev=1.0)\n",
    "# W4 = tf.Variable(dtype=tf.float16, initial_value=init_val, name=None, trainable=True)\n",
    "# print(W4.shape, W4.dtype)\n",
    "# N, W, C = Xconv.shape[0].value, Xconv.shape[1].value, Xconv.shape[2].value\n",
    "# shape = [N, W*C]\n",
    "# Xconv_reshaped = tf.reshape(name=None, shape=shape, tensor=Xconv)\n",
    "# print(Xconv_reshaped.shape)\n",
    "# Xlogit = tf.matmul(a=Xconv_reshaped, b=W4, name=None)\n",
    "# print(Xlogit.shape, Xlogit.dtype)"
   ]
  },
  {
   "cell_type": "code",
   "execution_count": 212,
   "metadata": {},
   "outputs": [],
   "source": [
    "# err_tensor = tf.nn.softmax_cross_entropy_with_logits_v2(labels=Yin, logits=Xout, name=None)\n",
    "# print(err_tensor)\n",
    "# err = tf.reduce_mean(axis=0, input_tensor=err_tensor, name=None)\n",
    "# print(err)"
   ]
  },
  {
   "cell_type": "code",
   "execution_count": 213,
   "metadata": {},
   "outputs": [],
   "source": [
    "# # This is BP + SGD for backpropagating the error and optimizing the error using SGD\n",
    "# # __init__(\n",
    "# #     learning_rate=0.001,\n",
    "# #     beta1=0.9,\n",
    "# #     beta2=0.999,\n",
    "# #     epsilon=1e-08,\n",
    "# #     use_locking=False,\n",
    "# #     name='Adam'\n",
    "# # )\n",
    "# opt = tf.train.AdamOptimizer(beta1=0.9, beta2=0.999, epsilon=1e-08, learning_rate=0.001, name='Adam', \n",
    "#                              use_locking=False).minimize(err)"
   ]
  },
  {
   "cell_type": "code",
   "execution_count": 214,
   "metadata": {},
   "outputs": [],
   "source": [
    "# print(N, Xmbtrain[0].shape, Ymbtrain[0].shape, len(Xmbtrain))"
   ]
  },
  {
   "cell_type": "code",
   "execution_count": 215,
   "metadata": {},
   "outputs": [
    {
     "ename": "ValueError",
     "evalue": "Cannot feed value of shape (84, 250, 40) for Tensor 'Relu_11:0', which has shape '(84, 50, 80)'",
     "output_type": "error",
     "traceback": [
      "\u001b[0;31m---------------------------------------------------------------------------\u001b[0m",
      "\u001b[0;31mValueError\u001b[0m                                Traceback (most recent call last)",
      "\u001b[0;32m<ipython-input-215-88bf0bedf36e>\u001b[0m in \u001b[0;36m<module>\u001b[0;34m()\u001b[0m\n\u001b[1;32m     15\u001b[0m \u001b[0;34m\u001b[0m\u001b[0m\n\u001b[1;32m     16\u001b[0m         \u001b[0;31m# Loss/Error\u001b[0m\u001b[0;34m\u001b[0m\u001b[0;34m\u001b[0m\u001b[0m\n\u001b[0;32m---> 17\u001b[0;31m         \u001b[0mXconvarr\u001b[0m \u001b[0;34m=\u001b[0m \u001b[0msess\u001b[0m\u001b[0;34m.\u001b[0m\u001b[0mrun\u001b[0m\u001b[0;34m(\u001b[0m\u001b[0mfetches\u001b[0m\u001b[0;34m=\u001b[0m\u001b[0;34m[\u001b[0m\u001b[0mXconv\u001b[0m\u001b[0;34m]\u001b[0m\u001b[0;34m,\u001b[0m \u001b[0mfeed_dict\u001b[0m\u001b[0;34m=\u001b[0m\u001b[0mfeed_dict\u001b[0m\u001b[0;34m)\u001b[0m\u001b[0;34m\u001b[0m\u001b[0m\n\u001b[0m\u001b[1;32m     18\u001b[0m         \u001b[0mprint\u001b[0m\u001b[0;34m(\u001b[0m\u001b[0mXconvarr\u001b[0m\u001b[0;34m.\u001b[0m\u001b[0mshape\u001b[0m\u001b[0;34m)\u001b[0m\u001b[0;34m\u001b[0m\u001b[0m\n\u001b[1;32m     19\u001b[0m \u001b[0;31m#         train_loss.append(loss)\u001b[0m\u001b[0;34m\u001b[0m\u001b[0;34m\u001b[0m\u001b[0m\n",
      "\u001b[0;32m~/anaconda3/envs/arasdar-DL-env/lib/python3.6/site-packages/tensorflow/python/client/session.py\u001b[0m in \u001b[0;36mrun\u001b[0;34m(self, fetches, feed_dict, options, run_metadata)\u001b[0m\n\u001b[1;32m    903\u001b[0m     \u001b[0;32mtry\u001b[0m\u001b[0;34m:\u001b[0m\u001b[0;34m\u001b[0m\u001b[0m\n\u001b[1;32m    904\u001b[0m       result = self._run(None, fetches, feed_dict, options_ptr,\n\u001b[0;32m--> 905\u001b[0;31m                          run_metadata_ptr)\n\u001b[0m\u001b[1;32m    906\u001b[0m       \u001b[0;32mif\u001b[0m \u001b[0mrun_metadata\u001b[0m\u001b[0;34m:\u001b[0m\u001b[0;34m\u001b[0m\u001b[0m\n\u001b[1;32m    907\u001b[0m         \u001b[0mproto_data\u001b[0m \u001b[0;34m=\u001b[0m \u001b[0mtf_session\u001b[0m\u001b[0;34m.\u001b[0m\u001b[0mTF_GetBuffer\u001b[0m\u001b[0;34m(\u001b[0m\u001b[0mrun_metadata_ptr\u001b[0m\u001b[0;34m)\u001b[0m\u001b[0;34m\u001b[0m\u001b[0m\n",
      "\u001b[0;32m~/anaconda3/envs/arasdar-DL-env/lib/python3.6/site-packages/tensorflow/python/client/session.py\u001b[0m in \u001b[0;36m_run\u001b[0;34m(self, handle, fetches, feed_dict, options, run_metadata)\u001b[0m\n\u001b[1;32m   1114\u001b[0m                              \u001b[0;34m'which has shape %r'\u001b[0m \u001b[0;34m%\u001b[0m\u001b[0;34m\u001b[0m\u001b[0m\n\u001b[1;32m   1115\u001b[0m                              (np_val.shape, subfeed_t.name,\n\u001b[0;32m-> 1116\u001b[0;31m                               str(subfeed_t.get_shape())))\n\u001b[0m\u001b[1;32m   1117\u001b[0m           \u001b[0;32mif\u001b[0m \u001b[0;32mnot\u001b[0m \u001b[0mself\u001b[0m\u001b[0;34m.\u001b[0m\u001b[0mgraph\u001b[0m\u001b[0;34m.\u001b[0m\u001b[0mis_feedable\u001b[0m\u001b[0;34m(\u001b[0m\u001b[0msubfeed_t\u001b[0m\u001b[0;34m)\u001b[0m\u001b[0;34m:\u001b[0m\u001b[0;34m\u001b[0m\u001b[0m\n\u001b[1;32m   1118\u001b[0m             \u001b[0;32mraise\u001b[0m \u001b[0mValueError\u001b[0m\u001b[0;34m(\u001b[0m\u001b[0;34m'Tensor %s may not be fed.'\u001b[0m \u001b[0;34m%\u001b[0m \u001b[0msubfeed_t\u001b[0m\u001b[0;34m)\u001b[0m\u001b[0;34m\u001b[0m\u001b[0m\n",
      "\u001b[0;31mValueError\u001b[0m: Cannot feed value of shape (84, 250, 40) for Tensor 'Relu_11:0', which has shape '(84, 50, 80)'"
     ]
    }
   ],
   "source": [
    "# Save the training result or trained and validated model params\n",
    "epochs = 1\n",
    "\n",
    "with tf.Session() as sess:\n",
    "    # my assumption is the local variables are the parameters and hyperparameters\n",
    "    # the globala variables are the one needed/required by the seession/graph to run\n",
    "    sess.run(fetches=tf.global_variables_initializer())\n",
    "   \n",
    "    # Loop over epochs\n",
    "    for epoch in range(epochs):\n",
    "        \n",
    "        ######################## Training in every epoch/iteration\n",
    "        # Feed dictionary\n",
    "        feed_dict = {Xin:Xmbtrain}\n",
    "            \n",
    "        # Loss/Error\n",
    "        Xconvarr = sess.run(fetches=[Xconv], feed_dict=feed_dict)\n",
    "        print(Xconvarr.shape)\n",
    "#         train_loss.append(loss)\n",
    "\n",
    "#             ################## Validation\n",
    "#             loss_batch = []    \n",
    "#             # Loop over batches\n",
    "#             for X_valid_norm_batch, _ in get_batches(X_valid_norm, Y_valid_onehot, batch_size):\n",
    "\n",
    "#                 # Feed dictionary\n",
    "#                 feed = {Xin : X_valid_norm_batch, keep_prob_ : 1.0} \n",
    "#                 # no learning is needed therefore no learning rate is needed.\n",
    "\n",
    "#                 # Loss\n",
    "#                 loss = sess.run(fetches=[cost], feed_dict = feed)\n",
    "#                 # no learning is needed therefore no learning rate is needed.\n",
    "#                 # Therefore no optimization approach or backprop is needed either.\n",
    "#                 loss_batch.append(loss)\n",
    "\n",
    "#             # Store\n",
    "#             valid_loss.append(np.mean(loss_batch))\n",
    "            \n",
    "#         # Print info for every iter/epoch\n",
    "#         print(\"Epoch: {}/{}\".format(e+1, epochs),\n",
    "#               \"Train loss: {:6f}\".format(np.mean(train_loss)),\n",
    "#               \"Valid loss: {:.6f}\".format(np.mean(valid_loss)))\n",
    "    \n",
    "#     # At the end of training and validation\n",
    "#     saver.save(sess,\"checkpoints/cnn-har-TEST.ckpt\")"
   ]
  },
  {
   "cell_type": "code",
   "execution_count": null,
   "metadata": {},
   "outputs": [],
   "source": []
  }
 ],
 "metadata": {
  "kernelspec": {
   "display_name": "Python 3",
   "language": "python",
   "name": "python3"
  },
  "language_info": {
   "codemirror_mode": {
    "name": "ipython",
    "version": 3
   },
   "file_extension": ".py",
   "mimetype": "text/x-python",
   "name": "python",
   "nbconvert_exporter": "python",
   "pygments_lexer": "ipython3",
   "version": "3.6.5"
  }
 },
 "nbformat": 4,
 "nbformat_minor": 2
}
