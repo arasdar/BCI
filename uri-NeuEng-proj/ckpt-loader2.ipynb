{
 "cells": [
  {
   "cell_type": "code",
   "execution_count": 1,
   "metadata": {},
   "outputs": [],
   "source": [
    "import tensorflow as tf"
   ]
  },
  {
   "cell_type": "code",
   "execution_count": 4,
   "metadata": {},
   "outputs": [],
   "source": [
    "ckpt = tf.train.load_checkpoint(ckpt_dir_or_file='checkpoints/cnn-fnirs-autoencoder.ckpt')"
   ]
  },
  {
   "cell_type": "code",
   "execution_count": 6,
   "metadata": {},
   "outputs": [
    {
     "data": {
      "text/plain": [
       "b'Variable (DT_FLOAT) [62,40,80]\\nVariable_1 (DT_FLOAT) [62,40,80]\\nVariable_1/Adam (DT_FLOAT) [62,40,80]\\nVariable_1/Adam_1 (DT_FLOAT) [62,40,80]\\nVariable_2 (DT_FLOAT) [31,80,160]\\nVariable_2/Adam (DT_FLOAT) [31,80,160]\\nVariable_2/Adam_1 (DT_FLOAT) [31,80,160]\\nVariable_3 (DT_FLOAT) [15,160,320]\\nVariable_3/Adam (DT_FLOAT) [15,160,320]\\nVariable_3/Adam_1 (DT_FLOAT) [15,160,320]\\nVariable_4 (DT_FLOAT) [15,160,320]\\nVariable_5 (DT_FLOAT) [31,80,160]\\nVariable_6 (DT_FLOAT) [62,40,80]\\nbeta1_power (DT_FLOAT) []\\nbeta2_power (DT_FLOAT) []\\n'"
      ]
     },
     "execution_count": 6,
     "metadata": {},
     "output_type": "execute_result"
    }
   ],
   "source": [
    "ckpt.debug_string()"
   ]
  },
  {
   "cell_type": "code",
   "execution_count": 7,
   "metadata": {},
   "outputs": [
    {
     "data": {
      "text/plain": [
       "{'beta2_power': tf.float32,\n",
       " 'beta1_power': tf.float32,\n",
       " 'Variable_6': tf.float32,\n",
       " 'Variable_5': tf.float32,\n",
       " 'Variable_3/Adam_1': tf.float32,\n",
       " 'Variable_2/Adam_1': tf.float32,\n",
       " 'Variable_3': tf.float32,\n",
       " 'Variable_1': tf.float32,\n",
       " 'Variable': tf.float32,\n",
       " 'Variable_2': tf.float32,\n",
       " 'Variable_1/Adam': tf.float32,\n",
       " 'Variable_3/Adam': tf.float32,\n",
       " 'Variable_1/Adam_1': tf.float32,\n",
       " 'Variable_4': tf.float32,\n",
       " 'Variable_2/Adam': tf.float32}"
      ]
     },
     "execution_count": 7,
     "metadata": {},
     "output_type": "execute_result"
    }
   ],
   "source": [
    "ckpt.get_variable_to_dtype_map()"
   ]
  },
  {
   "cell_type": "code",
   "execution_count": 9,
   "metadata": {},
   "outputs": [
    {
     "data": {
      "text/plain": [
       "{'beta2_power': [],\n",
       " 'beta1_power': [],\n",
       " 'Variable_6': [62, 40, 80],\n",
       " 'Variable_5': [31, 80, 160],\n",
       " 'Variable_3/Adam_1': [15, 160, 320],\n",
       " 'Variable_2/Adam_1': [31, 80, 160],\n",
       " 'Variable_3': [15, 160, 320],\n",
       " 'Variable_1': [62, 40, 80],\n",
       " 'Variable': [62, 40, 80],\n",
       " 'Variable_2': [31, 80, 160],\n",
       " 'Variable_1/Adam': [62, 40, 80],\n",
       " 'Variable_3/Adam': [15, 160, 320],\n",
       " 'Variable_1/Adam_1': [62, 40, 80],\n",
       " 'Variable_4': [15, 160, 320],\n",
       " 'Variable_2/Adam': [31, 80, 160]}"
      ]
     },
     "execution_count": 9,
     "metadata": {},
     "output_type": "execute_result"
    }
   ],
   "source": [
    "ckpt.get_variable_to_shape_map()"
   ]
  },
  {
   "cell_type": "code",
   "execution_count": null,
   "metadata": {},
   "outputs": [],
   "source": [
    "ckpt.get_tensor(tensor_str='')"
   ]
  }
 ],
 "metadata": {
  "kernelspec": {
   "display_name": "Python 3",
   "language": "python",
   "name": "python3"
  },
  "language_info": {
   "codemirror_mode": {
    "name": "ipython",
    "version": 3
   },
   "file_extension": ".py",
   "mimetype": "text/x-python",
   "name": "python",
   "nbconvert_exporter": "python",
   "pygments_lexer": "ipython3",
   "version": "3.6.5"
  }
 },
 "nbformat": 4,
 "nbformat_minor": 2
}
