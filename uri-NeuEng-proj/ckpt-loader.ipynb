{
 "cells": [
  {
   "cell_type": "code",
   "execution_count": 1,
   "metadata": {},
   "outputs": [],
   "source": [
    "import tensorflow as tf"
   ]
  },
  {
   "cell_type": "code",
   "execution_count": 2,
   "metadata": {},
   "outputs": [
    {
     "name": "stdout",
     "output_type": "stream",
     "text": [
      "(62, 40, 80)\n",
      "float32\n",
      "b'Variable (DT_FLOAT) [62,40,80]\\nVariable_1 (DT_FLOAT) [62,40,80]\\nVariable_1/Adam (DT_FLOAT) [62,40,80]\\nVariable_1/Adam_1 (DT_FLOAT) [62,40,80]\\nVariable_2 (DT_FLOAT) [31,80,160]\\nVariable_2/Adam (DT_FLOAT) [31,80,160]\\nVariable_2/Adam_1 (DT_FLOAT) [31,80,160]\\nVariable_3 (DT_FLOAT) [15,160,320]\\nVariable_3/Adam (DT_FLOAT) [15,160,320]\\nVariable_3/Adam_1 (DT_FLOAT) [15,160,320]\\nVariable_4 (DT_FLOAT) [15,160,320]\\nVariable_5 (DT_FLOAT) [31,80,160]\\nVariable_6 (DT_FLOAT) [62,40,80]\\nbeta1_power (DT_FLOAT) []\\nbeta2_power (DT_FLOAT) []\\n' {'beta2_power': tf.float32, 'beta1_power': tf.float32, 'Variable_6': tf.float32, 'Variable_5': tf.float32, 'Variable_3/Adam_1': tf.float32, 'Variable_2/Adam_1': tf.float32, 'Variable_3': tf.float32, 'Variable_1': tf.float32, 'Variable': tf.float32, 'Variable_2': tf.float32, 'Variable_1/Adam': tf.float32, 'Variable_3/Adam': tf.float32, 'Variable_1/Adam_1': tf.float32, 'Variable_4': tf.float32, 'Variable_2/Adam': tf.float32} {'beta2_power': [], 'beta1_power': [], 'Variable_6': [62, 40, 80], 'Variable_5': [31, 80, 160], 'Variable_3/Adam_1': [15, 160, 320], 'Variable_2/Adam_1': [31, 80, 160], 'Variable_3': [15, 160, 320], 'Variable_1': [62, 40, 80], 'Variable': [62, 40, 80], 'Variable_2': [31, 80, 160], 'Variable_1/Adam': [62, 40, 80], 'Variable_3/Adam': [15, 160, 320], 'Variable_1/Adam_1': [62, 40, 80], 'Variable_4': [15, 160, 320], 'Variable_2/Adam': [31, 80, 160]}\n",
      "True <Swig Object of type 'tensorflow::checkpoint::CheckpointReader *' at 0x7fa1944921b0>\n"
     ]
    }
   ],
   "source": [
    "# import the inspect_checkpoint library\n",
    "from tensorflow.python.tools import inspect_checkpoint as chkp\n",
    "\n",
    "ckpt_loaded = tf.train.load_checkpoint(ckpt_dir_or_file='./checkpoints/cnn-fnirs-autoencoder.ckpt')\n",
    "print(ckpt_loaded.get_tensor(tensor_str='Variable_6').shape)\n",
    "print(ckpt_loaded.get_tensor(tensor_str='Variable_6').dtype)\n",
    "print(ckpt_loaded.debug_string(), ckpt_loaded.get_variable_to_dtype_map(), ckpt_loaded.get_variable_to_shape_map())\n",
    "print(ckpt_loaded.has_tensor(tensor_str='Variable_1'), ckpt_loaded.this)\n",
    "# tf.train.load_checkpoint(ckpt_dir_or_file='./checkpoints/cnn-fnirs-autoencoder.ckpt')\n",
    "# # print all tensors in checkpoint file\n",
    "# chkp.print_tensors_in_checkpoint_file(file_name='checkpoints/cnn-fnirs-autoencoder.ckpt', tensor_name='', \n",
    "#                                       all_tensors=False, \n",
    "#                                       all_tensor_names='')"
   ]
  },
  {
   "cell_type": "code",
   "execution_count": 3,
   "metadata": {},
   "outputs": [
    {
     "data": {
      "text/plain": [
       "{'beta2_power': [],\n",
       " 'beta1_power': [],\n",
       " 'Variable_6': [62, 40, 80],\n",
       " 'Variable_5': [31, 80, 160],\n",
       " 'Variable_3/Adam_1': [15, 160, 320],\n",
       " 'Variable_2/Adam_1': [31, 80, 160],\n",
       " 'Variable_3': [15, 160, 320],\n",
       " 'Variable_1': [62, 40, 80],\n",
       " 'Variable': [62, 40, 80],\n",
       " 'Variable_2': [31, 80, 160],\n",
       " 'Variable_1/Adam': [62, 40, 80],\n",
       " 'Variable_3/Adam': [15, 160, 320],\n",
       " 'Variable_1/Adam_1': [62, 40, 80],\n",
       " 'Variable_4': [15, 160, 320],\n",
       " 'Variable_2/Adam': [31, 80, 160]}"
      ]
     },
     "execution_count": 3,
     "metadata": {},
     "output_type": "execute_result"
    }
   ],
   "source": [
    "ckpt_loaded.get_variable_to_shape_map()"
   ]
  },
  {
   "cell_type": "code",
   "execution_count": 4,
   "metadata": {},
   "outputs": [
    {
     "data": {
      "text/plain": [
       "1.4142426"
      ]
     },
     "execution_count": 4,
     "metadata": {},
     "output_type": "execute_result"
    }
   ],
   "source": [
    "ckpt_loaded.get_tensor(tensor_str='Variable_6').shape, ckpt_loaded.get_tensor(tensor_str='Variable_6').dtype\n",
    "ckpt_loaded.get_tensor(tensor_str='Variable_6')[0, 0, 1]"
   ]
  },
  {
   "cell_type": "code",
   "execution_count": 6,
   "metadata": {},
   "outputs": [],
   "source": [
    "# # import the inspect_checkpoint library\n",
    "# from tensorflow.python.tools import inspect_checkpoint as ckpt"
   ]
  },
  {
   "cell_type": "code",
   "execution_count": 7,
   "metadata": {},
   "outputs": [],
   "source": [
    "# ckpt."
   ]
  },
  {
   "cell_type": "code",
   "execution_count": 8,
   "metadata": {},
   "outputs": [],
   "source": [
    "import tensorflow as tf"
   ]
  },
  {
   "cell_type": "code",
   "execution_count": 15,
   "metadata": {},
   "outputs": [],
   "source": [
    "# tf.train.load_variable(ckpt_dir_or_file='./checkpoints/cnn-fnirs-autoencoder.ckpt', name=None)\n",
    "ckpt = tf.train.load_checkpoint(ckpt_dir_or_file='./checkpoints/cnn-fnirs-autoencoder.ckpt')"
   ]
  },
  {
   "cell_type": "code",
   "execution_count": 20,
   "metadata": {},
   "outputs": [
    {
     "data": {
      "text/plain": [
       "{'beta2_power': [],\n",
       " 'beta1_power': [],\n",
       " 'Variable_6': [62, 40, 80],\n",
       " 'Variable_5': [31, 80, 160],\n",
       " 'Variable_3/Adam_1': [15, 160, 320],\n",
       " 'Variable_2/Adam_1': [31, 80, 160],\n",
       " 'Variable_3': [15, 160, 320],\n",
       " 'Variable_1': [62, 40, 80],\n",
       " 'Variable': [62, 40, 80],\n",
       " 'Variable_2': [31, 80, 160],\n",
       " 'Variable_1/Adam': [62, 40, 80],\n",
       " 'Variable_3/Adam': [15, 160, 320],\n",
       " 'Variable_1/Adam_1': [62, 40, 80],\n",
       " 'Variable_4': [15, 160, 320],\n",
       " 'Variable_2/Adam': [31, 80, 160]}"
      ]
     },
     "execution_count": 20,
     "metadata": {},
     "output_type": "execute_result"
    }
   ],
   "source": [
    "# checkpoint ckpt\n",
    "ckpt.debug_string(), \n",
    "ckpt.get_variable_to_shape_map()"
   ]
  },
  {
   "cell_type": "code",
   "execution_count": 23,
   "metadata": {},
   "outputs": [
    {
     "data": {
      "text/plain": [
       "(62, 40, 80)"
      ]
     },
     "execution_count": 23,
     "metadata": {},
     "output_type": "execute_result"
    }
   ],
   "source": [
    "ckpt.get_tensor(tensor_str='Variable_6').shape"
   ]
  },
  {
   "cell_type": "code",
   "execution_count": 25,
   "metadata": {},
   "outputs": [
    {
     "data": {
      "text/plain": [
       "dtype('float32')"
      ]
     },
     "execution_count": 25,
     "metadata": {},
     "output_type": "execute_result"
    }
   ],
   "source": [
    "ckpt.get_tensor(tensor_str='Variable_6').dtype"
   ]
  },
  {
   "cell_type": "code",
   "execution_count": null,
   "metadata": {},
   "outputs": [],
   "source": []
  }
 ],
 "metadata": {
  "kernelspec": {
   "display_name": "Python 3",
   "language": "python",
   "name": "python3"
  },
  "language_info": {
   "codemirror_mode": {
    "name": "ipython",
    "version": 3
   },
   "file_extension": ".py",
   "mimetype": "text/x-python",
   "name": "python",
   "nbconvert_exporter": "python",
   "pygments_lexer": "ipython3",
   "version": "3.6.5"
  }
 },
 "nbformat": 4,
 "nbformat_minor": 2
}
