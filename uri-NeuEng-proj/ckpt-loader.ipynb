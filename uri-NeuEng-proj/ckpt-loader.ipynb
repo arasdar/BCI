{
 "cells": [
  {
   "cell_type": "code",
   "execution_count": 1,
   "metadata": {},
   "outputs": [],
   "source": [
    "import tensorflow as tf"
   ]
  },
  {
   "cell_type": "code",
   "execution_count": 5,
   "metadata": {},
   "outputs": [],
   "source": [
    "# import the inspect_checkpoint library\n",
    "from tensorflow.python.tools import inspect_checkpoint as chkp\n",
    "\n",
    "ckpt_loaded = tf.train.load_checkpoint(ckpt_dir_or_file='./checkpoints/cnn-fnirs-har.ckpt')"
   ]
  },
  {
   "cell_type": "code",
   "execution_count": 6,
   "metadata": {},
   "outputs": [
    {
     "data": {
      "text/plain": [
       "{'beta2_power': [],\n",
       " 'beta1_power': [],\n",
       " 'Variable_1/Adam_1': [10000, 5],\n",
       " 'Variable_1': [10000, 5],\n",
       " 'Variable': [125, 40, 80],\n",
       " 'Variable/Adam_1': [125, 40, 80],\n",
       " 'Variable/Adam': [125, 40, 80],\n",
       " 'Variable_1/Adam': [10000, 5]}"
      ]
     },
     "execution_count": 6,
     "metadata": {},
     "output_type": "execute_result"
    }
   ],
   "source": [
    "ckpt_loaded.get_variable_to_shape_map()"
   ]
  },
  {
   "cell_type": "code",
   "execution_count": 7,
   "metadata": {},
   "outputs": [
    {
     "data": {
      "text/plain": [
       "((10000, 5), dtype('float32'))"
      ]
     },
     "execution_count": 7,
     "metadata": {},
     "output_type": "execute_result"
    }
   ],
   "source": [
    "ckpt_loaded.get_tensor(tensor_str='Variable_1').shape, ckpt_loaded.get_tensor(tensor_str='Variable_1').dtype"
   ]
  },
  {
   "cell_type": "code",
   "execution_count": 9,
   "metadata": {},
   "outputs": [
    {
     "data": {
      "text/plain": [
       "{'beta2_power': [],\n",
       " 'beta1_power': [],\n",
       " 'Variable_1/Adam_1': [10000, 5],\n",
       " 'Variable_1': [10000, 5],\n",
       " 'Variable': [125, 40, 80],\n",
       " 'Variable/Adam_1': [125, 40, 80],\n",
       " 'Variable/Adam': [125, 40, 80],\n",
       " 'Variable_1/Adam': [10000, 5]}"
      ]
     },
     "execution_count": 9,
     "metadata": {},
     "output_type": "execute_result"
    }
   ],
   "source": [
    "ckpt_loaded.get_variable_to_shape_map()"
   ]
  },
  {
   "cell_type": "code",
   "execution_count": 11,
   "metadata": {},
   "outputs": [
    {
     "data": {
      "text/plain": [
       "(125, 40, 80)"
      ]
     },
     "execution_count": 11,
     "metadata": {},
     "output_type": "execute_result"
    }
   ],
   "source": [
    "ckpt_loaded.get_tensor(tensor_str='Variable').shape"
   ]
  },
  {
   "cell_type": "code",
   "execution_count": 12,
   "metadata": {},
   "outputs": [
    {
     "data": {
      "text/plain": [
       "dtype('float32')"
      ]
     },
     "execution_count": 12,
     "metadata": {},
     "output_type": "execute_result"
    }
   ],
   "source": [
    "ckpt_loaded.get_tensor(tensor_str='Variable').dtype"
   ]
  }
 ],
 "metadata": {
  "kernelspec": {
   "display_name": "Python 3",
   "language": "python",
   "name": "python3"
  },
  "language_info": {
   "codemirror_mode": {
    "name": "ipython",
    "version": 3
   },
   "file_extension": ".py",
   "mimetype": "text/x-python",
   "name": "python",
   "nbconvert_exporter": "python",
   "pygments_lexer": "ipython3",
   "version": "3.6.5"
  }
 },
 "nbformat": 4,
 "nbformat_minor": 2
}
