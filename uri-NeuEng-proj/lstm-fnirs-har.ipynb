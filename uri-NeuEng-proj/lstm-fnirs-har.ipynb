{
 "cells": [
  {
   "cell_type": "markdown",
   "metadata": {},
   "source": [
    "# LSTM for fNIRS data analysis for Human Activity Recognition (HAR)"
   ]
  },
  {
   "cell_type": "code",
   "execution_count": 1,
   "metadata": {},
   "outputs": [
    {
     "name": "stdout",
     "output_type": "stream",
     "text": [
      "\u001b[0m\u001b[01;31mall-fNIRs-data.zip\u001b[0m  \u001b[01;34mP13-4-17-2018\u001b[0m/  \u001b[01;34mP16-4-18-2018\u001b[0m/  \u001b[01;34mP19-4-19-2018\u001b[0m/\r\n",
      "\u001b[01;34mP11-4-17-2018\u001b[0m/      \u001b[01;34mP14-4-18-2018\u001b[0m/  \u001b[01;34mP17-4-18-2018\u001b[0m/  \u001b[01;34mP20-4-19-2018\u001b[0m/\r\n",
      "\u001b[01;34mP12-4-17-2018\u001b[0m/      \u001b[01;34mP15-4-18-2018\u001b[0m/  \u001b[01;34mP18-4-19-2018\u001b[0m/\r\n"
     ]
    }
   ],
   "source": [
    "% ls ../../../datasets/fNIRs_data_10subjects/"
   ]
  },
  {
   "cell_type": "code",
   "execution_count": 2,
   "metadata": {},
   "outputs": [
    {
     "name": "stdout",
     "output_type": "stream",
     "text": [
      "\u001b[0m\u001b[01;34m1. Right Hand\u001b[0m/  \u001b[01;34m2. Both Hands\u001b[0m/  \u001b[01;34m3. Left Hand\u001b[0m/  \u001b[01;34m4. Right Leg\u001b[0m/  \u001b[01;34m5. Left Leg\u001b[0m/\r\n"
     ]
    }
   ],
   "source": [
    "% ls ../../../datasets/fNIRs_data_10subjects/P12-4-17-2018/"
   ]
  },
  {
   "cell_type": "code",
   "execution_count": 3,
   "metadata": {},
   "outputs": [
    {
     "name": "stdout",
     "output_type": "stream",
     "text": [
      "\u001b[0m\u001b[01;34m2018-04-17_006\u001b[0m/\r\n",
      "fNIR_data.txt\r\n",
      "head20180417-145130.txt\r\n",
      "NIRS-2018-04-17_006_deoxyhb_T141to2511_C1to20.txt\r\n",
      "NIRS-2018-04-17_006_oxyhb_T141to2511_C1to20.txt\r\n",
      "\u001b[01;34mProcessed\u001b[0m/\r\n",
      "r_hand20180417-145128.txt\r\n",
      "r_lower_arm20180417-145129.txt\r\n",
      "r_upper_arm20180417-145129.txt\r\n"
     ]
    }
   ],
   "source": [
    "% ls ../../../datasets/fNIRs_data_10subjects/P12-4-17-2018/1.\\ Right\\ Hand"
   ]
  },
  {
   "cell_type": "code",
   "execution_count": 4,
   "metadata": {},
   "outputs": [
    {
     "data": {
      "text/plain": [
       "(['/home/arasdar/datasets/fNIRs_data_10subjects/P11-4-17-2018/1. Right Hand/fNIR_data.txt',\n",
       "  '/home/arasdar/datasets/fNIRs_data_10subjects/P11-4-17-2018/2. Both Hands/fNIR_data.txt',\n",
       "  '/home/arasdar/datasets/fNIRs_data_10subjects/P11-4-17-2018/3. Left hand/fNIR_data.txt',\n",
       "  '/home/arasdar/datasets/fNIRs_data_10subjects/P11-4-17-2018/5. Left Leg/fNIR_data.txt',\n",
       "  '/home/arasdar/datasets/fNIRs_data_10subjects/P12-4-17-2018/1. Right Hand/fNIR_data.txt',\n",
       "  '/home/arasdar/datasets/fNIRs_data_10subjects/P12-4-17-2018/2. Both Hands/fNIR_data.txt',\n",
       "  '/home/arasdar/datasets/fNIRs_data_10subjects/P12-4-17-2018/3. Left Hand/fNIR_data.txt',\n",
       "  '/home/arasdar/datasets/fNIRs_data_10subjects/P12-4-17-2018/4. Right Leg/fNIR_data.txt',\n",
       "  '/home/arasdar/datasets/fNIRs_data_10subjects/P12-4-17-2018/5. Left Leg/fNIR_data.txt',\n",
       "  '/home/arasdar/datasets/fNIRs_data_10subjects/P13-4-17-2018/1. Right Hand/fNIR_data.txt',\n",
       "  '/home/arasdar/datasets/fNIRs_data_10subjects/P13-4-17-2018/2. Both Hands/fNIR_data.txt',\n",
       "  '/home/arasdar/datasets/fNIRs_data_10subjects/P13-4-17-2018/3. Left Hand/fNIR_data.txt',\n",
       "  '/home/arasdar/datasets/fNIRs_data_10subjects/P13-4-17-2018/4. Right Leg/fNIR_data.txt',\n",
       "  '/home/arasdar/datasets/fNIRs_data_10subjects/P13-4-17-2018/5. Left Leg/fNIR_data.txt',\n",
       "  '/home/arasdar/datasets/fNIRs_data_10subjects/P14-4-18-2018/1. Right Hand/fNIR_data.txt',\n",
       "  '/home/arasdar/datasets/fNIRs_data_10subjects/P14-4-18-2018/2. Both Hands/fNIR_data.txt',\n",
       "  '/home/arasdar/datasets/fNIRs_data_10subjects/P14-4-18-2018/3. Left Hand/fNIR_data.txt',\n",
       "  '/home/arasdar/datasets/fNIRs_data_10subjects/P14-4-18-2018/4. Right Leg/fNIR_data.txt',\n",
       "  '/home/arasdar/datasets/fNIRs_data_10subjects/P14-4-18-2018/5. Left Leg/fNIR_data.txt',\n",
       "  '/home/arasdar/datasets/fNIRs_data_10subjects/P15-4-18-2018/1. Right Hand/fNIR_data.txt',\n",
       "  '/home/arasdar/datasets/fNIRs_data_10subjects/P15-4-18-2018/2. Both Hands/fNIR_data.txt',\n",
       "  '/home/arasdar/datasets/fNIRs_data_10subjects/P15-4-18-2018/3. Left Hand/fNIR_data.txt',\n",
       "  '/home/arasdar/datasets/fNIRs_data_10subjects/P15-4-18-2018/4. Right Leg/fNIR_data.txt',\n",
       "  '/home/arasdar/datasets/fNIRs_data_10subjects/P15-4-18-2018/5. Left Leg/fNIR_data.txt',\n",
       "  '/home/arasdar/datasets/fNIRs_data_10subjects/P16-4-18-2018/1. Right Hand/fNIR_data.txt',\n",
       "  '/home/arasdar/datasets/fNIRs_data_10subjects/P16-4-18-2018/2. Both Hands/fNIR_data.txt',\n",
       "  '/home/arasdar/datasets/fNIRs_data_10subjects/P16-4-18-2018/3. Left Hand/fNIR_data.txt',\n",
       "  '/home/arasdar/datasets/fNIRs_data_10subjects/P16-4-18-2018/4. Right Leg/fNIR_data.txt',\n",
       "  '/home/arasdar/datasets/fNIRs_data_10subjects/P16-4-18-2018/5. Left Leg/fNIR_data.txt',\n",
       "  '/home/arasdar/datasets/fNIRs_data_10subjects/P17-4-18-2018/1. Right Hand/fNIR_data.txt',\n",
       "  '/home/arasdar/datasets/fNIRs_data_10subjects/P17-4-18-2018/2. Both Hands/fNIR_data.txt',\n",
       "  '/home/arasdar/datasets/fNIRs_data_10subjects/P17-4-18-2018/3. Left Hand/fNIR_data.txt',\n",
       "  '/home/arasdar/datasets/fNIRs_data_10subjects/P17-4-18-2018/4. Right Leg/fNIR_data.txt',\n",
       "  '/home/arasdar/datasets/fNIRs_data_10subjects/P17-4-18-2018/5. Left Leg/fNIR_data.txt',\n",
       "  '/home/arasdar/datasets/fNIRs_data_10subjects/P18-4-19-2018/1. Right Hand/fNIR_data.txt',\n",
       "  '/home/arasdar/datasets/fNIRs_data_10subjects/P18-4-19-2018/2. Both Hands/fNIR_data.txt',\n",
       "  '/home/arasdar/datasets/fNIRs_data_10subjects/P18-4-19-2018/3. Left Hand/fNIR_data.txt',\n",
       "  '/home/arasdar/datasets/fNIRs_data_10subjects/P18-4-19-2018/4. Right Leg/fNIR_data.txt',\n",
       "  '/home/arasdar/datasets/fNIRs_data_10subjects/P18-4-19-2018/5. Left Leg/fNIR_data.txt',\n",
       "  '/home/arasdar/datasets/fNIRs_data_10subjects/P19-4-19-2018/1. Right Hand/fNIR_data.txt',\n",
       "  '/home/arasdar/datasets/fNIRs_data_10subjects/P19-4-19-2018/2. Both Hands/fNIR_data.txt',\n",
       "  '/home/arasdar/datasets/fNIRs_data_10subjects/P19-4-19-2018/3. Left Hand/fNIR_data.txt',\n",
       "  '/home/arasdar/datasets/fNIRs_data_10subjects/P19-4-19-2018/4. Right Leg/fNIR_data.txt',\n",
       "  '/home/arasdar/datasets/fNIRs_data_10subjects/P19-4-19-2018/5. Left Leg/fNIR_data.txt',\n",
       "  '/home/arasdar/datasets/fNIRs_data_10subjects/P20-4-19-2018/1. Right Hand/fNIR_data.txt',\n",
       "  '/home/arasdar/datasets/fNIRs_data_10subjects/P20-4-19-2018/2. Both Hands/fNIR_data.txt',\n",
       "  '/home/arasdar/datasets/fNIRs_data_10subjects/P20-4-19-2018/3. Left Hand/fNIR_data.txt',\n",
       "  '/home/arasdar/datasets/fNIRs_data_10subjects/P20-4-19-2018/5. Left Leg/fNIR_data.txt'],\n",
       " 48)"
      ]
     },
     "execution_count": 4,
     "metadata": {},
     "output_type": "execute_result"
    }
   ],
   "source": [
    "import numpy as np\n",
    "import os\n",
    "import pandas as pd\n",
    "\n",
    "# % find ../../datasets/fNIRs_data/ | grep fNIR_data # NOT WORKING!!\n",
    "def find_all(name, path):\n",
    "    result = []\n",
    "    for root, dirs, files in os.walk(path):\n",
    "        if name in files:\n",
    "            result.append(os.path.join(root, name))\n",
    "    return result\n",
    "\n",
    "allpaths = find_all(name='fNIR_data.txt', path='/home/arasdar/datasets/fNIRs_data_10subjects/')\n",
    "allpaths = sorted(allpaths, reverse=False)\n",
    "# print(allpaths, len(allpaths))\n",
    "allpaths, len(allpaths)"
   ]
  },
  {
   "cell_type": "code",
   "execution_count": 5,
   "metadata": {},
   "outputs": [
    {
     "name": "stderr",
     "output_type": "stream",
     "text": [
      "/home/arasdar/anaconda3/envs/arasdar-DL-env/lib/python3.6/site-packages/pandas/io/parsers.py:709: UserWarning: Duplicate names specified. This will raise an error in the future.\n",
      "  return _read(filepath_or_buffer, kwds)\n"
     ]
    },
    {
     "name": "stdout",
     "output_type": "stream",
     "text": [
      "(2388, 42) /home/arasdar/datasets/fNIRs_data_10subjects/P11-4-17-2018/1. Right Hand/fNIR_data.txt\n",
      "(1244, 42) /home/arasdar/datasets/fNIRs_data_10subjects/P11-4-17-2018/2. Both Hands/fNIR_data.txt\n",
      "(2389, 42) /home/arasdar/datasets/fNIRs_data_10subjects/P11-4-17-2018/3. Left hand/fNIR_data.txt\n",
      "(1201, 42) /home/arasdar/datasets/fNIRs_data_10subjects/P11-4-17-2018/5. Left Leg/fNIR_data.txt\n",
      "(2372, 42) /home/arasdar/datasets/fNIRs_data_10subjects/P12-4-17-2018/1. Right Hand/fNIR_data.txt\n",
      "(1210, 42) /home/arasdar/datasets/fNIRs_data_10subjects/P12-4-17-2018/2. Both Hands/fNIR_data.txt\n",
      "(2378, 42) /home/arasdar/datasets/fNIRs_data_10subjects/P12-4-17-2018/3. Left Hand/fNIR_data.txt\n",
      "(1202, 42) /home/arasdar/datasets/fNIRs_data_10subjects/P12-4-17-2018/4. Right Leg/fNIR_data.txt\n",
      "(1222, 42) /home/arasdar/datasets/fNIRs_data_10subjects/P12-4-17-2018/5. Left Leg/fNIR_data.txt\n",
      "(2405, 42) /home/arasdar/datasets/fNIRs_data_10subjects/P13-4-17-2018/1. Right Hand/fNIR_data.txt\n",
      "(1196, 42) /home/arasdar/datasets/fNIRs_data_10subjects/P13-4-17-2018/2. Both Hands/fNIR_data.txt\n",
      "(2380, 42) /home/arasdar/datasets/fNIRs_data_10subjects/P13-4-17-2018/3. Left Hand/fNIR_data.txt\n",
      "(1203, 42) /home/arasdar/datasets/fNIRs_data_10subjects/P13-4-17-2018/4. Right Leg/fNIR_data.txt\n",
      "(1242, 42) /home/arasdar/datasets/fNIRs_data_10subjects/P13-4-17-2018/5. Left Leg/fNIR_data.txt\n",
      "(2373, 42) /home/arasdar/datasets/fNIRs_data_10subjects/P14-4-18-2018/1. Right Hand/fNIR_data.txt\n",
      "(1202, 42) /home/arasdar/datasets/fNIRs_data_10subjects/P14-4-18-2018/2. Both Hands/fNIR_data.txt\n",
      "(2386, 42) /home/arasdar/datasets/fNIRs_data_10subjects/P14-4-18-2018/3. Left Hand/fNIR_data.txt\n",
      "(1196, 42) /home/arasdar/datasets/fNIRs_data_10subjects/P14-4-18-2018/4. Right Leg/fNIR_data.txt\n",
      "(1229, 42) /home/arasdar/datasets/fNIRs_data_10subjects/P14-4-18-2018/5. Left Leg/fNIR_data.txt\n",
      "(2387, 42) /home/arasdar/datasets/fNIRs_data_10subjects/P15-4-18-2018/1. Right Hand/fNIR_data.txt\n",
      "(1224, 42) /home/arasdar/datasets/fNIRs_data_10subjects/P15-4-18-2018/2. Both Hands/fNIR_data.txt\n",
      "(2379, 42) /home/arasdar/datasets/fNIRs_data_10subjects/P15-4-18-2018/3. Left Hand/fNIR_data.txt\n",
      "(1230, 42) /home/arasdar/datasets/fNIRs_data_10subjects/P15-4-18-2018/4. Right Leg/fNIR_data.txt\n",
      "(1227, 42) /home/arasdar/datasets/fNIRs_data_10subjects/P15-4-18-2018/5. Left Leg/fNIR_data.txt\n",
      "(2384, 42) /home/arasdar/datasets/fNIRs_data_10subjects/P16-4-18-2018/1. Right Hand/fNIR_data.txt\n",
      "(1230, 42) /home/arasdar/datasets/fNIRs_data_10subjects/P16-4-18-2018/2. Both Hands/fNIR_data.txt\n",
      "(2375, 42) /home/arasdar/datasets/fNIRs_data_10subjects/P16-4-18-2018/3. Left Hand/fNIR_data.txt\n",
      "(1196, 42) /home/arasdar/datasets/fNIRs_data_10subjects/P16-4-18-2018/4. Right Leg/fNIR_data.txt\n",
      "(1197, 42) /home/arasdar/datasets/fNIRs_data_10subjects/P16-4-18-2018/5. Left Leg/fNIR_data.txt\n",
      "(2373, 42) /home/arasdar/datasets/fNIRs_data_10subjects/P17-4-18-2018/1. Right Hand/fNIR_data.txt\n",
      "(1220, 42) /home/arasdar/datasets/fNIRs_data_10subjects/P17-4-18-2018/2. Both Hands/fNIR_data.txt\n",
      "(2372, 42) /home/arasdar/datasets/fNIRs_data_10subjects/P17-4-18-2018/3. Left Hand/fNIR_data.txt\n",
      "(1223, 42) /home/arasdar/datasets/fNIRs_data_10subjects/P17-4-18-2018/4. Right Leg/fNIR_data.txt\n",
      "(1222, 42) /home/arasdar/datasets/fNIRs_data_10subjects/P17-4-18-2018/5. Left Leg/fNIR_data.txt\n",
      "(2395, 42) /home/arasdar/datasets/fNIRs_data_10subjects/P18-4-19-2018/1. Right Hand/fNIR_data.txt\n",
      "(1201, 42) /home/arasdar/datasets/fNIRs_data_10subjects/P18-4-19-2018/2. Both Hands/fNIR_data.txt\n",
      "(2379, 42) /home/arasdar/datasets/fNIRs_data_10subjects/P18-4-19-2018/3. Left Hand/fNIR_data.txt\n",
      "(1197, 42) /home/arasdar/datasets/fNIRs_data_10subjects/P18-4-19-2018/4. Right Leg/fNIR_data.txt\n",
      "(1196, 42) /home/arasdar/datasets/fNIRs_data_10subjects/P18-4-19-2018/5. Left Leg/fNIR_data.txt\n",
      "(2372, 42) /home/arasdar/datasets/fNIRs_data_10subjects/P19-4-19-2018/1. Right Hand/fNIR_data.txt\n",
      "(1194, 42) /home/arasdar/datasets/fNIRs_data_10subjects/P19-4-19-2018/2. Both Hands/fNIR_data.txt\n",
      "(2383, 42) /home/arasdar/datasets/fNIRs_data_10subjects/P19-4-19-2018/3. Left Hand/fNIR_data.txt\n",
      "(1196, 42) /home/arasdar/datasets/fNIRs_data_10subjects/P19-4-19-2018/4. Right Leg/fNIR_data.txt\n",
      "(1227, 42) /home/arasdar/datasets/fNIRs_data_10subjects/P19-4-19-2018/5. Left Leg/fNIR_data.txt\n",
      "(2381, 42) /home/arasdar/datasets/fNIRs_data_10subjects/P20-4-19-2018/1. Right Hand/fNIR_data.txt\n",
      "(1198, 42) /home/arasdar/datasets/fNIRs_data_10subjects/P20-4-19-2018/2. Both Hands/fNIR_data.txt\n",
      "(2431, 42) /home/arasdar/datasets/fNIRs_data_10subjects/P20-4-19-2018/3. Left Hand/fNIR_data.txt\n",
      "(1208, 42) /home/arasdar/datasets/fNIRs_data_10subjects/P20-4-19-2018/5. Left Leg/fNIR_data.txt\n",
      "48\n"
     ]
    }
   ],
   "source": [
    "# df: data frame object\n",
    "df = []\n",
    "for each_idx in range(len(allpaths)):\n",
    "    file = pd.read_csv(filepath_or_buffer=allpaths[each_idx], names=['time', 'sample', \n",
    "                       'channel', 'channel', 'channel', 'channel', 'channel',\n",
    "                       'channel', 'channel', 'channel', 'channel', 'channel',\n",
    "                       'channel', 'channel', 'channel', 'channel', 'channel',\n",
    "                       'channel', 'channel', 'channel', 'channel', 'channel',\n",
    "                       'channel', 'channel', 'channel', 'channel', 'channel',\n",
    "                       'channel', 'channel', 'channel', 'channel', 'channel',\n",
    "                       'channel', 'channel', 'channel', 'channel', 'channel',\n",
    "                       'channel', 'channel', 'channel', 'channel', 'channel'],\n",
    "                         header=None)\n",
    "    df.append(file)\n",
    "    \n",
    "for each in range(len(df)):\n",
    "    print(df[each].shape, allpaths[each])\n",
    "    df[each]=df[each].drop(axis=1, columns=None, index=None, labels=['time', 'sample'])\n",
    "    df[each] = df[each].dropna()\n",
    "    df[each]['channel.39'] = df[each]['channel.39'].astype(str).str[1:-1].astype(float)\n",
    "print(len(df))"
   ]
  },
  {
   "cell_type": "code",
   "execution_count": 6,
   "metadata": {},
   "outputs": [
    {
     "name": "stdout",
     "output_type": "stream",
     "text": [
      "float64 (2387, 40) 1 /home/arasdar/datasets/fNIRs_data_10subjects/P11-4-17-2018/1. Right Hand/fNIR_data.txt\n",
      "float64 (1243, 40) 2 /home/arasdar/datasets/fNIRs_data_10subjects/P11-4-17-2018/2. Both Hands/fNIR_data.txt\n",
      "float64 (2388, 40) 3 /home/arasdar/datasets/fNIRs_data_10subjects/P11-4-17-2018/3. Left hand/fNIR_data.txt\n",
      "float64 (1200, 40) 5 /home/arasdar/datasets/fNIRs_data_10subjects/P11-4-17-2018/5. Left Leg/fNIR_data.txt\n",
      "float64 (2371, 40) 1 /home/arasdar/datasets/fNIRs_data_10subjects/P12-4-17-2018/1. Right Hand/fNIR_data.txt\n",
      "float64 (1209, 40) 2 /home/arasdar/datasets/fNIRs_data_10subjects/P12-4-17-2018/2. Both Hands/fNIR_data.txt\n",
      "float64 (2377, 40) 3 /home/arasdar/datasets/fNIRs_data_10subjects/P12-4-17-2018/3. Left Hand/fNIR_data.txt\n",
      "float64 (1201, 40) 4 /home/arasdar/datasets/fNIRs_data_10subjects/P12-4-17-2018/4. Right Leg/fNIR_data.txt\n",
      "float64 (1221, 40) 5 /home/arasdar/datasets/fNIRs_data_10subjects/P12-4-17-2018/5. Left Leg/fNIR_data.txt\n",
      "float64 (2404, 40) 1 /home/arasdar/datasets/fNIRs_data_10subjects/P13-4-17-2018/1. Right Hand/fNIR_data.txt\n",
      "float64 (1195, 40) 2 /home/arasdar/datasets/fNIRs_data_10subjects/P13-4-17-2018/2. Both Hands/fNIR_data.txt\n",
      "float64 (2379, 40) 3 /home/arasdar/datasets/fNIRs_data_10subjects/P13-4-17-2018/3. Left Hand/fNIR_data.txt\n",
      "float64 (1202, 40) 4 /home/arasdar/datasets/fNIRs_data_10subjects/P13-4-17-2018/4. Right Leg/fNIR_data.txt\n",
      "float64 (1241, 40) 5 /home/arasdar/datasets/fNIRs_data_10subjects/P13-4-17-2018/5. Left Leg/fNIR_data.txt\n",
      "float64 (2372, 40) 1 /home/arasdar/datasets/fNIRs_data_10subjects/P14-4-18-2018/1. Right Hand/fNIR_data.txt\n",
      "float64 (1201, 40) 2 /home/arasdar/datasets/fNIRs_data_10subjects/P14-4-18-2018/2. Both Hands/fNIR_data.txt\n",
      "float64 (2385, 40) 3 /home/arasdar/datasets/fNIRs_data_10subjects/P14-4-18-2018/3. Left Hand/fNIR_data.txt\n",
      "float64 (1195, 40) 4 /home/arasdar/datasets/fNIRs_data_10subjects/P14-4-18-2018/4. Right Leg/fNIR_data.txt\n",
      "float64 (1228, 40) 5 /home/arasdar/datasets/fNIRs_data_10subjects/P14-4-18-2018/5. Left Leg/fNIR_data.txt\n",
      "float64 (2386, 40) 1 /home/arasdar/datasets/fNIRs_data_10subjects/P15-4-18-2018/1. Right Hand/fNIR_data.txt\n",
      "float64 (1223, 40) 2 /home/arasdar/datasets/fNIRs_data_10subjects/P15-4-18-2018/2. Both Hands/fNIR_data.txt\n",
      "float64 (2378, 40) 3 /home/arasdar/datasets/fNIRs_data_10subjects/P15-4-18-2018/3. Left Hand/fNIR_data.txt\n",
      "float64 (1229, 40) 4 /home/arasdar/datasets/fNIRs_data_10subjects/P15-4-18-2018/4. Right Leg/fNIR_data.txt\n",
      "float64 (1226, 40) 5 /home/arasdar/datasets/fNIRs_data_10subjects/P15-4-18-2018/5. Left Leg/fNIR_data.txt\n",
      "float64 (2383, 40) 1 /home/arasdar/datasets/fNIRs_data_10subjects/P16-4-18-2018/1. Right Hand/fNIR_data.txt\n",
      "float64 (1229, 40) 2 /home/arasdar/datasets/fNIRs_data_10subjects/P16-4-18-2018/2. Both Hands/fNIR_data.txt\n",
      "float64 (2374, 40) 3 /home/arasdar/datasets/fNIRs_data_10subjects/P16-4-18-2018/3. Left Hand/fNIR_data.txt\n",
      "float64 (1195, 40) 4 /home/arasdar/datasets/fNIRs_data_10subjects/P16-4-18-2018/4. Right Leg/fNIR_data.txt\n",
      "float64 (1196, 40) 5 /home/arasdar/datasets/fNIRs_data_10subjects/P16-4-18-2018/5. Left Leg/fNIR_data.txt\n",
      "float64 (2372, 40) 1 /home/arasdar/datasets/fNIRs_data_10subjects/P17-4-18-2018/1. Right Hand/fNIR_data.txt\n",
      "float64 (1219, 40) 2 /home/arasdar/datasets/fNIRs_data_10subjects/P17-4-18-2018/2. Both Hands/fNIR_data.txt\n",
      "float64 (2371, 40) 3 /home/arasdar/datasets/fNIRs_data_10subjects/P17-4-18-2018/3. Left Hand/fNIR_data.txt\n",
      "float64 (1222, 40) 4 /home/arasdar/datasets/fNIRs_data_10subjects/P17-4-18-2018/4. Right Leg/fNIR_data.txt\n",
      "float64 (1221, 40) 5 /home/arasdar/datasets/fNIRs_data_10subjects/P17-4-18-2018/5. Left Leg/fNIR_data.txt\n",
      "float64 (2394, 40) 1 /home/arasdar/datasets/fNIRs_data_10subjects/P18-4-19-2018/1. Right Hand/fNIR_data.txt\n",
      "float64 (1200, 40) 2 /home/arasdar/datasets/fNIRs_data_10subjects/P18-4-19-2018/2. Both Hands/fNIR_data.txt\n",
      "float64 (2378, 40) 3 /home/arasdar/datasets/fNIRs_data_10subjects/P18-4-19-2018/3. Left Hand/fNIR_data.txt\n",
      "float64 (1196, 40) 4 /home/arasdar/datasets/fNIRs_data_10subjects/P18-4-19-2018/4. Right Leg/fNIR_data.txt\n",
      "float64 (1195, 40) 5 /home/arasdar/datasets/fNIRs_data_10subjects/P18-4-19-2018/5. Left Leg/fNIR_data.txt\n",
      "float64 (2371, 40) 1 /home/arasdar/datasets/fNIRs_data_10subjects/P19-4-19-2018/1. Right Hand/fNIR_data.txt\n",
      "float64 (1193, 40) 2 /home/arasdar/datasets/fNIRs_data_10subjects/P19-4-19-2018/2. Both Hands/fNIR_data.txt\n",
      "float64 (2382, 40) 3 /home/arasdar/datasets/fNIRs_data_10subjects/P19-4-19-2018/3. Left Hand/fNIR_data.txt\n",
      "float64 (1195, 40) 4 /home/arasdar/datasets/fNIRs_data_10subjects/P19-4-19-2018/4. Right Leg/fNIR_data.txt\n",
      "float64 (1226, 40) 5 /home/arasdar/datasets/fNIRs_data_10subjects/P19-4-19-2018/5. Left Leg/fNIR_data.txt\n",
      "float64 (2380, 40) 1 /home/arasdar/datasets/fNIRs_data_10subjects/P20-4-19-2018/1. Right Hand/fNIR_data.txt\n",
      "float64 (1197, 40) 2 /home/arasdar/datasets/fNIRs_data_10subjects/P20-4-19-2018/2. Both Hands/fNIR_data.txt\n",
      "float64 (2430, 40) 3 /home/arasdar/datasets/fNIRs_data_10subjects/P20-4-19-2018/3. Left Hand/fNIR_data.txt\n",
      "float64 (1207, 40) 5 /home/arasdar/datasets/fNIRs_data_10subjects/P20-4-19-2018/5. Left Leg/fNIR_data.txt\n"
     ]
    },
    {
     "data": {
      "text/plain": [
       "(48, 48)"
      ]
     },
     "execution_count": 6,
     "metadata": {},
     "output_type": "execute_result"
    }
   ],
   "source": [
    "data, labels = [], []\n",
    "for each in range(0, len(df), 1):\n",
    "    dfmat = df[each].as_matrix()\n",
    "    label = allpaths[each][59:60]\n",
    "    print(dfmat.dtype, dfmat.shape, label, allpaths[each])\n",
    "    data.append(dfmat)\n",
    "    labels.append(label)\n",
    "len(data), len(labels)"
   ]
  },
  {
   "cell_type": "code",
   "execution_count": 7,
   "metadata": {},
   "outputs": [],
   "source": [
    "# This is very much like a convolution for extracting the windows\n",
    "# size/width, stride/overlap, padding, dilation, num filters/out channel\n",
    "def minibatching(X, Y, stride, width):\n",
    "    Xmb, Ymb = [], []\n",
    "    print(len(X), len(Y))\n",
    "    # 1st and 1st\n",
    "    for eachX in range(len(X)):\n",
    "        num_mb = ((X[eachX].shape[0]-width)//stride)+1\n",
    "        for each in range(num_mb):\n",
    "            # The max is (num_mb-1)*stride+width==X[idx].shape[0]\n",
    "            # The last each is (num_mb-1)\n",
    "            # each = ((each-1)*stride)+width\n",
    "            each *= stride\n",
    "            Xmb.append(X[eachX][each:each+width])\n",
    "            # There is only one label for one image signal or signal window or temporal window\n",
    "            #Ymb.append(Y[eachX][each:each+1])\n",
    "            Ymb.append(Y[eachX])\n",
    "    return Xmb, Ymb"
   ]
  },
  {
   "cell_type": "code",
   "execution_count": 8,
   "metadata": {},
   "outputs": [
    {
     "name": "stdout",
     "output_type": "stream",
     "text": [
      "48 48\n",
      "69615 69615\n",
      "(250, 40) float64\n",
      "1\n"
     ]
    }
   ],
   "source": [
    "# Width is based on the sampling rate which is roughly about 233 points per window\n",
    "# for 10sec rest and 20 sec activity\n",
    "width = 250\n",
    "Xmb, Ymb = minibatching(X=data, Y=labels, stride=1, width=width)\n",
    "# for eachX, eachY in zip(Xmb, Ymb):\n",
    "#     print(eachX.shape, eachY)\n",
    "print(len(Xmb), len(Ymb))\n",
    "print(Xmb[0].shape, Xmb[0].dtype)\n",
    "print(Ymb[0])"
   ]
  },
  {
   "cell_type": "code",
   "execution_count": 9,
   "metadata": {},
   "outputs": [
    {
     "name": "stdout",
     "output_type": "stream",
     "text": [
      "(69615, 250, 40) float64 (69615,) int64\n"
     ]
    }
   ],
   "source": [
    "# Conversion from python list to numpy array\n",
    "X, Y=np.array(object=Xmb, dtype=float), np.array(object=Ymb, dtype=int)\n",
    "print(X.shape, X.dtype, Y.shape, Y.dtype)"
   ]
  },
  {
   "cell_type": "code",
   "execution_count": 10,
   "metadata": {},
   "outputs": [
    {
     "name": "stdout",
     "output_type": "stream",
     "text": [
      "(48730, 250, 40) (20885, 250, 40) (48730,) (20885,)\n",
      "float64 float64 int64 int64\n"
     ]
    }
   ],
   "source": [
    "# Now I should devide the data into train and test\n",
    "# Train and valid split\n",
    "from sklearn.model_selection import train_test_split\n",
    "\n",
    "# 30% of the training data/ entire training data is assigned to validation.\n",
    "Xtrain, Xtest, Ytrain, Ytest = train_test_split(X, Y, test_size=0.30)\n",
    "print(Xtrain.shape, Xtest.shape, Ytrain.shape, Ytest.shape)\n",
    "print(Xtrain.dtype, Xtest.dtype, Ytrain.dtype, Ytest.dtype)"
   ]
  },
  {
   "cell_type": "code",
   "execution_count": 11,
   "metadata": {},
   "outputs": [
    {
     "name": "stdout",
     "output_type": "stream",
     "text": [
      "(48730, 250, 40) float64\n",
      "(20885, 250, 40) float64\n"
     ]
    }
   ],
   "source": [
    "# # standardizing/normalizing the train and test data\n",
    "# def standardize(train, test):\n",
    "# \"\"\" Standardize data \"\"\"\n",
    "# # Standardize train and test\n",
    "# X_train = (train - np.mean(train, axis=0)[None,:,:]) / np.std(train, axis=0)[None,:,:]\n",
    "# X_test = (test - np.mean(test, axis=0)[None,:,:]) / np.std(test, axis=0)[None,:,:]\n",
    "# return X_train, X_test\n",
    "\n",
    "Xtrain = (Xtrain - Xtrain.mean(axis=0))/ Xtrain.std(axis=0)\n",
    "Xtest = (Xtest - Xtest.mean(axis=0))/ Xtest.std(axis=0)\n",
    "print(Xtrain.shape, Xtrain.dtype)\n",
    "print(Xtest.shape, Xtest.dtype)"
   ]
  },
  {
   "cell_type": "code",
   "execution_count": 12,
   "metadata": {},
   "outputs": [
    {
     "name": "stdout",
     "output_type": "stream",
     "text": [
      "[[-7.13112675e-17  5.39140522e-17  4.88721406e-17 ...  2.46251705e-17\n",
      "  -1.31474739e-16  6.84998265e-17]\n",
      " [ 6.04528170e-17  3.02696965e-17 -5.52457275e-17 ...  3.49322687e-17\n",
      "  -6.49137583e-17 -7.97410340e-18]\n",
      " [ 1.94750388e-17  1.07901011e-17  4.81237140e-17 ...  7.07058053e-17\n",
      "  -2.28492237e-17 -8.80568847e-18]\n",
      " ...\n",
      " [ 5.12620933e-17 -1.94021327e-17  7.34073176e-18 ...  2.59756418e-17\n",
      "  -6.39933189e-17  4.66598965e-18]\n",
      " [-3.72140014e-17 -2.09559437e-17  2.73739578e-17 ...  1.60507310e-17\n",
      "   6.31959086e-17 -7.52071866e-18]\n",
      " [ 4.73433910e-17  6.35057595e-17 -3.29330470e-17 ...  7.57847395e-17\n",
      "   1.14198274e-16  7.55739954e-17]] [[1. 1. 1. ... 1. 1. 1.]\n",
      " [1. 1. 1. ... 1. 1. 1.]\n",
      " [1. 1. 1. ... 1. 1. 1.]\n",
      " ...\n",
      " [1. 1. 1. ... 1. 1. 1.]\n",
      " [1. 1. 1. ... 1. 1. 1.]\n",
      " [1. 1. 1. ... 1. 1. 1.]]\n"
     ]
    }
   ],
   "source": [
    "print(Xtrain.mean(axis=0), Xtrain.std(axis=0))"
   ]
  },
  {
   "cell_type": "code",
   "execution_count": 13,
   "metadata": {},
   "outputs": [
    {
     "name": "stdout",
     "output_type": "stream",
     "text": [
      "[[-6.03778459e-17 -4.46215565e-17  4.83373616e-17 ... -3.30648179e-18\n",
      "   1.45554305e-16  5.11109257e-17]\n",
      " [-7.33698740e-17  1.84354965e-17 -1.26890226e-17 ... -7.33034254e-17\n",
      "   5.55775998e-17 -1.08590284e-17]\n",
      " [ 4.03794785e-17 -3.94545142e-17 -7.09670930e-18 ...  2.19366727e-17\n",
      "   6.70173889e-17  2.94699492e-17]\n",
      " ...\n",
      " [ 3.33412440e-17 -5.79431696e-17  2.87456596e-17 ... -1.79291583e-17\n",
      "   1.26688222e-16  4.87732643e-17]\n",
      " [-7.29764984e-17  5.26272825e-17  9.29748657e-17 ...  4.84676008e-18\n",
      "   1.02936838e-16 -6.55568489e-17]\n",
      " [-1.59157660e-17 -2.18084269e-17  6.58904208e-18 ... -5.16930153e-17\n",
      "   8.14872336e-17  5.73544351e-17]] [[1. 1. 1. ... 1. 1. 1.]\n",
      " [1. 1. 1. ... 1. 1. 1.]\n",
      " [1. 1. 1. ... 1. 1. 1.]\n",
      " ...\n",
      " [1. 1. 1. ... 1. 1. 1.]\n",
      " [1. 1. 1. ... 1. 1. 1.]\n",
      " [1. 1. 1. ... 1. 1. 1.]]\n"
     ]
    }
   ],
   "source": [
    "print(Xtest.mean(axis=0), Xtest.std(axis=0))"
   ]
  },
  {
   "cell_type": "code",
   "execution_count": 14,
   "metadata": {},
   "outputs": [
    {
     "name": "stdout",
     "output_type": "stream",
     "text": [
      "5 5 5\n",
      "(48730, 5) float64 (20885, 5) float64\n"
     ]
    }
   ],
   "source": [
    "# Onehotencoding of the output labels\n",
    "def onehot(labels, n_class):\n",
    "\t\"\"\" One-hot encoding \"\"\"\n",
    "\texpansion = np.eye(n_class)\n",
    "\ty = expansion[:, labels-1].T\n",
    "\tassert y.shape[1] == n_class, \"Wrong number of labels!\"\n",
    "\n",
    "\treturn y\n",
    "\n",
    "print(Y.max(axis=0), Ytrain.max(axis=0), Ytest.max(axis=0))\n",
    "# # assert Y.max(axis=0) == Ytrain.max(axis=0) == Ytest.max(axis=0), 'wrong labels'\n",
    "Ytrain=onehot(labels=Ytrain, n_class=Ytrain.max(axis=0))\n",
    "Ytest=onehot(labels=Ytest, n_class=Ytest.max(axis=0))\n",
    "print(Ytrain.shape, Ytrain.dtype, Ytest.shape, Ytest.dtype)"
   ]
  },
  {
   "cell_type": "code",
   "execution_count": 15,
   "metadata": {},
   "outputs": [
    {
     "name": "stdout",
     "output_type": "stream",
     "text": [
      "(34111, 250, 40) (14619, 250, 40) (20885, 250, 40) float64 float64 float64\n",
      "(34111, 5) (14619, 5) (20885, 5) float64 float64 float64\n"
     ]
    }
   ],
   "source": [
    "# Now separating train and validation set\n",
    "# 30% of the training data/ entire training data is assigned to validation.\n",
    "Xtrain, Xvalid, Ytrain, Yvalid = train_test_split(Xtrain, Ytrain, test_size=0.30)\n",
    "print(Xtrain.shape, Xvalid.shape, Xtest.shape, Xtrain.dtype, Xvalid.dtype, Xtest.dtype)\n",
    "print(Ytrain.shape, Yvalid.shape, Ytest.shape, Ytrain.dtype, Yvalid.dtype, Ytest.dtype)"
   ]
  },
  {
   "cell_type": "code",
   "execution_count": 16,
   "metadata": {},
   "outputs": [
    {
     "name": "stdout",
     "output_type": "stream",
     "text": [
      "TensorFlow Version: 1.7.0\n",
      "Default GPU Device: /device:GPU:0\n"
     ]
    }
   ],
   "source": [
    "# In this one we should define and detect GPUs for tensorflow\n",
    "# GPUs or CPU\n",
    "import tensorflow as tf\n",
    "\n",
    "# Check TensorFlow Version\n",
    "print('TensorFlow Version: {}'.format(tf.__version__))\n",
    "\n",
    "# Check for a GPU\n",
    "print('Default GPU Device: {}'.format(tf.test.gpu_device_name()))"
   ]
  },
  {
   "cell_type": "code",
   "execution_count": 17,
   "metadata": {},
   "outputs": [
    {
     "name": "stdout",
     "output_type": "stream",
     "text": [
      "(14619, 250, 40) <dtype: 'float32'> (34111, 250, 40) float64 (14619, 250, 40) float64 (20885, 250, 40) float64\n"
     ]
    }
   ],
   "source": [
    "# now I can design the actual input and output tensors\n",
    "N, W, Cin = Xvalid.shape[0], Xvalid.shape[1], Xvalid.shape[2]\n",
    "Xinput = tf.placeholder(dtype=tf.float32, name=None, shape=[N, W, Cin])\n",
    "print(Xinput.shape, Xinput.dtype, Xtrain.shape, Xtrain.dtype, Xvalid.shape, Xvalid.dtype, Xtest.shape, Xtest.dtype)"
   ]
  },
  {
   "cell_type": "code",
   "execution_count": 18,
   "metadata": {},
   "outputs": [
    {
     "name": "stdout",
     "output_type": "stream",
     "text": [
      "(14619, 5) <dtype: 'float32'> (34111, 5) float64 (14619, 5) float64 (20885, 5) float64\n"
     ]
    }
   ],
   "source": [
    "# This is the output tensor for labels\n",
    "N, Cout = Yvalid.shape[0], Yvalid.shape[1]\n",
    "Ylabels = tf.placeholder(dtype=tf.float32, name=None, shape=[N, Cout])\n",
    "print(Ylabels.shape, Ylabels.dtype, Ytrain.shape, Ytrain.dtype, Yvalid.shape, Yvalid.dtype, Ytest.shape, Ytest.dtype)"
   ]
  },
  {
   "cell_type": "code",
   "execution_count": 19,
   "metadata": {},
   "outputs": [
    {
     "name": "stdout",
     "output_type": "stream",
     "text": [
      "(14619, 250, 40) <dtype: 'float32'>\n",
      "(250, 14619, 40) <dtype: 'float32'>\n",
      "(3654750, 40) <dtype: 'float32'>\n",
      "250 (14619, 40) <dtype: 'float32'>\n"
     ]
    }
   ],
   "source": [
    "# Xinput NxWxCin => WxNxCin == (seq_len, N, n_channels)\n",
    "print(Xinput.shape, Xinput.dtype)\n",
    "\n",
    "# inputs = tf.transpose(a=Xinput, perm=[1,0,2]) # reshape into (seq_len, N, channels)\n",
    "inputs = tf.transpose(Xinput, [1,0,2]) # reshape into (seq_len, N, channels)\n",
    "print(inputs.shape, inputs.dtype)\n",
    "\n",
    "# shape=[-1, Cin]\n",
    "shape = [inputs.shape[0].value * inputs.shape[1].value, inputs.shape[2].value]\n",
    "inputs = tf.reshape(tensor=inputs, shape=shape) # (W*N, Cin)\n",
    "print(inputs.shape, inputs.dtype)\n",
    "\n",
    "# Open up the tensor into a list of seq_len pieces\n",
    "inputs = tf.split(value=inputs, num_or_size_splits=W, axis=0)\n",
    "print(len(inputs), inputs[0].shape, inputs[0].dtype)"
   ]
  },
  {
   "cell_type": "code",
   "execution_count": 20,
   "metadata": {},
   "outputs": [
    {
     "name": "stdout",
     "output_type": "stream",
     "text": [
      "120\n",
      "<tensorflow.python.ops.rnn_cell_impl.BasicLSTMCell object at 0x7fe477d7bbe0>\n"
     ]
    }
   ],
   "source": [
    "# RNN-LSTM parameters\n",
    "lstm_size = 3 * Cin # 3 times the amount of channels\n",
    "print(lstm_size)\n",
    "\n",
    "# Add LSTM layers\n",
    "# lstm = tf.contrib.rnn.BasicLSTMCell(lstm_size)\n",
    "lstm = tf.nn.rnn_cell.BasicLSTMCell(num_units=lstm_size)\n",
    "print(lstm)"
   ]
  },
  {
   "cell_type": "code",
   "execution_count": 21,
   "metadata": {},
   "outputs": [],
   "source": [
    "# drop = tf.nn.rnn_cell.DropoutWrapper(lstm, output_keep_prob=keep_prob_)\n",
    "lstm_layers = 1 # Number of layers\n",
    "cell = tf.nn.rnn_cell.MultiRNNCell(cells=[lstm] * lstm_layers)"
   ]
  },
  {
   "cell_type": "code",
   "execution_count": 22,
   "metadata": {},
   "outputs": [],
   "source": [
    "initial_state = cell.zero_state(batch_size=N, dtype=tf.float32)"
   ]
  },
  {
   "cell_type": "code",
   "execution_count": 23,
   "metadata": {},
   "outputs": [
    {
     "name": "stdout",
     "output_type": "stream",
     "text": [
      "250 (14619, 120) <dtype: 'float32'>\n"
     ]
    }
   ],
   "source": [
    "outputs, final_state = tf.nn.static_rnn(cell=cell, inputs=inputs, dtype=tf.float32, initial_state=initial_state)\n",
    "print(len(outputs), outputs[0].shape, outputs[0].dtype)"
   ]
  },
  {
   "cell_type": "code",
   "execution_count": 24,
   "metadata": {},
   "outputs": [
    {
     "name": "stdout",
     "output_type": "stream",
     "text": [
      "(14619, 5) <dtype: 'float32'>\n",
      "250 (14619, 120) <dtype: 'float32'>\n"
     ]
    }
   ],
   "source": [
    "# We only need the last output tensor to pass into a classifier\n",
    "Ylogits = tf.layers.dense(inputs=outputs[-1], units=Cout, name=None)\n",
    "print(Ylogits.shape, Ylogits.dtype)\n",
    "print(len(outputs), outputs[-1].shape, outputs[-1].dtype)"
   ]
  },
  {
   "cell_type": "code",
   "execution_count": 25,
   "metadata": {},
   "outputs": [
    {
     "name": "stdout",
     "output_type": "stream",
     "text": [
      "Tensor(\"softmax_cross_entropy_with_logits/Reshape_2:0\", shape=(14619,), dtype=float32)\n",
      "Tensor(\"Mean:0\", shape=(), dtype=float32)\n"
     ]
    }
   ],
   "source": [
    "# Backward pass: error backpropagation\n",
    "# Cost function\n",
    "loss = tf.nn.softmax_cross_entropy_with_logits_v2(logits=Ylogits, labels=Ylabels)\n",
    "print(loss)\n",
    "loss = tf.reduce_mean(input_tensor=loss)\n",
    "print(loss)"
   ]
  },
  {
   "cell_type": "code",
   "execution_count": 26,
   "metadata": {},
   "outputs": [
    {
     "name": "stdout",
     "output_type": "stream",
     "text": [
      "optimizer name: \"Adam\"\n",
      "op: \"NoOp\"\n",
      "input: \"^Adam/update_rnn/multi_rnn_cell/cell_0/basic_lstm_cell/kernel/ApplyAdam\"\n",
      "input: \"^Adam/update_rnn/multi_rnn_cell/cell_0/basic_lstm_cell/bias/ApplyAdam\"\n",
      "input: \"^Adam/update_dense/kernel/ApplyAdam\"\n",
      "input: \"^Adam/update_dense/bias/ApplyAdam\"\n",
      "input: \"^Adam/Assign\"\n",
      "input: \"^Adam/Assign_1\"\n",
      "\n"
     ]
    }
   ],
   "source": [
    "# Optimizer\n",
    "optimizer = tf.train.AdamOptimizer().minimize(loss=loss)\n",
    "print('optimizer', optimizer)"
   ]
  },
  {
   "cell_type": "code",
   "execution_count": 27,
   "metadata": {},
   "outputs": [
    {
     "name": "stdout",
     "output_type": "stream",
     "text": [
      "Tensor(\"ArgMax:0\", shape=(14619,), dtype=int64)\n",
      "Tensor(\"ArgMax_1:0\", shape=(14619,), dtype=int64)\n",
      "Tensor(\"Equal:0\", shape=(14619,), dtype=bool)\n",
      "Tensor(\"Cast:0\", shape=(14619,), dtype=float32)\n",
      "Tensor(\"Mean_1:0\", shape=(), dtype=float32)\n"
     ]
    }
   ],
   "source": [
    "# Accuracy\n",
    "Ylogits_argmax = tf.argmax(input=Ylogits, axis=1)\n",
    "print(Ylogits_argmax)\n",
    "Ylabels_argmax = tf.argmax(input=Ylabels, axis=1)\n",
    "print(Ylabels_argmax)\n",
    "accuracy = tf.equal(x=Ylogits_argmax, y=Ylabels_argmax, name=None)\n",
    "print(accuracy)\n",
    "accuracy = tf.cast(x=accuracy, dtype=tf.float32)\n",
    "print(accuracy)\n",
    "accuracy = tf.reduce_mean(input_tensor=accuracy, name=None)\n",
    "print(accuracy)"
   ]
  },
  {
   "cell_type": "code",
   "execution_count": 28,
   "metadata": {},
   "outputs": [],
   "source": [
    "# # Confusion matrix\n",
    "# confusion_matrix = tf.confusion_matrix(predictions=tf.argmax(logits, 1),\n",
    "#                                        labels=tf.argmax(labels_, 1))\n",
    "# print('confusion_matrix', confusion_matrix)"
   ]
  },
  {
   "cell_type": "code",
   "execution_count": 29,
   "metadata": {},
   "outputs": [],
   "source": [
    "def get_batches(X, Y, batch_size):\n",
    "    \"\"\" Return a generator for batches \"\"\"\n",
    "    n_batches = len(X) // batch_size\n",
    "    X, Y = X[:n_batches*batch_size], Y[:n_batches*batch_size]\n",
    "\n",
    "    # Loop over batches and yield\n",
    "    for b in range(0, len(X), batch_size):\n",
    "        yield X[b:b+batch_size], Y[b:b+batch_size]"
   ]
  },
  {
   "cell_type": "code",
   "execution_count": 30,
   "metadata": {
    "scrolled": true
   },
   "outputs": [
    {
     "name": "stdout",
     "output_type": "stream",
     "text": [
      "Epoch: 1/100 Train loss: 1.632954 Valid loss: 1.544962 Train acc: 0.230248 Valid acc: 0.296942\n",
      "Epoch: 2/100 Train loss: 1.521615 Valid loss: 1.464615 Train acc: 0.358540 Valid acc: 0.489363\n",
      "Epoch: 3/100 Train loss: 1.444983 Valid loss: 1.396773 Train acc: 0.489705 Valid acc: 0.486217\n",
      "Epoch: 4/100 Train loss: 1.378153 Valid loss: 1.328666 Train acc: 0.493638 Valid acc: 0.518093\n",
      "Epoch: 5/100 Train loss: 1.309153 Valid loss: 1.251656 Train acc: 0.521684 Valid acc: 0.547575\n",
      "Epoch: 6/100 Train loss: 1.228853 Valid loss: 1.158508 Train acc: 0.552500 Valid acc: 0.569396\n",
      "Epoch: 7/100 Train loss: 1.132173 Valid loss: 1.047986 Train acc: 0.568986 Valid acc: 0.583966\n",
      "Epoch: 8/100 Train loss: 1.024139 Valid loss: 0.950971 Train acc: 0.592927 Valid acc: 0.611328\n",
      "Epoch: 9/100 Train loss: 0.936038 Valid loss: 0.896309 Train acc: 0.614543 Valid acc: 0.620836\n",
      "Epoch: 10/100 Train loss: 0.912788 Valid loss: 0.879603 Train acc: 0.609618 Valid acc: 0.616526\n",
      "Epoch: 11/100 Train loss: 0.888647 Valid loss: 0.862936 Train acc: 0.614064 Valid acc: 0.636364\n",
      "Epoch: 12/100 Train loss: 0.841582 Valid loss: 0.804578 Train acc: 0.644504 Valid acc: 0.668172\n",
      "Epoch: 13/100 Train loss: 0.806183 Valid loss: 0.789595 Train acc: 0.665606 Valid acc: 0.675628\n",
      "Epoch: 14/100 Train loss: 0.776369 Valid loss: 0.747144 Train acc: 0.681852 Valid acc: 0.695328\n",
      "Epoch: 15/100 Train loss: 0.747243 Valid loss: 0.727171 Train acc: 0.692489 Valid acc: 0.689719\n",
      "Epoch: 16/100 Train loss: 0.722461 Valid loss: 0.689153 Train acc: 0.691703 Valid acc: 0.710035\n",
      "Epoch: 17/100 Train loss: 0.680326 Valid loss: 0.659787 Train acc: 0.720364 Valid acc: 0.745605\n",
      "Epoch: 18/100 Train loss: 0.649854 Valid loss: 0.618374 Train acc: 0.753095 Valid acc: 0.779055\n",
      "Epoch: 19/100 Train loss: 0.607480 Valid loss: 0.581744 Train acc: 0.782954 Valid acc: 0.789589\n",
      "Epoch: 20/100 Train loss: 0.571939 Valid loss: 0.537152 Train acc: 0.798892 Valid acc: 0.824954\n",
      "Epoch: 21/100 Train loss: 0.536933 Valid loss: 0.493931 Train acc: 0.821705 Valid acc: 0.837677\n",
      "Epoch: 22/100 Train loss: 0.491241 Valid loss: 0.472636 Train acc: 0.842499 Valid acc: 0.853478\n",
      "Epoch: 23/100 Train loss: 0.463704 Valid loss: 0.434605 Train acc: 0.851050 Valid acc: 0.852931\n",
      "Epoch: 24/100 Train loss: 0.421720 Valid loss: 0.394951 Train acc: 0.866988 Valid acc: 0.870032\n",
      "Epoch: 25/100 Train loss: 0.391346 Valid loss: 0.372296 Train acc: 0.867775 Valid acc: 0.875299\n",
      "Epoch: 26/100 Train loss: 0.377613 Valid loss: 0.343682 Train acc: 0.875539 Valid acc: 0.896094\n",
      "Epoch: 27/100 Train loss: 0.350255 Valid loss: 0.342829 Train acc: 0.887441 Valid acc: 0.873794\n",
      "Epoch: 28/100 Train loss: 0.349779 Valid loss: 0.308288 Train acc: 0.867980 Valid acc: 0.897325\n",
      "Epoch: 29/100 Train loss: 0.334237 Valid loss: 0.354853 Train acc: 0.871982 Valid acc: 0.859224\n",
      "Epoch: 30/100 Train loss: 0.333244 Valid loss: 0.297705 Train acc: 0.876667 Valid acc: 0.879814\n",
      "Epoch: 31/100 Train loss: 0.325617 Valid loss: 0.277032 Train acc: 0.872974 Valid acc: 0.919146\n",
      "Epoch: 32/100 Train loss: 0.308961 Valid loss: 0.325198 Train acc: 0.899412 Valid acc: 0.882755\n",
      "Epoch: 33/100 Train loss: 0.323237 Valid loss: 0.273258 Train acc: 0.888125 Valid acc: 0.913537\n",
      "Epoch: 34/100 Train loss: 0.296408 Valid loss: 0.278155 Train acc: 0.899514 Valid acc: 0.908886\n",
      "Epoch: 35/100 Train loss: 0.279629 Valid loss: 0.340300 Train acc: 0.906047 Valid acc: 0.886039\n",
      "Epoch: 36/100 Train loss: 0.309937 Valid loss: 0.295394 Train acc: 0.893392 Valid acc: 0.891648\n",
      "Epoch: 37/100 Train loss: 0.293287 Valid loss: 0.254728 Train acc: 0.896915 Valid acc: 0.922977\n",
      "Epoch: 38/100 Train loss: 0.267021 Valid loss: 0.260602 Train acc: 0.915384 Valid acc: 0.917163\n",
      "Epoch: 39/100 Train loss: 0.281504 Valid loss: 0.260540 Train acc: 0.907141 Valid acc: 0.910596\n",
      "Epoch: 40/100 Train loss: 0.253502 Valid loss: 0.268883 Train acc: 0.916821 Valid acc: 0.917915\n",
      "Epoch: 41/100 Train loss: 0.262089 Valid loss: 0.226502 Train acc: 0.917915 Valid acc: 0.935426\n",
      "Epoch: 42/100 Train loss: 0.225607 Valid loss: 0.214532 Train acc: 0.938334 Valid acc: 0.944729\n",
      "Epoch: 43/100 Train loss: 0.219346 Valid loss: 0.208317 Train acc: 0.938881 Valid acc: 0.946371\n",
      "Epoch: 44/100 Train loss: 0.205768 Valid loss: 0.195635 Train acc: 0.944901 Valid acc: 0.949928\n",
      "Epoch: 45/100 Train loss: 0.206689 Valid loss: 0.183151 Train acc: 0.941959 Valid acc: 0.946508\n",
      "Epoch: 46/100 Train loss: 0.190395 Valid loss: 0.186045 Train acc: 0.945482 Valid acc: 0.942335\n",
      "Epoch: 47/100 Train loss: 0.189534 Valid loss: 0.179006 Train acc: 0.939873 Valid acc: 0.945824\n",
      "Epoch: 48/100 Train loss: 0.249720 Valid loss: 0.262111 Train acc: 0.917607 Valid acc: 0.917299\n",
      "Epoch: 49/100 Train loss: 0.253711 Valid loss: 0.310255 Train acc: 0.916308 Valid acc: 0.874752\n",
      "Epoch: 50/100 Train loss: 0.312301 Valid loss: 0.278111 Train acc: 0.878891 Valid acc: 0.894110\n",
      "Epoch: 51/100 Train loss: 0.260797 Valid loss: 0.263603 Train acc: 0.900540 Valid acc: 0.887202\n",
      "Epoch: 52/100 Train loss: 0.266515 Valid loss: 0.247610 Train acc: 0.888364 Valid acc: 0.896026\n",
      "Epoch: 53/100 Train loss: 0.240393 Valid loss: 0.270041 Train acc: 0.906218 Valid acc: 0.891853\n",
      "Epoch: 54/100 Train loss: 0.265485 Valid loss: 0.228001 Train acc: 0.895615 Valid acc: 0.905465\n",
      "Epoch: 55/100 Train loss: 0.219193 Valid loss: 0.208189 Train acc: 0.921506 Valid acc: 0.928723\n",
      "Epoch: 56/100 Train loss: 0.223673 Valid loss: 0.212176 Train acc: 0.918360 Valid acc: 0.911895\n",
      "Epoch: 57/100 Train loss: 0.214924 Valid loss: 0.199658 Train acc: 0.909707 Valid acc: 0.914837\n",
      "Epoch: 58/100 Train loss: 0.205222 Valid loss: 0.201476 Train acc: 0.915316 Valid acc: 0.922156\n",
      "Epoch: 59/100 Train loss: 0.210980 Valid loss: 0.206497 Train acc: 0.922635 Valid acc: 0.923319\n",
      "Epoch: 60/100 Train loss: 0.217758 Valid loss: 0.209709 Train acc: 0.917881 Valid acc: 0.923182\n",
      "Epoch: 61/100 Train loss: 0.213041 Valid loss: 0.205199 Train acc: 0.921575 Valid acc: 0.923319\n",
      "Epoch: 62/100 Train loss: 0.207692 Valid loss: 0.206733 Train acc: 0.919010 Valid acc: 0.910733\n",
      "Epoch: 63/100 Train loss: 0.204879 Valid loss: 0.190510 Train acc: 0.912135 Valid acc: 0.919967\n",
      "Epoch: 64/100 Train loss: 0.187300 Valid loss: 0.181088 Train acc: 0.924311 Valid acc: 0.933238\n",
      "Epoch: 65/100 Train loss: 0.195294 Valid loss: 0.243057 Train acc: 0.920138 Valid acc: 0.889254\n",
      "Epoch: 66/100 Train loss: 0.240248 Valid loss: 0.206422 Train acc: 0.896094 Valid acc: 0.913879\n",
      "Epoch: 67/100 Train loss: 0.211987 Valid loss: 0.219697 Train acc: 0.911451 Valid acc: 0.892537\n",
      "Epoch: 68/100 Train loss: 0.230972 Valid loss: 0.246232 Train acc: 0.887509 Valid acc: 0.890827\n",
      "Epoch: 69/100 Train loss: 0.234316 Valid loss: 0.207502 Train acc: 0.899480 Valid acc: 0.922430\n",
      "Epoch: 70/100 Train loss: 0.211896 Valid loss: 0.195171 Train acc: 0.915966 Valid acc: 0.917505\n",
      "Epoch: 71/100 Train loss: 0.194297 Valid loss: 0.189331 Train acc: 0.919523 Valid acc: 0.925097\n",
      "Epoch: 72/100 Train loss: 0.191793 Valid loss: 0.154004 Train acc: 0.925303 Valid acc: 0.939326\n",
      "Epoch: 73/100 Train loss: 0.182819 Valid loss: 0.165624 Train acc: 0.928860 Valid acc: 0.920378\n",
      "Epoch: 74/100 Train loss: 0.171546 Valid loss: 0.179420 Train acc: 0.920651 Valid acc: 0.927560\n",
      "Epoch: 75/100 Train loss: 0.176224 Valid loss: 0.216050 Train acc: 0.931459 Valid acc: 0.912169\n",
      "Epoch: 76/100 Train loss: 0.202437 Valid loss: 0.165016 Train acc: 0.915452 Valid acc: 0.926397\n",
      "Epoch: 77/100 Train loss: 0.169049 Valid loss: 0.179326 Train acc: 0.922259 Valid acc: 0.916205\n",
      "Epoch: 78/100 Train loss: 0.172653 Valid loss: 0.167307 Train acc: 0.920959 Valid acc: 0.923319\n",
      "Epoch: 79/100 Train loss: 0.177541 Valid loss: 0.173063 Train acc: 0.919523 Valid acc: 0.923524\n",
      "Epoch: 80/100 Train loss: 0.170096 Valid loss: 0.172810 Train acc: 0.925645 Valid acc: 0.929954\n",
      "Epoch: 81/100 Train loss: 0.170460 Valid loss: 0.165869 Train acc: 0.934298 Valid acc: 0.945482\n",
      "Epoch: 82/100 Train loss: 0.162061 Valid loss: 0.155829 Train acc: 0.943806 Valid acc: 0.937342\n",
      "Epoch: 83/100 Train loss: 0.152071 Valid loss: 0.149667 Train acc: 0.939052 Valid acc: 0.936863\n",
      "Epoch: 84/100 Train loss: 0.147546 Valid loss: 0.143556 Train acc: 0.938778 Valid acc: 0.941241\n",
      "Epoch: 85/100 Train loss: 0.143002 Valid loss: 0.140298 Train acc: 0.941685 Valid acc: 0.944456\n",
      "Epoch: 86/100 Train loss: 0.140076 Valid loss: 0.133007 Train acc: 0.944353 Valid acc: 0.948834\n"
     ]
    },
    {
     "name": "stdout",
     "output_type": "stream",
     "text": [
      "Epoch: 87/100 Train loss: 0.132987 Valid loss: 0.135113 Train acc: 0.948492 Valid acc: 0.946645\n",
      "Epoch: 88/100 Train loss: 0.132234 Valid loss: 0.127330 Train acc: 0.949244 Valid acc: 0.959505\n",
      "Epoch: 89/100 Train loss: 0.125604 Valid loss: 0.122887 Train acc: 0.960804 Valid acc: 0.966550\n",
      "Epoch: 90/100 Train loss: 0.118010 Valid loss: 0.112012 Train acc: 0.962993 Valid acc: 0.974485\n",
      "Epoch: 91/100 Train loss: 0.108306 Valid loss: 0.103152 Train acc: 0.971988 Valid acc: 0.984814\n",
      "Epoch: 92/100 Train loss: 0.101857 Valid loss: 0.100329 Train acc: 0.981462 Valid acc: 0.986046\n",
      "Epoch: 93/100 Train loss: 0.099303 Valid loss: 0.100218 Train acc: 0.979787 Valid acc: 0.973459\n",
      "Epoch: 94/100 Train loss: 0.098773 Valid loss: 0.097634 Train acc: 0.973151 Valid acc: 0.976537\n",
      "Epoch: 95/100 Train loss: 0.094265 Valid loss: 0.090198 Train acc: 0.979821 Valid acc: 0.986456\n",
      "Epoch: 96/100 Train loss: 0.089758 Valid loss: 0.079012 Train acc: 0.985225 Valid acc: 0.987961\n",
      "Epoch: 97/100 Train loss: 0.087544 Valid loss: 0.078585 Train acc: 0.979821 Valid acc: 0.978726\n",
      "Epoch: 98/100 Train loss: 0.082537 Valid loss: 0.083388 Train acc: 0.975546 Valid acc: 0.974485\n",
      "Epoch: 99/100 Train loss: 0.088383 Valid loss: 0.081354 Train acc: 0.970449 Valid acc: 0.976606\n",
      "Epoch: 100/100 Train loss: 0.087765 Valid loss: 0.070904 Train acc: 0.970449 Valid acc: 0.980300\n"
     ]
    }
   ],
   "source": [
    "train_acc, train_loss = [], []\n",
    "valid_acc, valid_loss = [], []\n",
    "\n",
    "# Save the training result or trained and validated model params\n",
    "saver = tf.train.Saver()\n",
    "\n",
    "with tf.Session() as sess:\n",
    "    sess.run(fetches=tf.global_variables_initializer())\n",
    "   \n",
    "    # Loop over epochs\n",
    "    epochs = 100\n",
    "    for epoch in range(epochs):\n",
    "        \n",
    "        # Loop over batches of training\n",
    "        state = sess.run(fetches=initial_state)\n",
    "        loss_batch, acc_batch = [], []\n",
    "        for Xarr, Yarr in get_batches(X=Xtrain, Y=Ytrain, batch_size=N):\n",
    "            \n",
    "            # Feed dictionary\n",
    "            feed_dict = {Xinput:Xarr, Ylabels:Yarr, initial_state:state}\n",
    "            lossarr, _ , state, accarr = sess.run(fetches=[loss, optimizer, final_state, accuracy], \n",
    "                                                  feed_dict=feed_dict)\n",
    "            loss_batch.append(lossarr)\n",
    "            acc_batch.append(accarr)\n",
    "            \n",
    "        # acc and loss for plotting\n",
    "        train_acc.append(np.mean(acc_batch))\n",
    "        train_loss.append(np.mean(loss_batch))\n",
    "\n",
    "        # Loop over batches of validation\n",
    "        state = sess.run(fetches=initial_state)\n",
    "        loss_batch, acc_batch = [], []\n",
    "        for Xarr, Yarr in get_batches(X=Xvalid, Y=Yvalid, batch_size=N):\n",
    "            \n",
    "            # Feed dictionary\n",
    "            feed_dict = {Xinput:Xarr, Ylabels:Yarr, initial_state:state}\n",
    "            lossarr, state, accarr = sess.run(fetches=[loss, final_state, accuracy], feed_dict=feed_dict)\n",
    "            loss_batch.append(lossarr)\n",
    "            acc_batch.append(accarr)\n",
    "            \n",
    "        # acc and loss for plotting\n",
    "        valid_acc.append(np.mean(acc_batch))\n",
    "        valid_loss.append(np.mean(loss_batch))\n",
    "            \n",
    "        # Print info for every iter/epoch\n",
    "        print(\"Epoch: {}/{}\".format(epoch+1, epochs),\n",
    "              \"Train loss: {:6f}\".format(train_loss[epoch]),\n",
    "              \"Valid loss: {:.6f}\".format(valid_loss[epoch]),\n",
    "              \"Train acc: {:6f}\".format(train_acc[epoch]),\n",
    "              \"Valid acc: {:.6f}\".format(valid_acc[epoch]))\n",
    "                \n",
    "    saver.save(sess, 'checkpoints/lstm-fnirs-har.ckpt')"
   ]
  },
  {
   "cell_type": "code",
   "execution_count": 31,
   "metadata": {},
   "outputs": [
    {
     "data": {
      "image/png": "[encoded data removed]",
      "text/plain": [
       "<Figure size 432x288 with 1 Axes>"
      ]
     },
     "metadata": {},
     "output_type": "display_data"
    }
   ],
   "source": [
    "import matplotlib.pyplot as mplot\n",
    "%matplotlib inline\n",
    "\n",
    "mplot.plot(train_loss, label='train_loss')\n",
    "mplot.plot(valid_loss, label='valid_loss')\n",
    "mplot.legend()\n",
    "mplot.show()"
   ]
  },
  {
   "cell_type": "code",
   "execution_count": 32,
   "metadata": {},
   "outputs": [
    {
     "data": {
      "image/png": "[encoded data removed]",
      "text/plain": [
       "<Figure size 432x288 with 1 Axes>"
      ]
     },
     "metadata": {},
     "output_type": "display_data"
    }
   ],
   "source": [
    "# import matplotlib.pyplot as mplot\n",
    "mplot.plot(train_acc, label='train_acc')\n",
    "mplot.plot(valid_acc, label='valid_acc')\n",
    "mplot.legend()\n",
    "mplot.show()"
   ]
  },
  {
   "cell_type": "code",
   "execution_count": 36,
   "metadata": {},
   "outputs": [
    {
     "name": "stdout",
     "output_type": "stream",
     "text": [
      "INFO:tensorflow:Restoring parameters from checkpoints/lstm-imu-har.ckpt\n",
      "Test loss: 0.072246 Test acc: 0.979479\n"
     ]
    }
   ],
   "source": [
    "with tf.Session() as sess:\n",
    "    # Restore the validated model\n",
    "    saver.restore(sess, tf.train.latest_checkpoint('checkpoints'))\n",
    "#     saver.restore(sess=sess, save_path='checkpoints/lstm-fnirs-har.ckpt')\n",
    "    \n",
    "    # Loop over batches of Test\n",
    "    state = sess.run(fetches=initial_state)\n",
    "    loss_batch, acc_batch = [], []\n",
    "    for Xarr, Yarr in get_batches(X=Xtest, Y=Ytest, batch_size=N):\n",
    "\n",
    "        # Feed dictionary\n",
    "        feed_dict = {Xinput:Xarr, Ylabels:Yarr, initial_state:state}\n",
    "        lossarr, state, accarr = sess.run(fetches=[loss, final_state, accuracy], feed_dict=feed_dict)\n",
    "        loss_batch.append(lossarr)\n",
    "        acc_batch.append(accarr)\n",
    "\n",
    "    # Print info for every iter/epoch\n",
    "    print(\"Test loss: {:6f}\".format(np.mean(loss_batch)),\n",
    "          \"Test acc: {:.6f}\".format(np.mean(acc_batch)))"
   ]
  },
  {
   "cell_type": "code",
   "execution_count": null,
   "metadata": {},
   "outputs": [],
   "source": []
  }
 ],
 "metadata": {
  "kernelspec": {
   "display_name": "Python 3",
   "language": "python",
   "name": "python3"
  },
  "language_info": {
   "codemirror_mode": {
    "name": "ipython",
    "version": 3
   },
   "file_extension": ".py",
   "mimetype": "text/x-python",
   "name": "python",
   "nbconvert_exporter": "python",
   "pygments_lexer": "ipython3",
   "version": "3.6.5"
  },
  "widgets": {
   "state": {},
   "version": "1.1.2"
  }
 },
 "nbformat": 4,
 "nbformat_minor": 2
}
