{
 "cells": [
  {
   "cell_type": "markdown",
   "metadata": {},
   "source": [
    "# CNN for fNIRS data analysis for Human Activity Recognition (HAR)"
   ]
  },
  {
   "cell_type": "code",
   "execution_count": 1,
   "metadata": {},
   "outputs": [
    {
     "name": "stdout",
     "output_type": "stream",
     "text": [
      "\u001b[0m\u001b[01;34mP12-4-17-2018\u001b[0m/  \u001b[01;34mP14-4-18-2018\u001b[0m/  \u001b[01;34mP16-4-18-2018\u001b[0m/\r\n",
      "\u001b[01;34mP13-4-17-2018\u001b[0m/  \u001b[01;34mP15-4-18-2018\u001b[0m/  \u001b[01;34mP17-4-18-2018\u001b[0m/\r\n"
     ]
    }
   ],
   "source": [
    "% ls ../../../datasets/fNIRs_data/"
   ]
  },
  {
   "cell_type": "code",
   "execution_count": 2,
   "metadata": {},
   "outputs": [
    {
     "name": "stdout",
     "output_type": "stream",
     "text": [
      "\u001b[0m\u001b[01;34m1. Right Hand\u001b[0m/  \u001b[01;34m2. Both Hands\u001b[0m/  \u001b[01;34m3. Left Hand\u001b[0m/  \u001b[01;34m4. Right Leg\u001b[0m/  \u001b[01;34m5. Left Leg\u001b[0m/\r\n"
     ]
    }
   ],
   "source": [
    "% ls ../../../datasets/fNIRs_data/P12-4-17-2018/"
   ]
  },
  {
   "cell_type": "code",
   "execution_count": 3,
   "metadata": {},
   "outputs": [
    {
     "name": "stdout",
     "output_type": "stream",
     "text": [
      "\u001b[0m\u001b[01;34m2018-04-17_006\u001b[0m/\r\n",
      "fNIR_data.txt\r\n",
      "head20180417-145130.txt\r\n",
      "NIRS-2018-04-17_006_deoxyhb_T141to2511_C1to20.txt\r\n",
      "NIRS-2018-04-17_006_oxyhb_T141to2511_C1to20.txt\r\n",
      "\u001b[01;34mProcessed\u001b[0m/\r\n",
      "r_hand20180417-145128.txt\r\n",
      "r_lower_arm20180417-145129.txt\r\n",
      "r_upper_arm20180417-145129.txt\r\n"
     ]
    }
   ],
   "source": [
    "% ls ../../../datasets/fNIRs_data/P12-4-17-2018/1.\\ Right\\ Hand"
   ]
  },
  {
   "cell_type": "code",
   "execution_count": 4,
   "metadata": {},
   "outputs": [
    {
     "data": {
      "text/plain": [
       "(['/home/arasdar/datasets/fNIRs_data/P12-4-17-2018/1. Right Hand/fNIR_data.txt',\n",
       "  '/home/arasdar/datasets/fNIRs_data/P12-4-17-2018/2. Both Hands/fNIR_data.txt',\n",
       "  '/home/arasdar/datasets/fNIRs_data/P12-4-17-2018/3. Left Hand/fNIR_data.txt',\n",
       "  '/home/arasdar/datasets/fNIRs_data/P12-4-17-2018/4. Right Leg/fNIR_data.txt',\n",
       "  '/home/arasdar/datasets/fNIRs_data/P12-4-17-2018/5. Left Leg/fNIR_data.txt',\n",
       "  '/home/arasdar/datasets/fNIRs_data/P13-4-17-2018/1. Right Hand/fNIR_data.txt',\n",
       "  '/home/arasdar/datasets/fNIRs_data/P13-4-17-2018/2. Both Hands/fNIR_data.txt',\n",
       "  '/home/arasdar/datasets/fNIRs_data/P13-4-17-2018/3. Left Hand/fNIR_data.txt',\n",
       "  '/home/arasdar/datasets/fNIRs_data/P13-4-17-2018/4. Right Leg/fNIR_data.txt',\n",
       "  '/home/arasdar/datasets/fNIRs_data/P13-4-17-2018/5. Left Leg/fNIR_data.txt',\n",
       "  '/home/arasdar/datasets/fNIRs_data/P14-4-18-2018/1. Right Hand/fNIR_data.txt',\n",
       "  '/home/arasdar/datasets/fNIRs_data/P14-4-18-2018/2. Both Hands/fNIR_data.txt',\n",
       "  '/home/arasdar/datasets/fNIRs_data/P14-4-18-2018/3. Left Hand/fNIR_data.txt',\n",
       "  '/home/arasdar/datasets/fNIRs_data/P14-4-18-2018/4. Right Leg/fNIR_data.txt',\n",
       "  '/home/arasdar/datasets/fNIRs_data/P14-4-18-2018/5. Left Leg/fNIR_data.txt',\n",
       "  '/home/arasdar/datasets/fNIRs_data/P15-4-18-2018/1. Right Hand/fNIR_data.txt',\n",
       "  '/home/arasdar/datasets/fNIRs_data/P15-4-18-2018/2. Both Hands/fNIR_data.txt',\n",
       "  '/home/arasdar/datasets/fNIRs_data/P15-4-18-2018/3. Left Hand/fNIR_data.txt',\n",
       "  '/home/arasdar/datasets/fNIRs_data/P15-4-18-2018/4. Right Leg/fNIR_data.txt',\n",
       "  '/home/arasdar/datasets/fNIRs_data/P15-4-18-2018/5. Left Leg/fNIR_data.txt',\n",
       "  '/home/arasdar/datasets/fNIRs_data/P16-4-18-2018/1. Right Hand/fNIR_data.txt',\n",
       "  '/home/arasdar/datasets/fNIRs_data/P16-4-18-2018/2. Both Hands/fNIR_data.txt',\n",
       "  '/home/arasdar/datasets/fNIRs_data/P16-4-18-2018/3. Left Hand/fNIR_data.txt',\n",
       "  '/home/arasdar/datasets/fNIRs_data/P16-4-18-2018/4. Right Leg/fNIR_data.txt',\n",
       "  '/home/arasdar/datasets/fNIRs_data/P16-4-18-2018/5. Left Leg/fNIR_data.txt',\n",
       "  '/home/arasdar/datasets/fNIRs_data/P17-4-18-2018/1. Right Hand/fNIR_data.txt',\n",
       "  '/home/arasdar/datasets/fNIRs_data/P17-4-18-2018/2. Both Hands/fNIR_data.txt',\n",
       "  '/home/arasdar/datasets/fNIRs_data/P17-4-18-2018/3. Left Hand/fNIR_data.txt',\n",
       "  '/home/arasdar/datasets/fNIRs_data/P17-4-18-2018/4. Right Leg/fNIR_data.txt',\n",
       "  '/home/arasdar/datasets/fNIRs_data/P17-4-18-2018/5. Left Leg/fNIR_data.txt'],\n",
       " 30)"
      ]
     },
     "execution_count": 4,
     "metadata": {},
     "output_type": "execute_result"
    }
   ],
   "source": [
    "import numpy as np\n",
    "import os\n",
    "import pandas as pd\n",
    "\n",
    "# % find ../../datasets/fNIRs_data/ | grep fNIR_data # NOT WORKING!!\n",
    "def find_all(name, path):\n",
    "    result = []\n",
    "    for root, dirs, files in os.walk(path):\n",
    "        if name in files:\n",
    "            result.append(os.path.join(root, name))\n",
    "    return result\n",
    "\n",
    "allpaths = find_all(name='fNIR_data.txt', path='/home/arasdar/datasets/fNIRs_data/')\n",
    "allpaths = sorted(allpaths, reverse=False)\n",
    "# print(allpaths, len(allpaths))\n",
    "allpaths, len(allpaths)"
   ]
  },
  {
   "cell_type": "code",
   "execution_count": 5,
   "metadata": {},
   "outputs": [
    {
     "name": "stderr",
     "output_type": "stream",
     "text": [
      "/home/arasdar/anaconda3/envs/arasdar-DL-env/lib/python3.6/site-packages/pandas/io/parsers.py:709: UserWarning: Duplicate names specified. This will raise an error in the future.\n",
      "  return _read(filepath_or_buffer, kwds)\n"
     ]
    },
    {
     "name": "stdout",
     "output_type": "stream",
     "text": [
      "(2372, 42)\n",
      "(1210, 42)\n",
      "(2378, 42)\n",
      "(1202, 42)\n",
      "(1222, 42)\n",
      "(2405, 42)\n",
      "(1196, 42)\n",
      "(2380, 42)\n",
      "(1203, 42)\n",
      "(1242, 42)\n",
      "(2373, 42)\n",
      "(1202, 42)\n",
      "(2386, 42)\n",
      "(1196, 42)\n",
      "(1229, 42)\n",
      "(2387, 42)\n",
      "(1224, 42)\n",
      "(2379, 42)\n",
      "(1230, 42)\n",
      "(1227, 42)\n",
      "(2384, 42)\n",
      "(1230, 42)\n",
      "(2375, 42)\n",
      "(1196, 42)\n",
      "(1197, 42)\n",
      "(2373, 42)\n",
      "(1220, 42)\n",
      "(2372, 42)\n",
      "(1223, 42)\n",
      "(1222, 42)\n",
      "30\n"
     ]
    }
   ],
   "source": [
    "# df: data frame object\n",
    "df = []\n",
    "for each_idx in range(len(allpaths)):\n",
    "    file = pd.read_csv(filepath_or_buffer=allpaths[each_idx], names=['time', 'sample', \n",
    "                       'channel', 'channel', 'channel', 'channel', 'channel',\n",
    "                       'channel', 'channel', 'channel', 'channel', 'channel',\n",
    "                       'channel', 'channel', 'channel', 'channel', 'channel',\n",
    "                       'channel', 'channel', 'channel', 'channel', 'channel',\n",
    "                       'channel', 'channel', 'channel', 'channel', 'channel',\n",
    "                       'channel', 'channel', 'channel', 'channel', 'channel',\n",
    "                       'channel', 'channel', 'channel', 'channel', 'channel',\n",
    "                       'channel', 'channel', 'channel', 'channel', 'channel'],\n",
    "                         header=None)\n",
    "    df.append(file)\n",
    "    \n",
    "for each in range(len(df)):\n",
    "    print(df[each].shape)\n",
    "    df[each]=df[each].drop(axis=1, columns=None, index=None, labels=['time', 'sample'])\n",
    "    df[each] = df[each].dropna()\n",
    "    df[each]['channel.39'] = df[each]['channel.39'].astype(str).str[1:-1].astype(float)\n",
    "print(len(df))"
   ]
  },
  {
   "cell_type": "code",
   "execution_count": 7,
   "metadata": {},
   "outputs": [
    {
     "name": "stdout",
     "output_type": "stream",
     "text": [
      "float64 (2371, 40) 1\n",
      "float64 (1209, 40) 2\n",
      "float64 (2377, 40) 3\n",
      "float64 (1201, 40) 4\n",
      "float64 (1221, 40) 5\n",
      "float64 (2404, 40) 1\n",
      "float64 (1195, 40) 2\n",
      "float64 (2379, 40) 3\n",
      "float64 (1202, 40) 4\n",
      "float64 (1241, 40) 5\n",
      "float64 (2372, 40) 1\n",
      "float64 (1201, 40) 2\n",
      "float64 (2385, 40) 3\n",
      "float64 (1195, 40) 4\n",
      "float64 (1228, 40) 5\n",
      "float64 (2386, 40) 1\n",
      "float64 (1223, 40) 2\n",
      "float64 (2378, 40) 3\n",
      "float64 (1229, 40) 4\n",
      "float64 (1226, 40) 5\n",
      "float64 (2383, 40) 1\n",
      "float64 (1229, 40) 2\n",
      "float64 (2374, 40) 3\n",
      "float64 (1195, 40) 4\n",
      "float64 (1196, 40) 5\n",
      "float64 (2372, 40) 1\n",
      "float64 (1219, 40) 2\n",
      "float64 (2371, 40) 3\n",
      "float64 (1222, 40) 4\n",
      "float64 (1221, 40) 5\n"
     ]
    },
    {
     "data": {
      "text/plain": [
       "(30, 30)"
      ]
     },
     "execution_count": 7,
     "metadata": {},
     "output_type": "execute_result"
    }
   ],
   "source": [
    "data, labels = [], []\n",
    "for each in range(0, len(df), 1):\n",
    "    dfmat = df[each].as_matrix()\n",
    "    label = (each%5)+1\n",
    "    print(dfmat.dtype, dfmat.shape, label)\n",
    "    data.append(dfmat)\n",
    "    labels.append(label)\n",
    "len(data), len(labels)"
   ]
  },
  {
   "cell_type": "code",
   "execution_count": 8,
   "metadata": {},
   "outputs": [],
   "source": [
    "# This is very much like a convolution for extracting the windows\n",
    "# size/width, stride/overlap, padding, dilation, num filters/out channel\n",
    "def minibatching(X, Y, stride, width):\n",
    "    Xmb, Ymb = [], []\n",
    "    print(len(X), len(Y))\n",
    "    # 1st and 1st\n",
    "    for eachX in range(len(X)):\n",
    "        num_mb = ((X[eachX].shape[0]-width)//stride)+1\n",
    "        for each in range(num_mb):\n",
    "            # The max is (num_mb-1)*stride+width==X[idx].shape[0]\n",
    "            # The last each is (num_mb-1)\n",
    "            # each = ((each-1)*stride)+width\n",
    "            each *= stride\n",
    "            Xmb.append(X[eachX][each:each+width])\n",
    "            # There is only one label for one image signal or signal window or temporal window\n",
    "            #Ymb.append(Y[eachX][each:each+1])\n",
    "            Ymb.append(Y[eachX])\n",
    "    return Xmb, Ymb"
   ]
  },
  {
   "cell_type": "code",
   "execution_count": 9,
   "metadata": {},
   "outputs": [
    {
     "name": "stdout",
     "output_type": "stream",
     "text": [
      "30 30\n",
      "42935 42935\n",
      "(250, 40) float64\n",
      "1\n"
     ]
    }
   ],
   "source": [
    "# Width is based on the sampling rate which is roughly about 233 points per window\n",
    "# for 10sec rest and 20 sec activity\n",
    "width = 250\n",
    "Xmb, Ymb = minibatching(X=data, Y=labels, stride=1, width=width)\n",
    "# for eachX, eachY in zip(Xmb, Ymb):\n",
    "#     print(eachX.shape, eachY)\n",
    "print(len(Xmb), len(Ymb))\n",
    "print(Xmb[0].shape, Xmb[0].dtype)\n",
    "print(Ymb[0])"
   ]
  },
  {
   "cell_type": "code",
   "execution_count": 10,
   "metadata": {},
   "outputs": [
    {
     "name": "stdout",
     "output_type": "stream",
     "text": [
      "(42935, 250, 40) float64 (42935,) int64\n"
     ]
    }
   ],
   "source": [
    "# Conversion from python list to numpy array\n",
    "X, Y=np.array(object=Xmb, dtype=float), np.array(object=Ymb, dtype=int)\n",
    "print(X.shape, X.dtype, Y.shape, Y.dtype)"
   ]
  },
  {
   "cell_type": "code",
   "execution_count": 11,
   "metadata": {},
   "outputs": [
    {
     "name": "stdout",
     "output_type": "stream",
     "text": [
      "(30054, 250, 40) (12881, 250, 40) (30054,) (12881,)\n",
      "float64 float64 int64 int64\n"
     ]
    }
   ],
   "source": [
    "# Now I should devide the data into train and test\n",
    "# Train and valid split\n",
    "from sklearn.model_selection import train_test_split\n",
    "\n",
    "# 30% of the training data/ entire training data is assigned to validation.\n",
    "Xtrain, Xtest, Ytrain, Ytest = train_test_split(X, Y, test_size=0.30)\n",
    "print(Xtrain.shape, Xtest.shape, Ytrain.shape, Ytest.shape)\n",
    "print(Xtrain.dtype, Xtest.dtype, Ytrain.dtype, Ytest.dtype)"
   ]
  },
  {
   "cell_type": "code",
   "execution_count": 12,
   "metadata": {},
   "outputs": [
    {
     "name": "stdout",
     "output_type": "stream",
     "text": [
      "(30054, 250, 40) float64\n",
      "(12881, 250, 40) float64\n"
     ]
    }
   ],
   "source": [
    "# # standardizing/normalizing the train and test data\n",
    "# def standardize(train, test):\n",
    "# \"\"\" Standardize data \"\"\"\n",
    "# # Standardize train and test\n",
    "# X_train = (train - np.mean(train, axis=0)[None,:,:]) / np.std(train, axis=0)[None,:,:]\n",
    "# X_test = (test - np.mean(test, axis=0)[None,:,:]) / np.std(test, axis=0)[None,:,:]\n",
    "# return X_train, X_test\n",
    "\n",
    "Xtrain = (Xtrain - Xtrain.mean(axis=0))/ Xtrain.std(axis=0)\n",
    "Xtest = (Xtest - Xtest.mean(axis=0))/ Xtest.std(axis=0)\n",
    "print(Xtrain.shape, Xtrain.dtype)\n",
    "print(Xtest.shape, Xtest.dtype)"
   ]
  },
  {
   "cell_type": "code",
   "execution_count": 16,
   "metadata": {},
   "outputs": [
    {
     "name": "stdout",
     "output_type": "stream",
     "text": [
      "[[-1.03611950e-16  2.20204946e-17 -1.01218177e-18 ...  4.16139694e-17\n",
      "   8.29305643e-17  6.75538978e-17]\n",
      " [-6.26370586e-17 -1.35558475e-16  1.99481078e-18 ... -6.90721705e-17\n",
      "  -1.09949168e-16 -1.03571315e-16]\n",
      " [-2.16917202e-17 -1.20383137e-16  8.35659485e-17 ... -6.98737889e-17\n",
      "   8.19017591e-17  8.74687588e-17]\n",
      " ...\n",
      " [-9.99474085e-17  1.79532971e-18  4.16638397e-17 ...  3.78127467e-17\n",
      "   2.96580340e-17 -2.67858759e-17]\n",
      " [ 9.63567491e-17 -3.28441902e-17  4.29992547e-18 ... -3.99590153e-17\n",
      "   1.56326672e-16 -1.94678756e-18]\n",
      " [ 1.14250941e-16  1.22027009e-16  3.96265468e-17 ...  5.55591745e-17\n",
      "  -1.07505525e-16  1.05133917e-17]] [[1. 1. 1. ... 1. 1. 1.]\n",
      " [1. 1. 1. ... 1. 1. 1.]\n",
      " [1. 1. 1. ... 1. 1. 1.]\n",
      " ...\n",
      " [1. 1. 1. ... 1. 1. 1.]\n",
      " [1. 1. 1. ... 1. 1. 1.]\n",
      " [1. 1. 1. ... 1. 1. 1.]]\n"
     ]
    }
   ],
   "source": [
    "print(Xtrain.mean(axis=0), Xtrain.std(axis=0))"
   ]
  },
  {
   "cell_type": "code",
   "execution_count": 17,
   "metadata": {},
   "outputs": [
    {
     "name": "stdout",
     "output_type": "stream",
     "text": [
      "[[ 1.92119177e-17 -8.83972311e-17 -6.87188060e-17 ... -5.32718079e-17\n",
      "  -1.12789213e-16  2.20303552e-17]\n",
      " [-1.21054906e-16 -3.48124431e-17 -6.43478577e-17 ... -6.93611964e-17\n",
      "  -4.71721964e-17 -7.48135692e-18]\n",
      " [ 1.02136036e-17 -1.48532516e-16  4.47119892e-17 ...  8.86988651e-17\n",
      "  -1.35345332e-16 -9.37582956e-17]\n",
      " ...\n",
      " [ 5.13136618e-17  1.77337464e-16 -1.75936864e-17 ... -3.47779668e-18\n",
      "  -1.18227849e-16  5.53861746e-17]\n",
      " [-5.45630530e-17 -6.08679062e-17  6.05834767e-17 ... -7.43937934e-17\n",
      "  -1.88757738e-17  5.06801598e-17]\n",
      " [ 1.18727755e-16  1.07833245e-16 -2.41840465e-17 ...  7.86506736e-17\n",
      "  -9.44219644e-17  3.57174460e-17]] [[1. 1. 1. ... 1. 1. 1.]\n",
      " [1. 1. 1. ... 1. 1. 1.]\n",
      " [1. 1. 1. ... 1. 1. 1.]\n",
      " ...\n",
      " [1. 1. 1. ... 1. 1. 1.]\n",
      " [1. 1. 1. ... 1. 1. 1.]\n",
      " [1. 1. 1. ... 1. 1. 1.]]\n"
     ]
    }
   ],
   "source": [
    "print(Xtest.mean(axis=0), Xtest.std(axis=0))"
   ]
  },
  {
   "cell_type": "code",
   "execution_count": 18,
   "metadata": {},
   "outputs": [
    {
     "name": "stdout",
     "output_type": "stream",
     "text": [
      "5 5 5\n",
      "(30054, 5) float64 (12881, 5) float64\n"
     ]
    }
   ],
   "source": [
    "# Onehotencoding of the output labels\n",
    "def onehot(labels, n_class):\n",
    "\t\"\"\" One-hot encoding \"\"\"\n",
    "\texpansion = np.eye(n_class)\n",
    "\ty = expansion[:, labels-1].T\n",
    "\tassert y.shape[1] == n_class, \"Wrong number of labels!\"\n",
    "\n",
    "\treturn y\n",
    "\n",
    "print(Y.max(axis=0), Ytrain.max(axis=0), Ytest.max(axis=0))\n",
    "# # assert Y.max(axis=0) == Ytrain.max(axis=0) == Ytest.max(axis=0), 'wrong labels'\n",
    "Ytrain=onehot(labels=Ytrain, n_class=Ytrain.max(axis=0))\n",
    "Ytest=onehot(labels=Ytest, n_class=Ytest.max(axis=0))\n",
    "print(Ytrain.shape, Ytrain.dtype, Ytest.shape, Ytest.dtype)"
   ]
  },
  {
   "cell_type": "code",
   "execution_count": 19,
   "metadata": {},
   "outputs": [
    {
     "name": "stdout",
     "output_type": "stream",
     "text": [
      "(21037, 250, 40) (9017, 250, 40) (12881, 250, 40) float64 float64 float64\n",
      "(21037, 5) (9017, 5) (12881, 5) float64 float64 float64\n"
     ]
    }
   ],
   "source": [
    "# Now separating train and validation set\n",
    "# 30% of the training data/ entire training data is assigned to validation.\n",
    "Xtrain, Xvalid, Ytrain, Yvalid = train_test_split(Xtrain, Ytrain, test_size=0.30)\n",
    "print(Xtrain.shape, Xvalid.shape, Xtest.shape, Xtrain.dtype, Xvalid.dtype, Xtest.dtype)\n",
    "print(Ytrain.shape, Yvalid.shape, Ytest.shape, Ytrain.dtype, Yvalid.dtype, Ytest.dtype)"
   ]
  },
  {
   "cell_type": "code",
   "execution_count": 20,
   "metadata": {},
   "outputs": [
    {
     "name": "stdout",
     "output_type": "stream",
     "text": [
      "TensorFlow Version: 1.7.0\n",
      "Default GPU Device: /device:GPU:0\n"
     ]
    }
   ],
   "source": [
    "# In this one we should define and detect GPUs for tensorflow\n",
    "# GPUs or CPU\n",
    "import tensorflow as tf\n",
    "\n",
    "# Check TensorFlow Version\n",
    "print('TensorFlow Version: {}'.format(tf.__version__))\n",
    "\n",
    "# Check for a GPU\n",
    "print('Default GPU Device: {}'.format(tf.test.gpu_device_name()))"
   ]
  },
  {
   "cell_type": "code",
   "execution_count": 21,
   "metadata": {},
   "outputs": [
    {
     "name": "stdout",
     "output_type": "stream",
     "text": [
      "(9017, 250, 40) <dtype: 'float32'> (21037, 250, 40) float64 (9017, 250, 40) float64 (12881, 250, 40) float64\n"
     ]
    }
   ],
   "source": [
    "# now I can design the actual input and output tensors\n",
    "N, W, Cin = Xvalid.shape[0], Xvalid.shape[1], Xvalid.shape[2]\n",
    "X = tf.placeholder(dtype=tf.float32, name=None, shape=[N, W, Cin])\n",
    "print(X.shape, X.dtype, Xtrain.shape, Xtrain.dtype, Xvalid.shape, Xvalid.dtype, Xtest.shape, Xtest.dtype)"
   ]
  },
  {
   "cell_type": "code",
   "execution_count": 22,
   "metadata": {},
   "outputs": [
    {
     "name": "stdout",
     "output_type": "stream",
     "text": [
      "(9017, 5) <dtype: 'float32'> (21037, 5) float64 (9017, 5) float64 (12881, 5) float64\n"
     ]
    }
   ],
   "source": [
    "# This is the output tensor for labels\n",
    "N, Cout = Yvalid.shape[0], Yvalid.shape[1]\n",
    "Y = tf.placeholder(dtype=tf.float32, name=None, shape=[N, Cout])\n",
    "print(Y.shape, Y.dtype, Ytrain.shape, Ytrain.dtype, Yvalid.shape, Yvalid.dtype, Ytest.shape, Ytest.dtype)"
   ]
  },
  {
   "cell_type": "code",
   "execution_count": 23,
   "metadata": {},
   "outputs": [
    {
     "name": "stdout",
     "output_type": "stream",
     "text": [
      "(9017, 250, 40) <dtype: 'float32'>\n",
      "(125, 40, 80) <dtype: 'float32_ref'>\n",
      "(9017, 125, 80) <dtype: 'float32'>\n"
     ]
    }
   ],
   "source": [
    "print(X.shape, X.dtype)\n",
    "Wwidth, Wchannels, Wnumber = X.shape[1].value//2, X.shape[2].value, X.shape[2].value*2\n",
    "shape = [Wwidth, Wchannels, Wnumber]\n",
    "initial_value=tf.random_normal(dtype=X.dtype, mean=0.0, name=None, shape=shape, stddev=1.0)\n",
    "Wconv = tf.Variable(dtype=X.dtype, initial_value=initial_value, name=None, trainable=True)\n",
    "print(Wconv.shape, Wconv.dtype)\n",
    "Xconv = tf.nn.conv1d(data_format='NWC', filters=Wconv, name=None, padding='SAME', stride=2, use_cudnn_on_gpu=True, \n",
    "                     value=X)\n",
    "Xconv = tf.maximum(name=None, x=(-0.1*Xconv), y=Xconv)\n",
    "print(Xconv.shape, Xconv.dtype)"
   ]
  },
  {
   "cell_type": "code",
   "execution_count": 24,
   "metadata": {},
   "outputs": [
    {
     "name": "stdout",
     "output_type": "stream",
     "text": [
      "(9017, 10000) <dtype: 'float32'>\n",
      "(10000, 5) <dtype: 'float32_ref'>\n",
      "(9017, 5) <dtype: 'float32'>\n",
      "(9017, 5) <dtype: 'float32'>\n"
     ]
    }
   ],
   "source": [
    "# This is the multiplication layer\n",
    "# this part is flatening the input\n",
    "shape = [Xconv.shape[0].value, Xconv.shape[1].value*Xconv.shape[2].value]\n",
    "Xconv_reshaped = tf.reshape(name=None, shape=shape, tensor=Xconv)\n",
    "print(Xconv_reshaped.shape, Xconv_reshaped.dtype)\n",
    "# their first axis or dimension stay the same\n",
    "shape = [Xconv_reshaped.shape[1].value, Y.shape[1].value]\n",
    "initial_value = tf.random_normal(dtype=Xconv_reshaped.dtype, mean=0.0, name=None, shape=shape, stddev=1.0)\n",
    "W = tf.Variable(dtype=Xconv_reshaped.dtype, initial_value=initial_value, name=None, trainable=True)\n",
    "print(W.shape, W.dtype)\n",
    "# The actual multiplication\n",
    "# Y_ = Xconv_reshaped @ W\n",
    "Y_ = tf.matmul(a=Xconv_reshaped, b=W, name=None)\n",
    "print(Y_.shape, Y_.dtype)\n",
    "print(Y.shape, Y.dtype)"
   ]
  },
  {
   "cell_type": "code",
   "execution_count": 25,
   "metadata": {},
   "outputs": [
    {
     "name": "stdout",
     "output_type": "stream",
     "text": [
      "(9017,) <dtype: 'float32'>\n",
      "Tensor(\"Mean:0\", shape=(), dtype=float32)\n"
     ]
    }
   ],
   "source": [
    "# Now I need to calculate the loss\n",
    "loss_tensor = tf.nn.softmax_cross_entropy_with_logits_v2(labels=Y, logits=Y_, name=None)\n",
    "print(loss_tensor.shape, loss_tensor.dtype)\n",
    "loss = tf.reduce_mean(axis=0, input_tensor=loss_tensor, name=None)\n",
    "print(loss)"
   ]
  },
  {
   "cell_type": "code",
   "execution_count": 26,
   "metadata": {},
   "outputs": [
    {
     "name": "stdout",
     "output_type": "stream",
     "text": [
      "name: \"Adam\"\n",
      "op: \"NoOp\"\n",
      "input: \"^Adam/update_Variable/ApplyAdam\"\n",
      "input: \"^Adam/update_Variable_1/ApplyAdam\"\n",
      "input: \"^Adam/Assign\"\n",
      "input: \"^Adam/Assign_1\"\n",
      "\n"
     ]
    }
   ],
   "source": [
    "# Backprop and SGD now using adam\n",
    "opt = tf.train.AdamOptimizer().minimize(loss)\n",
    "print(opt)"
   ]
  },
  {
   "cell_type": "code",
   "execution_count": 27,
   "metadata": {},
   "outputs": [
    {
     "name": "stdout",
     "output_type": "stream",
     "text": [
      "(9017, 5) <dtype: 'float32'> (9017, 5) <dtype: 'float32'>\n"
     ]
    }
   ],
   "source": [
    "print(Y_.shape, Y_.dtype, Y.shape, Y.dtype)"
   ]
  },
  {
   "cell_type": "code",
   "execution_count": 28,
   "metadata": {},
   "outputs": [
    {
     "name": "stdout",
     "output_type": "stream",
     "text": [
      "(9017,) <dtype: 'int32'>\n",
      "(9017, 5) <dtype: 'float32'>\n",
      "(9017,) <dtype: 'int32'>\n",
      "(9017,) <dtype: 'bool'>\n",
      "(9017,) <dtype: 'float32'>\n",
      "() <dtype: 'float32'>\n"
     ]
    }
   ],
   "source": [
    "# Accuracy\n",
    "# tf.argmax(\n",
    "#     input,\n",
    "#     axis=None,\n",
    "#     name=None,\n",
    "#     dimension=None,\n",
    "#     output_type=tf.int64\n",
    "# )\n",
    "# Y_NxCout, N:axis 1, Cout: axis 2\n",
    "Y_argmax = tf.argmax(axis=1, name=None, input=Y_, output_type=tf.int32)\n",
    "print(Y_argmax.shape, Y_argmax.dtype)\n",
    "# # tf.nn.softmax(\n",
    "# #     logits,\n",
    "# #     axis=None,\n",
    "# #     name=None,\n",
    "# #     dim=None\n",
    "# # )\n",
    "# # softmax = tf.exp(logits) / tf.reduce_sum(tf.exp(logits), axis)\n",
    "print(Y.shape, Y.dtype)\n",
    "Yargmax = tf.argmax(axis=1, input=Y, name=None, output_type=tf.int32)\n",
    "print(Yargmax.shape, Yargmax.dtype)\n",
    "\n",
    "acc_tensor = tf.equal(name=None, x=Y_argmax, y=Yargmax)\n",
    "print(acc_tensor.shape, acc_tensor.dtype)\n",
    "# cast bool to int datatype for equal\n",
    "acc_tensor = tf.cast(dtype=tf.float32, name=None, x=acc_tensor)\n",
    "print(acc_tensor.shape, acc_tensor.dtype)\n",
    "acc = tf.reduce_mean(axis=0, input_tensor=acc_tensor)\n",
    "print(acc.shape, acc.dtype)"
   ]
  },
  {
   "cell_type": "code",
   "execution_count": 41,
   "metadata": {},
   "outputs": [],
   "source": [
    "def get_batches(X, Y, batch_size):\n",
    "    \"\"\" Return a generator for batches \"\"\"\n",
    "    n_batches = len(X) // batch_size\n",
    "    X, Y = X[:n_batches*batch_size], Y[:n_batches*batch_size]\n",
    "\n",
    "    # Loop over batches and yield\n",
    "    for b in range(0, len(X), batch_size):\n",
    "        yield X[b:b+batch_size], Y[b:b+batch_size]"
   ]
  },
  {
   "cell_type": "code",
   "execution_count": 37,
   "metadata": {},
   "outputs": [
    {
     "name": "stdout",
     "output_type": "stream",
     "text": [
      "epoch: 1 train_loss: 3203.3262 valid_loss: 2193.4568 train_acc: 0.22535211 valid_acc: 0.21670179\n",
      "epoch: 2 train_loss: 1999.6772 valid_loss: 1616.7257 train_acc: 0.21221027 valid_acc: 0.22091605\n",
      "epoch: 3 train_loss: 1498.7008 valid_loss: 1240.7386 train_acc: 0.22718199 valid_acc: 0.2781413\n",
      "epoch: 4 train_loss: 1207.3308 valid_loss: 1113.9553 train_acc: 0.27620053 valid_acc: 0.2994344\n",
      "epoch: 5 train_loss: 1033.9882 valid_loss: 834.3832 train_acc: 0.30797383 valid_acc: 0.3406898\n",
      "epoch: 6 train_loss: 758.30786 valid_loss: 616.1913 train_acc: 0.35460794 valid_acc: 0.36996785\n",
      "epoch: 7 train_loss: 565.07874 valid_loss: 519.15717 train_acc: 0.38205612 valid_acc: 0.4080071\n",
      "epoch: 8 train_loss: 516.0578 valid_loss: 518.7445 train_acc: 0.42164803 valid_acc: 0.43828323\n",
      "epoch: 9 train_loss: 504.16864 valid_loss: 465.13107 train_acc: 0.43656427 valid_acc: 0.41965178\n",
      "epoch: 10 train_loss: 440.70978 valid_loss: 366.21658 train_acc: 0.41782188 valid_acc: 0.44094488\n",
      "epoch: 11 train_loss: 338.7177 valid_loss: 302.50842 train_acc: 0.4534768 valid_acc: 0.467894\n",
      "epoch: 12 train_loss: 289.53384 valid_loss: 278.47354 train_acc: 0.46617502 valid_acc: 0.4709992\n",
      "epoch: 13 train_loss: 257.09735 valid_loss: 221.24568 train_acc: 0.48586005 valid_acc: 0.5311079\n",
      "epoch: 14 train_loss: 202.09491 valid_loss: 183.61206 train_acc: 0.5459687 valid_acc: 0.57435954\n",
      "epoch: 15 train_loss: 178.57469 valid_loss: 172.74557 train_acc: 0.57774204 valid_acc: 0.60496837\n",
      "epoch: 16 train_loss: 163.1312 valid_loss: 149.00117 train_acc: 0.61034715 valid_acc: 0.6129533\n",
      "epoch: 17 train_loss: 143.03601 valid_loss: 141.27977 train_acc: 0.60768545 valid_acc: 0.6023068\n",
      "epoch: 18 train_loss: 133.61041 valid_loss: 134.09099 train_acc: 0.62121546 valid_acc: 0.6344682\n",
      "epoch: 19 train_loss: 123.65001 valid_loss: 117.61345 train_acc: 0.6479982 valid_acc: 0.65520686\n",
      "epoch: 20 train_loss: 108.41728 valid_loss: 112.265564 train_acc: 0.66640794 valid_acc: 0.66296995\n",
      "epoch: 21 train_loss: 107.78287 valid_loss: 111.75379 train_acc: 0.6715094 valid_acc: 0.6736165\n",
      "epoch: 22 train_loss: 103.305984 valid_loss: 99.13609 train_acc: 0.6875347 valid_acc: 0.70245093\n",
      "epoch: 23 train_loss: 92.46048 valid_loss: 93.21997 train_acc: 0.71481645 valid_acc: 0.70866144\n",
      "epoch: 24 train_loss: 87.38852 valid_loss: 87.44416 train_acc: 0.71703446 valid_acc: 0.7062216\n",
      "epoch: 25 train_loss: 82.82736 valid_loss: 83.35985 train_acc: 0.7158146 valid_acc: 0.7201952\n",
      "epoch: 26 train_loss: 79.28131 valid_loss: 80.38236 train_acc: 0.7244649 valid_acc: 0.73239434\n",
      "epoch: 27 train_loss: 76.18738 valid_loss: 79.20776 train_acc: 0.74154377 valid_acc: 0.73949206\n",
      "epoch: 28 train_loss: 74.23363 valid_loss: 75.56765 train_acc: 0.7494178 valid_acc: 0.74293\n",
      "epoch: 29 train_loss: 70.62541 valid_loss: 71.94511 train_acc: 0.7503604 valid_acc: 0.7438172\n",
      "epoch: 30 train_loss: 68.00174 valid_loss: 69.355835 train_acc: 0.7504159 valid_acc: 0.7522458\n",
      "epoch: 31 train_loss: 65.395424 valid_loss: 67.722275 train_acc: 0.7590662 valid_acc: 0.7625596\n",
      "epoch: 32 train_loss: 63.291237 valid_loss: 64.9115 train_acc: 0.7695464 valid_acc: 0.76333594\n",
      "epoch: 33 train_loss: 60.79292 valid_loss: 63.29486 train_acc: 0.7719308 valid_acc: 0.7620051\n",
      "epoch: 34 train_loss: 59.75596 valid_loss: 61.837433 train_acc: 0.7741488 valid_acc: 0.76522124\n",
      "epoch: 35 train_loss: 58.19386 valid_loss: 60.44832 train_acc: 0.778474 valid_acc: 0.7701009\n",
      "epoch: 36 train_loss: 56.65961 valid_loss: 58.613274 train_acc: 0.78407454 valid_acc: 0.7763114\n",
      "epoch: 37 train_loss: 54.92059 valid_loss: 56.78676 train_acc: 0.7853499 valid_acc: 0.77930576\n",
      "epoch: 38 train_loss: 53.616142 valid_loss: 55.655518 train_acc: 0.7890651 valid_acc: 0.7839636\n",
      "epoch: 39 train_loss: 52.404167 valid_loss: 54.7638 train_acc: 0.79244757 valid_acc: 0.7872907\n",
      "epoch: 40 train_loss: 51.222633 valid_loss: 53.54831 train_acc: 0.7973273 valid_acc: 0.7897305\n",
      "epoch: 41 train_loss: 50.125183 valid_loss: 52.161903 train_acc: 0.79915714 valid_acc: 0.7926139\n",
      "epoch: 42 train_loss: 49.059196 valid_loss: 50.94156 train_acc: 0.8013197 valid_acc: 0.79527557\n",
      "epoch: 43 train_loss: 47.988716 valid_loss: 50.045166 train_acc: 0.8049795 valid_acc: 0.8003771\n",
      "epoch: 44 train_loss: 47.079517 valid_loss: 48.959335 train_acc: 0.80952644 valid_acc: 0.8012643\n",
      "epoch: 45 train_loss: 46.14418 valid_loss: 47.99277 train_acc: 0.8113009 valid_acc: 0.80392593\n",
      "epoch: 46 train_loss: 45.306473 valid_loss: 47.13878 train_acc: 0.8126317 valid_acc: 0.80669844\n",
      "epoch: 47 train_loss: 44.442253 valid_loss: 46.25107 train_acc: 0.816735 valid_acc: 0.8102473\n",
      "epoch: 48 train_loss: 43.58529 valid_loss: 45.319862 train_acc: 0.8183986 valid_acc: 0.81324166\n",
      "epoch: 49 train_loss: 42.76358 valid_loss: 44.548607 train_acc: 0.8199512 valid_acc: 0.81545967\n",
      "epoch: 50 train_loss: 41.991394 valid_loss: 43.85178 train_acc: 0.82272375 valid_acc: 0.8181213\n",
      "epoch: 51 train_loss: 41.233295 valid_loss: 43.099228 train_acc: 0.8248309 valid_acc: 0.82000667\n",
      "epoch: 52 train_loss: 40.48091 valid_loss: 42.289917 train_acc: 0.82649446 valid_acc: 0.8223356\n",
      "epoch: 53 train_loss: 39.75268 valid_loss: 41.546043 train_acc: 0.8290451 valid_acc: 0.82532996\n",
      "epoch: 54 train_loss: 39.049637 valid_loss: 40.834957 train_acc: 0.83170676 valid_acc: 0.82666075\n",
      "epoch: 55 train_loss: 38.348473 valid_loss: 40.118946 train_acc: 0.83403575 valid_acc: 0.82710433\n",
      "epoch: 56 train_loss: 37.692734 valid_loss: 39.422825 train_acc: 0.8356992 valid_acc: 0.8295442\n",
      "epoch: 57 train_loss: 37.04191 valid_loss: 38.75665 train_acc: 0.8385272 valid_acc: 0.83220583\n",
      "epoch: 58 train_loss: 36.402378 valid_loss: 38.094563 train_acc: 0.8400244 valid_acc: 0.83420205\n",
      "epoch: 59 train_loss: 35.782104 valid_loss: 37.4674 train_acc: 0.8416325 valid_acc: 0.8366419\n",
      "epoch: 60 train_loss: 35.190186 valid_loss: 36.91848 train_acc: 0.84368414 valid_acc: 0.8386381\n",
      "epoch: 61 train_loss: 34.620102 valid_loss: 36.3638 train_acc: 0.84568036 valid_acc: 0.8405235\n",
      "epoch: 62 train_loss: 34.052055 valid_loss: 35.827156 train_acc: 0.84800935 valid_acc: 0.8418543\n",
      "epoch: 63 train_loss: 33.498318 valid_loss: 35.27332 train_acc: 0.8502828 valid_acc: 0.8441832\n",
      "epoch: 64 train_loss: 32.96711 valid_loss: 34.734787 train_acc: 0.8513918 valid_acc: 0.84595764\n",
      "epoch: 65 train_loss: 32.4491 valid_loss: 34.229836 train_acc: 0.85244536 valid_acc: 0.84817564\n",
      "epoch: 66 train_loss: 31.951923 valid_loss: 33.76276 train_acc: 0.8539425 valid_acc: 0.8486193\n",
      "epoch: 67 train_loss: 31.462814 valid_loss: 33.293037 train_acc: 0.85638237 valid_acc: 0.8505046\n",
      "epoch: 68 train_loss: 30.99008 valid_loss: 32.819397 train_acc: 0.8577132 valid_acc: 0.85250086\n",
      "epoch: 69 train_loss: 30.531631 valid_loss: 32.33737 train_acc: 0.8588222 valid_acc: 0.85405344\n",
      "epoch: 70 train_loss: 30.083267 valid_loss: 31.8865 train_acc: 0.8604303 valid_acc: 0.8553843\n",
      "epoch: 71 train_loss: 29.64607 valid_loss: 31.464449 train_acc: 0.8617611 valid_acc: 0.8564933\n",
      "epoch: 72 train_loss: 29.218048 valid_loss: 31.039988 train_acc: 0.8635355 valid_acc: 0.85804594\n",
      "epoch: 73 train_loss: 28.79694 valid_loss: 30.60346 train_acc: 0.8647555 valid_acc: 0.8587113\n",
      "epoch: 74 train_loss: 28.387735 valid_loss: 30.19151 train_acc: 0.86575353 valid_acc: 0.860153\n",
      "epoch: 75 train_loss: 27.983294 valid_loss: 29.817505 train_acc: 0.8669181 valid_acc: 0.86115116\n",
      "epoch: 76 train_loss: 27.5797 valid_loss: 29.430332 train_acc: 0.8683598 valid_acc: 0.86170566\n",
      "epoch: 77 train_loss: 27.190918 valid_loss: 29.045967 train_acc: 0.87007874 valid_acc: 0.8630365\n",
      "epoch: 78 train_loss: 26.80875 valid_loss: 28.666151 train_acc: 0.8716314 valid_acc: 0.8645891\n",
      "epoch: 79 train_loss: 26.428383 valid_loss: 28.294794 train_acc: 0.87262946 valid_acc: 0.86614174\n",
      "epoch: 80 train_loss: 26.069202 valid_loss: 27.926788 train_acc: 0.87407124 valid_acc: 0.86758345\n",
      "epoch: 81 train_loss: 25.705887 valid_loss: 27.573215 train_acc: 0.87540203 valid_acc: 0.86891425\n",
      "epoch: 82 train_loss: 25.356415 valid_loss: 27.222187 train_acc: 0.8766774 valid_acc: 0.8705778\n",
      "epoch: 83 train_loss: 25.018213 valid_loss: 26.861723 train_acc: 0.8778973 valid_acc: 0.871465\n",
      "epoch: 84 train_loss: 24.67822 valid_loss: 26.516802 train_acc: 0.8788954 valid_acc: 0.8722413\n",
      "epoch: 85 train_loss: 24.360767 valid_loss: 26.195436 train_acc: 0.8801708 valid_acc: 0.87401575\n",
      "epoch: 86 train_loss: 24.03891 valid_loss: 25.8959 train_acc: 0.88133526 valid_acc: 0.87479204\n"
     ]
    },
    {
     "name": "stdout",
     "output_type": "stream",
     "text": [
      "epoch: 87 train_loss: 23.727463 valid_loss: 25.59038 train_acc: 0.8822779 valid_acc: 0.8759011\n",
      "epoch: 88 train_loss: 23.425905 valid_loss: 25.291397 train_acc: 0.88360876 valid_acc: 0.87623376\n",
      "epoch: 89 train_loss: 23.1317 valid_loss: 24.992968 train_acc: 0.8844405 valid_acc: 0.877121\n",
      "epoch: 90 train_loss: 22.840498 valid_loss: 24.702227 train_acc: 0.8853831 valid_acc: 0.8777864\n",
      "epoch: 91 train_loss: 22.558392 valid_loss: 24.427277 train_acc: 0.8864922 valid_acc: 0.87911725\n",
      "epoch: 92 train_loss: 22.284115 valid_loss: 24.160194 train_acc: 0.88776755 valid_acc: 0.88011533\n",
      "epoch: 93 train_loss: 22.013329 valid_loss: 23.88242 train_acc: 0.8890429 valid_acc: 0.88044804\n",
      "epoch: 94 train_loss: 21.758974 valid_loss: 23.613222 train_acc: 0.8902074 valid_acc: 0.88133526\n",
      "epoch: 95 train_loss: 21.500149 valid_loss: 23.35429 train_acc: 0.891261 valid_acc: 0.88266605\n",
      "epoch: 96 train_loss: 21.254951 valid_loss: 23.092384 train_acc: 0.89237 valid_acc: 0.8839969\n",
      "epoch: 97 train_loss: 21.010056 valid_loss: 22.842754 train_acc: 0.89342356 valid_acc: 0.88521683\n",
      "epoch: 98 train_loss: 20.77359 valid_loss: 22.600779 train_acc: 0.8944217 valid_acc: 0.8864367\n",
      "epoch: 99 train_loss: 20.544886 valid_loss: 22.356565 train_acc: 0.89497614 valid_acc: 0.8876566\n",
      "epoch: 100 train_loss: 20.314188 valid_loss: 22.131052 train_acc: 0.89608514 valid_acc: 0.88832206\n"
     ]
    }
   ],
   "source": [
    "# We should save the after training and validation\n",
    "saver = tf.train.Saver() \n",
    "train_loss_mean, valid_loss_mean = [], []\n",
    "train_acc_mean, valid_acc_mean = [], []\n",
    "\n",
    "# now that we can calculate loss and optimize, we can start a session for calculating the error.\n",
    "with tf.Session() as sess:\n",
    "    sess.run(fetches=tf.global_variables_initializer())\n",
    "    \n",
    "    # for every epoch start feeding the arrays into the tensors in the model\n",
    "    for epoch in range(0, 100, 1):\n",
    "        train_loss, valid_loss = [], []\n",
    "        train_acc, valid_acc = [], []\n",
    "        \n",
    "        # Training minibatches and feed them into the tensor\n",
    "        for Xarr, Yarr in get_batches(X=Xtrain, Y=Ytrain, batch_size=Xvalid.shape[0]):\n",
    "            # X_NxWxCin, Y_NxCout\n",
    "            feed_dict = {X:Xarr, Y:Yarr}\n",
    "            lossarr, _, accarr = sess.run(feed_dict=feed_dict, fetches=[loss, opt, acc])\n",
    "            train_loss.append(lossarr)\n",
    "            train_acc.append(accarr)\n",
    "            \n",
    "        # Validation now which is one batch on every iteration\n",
    "        for Xarr, Yarr in get_batches(X=Xvalid, Y=Yvalid, batch_size=Xvalid.shape[0]): \n",
    "            # X_NxWxCin, Y_NxCout\n",
    "            feed_dict = {X:Xarr, Y:Yarr}\n",
    "            lossarr, accarr = sess.run(feed_dict=feed_dict, fetches=[loss, acc])\n",
    "            valid_loss.append(lossarr)\n",
    "            valid_acc.append(accarr)\n",
    "        \n",
    "        # printing out train and validation loss\n",
    "        print('epoch:', epoch+1, 'train_loss:', np.mean(train_loss), 'valid_loss:', np.mean(valid_loss),\n",
    "             'train_acc:', np.mean(train_acc), 'valid_acc:', np.mean(valid_acc))\n",
    "        \n",
    "        # Every epoch, for drawing the plot and their learning curve\n",
    "        train_loss_mean.append(np.mean(train_loss))\n",
    "        valid_loss_mean.append(np.mean(valid_loss))\n",
    "        train_acc_mean.append(np.mean(train_acc))\n",
    "        valid_acc_mean.append(np.mean(valid_acc))\n",
    "        \n",
    "    # After all epochs and at the end of training and validation\n",
    "    saver.save(sess,'checkpoints/cnn-fnirs-har.ckpt')"
   ]
  },
  {
   "cell_type": "code",
   "execution_count": 38,
   "metadata": {},
   "outputs": [
    {
     "data": {
      "text/plain": [
       "<matplotlib.legend.Legend at 0x7f886c6d30b8>"
      ]
     },
     "execution_count": 38,
     "metadata": {},
     "output_type": "execute_result"
    },
    {
     "data": {
      "image/png": "[encoded data removed]",
      "text/plain": [
       "<Figure size 432x288 with 1 Axes>"
      ]
     },
     "metadata": {},
     "output_type": "display_data"
    }
   ],
   "source": [
    "import matplotlib.pyplot as mplot\n",
    "%matplotlib inline\n",
    "\n",
    "mplot.plot(train_loss_mean, label='train_loss_mean')\n",
    "mplot.plot(valid_loss_mean, label='valid_loss_mean')\n",
    "mplot.legend()"
   ]
  },
  {
   "cell_type": "code",
   "execution_count": 39,
   "metadata": {},
   "outputs": [
    {
     "data": {
      "text/plain": [
       "<matplotlib.legend.Legend at 0x7f886c6b2e80>"
      ]
     },
     "execution_count": 39,
     "metadata": {},
     "output_type": "execute_result"
    },
    {
     "data": {
      "image/png": "[encoded data removed]",
      "text/plain": [
       "<Figure size 432x288 with 1 Axes>"
      ]
     },
     "metadata": {},
     "output_type": "display_data"
    }
   ],
   "source": [
    "mplot.plot(train_acc_mean, label='train_acc_mean')\n",
    "mplot.plot(valid_acc_mean, label='valid_acc_mean')\n",
    "mplot.legend()"
   ]
  },
  {
   "cell_type": "code",
   "execution_count": 40,
   "metadata": {},
   "outputs": [
    {
     "name": "stdout",
     "output_type": "stream",
     "text": [
      "INFO:tensorflow:Restoring parameters from checkpoints/cnn-fnirs-har.ckpt\n",
      "test_loss: 21.243694 test acc 0.89176\n"
     ]
    }
   ],
   "source": [
    "with tf.Session() as sess:\n",
    "    sess.run(fetches=tf.global_variables_initializer())\n",
    "    \n",
    "    # Loading the trained and validated model\n",
    "    saver.restore(save_path=tf.train.latest_checkpoint(checkpoint_dir='checkpoints/'), sess=sess)\n",
    "    \n",
    "    # Saving the test loss for every batch/minibtch\n",
    "    test_loss, test_acc = [], []\n",
    "    \n",
    "    # applying the loaded model on test data\n",
    "    for Xarr, Yarr in get_batches(X=Xtest, Y=Ytest, batch_size=Xvalid.shape[0]): \n",
    "        # X_NxWXCin, Y_NxCout\n",
    "        feed_dict={X:Xarr, Y:Yarr}\n",
    "        lossarr, accarr = sess.run(feed_dict=feed_dict, fetches=[loss, acc])\n",
    "        test_loss.append(lossarr)\n",
    "        test_acc.append(accarr)\n",
    "        \n",
    "    # Printing the test loss\n",
    "    print('test_loss:', np.mean(test_loss), 'test acc', np.mean(test_acc))"
   ]
  },
  {
   "cell_type": "code",
   "execution_count": null,
   "metadata": {},
   "outputs": [],
   "source": []
  }
 ],
 "metadata": {
  "kernelspec": {
   "display_name": "Python 3",
   "language": "python",
   "name": "python3"
  },
  "language_info": {
   "codemirror_mode": {
    "name": "ipython",
    "version": 3
   },
   "file_extension": ".py",
   "mimetype": "text/x-python",
   "name": "python",
   "nbconvert_exporter": "python",
   "pygments_lexer": "ipython3",
   "version": "3.6.5"
  }
 },
 "nbformat": 4,
 "nbformat_minor": 2
}
