{
 "cells": [
  {
   "cell_type": "markdown",
   "metadata": {},
   "source": [
    "# CNN for fNIRS data analysis for Human Activity Recognition (HAR)"
   ]
  },
  {
   "cell_type": "code",
   "execution_count": 1,
   "metadata": {},
   "outputs": [
    {
     "name": "stdout",
     "output_type": "stream",
     "text": [
      "\u001b[0m\u001b[01;34mP12-4-17-2018\u001b[0m/  \u001b[01;34mP14-4-18-2018\u001b[0m/  \u001b[01;34mP16-4-18-2018\u001b[0m/\r\n",
      "\u001b[01;34mP13-4-17-2018\u001b[0m/  \u001b[01;34mP15-4-18-2018\u001b[0m/  \u001b[01;34mP17-4-18-2018\u001b[0m/\r\n"
     ]
    }
   ],
   "source": [
    "% ls ../../../datasets/fNIRs_data/"
   ]
  },
  {
   "cell_type": "code",
   "execution_count": 2,
   "metadata": {},
   "outputs": [
    {
     "name": "stdout",
     "output_type": "stream",
     "text": [
      "\u001b[0m\u001b[01;34m1. Right Hand\u001b[0m/  \u001b[01;34m2. Both Hands\u001b[0m/  \u001b[01;34m3. Left Hand\u001b[0m/  \u001b[01;34m4. Right Leg\u001b[0m/  \u001b[01;34m5. Left Leg\u001b[0m/\r\n"
     ]
    }
   ],
   "source": [
    "% ls ../../../datasets/fNIRs_data/P12-4-17-2018/"
   ]
  },
  {
   "cell_type": "code",
   "execution_count": 3,
   "metadata": {},
   "outputs": [
    {
     "name": "stdout",
     "output_type": "stream",
     "text": [
      "\u001b[0m\u001b[01;34m2018-04-17_006\u001b[0m/\r\n",
      "fNIR_data.txt\r\n",
      "head20180417-145130.txt\r\n",
      "NIRS-2018-04-17_006_deoxyhb_T141to2511_C1to20.txt\r\n",
      "NIRS-2018-04-17_006_oxyhb_T141to2511_C1to20.txt\r\n",
      "\u001b[01;34mProcessed\u001b[0m/\r\n",
      "r_hand20180417-145128.txt\r\n",
      "r_lower_arm20180417-145129.txt\r\n",
      "r_upper_arm20180417-145129.txt\r\n"
     ]
    }
   ],
   "source": [
    "% ls ../../../datasets/fNIRs_data/P12-4-17-2018/1.\\ Right\\ Hand"
   ]
  },
  {
   "cell_type": "code",
   "execution_count": 4,
   "metadata": {},
   "outputs": [
    {
     "data": {
      "text/plain": [
       "(['/home/arasdar/datasets/fNIRs_data/P12-4-17-2018/1. Right Hand/fNIR_data.txt',\n",
       "  '/home/arasdar/datasets/fNIRs_data/P12-4-17-2018/2. Both Hands/fNIR_data.txt',\n",
       "  '/home/arasdar/datasets/fNIRs_data/P12-4-17-2018/3. Left Hand/fNIR_data.txt',\n",
       "  '/home/arasdar/datasets/fNIRs_data/P12-4-17-2018/4. Right Leg/fNIR_data.txt',\n",
       "  '/home/arasdar/datasets/fNIRs_data/P12-4-17-2018/5. Left Leg/fNIR_data.txt',\n",
       "  '/home/arasdar/datasets/fNIRs_data/P13-4-17-2018/1. Right Hand/fNIR_data.txt',\n",
       "  '/home/arasdar/datasets/fNIRs_data/P13-4-17-2018/2. Both Hands/fNIR_data.txt',\n",
       "  '/home/arasdar/datasets/fNIRs_data/P13-4-17-2018/3. Left Hand/fNIR_data.txt',\n",
       "  '/home/arasdar/datasets/fNIRs_data/P13-4-17-2018/4. Right Leg/fNIR_data.txt',\n",
       "  '/home/arasdar/datasets/fNIRs_data/P13-4-17-2018/5. Left Leg/fNIR_data.txt',\n",
       "  '/home/arasdar/datasets/fNIRs_data/P14-4-18-2018/1. Right Hand/fNIR_data.txt',\n",
       "  '/home/arasdar/datasets/fNIRs_data/P14-4-18-2018/2. Both Hands/fNIR_data.txt',\n",
       "  '/home/arasdar/datasets/fNIRs_data/P14-4-18-2018/3. Left Hand/fNIR_data.txt',\n",
       "  '/home/arasdar/datasets/fNIRs_data/P14-4-18-2018/4. Right Leg/fNIR_data.txt',\n",
       "  '/home/arasdar/datasets/fNIRs_data/P14-4-18-2018/5. Left Leg/fNIR_data.txt',\n",
       "  '/home/arasdar/datasets/fNIRs_data/P15-4-18-2018/1. Right Hand/fNIR_data.txt',\n",
       "  '/home/arasdar/datasets/fNIRs_data/P15-4-18-2018/2. Both Hands/fNIR_data.txt',\n",
       "  '/home/arasdar/datasets/fNIRs_data/P15-4-18-2018/3. Left Hand/fNIR_data.txt',\n",
       "  '/home/arasdar/datasets/fNIRs_data/P15-4-18-2018/4. Right Leg/fNIR_data.txt',\n",
       "  '/home/arasdar/datasets/fNIRs_data/P15-4-18-2018/5. Left Leg/fNIR_data.txt',\n",
       "  '/home/arasdar/datasets/fNIRs_data/P16-4-18-2018/1. Right Hand/fNIR_data.txt',\n",
       "  '/home/arasdar/datasets/fNIRs_data/P16-4-18-2018/2. Both Hands/fNIR_data.txt',\n",
       "  '/home/arasdar/datasets/fNIRs_data/P16-4-18-2018/3. Left Hand/fNIR_data.txt',\n",
       "  '/home/arasdar/datasets/fNIRs_data/P16-4-18-2018/4. Right Leg/fNIR_data.txt',\n",
       "  '/home/arasdar/datasets/fNIRs_data/P16-4-18-2018/5. Left Leg/fNIR_data.txt',\n",
       "  '/home/arasdar/datasets/fNIRs_data/P17-4-18-2018/1. Right Hand/fNIR_data.txt',\n",
       "  '/home/arasdar/datasets/fNIRs_data/P17-4-18-2018/2. Both Hands/fNIR_data.txt',\n",
       "  '/home/arasdar/datasets/fNIRs_data/P17-4-18-2018/3. Left Hand/fNIR_data.txt',\n",
       "  '/home/arasdar/datasets/fNIRs_data/P17-4-18-2018/4. Right Leg/fNIR_data.txt',\n",
       "  '/home/arasdar/datasets/fNIRs_data/P17-4-18-2018/5. Left Leg/fNIR_data.txt'],\n",
       " 30)"
      ]
     },
     "execution_count": 4,
     "metadata": {},
     "output_type": "execute_result"
    }
   ],
   "source": [
    "import numpy as np\n",
    "import os\n",
    "import pandas as pd\n",
    "\n",
    "# % find ../../datasets/fNIRs_data/ | grep fNIR_data # NOT WORKING!!\n",
    "def find_all(name, path):\n",
    "    result = []\n",
    "    for root, dirs, files in os.walk(path):\n",
    "        if name in files:\n",
    "            result.append(os.path.join(root, name))\n",
    "    return result\n",
    "\n",
    "allpaths = find_all(name='fNIR_data.txt', path='/home/arasdar/datasets/fNIRs_data/')\n",
    "allpaths = sorted(allpaths, reverse=False)\n",
    "# print(allpaths, len(allpaths))\n",
    "allpaths, len(allpaths)"
   ]
  },
  {
   "cell_type": "code",
   "execution_count": 5,
   "metadata": {},
   "outputs": [
    {
     "name": "stderr",
     "output_type": "stream",
     "text": [
      "/home/arasdar/anaconda3/envs/arasdar-DL-env/lib/python3.6/site-packages/pandas/io/parsers.py:709: UserWarning: Duplicate names specified. This will raise an error in the future.\n",
      "  return _read(filepath_or_buffer, kwds)\n"
     ]
    },
    {
     "name": "stdout",
     "output_type": "stream",
     "text": [
      "(2372, 42)\n",
      "(1210, 42)\n",
      "(2378, 42)\n",
      "(1202, 42)\n",
      "(1222, 42)\n",
      "(2405, 42)\n",
      "(1196, 42)\n",
      "(2380, 42)\n",
      "(1203, 42)\n",
      "(1242, 42)\n",
      "(2373, 42)\n",
      "(1202, 42)\n",
      "(2386, 42)\n",
      "(1196, 42)\n",
      "(1229, 42)\n",
      "(2387, 42)\n",
      "(1224, 42)\n",
      "(2379, 42)\n",
      "(1230, 42)\n",
      "(1227, 42)\n",
      "(2384, 42)\n",
      "(1230, 42)\n",
      "(2375, 42)\n",
      "(1196, 42)\n",
      "(1197, 42)\n",
      "(2373, 42)\n",
      "(1220, 42)\n",
      "(2372, 42)\n",
      "(1223, 42)\n",
      "(1222, 42)\n",
      "30\n"
     ]
    }
   ],
   "source": [
    "# df: data frame object\n",
    "df = []\n",
    "for each_idx in range(len(allpaths)):\n",
    "    file = pd.read_csv(filepath_or_buffer=allpaths[each_idx], names=['time', 'sample', \n",
    "                       'channel', 'channel', 'channel', 'channel', 'channel',\n",
    "                       'channel', 'channel', 'channel', 'channel', 'channel',\n",
    "                       'channel', 'channel', 'channel', 'channel', 'channel',\n",
    "                       'channel', 'channel', 'channel', 'channel', 'channel',\n",
    "                       'channel', 'channel', 'channel', 'channel', 'channel',\n",
    "                       'channel', 'channel', 'channel', 'channel', 'channel',\n",
    "                       'channel', 'channel', 'channel', 'channel', 'channel',\n",
    "                       'channel', 'channel', 'channel', 'channel', 'channel'],\n",
    "                         header=None)\n",
    "    df.append(file)\n",
    "    \n",
    "for each in range(len(df)):\n",
    "    print(df[each].shape)\n",
    "    df[each]=df[each].drop(axis=1, columns=None, index=None, labels=['time', 'sample'])\n",
    "    df[each] = df[each].dropna()\n",
    "    df[each]['channel.39'] = df[each]['channel.39'].astype(str).str[1:-1].astype(float)\n",
    "print(len(df))"
   ]
  },
  {
   "cell_type": "code",
   "execution_count": 6,
   "metadata": {},
   "outputs": [
    {
     "name": "stdout",
     "output_type": "stream",
     "text": [
      "float64 (2371, 40) 1\n",
      "float64 (1209, 40) 2\n",
      "float64 (2377, 40) 3\n",
      "float64 (1201, 40) 4\n",
      "float64 (1221, 40) 5\n",
      "float64 (2404, 40) 1\n",
      "float64 (1195, 40) 2\n",
      "float64 (2379, 40) 3\n",
      "float64 (1202, 40) 4\n",
      "float64 (1241, 40) 5\n",
      "float64 (2372, 40) 1\n",
      "float64 (1201, 40) 2\n",
      "float64 (2385, 40) 3\n",
      "float64 (1195, 40) 4\n",
      "float64 (1228, 40) 5\n",
      "float64 (2386, 40) 1\n",
      "float64 (1223, 40) 2\n",
      "float64 (2378, 40) 3\n",
      "float64 (1229, 40) 4\n",
      "float64 (1226, 40) 5\n",
      "float64 (2383, 40) 1\n",
      "float64 (1229, 40) 2\n",
      "float64 (2374, 40) 3\n",
      "float64 (1195, 40) 4\n",
      "float64 (1196, 40) 5\n",
      "float64 (2372, 40) 1\n",
      "float64 (1219, 40) 2\n",
      "float64 (2371, 40) 3\n",
      "float64 (1222, 40) 4\n",
      "float64 (1221, 40) 5\n"
     ]
    },
    {
     "data": {
      "text/plain": [
       "(30, 30)"
      ]
     },
     "execution_count": 6,
     "metadata": {},
     "output_type": "execute_result"
    }
   ],
   "source": [
    "data, labels = [], []\n",
    "for each in range(0, len(df), 1):\n",
    "    dfmat = df[each].as_matrix()\n",
    "    label = (each%5)+1\n",
    "    print(dfmat.dtype, dfmat.shape, label)\n",
    "    data.append(dfmat)\n",
    "    labels.append(label)\n",
    "len(data), len(labels)"
   ]
  },
  {
   "cell_type": "code",
   "execution_count": 7,
   "metadata": {},
   "outputs": [],
   "source": [
    "# This is very much like a convolution for extracting the windows\n",
    "# size/width, stride/overlap, padding, dilation, num filters/out channel\n",
    "def minibatching(X, Y, stride, width):\n",
    "    Xmb, Ymb = [], []\n",
    "    print(len(X), len(Y))\n",
    "    # 1st and 1st\n",
    "    for eachX in range(len(X)):\n",
    "        num_mb = ((X[eachX].shape[0]-width)//stride)+1\n",
    "        for each in range(num_mb):\n",
    "            # The max is (num_mb-1)*stride+width==X[idx].shape[0]\n",
    "            # The last each is (num_mb-1)\n",
    "            # each = ((each-1)*stride)+width\n",
    "            each *= stride\n",
    "            Xmb.append(X[eachX][each:each+width])\n",
    "            # There is only one label for one image signal or signal window or temporal window\n",
    "            #Ymb.append(Y[eachX][each:each+1])\n",
    "            Ymb.append(Y[eachX])\n",
    "    return Xmb, Ymb"
   ]
  },
  {
   "cell_type": "code",
   "execution_count": 8,
   "metadata": {},
   "outputs": [
    {
     "name": "stdout",
     "output_type": "stream",
     "text": [
      "30 30\n",
      "42935 42935\n",
      "(250, 40) float64\n",
      "1\n"
     ]
    }
   ],
   "source": [
    "# Width is based on the sampling rate which is roughly about 233 points per window\n",
    "# for 10sec rest and 20 sec activity\n",
    "width = 250\n",
    "Xmb, Ymb = minibatching(X=data, Y=labels, stride=1, width=width)\n",
    "# for eachX, eachY in zip(Xmb, Ymb):\n",
    "#     print(eachX.shape, eachY)\n",
    "print(len(Xmb), len(Ymb))\n",
    "print(Xmb[0].shape, Xmb[0].dtype)\n",
    "print(Ymb[0])"
   ]
  },
  {
   "cell_type": "code",
   "execution_count": 9,
   "metadata": {},
   "outputs": [
    {
     "name": "stdout",
     "output_type": "stream",
     "text": [
      "(42935, 250, 40) float64 (42935,) int64\n"
     ]
    }
   ],
   "source": [
    "# Conversion from python list to numpy array\n",
    "X, Y=np.array(object=Xmb, dtype=float), np.array(object=Ymb, dtype=int)\n",
    "print(X.shape, X.dtype, Y.shape, Y.dtype)"
   ]
  },
  {
   "cell_type": "code",
   "execution_count": 10,
   "metadata": {},
   "outputs": [
    {
     "name": "stdout",
     "output_type": "stream",
     "text": [
      "(30054, 250, 40) (12881, 250, 40) (30054,) (12881,)\n",
      "float64 float64 int64 int64\n"
     ]
    }
   ],
   "source": [
    "# Now I should devide the data into train and test\n",
    "# Train and valid split\n",
    "from sklearn.model_selection import train_test_split\n",
    "\n",
    "# 30% of the training data/ entire training data is assigned to validation.\n",
    "Xtrain, Xtest, Ytrain, Ytest = train_test_split(X, Y, test_size=0.30)\n",
    "print(Xtrain.shape, Xtest.shape, Ytrain.shape, Ytest.shape)\n",
    "print(Xtrain.dtype, Xtest.dtype, Ytrain.dtype, Ytest.dtype)"
   ]
  },
  {
   "cell_type": "code",
   "execution_count": 11,
   "metadata": {},
   "outputs": [
    {
     "name": "stdout",
     "output_type": "stream",
     "text": [
      "(30054, 250, 40) float64\n",
      "(12881, 250, 40) float64\n"
     ]
    }
   ],
   "source": [
    "# # standardizing/normalizing the train and test data\n",
    "# def standardize(train, test):\n",
    "# \"\"\" Standardize data \"\"\"\n",
    "# # Standardize train and test\n",
    "# X_train = (train - np.mean(train, axis=0)[None,:,:]) / np.std(train, axis=0)[None,:,:]\n",
    "# X_test = (test - np.mean(test, axis=0)[None,:,:]) / np.std(test, axis=0)[None,:,:]\n",
    "# return X_train, X_test\n",
    "\n",
    "Xtrain = (Xtrain - Xtrain.mean(axis=0))/ Xtrain.std(axis=0)\n",
    "Xtest = (Xtest - Xtest.mean(axis=0))/ Xtest.std(axis=0)\n",
    "print(Xtrain.shape, Xtrain.dtype)\n",
    "print(Xtest.shape, Xtest.dtype)"
   ]
  },
  {
   "cell_type": "code",
   "execution_count": 12,
   "metadata": {},
   "outputs": [
    {
     "name": "stdout",
     "output_type": "stream",
     "text": [
      "5 5 5\n",
      "(30054, 5) float64 (12881, 5) float64\n"
     ]
    }
   ],
   "source": [
    "# Onehotencoding of the output labels\n",
    "def onehot(labels, n_class):\n",
    "\t\"\"\" One-hot encoding \"\"\"\n",
    "\texpansion = np.eye(n_class)\n",
    "\ty = expansion[:, labels-1].T\n",
    "\tassert y.shape[1] == n_class, \"Wrong number of labels!\"\n",
    "\n",
    "\treturn y\n",
    "\n",
    "print(Y.max(axis=0), Ytrain.max(axis=0), Ytest.max(axis=0))\n",
    "# # assert Y.max(axis=0) == Ytrain.max(axis=0) == Ytest.max(axis=0), 'wrong labels'\n",
    "Ytrain=onehot(labels=Ytrain, n_class=Ytrain.max(axis=0))\n",
    "Ytest=onehot(labels=Ytest, n_class=Ytest.max(axis=0))\n",
    "print(Ytrain.shape, Ytrain.dtype, Ytest.shape, Ytest.dtype)"
   ]
  },
  {
   "cell_type": "code",
   "execution_count": 13,
   "metadata": {},
   "outputs": [
    {
     "name": "stdout",
     "output_type": "stream",
     "text": [
      "(21037, 250, 40) (9017, 250, 40) (12881, 250, 40) float64 float64 float64\n",
      "(21037, 5) (9017, 5) (12881, 5) float64 float64 float64\n"
     ]
    }
   ],
   "source": [
    "# Now separating train and validation set\n",
    "# 30% of the training data/ entire training data is assigned to validation.\n",
    "Xtrain, Xvalid, Ytrain, Yvalid = train_test_split(Xtrain, Ytrain, test_size=0.30)\n",
    "print(Xtrain.shape, Xvalid.shape, Xtest.shape, Xtrain.dtype, Xvalid.dtype, Xtest.dtype)\n",
    "print(Ytrain.shape, Yvalid.shape, Ytest.shape, Ytrain.dtype, Yvalid.dtype, Ytest.dtype)"
   ]
  },
  {
   "cell_type": "code",
   "execution_count": 14,
   "metadata": {},
   "outputs": [
    {
     "name": "stdout",
     "output_type": "stream",
     "text": [
      "TensorFlow Version: 1.7.0\n",
      "Default GPU Device: /device:GPU:0\n"
     ]
    }
   ],
   "source": [
    "# In this one we should define and detect GPUs for tensorflow\n",
    "# GPUs or CPU\n",
    "import tensorflow as tf\n",
    "\n",
    "# Check TensorFlow Version\n",
    "print('TensorFlow Version: {}'.format(tf.__version__))\n",
    "\n",
    "# Check for a GPU\n",
    "print('Default GPU Device: {}'.format(tf.test.gpu_device_name()))"
   ]
  },
  {
   "cell_type": "code",
   "execution_count": 15,
   "metadata": {},
   "outputs": [
    {
     "name": "stdout",
     "output_type": "stream",
     "text": [
      "(9017, 250, 40) <dtype: 'float32'> (21037, 250, 40) float64 (9017, 250, 40) float64 (12881, 250, 40) float64\n"
     ]
    }
   ],
   "source": [
    "# now I can design the actual input and output tensors\n",
    "N, W, Cin = Xvalid.shape[0], Xvalid.shape[1], Xvalid.shape[2]\n",
    "X = tf.placeholder(dtype=tf.float32, name=None, shape=[N, W, Cin])\n",
    "print(X.shape, X.dtype, Xtrain.shape, Xtrain.dtype, Xvalid.shape, Xvalid.dtype, Xtest.shape, Xtest.dtype)"
   ]
  },
  {
   "cell_type": "code",
   "execution_count": 16,
   "metadata": {},
   "outputs": [
    {
     "name": "stdout",
     "output_type": "stream",
     "text": [
      "(9017, 5) <dtype: 'float32'> (21037, 5) float64 (9017, 5) float64 (12881, 5) float64\n"
     ]
    }
   ],
   "source": [
    "# This is the output tensor for labels\n",
    "N, Cout = Yvalid.shape[0], Yvalid.shape[1]\n",
    "Y = tf.placeholder(dtype=tf.float32, name=None, shape=[N, Cout])\n",
    "print(Y.shape, Y.dtype, Ytrain.shape, Ytrain.dtype, Yvalid.shape, Yvalid.dtype, Ytest.shape, Ytest.dtype)"
   ]
  },
  {
   "cell_type": "code",
   "execution_count": 17,
   "metadata": {},
   "outputs": [
    {
     "name": "stdout",
     "output_type": "stream",
     "text": [
      "(9017, 250, 40) <dtype: 'float32'>\n",
      "(125, 40, 80) <dtype: 'float32_ref'>\n",
      "(9017, 125, 80) <dtype: 'float32'>\n"
     ]
    }
   ],
   "source": [
    "print(X.shape, X.dtype)\n",
    "Wwidth, Wchannels, Wnumber = X.shape[1].value//2, X.shape[2].value, X.shape[2].value*2\n",
    "shape = [Wwidth, Wchannels, Wnumber]\n",
    "initial_value=tf.random_normal(dtype=X.dtype, mean=0.0, name=None, shape=shape, stddev=1.0)\n",
    "Wconv = tf.Variable(dtype=X.dtype, initial_value=initial_value, name=None, trainable=True)\n",
    "print(Wconv.shape, Wconv.dtype)\n",
    "Xconv = tf.nn.conv1d(data_format='NWC', filters=Wconv, name=None, padding='SAME', stride=2, use_cudnn_on_gpu=True, \n",
    "                     value=X)\n",
    "Xconv = tf.maximum(name=None, x=(-0.1*Xconv), y=Xconv)\n",
    "print(Xconv.shape, Xconv.dtype)"
   ]
  },
  {
   "cell_type": "code",
   "execution_count": 18,
   "metadata": {},
   "outputs": [
    {
     "name": "stdout",
     "output_type": "stream",
     "text": [
      "(9017, 10000) <dtype: 'float32'>\n",
      "(10000, 5) <dtype: 'float32_ref'>\n",
      "(9017, 5) <dtype: 'float32'>\n",
      "(9017, 5) <dtype: 'float32'>\n"
     ]
    }
   ],
   "source": [
    "# This is the multiplication layer\n",
    "# this part is flatening the input\n",
    "shape = [Xconv.shape[0].value, Xconv.shape[1].value*Xconv.shape[2].value]\n",
    "Xconv_reshaped = tf.reshape(name=None, shape=shape, tensor=Xconv)\n",
    "print(Xconv_reshaped.shape, Xconv_reshaped.dtype)\n",
    "# their first axis or dimension stay the same\n",
    "shape = [Xconv_reshaped.shape[1].value, Y.shape[1].value]\n",
    "initial_value = tf.random_normal(dtype=Xconv_reshaped.dtype, mean=0.0, name=None, shape=shape, stddev=1.0)\n",
    "W = tf.Variable(dtype=Xconv_reshaped.dtype, initial_value=initial_value, name=None, trainable=True)\n",
    "print(W.shape, W.dtype)\n",
    "# The actual multiplication\n",
    "# Y_ = Xconv_reshaped @ W\n",
    "Y_ = tf.matmul(a=Xconv_reshaped, b=W, name=None)\n",
    "print(Y_.shape, Y_.dtype)\n",
    "print(Y.shape, Y.dtype)"
   ]
  },
  {
   "cell_type": "code",
   "execution_count": 19,
   "metadata": {},
   "outputs": [
    {
     "name": "stdout",
     "output_type": "stream",
     "text": [
      "(9017,) <dtype: 'float32'>\n",
      "Tensor(\"Mean:0\", shape=(), dtype=float32)\n"
     ]
    }
   ],
   "source": [
    "# Now I need to calculate the loss\n",
    "loss_tensor = tf.nn.softmax_cross_entropy_with_logits_v2(labels=Y, logits=Y_, name=None)\n",
    "print(loss_tensor.shape, loss_tensor.dtype)\n",
    "loss = tf.reduce_mean(axis=0, input_tensor=loss_tensor, name=None)\n",
    "print(loss)"
   ]
  },
  {
   "cell_type": "code",
   "execution_count": 20,
   "metadata": {},
   "outputs": [
    {
     "name": "stdout",
     "output_type": "stream",
     "text": [
      "name: \"Adam\"\n",
      "op: \"NoOp\"\n",
      "input: \"^Adam/update_Variable/ApplyAdam\"\n",
      "input: \"^Adam/update_Variable_1/ApplyAdam\"\n",
      "input: \"^Adam/Assign\"\n",
      "input: \"^Adam/Assign_1\"\n",
      "\n"
     ]
    }
   ],
   "source": [
    "# Backprop and SGD now using adam\n",
    "opt = tf.train.AdamOptimizer().minimize(loss)\n",
    "print(opt)"
   ]
  },
  {
   "cell_type": "code",
   "execution_count": 22,
   "metadata": {},
   "outputs": [
    {
     "name": "stdout",
     "output_type": "stream",
     "text": [
      "(9017, 5) <dtype: 'float32'> (9017, 5) <dtype: 'float32'>\n"
     ]
    }
   ],
   "source": [
    "print(Y_.shape, Y_.dtype, Y.shape, Y.dtype)"
   ]
  },
  {
   "cell_type": "code",
   "execution_count": 28,
   "metadata": {},
   "outputs": [
    {
     "name": "stdout",
     "output_type": "stream",
     "text": [
      "(9017,) <dtype: 'int32'>\n",
      "(9017, 5) <dtype: 'float32'>\n",
      "(9017,) <dtype: 'int32'>\n",
      "(9017,) <dtype: 'bool'>\n",
      "(9017,) <dtype: 'float32'>\n",
      "() <dtype: 'float32'>\n"
     ]
    }
   ],
   "source": [
    "# Accuracy\n",
    "# tf.argmax(\n",
    "#     input,\n",
    "#     axis=None,\n",
    "#     name=None,\n",
    "#     dimension=None,\n",
    "#     output_type=tf.int64\n",
    "# )\n",
    "# Y_NxCout, N:axis 1, Cout: axis 2\n",
    "Y_argmax = tf.argmax(axis=1, name=None, input=Y_, output_type=tf.int32)\n",
    "print(Y_argmax.shape, Y_argmax.dtype)\n",
    "\n",
    "# # tf.nn.softmax(\n",
    "# #     logits,\n",
    "# #     axis=None,\n",
    "# #     name=None,\n",
    "# #     dim=None\n",
    "# # )\n",
    "# # softmax = tf.exp(logits) / tf.reduce_sum(tf.exp(logits), axis)\n",
    "# prob = tf.nn.softmax(axis=1, logits=logits, name=None)\n",
    "# print(prob.shape, prob.dtype)\n",
    "# Ypred2 = tf.argmax(axis=1, input=prob, name=None, output_type=tf.int32) \n",
    "# print(Ypred2.shape, Ypred2.dtype)\n",
    "\n",
    "print(Y.shape, Y.dtype)\n",
    "Yargmax = tf.argmax(axis=1, input=Y, name=None, output_type=tf.int32)\n",
    "print(Yargmax.shape, Yargmax.dtype)\n",
    "\n",
    "acc_tensor = tf.equal(name=None, x=Y_argmax, y=Yargmax)\n",
    "print(acc_tensor.shape, acc_tensor.dtype)\n",
    "# cast bool to int datatype for equal\n",
    "acc_tensor = tf.cast(dtype=tf.float32, name=None, x=acc_tensor)\n",
    "print(acc_tensor.shape, acc_tensor.dtype)\n",
    "acc = tf.reduce_mean(axis=0, input_tensor=acc_tensor)\n",
    "print(acc.shape, acc.dtype)"
   ]
  },
  {
   "cell_type": "code",
   "execution_count": 29,
   "metadata": {},
   "outputs": [],
   "source": [
    "def get_batches(X, Y, batch_size):\n",
    "    \"\"\" Return a generator for batches \"\"\"\n",
    "    n_batches = len(X) // batch_size\n",
    "    X, Y = X[:n_batches*batch_size], Y[:n_batches*batch_size]\n",
    "\n",
    "    # Loop over batches and yield\n",
    "    for b in range(0, len(X), batch_size):\n",
    "        yield X[b:b+batch_size], Y[b:b+batch_size]"
   ]
  },
  {
   "cell_type": "code",
   "execution_count": 30,
   "metadata": {},
   "outputs": [
    {
     "name": "stdout",
     "output_type": "stream",
     "text": [
      "epoch: 1 train_loss: 7531.5137 valid_loss: 5997.881 train_acc: 0.1264833 valid_acc: 0.1226572\n",
      "epoch: 2 train_loss: 5575.5957 valid_loss: 4447.0215 train_acc: 0.104912944 valid_acc: 0.09615172\n",
      "epoch: 3 train_loss: 4189.857 valid_loss: 3408.1663 train_acc: 0.13003215 valid_acc: 0.16125096\n",
      "epoch: 4 train_loss: 3269.1143 valid_loss: 2817.5278 train_acc: 0.21110125 valid_acc: 0.2510813\n",
      "epoch: 5 train_loss: 2721.2397 valid_loss: 2339.6924 train_acc: 0.24309637 valid_acc: 0.26405677\n",
      "epoch: 6 train_loss: 2215.1638 valid_loss: 1734.3824 train_acc: 0.25451922 valid_acc: 0.27082178\n",
      "epoch: 7 train_loss: 1596.8557 valid_loss: 1199.8086 train_acc: 0.29788178 valid_acc: 0.30841744\n",
      "epoch: 8 train_loss: 1160.6404 valid_loss: 1019.8166 train_acc: 0.3719086 valid_acc: 0.38682488\n",
      "epoch: 9 train_loss: 1028.4563 valid_loss: 977.3699 train_acc: 0.31473884 valid_acc: 0.2922258\n",
      "epoch: 10 train_loss: 958.66125 valid_loss: 851.00287 train_acc: 0.3211711 valid_acc: 0.32194743\n",
      "epoch: 11 train_loss: 828.0416 valid_loss: 788.6805 train_acc: 0.36941332 valid_acc: 0.36386824\n",
      "epoch: 12 train_loss: 772.2437 valid_loss: 701.1346 train_acc: 0.38810027 valid_acc: 0.39236996\n",
      "epoch: 13 train_loss: 654.8887 valid_loss: 541.667 train_acc: 0.39164913 valid_acc: 0.40578908\n",
      "epoch: 14 train_loss: 518.401 valid_loss: 455.85443 train_acc: 0.4121659 valid_acc: 0.4226461\n",
      "epoch: 15 train_loss: 453.86517 valid_loss: 462.72226 train_acc: 0.44344017 valid_acc: 0.46390152\n",
      "epoch: 16 train_loss: 473.61008 valid_loss: 461.01157 train_acc: 0.48258844 valid_acc: 0.49517578\n",
      "epoch: 17 train_loss: 444.4923 valid_loss: 366.9632 train_acc: 0.5012199 valid_acc: 0.5059332\n",
      "epoch: 18 train_loss: 358.1198 valid_loss: 343.62738 train_acc: 0.49689478 valid_acc: 0.4969502\n",
      "epoch: 19 train_loss: 345.93274 valid_loss: 336.17603 train_acc: 0.4841965 valid_acc: 0.49096152\n",
      "epoch: 20 train_loss: 328.9914 valid_loss: 294.84723 train_acc: 0.48414105 valid_acc: 0.4956194\n",
      "epoch: 21 train_loss: 285.38477 valid_loss: 251.49692 train_acc: 0.4958412 valid_acc: 0.5033825\n",
      "epoch: 22 train_loss: 253.25714 valid_loss: 242.01456 train_acc: 0.48741266 valid_acc: 0.49284685\n",
      "epoch: 23 train_loss: 244.81717 valid_loss: 225.77525 train_acc: 0.5120883 valid_acc: 0.52811354\n",
      "epoch: 24 train_loss: 226.09537 valid_loss: 209.59543 train_acc: 0.5342132 valid_acc: 0.5428635\n",
      "epoch: 25 train_loss: 208.15013 valid_loss: 190.56795 train_acc: 0.5317179 valid_acc: 0.5360985\n",
      "epoch: 26 train_loss: 187.81877 valid_loss: 176.8231 train_acc: 0.5418099 valid_acc: 0.55594987\n",
      "epoch: 27 train_loss: 178.29965 valid_loss: 168.34897 train_acc: 0.5619385 valid_acc: 0.5786847\n",
      "epoch: 28 train_loss: 169.76003 valid_loss: 156.27086 train_acc: 0.5787956 valid_acc: 0.5902185\n",
      "epoch: 29 train_loss: 159.13284 valid_loss: 149.98347 train_acc: 0.5900521 valid_acc: 0.5988688\n",
      "epoch: 30 train_loss: 151.65634 valid_loss: 142.97021 train_acc: 0.5980925 valid_acc: 0.60718644\n",
      "epoch: 31 train_loss: 143.75146 valid_loss: 135.82407 train_acc: 0.61555946 valid_acc: 0.6280359\n",
      "epoch: 32 train_loss: 136.55737 valid_loss: 129.13947 train_acc: 0.63297105 valid_acc: 0.6446712\n",
      "epoch: 33 train_loss: 130.72668 valid_loss: 125.721954 train_acc: 0.64223135 valid_acc: 0.6485527\n",
      "epoch: 34 train_loss: 127.04407 valid_loss: 121.56319 train_acc: 0.64472663 valid_acc: 0.65121436\n",
      "epoch: 35 train_loss: 122.22112 valid_loss: 116.505615 train_acc: 0.6455029 valid_acc: 0.6525452\n",
      "epoch: 36 train_loss: 117.45781 valid_loss: 113.255356 train_acc: 0.6504381 valid_acc: 0.65875566\n",
      "epoch: 37 train_loss: 114.113846 valid_loss: 109.89692 train_acc: 0.6578131 valid_acc: 0.6668515\n",
      "epoch: 38 train_loss: 110.63114 valid_loss: 106.92665 train_acc: 0.6694577 valid_acc: 0.67860705\n",
      "epoch: 39 train_loss: 107.69768 valid_loss: 104.19803 train_acc: 0.6768327 valid_acc: 0.68448484\n",
      "epoch: 40 train_loss: 104.74924 valid_loss: 101.28283 train_acc: 0.6825441 valid_acc: 0.6891427\n",
      "epoch: 41 train_loss: 101.75316 valid_loss: 98.87497 train_acc: 0.6867029 valid_acc: 0.6928025\n",
      "epoch: 42 train_loss: 99.3011 valid_loss: 96.42333 train_acc: 0.6904181 valid_acc: 0.69612956\n",
      "epoch: 43 train_loss: 96.72595 valid_loss: 93.7552 train_acc: 0.6940224 valid_acc: 0.69967836\n",
      "epoch: 44 train_loss: 93.98874 valid_loss: 91.094574 train_acc: 0.70051014 valid_acc: 0.7071088\n",
      "epoch: 45 train_loss: 91.40228 valid_loss: 88.952896 train_acc: 0.7059443 valid_acc: 0.71099037\n",
      "epoch: 46 train_loss: 89.21677 valid_loss: 86.79444 train_acc: 0.7102695 valid_acc: 0.71598095\n",
      "epoch: 47 train_loss: 86.96826 valid_loss: 84.49458 train_acc: 0.7149273 valid_acc: 0.72041696\n",
      "epoch: 48 train_loss: 84.77294 valid_loss: 82.456635 train_acc: 0.7200843 valid_acc: 0.72684926\n",
      "epoch: 49 train_loss: 82.679245 valid_loss: 80.610954 train_acc: 0.72501945 valid_acc: 0.731729\n",
      "epoch: 50 train_loss: 80.70201 valid_loss: 78.970604 train_acc: 0.72851276 valid_acc: 0.73416877\n",
      "epoch: 51 train_loss: 78.99601 valid_loss: 77.33648 train_acc: 0.7318399 valid_acc: 0.73838305\n",
      "epoch: 52 train_loss: 77.309814 valid_loss: 75.69837 train_acc: 0.73588777 valid_acc: 0.7435954\n",
      "epoch: 53 train_loss: 75.63788 valid_loss: 74.17482 train_acc: 0.73993564 valid_acc: 0.7480315\n",
      "epoch: 54 train_loss: 74.014786 valid_loss: 72.77872 train_acc: 0.74387264 valid_acc: 0.7511367\n",
      "epoch: 55 train_loss: 72.54997 valid_loss: 71.36004 train_acc: 0.7471998 valid_acc: 0.754242\n",
      "epoch: 56 train_loss: 71.12157 valid_loss: 69.96962 train_acc: 0.7513585 valid_acc: 0.7579017\n",
      "epoch: 57 train_loss: 69.69086 valid_loss: 68.70172 train_acc: 0.7543529 valid_acc: 0.7614506\n",
      "epoch: 58 train_loss: 68.32941 valid_loss: 67.43514 train_acc: 0.7575691 valid_acc: 0.76499945\n",
      "epoch: 59 train_loss: 67.02426 valid_loss: 66.16547 train_acc: 0.76072973 valid_acc: 0.7679938\n",
      "epoch: 60 train_loss: 65.768875 valid_loss: 64.925545 train_acc: 0.76444495 valid_acc: 0.77109903\n",
      "epoch: 61 train_loss: 64.53113 valid_loss: 63.70855 train_acc: 0.7670511 valid_acc: 0.77220803\n",
      "epoch: 62 train_loss: 63.299294 valid_loss: 62.55958 train_acc: 0.7703782 valid_acc: 0.77509147\n",
      "epoch: 63 train_loss: 62.117104 valid_loss: 61.429356 train_acc: 0.77337253 valid_acc: 0.7783076\n",
      "epoch: 64 train_loss: 60.961395 valid_loss: 60.29511 train_acc: 0.7758124 valid_acc: 0.78008205\n",
      "epoch: 65 train_loss: 59.80536 valid_loss: 59.228085 train_acc: 0.7794167 valid_acc: 0.7839636\n",
      "epoch: 66 train_loss: 58.6501 valid_loss: 58.177784 train_acc: 0.78174555 valid_acc: 0.78629255\n",
      "epoch: 67 train_loss: 57.506516 valid_loss: 57.060165 train_acc: 0.78462905 valid_acc: 0.788067\n",
      "epoch: 68 train_loss: 56.34097 valid_loss: 55.924065 train_acc: 0.7870134 valid_acc: 0.79050684\n",
      "epoch: 69 train_loss: 55.199867 valid_loss: 54.83034 train_acc: 0.7903959 valid_acc: 0.7942775\n",
      "epoch: 70 train_loss: 54.110046 valid_loss: 53.81401 train_acc: 0.79350114 valid_acc: 0.79782635\n",
      "epoch: 71 train_loss: 53.10337 valid_loss: 52.87104 train_acc: 0.7956083 valid_acc: 0.79993343\n",
      "epoch: 72 train_loss: 52.137367 valid_loss: 52.009487 train_acc: 0.798159 valid_acc: 0.8020406\n",
      "epoch: 73 train_loss: 51.222466 valid_loss: 51.19648 train_acc: 0.8003771 valid_acc: 0.80370414\n",
      "epoch: 74 train_loss: 50.371223 valid_loss: 50.365288 train_acc: 0.8036487 valid_acc: 0.8071421\n",
      "epoch: 75 train_loss: 49.531998 valid_loss: 49.571415 train_acc: 0.80592215 valid_acc: 0.8095819\n",
      "epoch: 76 train_loss: 48.728325 valid_loss: 48.803013 train_acc: 0.80791837 valid_acc: 0.8119108\n",
      "epoch: 77 train_loss: 47.93979 valid_loss: 48.08805 train_acc: 0.8102473 valid_acc: 0.81423974\n",
      "epoch: 78 train_loss: 47.163635 valid_loss: 47.41557 train_acc: 0.812299 valid_acc: 0.8159033\n",
      "epoch: 79 train_loss: 46.428665 valid_loss: 46.680298 train_acc: 0.81440616 valid_acc: 0.8178995\n",
      "epoch: 80 train_loss: 45.6929 valid_loss: 45.98325 train_acc: 0.8167905 valid_acc: 0.82000667\n",
      "epoch: 81 train_loss: 44.989174 valid_loss: 45.30339 train_acc: 0.81878674 valid_acc: 0.8221138\n",
      "epoch: 82 train_loss: 44.30362 valid_loss: 44.652897 train_acc: 0.8204503 valid_acc: 0.82411003\n",
      "epoch: 83 train_loss: 43.62938 valid_loss: 44.037422 train_acc: 0.8226129 valid_acc: 0.82632804\n",
      "epoch: 84 train_loss: 42.969086 valid_loss: 43.442455 train_acc: 0.8240546 valid_acc: 0.82754797\n",
      "epoch: 85 train_loss: 42.3397 valid_loss: 42.81903 train_acc: 0.8259399 valid_acc: 0.8300987\n",
      "epoch: 86 train_loss: 41.72209 valid_loss: 42.20623 train_acc: 0.82710433 valid_acc: 0.8312077\n"
     ]
    },
    {
     "name": "stdout",
     "output_type": "stream",
     "text": [
      "epoch: 87 train_loss: 41.10695 valid_loss: 41.64492 train_acc: 0.82893425 valid_acc: 0.83253855\n",
      "epoch: 88 train_loss: 40.513657 valid_loss: 41.08421 train_acc: 0.8305423 valid_acc: 0.83442384\n",
      "epoch: 89 train_loss: 39.94466 valid_loss: 40.50962 train_acc: 0.8318731 valid_acc: 0.8359765\n",
      "epoch: 90 train_loss: 39.37677 valid_loss: 39.990646 train_acc: 0.83364755 valid_acc: 0.8377509\n",
      "epoch: 91 train_loss: 38.819534 valid_loss: 39.4756 train_acc: 0.83536655 valid_acc: 0.83908176\n",
      "epoch: 92 train_loss: 38.296402 valid_loss: 38.921288 train_acc: 0.8372519 valid_acc: 0.8412998\n",
      "epoch: 93 train_loss: 37.77303 valid_loss: 38.42873 train_acc: 0.83869356 valid_acc: 0.84229785\n",
      "epoch: 94 train_loss: 37.239464 valid_loss: 37.941555 train_acc: 0.8410225 valid_acc: 0.84462684\n",
      "epoch: 95 train_loss: 36.734543 valid_loss: 37.44488 train_acc: 0.84124434 valid_acc: 0.8449595\n",
      "epoch: 96 train_loss: 36.239532 valid_loss: 36.963554 train_acc: 0.8427415 valid_acc: 0.8467339\n",
      "epoch: 97 train_loss: 35.73651 valid_loss: 36.483746 train_acc: 0.84423864 valid_acc: 0.84817564\n",
      "epoch: 98 train_loss: 35.250027 valid_loss: 35.999126 train_acc: 0.8460685 valid_acc: 0.8502828\n",
      "epoch: 99 train_loss: 34.76837 valid_loss: 35.52324 train_acc: 0.84762114 valid_acc: 0.8520572\n",
      "epoch: 100 train_loss: 34.280098 valid_loss: 35.060474 train_acc: 0.8495065 valid_acc: 0.8542753\n"
     ]
    }
   ],
   "source": [
    "# We should save the after training and validation\n",
    "saver = tf.train.Saver() \n",
    "train_loss_mean, valid_loss_mean = [], []\n",
    "train_acc_mean, valid_acc_mean = [], []\n",
    "\n",
    "# now that we can calculate loss and optimize, we can start a session for calculating the error.\n",
    "with tf.Session() as sess:\n",
    "    sess.run(fetches=tf.global_variables_initializer())\n",
    "    \n",
    "    # for every epoch start feeding the arrays into the tensors in the model\n",
    "    for epoch in range(0, 100, 1):\n",
    "        train_loss, valid_loss = [], []\n",
    "        train_acc, valid_acc = [], []\n",
    "        \n",
    "        # Training minibatches and feed them into the tensor\n",
    "        for Xarr, Yarr in get_batches(X=Xtrain, Y=Ytrain, batch_size=Xvalid.shape[0]):\n",
    "            # X_NxWxCin, Y_NxCout\n",
    "            feed_dict = {X:Xarr, Y:Yarr}\n",
    "            lossarr, _, accarr = sess.run(feed_dict=feed_dict, fetches=[loss, opt, acc])\n",
    "            train_loss.append(lossarr)\n",
    "            train_acc.append(accarr)\n",
    "            \n",
    "        # Validation now which is one batch on every iteration\n",
    "        for Xarr, Yarr in get_batches(X=Xvalid, Y=Yvalid, batch_size=Xvalid.shape[0]): \n",
    "            # X_NxWxCin, Y_NxCout\n",
    "            feed_dict = {X:Xarr, Y:Yarr}\n",
    "            lossarr = sess.run(feed_dict=feed_dict, fetches=[loss])\n",
    "            valid_loss.append(lossarr)\n",
    "            valid_acc.append(accarr)\n",
    "        \n",
    "        # printing out train and validation loss\n",
    "        print('epoch:', epoch+1, 'train_loss:', np.mean(train_loss), 'valid_loss:', np.mean(valid_loss),\n",
    "             'train_acc:', np.mean(train_acc), 'valid_acc:', np.mean(valid_acc))\n",
    "        \n",
    "        # Every epoch, for drawing the plot and their learning curve\n",
    "        train_loss_mean.append(np.mean(train_loss))\n",
    "        valid_loss_mean.append(np.mean(valid_loss))\n",
    "        train_acc_mean.append(np.mean(train_acc))\n",
    "        valid_acc_mean.append(np.mean(valid_acc))\n",
    "        \n",
    "    # After all epochs and at the end of training and validation\n",
    "    saver.save(sess,'checkpoints/cnn-fnirs-har.ckpt')"
   ]
  },
  {
   "cell_type": "code",
   "execution_count": 31,
   "metadata": {},
   "outputs": [
    {
     "data": {
      "text/plain": [
       "<matplotlib.legend.Legend at 0x7fe71044c390>"
      ]
     },
     "execution_count": 31,
     "metadata": {},
     "output_type": "execute_result"
    },
    {
     "data": {
      "image/png": "[encoded data removed]",
      "text/plain": [
       "<Figure size 432x288 with 1 Axes>"
      ]
     },
     "metadata": {},
     "output_type": "display_data"
    }
   ],
   "source": [
    "import matplotlib.pyplot as mplot\n",
    "%matplotlib inline\n",
    "\n",
    "mplot.plot(train_loss_mean, label='train_loss_mean')\n",
    "mplot.plot(valid_loss_mean, label='valid_loss_mean')\n",
    "mplot.legend()"
   ]
  },
  {
   "cell_type": "code",
   "execution_count": 35,
   "metadata": {},
   "outputs": [
    {
     "data": {
      "text/plain": [
       "<matplotlib.legend.Legend at 0x7fe7102d3748>"
      ]
     },
     "execution_count": 35,
     "metadata": {},
     "output_type": "execute_result"
    },
    {
     "data": {
      "image/png": "[encoded data removed]",
      "text/plain": [
       "<Figure size 432x288 with 1 Axes>"
      ]
     },
     "metadata": {},
     "output_type": "display_data"
    }
   ],
   "source": [
    "mplot.plot(train_acc_mean, label='train_acc_mean')\n",
    "mplot.plot(valid_acc_mean, label='valid_acc_mean')\n",
    "mplot.legend()"
   ]
  },
  {
   "cell_type": "code",
   "execution_count": 32,
   "metadata": {},
   "outputs": [
    {
     "name": "stdout",
     "output_type": "stream",
     "text": [
      "INFO:tensorflow:Restoring parameters from checkpoints/cnn-fnirs-har.ckpt\n",
      "test_loss: 35.23574 test acc 0.8452922\n"
     ]
    }
   ],
   "source": [
    "with tf.Session() as sess:\n",
    "    sess.run(fetches=tf.global_variables_initializer())\n",
    "    \n",
    "    # Loading the trained and validated model\n",
    "    saver.restore(save_path=tf.train.latest_checkpoint(checkpoint_dir='checkpoints/'), sess=sess)\n",
    "    \n",
    "    # Saving the test loss for every batch/minibtch\n",
    "    test_loss = []\n",
    "    test_acc = []\n",
    "    \n",
    "    # applying the loaded model on test data\n",
    "    for Xarr, Yarr in get_batches(X=Xtest, Y=Ytest, batch_size=Xvalid.shape[0]): \n",
    "        # X_NxWXCin, Y_NxCout\n",
    "        feed_dict={X:Xarr, Y:Yarr}\n",
    "        lossarr, accarr = sess.run(feed_dict=feed_dict, fetches=[loss, acc])\n",
    "        test_loss.append(lossarr)\n",
    "        test_acc.append(accarr)\n",
    "        \n",
    "    # Printing the test loss\n",
    "    print('test_loss:', np.mean(test_loss), 'test acc', np.mean(test_acc))"
   ]
  },
  {
   "cell_type": "code",
   "execution_count": null,
   "metadata": {},
   "outputs": [],
   "source": []
  }
 ],
 "metadata": {
  "kernelspec": {
   "display_name": "Python 3",
   "language": "python",
   "name": "python3"
  },
  "language_info": {
   "codemirror_mode": {
    "name": "ipython",
    "version": 3
   },
   "file_extension": ".py",
   "mimetype": "text/x-python",
   "name": "python",
   "nbconvert_exporter": "python",
   "pygments_lexer": "ipython3",
   "version": "3.6.5"
  }
 },
 "nbformat": 4,
 "nbformat_minor": 2
}
