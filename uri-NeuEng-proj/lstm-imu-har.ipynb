{
 "cells": [
  {
   "cell_type": "code",
   "execution_count": 1,
   "metadata": {},
   "outputs": [
    {
     "name": "stdout",
     "output_type": "stream",
     "text": [
      "0.16675734494015235 0.1459466811751904 0.13411316648531013 0.1749183895538629 0.1868879216539717 0.1913764961915125\n",
      "(7352, 128, 9) float64 (2947, 128, 9) float64\n",
      "(7352,) int64 (2947,) int64\n"
     ]
    }
   ],
   "source": [
    "# HAR classification \n",
    "# Author: Burak Himmetoglu\n",
    "# 8/15/2017\n",
    "\n",
    "import pandas as pd \n",
    "import numpy as np\n",
    "import os\n",
    "\n",
    "def read_data(data_path, split = \"train\"):\n",
    "\t\"\"\" Read data \"\"\"\n",
    "\n",
    "\t# Fixed params\n",
    "\tn_class = 6\n",
    "\tn_steps = 128\n",
    "\n",
    "\t# Paths\n",
    "\tpath_ = os.path.join(data_path, split)\n",
    "\tpath_signals = os.path.join(path_, \"Inertial_Signals\")\n",
    "\n",
    "\t# Read labels and one-hot encode\n",
    "\tlabel_path = os.path.join(path_, \"y_\" + split + \".txt\")\n",
    "\tlabels = pd.read_csv(label_path, header = None)\n",
    "\n",
    "\t# Read time-series data\n",
    "\tchannel_files = os.listdir(path_signals)\n",
    "\tchannel_files.sort()\n",
    "\tn_channels = len(channel_files)\n",
    "\tposix = len(split) + 5\n",
    "\n",
    "\t# Initiate array\n",
    "\tlist_of_channels = []\n",
    "\tX = np.zeros((len(labels), n_steps, n_channels))\n",
    "\ti_ch = 0\n",
    "\tfor fil_ch in channel_files:\n",
    "\t\tchannel_name = fil_ch[:-posix]\n",
    "\t\tdat_ = pd.read_csv(os.path.join(path_signals,fil_ch), delim_whitespace = True, header = None)\n",
    "\t\tX[:,:,i_ch] = dat_.as_matrix()\n",
    "\n",
    "\t\t# Record names\n",
    "\t\tlist_of_channels.append(channel_name)\n",
    "\n",
    "\t\t# iterate\n",
    "\t\ti_ch += 1\n",
    "\n",
    "\t# Return \n",
    "\treturn X, labels[0].values, list_of_channels\n",
    "\n",
    "# test and train read\n",
    "Xtrain, Ytrain, _ = read_data(data_path=\"/home/arasdar/datasets/har/har-data/\", split=\"train\")\n",
    "Xtest, Ytest, _ = read_data(data_path=\"/home/arasdar/datasets/har/har-data/\", split=\"test\")\n",
    "\n",
    "# assert list_ch_train_valid == list_ch_test, \"Mistmatch in channels!\"\n",
    "assert Ytrain.max(axis=0) == Ytest.max(axis=0), 'Mismatch in channels of Ytrain and Ytest'\n",
    "\n",
    "# balanced data or not\n",
    "print(np.mean(Ytrain==1), np.mean(Ytrain==2), np.mean(Ytrain==3), \n",
    "      np.mean(Ytrain==4), np.mean(Ytrain==5), np.mean(Ytrain==6))\n",
    "\n",
    "print(Xtrain.shape, Xtrain.dtype, Xtest.shape, Xtest.dtype)\n",
    "print(Ytrain.shape, Ytrain.dtype, Ytest.shape, Ytest.dtype)"
   ]
  },
  {
   "cell_type": "code",
   "execution_count": 2,
   "metadata": {},
   "outputs": [
    {
     "name": "stdout",
     "output_type": "stream",
     "text": [
      "(7352, 128, 9) float64\n",
      "(2947, 128, 9) float64\n"
     ]
    }
   ],
   "source": [
    "# # standardizing/normalizing the train and test data\n",
    "# def standardize(train, test):\n",
    "# \"\"\" Standardize data \"\"\"\n",
    "# # Standardize train and test\n",
    "# X_train = (train - np.mean(train, axis=0)[None,:,:]) / np.std(train, axis=0)[None,:,:]\n",
    "# X_test = (test - np.mean(test, axis=0)[None,:,:]) / np.std(test, axis=0)[None,:,:]\n",
    "# return X_train, X_test\n",
    "\n",
    "Xtrain = (Xtrain - Xtrain.mean(axis=0))/ Xtrain.std(axis=0)\n",
    "Xtest = (Xtest - Xtest.mean(axis=0))/ Xtest.std(axis=0)\n",
    "print(Xtrain.shape, Xtrain.dtype)\n",
    "print(Xtest.shape, Xtest.dtype)\n",
    "# # Normalizing/standardizing the input data features\n",
    "# Xtrain, Xtest = standardize(train=Xtrain, test=Xtest)"
   ]
  },
  {
   "cell_type": "code",
   "execution_count": 3,
   "metadata": {},
   "outputs": [
    {
     "name": "stdout",
     "output_type": "stream",
     "text": [
      "[[ 7.29829690e-17 -1.02082531e-17  1.57352066e-17 ... -4.98687012e-15\n",
      "   1.85772084e-16  1.49046535e-16]\n",
      " [-3.78883238e-17 -3.43169454e-17  2.59223183e-16 ...  1.22050349e-15\n",
      "   4.80512740e-17 -4.62565242e-16]\n",
      " [ 1.84533805e-17 -2.06052682e-17 -3.44906065e-17 ... -2.15841883e-16\n",
      "   2.85362956e-16 -3.28763132e-16]\n",
      " ...\n",
      " [ 4.40797199e-17 -2.73629505e-17 -1.20505709e-17 ...  5.30356876e-15\n",
      "   5.48165068e-17 -3.37113966e-16]\n",
      " [ 2.29534684e-17  5.79273058e-17  8.81896418e-18 ...  2.48264790e-15\n",
      "  -1.15794208e-16  4.64958745e-17]\n",
      " [ 4.27810368e-17  1.22921864e-17 -3.12589997e-17 ... -1.67407304e-15\n",
      "   1.10599475e-16 -3.55174722e-16]] [[1. 1. 1. ... 1. 1. 1.]\n",
      " [1. 1. 1. ... 1. 1. 1.]\n",
      " [1. 1. 1. ... 1. 1. 1.]\n",
      " ...\n",
      " [1. 1. 1. ... 1. 1. 1.]\n",
      " [1. 1. 1. ... 1. 1. 1.]\n",
      " [1. 1. 1. ... 1. 1. 1.]]\n"
     ]
    }
   ],
   "source": [
    "print(Xtrain.mean(axis=0), Xtrain.std(axis=0))"
   ]
  },
  {
   "cell_type": "code",
   "execution_count": 4,
   "metadata": {},
   "outputs": [
    {
     "name": "stdout",
     "output_type": "stream",
     "text": [
      "[[ 7.16540276e-17  1.80830354e-17  2.95356244e-17 ... -4.00445992e-15\n",
      "   3.99333697e-17  2.13869566e-16]\n",
      " [ 5.58878811e-17  3.33782694e-17  5.28928784e-17 ...  6.23404167e-15\n",
      "   7.13526437e-17 -1.22135835e-16]\n",
      " [ 1.11512051e-17  8.43874983e-18  4.68652000e-17 ... -2.75390501e-15\n",
      "  -1.09251672e-17 -8.88329112e-17]\n",
      " ...\n",
      " [ 1.58980019e-17 -3.98580238e-17  3.31522315e-18 ... -1.33149533e-15\n",
      "   6.84894964e-17 -1.86330610e-16]\n",
      " [ 4.07810120e-17  5.57277709e-17  3.27001556e-17 ...  3.11386101e-16\n",
      "   1.40520254e-17 -2.61751937e-16]\n",
      " [ 9.20162788e-18 -4.68275270e-17 -4.47555125e-17 ... -1.35942986e-16\n",
      "   4.69028729e-17  2.26923257e-16]] [[1. 1. 1. ... 1. 1. 1.]\n",
      " [1. 1. 1. ... 1. 1. 1.]\n",
      " [1. 1. 1. ... 1. 1. 1.]\n",
      " ...\n",
      " [1. 1. 1. ... 1. 1. 1.]\n",
      " [1. 1. 1. ... 1. 1. 1.]\n",
      " [1. 1. 1. ... 1. 1. 1.]]\n"
     ]
    }
   ],
   "source": [
    "print(Xtest.mean(axis=0), Xtest.std(axis=0))"
   ]
  },
  {
   "cell_type": "code",
   "execution_count": 5,
   "metadata": {},
   "outputs": [
    {
     "name": "stdout",
     "output_type": "stream",
     "text": [
      "6 6\n",
      "(7352, 6) float64 (2947, 6) float64\n"
     ]
    }
   ],
   "source": [
    "# Onehotencoding of the output labels\n",
    "def onehot(labels, n_class):\n",
    "\t\"\"\" One-hot encoding \"\"\"\n",
    "\texpansion = np.eye(n_class)\n",
    "\ty = expansion[:, labels-1].T\n",
    "\tassert y.shape[1] == n_class, \"Wrong number of labels!\"\n",
    "\n",
    "\treturn y\n",
    "\n",
    "print(Ytrain.max(axis=0), Ytest.max(axis=0))\n",
    "assert Ytrain.max(axis=0) == Ytest.max(axis=0), 'wrong labels'\n",
    "\n",
    "Ytrain=onehot(labels=Ytrain, n_class=Ytrain.max(axis=0))\n",
    "Ytest=onehot(labels=Ytest, n_class=Ytest.max(axis=0))\n",
    "print(Ytrain.shape, Ytrain.dtype, Ytest.shape, Ytest.dtype)"
   ]
  },
  {
   "cell_type": "code",
   "execution_count": 6,
   "metadata": {},
   "outputs": [
    {
     "name": "stdout",
     "output_type": "stream",
     "text": [
      "(5146, 128, 9) (2206, 128, 9) (2947, 128, 9) float64 float64 float64\n",
      "(5146, 6) (2206, 6) (2947, 6) float64 float64 float64\n"
     ]
    }
   ],
   "source": [
    "from sklearn.model_selection import train_test_split\n",
    "\n",
    "# Now separating train and validation set\n",
    "# 30% of the training data/ entire training data is assigned to validation.\n",
    "Xtrain, Xvalid, Ytrain, Yvalid = train_test_split(Xtrain, Ytrain, test_size=0.30)\n",
    "print(Xtrain.shape, Xvalid.shape, Xtest.shape, Xtrain.dtype, Xvalid.dtype, Xtest.dtype)\n",
    "print(Ytrain.shape, Yvalid.shape, Ytest.shape, Ytrain.dtype, Yvalid.dtype, Ytest.dtype)"
   ]
  },
  {
   "cell_type": "code",
   "execution_count": 7,
   "metadata": {},
   "outputs": [
    {
     "name": "stdout",
     "output_type": "stream",
     "text": [
      "TensorFlow Version: 1.7.0\n",
      "Default GPU Device: /device:GPU:0\n"
     ]
    }
   ],
   "source": [
    "# In this one we should define and detect GPUs for tensorflow\n",
    "# GPUs or CPU\n",
    "import tensorflow as tf\n",
    "\n",
    "# Check TensorFlow Version\n",
    "print('TensorFlow Version: {}'.format(tf.__version__))\n",
    "\n",
    "# Check for a GPU\n",
    "print('Default GPU Device: {}'.format(tf.test.gpu_device_name()))"
   ]
  },
  {
   "cell_type": "code",
   "execution_count": 8,
   "metadata": {},
   "outputs": [
    {
     "name": "stdout",
     "output_type": "stream",
     "text": [
      "(2206, 128, 9) <dtype: 'float32'> (5146, 128, 9) float64 (2206, 128, 9) float64 (2947, 128, 9) float64\n"
     ]
    }
   ],
   "source": [
    "# now I can design the actual input and output tensors\n",
    "N, W, Cin = Xvalid.shape[0], Xvalid.shape[1], Xvalid.shape[2]\n",
    "Xinput = tf.placeholder(dtype=tf.float32, name=None, shape=[N, W, Cin])\n",
    "print(Xinput.shape, Xinput.dtype, Xtrain.shape, Xtrain.dtype, Xvalid.shape, Xvalid.dtype, Xtest.shape, Xtest.dtype)"
   ]
  },
  {
   "cell_type": "code",
   "execution_count": 9,
   "metadata": {},
   "outputs": [
    {
     "name": "stdout",
     "output_type": "stream",
     "text": [
      "(2206, 6) <dtype: 'float32'> (5146, 6) float64 (2206, 6) float64 (2947, 6) float64\n"
     ]
    }
   ],
   "source": [
    "# This is the output tensor for labels\n",
    "N, Cout = Yvalid.shape[0], Yvalid.shape[1]\n",
    "Ylabels = tf.placeholder(dtype=tf.float32, name=None, shape=[N, Cout])\n",
    "print(Ylabels.shape, Ylabels.dtype, Ytrain.shape, Ytrain.dtype, Yvalid.shape, Yvalid.dtype, Ytest.shape, Ytest.dtype)"
   ]
  },
  {
   "cell_type": "code",
   "execution_count": 11,
   "metadata": {},
   "outputs": [
    {
     "name": "stdout",
     "output_type": "stream",
     "text": [
      "(2206, 128, 9) <dtype: 'float32'>\n",
      "(128, 2206, 9) <dtype: 'float32'>\n",
      "(282368, 9) <dtype: 'float32'>\n",
      "128 (2206, 9) <dtype: 'float32'>\n"
     ]
    }
   ],
   "source": [
    "# Xinput NxWxCin => WxNxCin == (seq_len, N, n_channels)\n",
    "print(Xinput.shape, Xinput.dtype)\n",
    "\n",
    "# inputs = tf.transpose(a=Xinput, perm=[1,0,2]) # reshape into (seq_len, N, channels)\n",
    "inputs = tf.transpose(Xinput, [1,0,2]) # reshape into (seq_len, N, channels)\n",
    "print(inputs.shape, inputs.dtype)\n",
    "\n",
    "# shape=[-1, Cin]\n",
    "shape = [inputs.shape[0].value * inputs.shape[1].value, inputs.shape[2].value]\n",
    "inputs = tf.reshape(tensor=inputs, shape=shape) # (W*N, Cin)\n",
    "print(inputs.shape, inputs.dtype)\n",
    "\n",
    "# Open up the tensor into a list of seq_len pieces\n",
    "inputs = tf.split(value=inputs, num_or_size_splits=W, axis=0)\n",
    "print(len(inputs), inputs[0].shape, inputs[0].dtype)"
   ]
  },
  {
   "cell_type": "code",
   "execution_count": 12,
   "metadata": {},
   "outputs": [
    {
     "name": "stdout",
     "output_type": "stream",
     "text": [
      "27\n",
      "<tensorflow.python.ops.rnn_cell_impl.BasicLSTMCell object at 0x7f21870519b0>\n"
     ]
    }
   ],
   "source": [
    "# RNN-LSTM parameters\n",
    "lstm_size = 3 * Cin # 3 times the amount of channels\n",
    "print(lstm_size)\n",
    "\n",
    "# Add LSTM layers\n",
    "# lstm = tf.contrib.rnn.BasicLSTMCell(lstm_size)\n",
    "lstm = tf.nn.rnn_cell.BasicLSTMCell(num_units=lstm_size)\n",
    "print(lstm)"
   ]
  },
  {
   "cell_type": "code",
   "execution_count": 13,
   "metadata": {},
   "outputs": [],
   "source": [
    "# drop = tf.nn.rnn_cell.DropoutWrapper(lstm, output_keep_prob=keep_prob_)\n",
    "lstm_layers = 1 # Number of layers\n",
    "cell = tf.nn.rnn_cell.MultiRNNCell(cells=[lstm] * lstm_layers)"
   ]
  },
  {
   "cell_type": "code",
   "execution_count": 14,
   "metadata": {},
   "outputs": [],
   "source": [
    "initial_state = cell.zero_state(batch_size=N, dtype=tf.float32)"
   ]
  },
  {
   "cell_type": "code",
   "execution_count": 15,
   "metadata": {},
   "outputs": [
    {
     "name": "stdout",
     "output_type": "stream",
     "text": [
      "128 (2206, 27) <dtype: 'float32'>\n"
     ]
    }
   ],
   "source": [
    "outputs, final_state = tf.nn.static_rnn(cell=cell, inputs=inputs, dtype=tf.float32, initial_state=initial_state)\n",
    "print(len(outputs), outputs[0].shape, outputs[0].dtype)"
   ]
  },
  {
   "cell_type": "code",
   "execution_count": 16,
   "metadata": {},
   "outputs": [
    {
     "name": "stdout",
     "output_type": "stream",
     "text": [
      "(2206, 6) <dtype: 'float32'>\n",
      "128 (2206, 27) <dtype: 'float32'>\n"
     ]
    }
   ],
   "source": [
    "# We only need the last output tensor to pass into a classifier\n",
    "Ylogits = tf.layers.dense(inputs=outputs[-1], units=Cout, name=None)\n",
    "print(Ylogits.shape, Ylogits.dtype)\n",
    "print(len(outputs), outputs[-1].shape, outputs[-1].dtype)"
   ]
  },
  {
   "cell_type": "code",
   "execution_count": 17,
   "metadata": {},
   "outputs": [
    {
     "name": "stdout",
     "output_type": "stream",
     "text": [
      "Tensor(\"softmax_cross_entropy_with_logits/Reshape_2:0\", shape=(2206,), dtype=float32)\n",
      "Tensor(\"Mean:0\", shape=(), dtype=float32)\n"
     ]
    }
   ],
   "source": [
    "# Backward pass: error backpropagation\n",
    "# Cost function\n",
    "loss = tf.nn.softmax_cross_entropy_with_logits_v2(logits=Ylogits, labels=Ylabels)\n",
    "print(loss)\n",
    "loss = tf.reduce_mean(input_tensor=loss)\n",
    "print(loss)"
   ]
  },
  {
   "cell_type": "code",
   "execution_count": 18,
   "metadata": {},
   "outputs": [
    {
     "name": "stdout",
     "output_type": "stream",
     "text": [
      "optimizer name: \"Adam\"\n",
      "op: \"NoOp\"\n",
      "input: \"^Adam/update_rnn/multi_rnn_cell/cell_0/basic_lstm_cell/kernel/ApplyAdam\"\n",
      "input: \"^Adam/update_rnn/multi_rnn_cell/cell_0/basic_lstm_cell/bias/ApplyAdam\"\n",
      "input: \"^Adam/update_dense/kernel/ApplyAdam\"\n",
      "input: \"^Adam/update_dense/bias/ApplyAdam\"\n",
      "input: \"^Adam/Assign\"\n",
      "input: \"^Adam/Assign_1\"\n",
      "\n"
     ]
    }
   ],
   "source": [
    "# Optimizer\n",
    "optimizer = tf.train.AdamOptimizer().minimize(loss=loss)\n",
    "print('optimizer', optimizer)"
   ]
  },
  {
   "cell_type": "code",
   "execution_count": 21,
   "metadata": {},
   "outputs": [
    {
     "name": "stdout",
     "output_type": "stream",
     "text": [
      "Tensor(\"ArgMax_4:0\", shape=(2206,), dtype=int64)\n",
      "Tensor(\"ArgMax_5:0\", shape=(2206,), dtype=int64)\n",
      "Tensor(\"Equal_2:0\", shape=(2206,), dtype=bool)\n",
      "Tensor(\"Cast_2:0\", shape=(2206,), dtype=float32)\n",
      "Tensor(\"Mean_3:0\", shape=(), dtype=float32)\n"
     ]
    }
   ],
   "source": [
    "# Accuracy\n",
    "Ylogits_argmax = tf.argmax(input=Ylogits, axis=1)\n",
    "print(Ylogits_argmax)\n",
    "Ylabels_argmax = tf.argmax(input=Ylabels, axis=1)\n",
    "print(Ylabels_argmax)\n",
    "accuracy = tf.equal(x=Ylogits_argmax, y=Ylabels_argmax, name=None)\n",
    "print(accuracy)\n",
    "accuracy = tf.cast(x=accuracy, dtype=tf.float32)\n",
    "print(accuracy)\n",
    "accuracy = tf.reduce_mean(input_tensor=accuracy, name=None)\n",
    "print(accuracy)"
   ]
  },
  {
   "cell_type": "code",
   "execution_count": 22,
   "metadata": {},
   "outputs": [],
   "source": [
    "# # Confusion matrix\n",
    "# confusion_matrix = tf.confusion_matrix(predictions=tf.argmax(logits, 1),\n",
    "#                                        labels=tf.argmax(labels_, 1))\n",
    "# print('confusion_matrix', confusion_matrix)"
   ]
  },
  {
   "cell_type": "code",
   "execution_count": 23,
   "metadata": {},
   "outputs": [],
   "source": [
    "def get_batches(X, Y, batch_size):\n",
    "    \"\"\" Return a generator for batches \"\"\"\n",
    "    n_batches = len(X) // batch_size\n",
    "    X, Y = X[:n_batches*batch_size], Y[:n_batches*batch_size]\n",
    "\n",
    "    # Loop over batches and yield\n",
    "    for b in range(0, len(X), batch_size):\n",
    "        yield X[b:b+batch_size], Y[b:b+batch_size]"
   ]
  },
  {
   "cell_type": "code",
   "execution_count": 24,
   "metadata": {
    "scrolled": true
   },
   "outputs": [
    {
     "name": "stdout",
     "output_type": "stream",
     "text": [
      "Epoch: 1/100 Train loss: 1.812514 Valid loss: 1.781571 Train acc: 0.098821 Valid acc: 0.146872\n",
      "Epoch: 2/100 Train loss: 1.776908 Valid loss: 1.747680 Train acc: 0.155712 Valid acc: 0.206709\n",
      "Epoch: 3/100 Train loss: 1.742892 Valid loss: 1.715383 Train acc: 0.227788 Valid acc: 0.285131\n",
      "Epoch: 4/100 Train loss: 1.710512 Valid loss: 1.684814 Train acc: 0.280372 Valid acc: 0.319583\n",
      "Epoch: 5/100 Train loss: 1.679755 Valid loss: 1.655854 Train acc: 0.315730 Valid acc: 0.346328\n",
      "Epoch: 6/100 Train loss: 1.650424 Valid loss: 1.628178 Train acc: 0.345195 Valid acc: 0.369447\n",
      "Epoch: 7/100 Train loss: 1.622178 Valid loss: 1.601449 Train acc: 0.369900 Valid acc: 0.393019\n",
      "Epoch: 8/100 Train loss: 1.594684 Valid loss: 1.575406 Train acc: 0.401179 Valid acc: 0.429737\n",
      "Epoch: 9/100 Train loss: 1.567701 Valid loss: 1.549867 Train acc: 0.431324 Valid acc: 0.456029\n",
      "Epoch: 10/100 Train loss: 1.541206 Valid loss: 1.524720 Train acc: 0.466228 Valid acc: 0.483228\n",
      "Epoch: 11/100 Train loss: 1.515105 Valid loss: 1.499925 Train acc: 0.501360 Valid acc: 0.495014\n",
      "Epoch: 12/100 Train loss: 1.489377 Valid loss: 1.475483 Train acc: 0.517906 Valid acc: 0.518132\n",
      "Epoch: 13/100 Train loss: 1.464034 Valid loss: 1.451409 Train acc: 0.542384 Valid acc: 0.545331\n",
      "Epoch: 14/100 Train loss: 1.439098 Valid loss: 1.427705 Train acc: 0.561423 Valid acc: 0.557570\n",
      "Epoch: 15/100 Train loss: 1.414547 Valid loss: 1.404311 Train acc: 0.577063 Valid acc: 0.578422\n",
      "Epoch: 16/100 Train loss: 1.390272 Valid loss: 1.381098 Train acc: 0.592022 Valid acc: 0.589755\n",
      "Epoch: 17/100 Train loss: 1.366086 Valid loss: 1.357827 Train acc: 0.602901 Valid acc: 0.600635\n",
      "Epoch: 18/100 Train loss: 1.342210 Valid loss: 1.334771 Train acc: 0.611967 Valid acc: 0.611514\n",
      "Epoch: 19/100 Train loss: 1.318687 Valid loss: 1.311661 Train acc: 0.625793 Valid acc: 0.617860\n",
      "Epoch: 20/100 Train loss: 1.294400 Valid loss: 1.289685 Train acc: 0.631686 Valid acc: 0.624207\n",
      "Epoch: 21/100 Train loss: 1.270350 Valid loss: 1.266784 Train acc: 0.640526 Valid acc: 0.632820\n",
      "Epoch: 22/100 Train loss: 1.246214 Valid loss: 1.243683 Train acc: 0.649592 Valid acc: 0.636446\n",
      "Epoch: 23/100 Train loss: 1.221851 Valid loss: 1.219985 Train acc: 0.654805 Valid acc: 0.640073\n",
      "Epoch: 24/100 Train loss: 1.197094 Valid loss: 1.195524 Train acc: 0.660471 Valid acc: 0.646419\n",
      "Epoch: 25/100 Train loss: 1.171817 Valid loss: 1.170543 Train acc: 0.667271 Valid acc: 0.652312\n",
      "Epoch: 26/100 Train loss: 1.145944 Valid loss: 1.142137 Train acc: 0.671804 Valid acc: 0.657298\n",
      "Epoch: 27/100 Train loss: 1.118998 Valid loss: 1.115819 Train acc: 0.675884 Valid acc: 0.665005\n",
      "Epoch: 28/100 Train loss: 1.091503 Valid loss: 1.085460 Train acc: 0.682004 Valid acc: 0.671804\n",
      "Epoch: 29/100 Train loss: 1.062655 Valid loss: 1.055457 Train acc: 0.690390 Valid acc: 0.680417\n",
      "Epoch: 30/100 Train loss: 1.033207 Valid loss: 1.024292 Train acc: 0.698776 Valid acc: 0.692203\n",
      "Epoch: 31/100 Train loss: 1.002903 Valid loss: 0.990824 Train acc: 0.711242 Valid acc: 0.702176\n",
      "Epoch: 32/100 Train loss: 0.971394 Valid loss: 0.957717 Train acc: 0.719855 Valid acc: 0.716682\n",
      "Epoch: 33/100 Train loss: 0.938778 Valid loss: 0.924865 Train acc: 0.733681 Valid acc: 0.727108\n",
      "Epoch: 34/100 Train loss: 0.907771 Valid loss: 0.893102 Train acc: 0.745240 Valid acc: 0.749320\n",
      "Epoch: 35/100 Train loss: 0.877985 Valid loss: 0.868109 Train acc: 0.756346 Valid acc: 0.759293\n",
      "Epoch: 36/100 Train loss: 0.850032 Valid loss: 0.842136 Train acc: 0.766319 Valid acc: 0.768812\n",
      "Epoch: 37/100 Train loss: 0.823710 Valid loss: 0.816816 Train acc: 0.772665 Valid acc: 0.775612\n",
      "Epoch: 38/100 Train loss: 0.798171 Valid loss: 0.792607 Train acc: 0.774025 Valid acc: 0.772439\n",
      "Epoch: 39/100 Train loss: 0.772702 Valid loss: 0.769034 Train acc: 0.775612 Valid acc: 0.772439\n",
      "Epoch: 40/100 Train loss: 0.749808 Valid loss: 0.748548 Train acc: 0.779012 Valid acc: 0.772892\n",
      "Epoch: 41/100 Train loss: 0.729694 Valid loss: 0.731954 Train acc: 0.780825 Valid acc: 0.769719\n",
      "Epoch: 42/100 Train loss: 0.711834 Valid loss: 0.716032 Train acc: 0.783545 Valid acc: 0.775159\n",
      "Epoch: 43/100 Train loss: 0.693854 Valid loss: 0.693842 Train acc: 0.785811 Valid acc: 0.780598\n",
      "Epoch: 44/100 Train loss: 0.675580 Valid loss: 0.674298 Train acc: 0.786038 Valid acc: 0.783772\n",
      "Epoch: 45/100 Train loss: 0.657990 Valid loss: 0.656700 Train acc: 0.787625 Valid acc: 0.783318\n",
      "Epoch: 46/100 Train loss: 0.645397 Valid loss: 0.649641 Train acc: 0.788531 Valid acc: 0.771985\n",
      "Epoch: 47/100 Train loss: 0.639315 Valid loss: 0.634319 Train acc: 0.782412 Valid acc: 0.782865\n",
      "Epoch: 48/100 Train loss: 0.621796 Valid loss: 0.620644 Train acc: 0.789438 Valid acc: 0.787398\n",
      "Epoch: 49/100 Train loss: 0.603535 Valid loss: 0.607953 Train acc: 0.793971 Valid acc: 0.799637\n",
      "Epoch: 50/100 Train loss: 0.588995 Valid loss: 0.597036 Train acc: 0.804850 Valid acc: 0.806890\n",
      "Epoch: 51/100 Train loss: 0.578750 Valid loss: 0.584118 Train acc: 0.809837 Valid acc: 0.810063\n",
      "Epoch: 52/100 Train loss: 0.567135 Valid loss: 0.576210 Train acc: 0.815730 Valid acc: 0.813237\n",
      "Epoch: 53/100 Train loss: 0.556230 Valid loss: 0.565063 Train acc: 0.820716 Valid acc: 0.820036\n",
      "Epoch: 54/100 Train loss: 0.546310 Valid loss: 0.555094 Train acc: 0.823663 Valid acc: 0.824116\n",
      "Epoch: 55/100 Train loss: 0.537480 Valid loss: 0.546693 Train acc: 0.828422 Valid acc: 0.825023\n",
      "Epoch: 56/100 Train loss: 0.528803 Valid loss: 0.539409 Train acc: 0.831142 Valid acc: 0.829102\n",
      "Epoch: 57/100 Train loss: 0.520286 Valid loss: 0.529644 Train acc: 0.832502 Valid acc: 0.829102\n",
      "Epoch: 58/100 Train loss: 0.513248 Valid loss: 0.521721 Train acc: 0.836129 Valid acc: 0.829102\n",
      "Epoch: 59/100 Train loss: 0.504378 Valid loss: 0.515067 Train acc: 0.837715 Valid acc: 0.831822\n",
      "Epoch: 60/100 Train loss: 0.497928 Valid loss: 0.510502 Train acc: 0.841568 Valid acc: 0.832729\n",
      "Epoch: 61/100 Train loss: 0.491646 Valid loss: 0.504204 Train acc: 0.841568 Valid acc: 0.839529\n",
      "Epoch: 62/100 Train loss: 0.484103 Valid loss: 0.499671 Train acc: 0.843835 Valid acc: 0.839529\n",
      "Epoch: 63/100 Train loss: 0.478581 Valid loss: 0.493248 Train acc: 0.845875 Valid acc: 0.836809\n",
      "Epoch: 64/100 Train loss: 0.473095 Valid loss: 0.490654 Train acc: 0.847008 Valid acc: 0.843155\n",
      "Epoch: 65/100 Train loss: 0.466555 Valid loss: 0.486936 Train acc: 0.850408 Valid acc: 0.844062\n",
      "Epoch: 66/100 Train loss: 0.461316 Valid loss: 0.480730 Train acc: 0.852674 Valid acc: 0.844968\n",
      "Epoch: 67/100 Train loss: 0.454981 Valid loss: 0.474863 Train acc: 0.853355 Valid acc: 0.846781\n",
      "Epoch: 68/100 Train loss: 0.448867 Valid loss: 0.469711 Train acc: 0.855621 Valid acc: 0.847688\n",
      "Epoch: 69/100 Train loss: 0.443381 Valid loss: 0.464770 Train acc: 0.856981 Valid acc: 0.847235\n",
      "Epoch: 70/100 Train loss: 0.438158 Valid loss: 0.461530 Train acc: 0.858341 Valid acc: 0.848141\n",
      "Epoch: 71/100 Train loss: 0.433228 Valid loss: 0.457747 Train acc: 0.859701 Valid acc: 0.849955\n",
      "Epoch: 72/100 Train loss: 0.428085 Valid loss: 0.452768 Train acc: 0.861061 Valid acc: 0.849955\n",
      "Epoch: 73/100 Train loss: 0.423015 Valid loss: 0.447428 Train acc: 0.863327 Valid acc: 0.851315\n",
      "Epoch: 74/100 Train loss: 0.417761 Valid loss: 0.443776 Train acc: 0.866954 Valid acc: 0.853581\n",
      "Epoch: 75/100 Train loss: 0.411731 Valid loss: 0.438984 Train acc: 0.868540 Valid acc: 0.851768\n",
      "Epoch: 76/100 Train loss: 0.407515 Valid loss: 0.434235 Train acc: 0.870580 Valid acc: 0.856754\n",
      "Epoch: 77/100 Train loss: 0.403096 Valid loss: 0.429222 Train acc: 0.873073 Valid acc: 0.859927\n",
      "Epoch: 78/100 Train loss: 0.398362 Valid loss: 0.426070 Train acc: 0.874207 Valid acc: 0.862647\n",
      "Epoch: 79/100 Train loss: 0.393614 Valid loss: 0.422020 Train acc: 0.876247 Valid acc: 0.862194\n",
      "Epoch: 80/100 Train loss: 0.389344 Valid loss: 0.416947 Train acc: 0.876700 Valid acc: 0.863554\n",
      "Epoch: 81/100 Train loss: 0.385411 Valid loss: 0.414849 Train acc: 0.877607 Valid acc: 0.863101\n",
      "Epoch: 82/100 Train loss: 0.381551 Valid loss: 0.410950 Train acc: 0.878286 Valid acc: 0.862194\n",
      "Epoch: 83/100 Train loss: 0.377380 Valid loss: 0.406034 Train acc: 0.881006 Valid acc: 0.864461\n",
      "Epoch: 84/100 Train loss: 0.373745 Valid loss: 0.402135 Train acc: 0.881460 Valid acc: 0.866274\n",
      "Epoch: 85/100 Train loss: 0.369627 Valid loss: 0.398396 Train acc: 0.881913 Valid acc: 0.865367\n",
      "Epoch: 86/100 Train loss: 0.365883 Valid loss: 0.396612 Train acc: 0.883953 Valid acc: 0.867634\n",
      "Epoch: 87/100 Train loss: 0.363647 Valid loss: 0.393091 Train acc: 0.884179 Valid acc: 0.868087\n"
     ]
    },
    {
     "name": "stdout",
     "output_type": "stream",
     "text": [
      "Epoch: 88/100 Train loss: 0.360108 Valid loss: 0.390298 Train acc: 0.885539 Valid acc: 0.867634\n",
      "Epoch: 89/100 Train loss: 0.359729 Valid loss: 0.390701 Train acc: 0.886899 Valid acc: 0.866727\n",
      "Epoch: 90/100 Train loss: 0.357165 Valid loss: 0.385220 Train acc: 0.886899 Valid acc: 0.870354\n",
      "Epoch: 91/100 Train loss: 0.351973 Valid loss: 0.382313 Train acc: 0.890526 Valid acc: 0.870807\n",
      "Epoch: 92/100 Train loss: 0.350126 Valid loss: 0.378645 Train acc: 0.889619 Valid acc: 0.871260\n",
      "Epoch: 93/100 Train loss: 0.346118 Valid loss: 0.374188 Train acc: 0.891886 Valid acc: 0.873527\n",
      "Epoch: 94/100 Train loss: 0.343379 Valid loss: 0.371366 Train acc: 0.892112 Valid acc: 0.873073\n",
      "Epoch: 95/100 Train loss: 0.340213 Valid loss: 0.369799 Train acc: 0.893699 Valid acc: 0.876700\n",
      "Epoch: 96/100 Train loss: 0.336232 Valid loss: 0.366812 Train acc: 0.895739 Valid acc: 0.876247\n",
      "Epoch: 97/100 Train loss: 0.332290 Valid loss: 0.360677 Train acc: 0.895512 Valid acc: 0.878966\n",
      "Epoch: 98/100 Train loss: 0.328359 Valid loss: 0.355625 Train acc: 0.896192 Valid acc: 0.885313\n",
      "Epoch: 99/100 Train loss: 0.324781 Valid loss: 0.353611 Train acc: 0.897552 Valid acc: 0.884406\n",
      "Epoch: 100/100 Train loss: 0.321157 Valid loss: 0.348412 Train acc: 0.900272 Valid acc: 0.889846\n"
     ]
    }
   ],
   "source": [
    "train_acc, train_loss = [], []\n",
    "valid_acc, valid_loss = [], []\n",
    "\n",
    "# Save the training result or trained and validated model params\n",
    "saver = tf.train.Saver()\n",
    "\n",
    "with tf.Session() as sess:\n",
    "    sess.run(fetches=tf.global_variables_initializer())\n",
    "   \n",
    "    # Loop over epochs\n",
    "    epochs = 100\n",
    "    for epoch in range(epochs):\n",
    "        \n",
    "        # Loop over batches of training\n",
    "        state = sess.run(fetches=initial_state)\n",
    "        loss_batch, acc_batch = [], []\n",
    "        for Xarr, Yarr in get_batches(X=Xtrain, Y=Ytrain, batch_size=N):\n",
    "            \n",
    "            # Feed dictionary\n",
    "            feed_dict = {Xinput:Xarr, Ylabels:Yarr, initial_state:state}\n",
    "            lossarr, _ , state, accarr = sess.run(fetches=[loss, optimizer, final_state, accuracy], \n",
    "                                                  feed_dict=feed_dict)\n",
    "            loss_batch.append(lossarr)\n",
    "            acc_batch.append(accarr)\n",
    "            \n",
    "        # acc and loss for plotting\n",
    "        train_acc.append(np.mean(acc_batch))\n",
    "        train_loss.append(np.mean(loss_batch))\n",
    "\n",
    "        # Loop over batches of validation\n",
    "        state = sess.run(fetches=initial_state)\n",
    "        loss_batch, acc_batch = [], []\n",
    "        for Xarr, Yarr in get_batches(X=Xvalid, Y=Yvalid, batch_size=N):\n",
    "            \n",
    "            # Feed dictionary\n",
    "            feed_dict = {Xinput:Xarr, Ylabels:Yarr, initial_state:state}\n",
    "            lossarr, state, accarr = sess.run(fetches=[loss, final_state, accuracy], feed_dict=feed_dict)\n",
    "            loss_batch.append(lossarr)\n",
    "            acc_batch.append(accarr)\n",
    "            \n",
    "        # acc and loss for plotting\n",
    "        valid_acc.append(np.mean(acc_batch))\n",
    "        valid_loss.append(np.mean(loss_batch))\n",
    "            \n",
    "        # Print info for every iter/epoch\n",
    "        print(\"Epoch: {}/{}\".format(epoch+1, epochs),\n",
    "              \"Train loss: {:6f}\".format(train_loss[epoch]),\n",
    "              \"Valid loss: {:.6f}\".format(valid_loss[epoch]),\n",
    "              \"Train acc: {:6f}\".format(train_acc[epoch]),\n",
    "              \"Valid acc: {:.6f}\".format(valid_acc[epoch]))\n",
    "                \n",
    "    saver.save(sess, 'checkpoints/lstm-imu-har.ckpt')"
   ]
  },
  {
   "cell_type": "code",
   "execution_count": 25,
   "metadata": {},
   "outputs": [
    {
     "data": {
      "image/png": "[encoded data removed]",
      "text/plain": [
       "<Figure size 432x288 with 1 Axes>"
      ]
     },
     "metadata": {},
     "output_type": "display_data"
    }
   ],
   "source": [
    "import matplotlib.pyplot as mplot\n",
    "%matplotlib inline\n",
    "\n",
    "mplot.plot(train_loss, label='train_loss')\n",
    "mplot.plot(valid_loss, label='valid_loss')\n",
    "mplot.legend()\n",
    "mplot.show()"
   ]
  },
  {
   "cell_type": "code",
   "execution_count": 26,
   "metadata": {},
   "outputs": [
    {
     "data": {
      "image/png": "[encoded data removed]",
      "text/plain": [
       "<Figure size 432x288 with 1 Axes>"
      ]
     },
     "metadata": {},
     "output_type": "display_data"
    }
   ],
   "source": [
    "# import matplotlib.pyplot as mplot\n",
    "mplot.plot(train_acc, label='train_acc')\n",
    "mplot.plot(valid_acc, label='valid_acc')\n",
    "mplot.legend()\n",
    "mplot.show()"
   ]
  },
  {
   "cell_type": "code",
   "execution_count": 27,
   "metadata": {},
   "outputs": [
    {
     "name": "stdout",
     "output_type": "stream",
     "text": [
      "INFO:tensorflow:Restoring parameters from checkpoints/lstm-imu-har.ckpt\n",
      "Test loss: 0.485884 Test acc: 0.813237\n"
     ]
    }
   ],
   "source": [
    "with tf.Session() as sess:\n",
    "    # Restore the validated model\n",
    "    #saver.restore(sess, tf.train.latest_checkpoint('checkpoints'))\n",
    "    saver.restore(sess=sess, save_path='checkpoints/lstm-imu-har.ckpt')\n",
    "    \n",
    "    # Loop over batches of Test\n",
    "    state = sess.run(fetches=initial_state)\n",
    "    loss_batch, acc_batch = [], []\n",
    "    for Xarr, Yarr in get_batches(X=Xtest, Y=Ytest, batch_size=N):\n",
    "\n",
    "        # Feed dictionary\n",
    "        feed_dict = {Xinput:Xarr, Ylabels:Yarr, initial_state:state}\n",
    "        lossarr, state, accarr = sess.run(fetches=[loss, final_state, accuracy], feed_dict=feed_dict)\n",
    "        loss_batch.append(lossarr)\n",
    "        acc_batch.append(accarr)\n",
    "\n",
    "    # Print info for every iter/epoch\n",
    "    print(\"Test loss: {:6f}\".format(np.mean(loss_batch)),\n",
    "          \"Test acc: {:.6f}\".format(np.mean(acc_batch)))"
   ]
  },
  {
   "cell_type": "code",
   "execution_count": null,
   "metadata": {},
   "outputs": [],
   "source": []
  }
 ],
 "metadata": {
  "kernelspec": {
   "display_name": "Python 3",
   "language": "python",
   "name": "python3"
  },
  "language_info": {
   "codemirror_mode": {
    "name": "ipython",
    "version": 3
   },
   "file_extension": ".py",
   "mimetype": "text/x-python",
   "name": "python",
   "nbconvert_exporter": "python",
   "pygments_lexer": "ipython3",
   "version": "3.6.5"
  },
  "widgets": {
   "state": {},
   "version": "1.1.2"
  }
 },
 "nbformat": 4,
 "nbformat_minor": 2
}
