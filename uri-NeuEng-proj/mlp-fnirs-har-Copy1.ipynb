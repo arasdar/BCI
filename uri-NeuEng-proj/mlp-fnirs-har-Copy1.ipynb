{
 "cells": [
  {
   "cell_type": "markdown",
   "metadata": {},
   "source": [
    "# HAR (human activity recognition) using DNN/DL on fNIRS data"
   ]
  },
  {
   "cell_type": "code",
   "execution_count": 1,
   "metadata": {},
   "outputs": [
    {
     "name": "stdout",
     "output_type": "stream",
     "text": [
      "\u001b[0m\u001b[01;34mP11-4-17-2018\u001b[0m/  \u001b[01;34mP13-4-17-2018\u001b[0m/  \u001b[01;34mP15-4-18-2018\u001b[0m/  \u001b[01;34mP17-4-18-2018\u001b[0m/  \u001b[01;34mP19-4-19-2018\u001b[0m/\r\n",
      "\u001b[01;34mP12-4-17-2018\u001b[0m/  \u001b[01;34mP14-4-18-2018\u001b[0m/  \u001b[01;34mP16-4-18-2018\u001b[0m/  \u001b[01;34mP18-4-19-2018\u001b[0m/  \u001b[01;34mP20-4-19-2018\u001b[0m/\r\n"
     ]
    }
   ],
   "source": [
    "% ls /home/arasdar/datasets/fNIRs-data-10subjects/"
   ]
  },
  {
   "cell_type": "code",
   "execution_count": 2,
   "metadata": {},
   "outputs": [
    {
     "name": "stdout",
     "output_type": "stream",
     "text": [
      "\u001b[0m\u001b[01;34m1. Right Hand\u001b[0m/  \u001b[01;34m2. Both Hands\u001b[0m/  \u001b[01;34m3. Left Hand\u001b[0m/  \u001b[01;34m4. Right Leg\u001b[0m/  \u001b[01;34m5. Left Leg\u001b[0m/\r\n"
     ]
    }
   ],
   "source": [
    "% ls /home/arasdar/datasets/fNIRs-data-10subjects/P12-4-17-2018/"
   ]
  },
  {
   "cell_type": "code",
   "execution_count": 3,
   "metadata": {},
   "outputs": [
    {
     "name": "stdout",
     "output_type": "stream",
     "text": [
      "\u001b[0m\u001b[01;34m2018-04-17_006\u001b[0m/\r\n",
      "fNIR_data.txt\r\n",
      "head20180417-145130.txt\r\n",
      "NIRS-2018-04-17_006_deoxyhb_T141to2511_C1to20.txt\r\n",
      "NIRS-2018-04-17_006_oxyhb_T141to2511_C1to20.txt\r\n",
      "\u001b[01;34mProcessed\u001b[0m/\r\n",
      "r_hand20180417-145128.txt\r\n",
      "r_lower_arm20180417-145129.txt\r\n",
      "r_upper_arm20180417-145129.txt\r\n"
     ]
    }
   ],
   "source": [
    "% ls /home/arasdar/datasets/fNIRs-data-10subjects/P12-4-17-2018/1.\\ Right\\ Hand"
   ]
  },
  {
   "cell_type": "code",
   "execution_count": 4,
   "metadata": {},
   "outputs": [],
   "source": [
    "import numpy as np\n",
    "import os\n",
    "import pandas as pd\n",
    "\n",
    "# % find ../../datasets/fNIRs_data/ | grep fNIR_data # NOT WORKING!!\n",
    "def find_all(name, path):\n",
    "    result = []\n",
    "    for root, dirs, files in os.walk(path):\n",
    "        if name in files:\n",
    "            result.append(os.path.join(root, name))\n",
    "    return result\n",
    "\n",
    "allpaths = find_all(name='fNIR_data.txt', path='/home/arasdar/datasets/fNIRs-data-10subjects/')\n",
    "allpaths = sorted(allpaths, reverse=False)\n",
    "# print(allpaths, len(allpaths))\n",
    "# allpaths, len(allpaths)"
   ]
  },
  {
   "cell_type": "code",
   "execution_count": 5,
   "metadata": {},
   "outputs": [
    {
     "name": "stderr",
     "output_type": "stream",
     "text": [
      "/home/arasdar/anaconda3/envs/env/lib/python3.6/site-packages/pandas/io/parsers.py:678: UserWarning: Duplicate names specified. This will raise an error in the future.\n",
      "  return _read(filepath_or_buffer, kwds)\n"
     ]
    }
   ],
   "source": [
    "# df: data frame object\n",
    "df = []\n",
    "for each_idx in range(len(allpaths)):\n",
    "    file = pd.read_csv(filepath_or_buffer=allpaths[each_idx], names=['time', 'sample', \n",
    "                       'channel', 'channel', 'channel', 'channel', 'channel',\n",
    "                       'channel', 'channel', 'channel', 'channel', 'channel',\n",
    "                       'channel', 'channel', 'channel', 'channel', 'channel',\n",
    "                       'channel', 'channel', 'channel', 'channel', 'channel',\n",
    "                       'channel', 'channel', 'channel', 'channel', 'channel',\n",
    "                       'channel', 'channel', 'channel', 'channel', 'channel',\n",
    "                       'channel', 'channel', 'channel', 'channel', 'channel',\n",
    "                       'channel', 'channel', 'channel', 'channel', 'channel'],\n",
    "                         header=None)\n",
    "    df.append(file)\n",
    "    \n",
    "for each in range(len(df)):\n",
    "#     print(df[each].shape, allpaths[each])\n",
    "    df[each]=df[each].drop(axis=1, columns=None, index=None, labels=['time', 'sample'])\n",
    "    df[each] = df[each].dropna()\n",
    "    df[each]['channel.39'] = df[each]['channel.39'].astype(str).str[1:-1].astype(float)\n",
    "# print(len(df))"
   ]
  },
  {
   "cell_type": "code",
   "execution_count": 6,
   "metadata": {},
   "outputs": [
    {
     "name": "stderr",
     "output_type": "stream",
     "text": [
      "/home/arasdar/anaconda3/envs/env/lib/python3.6/site-packages/ipykernel_launcher.py:3: FutureWarning: Method .as_matrix will be removed in a future version. Use .values instead.\n",
      "  This is separate from the ipykernel package so we can avoid doing imports until\n"
     ]
    },
    {
     "data": {
      "text/plain": [
       "(48, 48)"
      ]
     },
     "execution_count": 6,
     "metadata": {},
     "output_type": "execute_result"
    }
   ],
   "source": [
    "data, labels = [], []\n",
    "for each in range(0, len(df), 1):\n",
    "    dfmat = df[each].as_matrix()\n",
    "    label = allpaths[each][59:60]\n",
    "#     print(dfmat.dtype, dfmat.shape, label, allpaths[each])\n",
    "    data.append(dfmat)\n",
    "    labels.append(label)\n",
    "len(data), len(labels)"
   ]
  },
  {
   "cell_type": "code",
   "execution_count": 7,
   "metadata": {},
   "outputs": [],
   "source": [
    "# This is very much like a convolution for extracting the windows\n",
    "# size/width, stride/overlap, padding, dilation, num filters/out channel\n",
    "def minibatching(X, Y, stride, width):\n",
    "    Xmb, Ymb = [], []\n",
    "    print(len(X), len(Y))\n",
    "    # 1st and 1st\n",
    "    for eachX in range(len(X)):\n",
    "        num_mb = ((X[eachX].shape[0]-width)//stride)+1\n",
    "        for each in range(num_mb):\n",
    "            # The max is (num_mb-1)*stride+width==X[idx].shape[0]\n",
    "            # The last each is (num_mb-1)\n",
    "            # each = ((each-1)*stride)+width\n",
    "            each *= stride\n",
    "            Xmb.append(X[eachX][each:each+width])\n",
    "            # There is only one label for one image signal or signal window or temporal window\n",
    "            #Ymb.append(Y[eachX][each:each+1])\n",
    "            Ymb.append(Y[eachX])\n",
    "    return Xmb, Ymb"
   ]
  },
  {
   "cell_type": "code",
   "execution_count": 8,
   "metadata": {},
   "outputs": [
    {
     "name": "stdout",
     "output_type": "stream",
     "text": [
      "48 48\n",
      "69615 69615\n",
      "(250, 40) float64\n",
      "1\n"
     ]
    }
   ],
   "source": [
    "# Width is based on the sampling rate which is roughly about 233 points per window\n",
    "# for 10sec rest and 20 sec activity\n",
    "width = 250\n",
    "Xmb, Ymb = minibatching(X=data, Y=labels, stride=1, width=width)\n",
    "# for eachX, eachY in zip(Xmb, Ymb):\n",
    "#     print(eachX.shape, eachY)\n",
    "print(len(Xmb), len(Ymb))\n",
    "print(Xmb[0].shape, Xmb[0].dtype)\n",
    "print(Ymb[0])"
   ]
  },
  {
   "cell_type": "code",
   "execution_count": 9,
   "metadata": {},
   "outputs": [
    {
     "name": "stdout",
     "output_type": "stream",
     "text": [
      "(69615, 250, 40) float64 (69615,) int64\n"
     ]
    }
   ],
   "source": [
    "# Conversion from python list to numpy array\n",
    "X, Y=np.array(object=Xmb, dtype=float), np.array(object=Ymb, dtype=int)\n",
    "print(X.shape, X.dtype, Y.shape, Y.dtype)"
   ]
  },
  {
   "cell_type": "code",
   "execution_count": 10,
   "metadata": {},
   "outputs": [
    {
     "name": "stdout",
     "output_type": "stream",
     "text": [
      "(48730, 250, 40) (20885, 250, 40) (48730,) (20885,)\n",
      "float64 float64 int64 int64\n"
     ]
    }
   ],
   "source": [
    "# Now I should devide the data into train and test\n",
    "# Train and valid split\n",
    "from sklearn.model_selection import train_test_split\n",
    "\n",
    "# 30% of the training data/ entire training data is assigned to validation.\n",
    "Xtrain, Xtest, Ytrain, Ytest = train_test_split(X, Y, test_size=0.30)\n",
    "print(Xtrain.shape, Xtest.shape, Ytrain.shape, Ytest.shape)\n",
    "print(Xtrain.dtype, Xtest.dtype, Ytrain.dtype, Ytest.dtype)"
   ]
  },
  {
   "cell_type": "code",
   "execution_count": 11,
   "metadata": {},
   "outputs": [],
   "source": [
    "# # # standardizing/normalizing the train and test data\n",
    "# # def standardize(train, test):\n",
    "# # \"\"\" Standardize data \"\"\"\n",
    "# # # Standardize train and test\n",
    "# # X_train = (train - np.mean(train, axis=0)[None,:,:]) / np.std(train, axis=0)[None,:,:]\n",
    "# # X_test = (test - np.mean(test, axis=0)[None,:,:]) / np.std(test, axis=0)[None,:,:]\n",
    "# # return X_train, X_test\n",
    "\n",
    "# Xtrain = (Xtrain - Xtrain.mean(axis=0))/ Xtrain.std(axis=0)\n",
    "# Xtest = (Xtest - Xtest.mean(axis=0))/ Xtest.std(axis=0)\n",
    "# print(Xtrain.shape, Xtrain.dtype)\n",
    "# print(Xtest.shape, Xtest.dtype)"
   ]
  },
  {
   "cell_type": "code",
   "execution_count": 12,
   "metadata": {},
   "outputs": [
    {
     "name": "stdout",
     "output_type": "stream",
     "text": [
      "[[0.23621854 0.20601384 0.1843017  ... 0.45887123 0.52806866 0.49556867]\n",
      " [0.23625839 0.2060094  0.18432717 ... 0.45886726 0.52803778 0.49559711]\n",
      " [0.23621998 0.20597191 0.18431688 ... 0.45883827 0.52802435 0.49559644]\n",
      " ...\n",
      " [0.23619946 0.20652842 0.18478808 ... 0.45974868 0.5292913  0.49831844]\n",
      " [0.23621233 0.20653006 0.18479174 ... 0.45974947 0.52929703 0.49832119]\n",
      " [0.23619211 0.206543   0.18475073 ... 0.45975575 0.52929437 0.49833519]] [[0.192805   0.16629505 0.22109743 ... 0.42311096 0.33017436 0.39424578]\n",
      " [0.19274775 0.16627399 0.22108407 ... 0.42309226 0.33012026 0.3942769 ]\n",
      " [0.19274682 0.16626282 0.22110753 ... 0.42310254 0.3300921  0.39430445]\n",
      " ...\n",
      " [0.19346969 0.16640074 0.2217434  ... 0.42251723 0.33171932 0.39756967]\n",
      " [0.1935026  0.1664101  0.22175149 ... 0.42250925 0.33179427 0.39760304]\n",
      " [0.19346155 0.16641578 0.22171777 ... 0.42252214 0.33182872 0.39760801]]\n"
     ]
    }
   ],
   "source": [
    "print(Xtrain.mean(axis=0), Xtrain.std(axis=0))"
   ]
  },
  {
   "cell_type": "code",
   "execution_count": 13,
   "metadata": {},
   "outputs": [
    {
     "name": "stdout",
     "output_type": "stream",
     "text": [
      "[[0.23608255 0.20537488 0.18489401 ... 0.46177482 0.5275497  0.49472729]\n",
      " [0.23598828 0.20539101 0.18484384 ... 0.46179961 0.52762541 0.49469412]\n",
      " [0.23607512 0.20548572 0.18487648 ... 0.46188431 0.52765412 0.49473292]\n",
      " ...\n",
      " [0.2359635  0.20597885 0.18535122 ... 0.46281626 0.52871887 0.4975987 ]\n",
      " [0.23593548 0.20598017 0.18535263 ... 0.46281854 0.52872192 0.49759726]\n",
      " [0.23599022 0.20595786 0.18545367 ... 0.46281388 0.52873704 0.49756903]] [[0.19342506 0.16664461 0.22300308 ... 0.42585967 0.32715601 0.39467265]\n",
      " [0.19356382 0.16668414 0.22304442 ... 0.42590843 0.32728587 0.39466369]\n",
      " [0.19356779 0.16670503 0.22299861 ... 0.42588101 0.32734507 0.39466585]\n",
      " ...\n",
      " [0.19410932 0.166856   0.22377384 ... 0.42550073 0.3288874  0.39826775]\n",
      " [0.19403175 0.16683891 0.22375368 ... 0.42552029 0.32874276 0.39820082]\n",
      " [0.19413549 0.16683693 0.22384089 ... 0.42549432 0.32869038 0.3982001 ]]\n"
     ]
    }
   ],
   "source": [
    "print(Xtest.mean(axis=0), Xtest.std(axis=0))"
   ]
  },
  {
   "cell_type": "code",
   "execution_count": 14,
   "metadata": {},
   "outputs": [
    {
     "name": "stdout",
     "output_type": "stream",
     "text": [
      "(34111, 250, 40) (14619, 250, 40) (20885, 250, 40) float64 float64 float64\n",
      "(34111,) (14619,) (20885,) int64 int64 int64\n"
     ]
    }
   ],
   "source": [
    "# Now separating train and validation set\n",
    "# 30% of the training data/ entire training data is assigned to validation.\n",
    "Xtrain, Xvalid, Ytrain, Yvalid = train_test_split(Xtrain, Ytrain, test_size=0.30)\n",
    "print(Xtrain.shape, Xvalid.shape, Xtest.shape, Xtrain.dtype, Xvalid.dtype, Xtest.dtype)\n",
    "print(Ytrain.shape, Yvalid.shape, Ytest.shape, Ytrain.dtype, Yvalid.dtype, Ytest.dtype)"
   ]
  },
  {
   "cell_type": "code",
   "execution_count": 15,
   "metadata": {},
   "outputs": [
    {
     "name": "stdout",
     "output_type": "stream",
     "text": [
      "TensorFlow Version: 1.8.0\n",
      "Default GPU Device: /device:GPU:0\n"
     ]
    }
   ],
   "source": [
    "# In this one we should define and detect GPUs for tensorflow\n",
    "# GPUs or CPU\n",
    "import tensorflow as tf\n",
    "\n",
    "# Check TensorFlow Version\n",
    "print('TensorFlow Version: {}'.format(tf.__version__))\n",
    "\n",
    "# Check for a GPU\n",
    "print('Default GPU Device: {}'.format(tf.test.gpu_device_name()))"
   ]
  },
  {
   "cell_type": "code",
   "execution_count": 16,
   "metadata": {},
   "outputs": [],
   "source": [
    "def model_input(input_size, output_size):\n",
    "    #     N, W, Cin = Xvalid.shape[0], Xvalid.shape[1], Xvalid.shape[2]\n",
    "    Xinputs = tf.placeholder(dtype=tf.float32, shape=[None, *input_size], name='Xinputs')\n",
    "    \n",
    "    #     N, Cout = Yvalid.shape[0], Yvalid.shape[1]\n",
    "    Yindices = tf.placeholder(dtype=tf.int32, shape=[None], name='Yindices')\n",
    "    \n",
    "    # Batchnorm mode: training and inference/testing/validation\n",
    "    #is_bn_training = tf.placeholder(dtype=tf.bool, shape=[], name='is_bn_training')\n",
    "    training = tf.placeholder(dtype=tf.bool, shape=[], name='training')\n",
    "\n",
    "    # returning input data/sequences, output labels/classes\n",
    "    return Xinputs, Yindices, training"
   ]
  },
  {
   "cell_type": "code",
   "execution_count": 17,
   "metadata": {},
   "outputs": [],
   "source": [
    "# Discriminator/ classifier/ recognizer\n",
    "def discriminator(Xinputs, input_size, output_size, hidden_size, training=True, reuse=False, alpha=0.1):\n",
    "    with tf.variable_scope('discriminator', reuse=reuse):\n",
    "        \n",
    "        # Flatten/Vectorize the input data tensor for FC/fully connected layer/Dense Layer\n",
    "        Xinputs_vec = tf.reshape(tensor=Xinputs, shape=[-1, input_size[0]*input_size[1]])\n",
    "        \n",
    "        # First fully connected layer\n",
    "        h1 = tf.layers.dense(inputs=Xinputs_vec, units=hidden_size)\n",
    "        bn1 = tf.layers.batch_normalization(h1, training=training)\n",
    "        nl1 = tf.maximum(alpha * bn1, bn1)\n",
    "        \n",
    "        # Second fully connected layer\n",
    "        h2 = tf.layers.dense(inputs=nl1, units=hidden_size)\n",
    "        bn2 = tf.layers.batch_normalization(h2, training=training)\n",
    "        nl2 = tf.maximum(alpha * bn2, bn2)\n",
    "        \n",
    "        # Output layer\n",
    "        logits = tf.layers.dense(inputs=nl2, units=output_size)   \n",
    "        #predictions = tf.nn.softmax(logits)\n",
    "        \n",
    "        # return output logits for loss and accuracy\n",
    "        return logits"
   ]
  },
  {
   "cell_type": "code",
   "execution_count": 18,
   "metadata": {},
   "outputs": [],
   "source": [
    "# # Discriminator/ classifier/ recognizer\n",
    "# def discriminator(Xinputs, input_size, output_size, hidden_size, reuse=False, alpha=0.1, training=True):\n",
    "#     with tf.variable_scope('discriminator', reuse=reuse):\n",
    "        \n",
    "#         # Flatten/Vectorize the input data tensor for FC/fully connected layer/Dense Layer\n",
    "#         Xinputs_vec = tf.reshape(tensor=Xinputs, shape=[-1, input_size[0]*input_size[1]])\n",
    "        \n",
    "#         # First fully connected layer\n",
    "#         h1 = tf.layers.dense(inputs=Xinputs_vec, units=hidden_size)\n",
    "#         nl1 = tf.maximum(alpha * h1, h1)\n",
    "        \n",
    "#         # Second fully connected layer\n",
    "#         h2 = tf.layers.dense(inputs=nl1, units=hidden_size)\n",
    "#         nl2 = tf.maximum(alpha * h2, h2)\n",
    "        \n",
    "#         # Output layer\n",
    "#         logits = tf.layers.dense(inputs=nl2, units=output_size)   \n",
    "#         #predictions = tf.nn.softmax(logits)\n",
    "        \n",
    "#         # return output logits for loss and accuracy\n",
    "#         return logits"
   ]
  },
  {
   "cell_type": "code",
   "execution_count": 19,
   "metadata": {},
   "outputs": [],
   "source": [
    "# This is the forward propagation of the model to calculate the loss.\n",
    "def model_loss(Xinputs, Yindices, input_size, output_size, hidden_size, training=True):\n",
    "    Ylogits = discriminator(Xinputs=Xinputs, input_size=input_size, output_size=output_size, training=training, \n",
    "                            hidden_size=hidden_size)\n",
    "    Ylabels = tf.one_hot(indices=Yindices, depth=output_size, dtype=Ylogits.dtype)\n",
    "    \n",
    "    loss = tf.reduce_mean(tf.nn.softmax_cross_entropy_with_logits_v2(logits=Ylogits, labels=Ylabels))\n",
    "    \n",
    "    acc_tensor = tf.equal(x=tf.argmax(axis=1, input=Ylogits), y=tf.argmax(axis=1, input=Ylabels))\n",
    "    acc = tf.reduce_mean(axis=0, input_tensor=tf.cast(dtype=tf.float32, x=acc_tensor))\n",
    "\n",
    "    return loss, acc"
   ]
  },
  {
   "cell_type": "code",
   "execution_count": 20,
   "metadata": {},
   "outputs": [],
   "source": [
    "# def model_opt(loss, learning_rate):\n",
    "#     \"\"\"\n",
    "#     Get optimization operations in order\n",
    "#     :param loss: Discriminator/classifier loss Tensor\n",
    "#     :param learning_rate: Learning Rate Placeholder\n",
    "#     :return: A tuple of (discriminator training)\n",
    "#     \"\"\"\n",
    "#     # Get weights and bias to update\n",
    "#     t_vars = tf.trainable_variables()\n",
    "#     # q_vars = [var for var in t_vars if var.name.startswith('qfunction')] # Q: action At/at\n",
    "#     # g_vars = [var for var in t_vars if var.name.startswith('generator')] # G: next state St/st\n",
    "#     # d_vars = [var for var in t_vars if var.name.startswith('discriminator')] # D: reward Rt/rt\n",
    "#     var_list = [var for var in t_vars if var.name.startswith('discriminator')] # D: reward Rt/rt\n",
    "    \n",
    "#     # Optimize\n",
    "#     with tf.control_dependencies(tf.get_collection(tf.GraphKeys.UPDATE_OPS)):\n",
    "#         # q_opt = tf.train.AdamOptimizer(learning_rate).minimize(q_loss, var_list=q_vars)\n",
    "#         # g_opt = tf.train.AdamOptimizer(learning_rate).minimize(g_loss, var_list=g_vars)\n",
    "#         # d_opt = tf.train.AdamOptimizer(learning_rate).minimize(d_loss, var_list=d_vars)\n",
    "#         opt = tf.train.AdamOptimizer(learning_rate).minimize(loss, var_list=var_list)\n",
    "\n",
    "#     return opt"
   ]
  },
  {
   "cell_type": "code",
   "execution_count": 21,
   "metadata": {},
   "outputs": [],
   "source": [
    "class MLP:\n",
    "    def __init__(self, input_size, output_size, hidden_size, learning_rate):\n",
    "\n",
    "        # Data of the Model: make the data available inside the framework\n",
    "        self.Xinputs, self.Yindices, self.training = model_input(input_size=input_size, output_size=output_size)\n",
    "\n",
    "        # Create the Model: calculating the loss and forwad pass\n",
    "        self.loss, self.acc = model_loss(Xinputs=self.Xinputs, Yindices=self.Yindices, training=self.training,\n",
    "                                         input_size=input_size, output_size=output_size, hidden_size=hidden_size)\n",
    "\n",
    "        # Update the model: backward pass and backprop\n",
    "        #self.opt = model_opt(loss=self.loss, learning_rate=learning_rate)\n",
    "        self.opt = tf.train.AdamOptimizer(learning_rate).minimize(self.loss)"
   ]
  },
  {
   "cell_type": "code",
   "execution_count": 22,
   "metadata": {},
   "outputs": [],
   "source": [
    "def get_batches(X, Y, batch_size):\n",
    "    \"\"\" Return a generator for batches \"\"\"\n",
    "    n_batches = len(X) // batch_size\n",
    "    X, Y = X[:n_batches*batch_size], Y[:n_batches*batch_size]\n",
    "\n",
    "    # Loop over batches and yield\n",
    "    for b in range(0, len(X), batch_size):\n",
    "        yield X[b:b+batch_size], Y[b:b+batch_size]"
   ]
  },
  {
   "cell_type": "code",
   "execution_count": 23,
   "metadata": {},
   "outputs": [],
   "source": [
    "# Network Hyper-parameters\n",
    "\n",
    "# # Input\n",
    "# Xwidth, Xchannels = Xvalid.shape[1], Xvalid.shape[2]\n",
    "\n",
    "# Output layer\n",
    "assert Ytrain.max()==Ytest.max()==Yvalid.max(), 'Output classes'\n",
    "# Ychannels = Yvalid.max()\n",
    "\n",
    "# Hidden layer\n",
    "input_size = [Xvalid.shape[1], Xvalid.shape[2]]\n",
    "hidden_size = Xvalid.shape[1]* Xvalid.shape[2]\n",
    "output_size = Yvalid.max()\n",
    "\n",
    "# learning parameters\n",
    "batch_size = Xvalid.shape[0]//1 # experience mini-batch size\n",
    "train_epochs = 100               # max number of training episodes/epochs\n",
    "learning_rate = 0.001            # learning rate for training/optimization/adam"
   ]
  },
  {
   "cell_type": "code",
   "execution_count": 24,
   "metadata": {},
   "outputs": [
    {
     "name": "stdout",
     "output_type": "stream",
     "text": [
      "Yvalid.max(), Yvalid.min(): 5 1\n",
      "Yvalid.shape: (14619,)\n",
      "Xvalid.shape: (14619, 250, 40)\n"
     ]
    }
   ],
   "source": [
    "print('Yvalid.max(), Yvalid.min():', Yvalid.max(), Yvalid.min())\n",
    "print('Yvalid.shape:', Yvalid.shape)\n",
    "print('Xvalid.shape:', Xvalid.shape)"
   ]
  },
  {
   "cell_type": "code",
   "execution_count": 25,
   "metadata": {},
   "outputs": [],
   "source": [
    "tf.reset_default_graph()\n",
    "\n",
    "model = MLP(input_size=input_size, hidden_size=hidden_size, output_size=output_size, learning_rate=learning_rate)"
   ]
  },
  {
   "cell_type": "code",
   "execution_count": 31,
   "metadata": {},
   "outputs": [
    {
     "name": "stdout",
     "output_type": "stream",
     "text": [
      "INFO:tensorflow:Restoring parameters from checkpoints/mlp-fnirs-har.ckpt\n",
      "epoch: 1 train_loss: 0.61821336 train_acc: 0.694986\n",
      "epoch: 1 valid_loss: 0.87607557 valid_acc: 0.5962788\n",
      "epoch: 2 train_loss: 0.69836867 train_acc: 0.6678637\n",
      "epoch: 2 valid_loss: 0.6938511 valid_acc: 0.704631\n",
      "epoch: 3 train_loss: 0.6281296 train_acc: 0.70244205\n",
      "epoch: 3 valid_loss: 0.79080135 valid_acc: 0.6861618\n",
      "epoch: 4 train_loss: 0.7664058 train_acc: 0.71786714\n",
      "epoch: 4 valid_loss: 0.59927696 valid_acc: 0.70428896\n",
      "epoch: 5 train_loss: 0.57235897 train_acc: 0.7174909\n",
      "epoch: 5 valid_loss: 0.51930386 valid_acc: 0.7804911\n",
      "epoch: 6 train_loss: 0.4544837 train_acc: 0.77440315\n",
      "epoch: 6 valid_loss: 0.81854767 valid_acc: 0.65613246\n",
      "epoch: 7 train_loss: 0.53693306 train_acc: 0.6935495\n",
      "epoch: 7 valid_loss: 1.1631262 valid_acc: 0.6593474\n",
      "epoch: 8 train_loss: 1.0461464 train_acc: 0.6834599\n",
      "epoch: 8 valid_loss: 0.9587045 valid_acc: 0.6608523\n",
      "epoch: 9 train_loss: 1.0489752 train_acc: 0.7084616\n",
      "epoch: 9 valid_loss: 1.1410402 valid_acc: 0.64340925\n",
      "epoch: 10 train_loss: 0.8946854 train_acc: 0.6768589\n",
      "epoch: 10 valid_loss: 0.65336114 valid_acc: 0.72973526\n",
      "epoch: 11 train_loss: 0.7523345 train_acc: 0.7158835\n",
      "epoch: 11 valid_loss: 0.52995807 valid_acc: 0.71427596\n",
      "epoch: 12 train_loss: 0.45255703 train_acc: 0.7186538\n",
      "epoch: 12 valid_loss: 0.6759814 valid_acc: 0.70292085\n",
      "epoch: 13 train_loss: 0.8421577 train_acc: 0.7068883\n",
      "epoch: 13 valid_loss: 0.5533868 valid_acc: 0.68794036\n",
      "epoch: 14 train_loss: 0.6588008 train_acc: 0.7269991\n",
      "epoch: 14 valid_loss: 0.63595 valid_acc: 0.74225324\n",
      "epoch: 15 train_loss: 0.5134319 train_acc: 0.70808536\n",
      "epoch: 15 valid_loss: 1.0506501 valid_acc: 0.70777756\n",
      "epoch: 16 train_loss: 0.88119376 train_acc: 0.7091799\n",
      "epoch: 16 valid_loss: 0.4047572 valid_acc: 0.71263427\n",
      "epoch: 17 train_loss: 1.0588902 train_acc: 0.6786374\n",
      "epoch: 17 valid_loss: 0.76121706 valid_acc: 0.67439634\n",
      "epoch: 18 train_loss: 0.79971015 train_acc: 0.6904713\n",
      "epoch: 18 valid_loss: 0.51465267 valid_acc: 0.7237841\n",
      "epoch: 19 train_loss: 0.5422505 train_acc: 0.74273205\n",
      "epoch: 19 valid_loss: 0.7870558 valid_acc: 0.70271564\n",
      "epoch: 20 train_loss: 0.61370385 train_acc: 0.712258\n",
      "epoch: 20 valid_loss: 0.6165767 valid_acc: 0.73739654\n",
      "epoch: 21 train_loss: 0.7843427 train_acc: 0.67908204\n",
      "epoch: 21 valid_loss: 0.9517942 valid_acc: 0.655722\n",
      "epoch: 22 train_loss: 0.7038997 train_acc: 0.7052124\n",
      "epoch: 22 valid_loss: 0.45102105 valid_acc: 0.7433477\n",
      "epoch: 23 train_loss: 0.61104494 train_acc: 0.7341131\n",
      "epoch: 23 valid_loss: 0.6232215 valid_acc: 0.69594365\n",
      "epoch: 24 train_loss: 0.61137396 train_acc: 0.6801765\n",
      "epoch: 24 valid_loss: 0.58658063 valid_acc: 0.69478077\n",
      "epoch: 25 train_loss: 0.57515794 train_acc: 0.7019632\n",
      "epoch: 25 valid_loss: 0.6279691 valid_acc: 0.6966961\n",
      "epoch: 26 train_loss: 0.50351554 train_acc: 0.73455775\n",
      "epoch: 26 valid_loss: 0.507087 valid_acc: 0.72542584\n",
      "epoch: 27 train_loss: 0.49159572 train_acc: 0.7487174\n",
      "epoch: 27 valid_loss: 0.9801541 valid_acc: 0.734934\n",
      "epoch: 28 train_loss: 0.8555821 train_acc: 0.72026134\n",
      "epoch: 28 valid_loss: 0.52283776 valid_acc: 0.718517\n",
      "epoch: 29 train_loss: 0.47458282 train_acc: 0.7308297\n",
      "epoch: 29 valid_loss: 0.374657 valid_acc: 0.7251522\n",
      "epoch: 30 train_loss: 0.35500193 train_acc: 0.7480334\n",
      "epoch: 30 valid_loss: 0.5496765 valid_acc: 0.71461797\n",
      "epoch: 31 train_loss: 0.4901858 train_acc: 0.7494699\n",
      "epoch: 31 valid_loss: 0.46298227 valid_acc: 0.7986866\n",
      "epoch: 32 train_loss: 0.4429751 train_acc: 0.77936244\n",
      "epoch: 32 valid_loss: 0.57537234 valid_acc: 0.6838361\n",
      "epoch: 33 train_loss: 0.59710974 train_acc: 0.7168069\n",
      "epoch: 33 valid_loss: 0.37521797 valid_acc: 0.7603119\n",
      "epoch: 34 train_loss: 0.3510009 train_acc: 0.7585334\n",
      "epoch: 34 valid_loss: 0.56700444 valid_acc: 0.72891444\n",
      "epoch: 35 train_loss: 0.5217266 train_acc: 0.7236815\n",
      "epoch: 35 valid_loss: 0.6013916 valid_acc: 0.7382174\n",
      "epoch: 36 train_loss: 0.53014326 train_acc: 0.73390794\n",
      "epoch: 36 valid_loss: 0.26763344 valid_acc: 0.7718722\n",
      "epoch: 37 train_loss: 0.4408585 train_acc: 0.737807\n",
      "epoch: 37 valid_loss: 0.4298865 valid_acc: 0.74594706\n",
      "epoch: 38 train_loss: 0.3622051 train_acc: 0.7537793\n",
      "epoch: 38 valid_loss: 0.54703975 valid_acc: 0.772009\n",
      "epoch: 39 train_loss: 0.38071167 train_acc: 0.8266981\n",
      "epoch: 39 valid_loss: 0.31731066 valid_acc: 0.80689514\n",
      "epoch: 40 train_loss: 0.34255856 train_acc: 0.7764553\n",
      "epoch: 40 valid_loss: 0.63726157 valid_acc: 0.70853\n",
      "epoch: 41 train_loss: 0.6271213 train_acc: 0.70394695\n",
      "epoch: 41 valid_loss: 0.62871426 valid_acc: 0.79540324\n",
      "epoch: 42 train_loss: 0.49041712 train_acc: 0.7873316\n",
      "epoch: 42 valid_loss: 0.67658687 valid_acc: 0.7341815\n",
      "epoch: 43 train_loss: 0.5041656 train_acc: 0.75364256\n",
      "epoch: 43 valid_loss: 0.25031695 valid_acc: 0.77707094\n",
      "epoch: 44 train_loss: 0.305648 train_acc: 0.7661263\n",
      "epoch: 44 valid_loss: 0.18300556 valid_acc: 0.8081948\n",
      "epoch: 45 train_loss: 0.3723392 train_acc: 0.8094945\n",
      "epoch: 45 valid_loss: 0.16300851 valid_acc: 0.82926327\n",
      "epoch: 46 train_loss: 0.28139928 train_acc: 0.78456116\n",
      "epoch: 46 valid_loss: 0.39824283 valid_acc: 0.7432109\n",
      "epoch: 47 train_loss: 0.3783236 train_acc: 0.77710515\n",
      "epoch: 47 valid_loss: 0.36168343 valid_acc: 0.7893153\n",
      "epoch: 48 train_loss: 0.36434603 train_acc: 0.77693415\n",
      "epoch: 48 valid_loss: 0.248047 valid_acc: 0.8243382\n",
      "epoch: 49 train_loss: 0.35880297 train_acc: 0.7846638\n",
      "epoch: 49 valid_loss: 0.3782866 valid_acc: 0.7544976\n",
      "epoch: 50 train_loss: 0.31299216 train_acc: 0.7764553\n",
      "epoch: 50 valid_loss: 0.40853316 valid_acc: 0.7521718\n",
      "epoch: 51 train_loss: 0.35303372 train_acc: 0.7798071\n",
      "epoch: 51 valid_loss: 0.4028249 valid_acc: 0.8358301\n",
      "epoch: 52 train_loss: 0.49225113 train_acc: 0.82146525\n",
      "epoch: 52 valid_loss: 0.40109706 valid_acc: 0.76079077\n",
      "epoch: 53 train_loss: 0.35035753 train_acc: 0.74574184\n",
      "epoch: 53 valid_loss: 0.42858052 valid_acc: 0.76776797\n",
      "epoch: 54 train_loss: 0.30987334 train_acc: 0.7749504\n",
      "epoch: 54 valid_loss: 0.21354088 valid_acc: 0.8095629\n",
      "epoch: 55 train_loss: 0.3169906 train_acc: 0.7606882\n",
      "epoch: 55 valid_loss: 0.20811032 valid_acc: 0.86825365\n",
      "epoch: 56 train_loss: 0.30050406 train_acc: 0.80840003\n",
      "epoch: 56 valid_loss: 0.2771507 valid_acc: 0.80087554\n",
      "epoch: 57 train_loss: 0.2543315 train_acc: 0.7991655\n",
      "epoch: 57 valid_loss: 0.29586944 valid_acc: 0.75059855\n",
      "epoch: 58 train_loss: 0.34067076 train_acc: 0.76181686\n",
      "epoch: 58 valid_loss: 0.14519988 valid_acc: 0.8324783\n",
      "epoch: 59 train_loss: 0.19136149 train_acc: 0.8141802\n",
      "epoch: 59 valid_loss: 0.39671463 valid_acc: 0.74396336\n",
      "epoch: 60 train_loss: 0.2658156 train_acc: 0.7734797\n",
      "epoch: 60 valid_loss: 0.27861726 valid_acc: 0.7808332\n",
      "epoch: 61 train_loss: 0.21706939 train_acc: 0.8031329\n",
      "epoch: 61 valid_loss: 0.33371374 valid_acc: 0.791983\n",
      "epoch: 62 train_loss: 0.222631 train_acc: 0.84858745\n",
      "epoch: 62 valid_loss: 0.2941119 valid_acc: 0.7643478\n",
      "epoch: 63 train_loss: 0.4381198 train_acc: 0.7421849\n",
      "epoch: 63 valid_loss: 0.390176 valid_acc: 0.7562761\n",
      "epoch: 64 train_loss: 0.5762293 train_acc: 0.7229974\n",
      "epoch: 64 valid_loss: 0.21223418 valid_acc: 0.8196867\n",
      "epoch: 65 train_loss: 0.34074455 train_acc: 0.7865449\n",
      "epoch: 65 valid_loss: 0.98822165 valid_acc: 0.7348656\n",
      "epoch: 66 train_loss: 1.1600412 train_acc: 0.7250154\n",
      "epoch: 66 valid_loss: 0.515749 valid_acc: 0.7750188\n",
      "epoch: 67 train_loss: 0.3990615 train_acc: 0.78784454\n",
      "epoch: 67 valid_loss: 0.31272733 valid_acc: 0.77358234\n",
      "epoch: 68 train_loss: 0.41984588 train_acc: 0.7501197\n",
      "epoch: 68 valid_loss: 0.60228217 valid_acc: 0.74341613\n",
      "epoch: 69 train_loss: 0.36996683 train_acc: 0.752206\n",
      "epoch: 69 valid_loss: 0.2944995 valid_acc: 0.78069633\n",
      "epoch: 70 train_loss: 0.2805867 train_acc: 0.79147\n",
      "epoch: 70 valid_loss: 0.40130213 valid_acc: 0.82173884\n",
      "epoch: 71 train_loss: 0.2765393 train_acc: 0.8309392\n",
      "epoch: 71 valid_loss: 0.35708997 valid_acc: 0.78678435\n",
      "epoch: 72 train_loss: 0.27577233 train_acc: 0.78640807\n",
      "epoch: 72 valid_loss: 0.1760464 valid_acc: 0.8058007\n",
      "epoch: 73 train_loss: 0.2693067 train_acc: 0.7701963\n",
      "epoch: 73 valid_loss: 0.24781808 valid_acc: 0.8410972\n",
      "epoch: 74 train_loss: 0.23012292 train_acc: 0.82457757\n",
      "epoch: 74 valid_loss: 0.2335594 valid_acc: 0.8720159\n",
      "epoch: 75 train_loss: 0.17691512 train_acc: 0.85423076\n",
      "epoch: 75 valid_loss: 0.2130052 valid_acc: 0.7718038\n",
      "epoch: 76 train_loss: 0.22308084 train_acc: 0.76592106\n",
      "epoch: 76 valid_loss: 0.14257826 valid_acc: 0.8131199\n"
     ]
    },
    {
     "name": "stdout",
     "output_type": "stream",
     "text": [
      "epoch: 77 train_loss: 0.15131849 train_acc: 0.8101443\n",
      "epoch: 77 valid_loss: 0.22622189 valid_acc: 0.8066899\n",
      "epoch: 78 train_loss: 0.23007813 train_acc: 0.82844245\n",
      "epoch: 78 valid_loss: 0.14697136 valid_acc: 0.8563513\n",
      "epoch: 79 train_loss: 0.17756346 train_acc: 0.8181818\n",
      "epoch: 79 valid_loss: 0.1501018 valid_acc: 0.80511665\n",
      "epoch: 80 train_loss: 0.15790522 train_acc: 0.82228607\n",
      "epoch: 80 valid_loss: 0.16086212 valid_acc: 0.8541624\n",
      "epoch: 81 train_loss: 0.18005219 train_acc: 0.82235444\n",
      "epoch: 81 valid_loss: 0.15695226 valid_acc: 0.8079212\n",
      "epoch: 82 train_loss: 0.20079273 train_acc: 0.8291949\n",
      "epoch: 82 valid_loss: 0.25153527 valid_acc: 0.7781654\n",
      "epoch: 83 train_loss: 0.28786922 train_acc: 0.77005947\n",
      "epoch: 83 valid_loss: 0.22224252 valid_acc: 0.82338053\n",
      "epoch: 84 train_loss: 0.20919408 train_acc: 0.81592447\n",
      "epoch: 84 valid_loss: 0.118921794 valid_acc: 0.8773514\n",
      "epoch: 85 train_loss: 0.17571715 train_acc: 0.83412\n",
      "epoch: 85 valid_loss: 0.30115885 valid_acc: 0.7447158\n",
      "epoch: 86 train_loss: 0.25646213 train_acc: 0.77577126\n",
      "epoch: 86 valid_loss: 0.21682477 valid_acc: 0.81742936\n",
      "epoch: 87 train_loss: 0.22385818 train_acc: 0.82536423\n",
      "epoch: 87 valid_loss: 0.25903758 valid_acc: 0.78226966\n",
      "epoch: 88 train_loss: 0.2902611 train_acc: 0.76571584\n",
      "epoch: 88 valid_loss: 0.1692904 valid_acc: 0.80087554\n",
      "epoch: 89 train_loss: 0.2732719 train_acc: 0.798584\n",
      "epoch: 89 valid_loss: 0.31845886 valid_acc: 0.8285108\n",
      "epoch: 90 train_loss: 0.23181334 train_acc: 0.8109994\n",
      "epoch: 90 valid_loss: 0.2896044 valid_acc: 0.7868527\n",
      "epoch: 91 train_loss: 0.25452203 train_acc: 0.77525824\n",
      "epoch: 91 valid_loss: 0.1535367 valid_acc: 0.83719814\n",
      "epoch: 92 train_loss: 0.24820095 train_acc: 0.8361037\n",
      "epoch: 92 valid_loss: 0.1964539 valid_acc: 0.7994391\n",
      "epoch: 93 train_loss: 0.30053186 train_acc: 0.76776797\n",
      "epoch: 93 valid_loss: 0.13467725 valid_acc: 0.82741636\n",
      "epoch: 94 train_loss: 0.16943546 train_acc: 0.8150352\n",
      "epoch: 94 valid_loss: 0.23834658 valid_acc: 0.8499897\n",
      "epoch: 95 train_loss: 0.1904628 train_acc: 0.8430125\n",
      "epoch: 95 valid_loss: 0.21205543 valid_acc: 0.79547167\n",
      "epoch: 96 train_loss: 0.19312608 train_acc: 0.79153836\n",
      "epoch: 96 valid_loss: 0.28209275 valid_acc: 0.83692455\n",
      "epoch: 97 train_loss: 0.25943688 train_acc: 0.7999521\n",
      "epoch: 97 valid_loss: 0.35222295 valid_acc: 0.758807\n",
      "epoch: 98 train_loss: 0.2933126 train_acc: 0.79235923\n",
      "epoch: 98 valid_loss: 0.22030035 valid_acc: 0.82228607\n",
      "epoch: 99 train_loss: 0.20687827 train_acc: 0.82091796\n",
      "epoch: 99 valid_loss: 0.32103908 valid_acc: 0.79554003\n",
      "epoch: 100 train_loss: 0.24624112 train_acc: 0.79663455\n",
      "epoch: 100 valid_loss: 0.16743536 valid_acc: 0.8391819\n"
     ]
    }
   ],
   "source": [
    "# We should save the after training and validation\n",
    "saver = tf.train.Saver() \n",
    "\n",
    "# Loss and accuracy of the model for training and validation\n",
    "train_loss_mean, valid_loss_mean = [], []\n",
    "train_acc_mean, valid_acc_mean = [], []\n",
    "\n",
    "# now that we can calculate loss and optimize, we can start a session for calculating the error.\n",
    "with tf.Session() as sess:\n",
    "    \n",
    "    # Initialize all the model parameters/variables\n",
    "    sess.run(fetches=tf.global_variables_initializer())\n",
    "    \n",
    "    # Restoring/loading/uploading the trained and validated model\n",
    "    saver.restore(sess,'checkpoints/mlp-fnirs-har.ckpt')\n",
    "    \n",
    "    # for every epoch start feeding the arrays into the tensors in the model\n",
    "    for epoch in range(train_epochs):\n",
    "        train_loss, valid_loss = [], []\n",
    "        train_acc, valid_acc = [], []\n",
    "        \n",
    "        # Training\n",
    "        for Xinputs, Yindices in get_batches(X=Xtrain, Y=Ytrain, batch_size=batch_size):\n",
    "            feed_dict = {model.Xinputs: Xinputs, model.Yindices: Yindices, model.training: True}\n",
    "            loss, acc, _ = sess.run(fetches=[model.loss, model.acc, model.opt], feed_dict=feed_dict)\n",
    "            train_loss.append(loss)\n",
    "            train_acc.append(acc)\n",
    "            \n",
    "        # printing out train and validation loss\n",
    "        print('epoch:', epoch+1, 'train_loss:', np.mean(train_loss), 'train_acc:', np.mean(train_acc))\n",
    "        \n",
    "        # Validation\n",
    "        for Xinputs, Yindices in get_batches(X=Xvalid, Y=Yvalid, batch_size=batch_size):\n",
    "            feed_dict = {model.Xinputs: Xinputs, model.Yindices: Yindices, model.training: True}\n",
    "            loss, acc = sess.run(fetches=[model.loss, model.acc], feed_dict=feed_dict)\n",
    "            valid_loss.append(loss)\n",
    "            valid_acc.append(acc)\n",
    "        \n",
    "        # printing out train and validation loss\n",
    "        print('epoch:', epoch+1, 'valid_loss:', np.mean(valid_loss), 'valid_acc:', np.mean(valid_acc))\n",
    "\n",
    "        #         # printing out train and validation loss\n",
    "        #         print('epoch:', epoch+1, \n",
    "        #               'train_loss:', np.mean(train_loss), 'valid_loss:', np.mean(valid_loss),\n",
    "        #               'train_acc:', np.mean(train_acc), 'valid_acc:', np.mean(valid_acc))\n",
    "        \n",
    "        # Saving the losses for plotting\n",
    "        train_loss_mean.append(np.mean(train_loss))\n",
    "        train_acc_mean.append(np.mean(train_acc))\n",
    "        valid_loss_mean.append(np.mean(valid_loss))\n",
    "        valid_acc_mean.append(np.mean(valid_acc))\n",
    "    \n",
    "    # Saving the trained and validated model\n",
    "    saver.save(sess,'checkpoints/mlp-fnirs-har.ckpt')"
   ]
  },
  {
   "cell_type": "code",
   "execution_count": 32,
   "metadata": {},
   "outputs": [
    {
     "data": {
      "text/plain": [
       "<matplotlib.legend.Legend at 0x7f3f3402e4e0>"
      ]
     },
     "execution_count": 32,
     "metadata": {},
     "output_type": "execute_result"
    },
    {
     "data": {
      "image/png": "[encoded data removed]",
      "text/plain": [
       "<Figure size 432x288 with 1 Axes>"
      ]
     },
     "metadata": {},
     "output_type": "display_data"
    }
   ],
   "source": [
    "import matplotlib.pyplot as mplot\n",
    "%matplotlib inline\n",
    "\n",
    "mplot.plot(train_loss_mean, label='train_loss_mean')\n",
    "mplot.plot(valid_loss_mean, label='valid_loss_mean')\n",
    "mplot.legend()"
   ]
  },
  {
   "cell_type": "code",
   "execution_count": 33,
   "metadata": {},
   "outputs": [
    {
     "data": {
      "text/plain": [
       "<matplotlib.legend.Legend at 0x7f3f1445dd68>"
      ]
     },
     "execution_count": 33,
     "metadata": {},
     "output_type": "execute_result"
    },
    {
     "data": {
      "image/png": "[encoded data removed]",
      "text/plain": [
       "<Figure size 432x288 with 1 Axes>"
      ]
     },
     "metadata": {},
     "output_type": "display_data"
    }
   ],
   "source": [
    "mplot.plot(train_acc_mean, label='train_acc_mean')\n",
    "mplot.plot(valid_acc_mean, label='valid_acc_mean')\n",
    "mplot.legend()"
   ]
  },
  {
   "cell_type": "code",
   "execution_count": 36,
   "metadata": {},
   "outputs": [
    {
     "name": "stdout",
     "output_type": "stream",
     "text": [
      "INFO:tensorflow:Restoring parameters from checkpoints/mlp-fnirs-har.ckpt\n",
      "test_loss: 0.19163126 test acc 0.83829266\n"
     ]
    }
   ],
   "source": [
    "with tf.Session() as sess:\n",
    "    sess.run(fetches=tf.global_variables_initializer())\n",
    "    \n",
    "    # Restoring/loading/uploading the trained and validated model\n",
    "    saver.restore(sess,'checkpoints/mlp-fnirs-har.ckpt')\n",
    "    \n",
    "    # Saving the test loss for every batch/minibtch\n",
    "    test_loss, test_acc = [], []\n",
    "    \n",
    "    # Testing\n",
    "    for Xinputs, Yindices in get_batches(X=Xtest, Y=Ytest, batch_size=batch_size):\n",
    "        feed_dict = {model.Xinputs: Xinputs, model.Yindices: Yindices, model.training: True}\n",
    "        loss, acc = sess.run(fetches=[model.loss, model.acc], feed_dict=feed_dict)\n",
    "        test_loss.append(loss)\n",
    "        test_acc.append(acc)\n",
    "        \n",
    "    # Printing the test loss\n",
    "    print('test_loss:', np.mean(test_loss), 'test acc', np.mean(test_acc))"
   ]
  },
  {
   "cell_type": "code",
   "execution_count": null,
   "metadata": {},
   "outputs": [],
   "source": [
    "# test_loss: 0.7203058 test acc 0.67275465"
   ]
  }
 ],
 "metadata": {
  "kernelspec": {
   "display_name": "Python 3",
   "language": "python",
   "name": "python3"
  },
  "language_info": {
   "codemirror_mode": {
    "name": "ipython",
    "version": 3
   },
   "file_extension": ".py",
   "mimetype": "text/x-python",
   "name": "python",
   "nbconvert_exporter": "python",
   "pygments_lexer": "ipython3",
   "version": "3.6.5"
  }
 },
 "nbformat": 4,
 "nbformat_minor": 2
}
