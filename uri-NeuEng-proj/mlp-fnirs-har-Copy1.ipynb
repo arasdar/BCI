{
 "cells": [
  {
   "cell_type": "markdown",
   "metadata": {},
   "source": [
    "# HAR (human activity recognition) using DNN/DL on fNIRS data"
   ]
  },
  {
   "cell_type": "code",
   "execution_count": 1,
   "metadata": {},
   "outputs": [
    {
     "name": "stdout",
     "output_type": "stream",
     "text": [
      "\u001b[0m\u001b[01;34mP11-4-17-2018\u001b[0m/  \u001b[01;34mP13-4-17-2018\u001b[0m/  \u001b[01;34mP15-4-18-2018\u001b[0m/  \u001b[01;34mP17-4-18-2018\u001b[0m/  \u001b[01;34mP19-4-19-2018\u001b[0m/\r\n",
      "\u001b[01;34mP12-4-17-2018\u001b[0m/  \u001b[01;34mP14-4-18-2018\u001b[0m/  \u001b[01;34mP16-4-18-2018\u001b[0m/  \u001b[01;34mP18-4-19-2018\u001b[0m/  \u001b[01;34mP20-4-19-2018\u001b[0m/\r\n"
     ]
    }
   ],
   "source": [
    "% ls /home/arasdar/datasets/fNIRs-data-10subjects/"
   ]
  },
  {
   "cell_type": "code",
   "execution_count": 2,
   "metadata": {},
   "outputs": [
    {
     "name": "stdout",
     "output_type": "stream",
     "text": [
      "\u001b[0m\u001b[01;34m1. Right Hand\u001b[0m/  \u001b[01;34m2. Both Hands\u001b[0m/  \u001b[01;34m3. Left Hand\u001b[0m/  \u001b[01;34m4. Right Leg\u001b[0m/  \u001b[01;34m5. Left Leg\u001b[0m/\r\n"
     ]
    }
   ],
   "source": [
    "% ls /home/arasdar/datasets/fNIRs-data-10subjects/P12-4-17-2018/"
   ]
  },
  {
   "cell_type": "code",
   "execution_count": 3,
   "metadata": {},
   "outputs": [
    {
     "name": "stdout",
     "output_type": "stream",
     "text": [
      "\u001b[0m\u001b[01;34m2018-04-17_006\u001b[0m/\r\n",
      "fNIR_data.txt\r\n",
      "head20180417-145130.txt\r\n",
      "NIRS-2018-04-17_006_deoxyhb_T141to2511_C1to20.txt\r\n",
      "NIRS-2018-04-17_006_oxyhb_T141to2511_C1to20.txt\r\n",
      "\u001b[01;34mProcessed\u001b[0m/\r\n",
      "r_hand20180417-145128.txt\r\n",
      "r_lower_arm20180417-145129.txt\r\n",
      "r_upper_arm20180417-145129.txt\r\n"
     ]
    }
   ],
   "source": [
    "% ls /home/arasdar/datasets/fNIRs-data-10subjects/P12-4-17-2018/1.\\ Right\\ Hand"
   ]
  },
  {
   "cell_type": "code",
   "execution_count": 4,
   "metadata": {},
   "outputs": [],
   "source": [
    "import numpy as np\n",
    "import os\n",
    "import pandas as pd\n",
    "\n",
    "# % find ../../datasets/fNIRs_data/ | grep fNIR_data # NOT WORKING!!\n",
    "def find_all(name, path):\n",
    "    result = []\n",
    "    for root, dirs, files in os.walk(path):\n",
    "        if name in files:\n",
    "            result.append(os.path.join(root, name))\n",
    "    return result\n",
    "\n",
    "allpaths = find_all(name='fNIR_data.txt', path='/home/arasdar/datasets/fNIRs-data-10subjects/')\n",
    "allpaths = sorted(allpaths, reverse=False)\n",
    "# print(allpaths, len(allpaths))\n",
    "# allpaths, len(allpaths)"
   ]
  },
  {
   "cell_type": "code",
   "execution_count": 5,
   "metadata": {},
   "outputs": [
    {
     "name": "stderr",
     "output_type": "stream",
     "text": [
      "/home/arasdar/anaconda3/envs/env/lib/python3.6/site-packages/pandas/io/parsers.py:678: UserWarning: Duplicate names specified. This will raise an error in the future.\n",
      "  return _read(filepath_or_buffer, kwds)\n"
     ]
    }
   ],
   "source": [
    "# df: data frame object\n",
    "df = []\n",
    "for each_idx in range(len(allpaths)):\n",
    "    file = pd.read_csv(filepath_or_buffer=allpaths[each_idx], names=['time', 'sample', \n",
    "                       'channel', 'channel', 'channel', 'channel', 'channel',\n",
    "                       'channel', 'channel', 'channel', 'channel', 'channel',\n",
    "                       'channel', 'channel', 'channel', 'channel', 'channel',\n",
    "                       'channel', 'channel', 'channel', 'channel', 'channel',\n",
    "                       'channel', 'channel', 'channel', 'channel', 'channel',\n",
    "                       'channel', 'channel', 'channel', 'channel', 'channel',\n",
    "                       'channel', 'channel', 'channel', 'channel', 'channel',\n",
    "                       'channel', 'channel', 'channel', 'channel', 'channel'],\n",
    "                         header=None)\n",
    "    df.append(file)\n",
    "    \n",
    "for each in range(len(df)):\n",
    "#     print(df[each].shape, allpaths[each])\n",
    "    df[each]=df[each].drop(axis=1, columns=None, index=None, labels=['time', 'sample'])\n",
    "    df[each] = df[each].dropna()\n",
    "    df[each]['channel.39'] = df[each]['channel.39'].astype(str).str[1:-1].astype(float)\n",
    "# print(len(df))"
   ]
  },
  {
   "cell_type": "code",
   "execution_count": 6,
   "metadata": {},
   "outputs": [
    {
     "name": "stderr",
     "output_type": "stream",
     "text": [
      "/home/arasdar/anaconda3/envs/env/lib/python3.6/site-packages/ipykernel_launcher.py:3: FutureWarning: Method .as_matrix will be removed in a future version. Use .values instead.\n",
      "  This is separate from the ipykernel package so we can avoid doing imports until\n"
     ]
    },
    {
     "data": {
      "text/plain": [
       "(48, 48)"
      ]
     },
     "execution_count": 6,
     "metadata": {},
     "output_type": "execute_result"
    }
   ],
   "source": [
    "data, labels = [], []\n",
    "for each in range(0, len(df), 1):\n",
    "    dfmat = df[each].as_matrix()\n",
    "    label = allpaths[each][59:60]\n",
    "#     print(dfmat.dtype, dfmat.shape, label, allpaths[each])\n",
    "    data.append(dfmat)\n",
    "    labels.append(label)\n",
    "len(data), len(labels)"
   ]
  },
  {
   "cell_type": "code",
   "execution_count": 7,
   "metadata": {},
   "outputs": [],
   "source": [
    "# This is very much like a convolution for extracting the windows\n",
    "# size/width, stride/overlap, padding, dilation, num filters/out channel\n",
    "def minibatching(X, Y, stride, width):\n",
    "    Xmb, Ymb = [], []\n",
    "    print(len(X), len(Y))\n",
    "    # 1st and 1st\n",
    "    for eachX in range(len(X)):\n",
    "        num_mb = ((X[eachX].shape[0]-width)//stride)+1\n",
    "        for each in range(num_mb):\n",
    "            # The max is (num_mb-1)*stride+width==X[idx].shape[0]\n",
    "            # The last each is (num_mb-1)\n",
    "            # each = ((each-1)*stride)+width\n",
    "            each *= stride\n",
    "            Xmb.append(X[eachX][each:each+width])\n",
    "            # There is only one label for one image signal or signal window or temporal window\n",
    "            #Ymb.append(Y[eachX][each:each+1])\n",
    "            Ymb.append(Y[eachX])\n",
    "    return Xmb, Ymb"
   ]
  },
  {
   "cell_type": "code",
   "execution_count": 8,
   "metadata": {},
   "outputs": [
    {
     "name": "stdout",
     "output_type": "stream",
     "text": [
      "48 48\n",
      "69615 69615\n",
      "(250, 40) float64\n",
      "1\n"
     ]
    }
   ],
   "source": [
    "# Width is based on the sampling rate which is roughly about 233 points per window\n",
    "# for 10sec rest and 20 sec activity\n",
    "width = 250\n",
    "Xmb, Ymb = minibatching(X=data, Y=labels, stride=1, width=width)\n",
    "# for eachX, eachY in zip(Xmb, Ymb):\n",
    "#     print(eachX.shape, eachY)\n",
    "print(len(Xmb), len(Ymb))\n",
    "print(Xmb[0].shape, Xmb[0].dtype)\n",
    "print(Ymb[0])"
   ]
  },
  {
   "cell_type": "code",
   "execution_count": 9,
   "metadata": {},
   "outputs": [
    {
     "name": "stdout",
     "output_type": "stream",
     "text": [
      "(69615, 250, 40) float64 (69615,) int64\n"
     ]
    }
   ],
   "source": [
    "# Conversion from python list to numpy array\n",
    "X, Y=np.array(object=Xmb, dtype=float), np.array(object=Ymb, dtype=int)\n",
    "print(X.shape, X.dtype, Y.shape, Y.dtype)"
   ]
  },
  {
   "cell_type": "code",
   "execution_count": 10,
   "metadata": {},
   "outputs": [
    {
     "name": "stdout",
     "output_type": "stream",
     "text": [
      "(48730, 250, 40) (20885, 250, 40) (48730,) (20885,)\n",
      "float64 float64 int64 int64\n"
     ]
    }
   ],
   "source": [
    "# Now I should devide the data into train and test\n",
    "# Train and valid split\n",
    "from sklearn.model_selection import train_test_split\n",
    "\n",
    "# 30% of the training data/ entire training data is assigned to validation.\n",
    "Xtrain, Xtest, Ytrain, Ytest = train_test_split(X, Y, test_size=0.30)\n",
    "print(Xtrain.shape, Xtest.shape, Ytrain.shape, Ytest.shape)\n",
    "print(Xtrain.dtype, Xtest.dtype, Ytrain.dtype, Ytest.dtype)"
   ]
  },
  {
   "cell_type": "code",
   "execution_count": 11,
   "metadata": {},
   "outputs": [],
   "source": [
    "# # # standardizing/normalizing the train and test data\n",
    "# # def standardize(train, test):\n",
    "# # \"\"\" Standardize data \"\"\"\n",
    "# # # Standardize train and test\n",
    "# # X_train = (train - np.mean(train, axis=0)[None,:,:]) / np.std(train, axis=0)[None,:,:]\n",
    "# # X_test = (test - np.mean(test, axis=0)[None,:,:]) / np.std(test, axis=0)[None,:,:]\n",
    "# # return X_train, X_test\n",
    "\n",
    "# Xtrain = (Xtrain - Xtrain.mean(axis=0))/ Xtrain.std(axis=0)\n",
    "# Xtest = (Xtest - Xtest.mean(axis=0))/ Xtest.std(axis=0)\n",
    "# print(Xtrain.shape, Xtrain.dtype)\n",
    "# print(Xtest.shape, Xtest.dtype)"
   ]
  },
  {
   "cell_type": "code",
   "execution_count": 12,
   "metadata": {},
   "outputs": [
    {
     "name": "stdout",
     "output_type": "stream",
     "text": [
      "[[0.23637019 0.20642145 0.18419498 ... 0.45873557 0.52787807 0.4957739 ]\n",
      " [0.2363584  0.20646367 0.18421331 ... 0.45872574 0.52779556 0.49575172]\n",
      " [0.23634598 0.20642679 0.18419851 ... 0.45878265 0.52781077 0.49579496]\n",
      " ...\n",
      " [0.23630736 0.20695692 0.18464566 ... 0.45977822 0.52907406 0.49861718]\n",
      " [0.23630134 0.20696392 0.18466867 ... 0.4597917  0.52903336 0.49861989]\n",
      " [0.23630062 0.20695497 0.18468713 ... 0.45972615 0.52906069 0.49861694]] [[0.19326227 0.16663829 0.22138985 ... 0.42345836 0.3297871  0.39493205]\n",
      " [0.19327974 0.1666823  0.22137178 ... 0.42346723 0.32972463 0.39490558]\n",
      " [0.19327901 0.16664062 0.22140734 ... 0.42352828 0.32968669 0.3949526 ]\n",
      " ...\n",
      " [0.19391031 0.16672848 0.22204604 ... 0.42310837 0.33131405 0.39838111]\n",
      " [0.19391192 0.1667266  0.22206008 ... 0.4231748  0.33129012 0.39839947]\n",
      " [0.19392901 0.16675071 0.22208091 ... 0.42313274 0.33135771 0.39840696]]\n"
     ]
    }
   ],
   "source": [
    "print(Xtrain.mean(axis=0), Xtrain.std(axis=0))"
   ]
  },
  {
   "cell_type": "code",
   "execution_count": 13,
   "metadata": {},
   "outputs": [
    {
     "name": "stdout",
     "output_type": "stream",
     "text": [
      "[[0.23572871 0.20442383 0.18514302 ... 0.46209134 0.52799438 0.49424844]\n",
      " [0.23575493 0.2043311  0.18510949 ... 0.46212982 0.52819059 0.49433338]\n",
      " [0.23578111 0.20442437 0.18515266 ... 0.46201408 0.52815248 0.49426973]\n",
      " ...\n",
      " [0.23571174 0.20497905 0.18568351 ... 0.46274734 0.52922574 0.49690166]\n",
      " [0.23572781 0.20496787 0.18563977 ... 0.46272001 0.52933713 0.49690032]\n",
      " [0.23573704 0.20499663 0.18560206 ... 0.46288294 0.52928229 0.49691164]] [[0.19235662 0.16583512 0.2223243  ... 0.42505091 0.32806638 0.39306703]\n",
      " [0.19232157 0.16572109 0.22237675 ... 0.42503557 0.3282151  0.39319328]\n",
      " [0.1923251  0.16581456 0.22230253 ... 0.42489153 0.32829699 0.39314936]\n",
      " ...\n",
      " [0.19308018 0.16608327 0.22307133 ... 0.42412843 0.32983952 0.39636917]\n",
      " [0.19307548 0.16609224 0.22303748 ... 0.42397507 0.32992723 0.39633696]\n",
      " [0.19304368 0.16604746 0.22299884 ... 0.42407569 0.32979748 0.39633043]]\n"
     ]
    }
   ],
   "source": [
    "print(Xtest.mean(axis=0), Xtest.std(axis=0))"
   ]
  },
  {
   "cell_type": "code",
   "execution_count": 14,
   "metadata": {},
   "outputs": [
    {
     "name": "stdout",
     "output_type": "stream",
     "text": [
      "(34111, 250, 40) (14619, 250, 40) (20885, 250, 40) float64 float64 float64\n",
      "(34111,) (14619,) (20885,) int64 int64 int64\n"
     ]
    }
   ],
   "source": [
    "# Now separating train and validation set\n",
    "# 30% of the training data/ entire training data is assigned to validation.\n",
    "Xtrain, Xvalid, Ytrain, Yvalid = train_test_split(Xtrain, Ytrain, test_size=0.30)\n",
    "print(Xtrain.shape, Xvalid.shape, Xtest.shape, Xtrain.dtype, Xvalid.dtype, Xtest.dtype)\n",
    "print(Ytrain.shape, Yvalid.shape, Ytest.shape, Ytrain.dtype, Yvalid.dtype, Ytest.dtype)"
   ]
  },
  {
   "cell_type": "code",
   "execution_count": 15,
   "metadata": {},
   "outputs": [
    {
     "name": "stdout",
     "output_type": "stream",
     "text": [
      "TensorFlow Version: 1.8.0\n",
      "Default GPU Device: /device:GPU:0\n"
     ]
    }
   ],
   "source": [
    "# In this one we should define and detect GPUs for tensorflow\n",
    "# GPUs or CPU\n",
    "import tensorflow as tf\n",
    "\n",
    "# Check TensorFlow Version\n",
    "print('TensorFlow Version: {}'.format(tf.__version__))\n",
    "\n",
    "# Check for a GPU\n",
    "print('Default GPU Device: {}'.format(tf.test.gpu_device_name()))"
   ]
  },
  {
   "cell_type": "code",
   "execution_count": 17,
   "metadata": {},
   "outputs": [],
   "source": [
    "def model_input(input_size, output_size):\n",
    "    #     N, W, Cin = Xvalid.shape[0], Xvalid.shape[1], Xvalid.shape[2]\n",
    "    Xinputs = tf.placeholder(dtype=tf.float32, shape=[None, *input_size], name='Xinputs')\n",
    "    \n",
    "    #     N, Cout = Yvalid.shape[0], Yvalid.shape[1]\n",
    "    Yindices = tf.placeholder(dtype=tf.int32, shape=[None], name='Yindices')\n",
    "    \n",
    "    # # Batchnorm mode: training and inference/testing/validation\n",
    "    # #is_bn_training = tf.placeholder(dtype=tf.bool, shape=[], name='is_bn_training')\n",
    "    # training = tf.placeholder(dtype=tf.bool, shape=[], name='training')\n",
    "\n",
    "    # returning input data/sequences, output labels/classes\n",
    "    return Xinputs, Yindices"
   ]
  },
  {
   "cell_type": "code",
   "execution_count": 18,
   "metadata": {},
   "outputs": [],
   "source": [
    "# Discriminator/ classifier/ recognizer\n",
    "def discriminator(Xinputs, input_size, output_size, hidden_size, training=True, reuse=False, alpha=0.1):\n",
    "    with tf.variable_scope('discriminator', reuse=reuse):\n",
    "        \n",
    "        # Flatten/Vectorize the input data tensor for FC/fully connected layer/Dense Layer\n",
    "        Xinputs_vec = tf.reshape(tensor=Xinputs, shape=[-1, input_size[0]*input_size[1]])\n",
    "        \n",
    "        # First fully connected layer\n",
    "        h1 = tf.layers.dense(inputs=Xinputs_vec, units=hidden_size)\n",
    "        bn1 = tf.layers.batch_normalization(h1, training=training)\n",
    "        nl1 = tf.maximum(alpha * bn1, bn1)\n",
    "        \n",
    "        # Second fully connected layer\n",
    "        h2 = tf.layers.dense(inputs=nl1, units=hidden_size)\n",
    "        bn2 = tf.layers.batch_normalization(h2, training=training)\n",
    "        nl2 = tf.maximum(alpha * bn2, bn2)\n",
    "        \n",
    "        # Output layer\n",
    "        logits = tf.layers.dense(inputs=nl2, units=output_size)   \n",
    "        #predictions = tf.nn.softmax(logits)\n",
    "        \n",
    "        # return output logits for loss and accuracy\n",
    "        return logits"
   ]
  },
  {
   "cell_type": "code",
   "execution_count": 19,
   "metadata": {},
   "outputs": [],
   "source": [
    "# # Discriminator/ classifier/ recognizer\n",
    "# def discriminator(Xinputs, input_size, output_size, hidden_size, reuse=False, alpha=0.1, training=True):\n",
    "#     with tf.variable_scope('discriminator', reuse=reuse):\n",
    "        \n",
    "#         # Flatten/Vectorize the input data tensor for FC/fully connected layer/Dense Layer\n",
    "#         Xinputs_vec = tf.reshape(tensor=Xinputs, shape=[-1, input_size[0]*input_size[1]])\n",
    "        \n",
    "#         # First fully connected layer\n",
    "#         h1 = tf.layers.dense(inputs=Xinputs_vec, units=hidden_size)\n",
    "#         nl1 = tf.maximum(alpha * h1, h1)\n",
    "        \n",
    "#         # Second fully connected layer\n",
    "#         h2 = tf.layers.dense(inputs=nl1, units=hidden_size)\n",
    "#         nl2 = tf.maximum(alpha * h2, h2)\n",
    "        \n",
    "#         # Output layer\n",
    "#         logits = tf.layers.dense(inputs=nl2, units=output_size)   \n",
    "#         #predictions = tf.nn.softmax(logits)\n",
    "        \n",
    "#         # return output logits for loss and accuracy\n",
    "#         return logits"
   ]
  },
  {
   "cell_type": "code",
   "execution_count": 20,
   "metadata": {},
   "outputs": [],
   "source": [
    "# This is the forward propagation of the model to calculate the loss.\n",
    "def model_loss(Xinputs, Yindices, input_size, output_size, hidden_size):\n",
    "    Ylogits = discriminator(Xinputs=Xinputs, input_size=input_size, output_size=output_size, \n",
    "                            hidden_size=hidden_size)\n",
    "    Ylabels = tf.one_hot(indices=Yindices, depth=output_size, dtype=Ylogits.dtype)\n",
    "    \n",
    "    loss = tf.reduce_mean(tf.nn.softmax_cross_entropy_with_logits_v2(logits=Ylogits, labels=Ylabels))\n",
    "    \n",
    "    acc_tensor = tf.equal(x=tf.argmax(axis=1, input=Ylogits), y=tf.argmax(axis=1, input=Ylabels))\n",
    "    acc = tf.reduce_mean(axis=0, input_tensor=tf.cast(dtype=tf.float32, x=acc_tensor))\n",
    "\n",
    "    return loss, acc"
   ]
  },
  {
   "cell_type": "code",
   "execution_count": 21,
   "metadata": {},
   "outputs": [],
   "source": [
    "# def model_opt(loss, learning_rate):\n",
    "#     \"\"\"\n",
    "#     Get optimization operations in order\n",
    "#     :param loss: Discriminator/classifier loss Tensor\n",
    "#     :param learning_rate: Learning Rate Placeholder\n",
    "#     :return: A tuple of (discriminator training)\n",
    "#     \"\"\"\n",
    "#     # Get weights and bias to update\n",
    "#     t_vars = tf.trainable_variables()\n",
    "#     # q_vars = [var for var in t_vars if var.name.startswith('qfunction')] # Q: action At/at\n",
    "#     # g_vars = [var for var in t_vars if var.name.startswith('generator')] # G: next state St/st\n",
    "#     # d_vars = [var for var in t_vars if var.name.startswith('discriminator')] # D: reward Rt/rt\n",
    "#     var_list = [var for var in t_vars if var.name.startswith('discriminator')] # D: reward Rt/rt\n",
    "    \n",
    "#     # Optimize\n",
    "#     with tf.control_dependencies(tf.get_collection(tf.GraphKeys.UPDATE_OPS)):\n",
    "#         # q_opt = tf.train.AdamOptimizer(learning_rate).minimize(q_loss, var_list=q_vars)\n",
    "#         # g_opt = tf.train.AdamOptimizer(learning_rate).minimize(g_loss, var_list=g_vars)\n",
    "#         # d_opt = tf.train.AdamOptimizer(learning_rate).minimize(d_loss, var_list=d_vars)\n",
    "#         opt = tf.train.AdamOptimizer(learning_rate).minimize(loss, var_list=var_list)\n",
    "\n",
    "#     return opt"
   ]
  },
  {
   "cell_type": "code",
   "execution_count": 22,
   "metadata": {},
   "outputs": [],
   "source": [
    "class MLP:\n",
    "    def __init__(self, input_size, output_size, hidden_size, learning_rate):\n",
    "\n",
    "        # Data of the Model: make the data available inside the framework\n",
    "        self.Xinputs, self.Yindices = model_input(input_size=input_size, output_size=output_size)\n",
    "\n",
    "        # Create the Model: calculating the loss and forwad pass\n",
    "        self.loss, self.acc = model_loss(Xinputs=self.Xinputs, Yindices=self.Yindices,\n",
    "                                         input_size=input_size, output_size=output_size, hidden_size=hidden_size)\n",
    "\n",
    "        # Update the model: backward pass and backprop\n",
    "        #self.opt = model_opt(loss=self.loss, learning_rate=learning_rate)\n",
    "        self.opt = tf.train.AdamOptimizer(learning_rate).minimize(self.loss)"
   ]
  },
  {
   "cell_type": "code",
   "execution_count": 23,
   "metadata": {},
   "outputs": [],
   "source": [
    "def get_batches(X, Y, batch_size):\n",
    "    \"\"\" Return a generator for batches \"\"\"\n",
    "    n_batches = len(X) // batch_size\n",
    "    X, Y = X[:n_batches*batch_size], Y[:n_batches*batch_size]\n",
    "\n",
    "    # Loop over batches and yield\n",
    "    for b in range(0, len(X), batch_size):\n",
    "        yield X[b:b+batch_size], Y[b:b+batch_size]"
   ]
  },
  {
   "cell_type": "code",
   "execution_count": 24,
   "metadata": {},
   "outputs": [],
   "source": [
    "# Network Hyper-parameters\n",
    "\n",
    "# # Input\n",
    "# Xwidth, Xchannels = Xvalid.shape[1], Xvalid.shape[2]\n",
    "\n",
    "# Output layer\n",
    "assert Ytrain.max()==Ytest.max()==Yvalid.max(), 'Output classes'\n",
    "# Ychannels = Yvalid.max()\n",
    "\n",
    "# Hidden layer\n",
    "input_size = [Xvalid.shape[1], Xvalid.shape[2]]\n",
    "hidden_size = Xvalid.shape[1]* Xvalid.shape[2]\n",
    "output_size = Yvalid.max()\n",
    "\n",
    "# learning parameters\n",
    "batch_size = Xvalid.shape[0]//1 # experience mini-batch size\n",
    "train_epochs = 100               # max number of training episodes/epochs\n",
    "learning_rate = 0.001            # learning rate for training/optimization/adam"
   ]
  },
  {
   "cell_type": "code",
   "execution_count": 25,
   "metadata": {},
   "outputs": [
    {
     "name": "stdout",
     "output_type": "stream",
     "text": [
      "Yvalid.max(), Yvalid.min(): 5 1\n",
      "Yvalid.shape: (14619,)\n",
      "Xvalid.shape: (14619, 250, 40)\n"
     ]
    }
   ],
   "source": [
    "print('Yvalid.max(), Yvalid.min():', Yvalid.max(), Yvalid.min())\n",
    "print('Yvalid.shape:', Yvalid.shape)\n",
    "print('Xvalid.shape:', Xvalid.shape)"
   ]
  },
  {
   "cell_type": "code",
   "execution_count": 26,
   "metadata": {},
   "outputs": [],
   "source": [
    "tf.reset_default_graph()\n",
    "\n",
    "model = MLP(input_size=input_size, hidden_size=hidden_size, output_size=output_size, learning_rate=learning_rate)"
   ]
  },
  {
   "cell_type": "code",
   "execution_count": 27,
   "metadata": {},
   "outputs": [
    {
     "name": "stdout",
     "output_type": "stream",
     "text": [
      "epoch: 1 train_loss: 7.794896 train_acc: 0.17778233\n",
      "epoch: 1 valid_loss: 11.201307 valid_acc: 0.30761337\n",
      "epoch: 2 train_loss: 9.761724 train_acc: 0.31558245\n",
      "epoch: 2 valid_loss: 6.365577 valid_acc: 0.4104932\n",
      "epoch: 3 train_loss: 6.025879 train_acc: 0.4071756\n",
      "epoch: 3 valid_loss: 4.861468 valid_acc: 0.37895888\n",
      "epoch: 4 train_loss: 4.741349 train_acc: 0.37393117\n",
      "epoch: 4 valid_loss: 3.9105365 valid_acc: 0.39031398\n",
      "epoch: 5 train_loss: 3.4440317 train_acc: 0.41924894\n",
      "epoch: 5 valid_loss: 2.5670578 valid_acc: 0.47096244\n",
      "epoch: 6 train_loss: 2.4985185 train_acc: 0.46265134\n",
      "epoch: 6 valid_loss: 2.0360177 valid_acc: 0.46795267\n",
      "epoch: 7 train_loss: 1.9383054 train_acc: 0.47465628\n",
      "epoch: 7 valid_loss: 1.778005 valid_acc: 0.47718722\n",
      "epoch: 8 train_loss: 1.7659402 train_acc: 0.47923934\n",
      "epoch: 8 valid_loss: 1.4144932 valid_acc: 0.5028388\n",
      "epoch: 9 train_loss: 1.2716937 train_acc: 0.526062\n",
      "epoch: 9 valid_loss: 1.1188365 valid_acc: 0.55106366\n",
      "epoch: 10 train_loss: 1.1424346 train_acc: 0.5182297\n",
      "epoch: 10 valid_loss: 1.2361094 valid_acc: 0.4650797\n",
      "epoch: 11 train_loss: 1.1498656 train_acc: 0.48115465\n",
      "epoch: 11 valid_loss: 0.9494527 valid_acc: 0.5605035\n",
      "epoch: 12 train_loss: 0.8983395 train_acc: 0.57090086\n",
      "epoch: 12 valid_loss: 0.85917485 valid_acc: 0.60496616\n",
      "epoch: 13 train_loss: 0.8756294 train_acc: 0.58465016\n",
      "epoch: 13 valid_loss: 0.84058297 valid_acc: 0.54408646\n",
      "epoch: 14 train_loss: 0.8086703 train_acc: 0.58369243\n",
      "epoch: 14 valid_loss: 0.75475824 valid_acc: 0.56672823\n",
      "epoch: 15 train_loss: 0.76447356 train_acc: 0.533518\n",
      "epoch: 15 valid_loss: 0.76836395 valid_acc: 0.5430604\n",
      "epoch: 16 train_loss: 0.7418649 train_acc: 0.56642044\n",
      "epoch: 16 valid_loss: 0.6809679 valid_acc: 0.60496616\n",
      "epoch: 17 train_loss: 0.65999466 train_acc: 0.6108147\n",
      "epoch: 17 valid_loss: 0.6284234 valid_acc: 0.63390106\n",
      "epoch: 18 train_loss: 0.63786423 train_acc: 0.6152952\n",
      "epoch: 18 valid_loss: 0.6088673 valid_acc: 0.6298652\n",
      "epoch: 19 train_loss: 0.5973443 train_acc: 0.63656884\n",
      "epoch: 19 valid_loss: 0.58627015 valid_acc: 0.616116\n",
      "epoch: 20 train_loss: 0.5917593 train_acc: 0.6143375\n",
      "epoch: 20 valid_loss: 0.5917135 valid_acc: 0.6336959\n",
      "epoch: 21 train_loss: 0.589478 train_acc: 0.635064\n",
      "epoch: 21 valid_loss: 0.5591647 valid_acc: 0.66837674\n",
      "epoch: 22 train_loss: 0.5552075 train_acc: 0.66943705\n",
      "epoch: 22 valid_loss: 0.54117113 valid_acc: 0.66427255\n",
      "epoch: 23 train_loss: 0.5389117 train_acc: 0.65524316\n",
      "epoch: 23 valid_loss: 0.5164515 valid_acc: 0.68691427\n",
      "epoch: 24 train_loss: 0.5094963 train_acc: 0.69543064\n",
      "epoch: 24 valid_loss: 0.48084044 valid_acc: 0.69286543\n",
      "epoch: 25 train_loss: 0.48194546 train_acc: 0.68120253\n",
      "epoch: 25 valid_loss: 0.4800228 valid_acc: 0.6569533\n",
      "epoch: 26 train_loss: 0.47980008 train_acc: 0.6723442\n",
      "epoch: 26 valid_loss: 0.4679463 valid_acc: 0.69279706\n",
      "epoch: 27 train_loss: 0.4659133 train_acc: 0.7025105\n",
      "epoch: 27 valid_loss: 0.46538258 valid_acc: 0.70271564\n",
      "epoch: 28 train_loss: 0.46198556 train_acc: 0.7110268\n",
      "epoch: 28 valid_loss: 0.45096692 valid_acc: 0.72111636\n",
      "epoch: 29 train_loss: 0.44226244 train_acc: 0.7250838\n",
      "epoch: 29 valid_loss: 0.4292875 valid_acc: 0.71489155\n",
      "epoch: 30 train_loss: 0.4266363 train_acc: 0.7172173\n",
      "epoch: 30 valid_loss: 0.42345884 valid_acc: 0.70257884\n",
      "epoch: 31 train_loss: 0.42416012 train_acc: 0.7077092\n",
      "epoch: 31 valid_loss: 0.42714334 valid_acc: 0.7169437\n",
      "epoch: 32 train_loss: 0.43102306 train_acc: 0.7241945\n",
      "epoch: 32 valid_loss: 0.43400097 valid_acc: 0.7220056\n",
      "epoch: 33 train_loss: 0.4254992 train_acc: 0.72156096\n",
      "epoch: 33 valid_loss: 0.40570733 valid_acc: 0.71242905\n",
      "epoch: 34 train_loss: 0.4028568 train_acc: 0.7189274\n",
      "epoch: 34 valid_loss: 0.39904577 valid_acc: 0.72508377\n",
      "epoch: 35 train_loss: 0.39891005 train_acc: 0.7349682\n",
      "epoch: 35 valid_loss: 0.40149924 valid_acc: 0.734934\n",
      "epoch: 36 train_loss: 0.40043396 train_acc: 0.73623365\n",
      "epoch: 36 valid_loss: 0.40390688 valid_acc: 0.7367125\n",
      "epoch: 37 train_loss: 0.39415827 train_acc: 0.7409878\n",
      "epoch: 37 valid_loss: 0.382515 valid_acc: 0.72953004\n",
      "epoch: 38 train_loss: 0.38086385 train_acc: 0.7381148\n",
      "epoch: 38 valid_loss: 0.3909998 valid_acc: 0.7296669\n",
      "epoch: 39 train_loss: 0.3912437 train_acc: 0.7425268\n",
      "epoch: 39 valid_loss: 0.40389445 valid_acc: 0.7418428\n",
      "epoch: 40 train_loss: 0.4012162 train_acc: 0.74888843\n",
      "epoch: 40 valid_loss: 0.4056726 valid_acc: 0.7370545\n",
      "epoch: 41 train_loss: 0.40053362 train_acc: 0.7380806\n",
      "epoch: 41 valid_loss: 0.40623885 valid_acc: 0.72460496\n",
      "epoch: 42 train_loss: 0.4021533 train_acc: 0.73404473\n",
      "epoch: 42 valid_loss: 0.40724653 valid_acc: 0.7366441\n",
      "epoch: 43 train_loss: 0.39971304 train_acc: 0.74454474\n",
      "epoch: 43 valid_loss: 0.395923 valid_acc: 0.7443054\n",
      "epoch: 44 train_loss: 0.3880106 train_acc: 0.7459813\n",
      "epoch: 44 valid_loss: 0.40706638 valid_acc: 0.7376702\n",
      "epoch: 45 train_loss: 0.4030627 train_acc: 0.7358233\n",
      "epoch: 45 valid_loss: 0.40811995 valid_acc: 0.73890144\n",
      "epoch: 46 train_loss: 0.38473994 train_acc: 0.7405089\n",
      "epoch: 46 valid_loss: 0.36085418 valid_acc: 0.7454682\n",
      "epoch: 47 train_loss: 0.37072623 train_acc: 0.74451053\n",
      "epoch: 47 valid_loss: 0.40436468 valid_acc: 0.7350708\n",
      "epoch: 48 train_loss: 0.41419828 train_acc: 0.72785413\n",
      "epoch: 48 valid_loss: 0.35868123 valid_acc: 0.7732403\n",
      "epoch: 49 train_loss: 0.34598595 train_acc: 0.76246667\n",
      "epoch: 49 valid_loss: 0.38947445 valid_acc: 0.73691773\n",
      "epoch: 50 train_loss: 0.3645292 train_acc: 0.74122715\n",
      "epoch: 50 valid_loss: 0.35421756 valid_acc: 0.7680416\n",
      "epoch: 51 train_loss: 0.41916698 train_acc: 0.73729396\n",
      "epoch: 51 valid_loss: 0.3853648 valid_acc: 0.7482728\n",
      "epoch: 52 train_loss: 0.37008312 train_acc: 0.7479992\n",
      "epoch: 52 valid_loss: 0.3685596 valid_acc: 0.7241945\n",
      "epoch: 53 train_loss: 0.36579555 train_acc: 0.74068\n",
      "epoch: 53 valid_loss: 0.37714183 valid_acc: 0.7455366\n",
      "epoch: 54 train_loss: 0.37997723 train_acc: 0.73127437\n",
      "epoch: 54 valid_loss: 0.64616865 valid_acc: 0.62658185\n",
      "epoch: 55 train_loss: 0.5153378 train_acc: 0.6622546\n",
      "epoch: 55 valid_loss: 0.5473909 valid_acc: 0.6938915\n",
      "epoch: 56 train_loss: 0.5557914 train_acc: 0.7238525\n",
      "epoch: 56 valid_loss: 0.45544672 valid_acc: 0.76079077\n",
      "epoch: 57 train_loss: 0.47113153 train_acc: 0.71458375\n",
      "epoch: 57 valid_loss: 0.41567808 valid_acc: 0.67172855\n",
      "epoch: 58 train_loss: 0.40376833 train_acc: 0.6810999\n",
      "epoch: 58 valid_loss: 0.48348725 valid_acc: 0.71892744\n",
      "epoch: 59 train_loss: 0.47340602 train_acc: 0.70791435\n",
      "epoch: 59 valid_loss: 0.40134618 valid_acc: 0.748478\n",
      "epoch: 60 train_loss: 0.42322415 train_acc: 0.734763\n",
      "epoch: 60 valid_loss: 0.474147 valid_acc: 0.6473083\n",
      "epoch: 61 train_loss: 0.4666521 train_acc: 0.68725634\n",
      "epoch: 61 valid_loss: 0.52184325 valid_acc: 0.7386278\n",
      "epoch: 62 train_loss: 0.5634398 train_acc: 0.6953964\n",
      "epoch: 62 valid_loss: 0.7717615 valid_acc: 0.5962104\n",
      "epoch: 63 train_loss: 0.7427604 train_acc: 0.6126958\n",
      "epoch: 63 valid_loss: 0.63044935 valid_acc: 0.6399891\n",
      "epoch: 64 train_loss: 0.7007179 train_acc: 0.6326014\n",
      "epoch: 64 valid_loss: 0.56169367 valid_acc: 0.7219372\n",
      "epoch: 65 train_loss: 0.58773863 train_acc: 0.6926944\n",
      "epoch: 65 valid_loss: 0.8220317 valid_acc: 0.6160476\n",
      "epoch: 66 train_loss: 0.7939526 train_acc: 0.60069084\n",
      "epoch: 66 valid_loss: 0.5185254 valid_acc: 0.6693344\n",
      "epoch: 67 train_loss: 0.6487044 train_acc: 0.6436145\n",
      "epoch: 67 valid_loss: 0.6049736 valid_acc: 0.63191736\n",
      "epoch: 68 train_loss: 0.6265859 train_acc: 0.6517204\n",
      "epoch: 68 valid_loss: 0.4693776 valid_acc: 0.6937547\n",
      "epoch: 69 train_loss: 0.508416 train_acc: 0.6710445\n",
      "epoch: 69 valid_loss: 0.8834682 valid_acc: 0.6111225\n",
      "epoch: 70 train_loss: 1.0511286 train_acc: 0.60428214\n",
      "epoch: 70 valid_loss: 0.901639 valid_acc: 0.5769889\n",
      "epoch: 71 train_loss: 0.91936064 train_acc: 0.5569464\n",
      "epoch: 71 valid_loss: 0.7384278 valid_acc: 0.6419728\n",
      "epoch: 72 train_loss: 0.7849487 train_acc: 0.61043847\n",
      "epoch: 72 valid_loss: 0.89464617 valid_acc: 0.60058826\n",
      "epoch: 73 train_loss: 0.9450674 train_acc: 0.60175115\n",
      "epoch: 73 valid_loss: 0.7367143 valid_acc: 0.606471\n",
      "epoch: 74 train_loss: 0.6218314 train_acc: 0.6473083\n",
      "epoch: 74 valid_loss: 1.0304724 valid_acc: 0.61037004\n",
      "epoch: 75 train_loss: 1.0011806 train_acc: 0.6507969\n",
      "epoch: 75 valid_loss: 0.9688317 valid_acc: 0.67973185\n",
      "epoch: 76 train_loss: 1.4998832 train_acc: 0.6036665\n",
      "epoch: 76 valid_loss: 0.7319531 valid_acc: 0.61344826\n",
      "epoch: 77 train_loss: 0.8676186 train_acc: 0.61909163\n"
     ]
    },
    {
     "name": "stdout",
     "output_type": "stream",
     "text": [
      "epoch: 77 valid_loss: 1.0183585 valid_acc: 0.59142214\n",
      "epoch: 78 train_loss: 0.9704224 train_acc: 0.6042137\n",
      "epoch: 78 valid_loss: 0.9735984 valid_acc: 0.5813667\n",
      "epoch: 79 train_loss: 0.8746164 train_acc: 0.61734724\n",
      "epoch: 79 valid_loss: 1.0577918 valid_acc: 0.5581093\n",
      "epoch: 80 train_loss: 0.90153766 train_acc: 0.6211095\n",
      "epoch: 80 valid_loss: 0.5556211 valid_acc: 0.7419796\n",
      "epoch: 81 train_loss: 0.7468107 train_acc: 0.725973\n",
      "epoch: 81 valid_loss: 0.9602521 valid_acc: 0.70606744\n",
      "epoch: 82 train_loss: 0.72458863 train_acc: 0.69970584\n",
      "epoch: 82 valid_loss: 0.68995845 valid_acc: 0.68308365\n",
      "epoch: 83 train_loss: 0.6807029 train_acc: 0.66605103\n",
      "epoch: 83 valid_loss: 1.1144801 valid_acc: 0.6474451\n",
      "epoch: 84 train_loss: 0.79855305 train_acc: 0.67973185\n",
      "epoch: 84 valid_loss: 0.6380516 valid_acc: 0.63273823\n",
      "epoch: 85 train_loss: 0.7076428 train_acc: 0.6451536\n",
      "epoch: 85 valid_loss: 0.42717505 valid_acc: 0.71673846\n",
      "epoch: 86 train_loss: 0.46174538 train_acc: 0.7658185\n",
      "epoch: 86 valid_loss: 0.73784983 valid_acc: 0.69409674\n",
      "epoch: 87 train_loss: 0.93680346 train_acc: 0.71225804\n",
      "epoch: 87 valid_loss: 2.5579383 valid_acc: 0.59655243\n",
      "epoch: 88 train_loss: 1.6479204 train_acc: 0.6406731\n",
      "epoch: 88 valid_loss: 0.99184453 valid_acc: 0.6806211\n",
      "epoch: 89 train_loss: 0.731537 train_acc: 0.6793214\n",
      "epoch: 89 valid_loss: 0.6895897 valid_acc: 0.6772009\n",
      "epoch: 90 train_loss: 0.6037604 train_acc: 0.6746699\n",
      "epoch: 90 valid_loss: 1.0652502 valid_acc: 0.64470893\n",
      "epoch: 91 train_loss: 0.9116345 train_acc: 0.6832205\n",
      "epoch: 91 valid_loss: 0.57882154 valid_acc: 0.7367809\n",
      "epoch: 92 train_loss: 0.6155605 train_acc: 0.7405431\n",
      "epoch: 92 valid_loss: 0.703489 valid_acc: 0.7135919\n",
      "epoch: 93 train_loss: 0.6968461 train_acc: 0.7044941\n",
      "epoch: 93 valid_loss: 0.5684135 valid_acc: 0.7463575\n",
      "epoch: 94 train_loss: 0.5231235 train_acc: 0.7349682\n",
      "epoch: 94 valid_loss: 0.53642535 valid_acc: 0.7370545\n",
      "epoch: 95 train_loss: 0.4603996 train_acc: 0.73288184\n",
      "epoch: 95 valid_loss: 0.54968625 valid_acc: 0.7256994\n",
      "epoch: 96 train_loss: 0.64228594 train_acc: 0.7020316\n",
      "epoch: 96 valid_loss: 0.41236687 valid_acc: 0.7601067\n",
      "epoch: 97 train_loss: 0.61946225 train_acc: 0.717833\n",
      "epoch: 97 valid_loss: 0.514627 valid_acc: 0.69594365\n",
      "epoch: 98 train_loss: 0.5965439 train_acc: 0.70640945\n",
      "epoch: 98 valid_loss: 0.47524077 valid_acc: 0.7345236\n",
      "epoch: 99 train_loss: 0.7219697 train_acc: 0.70336545\n",
      "epoch: 99 valid_loss: 1.0549761 valid_acc: 0.64895\n",
      "epoch: 100 train_loss: 1.1531696 train_acc: 0.65856075\n",
      "epoch: 100 valid_loss: 0.69645786 valid_acc: 0.6917026\n"
     ]
    }
   ],
   "source": [
    "# We should save the after training and validation\n",
    "saver = tf.train.Saver() \n",
    "\n",
    "# Loss and accuracy of the model for training and validation\n",
    "train_loss_mean, valid_loss_mean = [], []\n",
    "train_acc_mean, valid_acc_mean = [], []\n",
    "\n",
    "# now that we can calculate loss and optimize, we can start a session for calculating the error.\n",
    "with tf.Session() as sess:\n",
    "    \n",
    "    # Initialize all the model parameters/variables\n",
    "    sess.run(fetches=tf.global_variables_initializer())\n",
    "    \n",
    "    #     # Restoring/loading/uploading the trained and validated model\n",
    "    #     saver.restore(sess,'checkpoints/mlp-fnirs-har.ckpt')\n",
    "    \n",
    "    # for every epoch start feeding the arrays into the tensors in the model\n",
    "    for epoch in range(train_epochs):\n",
    "        train_loss, valid_loss = [], []\n",
    "        train_acc, valid_acc = [], []\n",
    "        \n",
    "        # Training\n",
    "        for Xinputs, Yindices in get_batches(X=Xtrain, Y=Ytrain, batch_size=batch_size):\n",
    "            feed_dict = {model.Xinputs: Xinputs, model.Yindices: Yindices}\n",
    "            loss, acc, _ = sess.run(fetches=[model.loss, model.acc, model.opt], feed_dict=feed_dict)\n",
    "            train_loss.append(loss)\n",
    "            train_acc.append(acc)\n",
    "            \n",
    "        # printing out train and validation loss\n",
    "        print('epoch:', epoch+1, 'train_loss:', np.mean(train_loss), 'train_acc:', np.mean(train_acc))\n",
    "        \n",
    "        # Validation\n",
    "        for Xinputs, Yindices in get_batches(X=Xvalid, Y=Yvalid, batch_size=batch_size):\n",
    "            feed_dict = {model.Xinputs: Xinputs, model.Yindices: Yindices}\n",
    "            loss, acc = sess.run(fetches=[model.loss, model.acc], feed_dict=feed_dict)\n",
    "            valid_loss.append(loss)\n",
    "            valid_acc.append(acc)\n",
    "        \n",
    "        # printing out train and validation loss\n",
    "        print('epoch:', epoch+1, 'valid_loss:', np.mean(valid_loss), 'valid_acc:', np.mean(valid_acc))\n",
    "\n",
    "        #         # printing out train and validation loss\n",
    "        #         print('epoch:', epoch+1, \n",
    "        #               'train_loss:', np.mean(train_loss), 'valid_loss:', np.mean(valid_loss),\n",
    "        #               'train_acc:', np.mean(train_acc), 'valid_acc:', np.mean(valid_acc))\n",
    "        \n",
    "        # Saving the losses for plotting\n",
    "        train_loss_mean.append(np.mean(train_loss))\n",
    "        train_acc_mean.append(np.mean(train_acc))\n",
    "        valid_loss_mean.append(np.mean(valid_loss))\n",
    "        valid_acc_mean.append(np.mean(valid_acc))\n",
    "    \n",
    "    # Saving the trained and validated model\n",
    "    saver.save(sess,'checkpoints/mlp-fnirs-har.ckpt')"
   ]
  },
  {
   "cell_type": "code",
   "execution_count": 28,
   "metadata": {},
   "outputs": [
    {
     "data": {
      "text/plain": [
       "<matplotlib.legend.Legend at 0x7fe0e47d9438>"
      ]
     },
     "execution_count": 28,
     "metadata": {},
     "output_type": "execute_result"
    },
    {
     "data": {
      "image/png": "[encoded data removed]",
      "text/plain": [
       "<Figure size 432x288 with 1 Axes>"
      ]
     },
     "metadata": {},
     "output_type": "display_data"
    }
   ],
   "source": [
    "import matplotlib.pyplot as mplot\n",
    "%matplotlib inline\n",
    "\n",
    "mplot.plot(train_loss_mean, label='train_loss_mean')\n",
    "mplot.plot(valid_loss_mean, label='valid_loss_mean')\n",
    "mplot.legend()"
   ]
  },
  {
   "cell_type": "code",
   "execution_count": 29,
   "metadata": {},
   "outputs": [
    {
     "data": {
      "text/plain": [
       "<matplotlib.legend.Legend at 0x7fe0e47079b0>"
      ]
     },
     "execution_count": 29,
     "metadata": {},
     "output_type": "execute_result"
    },
    {
     "data": {
      "image/png": "[encoded data removed]",
      "text/plain": [
       "<Figure size 432x288 with 1 Axes>"
      ]
     },
     "metadata": {},
     "output_type": "display_data"
    }
   ],
   "source": [
    "mplot.plot(train_acc_mean, label='train_acc_mean')\n",
    "mplot.plot(valid_acc_mean, label='valid_acc_mean')\n",
    "mplot.legend()"
   ]
  },
  {
   "cell_type": "code",
   "execution_count": 30,
   "metadata": {},
   "outputs": [
    {
     "name": "stdout",
     "output_type": "stream",
     "text": [
      "INFO:tensorflow:Restoring parameters from checkpoints/mlp-fnirs-har.ckpt\n",
      "test_loss: 0.72192466 test acc 0.68486214\n"
     ]
    }
   ],
   "source": [
    "with tf.Session() as sess:\n",
    "    sess.run(fetches=tf.global_variables_initializer())\n",
    "    \n",
    "    # Restoring/loading/uploading the trained and validated model\n",
    "    saver.restore(sess,'checkpoints/mlp-fnirs-har.ckpt')\n",
    "    \n",
    "    # Saving the test loss for every batch/minibtch\n",
    "    test_loss, test_acc = [], []\n",
    "    \n",
    "    # Testing\n",
    "    for Xinputs, Yindices in get_batches(X=Xtest, Y=Ytest, batch_size=batch_size):\n",
    "        feed_dict = {model.Xinputs: Xinputs, model.Yindices: Yindices}\n",
    "        loss, acc = sess.run(fetches=[model.loss, model.acc], feed_dict=feed_dict)\n",
    "        test_loss.append(loss)\n",
    "        test_acc.append(acc)\n",
    "        \n",
    "    # Printing the test loss\n",
    "    print('test_loss:', np.mean(test_loss), 'test acc', np.mean(test_acc))"
   ]
  },
  {
   "cell_type": "code",
   "execution_count": null,
   "metadata": {},
   "outputs": [],
   "source": [
    "# test_loss: 0.7203058 test acc 0.67275465"
   ]
  }
 ],
 "metadata": {
  "kernelspec": {
   "display_name": "Python 3",
   "language": "python",
   "name": "python3"
  },
  "language_info": {
   "codemirror_mode": {
    "name": "ipython",
    "version": 3
   },
   "file_extension": ".py",
   "mimetype": "text/x-python",
   "name": "python",
   "nbconvert_exporter": "python",
   "pygments_lexer": "ipython3",
   "version": "3.6.5"
  }
 },
 "nbformat": 4,
 "nbformat_minor": 2
}
